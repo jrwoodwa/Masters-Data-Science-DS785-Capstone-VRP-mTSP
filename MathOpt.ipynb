{
 "cells": [
  {
   "cell_type": "markdown",
   "id": "564d967a-6f45-4721-a82b-a09c750fc402",
   "metadata": {},
   "source": [
    "\n",
    "# single-depot VRP-TW generalized among $k$ machines\n",
    "\n",
    "- Single depot vehicle routing problem - time windows, generalized among k machines."
   ]
  },
  {
   "cell_type": "markdown",
   "id": "85ea5829-1ff5-4c62-8523-0887bb89c1a6",
   "metadata": {
    "jp-MarkdownHeadingCollapsed": true
   },
   "source": [
    "#### Preliminary unit testing and checking complexity level"
   ]
  },
  {
   "cell_type": "code",
   "execution_count": 1,
   "id": "1dbf6f96-a442-470e-b129-0ad84a81295f",
   "metadata": {},
   "outputs": [],
   "source": [
    "### Good unit test for error-proofing optimization!!!\n",
    "\n",
    "def validate_jobs(jobs, jobsno_k_sets):\n",
    "    '''\n",
    "    This verifies that the job list and their qualifications don't cause an error.\n",
    "    '''\n",
    "    # Find intersection of unqualified jobs\n",
    "    intersection_jobsno = set(jobs).intersection(*jobsno_k_sets)\n",
    "    \n",
    "    # Check if any job unqualified for all\n",
    "    if intersection_jobsno: # Raise error if unqualified job/s exist in all sets\n",
    "        raise ValueError(f\"At least one job is unqualified for all machines--job/s: {intersection_jobsno}\")\n",
    "    \n",
    "    return None\n",
    "\n",
    "# Example usage\n",
    "jobs = {1, 2, 3, 4, 5, 6, 7}  # All jobs\n",
    "jobsno_1 = {1, 2, 4}  # Unqualified jobs (JOBS NO) for machine 1\n",
    "jobsno_2 = {6, 3}     # Unqualified jobs for machine 2\n",
    "\n",
    "validate_jobs(jobs, [jobsno_1, jobsno_2])\n"
   ]
  },
  {
   "cell_type": "code",
   "execution_count": 2,
   "id": "902149f5-5d49-41c7-819c-768ead474208",
   "metadata": {},
   "outputs": [
    {
     "name": "stdout",
     "output_type": "stream",
     "text": [
      "6\n",
      "3\n"
     ]
    }
   ],
   "source": [
    "import math\n",
    "\n",
    "# Number of edges (E)\n",
    "num_edges = lambda N: math.ceil(N * (N - 1) / 2)\n",
    "\n",
    "# Number of tour possibilities (T)\n",
    "num_tour_combinations = lambda N: int(math.factorial(N-1)/2) if N <= 8 else f\"{math.factorial(N-1)/2:.1e}\"\n",
    "\n",
    "print(num_edges(4))\n",
    "print(num_tour_combinations(4))"
   ]
  },
  {
   "cell_type": "markdown",
   "id": "582cb705-a816-43c5-aeb3-0cf952dcadbe",
   "metadata": {
    "jp-MarkdownHeadingCollapsed": true
   },
   "source": [
    "#### Used past Traveling Salesperson Problem (TSP) code from DS 745 as a basis with the VRPSolver class"
   ]
  },
  {
   "cell_type": "code",
   "execution_count": 7,
   "id": "a8ee899f-3fd4-4b69-9636-b175ebb0452a",
   "metadata": {},
   "outputs": [],
   "source": [
    "# ### DS 745 TSP Code / Also made adjustments 10/9/2024 JRW\n",
    "\n",
    "# import pyomo.environ as pyo\n",
    "# import time  # Import the time module\n",
    "# import multiprocessing # processor count\n",
    "\n",
    "# class TSPSolver:\n",
    "#     def __init__(self, cost_matrix, a, b, column_names=None, pre_solved_subtours=None):\n",
    "#         self.cost_matrix = cost_matrix\n",
    "#         self.a = a # arrival times (time window)\n",
    "#         self.b = b # expiration times (time window)\n",
    "#         self.column_names = column_names\n",
    "#         self.pre_solved_subtours = pre_solved_subtours\n",
    "#         self.model = None\n",
    "#         self.result = None\n",
    "\n",
    "#     def create_model(self, subtour_constraints=True):\n",
    "#         # Create a concrete Pyomo model\n",
    "#         self.model = pyo.ConcreteModel()\n",
    "\n",
    "#         # Define the indexes (square)\n",
    "#         n = len(self.cost_matrix)\n",
    "#         self.model.N = pyo.RangeSet(n)\n",
    "#         self.model.N_from1 = pyo.RangeSet(1, n) # verify this!\n",
    "#         self.model.k = pyo.RangeSet(2) # FOR NOW,!!!!!!!!! SHOULDN'T BE MAGIC NUMBER\n",
    "\n",
    "\n",
    "#         #### Parameters\n",
    "#         # cost matrix c_ijk\n",
    "#         self.model.c = pyo.Param(self.model.N, \n",
    "#                                  self.model.N, \n",
    "#                                  self.model.k, \n",
    "#                                  initialize=lambda model, i, j, k: self.cost_matrix[i - 1][j - 1][k - 1])\n",
    "\n",
    "#         # arrival times (EXPECTED) a\n",
    "#         self.model.a = pyo.Param(self.model.N,\n",
    "#                                  initialize=lambda model, i: self.a[i - 1])\n",
    "\n",
    "#         # expiration times (soft constraint) b\n",
    "#         self.model.b = pyo.Param(self.model.N,\n",
    "#                                  initialize=lambda model, i: self.b[i - 1])\n",
    "        \n",
    "#         #### Variables\n",
    "#         # Real variables (time)\n",
    "#         self.model.t = pyo.Var(self.model.N,\n",
    "#                                within=pyo.PositiveReals)\n",
    "#         self.model.t_ik = pyo.Var(self.model.N, \n",
    "#                                   self.model.k, \n",
    "#                                   within=pyo.PositiveReals)\n",
    "        \n",
    "#         # Decision variables x_ij (Jobs to visit)\n",
    "#         self.model.x = pyo.Var(self.model.N, \n",
    "#                                self.model.N,\n",
    "#                                self.model.k, \n",
    "#                                within=pyo.Binary)\n",
    "\n",
    "#         # Indicator variable u_ik\n",
    "#         self.model.u = pyo.Var(self.model.N,\n",
    "#                                self.model.k,  \n",
    "#                                within=pyo.Binary)\n",
    "        \n",
    "#         #### Objectives\n",
    "#         def objective_rule(model): # w1 min-max + (1-w1) min-sim\n",
    "#             return sum(model.x[i, j] * model.c[i, j] for i in model.N for j in model.N)\n",
    "\n",
    "#         self.model.objective = pyo.Objective(rule=objective_rule, \n",
    "#                                              sense=pyo.minimize)\n",
    "\n",
    "#         #### Constraints            \n",
    "#         def constraint1_rule(model, N):\n",
    "#             return sum(model.x[i, N] for i in model.N if i != N) == 1\n",
    "\n",
    "#         self.model.const1 = pyo.Constraint(self.model.N, \n",
    "#                                            rule=constraint1_rule)\n",
    "\n",
    "#         def constraint2_rule(model, N):\n",
    "#             return sum(model.x[N, j] for j in model.N if j != N) == 1\n",
    "\n",
    "#         self.model.const2 = pyo.Constraint(self.model.N, \n",
    "#                                            rule=constraint2_rule)\n",
    "\n",
    "#         def constraint3_rule(model, i):\n",
    "#             return model.x[i, i] == 0\n",
    "\n",
    "#         self.model.const3 = pyo.Constraint(self.model.N, \n",
    "#                                            rule=constraint3_rule)\n",
    "\n",
    "#         # Subtour constraints\n",
    "#         def constraint4_rule(model, i, j):\n",
    "#             if i != j:\n",
    "#                 return model.u[i] - model.u[j] + model.x[i, j] * n <= n - 1\n",
    "#             else:\n",
    "#                 return pyo.Constraint.Skip\n",
    "\n",
    "#         if subtour_constraints:\n",
    "#             self.model.const4 = pyo.Constraint(self.model.U, \n",
    "#                                                self.model.N, \n",
    "#                                                rule=constraint4_rule)\n",
    "\n",
    "#         # Pre-solved subtour constraints\n",
    "#         def constraint5_rule(model, i, j):\n",
    "#             constraints = []\n",
    "#             if self.pre_solved_subtours:\n",
    "#                 for subtour in self.pre_solved_subtours:\n",
    "#                     if len(subtour) > 1:\n",
    "#                         constraint_expr = sum(model.x[i, j] for i, j in zip(subtour, subtour[1:])) == len(subtour) - 1 # [a,b,c] goes x[a,b] + x[b,c] == 3 - 1\n",
    "#                         constraints.append(constraint_expr)\n",
    "#             return constraints\n",
    "\n",
    "#         if self.pre_solved_subtours:\n",
    "#             self.model.const5 = pyo.ConstraintList()\n",
    "#             for i, constraint_expr in enumerate(constraint5_rule(self.model, None, None)):\n",
    "#                 self.model.const5.add(constraint_expr)\n",
    "        \n",
    "\n",
    "#     def find_subtours(self):\n",
    "#         subtours = []\n",
    "#         remaining_cities = list(self.model.N)\n",
    "\n",
    "#         while remaining_cities:\n",
    "#             current_city = remaining_cities[0]\n",
    "#             subtour = [current_city]\n",
    "\n",
    "#             while True:\n",
    "#                 next_city = next(j for j in self.model.N if self.model.x[current_city, j]() > 0)\n",
    "#                 if next_city == subtour[0]:\n",
    "#                     break\n",
    "#                 subtour.append(next_city)\n",
    "#                 remaining_cities.remove(next_city)\n",
    "#                 current_city = next_city\n",
    "\n",
    "#             if len(subtour) > 1:\n",
    "#                 subtours.append(subtour)\n",
    "\n",
    "#             remaining_cities = [city for city in remaining_cities if city not in subtour]\n",
    "\n",
    "#         # Convert subtours to strings with column names\n",
    "#         if self.column_names:\n",
    "#             subtour_strings = ['-'.join(self.column_names[i - 1] for i in subtour) for subtour in subtours]\n",
    "#         else:\n",
    "#             subtour_strings = ['-'.join(map(str, subtour)) for subtour in subtours]\n",
    "\n",
    "#         return subtour_strings\n",
    "\n",
    "    \n",
    "#     def solve(self, subtour_constraints=True, verbose=True, num_threads=multiprocessing.cpu_count()): # Get the number of available processors\n",
    "#         start_time = time.time()\n",
    "        \n",
    "#         self.create_model(subtour_constraints)\n",
    "\n",
    "#         # Specify the path to the cbc solver executable\n",
    "#         #cbc_solver_path = 'C:\\\\Users\\\\jrwoo\\\\anaconda3\\\\Library\\\\bin\\\\cbc.exe'\n",
    "\n",
    "\n",
    "#         # Solve the model using MILP solver\n",
    "#         solver = pyo.SolverFactory('gurobi', \n",
    "#                                    #executable=cbc_solver_path, \n",
    "#                                    options={'threads': num_threads})  # use the number of processors available for multithreading (helps greatly during branch and bound tree searches)\n",
    "           \n",
    "#         self.result = solver.solve(self.model, tee=verbose)\n",
    "        \n",
    "#         # # print Decision Variables? \n",
    "#         # if verbose:\n",
    "#         #     print(\"Decision Variables:\")\n",
    "#         #     for i in self.model.N:\n",
    "#         #         #u_i = int(self.model.u[i].value)\n",
    "#         #         #print(f\"u[{i}] = {u_i}\")\n",
    "#         #         for j in self.model.N:\n",
    "#         #             if i != j and int(self.model.x[i, j].value) != 0:\n",
    "#         #                 x_ij = int(self.model.x[i, j].value)\n",
    "#         #                 print(f\"x[{i},{j}] = {x_ij}\")\n",
    "\n",
    "        \n",
    "#         end_time = time.time()\n",
    "#         self.solution_time = round(end_time - start_time,2)  # Calculate the solution time\n",
    "\n",
    "#     def get_solution(self):\n",
    "#         if self.result is None:\n",
    "#             raise Exception(\"You need to call solve() before getting the solution.\")\n",
    "\n",
    "#         # Find subtours in the solution\n",
    "#         subtours = self.find_subtours()\n",
    "\n",
    "#         # Round the objective value to the nearest integer\n",
    "#         rounded_objective = round(pyo.value(self.model.objective))\n",
    "\n",
    "#         solution = {\n",
    "#             \"status\": self.result.solver.status,\n",
    "#             \"objective_value\": rounded_objective,\n",
    "#             \"decision_variables\": self.model.x,\n",
    "#             \"subtours\": subtours,\n",
    "#             \"solution_time\": self.solution_time  # Add solution time to the result\n",
    "#         }\n",
    "\n",
    "#         return solution\n",
    "\n",
    "\n"
   ]
  },
  {
   "cell_type": "markdown",
   "id": "6065f426-dbf5-4db1-8970-910f23a7229d",
   "metadata": {},
   "source": [
    "#### Sequential MILP Model, Hyperparameterized for Bayesian Opt (11/13/2024)\n",
    "\n",
    "- ChatGPT assisted with debugging and brainstorming for porting from CMPL to Pyomo.\n",
    "- This code went through months of meticulous porting, debugging, and extensions added to it (such as handling `delta_start` and other parameterization). That code was deleted from this file to save space, but it is still locally on my computer."
   ]
  },
  {
   "cell_type": "markdown",
   "id": "900f1576-1d10-4ac0-b208-9c25f4477591",
   "metadata": {
    "jp-MarkdownHeadingCollapsed": true
   },
   "source": [
    "#### Grabbing the best AI_LPT for warmstarting"
   ]
  },
  {
   "cell_type": "code",
   "execution_count": 1,
   "id": "4dbedc8e-26ad-4451-b7c6-6f1624e7e3d9",
   "metadata": {},
   "outputs": [],
   "source": [
    "import pandas as pd\n",
    "import numpy as np\n",
    "\n",
    "def get_best_AI_LPT(QueueSize, ProblemNumber, df_path='df_training_AI_LPT.pkl'):\n",
    "    \"\"\"\n",
    "    Gets one row from the data based on QueueSize and ProblemNumber.\n",
    "    \n",
    "    Filters rows by QueueSize, ProblemNumber, and Deadweight. \n",
    "    Then, it finds the row with the lowest 'obj_value_relative_percent'. \n",
    "    If there are ties, it picks the row with the highest 'Sequencing_rule_best_pairings'. If there are more ties, it grabs the first row.\n",
    "    \n",
    "    Parameters:\n",
    "    - QueueSize (int): Queue size to filter\n",
    "    - ProblemNumber (int): Problem number to filter\n",
    "    - df_path (str): Path to data file (default: 'df_training_AI_LPT.pkl')\n",
    "\n",
    "    Returns:\n",
    "    - DataFrame: One filtered row\n",
    "    \"\"\"\n",
    "    # load DataFrame\n",
    "    df_training = pd.read_pickle(df_path)  # load dataframe\n",
    "\n",
    "    # apply mask for filters\n",
    "    mask = df_training[(df_training['ProblemSet'] == str(QueueSize)) & \n",
    "                       (df_training['ProblemNumber'] == str(ProblemNumber)) & \n",
    "                       (df_training['Deadweight'] == False)]\n",
    "\n",
    "    # filter for minimum value\n",
    "    min_rows = mask[np.isclose(mask['obj_value_relative_percent'].values, \n",
    "                               np.min(mask['obj_value_relative_percent'].values))]\n",
    "\n",
    "    # filter for maximum pairing value\n",
    "    final_row = min_rows[np.isclose(min_rows['Sequencing_rule_best_pairings'].values, \n",
    "                                    np.max(min_rows['Sequencing_rule_best_pairings'].values))].head(1)  # select first row\n",
    "\n",
    "    return final_row  # return one row\n",
    "\n",
    "# # Usage example\n",
    "# QueueSize, ProblemNumber = 75, 1\n",
    "# result = get_best_AI_LPT(QueueSize, ProblemNumber)\n",
    "# display(result)\n",
    "\n",
    "# ## Finding the SolutionNumber to use\n",
    "# SolutionNumber_WarmStart = result['SolutionNumber'].iloc[0]\n",
    "# SolutionNumber_WarmStart"
   ]
  },
  {
   "cell_type": "markdown",
   "id": "037cbd46-7242-41ad-bbd8-7785fc8a9329",
   "metadata": {
    "jp-MarkdownHeadingCollapsed": true
   },
   "source": [
    "### Optimization MILP Model (Sequential Policies)"
   ]
  },
  {
   "cell_type": "code",
   "execution_count": 2,
   "id": "b9109a5b-03e5-4f04-8030-391870294ed5",
   "metadata": {},
   "outputs": [],
   "source": [
    "import pyomo.environ as pyo\n",
    "from pyomo.common.errors import ApplicationError # error handling\n",
    "import time  # Timing purposes\n",
    "import numpy as np\n",
    "import pandas as pd\n",
    "import multiprocessing  # Processor count\n",
    "import itertools # handling tupling well\n",
    "import re # for reading solver output\n",
    "import os # unique for solver log reading in parallel  (avoid kernel CRASHING)\n",
    "import logging # suppress warnings\n",
    "\n",
    "\n",
    "class VRPSolver:\n",
    "    def __init__(self, cost_matrix, problem_df,\n",
    "                 problemset_num, problem_num, solution_num=1, \n",
    "                 warm_start=None, w1=0.5, M_array=None, debug=True, hyperparams=None):\n",
    "        \n",
    "        # Typical parameters (core configuration)\n",
    "        self.cost_matrix = cost_matrix\n",
    "        self.problem_df = problem_df\n",
    "        a = np.concatenate(([0], problem_df['a'].values))\n",
    "        b = np.concatenate(([0], problem_df['b'].values))\n",
    "        self.a = a\n",
    "        self.b = b\n",
    "        self.a_sim = np.copy(self.a)  # sim values\n",
    "        self.b_sim = np.copy(self.b)  # sim values\n",
    "        a_true = np.concatenate(([0], problem_df['a_true'].values))\n",
    "        b_true = np.concatenate(([0], problem_df['b_true'].values))\n",
    "        self.a_true = a_true\n",
    "        self.b_true = b_true\n",
    "        self.problemset_num = problemset_num\n",
    "        self.problem_num = problem_num\n",
    "        self.solution_num = solution_num\n",
    "        self.w1 = w1  # Weight for the biobjective function\n",
    "        self.warm_start = warm_start  # Warm start solutions\n",
    "        self.debug = debug  # Debug mode for logging details\n",
    "        self.first_iteration = True  # Flag for first iteration timing\n",
    "\n",
    "        # Initialize M_array or use defaults\n",
    "        n = cost_matrix.shape[0]\n",
    "        self.M_array = M_array if M_array and len(M_array) == n else [10000] * n\n",
    "\n",
    "        # Hyperparameters with defaults (user-defined and Gurobi-specific)\n",
    "        hyperparams = hyperparams or {}\n",
    "\n",
    "        # ----- permanent\n",
    "        self.max_iterations = hyperparams.get(\"max_iterations\", 1)  # Maximum solver iterations\n",
    "        self.delta_step = hyperparams.get(\"delta_step\", 1000)  # Step size for delta increments\n",
    "        self.num_threads = hyperparams.get(\"num_threads\", multiprocessing.cpu_count()-1)  # Number of threads for parallel processing\n",
    "        \n",
    "        # --- User-defined hyperparameters ---\n",
    "        self.delta_start = hyperparams.get(\"delta_start\", 0)  # Initial delta for time windows (between 0 and 3000 minutes)\n",
    "        self.time_limit = hyperparams.get(\"time_limit\", 30)  # Solver time limit in seconds\n",
    "        self.symmetry_breaking = hyperparams.get(\"symmetry_breaking\", True)  # Enable symmetry-breaking constraints\n",
    "\n",
    "        # --- Gurobi-specific hyperparameters ---\n",
    "        self.mip_focus = hyperparams.get(\"mip_focus\", 0)  # MIP focus: 0=auto, 1=optimality, 2=feasibility, 3=balance\n",
    "        self.cuts = hyperparams.get(\"cuts\", 0)  # Cut generation: 0=auto, 1=minimal, 2=moderate, 3=aggressive\n",
    "        self.heuristics = hyperparams.get(\"heuristics\", 0.05)  # Fraction of time for primal heuristics (0.0 to 1.0)\n",
    "        self.presolve = hyperparams.get(\"presolve\", -1)  # Presolve: -1=auto, 0=off, 1=conservative, 2=aggressive\n",
    "        self.var_branch = hyperparams.get(\"var_branch\", -1)  # Variable branching strategy: -1=default, 0-1 for custom\n",
    "        self.branch_dir = hyperparams.get(\"branch_dir\", 0)  # Branching direction: -1=down, 0=default, 1=up\n",
    "        self.nodefile_start = hyperparams.get(\"nodefile_start\", 0.5)  # Node file memory threshold (GB)\n",
    "        self.symmetry = hyperparams.get(\"symmetry\", 1)  # Symmetry detection: 1=enabled, 0=disabled\n",
    "\n",
    "        # Initialize placeholders\n",
    "        self.model = None\n",
    "        self.result = None\n",
    "        self.solution_time = None\n",
    "        self.solution_time_gurobi = None\n",
    "        self.best_bound = None\n",
    "\n",
    "        # Generate symmetry-breaking pairs if enabled\n",
    "        if self.symmetry_breaking:\n",
    "            self.symmetry_breaking_pairs = self.generate_symmetry_breaking_pairs()\n",
    "        else:\n",
    "            self.symmetry_breaking_pairs = {}\n",
    "\n",
    "    def generate_symmetry_breaking_pairs(self, bigM=10000):\n",
    "        \"\"\"\n",
    "        Generate job pairs to break symmetry in optimization for each machine's schedule.\n",
    "        \"\"\"\n",
    "        # Assume that the cost_matrix's third dimension corresponds to machines\n",
    "        k = self.cost_matrix.shape[2]\n",
    "        machine_processing_columns = [f'Machine{k_idx+1}_ProcessMinutes' for k_idx in range(k)]\n",
    "\n",
    "        k = len(machine_processing_columns)\n",
    "        symmetry_breaking_pairs = {}\n",
    "\n",
    "        # For each machine\n",
    "        for machine_index, machine_column in enumerate(machine_processing_columns, start=1):  # 1-index based index\n",
    "            # Replace bigM and None values with NaN\n",
    "            self.problem_df[machine_column] = self.problem_df[machine_column].replace([bigM, None], np.nan)\n",
    "\n",
    "            # Sort by recipe, arrival, and processing time (LPT)\n",
    "            sorted_jobs = self.problem_df.sort_values(by=['Recipe', 'a', machine_column], ascending=[True, True, False])\n",
    "\n",
    "            # Filter non-NA jobs\n",
    "            valid_jobs = sorted_jobs[sorted_jobs[machine_column].notna()]\n",
    "\n",
    "            job_pairs = []\n",
    "\n",
    "            # Group by recipe and arrival\n",
    "            for _, group in valid_jobs.groupby(['Recipe', 'a']):\n",
    "                job_ids = (group.index + 1).tolist()  # Convert to 1-based indexing\n",
    "\n",
    "                # Generate pairs where j > i\n",
    "                job_pairs.extend((i, j) for i, j in itertools.pairwise(job_ids) if j > i)\n",
    "\n",
    "            # Add pairs if present\n",
    "            if job_pairs:\n",
    "                symmetry_breaking_pairs[machine_index] = job_pairs\n",
    "\n",
    "        if self.debug: print(f\"Symmetry breaking pairs used: {symmetry_breaking_pairs}\")\n",
    "\n",
    "        return symmetry_breaking_pairs\n",
    "    \n",
    "    def create_model(self, time_window_delta):\n",
    "        # Create a Pyomo model\n",
    "        self.model = pyo.ConcreteModel()\n",
    "\n",
    "        # Define the indexes\n",
    "        n = self.cost_matrix.shape[0]  # Jobs 0 (depot), 1, 2, ..., n-1\n",
    "        k = self.cost_matrix.shape[2]  # Number of machines\n",
    "\n",
    "        # Sets for jobs and machines\n",
    "        self.model.N = pyo.RangeSet(0, n - 1)  # Including the depot (0)\n",
    "        self.model.Jobs = pyo.RangeSet(0, n - 1)  # Including the depot (0)\n",
    "        self.model.JobsT = pyo.RangeSet(0, n)  # Including the depot (0)\n",
    "        self.model.Jobs1toN = pyo.RangeSet(1, n - 1)  # Excluding the depot (0)\n",
    "        self.model.k = pyo.RangeSet(1, k)  # Pyomo ranges are inclusive\n",
    "\n",
    "        #### Parameters\n",
    "        # Cost matrix c[i, j, k]\n",
    "        def cost_matrix_init(model, i, j, k):\n",
    "            # Adjust for zero-based indexing when setting the cost matrix\n",
    "            return self.cost_matrix[i, j, k - 1]  # k-1 to adjust for Pyomo's 1-based indexing\n",
    "\n",
    "        self.model.c = pyo.Param(self.model.N, self.model.N, self.model.k, initialize=cost_matrix_init)\n",
    "\n",
    "        # Time windows a[i] and b[i] with time_window_delta for updated a_sim and b_sim\n",
    "        self.model.a = pyo.Param(self.model.N, initialize=lambda model, i: self.a_sim[i])\n",
    "        self.model.b = pyo.Param(self.model.N, initialize=lambda model, i: self.b_sim[i] + time_window_delta)\n",
    "\n",
    "        # Big M parameter array\n",
    "        def M_init(model, i):\n",
    "            return self.M_array[i - 1]\n",
    "\n",
    "        self.model.M = pyo.Param(self.model.N, initialize=M_init)\n",
    "\n",
    "        #### Variables\n",
    "        # Time variables\n",
    "        self.model.t = pyo.Var(self.model.N, within=pyo.NonNegativeReals)\n",
    "        self.model.t_ik = pyo.Var(self.model.JobsT, self.model.k, within=pyo.NonNegativeReals)\n",
    "\n",
    "        # Decision variables x[i, j, k]\n",
    "        self.model.x = pyo.Var(self.model.N, self.model.N, self.model.k, within=pyo.Binary)\n",
    "\n",
    "        # Indicator variable u[i, k]\n",
    "        self.model.u = pyo.Var(self.model.N, self.model.k, within=pyo.Binary)\n",
    "\n",
    "        # Makespan variable\n",
    "        self.model.y = pyo.Var(within=pyo.NonNegativeReals)\n",
    "\n",
    "        #### Objective\n",
    "        def min_max_rule(model):\n",
    "            return model.y  # We minimize the max flow time, which is represented by a y (linearization of max function)\n",
    "\n",
    "        # (2) Max Flow Time\n",
    "        def makespan_constraint_rule(model, k): # y >= t[n, k] for all machines k\n",
    "            return model.y >= model.t_ik[n, k]  # Adjusted to match 0-based indexing\n",
    "        self.model.makespan_constraint = pyo.Constraint(self.model.k, rule=makespan_constraint_rule)\n",
    "\n",
    "        # (3) Average Makespan\n",
    "        def min_sum_rule(model):\n",
    "            return sum(\n",
    "                model.c[i, j, k] * model.x[i, j, k]\n",
    "                for i in model.N for j in model.N for k in model.k\n",
    "                if i != j and model.c[i, j, k] != 10000  # Exclude diagonal and impossible cost\n",
    "            )\n",
    "        \n",
    "        # (1) Biobjective function\n",
    "        self.model.objective = pyo.Objective(\n",
    "            expr=self.w1 * min_max_rule(self.model) + (1 - self.w1) * min_sum_rule(self.model) / 2,\n",
    "            sense=pyo.minimize\n",
    "        )\n",
    "\n",
    "        #### Constraints\n",
    "\n",
    "        # (4) Closed-Loop Start\n",
    "        def closed_loop_first_job_rule(model, i, k):\n",
    "            return model.t[i] - model.c[0, i, k] * model.x[0, i, k] >= 0\n",
    "        self.model.closed_loop_first = pyo.Constraint(self.model.Jobs1toN, self.model.k, rule=closed_loop_first_job_rule)\n",
    "\n",
    "        # (5) Closed-Loop End\n",
    "        def closed_loop_last_job_rule(model, i, k):\n",
    "            return model.t[i] + model.c[i, 0, k] * model.x[i, 0, k] <= model.t_ik[n, k]\n",
    "        self.model.closed_loop_last = pyo.Constraint(self.model.Jobs1toN, self.model.k, rule=closed_loop_last_job_rule)\n",
    "\n",
    "        # (6) Subtour elimination constraints\n",
    "        def subtour_elimination_2a_rule(model, i, j, k):\n",
    "            if i != j:\n",
    "                return (\n",
    "                    model.t_ik[i, k] - model.t_ik[j, k]\n",
    "                    + (model.b[i] * model.x[i, j, k] - model.a[j] * model.x[i, j, k])\n",
    "                    + model.c[i, j, k] * model.x[i, j, k]\n",
    "                    <= model.b[i] - model.a[j]\n",
    "                )\n",
    "            else:\n",
    "                return pyo.Constraint.Skip\n",
    "        self.model.subtour_elimination_2a = pyo.Constraint(self.model.Jobs1toN, self.model.Jobs1toN, self.model.k, rule=subtour_elimination_2a_rule)\n",
    "\n",
    "        # (7) Incapable arcs: Additional constraint to set x[i, j, k] to zero if cost matrix value is bigM\n",
    "        def set_known_zero_x_rule(model, i, j, k):\n",
    "            if self.cost_matrix[i, j, k - 1] == 10000:  # Adjust for zero-based indexing in cost_matrix\n",
    "                return model.x[i, j, k] == 0\n",
    "            return pyo.Constraint.Skip\n",
    "        self.model.set_known_zero_x = pyo.Constraint(self.model.N, self.model.N, self.model.k, rule=set_known_zero_x_rule)\n",
    "\n",
    "        # (8) First Job Assignment\n",
    "        def first_job_combined_rule(model, j, k):\n",
    "            if j == k:\n",
    "                return model.x[0, j, k] == 1\n",
    "            else:\n",
    "                return model.x[0, j, k] == 0\n",
    "        self.model.first_job_combined = pyo.Constraint(self.model.N, self.model.k, rule=first_job_combined_rule)\n",
    "\n",
    "        # (9) Last Job Assignment\n",
    "        def last_job_for_all_machines_rule(model, k):\n",
    "            return sum(model.x[i, 0, k] for i in model.Jobs1toN) == 1\n",
    "        self.model.last_job_for_all_machines = pyo.Constraint(self.model.k, rule=last_job_for_all_machines_rule)\n",
    "\n",
    "        # (10)\n",
    "        def assignment_rule_from(model, j):\n",
    "            return sum(model.x[i, j, k] for i in model.Jobs if i != j for k in model.k) == 1\n",
    "        self.model.assignment_from = pyo.Constraint(self.model.Jobs1toN, rule=assignment_rule_from)\n",
    "\n",
    "        # (11) Outgoing Assignments\n",
    "        def assignment_rule_to(model, j):\n",
    "            return sum(model.x[j, i, k] for i in model.Jobs if i != j for k in model.k) == 1\n",
    "        self.model.assignment_to = pyo.Constraint(self.model.Jobs1toN, rule=assignment_rule_to)\n",
    "\n",
    "        # (12) Self-Loop Elimination\n",
    "        def no_self_tour_rule(model, i, k):\n",
    "            return model.x[i, i, k] == 0\n",
    "        self.model.no_self_tour = pyo.Constraint(self.model.Jobs1toN, self.model.k, rule=no_self_tour_rule)\n",
    "\n",
    "        # (13) Time Windows\n",
    "        def time_window_rule_lower(model, i):\n",
    "            return model.a[i] <= model.t[i]\n",
    "        self.model.time_window_lower = pyo.Constraint(self.model.Jobs1toN, rule=time_window_rule_lower)\n",
    "\n",
    "        def time_window_rule_upper(model, i):\n",
    "            return model.t[i] <= model.b[i]\n",
    "        self.model.time_window_upper = pyo.Constraint(self.model.Jobs1toN, rule=time_window_rule_upper)\n",
    "\n",
    "        # (14) Linking u and x variables\n",
    "        def linking_u_x_rule(model, i, k):\n",
    "            return sum(model.x[i, j, k] for j in model.Jobs if j != i) == model.u[i, k]\n",
    "        self.model.linking_u_x = pyo.Constraint(self.model.Jobs, self.model.k, rule=linking_u_x_rule)\n",
    "\n",
    "        # (15) Depot initialization\n",
    "        def depot_initialization_rule(model):\n",
    "            return model.t[0] == 0\n",
    "        self.model.depot_initialization = pyo.Constraint(rule=depot_initialization_rule)\n",
    "\n",
    "        # (16) Time linking: job start per machine to job start\n",
    "        def big_m_time_linking_rule1(model, i, k):\n",
    "            return model.t_ik[i, k] <= model.t[i]\n",
    "        self.model.big_m_time_link1 = pyo.Constraint(self.model.Jobs, self.model.k, rule=big_m_time_linking_rule1)\n",
    "\n",
    "        # (17a and 17b) Big M time linking\n",
    "        def big_m_time_linking_rule2(model, i, k):\n",
    "            return model.t_ik[i, k] >= model.t[i] - model.M[i] + model.M[i] * model.u[i, k]\n",
    "        self.model.big_m_time_link2 = pyo.Constraint(self.model.Jobs, self.model.k, rule=big_m_time_linking_rule2)\n",
    "\n",
    "        def big_m_time_linking_rule3(model, i, k):\n",
    "            return model.t_ik[i, k] <= model.M[i] * model.u[i, k]\n",
    "        self.model.big_m_time_link3 = pyo.Constraint(self.model.Jobs, self.model.k, rule=big_m_time_linking_rule3)\n",
    "\n",
    "        # (18) Symmetry-Breaking (for those big and nasty problems)\n",
    "        if self.symmetry_breaking_pairs: # Uses the LPT after the same Recipe and Arrival Time \n",
    "            for k, job_pairs in self.symmetry_breaking_pairs.items():   # For each machine\n",
    "                for i, j in job_pairs:  # For each job pair (no adjustment for job indices)\n",
    "                    self.model.add_component( # Add symmetry-breaking constraint using original indices\n",
    "                        f\"symmetry_breaking_{i}_{j}_machine_{k}\",\n",
    "                        #pyo.Constraint(expr=self.model.t_ik[i, k] * self.model.u[j, k] <= self.model.t_ik[j, k]) # quadratic\n",
    "                        pyo.Constraint(expr=self.model.t[i] <= self.model.t[j]) # Simplified to real versus real\n",
    "                    )\n",
    "\n",
    "    \n",
    "    def solve(self, tolerances=1e-13):\n",
    "        start_time = time.time()\n",
    "        \n",
    "        # Solver setup\n",
    "        solver = pyo.SolverFactory('gurobi')\n",
    "        options = {\n",
    "            'threads': self.num_threads,\n",
    "            #'FeasibilityTol': tolerances,\n",
    "            #'IntFeasTol': tolerances,\n",
    "            #'OptimalityTol': tolerances,\n",
    "            'TimeLimit': self.time_limit,\n",
    "            'MIPFocus': self.mip_focus,\n",
    "            'Cuts': self.cuts,\n",
    "            'Heuristics': self.heuristics,\n",
    "            'Presolve': self.presolve,\n",
    "            'VarBranch': self.var_branch,\n",
    "            'BranchDir': self.branch_dir,\n",
    "            'NodefileStart': self.nodefile_start,\n",
    "            'Symmetry': self.symmetry\n",
    "        }\n",
    "        \n",
    "        self.apply_warm_start()\n",
    "        \n",
    "        # Suppress Pyomo warnings during solve\n",
    "        pyomo_logger = logging.getLogger(\"pyomo.core\")\n",
    "        original_level = pyomo_logger.getEffectiveLevel()\n",
    "        pyomo_logger.setLevel(logging.DEBUG if self.debug else logging.ERROR)\n",
    "\n",
    "        try:\n",
    "            # Solve the model without a log file or extra solver metrics\n",
    "            self.result = solver.solve(\n",
    "                self.model, \n",
    "                tee=self.debug, \n",
    "                symbolic_solver_labels=True,\n",
    "                warmstart=True,\n",
    "                options=options\n",
    "            )\n",
    "\n",
    "            # Capture solution time for the first iteration\n",
    "            if self.first_iteration:\n",
    "                self.solution_time = round(time.time() - start_time, 2)\n",
    "                self.first_iteration = False\n",
    "\n",
    "        except (ValueError, ApplicationError) as e:\n",
    "            if self.debug: \n",
    "                print(f\"[ERROR] Solver encountered an error: {e}\")\n",
    "            self.solution_time = None\n",
    "            self.result = None\n",
    "\n",
    "        finally:\n",
    "            pyomo_logger.setLevel(original_level)\n",
    "\n",
    "    def apply_warm_start(self):\n",
    "        if self.warm_start is None:\n",
    "            return  # No warm start\n",
    "    \n",
    "        for k in range(self.warm_start.shape[2]):\n",
    "            warm_start_k = self.warm_start[:, :, k]  # Slice for machine k\n",
    "            #print(f\"[DEBUG] Applying warm start for machine {k+1}\")\n",
    "    \n",
    "            for i, row in enumerate(warm_start_k):\n",
    "                for j, value in enumerate(row):\n",
    "                    self.model.x[i, j, k + 1].value = value  # Set warm start value\n",
    "                    #if value == 1: print(f\"[DEBUG] Setting x[{i},{j},{k+1}] = {value}\")\n",
    "\n",
    "    def add_cumulative_constraints(self, i, j, k):\n",
    "        \"\"\"Adds constraints to fix x[i, j, k].\"\"\"\n",
    "        constraint_name = f\"fix_x_{i}_{j}_{k}\"  # Unique constraint name\n",
    "        if not hasattr(self.model, constraint_name):\n",
    "            # Add cumulative constraint\n",
    "            self.model.add_component(\n",
    "                constraint_name,\n",
    "                pyo.Constraint(expr=self.model.x[i, j, k] == 1)\n",
    "            )\n",
    "            if self.debug:\n",
    "                print(f\"[DEBUG] Added cumulative constraint: x[{i},{j},{k}] = 1\")\n",
    "    \n",
    "    def iterative_solving(self):\n",
    "        time_window_delta = self.delta_start  # Start delta\n",
    "        SIMTIME = np.unique(self.a_true)  # Unique SIMTIME values\n",
    "        \n",
    "        # Initialize solution trackers\n",
    "        prev_t_ik = {}\n",
    "        prev_x_ijk = {}\n",
    "        \n",
    "        cumulative_x_fixes = set()  # Track cumulative fixings\n",
    "        # tolerance = 1e-8  # Binary tolerance\n",
    "        \n",
    "        for sim_time in SIMTIME:\n",
    "            if self.debug:\n",
    "                print(f\"[DEBUG] Simulating for SIMTIME = {sim_time}\")\n",
    "    \n",
    "            # Update simulated a and b based on SIMTIME\n",
    "            mask = sim_time >= self.a_true\n",
    "            self.a_sim = np.where(mask, self.a_true, self.a_sim)\n",
    "            self.b_sim = np.where(mask, self.b_true, self.b_sim)\n",
    "    \n",
    "            # if self.debug:\n",
    "            #     # Print a, b, a_sim, b_sim updates\n",
    "            #     print(f\"[DEBUG]         a    : {self.a}\")\n",
    "            #     print(f\"[DEBUG] Updated a_sim: {self.a_sim}\")\n",
    "            #     print(f\"[DEBUG]        a_true: {self.a_true}\")\n",
    "            #     print(f\"[DEBUG]         b    : {self.b}\")\n",
    "            #     print(f\"[DEBUG] Updated b_sim: {self.b_sim}\")\n",
    "            #     print(f\"[DEBUG]        b_true: {self.b_true}\")\n",
    "    \n",
    "            # Create and update model\n",
    "            self.create_model(time_window_delta)\n",
    "            \n",
    "            # Apply cumulative constraints\n",
    "            if self.debug:\n",
    "                print(\"[DEBUG] Applying cumulative constraints from previous iterations:\")\n",
    "            for (i, j, k) in cumulative_x_fixes:\n",
    "                self.add_cumulative_constraints(i, j, k)\n",
    "            \n",
    "            # Apply new fixings based on t_ik and SIMTIME\n",
    "            if self.debug:\n",
    "                print(\"[DEBUG] Applying new fixings based on t_ik values and SIMTIME:\")\n",
    "            for (i, k), t_value in prev_t_ik.items():\n",
    "                if sim_time < t_value:\n",
    "                    continue  # Skip if SIMTIME not reached\n",
    "        \n",
    "                x_values = prev_x_ijk.get((i, k), {})\n",
    "                for j, x_value in x_values.items():\n",
    "                    if x_value != 1:  # Check for exact equality with 1:\n",
    "                        if self.debug: print(f\"[DEBUG] Skipping x[{i},{j},{k}] as value {x_value} is not close enough to 1.\")\n",
    "                        continue  # Only fix values close to 1\n",
    "    \n",
    "                    # Apply cumulative constraint and track\n",
    "                    self.add_cumulative_constraints(i, j, k)\n",
    "                    cumulative_x_fixes.add((i, j, k))\n",
    "            \n",
    "            # Solve model\n",
    "            self.solve()\n",
    "            \n",
    "            # Retrieve and print solution\n",
    "            solution = self.get_solution()\n",
    "\n",
    "            if self.result is None:\n",
    "                if self.debug:\n",
    "                    print(\"[ERROR] Solver returned no result. Aborting iterations.\")\n",
    "                break  # Exit loop if no result\n",
    "\n",
    "            if self.debug:\n",
    "                print(f\"x_assignments: {solution['x_variables']}\")\n",
    "                print(f\"t_assignments: {solution['t_variables']}\")\n",
    "    \n",
    "            # Store solution if feasible or optimal\n",
    "            if self.result.solver.termination_condition in [\n",
    "                pyo.TerminationCondition.optimal,\n",
    "                pyo.TerminationCondition.feasible, \n",
    "                pyo.TerminationCondition.maxTimeLimit,\n",
    "            ]:\n",
    "                # Track non-zero t_ik values\n",
    "                prev_t_ik = {\n",
    "                    (i, k): value\n",
    "                    for (i, k), value in self.model.t_ik.get_values().items()\n",
    "                }\n",
    "        \n",
    "                # Track x values close to 1\n",
    "                prev_x_ijk = {}\n",
    "                for (i, j, k), value in self.model.x.get_values().items():\n",
    "                    if value == 1:  # Check for exact equality with 1 (bugs if using tolerances)\n",
    "                        if (i, k) not in prev_x_ijk:\n",
    "                            prev_x_ijk[(i, k)] = {}  # Initialize inner dict\n",
    "                        prev_x_ijk[(i, k)][j] = value  # Store j and value in inner dict\n",
    "                \n",
    "                # Update warm_start with the current x values\n",
    "                self.warm_start = np.array([\n",
    "                    [[round(self.model.x[i, j, k + 1].value) for k in range(self.warm_start.shape[2])] ## added a round\n",
    "                     for j in range(self.warm_start.shape[1])]\n",
    "                    for i in range(self.warm_start.shape[0])\n",
    "                ], dtype=int) # added an int to stem WARNINGS on fixing with binaries\n",
    "\n",
    "                if self.debug:\n",
    "                    print(\"[DEBUG] Solution saved for next warm start.\")\n",
    "            else:\n",
    "                if self.debug:\n",
    "                    print(\"[DEBUG] No feasible solution found.\")\n",
    "                break  # Exit loop if infeasible\n",
    "\n",
    "    def _print_constraints(self, constraint_names=None):\n",
    "        \"\"\"Print specific constraints of the model.\"\"\"\n",
    "        if constraint_names:\n",
    "            for name in constraint_names:\n",
    "                constraint = getattr(self.model, name, None)\n",
    "                if constraint is not None:\n",
    "                    print(f\"Constraint: {name}\")\n",
    "                    constraint.pprint()\n",
    "                else:\n",
    "                    print(f\"[WARNING] Constraint '{name}' not found in the model.\")\n",
    "        else:\n",
    "            # Print all constraints if no specific names provided\n",
    "            for name, constraint in self.model.component_map(pyo.Constraint).items():\n",
    "                print(f\"Constraint: {name}\")\n",
    "                constraint.pprint()\n",
    "    def get_solution(self, rounding_tolerance=8):\n",
    "        if self.result is None or self.result.solver.termination_condition not in [\n",
    "            pyo.TerminationCondition.optimal,\n",
    "            pyo.TerminationCondition.maxTimeLimit,\n",
    "        ]:\n",
    "            return {\n",
    "                \"status\": \"Aborted\",\n",
    "                \"objective_value\": None,\n",
    "                \"solution_time\": self.solution_time,\n",
    "                \"makespan\": None,\n",
    "                \"x_variables\": {},\n",
    "                \"t_variables\": {},\n",
    "                \"decision_matrix\": None\n",
    "            }\n",
    "\n",
    "        num_jobs = len(self.model.N)\n",
    "        num_machines = len(self.model.k)\n",
    "        decision_matrix = np.zeros((num_jobs, num_jobs, num_machines),\n",
    "                                   dtype=int)\n",
    "\n",
    "        solution = {\n",
    "            \"status\": self.result.solver.termination_condition,\n",
    "            \"objective_value\": round(pyo.value(self.model.objective), 2),\n",
    "            \"solution_time\": self.solution_time,\n",
    "            \"makespan\": int(pyo.value(self.model.y)),  # Ensures makespan is integer\n",
    "            \"x_variables\": {},\n",
    "            \"t_variables\": {},\n",
    "            \"decision_matrix\": decision_matrix\n",
    "        }\n",
    "\n",
    "        # Populate and sort t_variables by k first, then by time (value)\n",
    "        sorted_t_values = sorted(\n",
    "            ((i, k, value) for (i, k), value in self.model.t_ik.get_values().items() if int(round(value)) >=0.5),\n",
    "            key=lambda x: (x[1], x[2])  # Sort by k first, then by time value\n",
    "        )\n",
    "    \n",
    "        # Store sorted t_ik values in solution\n",
    "        for i, k, value in sorted_t_values:\n",
    "            solution[\"t_variables\"][f\"t_ik[{i},{k}]\"] = int(round(value))\n",
    "\n",
    "        # Collect binary x values cast to int for stability\n",
    "        sorted_x_values = sorted(\n",
    "            ((i, j, k, int(round(value))) for (i, j, k), value in self.model.x.get_values().items() if round(value) >= 1),\n",
    "            key=lambda x: (x[2], x[0], x[1])\n",
    "        )\n",
    "\n",
    "        for i, j, k, value in sorted_x_values:\n",
    "            decision_matrix[i, j, k - 1] = value\n",
    "            solution[\"x_variables\"][f\"x[{i},{j},{k}]\"] = int(round(value))\n",
    "\n",
    "        return solution"
   ]
  },
  {
   "cell_type": "markdown",
   "id": "65c55fbd-1511-4b61-8ca1-ce9dbae0bbeb",
   "metadata": {
    "jp-MarkdownHeadingCollapsed": true
   },
   "source": [
    "##### Debugging specific Problem Numbers"
   ]
  },
  {
   "cell_type": "code",
   "execution_count": 13,
   "id": "71313739-d8f5-4a76-9fcf-b53dcd96dc10",
   "metadata": {
    "scrolled": true
   },
   "outputs": [],
   "source": [
    "# # Preparing the data into matrices and whatnot\n",
    "# #QueueSize, ProblemNumber = 25, np.random.randint(1,300+1)\n",
    "# #QueueSize, ProblemNumber = 50, np.random.randint(1,150+1)\n",
    "# #QueueSize, ProblemNumber = 75, np.random.randint(1,100+1)\n",
    "# QueueSize, ProblemNumber = 10, 1\n",
    "# #QueueSize, ProblemNumber = 7, 1\n",
    "\n",
    "# print(f'QueueSize:{QueueSize}; ProblemNumber:{ProblemNumber}')\n",
    "\n",
    "# # Load problem df\n",
    "# #file_path = f'ProblemSets/7Queue_debugging_development'\n",
    "# file_path = f'ProblemSets/Training_Queue{QueueSize}'\n",
    "# problem_df = pd.read_pickle(f'{file_path}/Problem_{ProblemNumber}_jobs.pkl')\n",
    "\n",
    "# # Load cost matrix\n",
    "# cost_matrix = np.load(f'{file_path}/Problem_{ProblemNumber}_cost_matrix.npy')\n",
    "\n",
    "# # Load warm start solution from AI_LPT DES simulation to start!\n",
    "# ## Finds the  best EXPECTED SolutionNumber to use\n",
    "# SolutionNumber_WarmStart = get_best_AI_LPT(QueueSize, ProblemNumber)['SolutionNumber'].iloc[0]\n",
    "# solution_dict = pd.read_pickle(f'{file_path}/Solutions/AI_LPT/Problem_{ProblemNumber}_Solution_{SolutionNumber_WarmStart}.pkl') # more efficient to store a dict of the solutions\n",
    "# warm_start_obj_value,  warm_start_transition_matrix = solution_dict['obj_value'], np.array(solution_dict['transition_matrix']) # and then grab all the elements needed from the pkl dict\n",
    "# print(f\"Providing MIP of {warm_start_obj_value}\")\n",
    "\n",
    "# # Initialize VRPSolver\n",
    "# # Hyperparameters\n",
    "# delta_start_map = { # queuesize to delta start\n",
    "#     10: 1000,\n",
    "#     25: 1500,\n",
    "#     50: 2000,\n",
    "#     75: 2000\n",
    "# }\n",
    "# delta_start = delta_start_map.get(QueueSize, 1000) # between 0 and 3000 minutes, integers\n",
    "# runtime_seconds_max = 25 # between 0.25 and 30 seconds (assumed much less than 5 minutes for speed and simulating)\n",
    "# num_threads = multiprocessing.cpu_count()-1\n",
    "\n",
    "\n",
    "# solver = VRPSolver(\n",
    "#     cost_matrix=cost_matrix,\n",
    "#     problem_df=problem_df,\n",
    "#     problemset_num=QueueSize,\n",
    "#     problem_num=ProblemNumber,\n",
    "#     warm_start=warm_start_transition_matrix,\n",
    "#     debug=True,  # Keep debug visible in the init call\n",
    "#     hyperparams={\n",
    "#          \"delta_start\": 1685,  # Between 0 and 3000 minutes\n",
    "#          \"num_threads\": num_threads,  # Adjusted based on available cores\n",
    "#          \"time_limit\": runtime_seconds_max,  # Solver time limit in seconds\n",
    "#          \"symmetry_breaking\": True,  # Enable symmetry-breaking constraints\n",
    "#          \"mip_focus\": 2,  # MIP focus control # MIP focus: 0=auto, 1=optimality, 2=feasibility, 3=balance\n",
    "#          \"cuts\": 3,  # Cut generation control # Cut generation: 0=auto, 1=minimal, 2=moderate, 3=aggressive\n",
    "#          \"heuristics\":  0.7218608689267029,  # Fraction of time for primal heuristics  # Fraction of time for primal heuristics (0.0 to 1.0)\n",
    "#          \"presolve\": 1  # Presolve phase # Presolve: -1=auto, 0=off, 1=conservative, 2=aggressive\n",
    "#     }\n",
    "# )\n",
    "# # {'delta_start': 1685, 'symmetry_breaking': True, 'mip_focus': 2, 'cuts': 3, 'heuristics': 0.7218608689267029, 'presolve': 1}\n",
    "\n",
    "# # Run optimization with warm start\n",
    "# solver.iterative_solving()\n",
    "\n",
    "# # Get the final solution after the iteration process\n",
    "# solution = solver.get_solution()\n",
    "\n",
    "# # Output solution\n",
    "# print(f\"Solution Status: {solution['status']}\")\n",
    "# print(f\"Objective Value: {solution['objective_value']}\")"
   ]
  },
  {
   "cell_type": "markdown",
   "id": "e96c545e-b37e-4bb4-b15c-9974886693f6",
   "metadata": {
    "jp-MarkdownHeadingCollapsed": true
   },
   "source": [
    "### Stochastic Model (Lookahead)"
   ]
  },
  {
   "cell_type": "code",
   "execution_count": 3,
   "id": "c1279dac-27c9-401a-94f6-da95d07bd2a1",
   "metadata": {},
   "outputs": [],
   "source": [
    "class StochasticVRPSolver(VRPSolver):\n",
    "    def __init__(self, *args, stochastic_parameters=None, **kwargs):\n",
    "        super().__init__(*args, **kwargs)\n",
    "        # Default parameters for stochastic behavior\n",
    "        default_parameters = {\n",
    "            'nanmean': True,\n",
    "            'min_difference_time': 5,\n",
    "            'earliness': 30,\n",
    "        }\n",
    "        self.stochastic_parameters = {**default_parameters, **(stochastic_parameters or {})}\n",
    "\n",
    "        if self.debug:  # Use the `self.debug` inherited from the parent class\n",
    "            print(f\"[DEBUG] Initialized StochasticVRPSolver with stochastic_parameters: {self.stochastic_parameters}\")\n",
    "\n",
    "\n",
    "    def _print_constraints_and_objective(self, constraint_names=None):\n",
    "        \"\"\"\n",
    "        Print specific constraints of the model, and include the objective function.\n",
    "        \"\"\"\n",
    "        # Print Objective Function(s)\n",
    "        print(\"Objective Function(s):\")\n",
    "        for obj in self.model.component_objects(pyo.Objective, active=True):\n",
    "            print(f\"Objective Name: {obj.name}\")\n",
    "            print(f\"Objective Expression: {obj.expr}\")\n",
    "            print(\"-\" * 50)\n",
    "        \n",
    "        # Print Constraints\n",
    "        print(\"Constraints:\")\n",
    "        if constraint_names:\n",
    "            for name in constraint_names:\n",
    "                constraint = getattr(self.model, name, None)\n",
    "                if constraint is not None:\n",
    "                    print(f\"Constraint: {name}\")\n",
    "                    constraint.pprint()\n",
    "                else:\n",
    "                    print(f\"[WARNING] Constraint '{name}' not found in the model.\")\n",
    "        else:\n",
    "            # Print all constraints if no specific names provided\n",
    "            for name, constraint in self.model.component_map(pyo.Constraint).items():\n",
    "                print(f\"Constraint: {name}\")\n",
    "                constraint.pprint()\n",
    "\n",
    "    def create_model_stochastic(self, time_window_delta, a_scenarios, b_scenarios, scenarios):\n",
    "\n",
    "        if self.debug: \n",
    "            print(f\"a_scenarios (shape: {a_scenarios.shape})\")\n",
    "            print(f\"b_scenarios (shape: {b_scenarios.shape})\")\n",
    "            print(f\"scenarios: {scenarios}\")\n",
    "        \n",
    "        # Create a Pyomo model\n",
    "        self.model = pyo.ConcreteModel()\n",
    "\n",
    "        # Define the indexes\n",
    "        n = self.cost_matrix.shape[0]  # Jobs 0 (depot), 1, 2, ..., n-1\n",
    "        k = self.cost_matrix.shape[2]  # Number of machines\n",
    "\n",
    "        # Sets for jobs and machines\n",
    "        self.model.N = pyo.RangeSet(0, n - 1)  # Including the depot (0)\n",
    "        self.model.Jobs = pyo.RangeSet(0, n - 1)  # Including the depot (0)\n",
    "        self.model.JobsT = pyo.RangeSet(0, n)  # Including the depot (0)\n",
    "        self.model.Jobs1toN = pyo.RangeSet(1, n - 1)  # Excluding the depot (0)\n",
    "        self.model.k = pyo.RangeSet(1, k)  # Pyomo ranges are inclusive\n",
    "\n",
    "        #### Scenarios Set and Parameter (NEWW!!!!!!!!!!!!!!!!!!!!!!!!!!!!!!!!!!!!!!!)\n",
    "        # Define a Pyomo set for scenarios\n",
    "        self.model.w = pyo.Set(initialize=list(scenarios.keys()))\n",
    "    \n",
    "        # Define a Pyomo parameter for scenario probabilities\n",
    "        self.model.p_w = pyo.Param(\n",
    "            self.model.w, \n",
    "            initialize=scenarios, \n",
    "            within=pyo.UnitInterval  # Ensure probabilities are between 0 and 1\n",
    "        )\n",
    "\n",
    "        if self.debug: # Check if p_w is initialized correctly\n",
    "            print(\"[DEBUG] Checking scenario probabilities (p_w):\")\n",
    "            for w in self.model.w:\n",
    "                print(f\"Scenario '{w}': Probability = {self.model.p_w[w]}\")\n",
    "\n",
    "        #### Parameters\n",
    "        # Cost matrix c[i, j, k]\n",
    "        def cost_matrix_init(model, i, j, k):\n",
    "            # Adjust for zero-based indexing when setting the cost matrix\n",
    "            return self.cost_matrix[i, j, k - 1]  # k-1 to adjust for Pyomo's 1-based indexing\n",
    "\n",
    "        self.model.c = pyo.Param(self.model.N, self.model.N, self.model.k, initialize=cost_matrix_init)\n",
    "\n",
    "        # Time windows a[i] and b[i] with time_window_delta for updated a_sim and b_sim (WITH W)\n",
    "        if self.debug: \n",
    "            print(f\"[DEBUG] a_w: {a_scenarios}\")\n",
    "            print(f\"[DEBUG] b_w: {b_scenarios}\")\n",
    "        a_scenarios = np.transpose(a_scenarios)  # Now shape will be (n_jobs, n_scenarios)\n",
    "        b_scenarios = np.transpose(b_scenarios)  # Now shape will be (n_jobs, n_scenarios)\n",
    "        \n",
    "        # Define Pyomo parameters with transformed arrays\n",
    "        self.model.a_w = pyo.Param(\n",
    "            self.model.N,\n",
    "            self.model.w,\n",
    "            initialize=lambda model, i, w: a_scenarios[i, list(self.model.w).index(w)]\n",
    "        )\n",
    "        self.model.b_w = pyo.Param(\n",
    "            self.model.N,\n",
    "            self.model.w,\n",
    "            initialize=lambda model, i, w: b_scenarios[i, list(self.model.w).index(w)] + time_window_delta\n",
    "        )\n",
    "        if self.debug: # Check if p_w is initialized correctly\n",
    "            print(\"[DEBUG] Checking scenario probabilities (p_w):\")\n",
    "            for w in self.model.w:\n",
    "                print(f\"Scenario '{w}': Probability = {self.model.p_w[w]}\")\n",
    "\n",
    "        \n",
    "        if self.debug: # Extract and print a_w and b_w as NumPy arrays\n",
    "            print(\"[DEBUG] Checking a_w and b_w initialization:\")\n",
    "            # Create empty NumPy arrays to hold the values\n",
    "            a_w_array = np.zeros((len(self.model.w), len(self.model.N)))\n",
    "            b_w_array = np.zeros((len(self.model.w), len(self.model.N)))\n",
    "        \n",
    "            # Populate the arrays from Pyomo parameters\n",
    "            for idx_w, w in enumerate(self.model.w):\n",
    "                for idx_i in self.model.N:\n",
    "                    a_w_array[idx_w, idx_i] = self.model.a_w[idx_i, w]\n",
    "                    b_w_array[idx_w, idx_i] = self.model.b_w[idx_i, w]\n",
    "        \n",
    "            # Print the arrays\n",
    "            print(\"[DEBUG] a_w as a NumPy array:\")\n",
    "            print(a_w_array)\n",
    "            print(\"[DEBUG] b_w as a NumPy array:\")\n",
    "            print(b_w_array)\n",
    "\n",
    "\n",
    "        # Big M parameter array\n",
    "        def M_init(model, i):\n",
    "            return self.M_array[i - 1]\n",
    "\n",
    "        self.model.M = pyo.Param(self.model.N, initialize=M_init)\n",
    "\n",
    "        #### Variables\n",
    "        # Time variables\n",
    "        self.model.t_w = pyo.Var(self.model.N, self.model.w, within=pyo.NonNegativeReals)\n",
    "        self.model.t_ikw = pyo.Var(self.model.JobsT, self.model.k, self.model.w, within=pyo.NonNegativeReals)\n",
    "\n",
    "        # Decision variables x[i, j, k]\n",
    "        self.model.x = pyo.Var(self.model.N, self.model.N, self.model.k, within=pyo.Binary)\n",
    "\n",
    "        # Indicator variable u[i, k]\n",
    "        self.model.u = pyo.Var(self.model.N, self.model.k, within=pyo.Binary)\n",
    "\n",
    "        # Max Flowtime variable\n",
    "        self.model.y_w = pyo.Var(self.model.w, within=pyo.NonNegativeReals)\n",
    "\n",
    "        #### (1a) Objective (WITH W)\n",
    "        def min_max_rule(model): # Sum of p_w * y_w over all scenarios w\n",
    "            return sum(\n",
    "                model.p_w[w] * model.y_w[w] \n",
    "                for w in model.w\n",
    "            )\n",
    "            \n",
    "        # (2) Max Flow Time (WITH W)\n",
    "        def makespan_constraint_rule(model, k, w): # y >= t[n, k, w] for all machines k\n",
    "            return model.y_w[w] >= model.t_ikw[n, k, w]  # Adjusted to match 0-based indexing\n",
    "        self.model.makespan_constraint = pyo.Constraint(self.model.k, self.model.w, rule=makespan_constraint_rule)\n",
    "\n",
    "        # (3) Average Makespan\n",
    "        def min_sum_rule(model):\n",
    "            return sum(\n",
    "                model.c[i, j, k] * model.x[i, j, k]\n",
    "                for i in model.N for j in model.N for k in model.k\n",
    "                if i != j and model.c[i, j, k] != 10000  # Exclude diagonal and impossible cost\n",
    "            )\n",
    "        \n",
    "        # (1) Biobjective function\n",
    "        self.model.objective = pyo.Objective(\n",
    "            expr=self.w1 * min_max_rule(self.model) + (1 - self.w1) * min_sum_rule(self.model) / 2,\n",
    "            sense=pyo.minimize\n",
    "        )\n",
    "\n",
    "        #### Constraints\n",
    "\n",
    "        # (4) Closed-Loop Start  (WITH W)\n",
    "        def closed_loop_first_job_rule(model, i, k, w):\n",
    "            return model.t_w[i,w] - model.c[0, i, k] * model.x[0, i, k] >= 0\n",
    "        self.model.closed_loop_first = pyo.Constraint(self.model.Jobs1toN, self.model.k, self.model.w, rule=closed_loop_first_job_rule)\n",
    "\n",
    "        # (5) Closed-Loop End  (WITH W)\n",
    "        def closed_loop_last_job_rule(model, i, k, w):\n",
    "            return model.t_w[i,w] + model.c[i, 0, k] * model.x[i, 0, k] <= model.t_ikw[n, k, w]\n",
    "        self.model.closed_loop_last = pyo.Constraint(self.model.Jobs1toN, self.model.k, self.model.w, rule=closed_loop_last_job_rule)\n",
    "\n",
    "        # (6) Subtour elimination constraints  (WITH W)\n",
    "        def subtour_elimination_2a_rule(model, i, j, k, w):\n",
    "            if i != j:\n",
    "                return (\n",
    "                    model.t_ikw[i, k, w] - model.t_ikw[j, k, w]\n",
    "                    + (model.b_w[i, w] * model.x[i, j, k] - model.a_w[j, w] * model.x[i, j, k])\n",
    "                    + model.c[i, j, k] * model.x[i, j, k]\n",
    "                    <= model.b_w[i, w] - model.a_w[j, w]\n",
    "                )\n",
    "            else:\n",
    "                return pyo.Constraint.Skip\n",
    "        self.model.subtour_elimination_2a = pyo.Constraint(self.model.Jobs1toN, self.model.Jobs1toN, self.model.k, self.model.w, rule=subtour_elimination_2a_rule)\n",
    "\n",
    "        # (7) Incapable arcs: Additional constraint to set x[i, j, k] to zero if cost matrix value is bigM\n",
    "        def set_known_zero_x_rule(model, i, j, k):\n",
    "            if self.cost_matrix[i, j, k - 1] == 10000:  # Adjust for zero-based indexing in cost_matrix\n",
    "                return model.x[i, j, k] == 0\n",
    "            return pyo.Constraint.Skip\n",
    "        self.model.set_known_zero_x = pyo.Constraint(self.model.N, self.model.N, self.model.k, rule=set_known_zero_x_rule)\n",
    "\n",
    "        # (8) First Job Assignment\n",
    "        def first_job_combined_rule(model, j, k):\n",
    "            if j == k:\n",
    "                return model.x[0, j, k] == 1\n",
    "            else:\n",
    "                return model.x[0, j, k] == 0\n",
    "        self.model.first_job_combined = pyo.Constraint(self.model.N, self.model.k, rule=first_job_combined_rule)\n",
    "\n",
    "        # (9) Last Job Assignment\n",
    "        def last_job_for_all_machines_rule(model, k):\n",
    "            return sum(model.x[i, 0, k] for i in model.Jobs1toN) == 1\n",
    "        self.model.last_job_for_all_machines = pyo.Constraint(self.model.k, rule=last_job_for_all_machines_rule)\n",
    "\n",
    "        # (10) Outgoing Assignments\n",
    "        def assignment_rule_from(model, j):\n",
    "            return sum(model.x[i, j, k] for i in model.Jobs if i != j for k in model.k) == 1\n",
    "        self.model.assignment_from = pyo.Constraint(self.model.Jobs1toN, rule=assignment_rule_from)\n",
    "\n",
    "        # (11) Incoming Assignments\n",
    "        def assignment_rule_to(model, j):\n",
    "            return sum(model.x[j, i, k] for i in model.Jobs if i != j for k in model.k) == 1\n",
    "        self.model.assignment_to = pyo.Constraint(self.model.Jobs1toN, rule=assignment_rule_to)\n",
    "\n",
    "        # (12) Self-Loop Elimination\n",
    "        def no_self_tour_rule(model, i, k):\n",
    "            return model.x[i, i, k] == 0\n",
    "        self.model.no_self_tour = pyo.Constraint(self.model.Jobs1toN, self.model.k, rule=no_self_tour_rule)\n",
    "\n",
    "        # (13) Time Windows  (WITH W)\n",
    "        def time_window_rule_lower(model, i, w):\n",
    "            return model.a_w[i, w] <= model.t_w[i, w]\n",
    "        self.model.time_window_lower = pyo.Constraint(self.model.Jobs1toN, self.model.w, rule=time_window_rule_lower)\n",
    "\n",
    "        def time_window_rule_upper(model, i, w):\n",
    "            return model.t_w[i, w] <= model.b_w[i, w]\n",
    "        self.model.time_window_upper = pyo.Constraint(self.model.Jobs1toN, self.model.w, rule=time_window_rule_upper)\n",
    "\n",
    "        # (14) Linking u and x variables\n",
    "        def linking_u_x_rule(model, i, k):\n",
    "            return sum(model.x[i, j, k] for j in model.Jobs if j != i) == model.u[i, k]\n",
    "        self.model.linking_u_x = pyo.Constraint(self.model.Jobs, self.model.k, rule=linking_u_x_rule)\n",
    "\n",
    "        # (15) Depot initialization  (WITH W)\n",
    "        def depot_initialization_rule(model, w):\n",
    "            return model.t_w[0, w] == 0\n",
    "        self.model.depot_initialization = pyo.Constraint(self.model.w, rule=depot_initialization_rule)\n",
    "\n",
    "        # (16) Time linking: job start per machine to job start  (WITH W)\n",
    "        def big_m_time_linking_rule1(model, i, k, w):\n",
    "            return model.t_ikw[i, k, w] <= model.t_w[i, w]\n",
    "        self.model.big_m_time_link1 = pyo.Constraint(self.model.Jobs, self.model.k, self.model.w, rule=big_m_time_linking_rule1)\n",
    "\n",
    "        # (17a and 17b) Big M time linking  (WITH W)\n",
    "        def big_m_time_linking_rule2(model, i, k, w):\n",
    "            return model.t_ikw[i, k, w] >= model.t_w[i, w] - model.M[i] + model.M[i] * model.u[i, k]\n",
    "        self.model.big_m_time_link2 = pyo.Constraint(self.model.Jobs, self.model.k, self.model.w, rule=big_m_time_linking_rule2)\n",
    "\n",
    "        def big_m_time_linking_rule3(model, i, k, w):\n",
    "            return model.t_ikw[i, k, w] <= model.M[i] * model.u[i, k]\n",
    "        self.model.big_m_time_link3 = pyo.Constraint(self.model.Jobs, self.model.k, self.model.w, rule=big_m_time_linking_rule3)\n",
    "\n",
    "        # (18) Symmetry-Breaking (for those big and nasty problems)  (WITH W)\n",
    "        if self.symmetry_breaking_pairs: # Uses the LPT after the same Recipe and Arrival Time \n",
    "            for k, job_pairs in self.symmetry_breaking_pairs.items():   # For each machine\n",
    "                for i, j in job_pairs:  # For each job pair (no adjustment for job indices)\n",
    "                    for w in self.model.w:\n",
    "                        self.model.add_component( # Add symmetry-breaking constraint using original indices\n",
    "                            f\"symmetry_breaking_{i}_{j}_machine_{k}_scenario_{w}\",\n",
    "                            #pyo.Constraint(expr=self.model.t_ik[i, k] * self.model.u[j, k] <= self.model.t_ik[j, k]) # quadratic\n",
    "                            pyo.Constraint(expr=self.model.t_w[i, w] <= self.model.t_w[j, w]) # Simplified to real versus real\n",
    "                        )\n",
    "\n",
    "    def scenario_generating(self, sim_time, bigM= 10000):\n",
    "        \"\"\"\n",
    "        Generates job scheduling scenarios based on arrival timing, recipe clusters, and processing times.\n",
    "\n",
    "        Parameters:\n",
    "        sim_time (int): Current simulation time.\n",
    "\n",
    "        Returns:\n",
    "        dict: Adjusted scenarios ('a', 'b'), whether deterministic, and cluster probabilities.\n",
    "        \"\"\"\n",
    "        # Extract parameters from the stochastic_parameters dictionary\n",
    "        nanmean = self.stochastic_parameters['nanmean']\n",
    "        min_difference_time = self.stochastic_parameters['min_difference_time']\n",
    "        earliness = self.stochastic_parameters['earliness']\n",
    "\n",
    "        a, b, problem_df = self.a_sim, self.b_sim, self.problem_df.copy()\n",
    "\n",
    "        # if self.debug:\n",
    "        #     print(f\"[DEBUG] Starting scenario generation with sim_time={sim_time}, min_difference_time={min_difference_time}\")\n",
    "        #     print(f\"[DEBUG] Original 'a': {a}\")\n",
    "        #     print(f\"[DEBUG] Original 'b': {b}\")\n",
    "        #     print(f\"[DEBUG] Recipe Cluster: {list(problem_df['Recipe_Cluster'])}\")\n",
    "\n",
    "        # Step 1: Find the next unique `a` value greater than `sim_time`\n",
    "        future_a_values = a[1:][a[1:] > sim_time]\n",
    "        if len(future_a_values) == 0:\n",
    "            if self.debug:\n",
    "                print(\"[DEBUG] No jobs found after the current sim_time.\")\n",
    "            return {\n",
    "                'a': a,\n",
    "                'b': b,\n",
    "                'isDeterministic': True,\n",
    "                'Scenarios': {}\n",
    "            }\n",
    "\n",
    "        next_a_value = np.min(future_a_values)\n",
    "        next_jobs_mask = (a[1:] == next_a_value)\n",
    "        next_jobs_df = problem_df[next_jobs_mask]\n",
    "        next_recipe_clusters = np.sort(next_jobs_df['Recipe_Cluster'].unique())\n",
    "\n",
    "        # Use numpy for probability calculations\n",
    "        cluster_labels, cluster_counts = np.unique(next_jobs_df['Recipe_Cluster'], return_counts=True)\n",
    "        total_next_jobs = cluster_counts.sum()\n",
    "        next_probabilities = cluster_counts / total_next_jobs\n",
    "\n",
    "        # Create dict for Scenarios\n",
    "        scenarios = {label: prob for label, prob in zip(cluster_labels, next_probabilities)}\n",
    "\n",
    "        # if self.debug:\n",
    "        #     print(f\"[DEBUG] Next jobs mask: {next_jobs_mask}\")\n",
    "        #     print(f\"[DEBUG] Next unique `a` value: {next_a_value}\")\n",
    "        #     print(f\"[DEBUG] Cluster labels: {cluster_labels}\")\n",
    "        #     print(f\"[DEBUG] Cluster counts: {cluster_counts}\")\n",
    "        #     print(f\"[DEBUG] Next probabilities: {next_probabilities}\")\n",
    "        #     print(f\"[DEBUG] Scenarios: {scenarios}\")\n",
    "\n",
    "        # Step 2: Check if the scenario is deterministic\n",
    "        if len(next_recipe_clusters) == 1 or abs(sim_time - next_a_value) <= min_difference_time:\n",
    "            if self.debug:\n",
    "                print(f\"[DEBUG] Deterministic scenario identified.\")\n",
    "            return {\n",
    "                'a': a,\n",
    "                'b': b,\n",
    "                'isDeterministic': True,\n",
    "                'Scenarios': scenarios\n",
    "            }\n",
    "\n",
    "        # Step 3: Process for stochastic scenarios\n",
    "        processing_minutes = problem_df[['Machine1_ProcessMinutes', 'Machine2_ProcessMinutes']].to_numpy(dtype=float)\n",
    "\n",
    "        # Handle bigM values based on nanmean assumption\n",
    "        if nanmean:\n",
    "            avg_processing_times = np.nanmean(# Temporarily treat bigM=10000 as np.nan during computation\n",
    "                np.where(processing_minutes == bigM, np.nan, processing_minutes),\n",
    "                axis=1)\n",
    "        else:\n",
    "            # Treat np.nan as 10000 to handle the case where bigM was interpreted as np.nan\n",
    "            avg_processing_times = np.mean(\n",
    "                np.where(np.isnan(processing_minutes), bigM, processing_minutes),\n",
    "                axis=1)\n",
    "\n",
    "\n",
    "        # Find the index of the max processing time for each relevant recipe cluster\n",
    "        cluster_max_indices = (\n",
    "            next_jobs_df.groupby('Recipe_Cluster')\n",
    "            .apply(lambda df: df.index[np.argmax(avg_processing_times[df.index])], include_groups=False)\n",
    "            .to_numpy()\n",
    "        )\n",
    "\n",
    "        selected_jobs = problem_df.loc[cluster_max_indices]\n",
    "\n",
    "        # if self.debug:\n",
    "        #     print(f\"[DEBUG] Relevant jobs for stochastic scenarios:\")\n",
    "        #     display(next_jobs_df)\n",
    "        #     print(f\"[DEBUG] Selected jobs for stochastic scenarios:\")\n",
    "        #     display(selected_jobs)\n",
    "\n",
    "        # Step 4: Create scenarios using numpy operations\n",
    "        selected_indices = selected_jobs.index.to_numpy() + 1  # Adjust for prepended 0 in a and b\n",
    "        num_scenarios = len(selected_indices)\n",
    "\n",
    "        a_scenarios = np.tile(a, (num_scenarios, 1))\n",
    "        b_scenarios = np.tile(b, (num_scenarios, 1))\n",
    "\n",
    "        adjusted_a_values = np.maximum(\n",
    "            a_scenarios[np.arange(num_scenarios), selected_indices] - earliness,\n",
    "            sim_time + min_difference_time\n",
    "        )\n",
    "        # Ensure b mirrors the same adjustment applied to a\n",
    "        adjusted_b_values = b_scenarios[np.arange(num_scenarios), selected_indices] - (\n",
    "            a_scenarios[np.arange(num_scenarios), selected_indices] - adjusted_a_values\n",
    "        )\n",
    "\n",
    "        # Apply the adjustments\n",
    "        a_scenarios[np.arange(num_scenarios), selected_indices] = adjusted_a_values\n",
    "        b_scenarios[np.arange(num_scenarios), selected_indices] = adjusted_b_values\n",
    "\n",
    "        # if self.debug:\n",
    "        #     print(f\"[DEBUG] Final Scenarios for 'a':\\n{a_scenarios}\")\n",
    "        #     print(f\"[DEBUG] Final Scenarios for 'b':\\n{b_scenarios}\")\n",
    "\n",
    "        return {\n",
    "            'a': a_scenarios,\n",
    "            'b': b_scenarios,\n",
    "            'isDeterministic': False,\n",
    "            'Scenarios': scenarios\n",
    "        }\n",
    "        \n",
    "    def stochastic_iterative_solving(self):\n",
    "        \"\"\"\n",
    "        Iteratively solves the stochastic version of the VRP using a similar approach as iterative_solving.\n",
    "        \"\"\"\n",
    "        time_window_delta = self.delta_start  # Start delta\n",
    "        SIMTIME = np.unique(self.a_true)  # Unique SIMTIME values\n",
    "        \n",
    "        # Initialize solution trackers\n",
    "        prev_t_ik = {}\n",
    "        prev_x_ijk = {}\n",
    "        \n",
    "        cumulative_x_fixes = set()  # Track cumulative fixings\n",
    "        \n",
    "        for sim_time in SIMTIME:\n",
    "            if self.debug: print(f\"[DEBUG] Simulating for SIMTIME = {sim_time}\")\n",
    "    \n",
    "            # Update simulated a and b based on SIMTIME\n",
    "            mask = sim_time >= self.a_true\n",
    "            self.a_sim = np.where(mask, self.a_true, self.a_sim)\n",
    "            self.b_sim = np.where(mask, self.b_true, self.b_sim)\n",
    "\n",
    "            result = self.scenario_generating(sim_time)\n",
    "            a_scenarios, b_scenarios, isDeterministic, scenarios = (result['a'], \n",
    "                                                                    result['b'], \n",
    "                                                                    result['isDeterministic'], \n",
    "                                                                    result['Scenarios'])\n",
    "            \n",
    "\n",
    "            # Create and update model\n",
    "            if isDeterministic:\n",
    "                self.create_model(time_window_delta)\n",
    "            else:\n",
    "                self.create_model_stochastic(time_window_delta, a_scenarios, b_scenarios, scenarios)\n",
    "            \n",
    "            # Apply cumulative constraints\n",
    "            if self.debug:\n",
    "                print(\"[DEBUG] Applying cumulative constraints from previous iterations:\")\n",
    "            for (i, j, k) in cumulative_x_fixes:\n",
    "                self.add_cumulative_constraints(i, j, k)\n",
    "            \n",
    "            # Apply new fixings based on t_ik and SIMTIME\n",
    "            if self.debug:\n",
    "                print(\"[DEBUG] Applying new fixings based on t_ik values and SIMTIME:\")\n",
    "            for (i, k), t_value in prev_t_ik.items():\n",
    "                if sim_time < t_value:\n",
    "                    continue  # Skip if SIMTIME not reached\n",
    "        \n",
    "                x_values = prev_x_ijk.get((i, k), {})\n",
    "                for j, x_value in x_values.items():\n",
    "                    if x_value != 1:  # Check for exact equality with 1\n",
    "                        if self.debug: \n",
    "                            print(f\"[DEBUG] Skipping x[{i},{j},{k}] as value {x_value} is not close enough to 1.\")\n",
    "                        continue  # Only fix values close to 1\n",
    "    \n",
    "                    # Apply cumulative constraint and track\n",
    "                    self.add_cumulative_constraints(i, j, k)\n",
    "                    cumulative_x_fixes.add((i, j, k))\n",
    "            \n",
    "            # Solve model               \n",
    "            self.solve()\n",
    "            \n",
    "            # Retrieve and print solution\n",
    "            if isDeterministic:\n",
    "                solution = self.get_solution()\n",
    "            else:\n",
    "                solution = self.get_solution_stochastic()\n",
    "            \n",
    "            if self.result is None:\n",
    "                if self.debug:\n",
    "                    print(\"[ERROR] Solver returned no result. Aborting iterations.\")\n",
    "                break  # Exit loop if no result\n",
    "\n",
    "            if self.debug:\n",
    "                print(f\"x_assignments: {solution['x_variables']}\")\n",
    "                print(f\"t_assignments: {solution['t_variables']}\")\n",
    "    \n",
    "            # Store solution if feasible or optimal\n",
    "            if self.result.solver.termination_condition in [\n",
    "                pyo.TerminationCondition.optimal,\n",
    "                pyo.TerminationCondition.feasible, \n",
    "                pyo.TerminationCondition.maxTimeLimit,\n",
    "            ]:\n",
    "                \n",
    "                if isDeterministic:\n",
    "                    if self.debug:\n",
    "                        print(\"[DEBUG] Extracting t_ik values for deterministic model.\")\n",
    "                    prev_t_ik = {\n",
    "                        (i, k): value\n",
    "                        for (i, k), value in self.model.t_ik.get_values().items()\n",
    "                    }\n",
    "                else:\n",
    "                    if self.debug:\n",
    "                        print(\"[DEBUG] Extracting t_ikw values for stochastic model and taking max across scenarios.\")\n",
    "                    t_ikw_values = self.model.t_ikw.get_values()\n",
    "                    prev_t_ik = {}\n",
    "                    for (i, k, w), value in t_ikw_values.items():\n",
    "                        if (i, k) not in prev_t_ik:\n",
    "                            prev_t_ik[(i, k)] = int(round(value))\n",
    "                        else:\n",
    "                            prev_t_ik[(i, k)] = int(round(max(prev_t_ik[(i, k)], value)))\n",
    "\n",
    "                if self.debug: print(prev_t_ik)\n",
    "                # Track x values close to 1\n",
    "                prev_x_ijk = {}\n",
    "                for (i, j, k), value in self.model.x.get_values().items():\n",
    "                    if value == 1:  # Check for exact equality with 1\n",
    "                        if (i, k) not in prev_x_ijk:\n",
    "                            prev_x_ijk[(i, k)] = {}  # Initialize inner dict\n",
    "                        prev_x_ijk[(i, k)][j] = value  # Store j and value in inner dict\n",
    "                \n",
    "                # Update warm_start with the current x values\n",
    "                self.warm_start = np.array([\n",
    "                    [[round(self.model.x[i, j, k + 1].value) for k in range(self.warm_start.shape[2])]\n",
    "                     for j in range(self.warm_start.shape[1])]\n",
    "                    for i in range(self.warm_start.shape[0])\n",
    "                ], dtype=int)\n",
    "\n",
    "                if self.debug:\n",
    "                    print(\"[DEBUG] Solution saved for next warm start.\")\n",
    "            else:\n",
    "                if self.debug:\n",
    "                    print(\"[DEBUG] No feasible solution found.\")\n",
    "                break  # Exit loop if infeasible\n",
    "\n",
    "    def get_solution_stochastic(self, rounding_tolerance=8):\n",
    "        if self.result is None or self.result.solver.termination_condition not in [\n",
    "            pyo.TerminationCondition.optimal,\n",
    "            pyo.TerminationCondition.maxTimeLimit,\n",
    "        ]:\n",
    "            return {\n",
    "                \"status\": \"Aborted\",\n",
    "                \"objective_value\": None,\n",
    "                \"solution_time\": self.solution_time,\n",
    "                \"makespan\": None,\n",
    "                \"x_variables\": {},\n",
    "                \"t_variables\": {},\n",
    "                \"decision_matrix\": None\n",
    "            }\n",
    "    \n",
    "        num_jobs = len(self.model.N)\n",
    "        num_machines = len(self.model.k)\n",
    "        decision_matrix = np.zeros((num_jobs, num_jobs, num_machines),\n",
    "                                   dtype=int)\n",
    "    \n",
    "        solution = {\n",
    "            \"status\": self.result.solver.termination_condition,\n",
    "            \"objective_value\": round(pyo.value(self.model.objective), 2),\n",
    "            \"solution_time\": self.solution_time,\n",
    "            \"makespan\": {}, \n",
    "            \"x_variables\": {},\n",
    "            \"t_variables\": {},  # Updated to store `t_ikw` values\n",
    "            \"decision_matrix\": decision_matrix\n",
    "        }\n",
    "    \n",
    "        # Populate and sort t_ikw variables\n",
    "        sorted_t_ikw_values = sorted(\n",
    "            (\n",
    "                (i, k, w, int(round(value)))\n",
    "                for (i, k, w), value in self.model.t_ikw.get_values().items()\n",
    "                if round(value, rounding_tolerance) >= 1\n",
    "            ),\n",
    "            key=lambda x: (x[2], x[1], x[3])  # Sort by scenario w, then machine k, then time value\n",
    "        )\n",
    "        \n",
    "        # Store sorted t_ikw values\n",
    "        for i, k, w, value in sorted_t_ikw_values:\n",
    "            solution[\"t_variables\"][f\"t_ikw[{i},{k},{w}]\"] = int(round(value, rounding_tolerance))\n",
    "    \n",
    "        # Collect and sort x variables\n",
    "        sorted_x_values = sorted(\n",
    "            ((i, j, k, int(round(value))) for (i, j, k), value in self.model.x.get_values().items() if round(value) >= 1),\n",
    "            key=lambda x: (x[2], x[0], x[1])  # Sort by k, then i, then j\n",
    "        )\n",
    "        \n",
    "        # Store x values in matrix\n",
    "        for i, j, k, value in sorted_x_values:\n",
    "            decision_matrix[i, j, k - 1] = value\n",
    "            solution[\"x_variables\"][f\"x[{i},{j},{k}]\"] = int(round(value))\n",
    "    \n",
    "        # Return processed solution\n",
    "        return solution\n"
   ]
  },
  {
   "cell_type": "markdown",
   "id": "a6e4762a-6eb5-4c45-98da-cbf2fd4019c7",
   "metadata": {},
   "source": [
    "##### Debugging specific Problem Numbers"
   ]
  },
  {
   "cell_type": "code",
   "execution_count": 115,
   "id": "8776e2e2-8c34-41a6-b685-0cf99e15c081",
   "metadata": {
    "scrolled": true
   },
   "outputs": [
    {
     "name": "stdout",
     "output_type": "stream",
     "text": [
      "QueueSize:25; ProblemNumber:277\n",
      "Providing MIP of 828.5\n"
     ]
    },
    {
     "data": {
      "text/plain": [
       "{'status': <TerminationCondition.optimal: 'optimal'>,\n",
       " 'objective_value': 585.25,\n",
       " 'solution_time': 10.19,\n",
       " 'makespan': 648,\n",
       " 'x_variables': {'x[0,1,1]': 1,\n",
       "  'x[1,13,1]': 1,\n",
       "  'x[6,24,1]': 1,\n",
       "  'x[13,15,1]': 1,\n",
       "  'x[14,18,1]': 1,\n",
       "  'x[15,14,1]': 1,\n",
       "  'x[16,6,1]': 1,\n",
       "  'x[17,23,1]': 1,\n",
       "  'x[18,17,1]': 1,\n",
       "  'x[20,22,1]': 1,\n",
       "  'x[22,16,1]': 1,\n",
       "  'x[23,20,1]': 1,\n",
       "  'x[24,0,1]': 1,\n",
       "  'x[0,2,2]': 1,\n",
       "  'x[2,7,2]': 1,\n",
       "  'x[3,8,2]': 1,\n",
       "  'x[4,21,2]': 1,\n",
       "  'x[5,4,2]': 1,\n",
       "  'x[7,3,2]': 1,\n",
       "  'x[8,12,2]': 1,\n",
       "  'x[9,10,2]': 1,\n",
       "  'x[10,25,2]': 1,\n",
       "  'x[11,0,2]': 1,\n",
       "  'x[12,5,2]': 1,\n",
       "  'x[19,9,2]': 1,\n",
       "  'x[21,19,2]': 1,\n",
       "  'x[25,11,2]': 1},\n",
       " 't_variables': {'t_ik[13,1]': 150,\n",
       "  't_ik[15,1]': 196,\n",
       "  't_ik[14,1]': 240,\n",
       "  't_ik[18,1]': 305,\n",
       "  't_ik[17,1]': 333,\n",
       "  't_ik[23,1]': 350,\n",
       "  't_ik[20,1]': 507,\n",
       "  't_ik[22,1]': 526,\n",
       "  't_ik[16,1]': 555,\n",
       "  't_ik[6,1]': 624,\n",
       "  't_ik[24,1]': 632,\n",
       "  't_ik[26,1]': 648,\n",
       "  't_ik[7,2]': 70,\n",
       "  't_ik[3,2]': 167,\n",
       "  't_ik[8,2]': 175,\n",
       "  't_ik[12,2]': 225,\n",
       "  't_ik[5,2]': 293,\n",
       "  't_ik[4,2]': 326,\n",
       "  't_ik[21,2]': 334,\n",
       "  't_ik[19,2]': 345,\n",
       "  't_ik[9,2]': 418,\n",
       "  't_ik[10,2]': 493,\n",
       "  't_ik[25,2]': 576,\n",
       "  't_ik[11,2]': 588,\n",
       "  't_ik[26,2]': 648},\n",
       " 'decision_matrix': array([[[0, 0],\n",
       "         [1, 0],\n",
       "         [0, 1],\n",
       "         ...,\n",
       "         [0, 0],\n",
       "         [0, 0],\n",
       "         [0, 0]],\n",
       " \n",
       "        [[0, 0],\n",
       "         [0, 0],\n",
       "         [0, 0],\n",
       "         ...,\n",
       "         [0, 0],\n",
       "         [0, 0],\n",
       "         [0, 0]],\n",
       " \n",
       "        [[0, 0],\n",
       "         [0, 0],\n",
       "         [0, 0],\n",
       "         ...,\n",
       "         [0, 0],\n",
       "         [0, 0],\n",
       "         [0, 0]],\n",
       " \n",
       "        ...,\n",
       " \n",
       "        [[0, 0],\n",
       "         [0, 0],\n",
       "         [0, 0],\n",
       "         ...,\n",
       "         [0, 0],\n",
       "         [0, 0],\n",
       "         [0, 0]],\n",
       " \n",
       "        [[1, 0],\n",
       "         [0, 0],\n",
       "         [0, 0],\n",
       "         ...,\n",
       "         [0, 0],\n",
       "         [0, 0],\n",
       "         [0, 0]],\n",
       " \n",
       "        [[0, 0],\n",
       "         [0, 0],\n",
       "         [0, 0],\n",
       "         ...,\n",
       "         [0, 0],\n",
       "         [0, 0],\n",
       "         [0, 0]]])}"
      ]
     },
     "execution_count": 115,
     "metadata": {},
     "output_type": "execute_result"
    }
   ],
   "source": [
    "# Preparing the data into matrices and whatnot\n",
    "QueueSize, ProblemNumber = 25, 277\n",
    "\n",
    "#QueueSize: 25; ProblemNumber: 277\n",
    "\n",
    "print(f'QueueSize:{QueueSize}; ProblemNumber:{ProblemNumber}')\n",
    "\n",
    "# Load problem df\n",
    "#file_path = f'ProblemSets/7Queue_debugging_development'\n",
    "file_path = f'ProblemSets/Training_Queue{QueueSize}'\n",
    "problem_df = pd.read_pickle(f'{file_path}/Problem_{ProblemNumber}_jobs.pkl')\n",
    "\n",
    "# Load cost matrix\n",
    "cost_matrix = np.load(f'{file_path}/Problem_{ProblemNumber}_cost_matrix.npy')\n",
    "\n",
    "# Load warm start solution from AI_LPT DES simulation to start!\n",
    "## Finds the  best EXPECTED SolutionNumber to use\n",
    "SolutionNumber_WarmStart = get_best_AI_LPT(QueueSize, ProblemNumber)['SolutionNumber'].iloc[0]\n",
    "solution_dict = pd.read_pickle(f'{file_path}/Solutions/AI_LPT/Problem_{ProblemNumber}_Solution_{SolutionNumber_WarmStart}.pkl') # more efficient to store a dict of the solutions\n",
    "warm_start_obj_value,  warm_start_transition_matrix = solution_dict['obj_value'], np.array(solution_dict['transition_matrix']) # and then grab all the elements needed from the pkl dict\n",
    "print(f\"Providing MIP of {warm_start_obj_value}\")\n",
    "\n",
    "# Initialize VRPSolver\n",
    "# Hyperparameters\n",
    "delta_start_map = { # queuesize to delta start\n",
    "    10: 650,\n",
    "    25: 650,\n",
    "    50: 2000,\n",
    "    75: 3000\n",
    "}\n",
    "delta_start = delta_start_map.get(QueueSize, 1000) # between 0 and 3000 minutes, integers\n",
    "runtime_seconds_max = 10 # between 0.25 and 30 seconds (assumed much less than 5 minutes for speed and simulating)\n",
    "num_threads = 1\n",
    "\n",
    "\n",
    "solver = StochasticVRPSolver(\n",
    "    cost_matrix=cost_matrix,\n",
    "    problem_df=problem_df,\n",
    "    problemset_num=QueueSize,\n",
    "    problem_num=ProblemNumber,\n",
    "    warm_start=warm_start_transition_matrix,\n",
    "    debug=False,\n",
    "    stochastic_parameters={\n",
    "        \"nanmean\": True  # How to average multiple machine processing times with bigM/NaNs... ignore or bake in?\n",
    "        #\"min_difference_time\": 5,\n",
    "        #\"earliness\": 30,\n",
    "    },\n",
    "    hyperparams={\n",
    "         \"delta_start\": delta_start,  # Between 0 and 3000 minutes\n",
    "         \"num_threads\": num_threads,  # Adjusted based on available cores\n",
    "         \"time_limit\": runtime_seconds_max,  # Solver time limit in seconds\n",
    "         \"symmetry_breaking\": False,  # Enable symmetry-breaking constraints\n",
    "         \"mip_focus\": 2,  # MIP focus control # MIP focus: 0=auto, 1=optimality, 2=feasibility, 3=balance\n",
    "         \"cuts\": 3,  # Cut generation control # Cut generation: 0=auto, 1=minimal, 2=moderate, 3=aggressive\n",
    "         \"heuristics\":  0.7218608689267029,  # Fraction of time for primal heuristics  # Fraction of time for primal heuristics (0.0 to 1.0)\n",
    "         \"presolve\": 1  # Presolve phase # Presolve: -1=auto, 0=off, 1=conservative, 2=aggressive\n",
    "    }\n",
    ")\n",
    "# {'delta_start': 1685, 'symmetry_breaking': True, 'mip_focus': 2, 'cuts': 3, 'heuristics': 0.7218608689267029, 'presolve': 1}\n",
    "\n",
    "# Run optimization with warm start\n",
    "solver.stochastic_iterative_solving()\n",
    "\n",
    "\n",
    "# Get the final solution after the iteration process\n",
    "solution = solver.get_solution()\n",
    "\n",
    "# Output solution\n",
    "solution"
   ]
  },
  {
   "cell_type": "markdown",
   "id": "b3a4d6e1-9fd6-4ac4-89c9-ef393307ca2f",
   "metadata": {
    "jp-MarkdownHeadingCollapsed": true
   },
   "source": [
    "### Hyperparameter Tuning"
   ]
  },
  {
   "cell_type": "markdown",
   "id": "33dd4f28-3f0c-4c9f-9e36-0d34dd7269e9",
   "metadata": {},
   "source": [
    "#### Saving, loading, and running Optuna studies so that the work isn't lost"
   ]
  },
  {
   "cell_type": "code",
   "execution_count": 3,
   "id": "947ccaab-6940-4d8c-9dc1-0f5f447cb299",
   "metadata": {},
   "outputs": [
    {
     "name": "stderr",
     "output_type": "stream",
     "text": [
      "/home/jblitz/miniconda3/envs/MathOpt/lib/python3.10/site-packages/tqdm/auto.py:21: TqdmWarning: IProgress not found. Please update jupyter and ipywidgets. See https://ipywidgets.readthedocs.io/en/stable/user_install.html\n",
      "  from .autonotebook import tqdm as notebook_tqdm\n"
     ]
    }
   ],
   "source": [
    "import optuna\n",
    "import os\n",
    "import pickle\n",
    "\n",
    "\n",
    "\n",
    "def save_study(study, folder_path=\"optuna_studies\", study_name=\"default_study\"):\n",
    "    # Ensure the folder exists\n",
    "    os.makedirs(folder_path, exist_ok=True)\n",
    "    \n",
    "    # Save the study as a pickle file\n",
    "    file_path = os.path.join(folder_path, f\"{study_name}.pkl\")\n",
    "    with open(file_path, \"wb\") as f:\n",
    "        pickle.dump(study, f)\n",
    "    print(f\"Study saved to {file_path}\")\n",
    "\n",
    "\n",
    "def load_study(folder_path=\"optuna_studies\", study_name=\"default_study\"):\n",
    "    # Load the study from a pickle file\n",
    "    file_path = os.path.join(folder_path, f\"{study_name}.pkl\")\n",
    "    if not os.path.exists(file_path):\n",
    "        raise FileNotFoundError(f\"No study found at {file_path}\")\n",
    "    \n",
    "    with open(file_path, \"rb\") as f:\n",
    "        study = pickle.load(f)\n",
    "    print(f\"Study loaded from {file_path}\")\n",
    "\n",
    "    # Determine the number of completed trials\n",
    "    completed_trials = len(study.get_trials(deepcopy=False, \n",
    "                                            states=[optuna.trial.TrialState.COMPLETE]))\n",
    "    print(f\"[INFO] Starting from Trial {completed_trials}\")\n",
    "    \n",
    "    return study\n"
   ]
  },
  {
   "cell_type": "code",
   "execution_count": 4,
   "id": "5157a316-0cde-48de-8536-cd3d6b337bf8",
   "metadata": {},
   "outputs": [],
   "source": [
    "import time\n",
    "import traceback\n",
    "\n",
    "def run_combined_AFK_cycle(\n",
    "    study_func,\n",
    "    queue_sizes,\n",
    "    n_trials=100,\n",
    "    n_jobs=1,\n",
    "    folder=\"optuna_studies\",\n",
    "    max_retries=3,\n",
    "    retry_delay=60,\n",
    "    run_delay=300,\n",
    "    **kwargs,\n",
    "):\n",
    "    \"\"\"\n",
    "    Combine cycle and retry logic for running studies across multiple queue sizes.\n",
    "\n",
    "    Args:\n",
    "        study_func (callable): The study function to run.\n",
    "        queue_sizes (list): List of queue sizes to iterate over.\n",
    "        n_trials (int): Number of trials per run.\n",
    "        n_jobs (int): Number of parallel jobs.\n",
    "        folder (str): Folder to save study results.\n",
    "        max_retries (int): Maximum retries before stopping a study for a queue size.\n",
    "        retry_delay (int): Seconds to wait after a failure.\n",
    "        run_delay (int): Seconds to wait between successful runs.\n",
    "        **kwargs: Additional arguments for the study function.\n",
    "    \"\"\"\n",
    "    while True:  # Continuous loop to cycle through queue sizes\n",
    "        for queue_size in queue_sizes:\n",
    "            study_name = f\"Queue{queue_size}_Study\"\n",
    "            retries = 0\n",
    "\n",
    "            while retries < max_retries:\n",
    "                try:\n",
    "                    # Run the study function\n",
    "                    study_func(queue_size=queue_size, n_trials=n_trials, n_jobs=n_jobs, study_name=study_name, folder_path=folder, **kwargs)                    \n",
    "                    # Wait between successful runs\n",
    "                    print(f\"Sleeping zZz  zZz  Zzz\")\n",
    "                    time.sleep(run_delay)\n",
    "                    break  # Exit retry loop on success\n",
    "\n",
    "                except Exception as e:\n",
    "                    retries += 1\n",
    "                    print(f\"[ERROR] Error during '{study_name}' (Retry {retries}/{max_retries}): {e}\")\n",
    "                    traceback.print_exc()\n",
    "                    time.sleep(retry_delay)\n",
    "\n",
    "                except KeyboardInterrupt:\n",
    "                    print(\"[INFO] Interrupted by user. Exiting.\")\n",
    "                    return  # Exit all loops on user interruption\n",
    "\n",
    "                except BaseException as e:\n",
    "                    print(f\"[CRITICAL] Unexpected error: {e}. Stopping.\")\n",
    "                    return  # Exit all loops on critical error\n",
    "\n",
    "            else:\n",
    "                print(f\"[ERROR] Max retries ({max_retries}) reached for '{study_name}'. Moving to the next queue size.\")\n",
    "\n"
   ]
  },
  {
   "cell_type": "markdown",
   "id": "7d414f56-9a54-49e7-a894-783f6dd55f9a",
   "metadata": {
    "jp-MarkdownHeadingCollapsed": true
   },
   "source": [
    "### Hyperparameter Tuning for Deterministic Optimization"
   ]
  },
  {
   "cell_type": "code",
   "execution_count": 8,
   "id": "71a3dd1d-bc1f-4659-8c2d-d749770ca664",
   "metadata": {
    "scrolled": true
   },
   "outputs": [
    {
     "name": "stderr",
     "output_type": "stream",
     "text": [
      "/home/jblitz/miniconda3/envs/MathOpt/lib/python3.10/site-packages/tqdm/auto.py:21: TqdmWarning: IProgress not found. Please update jupyter and ipywidgets. See https://ipywidgets.readthedocs.io/en/stable/user_install.html\n",
      "  from .autonotebook import tqdm as notebook_tqdm\n"
     ]
    }
   ],
   "source": [
    "import pyomo.environ as pyo\n",
    "import numpy as np\n",
    "import pandas as pd\n",
    "import multiprocessing\n",
    "import tempfile\n",
    "import shutil\n",
    "import os\n",
    "import optuna\n",
    "from optuna.samplers import TPESampler, RandomSampler\n",
    "import warnings\n",
    "warnings.filterwarnings(\"ignore\", category=optuna.exceptions.ExperimentalWarning)\n",
    "optuna.logging.set_verbosity(optuna.logging.INFO)\n",
    "\n",
    "\n",
    "# Define QueueSize-specific problem number ranges\n",
    "QUEUE_PROBLEM_RANGE = {\n",
    "    10: (1, 750),\n",
    "    25: (1, 300),\n",
    "    #50: (1, 150), # obsoleted\n",
    "    75: (1, 100),\n",
    "}\n",
    "\n",
    "# Define `minimum delta_start` based on observed max values (Figures in Chapter IV)\n",
    "delta_start_min_by_queue_size = {\n",
    "    25: 646,  # for queue size 25\n",
    "    75: 2495  # for queue size 75\n",
    "}\n",
    "\n",
    "def generate_problem(queue_size):\n",
    "    problem_range = QUEUE_PROBLEM_RANGE.get(queue_size, (1, 750))\n",
    "    problem_number = np.random.randint(*problem_range)\n",
    "    return queue_size, problem_number\n",
    "\n",
    "def load_problem_data(queue_size, problem_number, training=True):\n",
    "    \"\"\"\n",
    "    Load problem data for a given QueueSize and ProblemNumber.\n",
    "\n",
    "    Args:\n",
    "        queue_size (int): The size of the queue (e.g., 25 or 75).\n",
    "        problem_number (int): The problem number to load.\n",
    "        training (bool): Whether to load from the training folder prefix. \n",
    "                         Defaults to True. If False, loads from non-training folder prefix.\n",
    "\n",
    "    Returns:\n",
    "        tuple: problem_df, cost_matrix, warm_start_transition_matrix, traditional_SPT_obj_value\n",
    "    \"\"\"\n",
    "    # Determine folder prefix based on training flag\n",
    "    folder_prefix = \"Training_\" if training else \"\"\n",
    "    file_path = f\"ProblemSets/{folder_prefix}Queue{queue_size}\"\n",
    "    print(f'file_path used:{file_path}')\n",
    "\n",
    "    # Load traditional SPT objective value\n",
    "    traditional_SPT_obj_value = pd.read_pickle(\n",
    "        f\"{file_path}/Solutions/Traditional_true_SPT/Problem_{problem_number}_Solution_1.pkl\"\n",
    "    )['obj_value'] # now using the true Traditional_SPT for more accurate scoring\n",
    "    \n",
    "    # Load problem DataFrame and cost matrix\n",
    "    problem_df = pd.read_pickle(f\"{file_path}/Problem_{problem_number}_jobs.pkl\")\n",
    "    cost_matrix = np.load(f\"{file_path}/Problem_{problem_number}_cost_matrix.npy\")\n",
    "    \n",
    "    # Load warm start solution\n",
    "    SolutionNumber_WarmStart = get_best_AI_LPT(queue_size, problem_number)['SolutionNumber'].iloc[0]\n",
    "    solution_dict = pd.read_pickle(\n",
    "        f\"{file_path}/Solutions/AI_LPT/Problem_{problem_number}_Solution_{SolutionNumber_WarmStart}.pkl\"\n",
    "    )\n",
    "    warm_start_obj_value = solution_dict['obj_value']\n",
    "    warm_start_transition_matrix = np.array(solution_dict['transition_matrix'])\n",
    "    \n",
    "    return problem_df, cost_matrix, warm_start_transition_matrix, traditional_SPT_obj_value\n",
    "\n",
    "\n",
    "def optuna_objective(queue_size, max_time_seconds=10):\n",
    "    delta_start_min = delta_start_min_by_queue_size.get(queue_size, 0)  # Default to 0 if queue_size not found\n",
    "    def objective(trial):\n",
    "        # Sample hyperparameters\n",
    "        delta_start = trial.suggest_int(\"delta_start\", delta_start_min, 3000)\n",
    "        runtime_seconds_max = max_time_seconds\n",
    "        symmetry_breaking = trial.suggest_categorical(\"symmetry_breaking\", [True, False])\n",
    "        mip_focus = trial.suggest_int(\"mip_focus\", 0, 3)  # Add MIP focus\n",
    "        cuts = trial.suggest_int(\"cuts\", 0, 3)  # Add cut generation\n",
    "        heuristics = trial.suggest_float(\"heuristics\", 0.0, 1.0)  # Add heuristics control\n",
    "        presolve = trial.suggest_int(\"presolve\", -1, 2)  # Add presolve control\n",
    "        #nodefile_start = trial.suggest_float(\"nodefile_start\", 0.1, 1.0)  # Add node file threshold (0.1 GB to 1.0 GB) # Doesn't affect the optimization too much\n",
    "\n",
    "        # Generate problem\n",
    "        _, problem_number = generate_problem(queue_size)\n",
    "        print(f\"\\rQueueSize: {queue_size}; ProblemNumber: {problem_number}\")\n",
    "        problem_df, cost_matrix, warm_start_transition_matrix, traditional_SPT_obj_value = load_problem_data(queue_size, problem_number) ## traditional_SPT should be expected for training\n",
    "        \n",
    "        # Setup solver\n",
    "        solver = VRPSolver(\n",
    "            cost_matrix=cost_matrix,\n",
    "            problem_df=problem_df,\n",
    "            problemset_num=queue_size,\n",
    "            problem_num=problem_number,\n",
    "            warm_start=warm_start_transition_matrix,\n",
    "            debug=False,\n",
    "            hyperparams={\n",
    "                \"delta_start\": delta_start,\n",
    "                \"time_limit\": runtime_seconds_max,\n",
    "                \"symmetry_breaking\": symmetry_breaking,\n",
    "                \"mip_focus\": mip_focus,\n",
    "                \"cuts\": cuts,\n",
    "                \"heuristics\": heuristics,\n",
    "                \"presolve\": presolve,\n",
    "                #\"nodefile_start\": nodefile_start,\n",
    "                \"num_threads\": 23,\n",
    "            }\n",
    "        )\n",
    "\n",
    "        # Solve problem\n",
    "        solver.iterative_solving() # deterministic only\n",
    "        solution = solver.get_solution()\n",
    "\n",
    "        # Scoring\n",
    "        optimization_algorithm_obj_value = solution[\"objective_value\"]\n",
    "        \n",
    "        if optimization_algorithm_obj_value  is None:\n",
    "            return -100 # infeasible means worst-case, thus penalizing\n",
    "        \n",
    "        O, T = optimization_algorithm_obj_value, traditional_SPT_obj_value \n",
    "        \n",
    "        improvement_relative_percent = (T - O) / max(T, 1e-4) * 100 # no 0's allowed for divide by zero\n",
    "\n",
    "        return improvement_relative_percent\n",
    "\n",
    "    return objective\n",
    "\n",
    "def optuna_objective_stochastic(queue_size, max_time_seconds=10):\n",
    "    delta_start_min = delta_start_min_by_queue_size.get(queue_size, 0)  # Default to 0 if queue_size not found\n",
    "    def objective(trial):\n",
    "        # Sample stochastic hyperparameters\n",
    "        delta_start = trial.suggest_int(\"delta_start\", delta_start_min, 3000)\n",
    "        symmetry_breaking = False # (informed by prior)\n",
    "        mip_focus = trial.suggest_int(\"mip_focus\", 0, 3)\n",
    "        cuts = trial.suggest_int(\"cuts\", 2, 3)  # Add cut generation (informed by prior)\n",
    "        heuristics = trial.suggest_float(\"heuristics\", 0.5, 1.0) # (informed by prior)\n",
    "        presolve = trial.suggest_int(\"presolve\", 0, 2) # (informed by prior)\n",
    "        nanmean = trial.suggest_categorical(\"nanmean\", [True, False])  # New stochastic parameter\n",
    "\n",
    "        # Generate problem\n",
    "        _, problem_number = generate_problem(queue_size)\n",
    "        print(f\"\\rQueueSize: {queue_size}; ProblemNumber: {problem_number}\")\n",
    "        problem_df, cost_matrix, warm_start_transition_matrix, traditional_SPT_obj_value = load_problem_data(queue_size, problem_number)\n",
    "\n",
    "        # Setup solver\n",
    "        solver = StochasticVRPSolver(\n",
    "            cost_matrix=cost_matrix,\n",
    "            problem_df=problem_df,\n",
    "            problemset_num=queue_size,\n",
    "            problem_num=problem_number,\n",
    "            warm_start=warm_start_transition_matrix,\n",
    "            debug=False,\n",
    "            stochastic_parameters={\n",
    "                \"nanmean\": nanmean,  # Use the sampled `nanmean` parameter\n",
    "            },\n",
    "            hyperparams={\n",
    "                \"delta_start\": delta_start,\n",
    "                \"time_limit\": max_time_seconds,\n",
    "                \"symmetry_breaking\": symmetry_breaking,\n",
    "                \"mip_focus\": mip_focus,\n",
    "                \"cuts\": cuts, \n",
    "                \"heuristics\": heuristics,\n",
    "                \"presolve\": presolve,\n",
    "                \"num_threads\": 23,\n",
    "            }\n",
    "        )\n",
    "\n",
    "        # Solve problem\n",
    "        solver.stochastic_iterative_solving() # allows stochastic or deterministic based on iteration and next jobs' scenarios\n",
    "        solution = solver.get_solution()\n",
    "\n",
    "        # Scoring\n",
    "        optimization_algorithm_obj_value = solution[\"objective_value\"]\n",
    "\n",
    "        if optimization_algorithm_obj_value is None:\n",
    "            return -100  # Penalize infeasible solutions\n",
    "\n",
    "        O, T = optimization_algorithm_obj_value, traditional_SPT_obj_value\n",
    "        improvement_relative_percent = (T - O) / max(T, 1e-4) * 100  # Avoid divide by zero\n",
    "        return improvement_relative_percent\n",
    "\n",
    "    return objective\n",
    "\n",
    "def parallel_study(\n",
    "    queue_size,\n",
    "    n_trials,\n",
    "    n_jobs=1,\n",
    "    study_name=\"default_study\",\n",
    "    folder_path=\"optuna_studies\",\n",
    "    pruner=None,\n",
    "):\n",
    "    \"\"\"\n",
    "    Run a parallel Optuna study, saving results to a folder.\n",
    "\n",
    "    Args:\n",
    "        queue_size (int): Queue size for study.\n",
    "        n_trials (int): Number of trials.\n",
    "        n_jobs (int): Number of parallel jobs.\n",
    "        study_name (str): Name of study.\n",
    "        folder_path (str): Folder to save study results.\n",
    "        pruner (optuna.pruners.BasePruner, optional): Pruner to use for study.\n",
    "    \"\"\"\n",
    "    if pruner is None:\n",
    "        pruner = None #optuna.pruners.MedianPruner(n_startup_trials=100) # obsoleted, do not need given solver nature as self-contained\n",
    "\n",
    "    # Load or create a study\n",
    "    try:\n",
    "        study = load_study(folder_path, study_name)\n",
    "    except FileNotFoundError:\n",
    "        # Use RandomSampler for the first trial\n",
    "        random_sampler = RandomSampler()\n",
    "        study = optuna.create_study(\n",
    "            study_name=study_name, \n",
    "            direction=\"maximize\", \n",
    "            pruner=pruner, \n",
    "            sampler=random_sampler\n",
    "        )\n",
    "\n",
    "    os.environ[\"OPTUNA_SHOW_PROGRESS_BAR\"] = \"1\" ## Progress bar\n",
    "\n",
    "    # Run the first trial with RandomSampler\n",
    "    study.optimize(\n",
    "        lambda trial: optuna_objective(queue_size)(trial),\n",
    "        n_trials=1,  # Only one trial with RandomSampler\n",
    "        n_jobs=1,\n",
    "    )\n",
    "\n",
    "    # Switch to TPESampler for subsequent trials\n",
    "    tpe_sampler = TPESampler(multivariate = True, group = True, warn_independent_sampling=False) # Most important for bayesian optimization and sampling to be dependent paramaters with groupings (turned off a warning because mid-study I changed the lowerbound for delta_start)\n",
    "    study.sampler = tpe_sampler  # Update sampler for subsequent trials\n",
    "\n",
    "    os.environ[\"OPTUNA_SHOW_PROGRESS_BAR\"] = \"1\" ## Progress bar\n",
    "\n",
    "    # Optimize remaining trials\n",
    "    study.optimize(\n",
    "        lambda trial: optuna_objective(queue_size)(trial),\n",
    "        n_trials=n_trials - 1,  # Subtract the first trial\n",
    "        n_jobs=n_jobs,\n",
    "    )\n",
    "\n",
    "    # Save the study after optimization\n",
    "    save_study(study, folder_path, study_name)\n",
    "\n",
    "def parallel_study_stochastic(\n",
    "    queue_size,\n",
    "    n_trials,\n",
    "    n_jobs=1,\n",
    "    study_name=\"stochastic_study\",\n",
    "    folder_path=\"optuna_studies_stochastic\",\n",
    "    pruner=None,\n",
    "):\n",
    "    if pruner is None:\n",
    "        pruner = None  # No pruner needed for this study\n",
    "\n",
    "    # Load or create a study\n",
    "    try:\n",
    "        study = load_study(folder_path, study_name)\n",
    "    except FileNotFoundError:\n",
    "        study = optuna.create_study(\n",
    "            study_name=study_name,\n",
    "            direction=\"maximize\",\n",
    "            pruner=pruner,\n",
    "            sampler=RandomSampler(),  # Use RandomSampler for the first trial\n",
    "        )\n",
    "\n",
    "    # Run the first trial with RandomSampler\n",
    "    study.optimize(\n",
    "        lambda trial: optuna_objective_stochastic(queue_size)(trial),\n",
    "        n_trials=1,\n",
    "        n_jobs=1,\n",
    "    )\n",
    "\n",
    "    # Switch to TPESampler for subsequent trials\n",
    "    study.sampler = TPESampler(multivariate=True, group=True, warn_independent_sampling=False)\n",
    "    study.optimize(\n",
    "        lambda trial: optuna_objective_stochastic(queue_size)(trial),\n",
    "        n_trials=n_trials - 1,  # Subtract the first trial\n",
    "        n_jobs=n_jobs,\n",
    "    )\n",
    "\n",
    "    # Save the study\n",
    "    save_study(study, folder_path, study_name)\n"
   ]
  },
  {
   "cell_type": "code",
   "execution_count": 23,
   "id": "4e0d7c61-35f4-4771-8414-266d96bc1c0b",
   "metadata": {},
   "outputs": [],
   "source": [
    "## 25 then 75 in a cycle"
   ]
  },
  {
   "cell_type": "code",
   "execution_count": null,
   "id": "e206865e-6b5d-4121-a6be-9cb5577f75b8",
   "metadata": {
    "scrolled": true
   },
   "outputs": [
    {
     "name": "stdout",
     "output_type": "stream",
     "text": [
      "Study loaded from optuna_studies_deterministic/Queue25_Study.pkl\n",
      "[INFO] Starting from Trial 1081\n",
      "QueueSize: 25; ProblemNumber: 276\n"
     ]
    },
    {
     "name": "stderr",
     "output_type": "stream",
     "text": [
      "[I 2024-11-18 22:05:48,915] Trial 1081 finished with value: 56.74149167270094 and parameters: {'delta_start': 1180, 'symmetry_breaking': False, 'mip_focus': 2, 'cuts': 1, 'heuristics': 0.008249707834533385, 'presolve': 0}. Best is trial 854 with value: 62.73170731707317.\n"
     ]
    },
    {
     "name": "stdout",
     "output_type": "stream",
     "text": [
      "QueueSize: 25; ProblemNumber: 280\n"
     ]
    },
    {
     "name": "stderr",
     "output_type": "stream",
     "text": [
      "[I 2024-11-18 22:07:42,458] Trial 1082 finished with value: 15.406976744186046 and parameters: {'delta_start': 1058, 'symmetry_breaking': False, 'mip_focus': 2, 'cuts': 2, 'heuristics': 0.9909578780738033, 'presolve': 1}. Best is trial 854 with value: 62.73170731707317.\n"
     ]
    },
    {
     "name": "stdout",
     "output_type": "stream",
     "text": [
      "Study saved to optuna_studies_deterministic/Queue25_Study.pkl\n",
      "Sleeping zZz  zZz  Zzz\n",
      "Study loaded from optuna_studies_deterministic/Queue25_Study.pkl\n",
      "[INFO] Starting from Trial 1083\n",
      "QueueSize: 25; ProblemNumber: 199\n"
     ]
    },
    {
     "name": "stderr",
     "output_type": "stream",
     "text": [
      "[I 2024-11-18 22:09:38,622] Trial 1083 finished with value: 22.295454545454547 and parameters: {'delta_start': 1349, 'symmetry_breaking': False, 'mip_focus': 2, 'cuts': 1, 'heuristics': 0.053986729268266115, 'presolve': 0}. Best is trial 854 with value: 62.73170731707317.\n"
     ]
    },
    {
     "name": "stdout",
     "output_type": "stream",
     "text": [
      "QueueSize: 25; ProblemNumber: 115\n"
     ]
    },
    {
     "name": "stderr",
     "output_type": "stream",
     "text": [
      "[I 2024-11-18 22:11:36,320] Trial 1084 finished with value: 15.059033192247718 and parameters: {'delta_start': 1496, 'symmetry_breaking': False, 'mip_focus': 2, 'cuts': 0, 'heuristics': 0.39836674050150084, 'presolve': 0}. Best is trial 854 with value: 62.73170731707317.\n"
     ]
    },
    {
     "name": "stdout",
     "output_type": "stream",
     "text": [
      "Study saved to optuna_studies_deterministic/Queue25_Study.pkl\n",
      "Sleeping zZz  zZz  Zzz\n",
      "Study loaded from optuna_studies_deterministic/Queue75_Study.pkl\n",
      "[INFO] Starting from Trial 1011\n",
      "QueueSize: 75; ProblemNumber: 58\n"
     ]
    },
    {
     "name": "stderr",
     "output_type": "stream",
     "text": [
      "[I 2024-11-18 22:14:49,139] Trial 1011 finished with value: 12.762772948908212 and parameters: {'delta_start': 2988, 'symmetry_breaking': True, 'mip_focus': 0, 'cuts': 1, 'heuristics': 0.5884640515437262, 'presolve': 2}. Best is trial 908 with value: 23.248006714225767.\n"
     ]
    },
    {
     "name": "stdout",
     "output_type": "stream",
     "text": [
      "QueueSize: 75; ProblemNumber: 10\n"
     ]
    },
    {
     "name": "stderr",
     "output_type": "stream",
     "text": [
      "[I 2024-11-18 22:18:03,107] Trial 1012 finished with value: 0.8274720728175424 and parameters: {'delta_start': 2952, 'symmetry_breaking': True, 'mip_focus': 0, 'cuts': 0, 'heuristics': 0.35190421463172006, 'presolve': 2}. Best is trial 908 with value: 23.248006714225767.\n"
     ]
    },
    {
     "name": "stdout",
     "output_type": "stream",
     "text": [
      "Study saved to optuna_studies_deterministic/Queue75_Study.pkl\n",
      "Sleeping zZz  zZz  Zzz\n",
      "Study loaded from optuna_studies_deterministic/Queue25_Study.pkl\n",
      "[INFO] Starting from Trial 1085\n",
      "QueueSize: 25; ProblemNumber: 132\n"
     ]
    },
    {
     "name": "stderr",
     "output_type": "stream",
     "text": [
      "[I 2024-11-18 22:19:53,570] Trial 1085 finished with value: 13.434727503168567 and parameters: {'delta_start': 885, 'symmetry_breaking': False, 'mip_focus': 2, 'cuts': 1, 'heuristics': 0.09499562844685834, 'presolve': 0}. Best is trial 854 with value: 62.73170731707317.\n"
     ]
    },
    {
     "name": "stdout",
     "output_type": "stream",
     "text": [
      "QueueSize: 25; ProblemNumber: 191\n"
     ]
    },
    {
     "name": "stderr",
     "output_type": "stream",
     "text": [
      "[I 2024-11-18 22:21:21,184] Trial 1086 finished with value: 21.25156445556946 and parameters: {'delta_start': 747, 'symmetry_breaking': False, 'mip_focus': 2, 'cuts': 1, 'heuristics': 0.11498793711692827, 'presolve': -1}. Best is trial 854 with value: 62.73170731707317.\n"
     ]
    },
    {
     "name": "stdout",
     "output_type": "stream",
     "text": [
      "Study saved to optuna_studies_deterministic/Queue25_Study.pkl\n",
      "Sleeping zZz  zZz  Zzz\n",
      "Study loaded from optuna_studies_deterministic/Queue25_Study.pkl\n",
      "[INFO] Starting from Trial 1087\n",
      "QueueSize: 25; ProblemNumber: 203\n"
     ]
    },
    {
     "name": "stderr",
     "output_type": "stream",
     "text": [
      "[I 2024-11-18 22:23:16,233] Trial 1087 finished with value: 11.453342459502624 and parameters: {'delta_start': 656, 'symmetry_breaking': False, 'mip_focus': 3, 'cuts': 1, 'heuristics': 0.033977114264618816, 'presolve': 1}. Best is trial 854 with value: 62.73170731707317.\n"
     ]
    },
    {
     "name": "stdout",
     "output_type": "stream",
     "text": [
      "QueueSize: 25; ProblemNumber: 182\n"
     ]
    },
    {
     "name": "stderr",
     "output_type": "stream",
     "text": [
      "[I 2024-11-18 22:24:39,278] Trial 1088 finished with value: 9.115561118064248 and parameters: {'delta_start': 888, 'symmetry_breaking': False, 'mip_focus': 1, 'cuts': 1, 'heuristics': 0.06549971753176598, 'presolve': 0}. Best is trial 854 with value: 62.73170731707317.\n"
     ]
    },
    {
     "name": "stdout",
     "output_type": "stream",
     "text": [
      "Study saved to optuna_studies_deterministic/Queue25_Study.pkl\n",
      "Sleeping zZz  zZz  Zzz\n",
      "Study loaded from optuna_studies_deterministic/Queue75_Study.pkl\n",
      "[INFO] Starting from Trial 1013\n",
      "QueueSize: 75; ProblemNumber: 80\n"
     ]
    },
    {
     "name": "stderr",
     "output_type": "stream",
     "text": [
      "[I 2024-11-18 22:27:53,087] Trial 1013 finished with value: 2.445440374123149 and parameters: {'delta_start': 2925, 'symmetry_breaking': True, 'mip_focus': 0, 'cuts': 1, 'heuristics': 0.7575599661460011, 'presolve': 2}. Best is trial 908 with value: 23.248006714225767.\n"
     ]
    },
    {
     "name": "stdout",
     "output_type": "stream",
     "text": [
      "QueueSize: 75; ProblemNumber: 84\n"
     ]
    },
    {
     "name": "stderr",
     "output_type": "stream",
     "text": [
      "[I 2024-11-18 22:30:31,153] Trial 1014 finished with value: 7.068627450980392 and parameters: {'delta_start': 2496, 'symmetry_breaking': True, 'mip_focus': 1, 'cuts': 1, 'heuristics': 0.6428310106994627, 'presolve': 1}. Best is trial 908 with value: 23.248006714225767.\n"
     ]
    },
    {
     "name": "stdout",
     "output_type": "stream",
     "text": [
      "Study saved to optuna_studies_deterministic/Queue75_Study.pkl\n",
      "Sleeping zZz  zZz  Zzz\n",
      "Study loaded from optuna_studies_deterministic/Queue25_Study.pkl\n",
      "[INFO] Starting from Trial 1089\n",
      "QueueSize: 25; ProblemNumber: 183\n"
     ]
    },
    {
     "name": "stderr",
     "output_type": "stream",
     "text": [
      "[I 2024-11-18 22:31:56,693] Trial 1089 finished with value: 17.445952740070386 and parameters: {'delta_start': 1940, 'symmetry_breaking': True, 'mip_focus': 3, 'cuts': 3, 'heuristics': 0.4944897403034451, 'presolve': 0}. Best is trial 854 with value: 62.73170731707317.\n"
     ]
    },
    {
     "name": "stdout",
     "output_type": "stream",
     "text": [
      "QueueSize: 25; ProblemNumber: 182\n"
     ]
    },
    {
     "name": "stderr",
     "output_type": "stream",
     "text": [
      "[I 2024-11-18 22:33:19,403] Trial 1090 finished with value: 9.115561118064248 and parameters: {'delta_start': 1121, 'symmetry_breaking': False, 'mip_focus': 0, 'cuts': 3, 'heuristics': 0.4353395557735583, 'presolve': 1}. Best is trial 854 with value: 62.73170731707317.\n"
     ]
    },
    {
     "name": "stdout",
     "output_type": "stream",
     "text": [
      "Study saved to optuna_studies_deterministic/Queue25_Study.pkl\n",
      "Sleeping zZz  zZz  Zzz\n",
      "Study loaded from optuna_studies_deterministic/Queue25_Study.pkl\n",
      "[INFO] Starting from Trial 1091\n",
      "QueueSize: 25; ProblemNumber: 223\n"
     ]
    },
    {
     "name": "stderr",
     "output_type": "stream",
     "text": [
      "[I 2024-11-18 22:34:23,057] Trial 1091 finished with value: 30.740370185092548 and parameters: {'delta_start': 1794, 'symmetry_breaking': False, 'mip_focus': 3, 'cuts': 2, 'heuristics': 0.04934493849595001, 'presolve': 1}. Best is trial 854 with value: 62.73170731707317.\n"
     ]
    },
    {
     "name": "stdout",
     "output_type": "stream",
     "text": [
      "QueueSize: 25; ProblemNumber: 129\n"
     ]
    },
    {
     "name": "stderr",
     "output_type": "stream",
     "text": [
      "[I 2024-11-18 22:36:26,966] Trial 1092 finished with value: 25.362019031857674 and parameters: {'delta_start': 1097, 'symmetry_breaking': False, 'mip_focus': 3, 'cuts': 3, 'heuristics': 0.6133994164207932, 'presolve': 1}. Best is trial 854 with value: 62.73170731707317.\n"
     ]
    },
    {
     "name": "stdout",
     "output_type": "stream",
     "text": [
      "Study saved to optuna_studies_deterministic/Queue25_Study.pkl\n",
      "Sleeping zZz  zZz  Zzz\n",
      "Study loaded from optuna_studies_deterministic/Queue75_Study.pkl\n",
      "[INFO] Starting from Trial 1015\n",
      "QueueSize: 75; ProblemNumber: 47\n"
     ]
    },
    {
     "name": "stderr",
     "output_type": "stream",
     "text": [
      "[I 2024-11-18 22:39:27,684] Trial 1015 finished with value: 7.940346634421604 and parameters: {'delta_start': 2497, 'symmetry_breaking': True, 'mip_focus': 0, 'cuts': 1, 'heuristics': 0.6997913911907442, 'presolve': 2}. Best is trial 908 with value: 23.248006714225767.\n"
     ]
    },
    {
     "name": "stdout",
     "output_type": "stream",
     "text": [
      "QueueSize: 75; ProblemNumber: 24\n"
     ]
    },
    {
     "name": "stderr",
     "output_type": "stream",
     "text": [
      "[I 2024-11-18 22:42:15,981] Trial 1016 finished with value: 12.646724725482771 and parameters: {'delta_start': 2996, 'symmetry_breaking': True, 'mip_focus': 0, 'cuts': 1, 'heuristics': 0.8119461468368045, 'presolve': 2}. Best is trial 908 with value: 23.248006714225767.\n"
     ]
    },
    {
     "name": "stdout",
     "output_type": "stream",
     "text": [
      "Study saved to optuna_studies_deterministic/Queue75_Study.pkl\n",
      "Sleeping zZz  zZz  Zzz\n",
      "Study loaded from optuna_studies_deterministic/Queue25_Study.pkl\n",
      "[INFO] Starting from Trial 1093\n",
      "QueueSize: 25; ProblemNumber: 266\n"
     ]
    },
    {
     "name": "stderr",
     "output_type": "stream",
     "text": [
      "[I 2024-11-18 22:43:59,366] Trial 1093 finished with value: 28.40584312480152 and parameters: {'delta_start': 1023, 'symmetry_breaking': False, 'mip_focus': 2, 'cuts': 2, 'heuristics': 0.9813107972821763, 'presolve': 1}. Best is trial 854 with value: 62.73170731707317.\n"
     ]
    },
    {
     "name": "stdout",
     "output_type": "stream",
     "text": [
      "QueueSize: 25; ProblemNumber: 58\n"
     ]
    },
    {
     "name": "stderr",
     "output_type": "stream",
     "text": [
      "[I 2024-11-18 22:45:33,415] Trial 1094 finished with value: 26.542585474408252 and parameters: {'delta_start': 1079, 'symmetry_breaking': False, 'mip_focus': 3, 'cuts': 0, 'heuristics': 0.734491929996671, 'presolve': 1}. Best is trial 854 with value: 62.73170731707317.\n"
     ]
    },
    {
     "name": "stdout",
     "output_type": "stream",
     "text": [
      "Study saved to optuna_studies_deterministic/Queue25_Study.pkl\n",
      "Sleeping zZz  zZz  Zzz\n",
      "Study loaded from optuna_studies_deterministic/Queue25_Study.pkl\n",
      "[INFO] Starting from Trial 1095\n",
      "QueueSize: 25; ProblemNumber: 208\n"
     ]
    },
    {
     "name": "stderr",
     "output_type": "stream",
     "text": [
      "[I 2024-11-18 22:47:37,572] Trial 1095 finished with value: 24.900209085725148 and parameters: {'delta_start': 861, 'symmetry_breaking': False, 'mip_focus': 2, 'cuts': 1, 'heuristics': 0.7315988404472301, 'presolve': 0}. Best is trial 854 with value: 62.73170731707317.\n"
     ]
    },
    {
     "name": "stdout",
     "output_type": "stream",
     "text": [
      "QueueSize: 25; ProblemNumber: 114\n"
     ]
    },
    {
     "name": "stderr",
     "output_type": "stream",
     "text": [
      "[I 2024-11-18 22:49:19,748] Trial 1096 finished with value: 29.299094927383706 and parameters: {'delta_start': 1330, 'symmetry_breaking': False, 'mip_focus': 2, 'cuts': 1, 'heuristics': 0.2583919176555996, 'presolve': 0}. Best is trial 854 with value: 62.73170731707317.\n"
     ]
    },
    {
     "name": "stdout",
     "output_type": "stream",
     "text": [
      "Study saved to optuna_studies_deterministic/Queue25_Study.pkl\n",
      "Sleeping zZz  zZz  Zzz\n",
      "Study loaded from optuna_studies_deterministic/Queue75_Study.pkl\n",
      "[INFO] Starting from Trial 1017\n",
      "QueueSize: 75; ProblemNumber: 68\n"
     ]
    },
    {
     "name": "stderr",
     "output_type": "stream",
     "text": [
      "[I 2024-11-18 22:52:33,161] Trial 1017 finished with value: 16.64222873900293 and parameters: {'delta_start': 2496, 'symmetry_breaking': True, 'mip_focus': 1, 'cuts': 3, 'heuristics': 0.5104808526996794, 'presolve': 0}. Best is trial 908 with value: 23.248006714225767.\n"
     ]
    },
    {
     "name": "stdout",
     "output_type": "stream",
     "text": [
      "QueueSize: 75; ProblemNumber: 75\n"
     ]
    },
    {
     "name": "stderr",
     "output_type": "stream",
     "text": [
      "[I 2024-11-18 22:52:45,340] Trial 1018 finished with value: -100.0 and parameters: {'delta_start': 2495, 'symmetry_breaking': True, 'mip_focus': 0, 'cuts': 2, 'heuristics': 0.7513821858923682, 'presolve': 1}. Best is trial 908 with value: 23.248006714225767.\n"
     ]
    },
    {
     "name": "stdout",
     "output_type": "stream",
     "text": [
      "Study saved to optuna_studies_deterministic/Queue75_Study.pkl\n",
      "Sleeping zZz  zZz  Zzz\n",
      "Study loaded from optuna_studies_deterministic/Queue25_Study.pkl\n",
      "[INFO] Starting from Trial 1097\n",
      "QueueSize: 25; ProblemNumber: 77\n"
     ]
    },
    {
     "name": "stderr",
     "output_type": "stream",
     "text": [
      "[I 2024-11-18 22:54:30,014] Trial 1097 finished with value: 34.43520140105078 and parameters: {'delta_start': 677, 'symmetry_breaking': False, 'mip_focus': 2, 'cuts': 0, 'heuristics': 0.0719898869985164, 'presolve': 0}. Best is trial 854 with value: 62.73170731707317.\n"
     ]
    },
    {
     "name": "stdout",
     "output_type": "stream",
     "text": [
      "QueueSize: 25; ProblemNumber: 162\n"
     ]
    },
    {
     "name": "stderr",
     "output_type": "stream",
     "text": [
      "[I 2024-11-18 22:56:34,862] Trial 1098 finished with value: 22.090562843842573 and parameters: {'delta_start': 1254, 'symmetry_breaking': False, 'mip_focus': 2, 'cuts': 1, 'heuristics': 0.039320863855204224, 'presolve': 0}. Best is trial 854 with value: 62.73170731707317.\n"
     ]
    },
    {
     "name": "stdout",
     "output_type": "stream",
     "text": [
      "Study saved to optuna_studies_deterministic/Queue25_Study.pkl\n",
      "Sleeping zZz  zZz  Zzz\n",
      "Study loaded from optuna_studies_deterministic/Queue25_Study.pkl\n",
      "[INFO] Starting from Trial 1099\n",
      "QueueSize: 25; ProblemNumber: 132\n"
     ]
    },
    {
     "name": "stderr",
     "output_type": "stream",
     "text": [
      "[I 2024-11-18 22:58:19,633] Trial 1099 finished with value: 14.596535699197297 and parameters: {'delta_start': 1162, 'symmetry_breaking': False, 'mip_focus': 3, 'cuts': 1, 'heuristics': 0.03439030436847754, 'presolve': 0}. Best is trial 854 with value: 62.73170731707317.\n"
     ]
    },
    {
     "name": "stdout",
     "output_type": "stream",
     "text": [
      "QueueSize: 25; ProblemNumber: 280\n"
     ]
    },
    {
     "name": "stderr",
     "output_type": "stream",
     "text": [
      "[I 2024-11-18 23:00:13,108] Trial 1100 finished with value: 15.644820295983086 and parameters: {'delta_start': 1805, 'symmetry_breaking': True, 'mip_focus': 1, 'cuts': 0, 'heuristics': 0.820916559099385, 'presolve': 2}. Best is trial 854 with value: 62.73170731707317.\n"
     ]
    },
    {
     "name": "stdout",
     "output_type": "stream",
     "text": [
      "Study saved to optuna_studies_deterministic/Queue25_Study.pkl\n",
      "Sleeping zZz  zZz  Zzz\n",
      "Study loaded from optuna_studies_deterministic/Queue75_Study.pkl\n",
      "[INFO] Starting from Trial 1019\n",
      "QueueSize: 75; ProblemNumber: 27\n"
     ]
    },
    {
     "name": "stderr",
     "output_type": "stream",
     "text": [
      "[I 2024-11-18 23:03:26,274] Trial 1019 finished with value: 17.378737241441605 and parameters: {'delta_start': 2495, 'symmetry_breaking': False, 'mip_focus': 3, 'cuts': 3, 'heuristics': 0.4277139360221671, 'presolve': 1}. Best is trial 908 with value: 23.248006714225767.\n"
     ]
    },
    {
     "name": "stdout",
     "output_type": "stream",
     "text": [
      "QueueSize: 75; ProblemNumber: 70\n"
     ]
    },
    {
     "name": "stderr",
     "output_type": "stream",
     "text": [
      "[I 2024-11-18 23:06:52,035] Trial 1020 finished with value: 4.280854280854281 and parameters: {'delta_start': 2971, 'symmetry_breaking': True, 'mip_focus': 0, 'cuts': 2, 'heuristics': 0.4309321359565453, 'presolve': 2}. Best is trial 908 with value: 23.248006714225767.\n"
     ]
    },
    {
     "name": "stdout",
     "output_type": "stream",
     "text": [
      "Study saved to optuna_studies_deterministic/Queue75_Study.pkl\n",
      "Sleeping zZz  zZz  Zzz\n",
      "Study loaded from optuna_studies_deterministic/Queue25_Study.pkl\n",
      "[INFO] Starting from Trial 1101\n",
      "QueueSize: 25; ProblemNumber: 68\n"
     ]
    },
    {
     "name": "stderr",
     "output_type": "stream",
     "text": [
      "[I 2024-11-18 23:08:56,165] Trial 1101 finished with value: 23.62173827741809 and parameters: {'delta_start': 1108, 'symmetry_breaking': False, 'mip_focus': 3, 'cuts': 2, 'heuristics': 0.8747745102992477, 'presolve': 1}. Best is trial 854 with value: 62.73170731707317.\n"
     ]
    },
    {
     "name": "stdout",
     "output_type": "stream",
     "text": [
      "QueueSize: 25; ProblemNumber: 261\n"
     ]
    },
    {
     "name": "stderr",
     "output_type": "stream",
     "text": [
      "[I 2024-11-18 23:10:51,083] Trial 1102 finished with value: 38.950463695996376 and parameters: {'delta_start': 1600, 'symmetry_breaking': False, 'mip_focus': 2, 'cuts': 1, 'heuristics': 0.027904756940812517, 'presolve': -1}. Best is trial 854 with value: 62.73170731707317.\n"
     ]
    },
    {
     "name": "stdout",
     "output_type": "stream",
     "text": [
      "Study saved to optuna_studies_deterministic/Queue25_Study.pkl\n",
      "Sleeping zZz  zZz  Zzz\n",
      "Study loaded from optuna_studies_deterministic/Queue25_Study.pkl\n",
      "[INFO] Starting from Trial 1103\n",
      "QueueSize: 25; ProblemNumber: 200\n"
     ]
    },
    {
     "name": "stderr",
     "output_type": "stream",
     "text": [
      "[I 2024-11-18 23:12:55,304] Trial 1103 finished with value: 16.095211107962594 and parameters: {'delta_start': 789, 'symmetry_breaking': True, 'mip_focus': 1, 'cuts': 0, 'heuristics': 0.57071091059797, 'presolve': 2}. Best is trial 854 with value: 62.73170731707317.\n"
     ]
    },
    {
     "name": "stdout",
     "output_type": "stream",
     "text": [
      "QueueSize: 25; ProblemNumber: 23\n"
     ]
    },
    {
     "name": "stderr",
     "output_type": "stream",
     "text": [
      "[I 2024-11-18 23:14:07,654] Trial 1104 finished with value: 25.28793189784677 and parameters: {'delta_start': 828, 'symmetry_breaking': True, 'mip_focus': 3, 'cuts': 1, 'heuristics': 0.6201489220314068, 'presolve': -1}. Best is trial 854 with value: 62.73170731707317.\n"
     ]
    },
    {
     "name": "stdout",
     "output_type": "stream",
     "text": [
      "Study saved to optuna_studies_deterministic/Queue25_Study.pkl\n",
      "Sleeping zZz  zZz  Zzz\n",
      "Study loaded from optuna_studies_deterministic/Queue75_Study.pkl\n",
      "[INFO] Starting from Trial 1021\n",
      "QueueSize: 75; ProblemNumber: 87\n"
     ]
    },
    {
     "name": "stderr",
     "output_type": "stream",
     "text": [
      "[I 2024-11-18 23:17:21,381] Trial 1021 finished with value: 12.38875044499822 and parameters: {'delta_start': 2755, 'symmetry_breaking': True, 'mip_focus': 0, 'cuts': 1, 'heuristics': 0.4948735761786353, 'presolve': 2}. Best is trial 908 with value: 23.248006714225767.\n"
     ]
    },
    {
     "name": "stdout",
     "output_type": "stream",
     "text": [
      "QueueSize: 75; ProblemNumber: 73\n"
     ]
    },
    {
     "name": "stderr",
     "output_type": "stream",
     "text": [
      "[I 2024-11-18 23:20:10,780] Trial 1022 finished with value: 3.09125344352617 and parameters: {'delta_start': 2860, 'symmetry_breaking': True, 'mip_focus': 0, 'cuts': 2, 'heuristics': 0.72166054631202, 'presolve': 2}. Best is trial 908 with value: 23.248006714225767.\n"
     ]
    },
    {
     "name": "stdout",
     "output_type": "stream",
     "text": [
      "Study saved to optuna_studies_deterministic/Queue75_Study.pkl\n",
      "Sleeping zZz  zZz  Zzz\n",
      "Study loaded from optuna_studies_deterministic/Queue25_Study.pkl\n",
      "[INFO] Starting from Trial 1105\n",
      "QueueSize: 25; ProblemNumber: 98\n"
     ]
    },
    {
     "name": "stderr",
     "output_type": "stream",
     "text": [
      "[I 2024-11-18 23:22:13,865] Trial 1105 finished with value: 34.71947194719472 and parameters: {'delta_start': 1977, 'symmetry_breaking': False, 'mip_focus': 1, 'cuts': 1, 'heuristics': 0.13642430162492633, 'presolve': 0}. Best is trial 854 with value: 62.73170731707317.\n"
     ]
    },
    {
     "name": "stdout",
     "output_type": "stream",
     "text": [
      "QueueSize: 25; ProblemNumber: 153\n"
     ]
    },
    {
     "name": "stderr",
     "output_type": "stream",
     "text": [
      "[I 2024-11-18 23:23:46,862] Trial 1106 finished with value: 16.906369239800412 and parameters: {'delta_start': 1771, 'symmetry_breaking': True, 'mip_focus': 0, 'cuts': 0, 'heuristics': 0.7685769158754125, 'presolve': 2}. Best is trial 854 with value: 62.73170731707317.\n"
     ]
    },
    {
     "name": "stdout",
     "output_type": "stream",
     "text": [
      "Study saved to optuna_studies_deterministic/Queue25_Study.pkl\n",
      "Sleeping zZz  zZz  Zzz\n",
      "Study loaded from optuna_studies_deterministic/Queue25_Study.pkl\n",
      "[INFO] Starting from Trial 1107\n",
      "QueueSize: 25; ProblemNumber: 211\n"
     ]
    },
    {
     "name": "stderr",
     "output_type": "stream",
     "text": [
      "[I 2024-11-18 23:25:20,179] Trial 1107 finished with value: 42.36063317274604 and parameters: {'delta_start': 1070, 'symmetry_breaking': False, 'mip_focus': 0, 'cuts': 3, 'heuristics': 0.6472718101775502, 'presolve': 1}. Best is trial 854 with value: 62.73170731707317.\n"
     ]
    },
    {
     "name": "stdout",
     "output_type": "stream",
     "text": [
      "QueueSize: 25; ProblemNumber: 157\n"
     ]
    },
    {
     "name": "stderr",
     "output_type": "stream",
     "text": [
      "[I 2024-11-18 23:26:56,491] Trial 1108 finished with value: 5.554005023723136 and parameters: {'delta_start': 1739, 'symmetry_breaking': False, 'mip_focus': 3, 'cuts': 1, 'heuristics': 0.5202751081815209, 'presolve': 1}. Best is trial 854 with value: 62.73170731707317.\n"
     ]
    },
    {
     "name": "stdout",
     "output_type": "stream",
     "text": [
      "Study saved to optuna_studies_deterministic/Queue25_Study.pkl\n",
      "Sleeping zZz  zZz  Zzz\n",
      "Study loaded from optuna_studies_deterministic/Queue75_Study.pkl\n",
      "[INFO] Starting from Trial 1023\n",
      "QueueSize: 75; ProblemNumber: 86\n"
     ]
    },
    {
     "name": "stderr",
     "output_type": "stream",
     "text": [
      "[I 2024-11-18 23:29:58,859] Trial 1023 finished with value: 15.68303354399611 and parameters: {'delta_start': 2905, 'symmetry_breaking': True, 'mip_focus': 1, 'cuts': 1, 'heuristics': 0.8124920983123717, 'presolve': 2}. Best is trial 908 with value: 23.248006714225767.\n"
     ]
    },
    {
     "name": "stdout",
     "output_type": "stream",
     "text": [
      "QueueSize: 75; ProblemNumber: 62\n"
     ]
    },
    {
     "name": "stderr",
     "output_type": "stream",
     "text": [
      "[I 2024-11-18 23:33:13,000] Trial 1024 finished with value: 6.195884403463398 and parameters: {'delta_start': 2847, 'symmetry_breaking': True, 'mip_focus': 0, 'cuts': 0, 'heuristics': 0.6138788315514668, 'presolve': 2}. Best is trial 908 with value: 23.248006714225767.\n"
     ]
    },
    {
     "name": "stdout",
     "output_type": "stream",
     "text": [
      "Study saved to optuna_studies_deterministic/Queue75_Study.pkl\n",
      "Sleeping zZz  zZz  Zzz\n",
      "Study loaded from optuna_studies_deterministic/Queue25_Study.pkl\n",
      "[INFO] Starting from Trial 1109\n",
      "QueueSize: 25; ProblemNumber: 173\n"
     ]
    },
    {
     "name": "stderr",
     "output_type": "stream",
     "text": [
      "[I 2024-11-18 23:34:34,523] Trial 1109 finished with value: 29.782560948824948 and parameters: {'delta_start': 2668, 'symmetry_breaking': True, 'mip_focus': 2, 'cuts': 2, 'heuristics': 0.6704974727506843, 'presolve': -1}. Best is trial 854 with value: 62.73170731707317.\n"
     ]
    },
    {
     "name": "stdout",
     "output_type": "stream",
     "text": [
      "QueueSize: 25; ProblemNumber: 140\n"
     ]
    },
    {
     "name": "stderr",
     "output_type": "stream",
     "text": [
      "[I 2024-11-18 23:36:17,849] Trial 1110 finished with value: 10.166453265044813 and parameters: {'delta_start': 2957, 'symmetry_breaking': True, 'mip_focus': 2, 'cuts': 2, 'heuristics': 0.5789933901313186, 'presolve': 0}. Best is trial 854 with value: 62.73170731707317.\n"
     ]
    },
    {
     "name": "stdout",
     "output_type": "stream",
     "text": [
      "Study saved to optuna_studies_deterministic/Queue25_Study.pkl\n",
      "Sleeping zZz  zZz  Zzz\n",
      "Study loaded from optuna_studies_deterministic/Queue25_Study.pkl\n",
      "[INFO] Starting from Trial 1111\n",
      "QueueSize: 25; ProblemNumber: 162\n"
     ]
    },
    {
     "name": "stderr",
     "output_type": "stream",
     "text": [
      "[I 2024-11-18 23:38:16,944] Trial 1111 finished with value: 22.407955988150654 and parameters: {'delta_start': 1791, 'symmetry_breaking': False, 'mip_focus': 0, 'cuts': 2, 'heuristics': 0.4699118561893219, 'presolve': 1}. Best is trial 854 with value: 62.73170731707317.\n"
     ]
    },
    {
     "name": "stdout",
     "output_type": "stream",
     "text": [
      "QueueSize: 25; ProblemNumber: 119\n"
     ]
    },
    {
     "name": "stderr",
     "output_type": "stream",
     "text": [
      "[I 2024-11-18 23:39:41,074] Trial 1112 finished with value: 16.262580054894784 and parameters: {'delta_start': 2772, 'symmetry_breaking': True, 'mip_focus': 1, 'cuts': 2, 'heuristics': 0.37410189813359723, 'presolve': 0}. Best is trial 854 with value: 62.73170731707317.\n"
     ]
    },
    {
     "name": "stdout",
     "output_type": "stream",
     "text": [
      "Study saved to optuna_studies_deterministic/Queue25_Study.pkl\n",
      "Sleeping zZz  zZz  Zzz\n",
      "Study loaded from optuna_studies_deterministic/Queue75_Study.pkl\n",
      "[INFO] Starting from Trial 1025\n",
      "QueueSize: 75; ProblemNumber: 88\n"
     ]
    },
    {
     "name": "stderr",
     "output_type": "stream",
     "text": [
      "[I 2024-11-18 23:43:07,258] Trial 1025 finished with value: 7.723539725016149 and parameters: {'delta_start': 2496, 'symmetry_breaking': True, 'mip_focus': 0, 'cuts': 2, 'heuristics': 0.734807237862785, 'presolve': 2}. Best is trial 908 with value: 23.248006714225767.\n"
     ]
    },
    {
     "name": "stdout",
     "output_type": "stream",
     "text": [
      "QueueSize: 75; ProblemNumber: 60\n"
     ]
    },
    {
     "name": "stderr",
     "output_type": "stream",
     "text": [
      "[I 2024-11-18 23:46:08,894] Trial 1026 finished with value: 10.524429578306057 and parameters: {'delta_start': 2714, 'symmetry_breaking': True, 'mip_focus': 0, 'cuts': 1, 'heuristics': 0.5746215619591046, 'presolve': 2}. Best is trial 908 with value: 23.248006714225767.\n"
     ]
    },
    {
     "name": "stdout",
     "output_type": "stream",
     "text": [
      "Study saved to optuna_studies_deterministic/Queue75_Study.pkl\n",
      "Sleeping zZz  zZz  Zzz\n",
      "Study loaded from optuna_studies_deterministic/Queue25_Study.pkl\n",
      "[INFO] Starting from Trial 1113\n",
      "QueueSize: 25; ProblemNumber: 87\n"
     ]
    },
    {
     "name": "stderr",
     "output_type": "stream",
     "text": [
      "[I 2024-11-18 23:47:21,913] Trial 1113 finished with value: 34.721395994447754 and parameters: {'delta_start': 1133, 'symmetry_breaking': True, 'mip_focus': 0, 'cuts': 0, 'heuristics': 0.7567874876853382, 'presolve': 2}. Best is trial 854 with value: 62.73170731707317.\n"
     ]
    },
    {
     "name": "stdout",
     "output_type": "stream",
     "text": [
      "QueueSize: 25; ProblemNumber: 175\n"
     ]
    },
    {
     "name": "stderr",
     "output_type": "stream",
     "text": [
      "[I 2024-11-18 23:49:06,018] Trial 1114 finished with value: 20.92436974789916 and parameters: {'delta_start': 1007, 'symmetry_breaking': False, 'mip_focus': 2, 'cuts': 2, 'heuristics': 0.07036726737962065, 'presolve': 1}. Best is trial 854 with value: 62.73170731707317.\n"
     ]
    },
    {
     "name": "stdout",
     "output_type": "stream",
     "text": [
      "Study saved to optuna_studies_deterministic/Queue25_Study.pkl\n",
      "Sleeping zZz  zZz  Zzz\n",
      "Study loaded from optuna_studies_deterministic/Queue25_Study.pkl\n",
      "[INFO] Starting from Trial 1115\n",
      "QueueSize: 25; ProblemNumber: 122\n"
     ]
    },
    {
     "name": "stderr",
     "output_type": "stream",
     "text": [
      "[I 2024-11-18 23:50:49,692] Trial 1115 finished with value: 23.20515670148922 and parameters: {'delta_start': 1943, 'symmetry_breaking': False, 'mip_focus': 3, 'cuts': 1, 'heuristics': 0.6574984276324091, 'presolve': 1}. Best is trial 854 with value: 62.73170731707317.\n"
     ]
    },
    {
     "name": "stdout",
     "output_type": "stream",
     "text": [
      "QueueSize: 25; ProblemNumber: 253\n"
     ]
    },
    {
     "name": "stderr",
     "output_type": "stream",
     "text": [
      "[I 2024-11-18 23:52:23,037] Trial 1116 finished with value: 52.54041570438799 and parameters: {'delta_start': 773, 'symmetry_breaking': False, 'mip_focus': 3, 'cuts': 2, 'heuristics': 0.9499862757584606, 'presolve': 0}. Best is trial 854 with value: 62.73170731707317.\n"
     ]
    },
    {
     "name": "stdout",
     "output_type": "stream",
     "text": [
      "Study saved to optuna_studies_deterministic/Queue25_Study.pkl\n",
      "Sleeping zZz  zZz  Zzz\n",
      "Study loaded from optuna_studies_deterministic/Queue75_Study.pkl\n",
      "[INFO] Starting from Trial 1027\n",
      "QueueSize: 75; ProblemNumber: 60\n"
     ]
    },
    {
     "name": "stderr",
     "output_type": "stream",
     "text": [
      "[I 2024-11-18 23:55:25,047] Trial 1027 finished with value: 10.11826544021025 and parameters: {'delta_start': 2769, 'symmetry_breaking': True, 'mip_focus': 0, 'cuts': 1, 'heuristics': 0.6014857396548633, 'presolve': 2}. Best is trial 908 with value: 23.248006714225767.\n"
     ]
    },
    {
     "name": "stdout",
     "output_type": "stream",
     "text": [
      "QueueSize: 75; ProblemNumber: 96\n"
     ]
    },
    {
     "name": "stderr",
     "output_type": "stream",
     "text": [
      "[I 2024-11-18 23:57:50,210] Trial 1028 finished with value: 8.92174612753973 and parameters: {'delta_start': 2495, 'symmetry_breaking': False, 'mip_focus': 3, 'cuts': 1, 'heuristics': 0.5820905034796239, 'presolve': 1}. Best is trial 908 with value: 23.248006714225767.\n"
     ]
    },
    {
     "name": "stdout",
     "output_type": "stream",
     "text": [
      "Study saved to optuna_studies_deterministic/Queue75_Study.pkl\n",
      "Sleeping zZz  zZz  Zzz\n",
      "Study loaded from optuna_studies_deterministic/Queue25_Study.pkl\n",
      "[INFO] Starting from Trial 1117\n",
      "QueueSize: 25; ProblemNumber: 155\n"
     ]
    },
    {
     "name": "stderr",
     "output_type": "stream",
     "text": [
      "[I 2024-11-18 23:59:03,095] Trial 1117 finished with value: 14.352746342809827 and parameters: {'delta_start': 784, 'symmetry_breaking': True, 'mip_focus': 2, 'cuts': 3, 'heuristics': 0.992177008816524, 'presolve': 0}. Best is trial 854 with value: 62.73170731707317.\n"
     ]
    },
    {
     "name": "stdout",
     "output_type": "stream",
     "text": [
      "QueueSize: 25; ProblemNumber: 123\n"
     ]
    },
    {
     "name": "stderr",
     "output_type": "stream",
     "text": [
      "[I 2024-11-19 00:00:36,810] Trial 1118 finished with value: 15.628876209377326 and parameters: {'delta_start': 758, 'symmetry_breaking': False, 'mip_focus': 0, 'cuts': 3, 'heuristics': 0.5063458580254306, 'presolve': 1}. Best is trial 854 with value: 62.73170731707317.\n"
     ]
    },
    {
     "name": "stdout",
     "output_type": "stream",
     "text": [
      "Study saved to optuna_studies_deterministic/Queue25_Study.pkl\n",
      "Sleeping zZz  zZz  Zzz\n",
      "Study loaded from optuna_studies_deterministic/Queue25_Study.pkl\n",
      "[INFO] Starting from Trial 1119\n",
      "QueueSize: 25; ProblemNumber: 98\n"
     ]
    },
    {
     "name": "stderr",
     "output_type": "stream",
     "text": [
      "[I 2024-11-19 00:02:40,994] Trial 1119 finished with value: 34.35643564356436 and parameters: {'delta_start': 811, 'symmetry_breaking': False, 'mip_focus': 3, 'cuts': 2, 'heuristics': 0.8990767290464449, 'presolve': 0}. Best is trial 854 with value: 62.73170731707317.\n"
     ]
    },
    {
     "name": "stdout",
     "output_type": "stream",
     "text": [
      "QueueSize: 25; ProblemNumber: 44\n"
     ]
    },
    {
     "name": "stderr",
     "output_type": "stream",
     "text": [
      "[I 2024-11-19 00:04:14,351] Trial 1120 finished with value: 24.34534612393052 and parameters: {'delta_start': 849, 'symmetry_breaking': False, 'mip_focus': 2, 'cuts': 1, 'heuristics': 0.9622918738591808, 'presolve': 0}. Best is trial 854 with value: 62.73170731707317.\n"
     ]
    },
    {
     "name": "stdout",
     "output_type": "stream",
     "text": [
      "Study saved to optuna_studies_deterministic/Queue25_Study.pkl\n",
      "Sleeping zZz  zZz  Zzz\n",
      "Study loaded from optuna_studies_deterministic/Queue75_Study.pkl\n",
      "[INFO] Starting from Trial 1029\n",
      "QueueSize: 75; ProblemNumber: 74\n"
     ]
    },
    {
     "name": "stderr",
     "output_type": "stream",
     "text": [
      "[I 2024-11-19 00:07:15,541] Trial 1029 finished with value: 0.36991368680641185 and parameters: {'delta_start': 2947, 'symmetry_breaking': True, 'mip_focus': 0, 'cuts': 1, 'heuristics': 0.7314287548784052, 'presolve': 2}. Best is trial 908 with value: 23.248006714225767.\n"
     ]
    },
    {
     "name": "stdout",
     "output_type": "stream",
     "text": [
      "QueueSize: 75; ProblemNumber: 59\n"
     ]
    },
    {
     "name": "stderr",
     "output_type": "stream",
     "text": [
      "[I 2024-11-19 00:10:04,117] Trial 1030 finished with value: 2.3048172757475083 and parameters: {'delta_start': 2877, 'symmetry_breaking': True, 'mip_focus': 1, 'cuts': 2, 'heuristics': 0.6298917145444752, 'presolve': 2}. Best is trial 908 with value: 23.248006714225767.\n"
     ]
    },
    {
     "name": "stdout",
     "output_type": "stream",
     "text": [
      "Study saved to optuna_studies_deterministic/Queue75_Study.pkl\n",
      "Sleeping zZz  zZz  Zzz\n",
      "Study loaded from optuna_studies_deterministic/Queue25_Study.pkl\n",
      "[INFO] Starting from Trial 1121\n",
      "QueueSize: 25; ProblemNumber: 213\n"
     ]
    },
    {
     "name": "stderr",
     "output_type": "stream",
     "text": [
      "[I 2024-11-19 00:11:38,803] Trial 1121 finished with value: 35.87255081486907 and parameters: {'delta_start': 1587, 'symmetry_breaking': False, 'mip_focus': 1, 'cuts': 0, 'heuristics': 0.22915416293874835, 'presolve': 2}. Best is trial 854 with value: 62.73170731707317.\n"
     ]
    },
    {
     "name": "stdout",
     "output_type": "stream",
     "text": [
      "QueueSize: 25; ProblemNumber: 213\n"
     ]
    },
    {
     "name": "stderr",
     "output_type": "stream",
     "text": [
      "[I 2024-11-19 00:13:22,721] Trial 1122 finished with value: 36.03735579564182 and parameters: {'delta_start': 769, 'symmetry_breaking': False, 'mip_focus': 3, 'cuts': 1, 'heuristics': 0.8735649758945323, 'presolve': 1}. Best is trial 854 with value: 62.73170731707317.\n"
     ]
    },
    {
     "name": "stdout",
     "output_type": "stream",
     "text": [
      "Study saved to optuna_studies_deterministic/Queue25_Study.pkl\n",
      "Sleeping zZz  zZz  Zzz\n",
      "Study loaded from optuna_studies_deterministic/Queue25_Study.pkl\n",
      "[INFO] Starting from Trial 1123\n",
      "QueueSize: 25; ProblemNumber: 146\n"
     ]
    },
    {
     "name": "stderr",
     "output_type": "stream",
     "text": [
      "[I 2024-11-19 00:14:35,980] Trial 1123 finished with value: 51.0932944606414 and parameters: {'delta_start': 1031, 'symmetry_breaking': False, 'mip_focus': 3, 'cuts': 2, 'heuristics': 0.9415783695259006, 'presolve': 1}. Best is trial 854 with value: 62.73170731707317.\n"
     ]
    },
    {
     "name": "stdout",
     "output_type": "stream",
     "text": [
      "QueueSize: 25; ProblemNumber: 211\n"
     ]
    },
    {
     "name": "stderr",
     "output_type": "stream",
     "text": [
      "[I 2024-11-19 00:16:04,509] Trial 1124 finished with value: 42.30901582931865 and parameters: {'delta_start': 784, 'symmetry_breaking': False, 'mip_focus': 3, 'cuts': 1, 'heuristics': 0.73277129290031, 'presolve': 1}. Best is trial 854 with value: 62.73170731707317.\n"
     ]
    },
    {
     "name": "stdout",
     "output_type": "stream",
     "text": [
      "Study saved to optuna_studies_deterministic/Queue25_Study.pkl\n",
      "Sleeping zZz  zZz  Zzz\n",
      "Study loaded from optuna_studies_deterministic/Queue75_Study.pkl\n",
      "[INFO] Starting from Trial 1031\n",
      "QueueSize: 75; ProblemNumber: 35\n"
     ]
    },
    {
     "name": "stderr",
     "output_type": "stream",
     "text": [
      "[I 2024-11-19 00:19:06,249] Trial 1031 finished with value: 12.871104554674535 and parameters: {'delta_start': 2495, 'symmetry_breaking': False, 'mip_focus': 3, 'cuts': 2, 'heuristics': 0.6403172703479737, 'presolve': 1}. Best is trial 908 with value: 23.248006714225767.\n"
     ]
    },
    {
     "name": "stdout",
     "output_type": "stream",
     "text": [
      "QueueSize: 75; ProblemNumber: 74\n"
     ]
    },
    {
     "name": "stderr",
     "output_type": "stream",
     "text": [
      "[I 2024-11-19 00:22:07,200] Trial 1032 finished with value: 6.724208795725442 and parameters: {'delta_start': 2495, 'symmetry_breaking': False, 'mip_focus': 3, 'cuts': 2, 'heuristics': 0.49897183156506775, 'presolve': 1}. Best is trial 908 with value: 23.248006714225767.\n"
     ]
    },
    {
     "name": "stdout",
     "output_type": "stream",
     "text": [
      "Study saved to optuna_studies_deterministic/Queue75_Study.pkl\n",
      "Sleeping zZz  zZz  Zzz\n",
      "Study loaded from optuna_studies_deterministic/Queue25_Study.pkl\n",
      "[INFO] Starting from Trial 1125\n",
      "QueueSize: 25; ProblemNumber: 261\n"
     ]
    },
    {
     "name": "stderr",
     "output_type": "stream",
     "text": [
      "[I 2024-11-19 00:24:01,421] Trial 1125 finished with value: 38.92784437909975 and parameters: {'delta_start': 765, 'symmetry_breaking': False, 'mip_focus': 3, 'cuts': 2, 'heuristics': 0.9522955763039412, 'presolve': 0}. Best is trial 854 with value: 62.73170731707317.\n"
     ]
    },
    {
     "name": "stdout",
     "output_type": "stream",
     "text": [
      "QueueSize: 25; ProblemNumber: 234\n"
     ]
    },
    {
     "name": "stderr",
     "output_type": "stream",
     "text": [
      "[I 2024-11-19 00:25:34,340] Trial 1126 finished with value: 16.489533011272144 and parameters: {'delta_start': 798, 'symmetry_breaking': False, 'mip_focus': 2, 'cuts': 2, 'heuristics': 0.923966190872268, 'presolve': 1}. Best is trial 854 with value: 62.73170731707317.\n"
     ]
    },
    {
     "name": "stdout",
     "output_type": "stream",
     "text": [
      "Study saved to optuna_studies_deterministic/Queue25_Study.pkl\n",
      "Sleeping zZz  zZz  Zzz\n",
      "Study loaded from optuna_studies_deterministic/Queue25_Study.pkl\n",
      "[INFO] Starting from Trial 1127\n",
      "QueueSize: 25; ProblemNumber: 158\n"
     ]
    },
    {
     "name": "stderr",
     "output_type": "stream",
     "text": [
      "[I 2024-11-19 00:26:57,291] Trial 1127 finished with value: 17.109375 and parameters: {'delta_start': 1218, 'symmetry_breaking': False, 'mip_focus': 0, 'cuts': 3, 'heuristics': 0.6373819540189039, 'presolve': 1}. Best is trial 854 with value: 62.73170731707317.\n"
     ]
    },
    {
     "name": "stdout",
     "output_type": "stream",
     "text": [
      "QueueSize: 25; ProblemNumber: 60\n"
     ]
    },
    {
     "name": "stderr",
     "output_type": "stream",
     "text": [
      "[I 2024-11-19 00:28:17,925] Trial 1128 finished with value: 29.735034347399413 and parameters: {'delta_start': 796, 'symmetry_breaking': False, 'mip_focus': 2, 'cuts': 1, 'heuristics': 0.5026624767130542, 'presolve': 1}. Best is trial 854 with value: 62.73170731707317.\n"
     ]
    },
    {
     "name": "stdout",
     "output_type": "stream",
     "text": [
      "Study saved to optuna_studies_deterministic/Queue25_Study.pkl\n",
      "Sleeping zZz  zZz  Zzz\n",
      "Study loaded from optuna_studies_deterministic/Queue75_Study.pkl\n",
      "[INFO] Starting from Trial 1033\n",
      "QueueSize: 75; ProblemNumber: 96\n"
     ]
    },
    {
     "name": "stderr",
     "output_type": "stream",
     "text": [
      "[I 2024-11-19 00:30:43,002] Trial 1033 finished with value: 9.414604707302354 and parameters: {'delta_start': 2492, 'symmetry_breaking': False, 'mip_focus': 1, 'cuts': 0, 'heuristics': 0.9824481874141102, 'presolve': 0}. Best is trial 908 with value: 23.248006714225767.\n"
     ]
    },
    {
     "name": "stdout",
     "output_type": "stream",
     "text": [
      "QueueSize: 75; ProblemNumber: 4\n"
     ]
    },
    {
     "name": "stderr",
     "output_type": "stream",
     "text": [
      "[I 2024-11-19 00:33:55,887] Trial 1034 finished with value: 5.714285714285714 and parameters: {'delta_start': 2651, 'symmetry_breaking': True, 'mip_focus': 0, 'cuts': 1, 'heuristics': 0.9144613379033666, 'presolve': 2}. Best is trial 908 with value: 23.248006714225767.\n"
     ]
    },
    {
     "name": "stdout",
     "output_type": "stream",
     "text": [
      "Study saved to optuna_studies_deterministic/Queue75_Study.pkl\n",
      "Sleeping zZz  zZz  Zzz\n",
      "Study loaded from optuna_studies_deterministic/Queue25_Study.pkl\n",
      "[INFO] Starting from Trial 1129\n",
      "QueueSize: 25; ProblemNumber: 161\n"
     ]
    },
    {
     "name": "stderr",
     "output_type": "stream",
     "text": [
      "[I 2024-11-19 00:35:21,455] Trial 1129 finished with value: 12.77602523659306 and parameters: {'delta_start': 1041, 'symmetry_breaking': True, 'mip_focus': 1, 'cuts': 3, 'heuristics': 0.06873784725903331, 'presolve': 1}. Best is trial 854 with value: 62.73170731707317.\n"
     ]
    },
    {
     "name": "stdout",
     "output_type": "stream",
     "text": [
      "QueueSize: 25; ProblemNumber: 31\n"
     ]
    },
    {
     "name": "stderr",
     "output_type": "stream",
     "text": [
      "[I 2024-11-19 00:37:05,448] Trial 1130 finished with value: 45.76734025122884 and parameters: {'delta_start': 775, 'symmetry_breaking': False, 'mip_focus': 1, 'cuts': 2, 'heuristics': 0.5634441679452629, 'presolve': 1}. Best is trial 854 with value: 62.73170731707317.\n"
     ]
    },
    {
     "name": "stdout",
     "output_type": "stream",
     "text": [
      "Study saved to optuna_studies_deterministic/Queue25_Study.pkl\n",
      "Sleeping zZz  zZz  Zzz\n",
      "Study loaded from optuna_studies_deterministic/Queue25_Study.pkl\n",
      "[INFO] Starting from Trial 1131\n",
      "QueueSize: 25; ProblemNumber: 52\n"
     ]
    },
    {
     "name": "stderr",
     "output_type": "stream",
     "text": [
      "[I 2024-11-19 00:38:18,248] Trial 1131 finished with value: 20.178041543026705 and parameters: {'delta_start': 1023, 'symmetry_breaking': False, 'mip_focus': 2, 'cuts': 2, 'heuristics': 0.9089588660208876, 'presolve': 0}. Best is trial 854 with value: 62.73170731707317.\n"
     ]
    },
    {
     "name": "stdout",
     "output_type": "stream",
     "text": [
      "QueueSize: 25; ProblemNumber: 105\n"
     ]
    },
    {
     "name": "stderr",
     "output_type": "stream",
     "text": [
      "[I 2024-11-19 00:40:32,710] Trial 1132 finished with value: 45.41069459757442 and parameters: {'delta_start': 1031, 'symmetry_breaking': False, 'mip_focus': 3, 'cuts': 2, 'heuristics': 0.9459265514516233, 'presolve': 0}. Best is trial 854 with value: 62.73170731707317.\n"
     ]
    },
    {
     "name": "stdout",
     "output_type": "stream",
     "text": [
      "Study saved to optuna_studies_deterministic/Queue25_Study.pkl\n",
      "Sleeping zZz  zZz  Zzz\n",
      "Study loaded from optuna_studies_deterministic/Queue75_Study.pkl\n",
      "[INFO] Starting from Trial 1035\n",
      "QueueSize: 75; ProblemNumber: 31\n"
     ]
    },
    {
     "name": "stderr",
     "output_type": "stream",
     "text": [
      "[I 2024-11-19 00:43:23,294] Trial 1035 finished with value: 6.978879706152434 and parameters: {'delta_start': 2496, 'symmetry_breaking': False, 'mip_focus': 3, 'cuts': 2, 'heuristics': 0.5323176660817291, 'presolve': 1}. Best is trial 908 with value: 23.248006714225767.\n"
     ]
    },
    {
     "name": "stdout",
     "output_type": "stream",
     "text": [
      "QueueSize: 75; ProblemNumber: 46\n"
     ]
    },
    {
     "name": "stderr",
     "output_type": "stream",
     "text": [
      "[I 2024-11-19 00:46:01,039] Trial 1036 finished with value: 17.339072980278306 and parameters: {'delta_start': 2855, 'symmetry_breaking': True, 'mip_focus': 0, 'cuts': 2, 'heuristics': 0.6731906400131478, 'presolve': 2}. Best is trial 908 with value: 23.248006714225767.\n"
     ]
    },
    {
     "name": "stdout",
     "output_type": "stream",
     "text": [
      "Study saved to optuna_studies_deterministic/Queue75_Study.pkl\n",
      "Sleeping zZz  zZz  Zzz\n",
      "Study loaded from optuna_studies_deterministic/Queue25_Study.pkl\n",
      "[INFO] Starting from Trial 1133\n",
      "QueueSize: 25; ProblemNumber: 39\n"
     ]
    },
    {
     "name": "stderr",
     "output_type": "stream",
     "text": [
      "[I 2024-11-19 00:47:24,939] Trial 1133 finished with value: 20.703210307927495 and parameters: {'delta_start': 787, 'symmetry_breaking': False, 'mip_focus': 3, 'cuts': 2, 'heuristics': 0.8504213821546335, 'presolve': 0}. Best is trial 854 with value: 62.73170731707317.\n"
     ]
    },
    {
     "name": "stdout",
     "output_type": "stream",
     "text": [
      "QueueSize: 25; ProblemNumber: 246\n"
     ]
    },
    {
     "name": "stderr",
     "output_type": "stream",
     "text": [
      "[I 2024-11-19 00:48:59,396] Trial 1134 finished with value: 14.211988884477966 and parameters: {'delta_start': 2025, 'symmetry_breaking': False, 'mip_focus': 2, 'cuts': 0, 'heuristics': 0.3217126675741544, 'presolve': 1}. Best is trial 854 with value: 62.73170731707317.\n"
     ]
    },
    {
     "name": "stdout",
     "output_type": "stream",
     "text": [
      "Study saved to optuna_studies_deterministic/Queue25_Study.pkl\n",
      "Sleeping zZz  zZz  Zzz\n",
      "Study loaded from optuna_studies_deterministic/Queue25_Study.pkl\n",
      "[INFO] Starting from Trial 1135\n",
      "QueueSize: 25; ProblemNumber: 171\n"
     ]
    },
    {
     "name": "stderr",
     "output_type": "stream",
     "text": [
      "[I 2024-11-19 00:50:34,581] Trial 1135 finished with value: 20.413292376431162 and parameters: {'delta_start': 1033, 'symmetry_breaking': False, 'mip_focus': 0, 'cuts': 2, 'heuristics': 0.726179854088888, 'presolve': 1}. Best is trial 854 with value: 62.73170731707317.\n"
     ]
    },
    {
     "name": "stdout",
     "output_type": "stream",
     "text": [
      "QueueSize: 25; ProblemNumber: 80\n"
     ]
    },
    {
     "name": "stderr",
     "output_type": "stream",
     "text": [
      "[I 2024-11-19 00:52:17,942] Trial 1136 finished with value: 47.39431486880466 and parameters: {'delta_start': 783, 'symmetry_breaking': False, 'mip_focus': 3, 'cuts': 2, 'heuristics': 0.9077843934636707, 'presolve': 0}. Best is trial 854 with value: 62.73170731707317.\n"
     ]
    },
    {
     "name": "stdout",
     "output_type": "stream",
     "text": [
      "Study saved to optuna_studies_deterministic/Queue25_Study.pkl\n",
      "Sleeping zZz  zZz  Zzz\n",
      "Study loaded from optuna_studies_deterministic/Queue75_Study.pkl\n",
      "[INFO] Starting from Trial 1037\n",
      "QueueSize: 75; ProblemNumber: 42\n"
     ]
    },
    {
     "name": "stderr",
     "output_type": "stream",
     "text": [
      "[I 2024-11-19 00:55:44,413] Trial 1037 finished with value: 2.2589377391953698 and parameters: {'delta_start': 2495, 'symmetry_breaking': True, 'mip_focus': 0, 'cuts': 1, 'heuristics': 0.5160955902358738, 'presolve': 2}. Best is trial 908 with value: 23.248006714225767.\n"
     ]
    },
    {
     "name": "stdout",
     "output_type": "stream",
     "text": [
      "QueueSize: 75; ProblemNumber: 76\n"
     ]
    },
    {
     "name": "stderr",
     "output_type": "stream",
     "text": [
      "[I 2024-11-19 00:58:22,000] Trial 1038 finished with value: 13.713627196773265 and parameters: {'delta_start': 2495, 'symmetry_breaking': False, 'mip_focus': 3, 'cuts': 3, 'heuristics': 0.62715438372411, 'presolve': 1}. Best is trial 908 with value: 23.248006714225767.\n"
     ]
    },
    {
     "name": "stdout",
     "output_type": "stream",
     "text": [
      "Study saved to optuna_studies_deterministic/Queue75_Study.pkl\n",
      "Sleeping zZz  zZz  Zzz\n",
      "Study loaded from optuna_studies_deterministic/Queue25_Study.pkl\n",
      "[INFO] Starting from Trial 1137\n",
      "QueueSize: 25; ProblemNumber: 56\n"
     ]
    },
    {
     "name": "stderr",
     "output_type": "stream",
     "text": [
      "[I 2024-11-19 01:00:02,006] Trial 1137 finished with value: 20.03582395087001 and parameters: {'delta_start': 782, 'symmetry_breaking': False, 'mip_focus': 3, 'cuts': 2, 'heuristics': 0.8290824049666354, 'presolve': 1}. Best is trial 854 with value: 62.73170731707317.\n"
     ]
    },
    {
     "name": "stdout",
     "output_type": "stream",
     "text": [
      "QueueSize: 25; ProblemNumber: 269\n"
     ]
    },
    {
     "name": "stderr",
     "output_type": "stream",
     "text": [
      "[I 2024-11-19 01:01:26,413] Trial 1138 finished with value: 26.046868997310796 and parameters: {'delta_start': 1053, 'symmetry_breaking': False, 'mip_focus': 2, 'cuts': 2, 'heuristics': 0.12410387620166433, 'presolve': 0}. Best is trial 854 with value: 62.73170731707317.\n"
     ]
    },
    {
     "name": "stdout",
     "output_type": "stream",
     "text": [
      "Study saved to optuna_studies_deterministic/Queue25_Study.pkl\n",
      "Sleeping zZz  zZz  Zzz\n",
      "Study loaded from optuna_studies_deterministic/Queue25_Study.pkl\n",
      "[INFO] Starting from Trial 1139\n",
      "QueueSize: 25; ProblemNumber: 7\n"
     ]
    },
    {
     "name": "stderr",
     "output_type": "stream",
     "text": [
      "[I 2024-11-19 01:02:39,103] Trial 1139 finished with value: 10.250297973778308 and parameters: {'delta_start': 951, 'symmetry_breaking': False, 'mip_focus': 3, 'cuts': 3, 'heuristics': 0.9687108996217229, 'presolve': -1}. Best is trial 854 with value: 62.73170731707317.\n"
     ]
    },
    {
     "name": "stdout",
     "output_type": "stream",
     "text": [
      "QueueSize: 25; ProblemNumber: 191\n"
     ]
    },
    {
     "name": "stderr",
     "output_type": "stream",
     "text": [
      "[I 2024-11-19 01:04:12,099] Trial 1140 finished with value: 20.826032540675847 and parameters: {'delta_start': 2207, 'symmetry_breaking': False, 'mip_focus': 3, 'cuts': 2, 'heuristics': 0.8160420537494845, 'presolve': -1}. Best is trial 854 with value: 62.73170731707317.\n"
     ]
    },
    {
     "name": "stdout",
     "output_type": "stream",
     "text": [
      "Study saved to optuna_studies_deterministic/Queue25_Study.pkl\n",
      "Sleeping zZz  zZz  Zzz\n",
      "Study loaded from optuna_studies_deterministic/Queue75_Study.pkl\n",
      "[INFO] Starting from Trial 1039\n",
      "QueueSize: 75; ProblemNumber: 78\n"
     ]
    },
    {
     "name": "stderr",
     "output_type": "stream",
     "text": [
      "[I 2024-11-19 01:06:50,046] Trial 1039 finished with value: 15.826651393661702 and parameters: {'delta_start': 2496, 'symmetry_breaking': False, 'mip_focus': 3, 'cuts': 1, 'heuristics': 0.8611616494983872, 'presolve': 0}. Best is trial 908 with value: 23.248006714225767.\n"
     ]
    },
    {
     "name": "stdout",
     "output_type": "stream",
     "text": [
      "QueueSize: 75; ProblemNumber: 99\n"
     ]
    },
    {
     "name": "stderr",
     "output_type": "stream",
     "text": [
      "[I 2024-11-19 01:10:04,935] Trial 1040 finished with value: 12.54724111866969 and parameters: {'delta_start': 2810, 'symmetry_breaking': True, 'mip_focus': 0, 'cuts': 1, 'heuristics': 0.7337501544779956, 'presolve': 1}. Best is trial 908 with value: 23.248006714225767.\n"
     ]
    },
    {
     "name": "stdout",
     "output_type": "stream",
     "text": [
      "Study saved to optuna_studies_deterministic/Queue75_Study.pkl\n",
      "Sleeping zZz  zZz  Zzz\n",
      "Study loaded from optuna_studies_deterministic/Queue25_Study.pkl\n",
      "[INFO] Starting from Trial 1141\n",
      "QueueSize: 25; ProblemNumber: 257\n"
     ]
    },
    {
     "name": "stderr",
     "output_type": "stream",
     "text": [
      "[I 2024-11-19 01:11:26,632] Trial 1141 finished with value: 40.33954604170511 and parameters: {'delta_start': 742, 'symmetry_breaking': False, 'mip_focus': 2, 'cuts': 1, 'heuristics': 0.01100454078856604, 'presolve': 0}. Best is trial 854 with value: 62.73170731707317.\n"
     ]
    },
    {
     "name": "stdout",
     "output_type": "stream",
     "text": [
      "QueueSize: 25; ProblemNumber: 24\n"
     ]
    },
    {
     "name": "stderr",
     "output_type": "stream",
     "text": [
      "[I 2024-11-19 01:12:50,121] Trial 1142 finished with value: 25.521379001567045 and parameters: {'delta_start': 2140, 'symmetry_breaking': False, 'mip_focus': 1, 'cuts': 3, 'heuristics': 0.5870736588533308, 'presolve': 0}. Best is trial 854 with value: 62.73170731707317.\n"
     ]
    },
    {
     "name": "stdout",
     "output_type": "stream",
     "text": [
      "Study saved to optuna_studies_deterministic/Queue25_Study.pkl\n",
      "Sleeping zZz  zZz  Zzz\n",
      "Study loaded from optuna_studies_deterministic/Queue25_Study.pkl\n",
      "[INFO] Starting from Trial 1143\n",
      "QueueSize: 25; ProblemNumber: 74\n"
     ]
    },
    {
     "name": "stderr",
     "output_type": "stream",
     "text": [
      "[I 2024-11-19 01:14:03,548] Trial 1143 finished with value: 16.22088006902502 and parameters: {'delta_start': 2892, 'symmetry_breaking': False, 'mip_focus': 2, 'cuts': 2, 'heuristics': 0.28266372800586237, 'presolve': 2}. Best is trial 854 with value: 62.73170731707317.\n"
     ]
    },
    {
     "name": "stdout",
     "output_type": "stream",
     "text": [
      "QueueSize: 25; ProblemNumber: 198\n"
     ]
    },
    {
     "name": "stderr",
     "output_type": "stream",
     "text": [
      "[I 2024-11-19 01:15:47,193] Trial 1144 finished with value: 15.853888156655996 and parameters: {'delta_start': 761, 'symmetry_breaking': False, 'mip_focus': 3, 'cuts': 0, 'heuristics': 0.6141271273560999, 'presolve': 1}. Best is trial 854 with value: 62.73170731707317.\n"
     ]
    },
    {
     "name": "stdout",
     "output_type": "stream",
     "text": [
      "Study saved to optuna_studies_deterministic/Queue25_Study.pkl\n",
      "Sleeping zZz  zZz  Zzz\n",
      "Study loaded from optuna_studies_deterministic/Queue75_Study.pkl\n",
      "[INFO] Starting from Trial 1041\n",
      "QueueSize: 75; ProblemNumber: 42\n"
     ]
    },
    {
     "name": "stderr",
     "output_type": "stream",
     "text": [
      "[I 2024-11-19 01:19:13,933] Trial 1041 finished with value: 4.853915803229722 and parameters: {'delta_start': 2495, 'symmetry_breaking': False, 'mip_focus': 3, 'cuts': 2, 'heuristics': 0.6108391366938064, 'presolve': 1}. Best is trial 908 with value: 23.248006714225767.\n"
     ]
    },
    {
     "name": "stdout",
     "output_type": "stream",
     "text": [
      "QueueSize: 75; ProblemNumber: 86\n"
     ]
    },
    {
     "name": "stderr",
     "output_type": "stream",
     "text": [
      "[I 2024-11-19 01:22:15,347] Trial 1042 finished with value: 18.71657754010695 and parameters: {'delta_start': 2492, 'symmetry_breaking': False, 'mip_focus': 3, 'cuts': 2, 'heuristics': 0.8587008269610686, 'presolve': 1}. Best is trial 908 with value: 23.248006714225767.\n"
     ]
    },
    {
     "name": "stdout",
     "output_type": "stream",
     "text": [
      "Study saved to optuna_studies_deterministic/Queue75_Study.pkl\n",
      "Sleeping zZz  zZz  Zzz\n",
      "Study loaded from optuna_studies_deterministic/Queue25_Study.pkl\n",
      "[INFO] Starting from Trial 1145\n",
      "QueueSize: 25; ProblemNumber: 18\n"
     ]
    },
    {
     "name": "stderr",
     "output_type": "stream",
     "text": [
      "[I 2024-11-19 01:23:19,449] Trial 1145 finished with value: 10.870202168180485 and parameters: {'delta_start': 1189, 'symmetry_breaking': False, 'mip_focus': 3, 'cuts': 1, 'heuristics': 0.6831508347880658, 'presolve': 2}. Best is trial 854 with value: 62.73170731707317.\n"
     ]
    },
    {
     "name": "stdout",
     "output_type": "stream",
     "text": [
      "QueueSize: 25; ProblemNumber: 162\n"
     ]
    },
    {
     "name": "stderr",
     "output_type": "stream",
     "text": [
      "[I 2024-11-19 01:25:06,638] Trial 1146 finished with value: 20.799830723656367 and parameters: {'delta_start': 1580, 'symmetry_breaking': False, 'mip_focus': 2, 'cuts': 1, 'heuristics': 0.011747688345383044, 'presolve': 0}. Best is trial 854 with value: 62.73170731707317.\n"
     ]
    },
    {
     "name": "stdout",
     "output_type": "stream",
     "text": [
      "Study saved to optuna_studies_deterministic/Queue25_Study.pkl\n",
      "Sleeping zZz  zZz  Zzz\n",
      "Study loaded from optuna_studies_deterministic/Queue25_Study.pkl\n",
      "[INFO] Starting from Trial 1147\n",
      "QueueSize: 25; ProblemNumber: 257\n"
     ]
    },
    {
     "name": "stderr",
     "output_type": "stream",
     "text": [
      "[I 2024-11-19 01:26:24,727] Trial 1147 finished with value: 40.33954604170511 and parameters: {'delta_start': 2154, 'symmetry_breaking': False, 'mip_focus': 3, 'cuts': 1, 'heuristics': 0.5839490301100861, 'presolve': 2}. Best is trial 854 with value: 62.73170731707317.\n"
     ]
    },
    {
     "name": "stdout",
     "output_type": "stream",
     "text": [
      "QueueSize: 25; ProblemNumber: 77\n"
     ]
    },
    {
     "name": "stderr",
     "output_type": "stream",
     "text": [
      "[I 2024-11-19 01:28:08,279] Trial 1148 finished with value: 34.08493870402802 and parameters: {'delta_start': 2031, 'symmetry_breaking': False, 'mip_focus': 2, 'cuts': 2, 'heuristics': 0.5441855350470389, 'presolve': 2}. Best is trial 854 with value: 62.73170731707317.\n"
     ]
    },
    {
     "name": "stdout",
     "output_type": "stream",
     "text": [
      "Study saved to optuna_studies_deterministic/Queue25_Study.pkl\n",
      "Sleeping zZz  zZz  Zzz\n",
      "Study loaded from optuna_studies_deterministic/Queue75_Study.pkl\n",
      "[INFO] Starting from Trial 1043\n",
      "QueueSize: 75; ProblemNumber: 63\n"
     ]
    },
    {
     "name": "stderr",
     "output_type": "stream",
     "text": [
      "[I 2024-11-19 01:30:57,834] Trial 1043 finished with value: 7.231859271927682 and parameters: {'delta_start': 2492, 'symmetry_breaking': False, 'mip_focus': 3, 'cuts': 2, 'heuristics': 0.6013078544148667, 'presolve': 1}. Best is trial 908 with value: 23.248006714225767.\n"
     ]
    },
    {
     "name": "stdout",
     "output_type": "stream",
     "text": [
      "QueueSize: 75; ProblemNumber: 43\n"
     ]
    },
    {
     "name": "stderr",
     "output_type": "stream",
     "text": [
      "[I 2024-11-19 01:33:46,674] Trial 1044 finished with value: 13.889658996395896 and parameters: {'delta_start': 2495, 'symmetry_breaking': False, 'mip_focus': 2, 'cuts': 2, 'heuristics': 0.7283983000645806, 'presolve': 0}. Best is trial 908 with value: 23.248006714225767.\n"
     ]
    },
    {
     "name": "stdout",
     "output_type": "stream",
     "text": [
      "Study saved to optuna_studies_deterministic/Queue75_Study.pkl\n",
      "Sleeping zZz  zZz  Zzz\n",
      "Study loaded from optuna_studies_deterministic/Queue25_Study.pkl\n",
      "[INFO] Starting from Trial 1149\n",
      "QueueSize: 25; ProblemNumber: 26\n"
     ]
    },
    {
     "name": "stderr",
     "output_type": "stream",
     "text": [
      "[I 2024-11-19 01:35:20,262] Trial 1149 finished with value: 29.09441233140655 and parameters: {'delta_start': 799, 'symmetry_breaking': False, 'mip_focus': 2, 'cuts': 2, 'heuristics': 0.840169211480102, 'presolve': 0}. Best is trial 854 with value: 62.73170731707317.\n"
     ]
    },
    {
     "name": "stdout",
     "output_type": "stream",
     "text": [
      "QueueSize: 25; ProblemNumber: 98\n"
     ]
    },
    {
     "name": "stderr",
     "output_type": "stream",
     "text": [
      "[I 2024-11-19 01:37:16,484] Trial 1150 finished with value: 34.85148514851485 and parameters: {'delta_start': 1734, 'symmetry_breaking': True, 'mip_focus': 2, 'cuts': 1, 'heuristics': 0.15016254470734777, 'presolve': 0}. Best is trial 854 with value: 62.73170731707317.\n"
     ]
    },
    {
     "name": "stdout",
     "output_type": "stream",
     "text": [
      "Study saved to optuna_studies_deterministic/Queue25_Study.pkl\n",
      "Sleeping zZz  zZz  Zzz\n",
      "Study loaded from optuna_studies_deterministic/Queue25_Study.pkl\n",
      "[INFO] Starting from Trial 1151\n",
      "QueueSize: 25; ProblemNumber: 169\n"
     ]
    },
    {
     "name": "stderr",
     "output_type": "stream",
     "text": [
      "[I 2024-11-19 01:38:50,062] Trial 1151 finished with value: 30.05694478831394 and parameters: {'delta_start': 1147, 'symmetry_breaking': False, 'mip_focus': 2, 'cuts': 2, 'heuristics': 0.9146528681257243, 'presolve': 1}. Best is trial 854 with value: 62.73170731707317.\n"
     ]
    },
    {
     "name": "stdout",
     "output_type": "stream",
     "text": [
      "QueueSize: 25; ProblemNumber: 171\n"
     ]
    },
    {
     "name": "stderr",
     "output_type": "stream",
     "text": [
      "[I 2024-11-19 01:40:23,411] Trial 1152 finished with value: 20.413292376431162 and parameters: {'delta_start': 2638, 'symmetry_breaking': False, 'mip_focus': 1, 'cuts': 0, 'heuristics': 0.35719052603482193, 'presolve': 2}. Best is trial 854 with value: 62.73170731707317.\n"
     ]
    },
    {
     "name": "stdout",
     "output_type": "stream",
     "text": [
      "Study saved to optuna_studies_deterministic/Queue25_Study.pkl\n",
      "Sleeping zZz  zZz  Zzz\n",
      "Study loaded from optuna_studies_deterministic/Queue75_Study.pkl\n",
      "[INFO] Starting from Trial 1045\n",
      "QueueSize: 75; ProblemNumber: 81\n"
     ]
    },
    {
     "name": "stderr",
     "output_type": "stream",
     "text": [
      "[I 2024-11-19 01:43:36,707] Trial 1045 finished with value: 6.352299298519096 and parameters: {'delta_start': 2869, 'symmetry_breaking': False, 'mip_focus': 2, 'cuts': 1, 'heuristics': 0.7400403283865384, 'presolve': 1}. Best is trial 908 with value: 23.248006714225767.\n"
     ]
    },
    {
     "name": "stdout",
     "output_type": "stream",
     "text": [
      "QueueSize: 75; ProblemNumber: 36\n"
     ]
    },
    {
     "name": "stderr",
     "output_type": "stream",
     "text": [
      "[I 2024-11-19 01:46:13,473] Trial 1046 finished with value: 9.766734279918863 and parameters: {'delta_start': 2495, 'symmetry_breaking': True, 'mip_focus': 1, 'cuts': 0, 'heuristics': 0.9942693826951167, 'presolve': 1}. Best is trial 908 with value: 23.248006714225767.\n"
     ]
    },
    {
     "name": "stdout",
     "output_type": "stream",
     "text": [
      "Study saved to optuna_studies_deterministic/Queue75_Study.pkl\n",
      "Sleeping zZz  zZz  Zzz\n",
      "Study loaded from optuna_studies_deterministic/Queue25_Study.pkl\n",
      "[INFO] Starting from Trial 1153\n",
      "QueueSize: 25; ProblemNumber: 216\n"
     ]
    },
    {
     "name": "stderr",
     "output_type": "stream",
     "text": [
      "[I 2024-11-19 01:47:40,012] Trial 1153 finished with value: 21.737931034482756 and parameters: {'delta_start': 2191, 'symmetry_breaking': False, 'mip_focus': 3, 'cuts': 2, 'heuristics': 0.8414336988376794, 'presolve': 0}. Best is trial 854 with value: 62.73170731707317.\n"
     ]
    },
    {
     "name": "stdout",
     "output_type": "stream",
     "text": [
      "QueueSize: 25; ProblemNumber: 21\n"
     ]
    },
    {
     "name": "stderr",
     "output_type": "stream",
     "text": [
      "[I 2024-11-19 01:49:17,195] Trial 1154 finished with value: 14.908839141472422 and parameters: {'delta_start': 749, 'symmetry_breaking': True, 'mip_focus': 0, 'cuts': 0, 'heuristics': 0.6278443349413151, 'presolve': -1}. Best is trial 854 with value: 62.73170731707317.\n"
     ]
    },
    {
     "name": "stdout",
     "output_type": "stream",
     "text": [
      "Study saved to optuna_studies_deterministic/Queue25_Study.pkl\n",
      "Sleeping zZz  zZz  Zzz\n",
      "Study loaded from optuna_studies_deterministic/Queue25_Study.pkl\n",
      "[INFO] Starting from Trial 1155\n",
      "QueueSize: 25; ProblemNumber: 113\n"
     ]
    },
    {
     "name": "stderr",
     "output_type": "stream",
     "text": [
      "[I 2024-11-19 01:50:40,869] Trial 1155 finished with value: 41.786153215895126 and parameters: {'delta_start': 1019, 'symmetry_breaking': False, 'mip_focus': 0, 'cuts': 3, 'heuristics': 0.6761968127666322, 'presolve': 1}. Best is trial 854 with value: 62.73170731707317.\n"
     ]
    },
    {
     "name": "stdout",
     "output_type": "stream",
     "text": [
      "QueueSize: 25; ProblemNumber: 25\n"
     ]
    },
    {
     "name": "stderr",
     "output_type": "stream",
     "text": [
      "[I 2024-11-19 01:52:08,435] Trial 1156 finished with value: 13.823102948284197 and parameters: {'delta_start': 2074, 'symmetry_breaking': True, 'mip_focus': 0, 'cuts': 0, 'heuristics': 0.9546177547802966, 'presolve': -1}. Best is trial 854 with value: 62.73170731707317.\n"
     ]
    },
    {
     "name": "stdout",
     "output_type": "stream",
     "text": [
      "Study saved to optuna_studies_deterministic/Queue25_Study.pkl\n",
      "Sleeping zZz  zZz  Zzz\n",
      "Study loaded from optuna_studies_deterministic/Queue75_Study.pkl\n",
      "[INFO] Starting from Trial 1047\n",
      "QueueSize: 75; ProblemNumber: 85\n"
     ]
    },
    {
     "name": "stderr",
     "output_type": "stream",
     "text": [
      "[I 2024-11-19 01:55:09,244] Trial 1047 finished with value: 4.043478260869565 and parameters: {'delta_start': 2494, 'symmetry_breaking': False, 'mip_focus': 3, 'cuts': 3, 'heuristics': 0.6051093493031805, 'presolve': 1}. Best is trial 908 with value: 23.248006714225767.\n"
     ]
    },
    {
     "name": "stdout",
     "output_type": "stream",
     "text": [
      "QueueSize: 75; ProblemNumber: 57\n"
     ]
    },
    {
     "name": "stderr",
     "output_type": "stream",
     "text": [
      "[I 2024-11-19 01:58:09,590] Trial 1048 finished with value: 3.9582013932868905 and parameters: {'delta_start': 2494, 'symmetry_breaking': True, 'mip_focus': 0, 'cuts': 1, 'heuristics': 0.7839381174732736, 'presolve': 2}. Best is trial 908 with value: 23.248006714225767.\n"
     ]
    },
    {
     "name": "stdout",
     "output_type": "stream",
     "text": [
      "Study saved to optuna_studies_deterministic/Queue75_Study.pkl\n",
      "Sleeping zZz  zZz  Zzz\n",
      "Study loaded from optuna_studies_deterministic/Queue25_Study.pkl\n",
      "[INFO] Starting from Trial 1157\n",
      "QueueSize: 25; ProblemNumber: 71\n"
     ]
    },
    {
     "name": "stderr",
     "output_type": "stream",
     "text": [
      "[I 2024-11-19 02:00:03,954] Trial 1157 finished with value: 23.98843930635838 and parameters: {'delta_start': 1199, 'symmetry_breaking': False, 'mip_focus': 3, 'cuts': 1, 'heuristics': 0.9380666334891656, 'presolve': 0}. Best is trial 854 with value: 62.73170731707317.\n"
     ]
    },
    {
     "name": "stdout",
     "output_type": "stream",
     "text": [
      "QueueSize: 25; ProblemNumber: 163\n"
     ]
    },
    {
     "name": "stderr",
     "output_type": "stream",
     "text": [
      "[I 2024-11-19 02:01:43,231] Trial 1158 finished with value: 36.11060578497362 and parameters: {'delta_start': 1143, 'symmetry_breaking': False, 'mip_focus': 3, 'cuts': 2, 'heuristics': 0.8981115147163296, 'presolve': -1}. Best is trial 854 with value: 62.73170731707317.\n"
     ]
    },
    {
     "name": "stdout",
     "output_type": "stream",
     "text": [
      "Study saved to optuna_studies_deterministic/Queue25_Study.pkl\n",
      "Sleeping zZz  zZz  Zzz\n",
      "Study loaded from optuna_studies_deterministic/Queue25_Study.pkl\n",
      "[INFO] Starting from Trial 1159\n",
      "QueueSize: 25; ProblemNumber: 275\n"
     ]
    },
    {
     "name": "stderr",
     "output_type": "stream",
     "text": [
      "[I 2024-11-19 02:03:29,957] Trial 1159 finished with value: 6.233630172865374 and parameters: {'delta_start': 1871, 'symmetry_breaking': False, 'mip_focus': 1, 'cuts': 1, 'heuristics': 0.57536618593377, 'presolve': 1}. Best is trial 854 with value: 62.73170731707317.\n"
     ]
    },
    {
     "name": "stdout",
     "output_type": "stream",
     "text": [
      "QueueSize: 25; ProblemNumber: 76\n"
     ]
    },
    {
     "name": "stderr",
     "output_type": "stream",
     "text": [
      "[I 2024-11-19 02:05:06,620] Trial 1160 finished with value: 15.10385158298044 and parameters: {'delta_start': 2169, 'symmetry_breaking': True, 'mip_focus': 0, 'cuts': 0, 'heuristics': 0.8542670549698543, 'presolve': 2}. Best is trial 854 with value: 62.73170731707317.\n"
     ]
    },
    {
     "name": "stdout",
     "output_type": "stream",
     "text": [
      "Study saved to optuna_studies_deterministic/Queue25_Study.pkl\n",
      "Sleeping zZz  zZz  Zzz\n",
      "Study loaded from optuna_studies_deterministic/Queue75_Study.pkl\n",
      "[INFO] Starting from Trial 1049\n",
      "QueueSize: 75; ProblemNumber: 33\n"
     ]
    },
    {
     "name": "stderr",
     "output_type": "stream",
     "text": [
      "[I 2024-11-19 02:08:31,628] Trial 1049 finished with value: 16.763835321553504 and parameters: {'delta_start': 2499, 'symmetry_breaking': False, 'mip_focus': 2, 'cuts': 1, 'heuristics': 0.31398331455733847, 'presolve': 0}. Best is trial 908 with value: 23.248006714225767.\n"
     ]
    },
    {
     "name": "stdout",
     "output_type": "stream",
     "text": [
      "QueueSize: 75; ProblemNumber: 83\n"
     ]
    },
    {
     "name": "stderr",
     "output_type": "stream",
     "text": [
      "[I 2024-11-19 02:11:21,013] Trial 1050 finished with value: 7.703993055555555 and parameters: {'delta_start': 2496, 'symmetry_breaking': False, 'mip_focus': 3, 'cuts': 2, 'heuristics': 0.4204735767349932, 'presolve': 1}. Best is trial 908 with value: 23.248006714225767.\n"
     ]
    },
    {
     "name": "stdout",
     "output_type": "stream",
     "text": [
      "Study saved to optuna_studies_deterministic/Queue75_Study.pkl\n",
      "Sleeping zZz  zZz  Zzz\n",
      "Study loaded from optuna_studies_deterministic/Queue25_Study.pkl\n",
      "[INFO] Starting from Trial 1161\n",
      "QueueSize: 25; ProblemNumber: 197\n"
     ]
    },
    {
     "name": "stderr",
     "output_type": "stream",
     "text": [
      "[I 2024-11-19 02:12:36,036] Trial 1161 finished with value: 20.95364238410596 and parameters: {'delta_start': 783, 'symmetry_breaking': False, 'mip_focus': 2, 'cuts': 3, 'heuristics': 0.8220645834821487, 'presolve': 0}. Best is trial 854 with value: 62.73170731707317.\n"
     ]
    },
    {
     "name": "stdout",
     "output_type": "stream",
     "text": [
      "QueueSize: 25; ProblemNumber: 212\n"
     ]
    },
    {
     "name": "stderr",
     "output_type": "stream",
     "text": [
      "[I 2024-11-19 02:13:58,598] Trial 1162 finished with value: 35.45853545853546 and parameters: {'delta_start': 2487, 'symmetry_breaking': True, 'mip_focus': 0, 'cuts': 1, 'heuristics': 0.12701660640446155, 'presolve': -1}. Best is trial 854 with value: 62.73170731707317.\n"
     ]
    },
    {
     "name": "stdout",
     "output_type": "stream",
     "text": [
      "Study saved to optuna_studies_deterministic/Queue25_Study.pkl\n",
      "Sleeping zZz  zZz  Zzz\n",
      "Study loaded from optuna_studies_deterministic/Queue25_Study.pkl\n",
      "[INFO] Starting from Trial 1163\n",
      "QueueSize: 25; ProblemNumber: 145\n"
     ]
    },
    {
     "name": "stderr",
     "output_type": "stream",
     "text": [
      "[I 2024-11-19 02:15:13,292] Trial 1163 finished with value: 23.44858156028369 and parameters: {'delta_start': 754, 'symmetry_breaking': False, 'mip_focus': 3, 'cuts': 2, 'heuristics': 0.9175354972833436, 'presolve': 1}. Best is trial 854 with value: 62.73170731707317.\n"
     ]
    },
    {
     "name": "stdout",
     "output_type": "stream",
     "text": [
      "QueueSize: 25; ProblemNumber: 164\n"
     ]
    },
    {
     "name": "stderr",
     "output_type": "stream",
     "text": [
      "[I 2024-11-19 02:17:04,685] Trial 1164 finished with value: 42.13791880872186 and parameters: {'delta_start': 2217, 'symmetry_breaking': False, 'mip_focus': 2, 'cuts': 2, 'heuristics': 0.1050656264981495, 'presolve': 0}. Best is trial 854 with value: 62.73170731707317.\n"
     ]
    },
    {
     "name": "stdout",
     "output_type": "stream",
     "text": [
      "Study saved to optuna_studies_deterministic/Queue25_Study.pkl\n",
      "Sleeping zZz  zZz  Zzz\n",
      "Study loaded from optuna_studies_deterministic/Queue75_Study.pkl\n",
      "[INFO] Starting from Trial 1051\n",
      "QueueSize: 75; ProblemNumber: 35\n"
     ]
    },
    {
     "name": "stderr",
     "output_type": "stream",
     "text": [
      "[I 2024-11-19 02:20:06,014] Trial 1051 finished with value: 12.677484787018257 and parameters: {'delta_start': 2496, 'symmetry_breaking': True, 'mip_focus': 2, 'cuts': 3, 'heuristics': 0.9268725101298294, 'presolve': 1}. Best is trial 908 with value: 23.248006714225767.\n"
     ]
    },
    {
     "name": "stdout",
     "output_type": "stream",
     "text": [
      "QueueSize: 75; ProblemNumber: 74\n"
     ]
    },
    {
     "name": "stderr",
     "output_type": "stream",
     "text": [
      "[I 2024-11-19 02:23:06,582] Trial 1052 finished with value: 5.244554048499794 and parameters: {'delta_start': 2494, 'symmetry_breaking': False, 'mip_focus': 0, 'cuts': 0, 'heuristics': 0.6202464369710667, 'presolve': 1}. Best is trial 908 with value: 23.248006714225767.\n"
     ]
    },
    {
     "name": "stdout",
     "output_type": "stream",
     "text": [
      "Study saved to optuna_studies_deterministic/Queue75_Study.pkl\n",
      "Sleeping zZz  zZz  Zzz\n",
      "Study loaded from optuna_studies_deterministic/Queue25_Study.pkl\n",
      "[INFO] Starting from Trial 1165\n",
      "QueueSize: 25; ProblemNumber: 210\n"
     ]
    },
    {
     "name": "stderr",
     "output_type": "stream",
     "text": [
      "[I 2024-11-19 02:24:42,171] Trial 1165 finished with value: 45.30355097365407 and parameters: {'delta_start': 1024, 'symmetry_breaking': True, 'mip_focus': 2, 'cuts': 2, 'heuristics': 0.854124160601338, 'presolve': 0}. Best is trial 854 with value: 62.73170731707317.\n"
     ]
    },
    {
     "name": "stdout",
     "output_type": "stream",
     "text": [
      "QueueSize: 25; ProblemNumber: 213\n"
     ]
    },
    {
     "name": "stderr",
     "output_type": "stream",
     "text": [
      "[I 2024-11-19 02:26:26,742] Trial 1166 finished with value: 35.87255081486907 and parameters: {'delta_start': 2008, 'symmetry_breaking': True, 'mip_focus': 2, 'cuts': 3, 'heuristics': 0.6676969442823005, 'presolve': 0}. Best is trial 854 with value: 62.73170731707317.\n"
     ]
    },
    {
     "name": "stdout",
     "output_type": "stream",
     "text": [
      "Study saved to optuna_studies_deterministic/Queue25_Study.pkl\n",
      "Sleeping zZz  zZz  Zzz\n",
      "Study loaded from optuna_studies_deterministic/Queue25_Study.pkl\n",
      "[INFO] Starting from Trial 1167\n",
      "QueueSize: 25; ProblemNumber: 97\n"
     ]
    },
    {
     "name": "stderr",
     "output_type": "stream",
     "text": [
      "[I 2024-11-19 02:28:00,055] Trial 1167 finished with value: 11.62423969362469 and parameters: {'delta_start': 2535, 'symmetry_breaking': True, 'mip_focus': 2, 'cuts': 2, 'heuristics': 0.6995078239087297, 'presolve': 0}. Best is trial 854 with value: 62.73170731707317.\n"
     ]
    },
    {
     "name": "stdout",
     "output_type": "stream",
     "text": [
      "QueueSize: 25; ProblemNumber: 292\n"
     ]
    },
    {
     "name": "stderr",
     "output_type": "stream",
     "text": [
      "[I 2024-11-19 02:29:20,656] Trial 1168 finished with value: 25.231743160750618 and parameters: {'delta_start': 1321, 'symmetry_breaking': False, 'mip_focus': 3, 'cuts': 1, 'heuristics': 0.8223534713688548, 'presolve': 2}. Best is trial 854 with value: 62.73170731707317.\n"
     ]
    },
    {
     "name": "stdout",
     "output_type": "stream",
     "text": [
      "Study saved to optuna_studies_deterministic/Queue25_Study.pkl\n",
      "Sleeping zZz  zZz  Zzz\n",
      "Study loaded from optuna_studies_deterministic/Queue75_Study.pkl\n",
      "[INFO] Starting from Trial 1053\n",
      "QueueSize: 75; ProblemNumber: 71\n"
     ]
    },
    {
     "name": "stderr",
     "output_type": "stream",
     "text": [
      "[I 2024-11-19 02:32:22,376] Trial 1053 finished with value: 11.587831897309654 and parameters: {'delta_start': 2905, 'symmetry_breaking': True, 'mip_focus': 1, 'cuts': 1, 'heuristics': 0.7280898938327857, 'presolve': 2}. Best is trial 908 with value: 23.248006714225767.\n"
     ]
    },
    {
     "name": "stdout",
     "output_type": "stream",
     "text": [
      "QueueSize: 75; ProblemNumber: 68\n"
     ]
    },
    {
     "name": "stderr",
     "output_type": "stream",
     "text": [
      "[I 2024-11-19 02:35:35,648] Trial 1054 finished with value: 19.10740469208211 and parameters: {'delta_start': 2497, 'symmetry_breaking': False, 'mip_focus': 3, 'cuts': 2, 'heuristics': 0.575207180354023, 'presolve': 1}. Best is trial 908 with value: 23.248006714225767.\n"
     ]
    },
    {
     "name": "stdout",
     "output_type": "stream",
     "text": [
      "Study saved to optuna_studies_deterministic/Queue75_Study.pkl\n",
      "Sleeping zZz  zZz  Zzz\n",
      "Study loaded from optuna_studies_deterministic/Queue25_Study.pkl\n",
      "[INFO] Starting from Trial 1169\n",
      "QueueSize: 25; ProblemNumber: 6\n"
     ]
    },
    {
     "name": "stderr",
     "output_type": "stream",
     "text": [
      "[I 2024-11-19 02:37:02,507] Trial 1169 finished with value: 29.88691437802908 and parameters: {'delta_start': 761, 'symmetry_breaking': False, 'mip_focus': 0, 'cuts': 3, 'heuristics': 0.7806895487324463, 'presolve': 1}. Best is trial 854 with value: 62.73170731707317.\n"
     ]
    },
    {
     "name": "stdout",
     "output_type": "stream",
     "text": [
      "QueueSize: 25; ProblemNumber: 28\n"
     ]
    },
    {
     "name": "stderr",
     "output_type": "stream",
     "text": [
      "[I 2024-11-19 02:38:55,958] Trial 1170 finished with value: 25.517241379310345 and parameters: {'delta_start': 1893, 'symmetry_breaking': False, 'mip_focus': 2, 'cuts': 3, 'heuristics': 0.9944901000699119, 'presolve': -1}. Best is trial 854 with value: 62.73170731707317.\n"
     ]
    },
    {
     "name": "stdout",
     "output_type": "stream",
     "text": [
      "Study saved to optuna_studies_deterministic/Queue25_Study.pkl\n",
      "Sleeping zZz  zZz  Zzz\n",
      "Study loaded from optuna_studies_deterministic/Queue25_Study.pkl\n",
      "[INFO] Starting from Trial 1171\n",
      "QueueSize: 25; ProblemNumber: 127\n"
     ]
    },
    {
     "name": "stderr",
     "output_type": "stream",
     "text": [
      "[I 2024-11-19 02:40:24,255] Trial 1171 finished with value: 17.611940298507463 and parameters: {'delta_start': 2248, 'symmetry_breaking': False, 'mip_focus': 1, 'cuts': 2, 'heuristics': 0.3667976236871161, 'presolve': 1}. Best is trial 854 with value: 62.73170731707317.\n"
     ]
    },
    {
     "name": "stdout",
     "output_type": "stream",
     "text": [
      "QueueSize: 25; ProblemNumber: 168\n"
     ]
    },
    {
     "name": "stderr",
     "output_type": "stream",
     "text": [
      "[I 2024-11-19 02:41:47,793] Trial 1172 finished with value: 24.0184250932222 and parameters: {'delta_start': 710, 'symmetry_breaking': True, 'mip_focus': 3, 'cuts': 1, 'heuristics': 0.28277161219646363, 'presolve': 1}. Best is trial 854 with value: 62.73170731707317.\n"
     ]
    },
    {
     "name": "stdout",
     "output_type": "stream",
     "text": [
      "Study saved to optuna_studies_deterministic/Queue25_Study.pkl\n",
      "Sleeping zZz  zZz  Zzz\n",
      "Study loaded from optuna_studies_deterministic/Queue75_Study.pkl\n",
      "[INFO] Starting from Trial 1055\n",
      "QueueSize: 75; ProblemNumber: 34\n"
     ]
    },
    {
     "name": "stderr",
     "output_type": "stream",
     "text": [
      "[I 2024-11-19 02:44:36,414] Trial 1055 finished with value: 4.712404712404712 and parameters: {'delta_start': 2505, 'symmetry_breaking': True, 'mip_focus': 0, 'cuts': 1, 'heuristics': 0.6477909362469649, 'presolve': 2}. Best is trial 908 with value: 23.248006714225767.\n"
     ]
    },
    {
     "name": "stdout",
     "output_type": "stream",
     "text": [
      "QueueSize: 75; ProblemNumber: 4\n"
     ]
    },
    {
     "name": "stderr",
     "output_type": "stream",
     "text": [
      "[I 2024-11-19 02:47:49,114] Trial 1056 finished with value: 5.714285714285714 and parameters: {'delta_start': 2491, 'symmetry_breaking': False, 'mip_focus': 0, 'cuts': 2, 'heuristics': 0.5874993446664611, 'presolve': 0}. Best is trial 908 with value: 23.248006714225767.\n"
     ]
    },
    {
     "name": "stdout",
     "output_type": "stream",
     "text": [
      "Study saved to optuna_studies_deterministic/Queue75_Study.pkl\n",
      "Sleeping zZz  zZz  Zzz\n",
      "Study loaded from optuna_studies_deterministic/Queue25_Study.pkl\n",
      "[INFO] Starting from Trial 1173\n",
      "QueueSize: 25; ProblemNumber: 234\n"
     ]
    },
    {
     "name": "stderr",
     "output_type": "stream",
     "text": [
      "[I 2024-11-19 02:49:22,334] Trial 1173 finished with value: 17.326892109500804 and parameters: {'delta_start': 2003, 'symmetry_breaking': False, 'mip_focus': 3, 'cuts': 2, 'heuristics': 0.8896515651991215, 'presolve': -1}. Best is trial 854 with value: 62.73170731707317.\n"
     ]
    },
    {
     "name": "stdout",
     "output_type": "stream",
     "text": [
      "QueueSize: 25; ProblemNumber: 70\n"
     ]
    },
    {
     "name": "stderr",
     "output_type": "stream",
     "text": [
      "[I 2024-11-19 02:50:45,408] Trial 1174 finished with value: 27.67230169050715 and parameters: {'delta_start': 664, 'symmetry_breaking': True, 'mip_focus': 1, 'cuts': 0, 'heuristics': 0.8224716488172656, 'presolve': 2}. Best is trial 854 with value: 62.73170731707317.\n"
     ]
    },
    {
     "name": "stdout",
     "output_type": "stream",
     "text": [
      "Study saved to optuna_studies_deterministic/Queue25_Study.pkl\n",
      "Sleeping zZz  zZz  Zzz\n",
      "Study loaded from optuna_studies_deterministic/Queue25_Study.pkl\n",
      "[INFO] Starting from Trial 1175\n",
      "QueueSize: 25; ProblemNumber: 119\n"
     ]
    },
    {
     "name": "stderr",
     "output_type": "stream",
     "text": [
      "[I 2024-11-19 02:52:28,965] Trial 1175 finished with value: 14.089661482159194 and parameters: {'delta_start': 1197, 'symmetry_breaking': False, 'mip_focus': 3, 'cuts': 3, 'heuristics': 0.6600276073845172, 'presolve': 0}. Best is trial 854 with value: 62.73170731707317.\n"
     ]
    },
    {
     "name": "stdout",
     "output_type": "stream",
     "text": [
      "QueueSize: 25; ProblemNumber: 71\n"
     ]
    },
    {
     "name": "stderr",
     "output_type": "stream",
     "text": [
      "[I 2024-11-19 02:54:23,001] Trial 1176 finished with value: 23.98843930635838 and parameters: {'delta_start': 2549, 'symmetry_breaking': False, 'mip_focus': 1, 'cuts': 3, 'heuristics': 0.21897462010582663, 'presolve': 1}. Best is trial 854 with value: 62.73170731707317.\n"
     ]
    },
    {
     "name": "stdout",
     "output_type": "stream",
     "text": [
      "Study saved to optuna_studies_deterministic/Queue25_Study.pkl\n",
      "Sleeping zZz  zZz  Zzz\n",
      "Study loaded from optuna_studies_deterministic/Queue75_Study.pkl\n",
      "[INFO] Starting from Trial 1057\n",
      "QueueSize: 75; ProblemNumber: 60\n"
     ]
    },
    {
     "name": "stderr",
     "output_type": "stream",
     "text": [
      "[I 2024-11-19 02:57:24,354] Trial 1057 finished with value: 8.063552741607932 and parameters: {'delta_start': 2491, 'symmetry_breaking': True, 'mip_focus': 0, 'cuts': 1, 'heuristics': 0.7651741056009447, 'presolve': 2}. Best is trial 908 with value: 23.248006714225767.\n"
     ]
    },
    {
     "name": "stdout",
     "output_type": "stream",
     "text": [
      "QueueSize: 75; ProblemNumber: 62\n"
     ]
    },
    {
     "name": "stderr",
     "output_type": "stream",
     "text": [
      "[I 2024-11-19 03:00:37,412] Trial 1058 finished with value: 8.118745080400315 and parameters: {'delta_start': 2493, 'symmetry_breaking': False, 'mip_focus': 3, 'cuts': 2, 'heuristics': 0.4812343040086208, 'presolve': 0}. Best is trial 908 with value: 23.248006714225767.\n"
     ]
    },
    {
     "name": "stdout",
     "output_type": "stream",
     "text": [
      "Study saved to optuna_studies_deterministic/Queue75_Study.pkl\n",
      "Sleeping zZz  zZz  Zzz\n",
      "Study loaded from optuna_studies_deterministic/Queue25_Study.pkl\n",
      "[INFO] Starting from Trial 1177\n",
      "QueueSize: 25; ProblemNumber: 11\n"
     ]
    },
    {
     "name": "stderr",
     "output_type": "stream",
     "text": [
      "[I 2024-11-19 03:02:21,672] Trial 1177 finished with value: 15.193026151930262 and parameters: {'delta_start': 1576, 'symmetry_breaking': False, 'mip_focus': 1, 'cuts': 1, 'heuristics': 0.008850147552389484, 'presolve': 0}. Best is trial 854 with value: 62.73170731707317.\n"
     ]
    },
    {
     "name": "stdout",
     "output_type": "stream",
     "text": [
      "QueueSize: 25; ProblemNumber: 254\n"
     ]
    },
    {
     "name": "stderr",
     "output_type": "stream",
     "text": [
      "[I 2024-11-19 03:04:15,492] Trial 1178 finished with value: 24.170343372338383 and parameters: {'delta_start': 2207, 'symmetry_breaking': False, 'mip_focus': 1, 'cuts': 3, 'heuristics': 0.4945778686357093, 'presolve': 0}. Best is trial 854 with value: 62.73170731707317.\n"
     ]
    },
    {
     "name": "stdout",
     "output_type": "stream",
     "text": [
      "Study saved to optuna_studies_deterministic/Queue25_Study.pkl\n",
      "Sleeping zZz  zZz  Zzz\n",
      "Study loaded from optuna_studies_deterministic/Queue25_Study.pkl\n",
      "[INFO] Starting from Trial 1179\n",
      "QueueSize: 25; ProblemNumber: 42\n"
     ]
    },
    {
     "name": "stderr",
     "output_type": "stream",
     "text": [
      "[I 2024-11-19 03:05:49,417] Trial 1179 finished with value: 19.08063687724705 and parameters: {'delta_start': 1680, 'symmetry_breaking': False, 'mip_focus': 2, 'cuts': 2, 'heuristics': 0.4762350729057859, 'presolve': 1}. Best is trial 854 with value: 62.73170731707317.\n"
     ]
    },
    {
     "name": "stdout",
     "output_type": "stream",
     "text": [
      "QueueSize: 25; ProblemNumber: 158\n"
     ]
    },
    {
     "name": "stderr",
     "output_type": "stream",
     "text": [
      "[I 2024-11-19 03:07:12,116] Trial 1180 finished with value: 17.1875 and parameters: {'delta_start': 1031, 'symmetry_breaking': False, 'mip_focus': 3, 'cuts': 2, 'heuristics': 0.7855880242068425, 'presolve': 1}. Best is trial 854 with value: 62.73170731707317.\n"
     ]
    },
    {
     "name": "stdout",
     "output_type": "stream",
     "text": [
      "Study saved to optuna_studies_deterministic/Queue25_Study.pkl\n",
      "Sleeping zZz  zZz  Zzz\n",
      "Study loaded from optuna_studies_deterministic/Queue75_Study.pkl\n",
      "[INFO] Starting from Trial 1059\n",
      "QueueSize: 75; ProblemNumber: 1\n"
     ]
    },
    {
     "name": "stderr",
     "output_type": "stream",
     "text": [
      "[I 2024-11-19 03:10:13,522] Trial 1059 finished with value: 10.74954664517429 and parameters: {'delta_start': 2494, 'symmetry_breaking': False, 'mip_focus': 3, 'cuts': 2, 'heuristics': 0.4317506405391536, 'presolve': 1}. Best is trial 908 with value: 23.248006714225767.\n"
     ]
    },
    {
     "name": "stdout",
     "output_type": "stream",
     "text": [
      "QueueSize: 75; ProblemNumber: 26\n"
     ]
    },
    {
     "name": "stderr",
     "output_type": "stream",
     "text": [
      "[I 2024-11-19 03:13:25,873] Trial 1060 finished with value: 16.672886732599366 and parameters: {'delta_start': 2493, 'symmetry_breaking': False, 'mip_focus': 0, 'cuts': 1, 'heuristics': 0.4539677933228705, 'presolve': 2}. Best is trial 908 with value: 23.248006714225767.\n"
     ]
    },
    {
     "name": "stdout",
     "output_type": "stream",
     "text": [
      "Study saved to optuna_studies_deterministic/Queue75_Study.pkl\n",
      "Sleeping zZz  zZz  Zzz\n",
      "Study loaded from optuna_studies_deterministic/Queue25_Study.pkl\n",
      "[INFO] Starting from Trial 1181\n",
      "QueueSize: 25; ProblemNumber: 284\n"
     ]
    },
    {
     "name": "stderr",
     "output_type": "stream",
     "text": [
      "[I 2024-11-19 03:15:19,904] Trial 1181 finished with value: 38.43098311817279 and parameters: {'delta_start': 1940, 'symmetry_breaking': False, 'mip_focus': 3, 'cuts': 3, 'heuristics': 0.8285049594264224, 'presolve': 0}. Best is trial 854 with value: 62.73170731707317.\n"
     ]
    },
    {
     "name": "stdout",
     "output_type": "stream",
     "text": [
      "QueueSize: 25; ProblemNumber: 57\n"
     ]
    },
    {
     "name": "stderr",
     "output_type": "stream",
     "text": [
      "[I 2024-11-19 03:17:13,524] Trial 1182 finished with value: 23.108308605341247 and parameters: {'delta_start': 2243, 'symmetry_breaking': False, 'mip_focus': 0, 'cuts': 2, 'heuristics': 0.5538680242763889, 'presolve': 1}. Best is trial 854 with value: 62.73170731707317.\n"
     ]
    },
    {
     "name": "stdout",
     "output_type": "stream",
     "text": [
      "Study saved to optuna_studies_deterministic/Queue25_Study.pkl\n",
      "Sleeping zZz  zZz  Zzz\n",
      "Study loaded from optuna_studies_deterministic/Queue25_Study.pkl\n",
      "[INFO] Starting from Trial 1183\n",
      "QueueSize: 25; ProblemNumber: 112\n"
     ]
    },
    {
     "name": "stderr",
     "output_type": "stream",
     "text": [
      "[I 2024-11-19 03:18:36,483] Trial 1183 finished with value: 15.264797507788161 and parameters: {'delta_start': 2576, 'symmetry_breaking': False, 'mip_focus': 3, 'cuts': 2, 'heuristics': 0.8734685571862107, 'presolve': 0}. Best is trial 854 with value: 62.73170731707317.\n"
     ]
    },
    {
     "name": "stdout",
     "output_type": "stream",
     "text": [
      "QueueSize: 25; ProblemNumber: 25\n"
     ]
    },
    {
     "name": "stderr",
     "output_type": "stream",
     "text": [
      "[I 2024-11-19 03:20:08,399] Trial 1184 finished with value: 13.726437892701787 and parameters: {'delta_start': 1300, 'symmetry_breaking': True, 'mip_focus': 0, 'cuts': 3, 'heuristics': 0.43798384062514806, 'presolve': 0}. Best is trial 854 with value: 62.73170731707317.\n"
     ]
    },
    {
     "name": "stdout",
     "output_type": "stream",
     "text": [
      "Study saved to optuna_studies_deterministic/Queue25_Study.pkl\n",
      "Sleeping zZz  zZz  Zzz\n",
      "Study loaded from optuna_studies_deterministic/Queue75_Study.pkl\n",
      "[INFO] Starting from Trial 1061\n",
      "QueueSize: 75; ProblemNumber: 11\n"
     ]
    },
    {
     "name": "stderr",
     "output_type": "stream",
     "text": [
      "[I 2024-11-19 03:22:57,696] Trial 1061 finished with value: 9.802538787023977 and parameters: {'delta_start': 2588, 'symmetry_breaking': True, 'mip_focus': 3, 'cuts': 1, 'heuristics': 0.8890524046252151, 'presolve': 1}. Best is trial 908 with value: 23.248006714225767.\n"
     ]
    },
    {
     "name": "stdout",
     "output_type": "stream",
     "text": [
      "QueueSize: 75; ProblemNumber: 30\n"
     ]
    },
    {
     "name": "stderr",
     "output_type": "stream",
     "text": [
      "[I 2024-11-19 03:25:47,010] Trial 1062 finished with value: 2.672543135783946 and parameters: {'delta_start': 2493, 'symmetry_breaking': False, 'mip_focus': 3, 'cuts': 2, 'heuristics': 0.4962197327550307, 'presolve': 1}. Best is trial 908 with value: 23.248006714225767.\n"
     ]
    },
    {
     "name": "stdout",
     "output_type": "stream",
     "text": [
      "Study saved to optuna_studies_deterministic/Queue75_Study.pkl\n",
      "Sleeping zZz  zZz  Zzz\n",
      "Study loaded from optuna_studies_deterministic/Queue25_Study.pkl\n",
      "[INFO] Starting from Trial 1185\n",
      "QueueSize: 25; ProblemNumber: 14\n"
     ]
    },
    {
     "name": "stderr",
     "output_type": "stream",
     "text": [
      "[I 2024-11-19 03:27:04,377] Trial 1185 finished with value: 19.649122807017545 and parameters: {'delta_start': 1313, 'symmetry_breaking': True, 'mip_focus': 2, 'cuts': 3, 'heuristics': 0.5344738388593919, 'presolve': 0}. Best is trial 854 with value: 62.73170731707317.\n"
     ]
    },
    {
     "name": "stdout",
     "output_type": "stream",
     "text": [
      "QueueSize: 25; ProblemNumber: 59\n"
     ]
    },
    {
     "name": "stderr",
     "output_type": "stream",
     "text": [
      "[I 2024-11-19 03:28:55,595] Trial 1186 finished with value: 29.79459019727476 and parameters: {'delta_start': 2237, 'symmetry_breaking': False, 'mip_focus': 1, 'cuts': 3, 'heuristics': 0.9725070314336984, 'presolve': 0}. Best is trial 854 with value: 62.73170731707317.\n"
     ]
    },
    {
     "name": "stdout",
     "output_type": "stream",
     "text": [
      "Study saved to optuna_studies_deterministic/Queue25_Study.pkl\n",
      "Sleeping zZz  zZz  Zzz\n",
      "Study loaded from optuna_studies_deterministic/Queue25_Study.pkl\n",
      "[INFO] Starting from Trial 1187\n",
      "QueueSize: 25; ProblemNumber: 13\n"
     ]
    },
    {
     "name": "stderr",
     "output_type": "stream",
     "text": [
      "[I 2024-11-19 03:30:30,237] Trial 1187 finished with value: 19.50067476383266 and parameters: {'delta_start': 2028, 'symmetry_breaking': False, 'mip_focus': 3, 'cuts': 2, 'heuristics': 0.9237577151704481, 'presolve': 0}. Best is trial 854 with value: 62.73170731707317.\n"
     ]
    },
    {
     "name": "stdout",
     "output_type": "stream",
     "text": [
      "QueueSize: 25; ProblemNumber: 142\n"
     ]
    },
    {
     "name": "stderr",
     "output_type": "stream",
     "text": [
      "[I 2024-11-19 03:32:24,703] Trial 1188 finished with value: 24.02088772845953 and parameters: {'delta_start': 787, 'symmetry_breaking': False, 'mip_focus': 0, 'cuts': 3, 'heuristics': 0.3643448795332376, 'presolve': 1}. Best is trial 854 with value: 62.73170731707317.\n"
     ]
    },
    {
     "name": "stdout",
     "output_type": "stream",
     "text": [
      "Study saved to optuna_studies_deterministic/Queue25_Study.pkl\n",
      "Sleeping zZz  zZz  Zzz\n",
      "Study loaded from optuna_studies_deterministic/Queue75_Study.pkl\n",
      "[INFO] Starting from Trial 1063\n",
      "QueueSize: 75; ProblemNumber: 8\n"
     ]
    },
    {
     "name": "stderr",
     "output_type": "stream",
     "text": [
      "[I 2024-11-19 03:36:01,540] Trial 1063 finished with value: 15.774706432505456 and parameters: {'delta_start': 2994, 'symmetry_breaking': False, 'mip_focus': 2, 'cuts': 1, 'heuristics': 0.6557536679155506, 'presolve': 2}. Best is trial 908 with value: 23.248006714225767.\n"
     ]
    },
    {
     "name": "stdout",
     "output_type": "stream",
     "text": [
      "QueueSize: 75; ProblemNumber: 62\n"
     ]
    },
    {
     "name": "stderr",
     "output_type": "stream",
     "text": [
      "[I 2024-11-19 03:39:14,257] Trial 1064 finished with value: 7.219161137973687 and parameters: {'delta_start': 2986, 'symmetry_breaking': False, 'mip_focus': 3, 'cuts': 1, 'heuristics': 0.4320216077930602, 'presolve': 0}. Best is trial 908 with value: 23.248006714225767.\n"
     ]
    },
    {
     "name": "stdout",
     "output_type": "stream",
     "text": [
      "Study saved to optuna_studies_deterministic/Queue75_Study.pkl\n",
      "Sleeping zZz  zZz  Zzz\n",
      "Study loaded from optuna_studies_deterministic/Queue25_Study.pkl\n",
      "[INFO] Starting from Trial 1189\n",
      "QueueSize: 25; ProblemNumber: 61\n"
     ]
    },
    {
     "name": "stderr",
     "output_type": "stream",
     "text": [
      "[I 2024-11-19 03:41:04,096] Trial 1189 finished with value: 49.15205518827249 and parameters: {'delta_start': 1612, 'symmetry_breaking': False, 'mip_focus': 0, 'cuts': 0, 'heuristics': 0.45344757046690903, 'presolve': 2}. Best is trial 854 with value: 62.73170731707317.\n"
     ]
    },
    {
     "name": "stdout",
     "output_type": "stream",
     "text": [
      "QueueSize: 25; ProblemNumber: 186\n"
     ]
    },
    {
     "name": "stderr",
     "output_type": "stream",
     "text": [
      "[I 2024-11-19 03:42:41,779] Trial 1190 finished with value: 29.752604166666668 and parameters: {'delta_start': 2610, 'symmetry_breaking': False, 'mip_focus': 3, 'cuts': 1, 'heuristics': 0.620152447950581, 'presolve': 2}. Best is trial 854 with value: 62.73170731707317.\n"
     ]
    },
    {
     "name": "stdout",
     "output_type": "stream",
     "text": [
      "Study saved to optuna_studies_deterministic/Queue25_Study.pkl\n",
      "Sleeping zZz  zZz  Zzz\n",
      "Study loaded from optuna_studies_deterministic/Queue25_Study.pkl\n",
      "[INFO] Starting from Trial 1191\n",
      "QueueSize: 25; ProblemNumber: 205\n"
     ]
    },
    {
     "name": "stderr",
     "output_type": "stream",
     "text": [
      "[I 2024-11-19 03:44:25,243] Trial 1191 finished with value: 14.393449687567333 and parameters: {'delta_start': 959, 'symmetry_breaking': False, 'mip_focus': 0, 'cuts': 2, 'heuristics': 0.627355596860235, 'presolve': 1}. Best is trial 854 with value: 62.73170731707317.\n"
     ]
    },
    {
     "name": "stdout",
     "output_type": "stream",
     "text": [
      "QueueSize: 25; ProblemNumber: 146\n"
     ]
    },
    {
     "name": "stderr",
     "output_type": "stream",
     "text": [
      "[I 2024-11-19 03:45:43,824] Trial 1192 finished with value: 51.0932944606414 and parameters: {'delta_start': 2005, 'symmetry_breaking': True, 'mip_focus': 2, 'cuts': 0, 'heuristics': 0.9102056084681592, 'presolve': 2}. Best is trial 854 with value: 62.73170731707317.\n"
     ]
    },
    {
     "name": "stdout",
     "output_type": "stream",
     "text": [
      "Study saved to optuna_studies_deterministic/Queue25_Study.pkl\n",
      "Sleeping zZz  zZz  Zzz\n",
      "Study loaded from optuna_studies_deterministic/Queue75_Study.pkl\n",
      "[INFO] Starting from Trial 1065\n",
      "QueueSize: 75; ProblemNumber: 79\n"
     ]
    },
    {
     "name": "stderr",
     "output_type": "stream",
     "text": [
      "[I 2024-11-19 03:48:57,312] Trial 1065 finished with value: 13.524215656411817 and parameters: {'delta_start': 2495, 'symmetry_breaking': True, 'mip_focus': 1, 'cuts': 3, 'heuristics': 0.9024886601127696, 'presolve': -1}. Best is trial 908 with value: 23.248006714225767.\n"
     ]
    },
    {
     "name": "stdout",
     "output_type": "stream",
     "text": [
      "QueueSize: 75; ProblemNumber: 84\n"
     ]
    },
    {
     "name": "stderr",
     "output_type": "stream",
     "text": [
      "[I 2024-11-19 03:51:34,378] Trial 1066 finished with value: 6.490196078431372 and parameters: {'delta_start': 2493, 'symmetry_breaking': True, 'mip_focus': 1, 'cuts': 1, 'heuristics': 0.009287720776053776, 'presolve': -1}. Best is trial 908 with value: 23.248006714225767.\n"
     ]
    },
    {
     "name": "stdout",
     "output_type": "stream",
     "text": [
      "Study saved to optuna_studies_deterministic/Queue75_Study.pkl\n",
      "Sleeping zZz  zZz  Zzz\n",
      "Study loaded from optuna_studies_deterministic/Queue25_Study.pkl\n",
      "[INFO] Starting from Trial 1193\n",
      "QueueSize: 25; ProblemNumber: 246\n"
     ]
    },
    {
     "name": "stderr",
     "output_type": "stream",
     "text": [
      "[I 2024-11-19 03:53:07,959] Trial 1193 finished with value: 14.291385470424773 and parameters: {'delta_start': 2376, 'symmetry_breaking': False, 'mip_focus': 1, 'cuts': 3, 'heuristics': 0.5686457262623658, 'presolve': 2}. Best is trial 854 with value: 62.73170731707317.\n"
     ]
    },
    {
     "name": "stdout",
     "output_type": "stream",
     "text": [
      "QueueSize: 25; ProblemNumber: 193\n"
     ]
    },
    {
     "name": "stderr",
     "output_type": "stream",
     "text": [
      "[I 2024-11-19 03:54:53,190] Trial 1194 finished with value: 22.09433962264151 and parameters: {'delta_start': 1864, 'symmetry_breaking': False, 'mip_focus': 3, 'cuts': 1, 'heuristics': 0.912712433725548, 'presolve': 0}. Best is trial 854 with value: 62.73170731707317.\n"
     ]
    },
    {
     "name": "stdout",
     "output_type": "stream",
     "text": [
      "Study saved to optuna_studies_deterministic/Queue25_Study.pkl\n",
      "Sleeping zZz  zZz  Zzz\n",
      "Study loaded from optuna_studies_deterministic/Queue25_Study.pkl\n",
      "[INFO] Starting from Trial 1195\n",
      "QueueSize: 25; ProblemNumber: 168\n"
     ]
    },
    {
     "name": "stderr",
     "output_type": "stream",
     "text": [
      "[I 2024-11-19 03:56:26,485] Trial 1195 finished with value: 24.0184250932222 and parameters: {'delta_start': 1025, 'symmetry_breaking': False, 'mip_focus': 3, 'cuts': 2, 'heuristics': 0.980193934328189, 'presolve': 0}. Best is trial 854 with value: 62.73170731707317.\n"
     ]
    },
    {
     "name": "stdout",
     "output_type": "stream",
     "text": [
      "QueueSize: 25; ProblemNumber: 97\n"
     ]
    },
    {
     "name": "stderr",
     "output_type": "stream",
     "text": [
      "[I 2024-11-19 03:57:59,353] Trial 1196 finished with value: 11.62423969362469 and parameters: {'delta_start': 2287, 'symmetry_breaking': False, 'mip_focus': 1, 'cuts': 2, 'heuristics': 0.8254195938143165, 'presolve': 2}. Best is trial 854 with value: 62.73170731707317.\n"
     ]
    },
    {
     "name": "stdout",
     "output_type": "stream",
     "text": [
      "Study saved to optuna_studies_deterministic/Queue25_Study.pkl\n",
      "Sleeping zZz  zZz  Zzz\n",
      "Study loaded from optuna_studies_deterministic/Queue75_Study.pkl\n",
      "[INFO] Starting from Trial 1067\n",
      "QueueSize: 75; ProblemNumber: 63\n"
     ]
    },
    {
     "name": "stderr",
     "output_type": "stream",
     "text": [
      "[I 2024-11-19 04:00:49,223] Trial 1067 finished with value: 7.7327143904226725 and parameters: {'delta_start': 2492, 'symmetry_breaking': False, 'mip_focus': 3, 'cuts': 2, 'heuristics': 0.6078400197418417, 'presolve': 1}. Best is trial 908 with value: 23.248006714225767.\n"
     ]
    },
    {
     "name": "stdout",
     "output_type": "stream",
     "text": [
      "QueueSize: 75; ProblemNumber: 83\n"
     ]
    },
    {
     "name": "stderr",
     "output_type": "stream",
     "text": [
      "[I 2024-11-19 04:03:38,410] Trial 1068 finished with value: 6.901041666666667 and parameters: {'delta_start': 2495, 'symmetry_breaking': False, 'mip_focus': 2, 'cuts': 2, 'heuristics': 0.4240640005318695, 'presolve': 1}. Best is trial 908 with value: 23.248006714225767.\n"
     ]
    },
    {
     "name": "stdout",
     "output_type": "stream",
     "text": [
      "Study saved to optuna_studies_deterministic/Queue75_Study.pkl\n",
      "Sleeping zZz  zZz  Zzz\n",
      "Study loaded from optuna_studies_deterministic/Queue25_Study.pkl\n",
      "[INFO] Starting from Trial 1197\n",
      "QueueSize: 25; ProblemNumber: 244\n"
     ]
    },
    {
     "name": "stderr",
     "output_type": "stream",
     "text": [
      "[I 2024-11-19 04:04:54,241] Trial 1197 finished with value: 23.915737298636927 and parameters: {'delta_start': 795, 'symmetry_breaking': False, 'mip_focus': 3, 'cuts': 2, 'heuristics': 0.7358605358829375, 'presolve': 1}. Best is trial 854 with value: 62.73170731707317.\n"
     ]
    },
    {
     "name": "stdout",
     "output_type": "stream",
     "text": [
      "QueueSize: 25; ProblemNumber: 83\n"
     ]
    },
    {
     "name": "stderr",
     "output_type": "stream",
     "text": [
      "[I 2024-11-19 04:06:07,394] Trial 1198 finished with value: 37.160367722165475 and parameters: {'delta_start': 2024, 'symmetry_breaking': False, 'mip_focus': 3, 'cuts': 1, 'heuristics': 0.78058055001133, 'presolve': 0}. Best is trial 854 with value: 62.73170731707317.\n"
     ]
    },
    {
     "name": "stdout",
     "output_type": "stream",
     "text": [
      "Study saved to optuna_studies_deterministic/Queue25_Study.pkl\n",
      "Sleeping zZz  zZz  Zzz\n",
      "Study loaded from optuna_studies_deterministic/Queue25_Study.pkl\n",
      "[INFO] Starting from Trial 1199\n",
      "QueueSize: 25; ProblemNumber: 89\n"
     ]
    },
    {
     "name": "stderr",
     "output_type": "stream",
     "text": [
      "[I 2024-11-19 04:08:02,086] Trial 1199 finished with value: 10.862944162436548 and parameters: {'delta_start': 2460, 'symmetry_breaking': False, 'mip_focus': 0, 'cuts': 1, 'heuristics': 0.5158441924439527, 'presolve': 2}. Best is trial 854 with value: 62.73170731707317.\n"
     ]
    },
    {
     "name": "stdout",
     "output_type": "stream",
     "text": [
      "QueueSize: 25; ProblemNumber: 284\n"
     ]
    },
    {
     "name": "stderr",
     "output_type": "stream",
     "text": [
      "[I 2024-11-19 04:09:50,468] Trial 1200 finished with value: 38.43098311817279 and parameters: {'delta_start': 1145, 'symmetry_breaking': False, 'mip_focus': 0, 'cuts': 1, 'heuristics': 0.38692755451381755, 'presolve': 2}. Best is trial 854 with value: 62.73170731707317.\n"
     ]
    },
    {
     "name": "stdout",
     "output_type": "stream",
     "text": [
      "Study saved to optuna_studies_deterministic/Queue25_Study.pkl\n",
      "Sleeping zZz  zZz  Zzz\n",
      "Study loaded from optuna_studies_deterministic/Queue75_Study.pkl\n",
      "[INFO] Starting from Trial 1069\n",
      "QueueSize: 75; ProblemNumber: 92\n"
     ]
    },
    {
     "name": "stderr",
     "output_type": "stream",
     "text": [
      "[I 2024-11-19 04:12:39,426] Trial 1069 finished with value: 10.07352239090996 and parameters: {'delta_start': 2498, 'symmetry_breaking': False, 'mip_focus': 0, 'cuts': 2, 'heuristics': 0.7660720874035308, 'presolve': 0}. Best is trial 908 with value: 23.248006714225767.\n"
     ]
    },
    {
     "name": "stdout",
     "output_type": "stream",
     "text": [
      "QueueSize: 75; ProblemNumber: 17\n"
     ]
    },
    {
     "name": "stderr",
     "output_type": "stream",
     "text": [
      "[I 2024-11-19 04:15:52,317] Trial 1070 finished with value: 10.279257762263457 and parameters: {'delta_start': 2494, 'symmetry_breaking': False, 'mip_focus': 3, 'cuts': 2, 'heuristics': 0.8435801865340773, 'presolve': 1}. Best is trial 908 with value: 23.248006714225767.\n"
     ]
    },
    {
     "name": "stdout",
     "output_type": "stream",
     "text": [
      "Study saved to optuna_studies_deterministic/Queue75_Study.pkl\n",
      "Sleeping zZz  zZz  Zzz\n",
      "Study loaded from optuna_studies_deterministic/Queue25_Study.pkl\n",
      "[INFO] Starting from Trial 1201\n",
      "QueueSize: 25; ProblemNumber: 223\n"
     ]
    },
    {
     "name": "stderr",
     "output_type": "stream",
     "text": [
      "[I 2024-11-19 04:16:55,700] Trial 1201 finished with value: 30.740370185092548 and parameters: {'delta_start': 2434, 'symmetry_breaking': False, 'mip_focus': 2, 'cuts': 2, 'heuristics': 0.48159290508051555, 'presolve': 2}. Best is trial 854 with value: 62.73170731707317.\n"
     ]
    },
    {
     "name": "stdout",
     "output_type": "stream",
     "text": [
      "QueueSize: 25; ProblemNumber: 296\n"
     ]
    },
    {
     "name": "stderr",
     "output_type": "stream",
     "text": [
      "[I 2024-11-19 04:18:59,510] Trial 1202 finished with value: 22.364217252396166 and parameters: {'delta_start': 753, 'symmetry_breaking': False, 'mip_focus': 3, 'cuts': 1, 'heuristics': 0.9986781197497279, 'presolve': 0}. Best is trial 854 with value: 62.73170731707317.\n"
     ]
    },
    {
     "name": "stdout",
     "output_type": "stream",
     "text": [
      "Study saved to optuna_studies_deterministic/Queue25_Study.pkl\n",
      "Sleeping zZz  zZz  Zzz\n",
      "Study loaded from optuna_studies_deterministic/Queue25_Study.pkl\n",
      "[INFO] Starting from Trial 1203\n",
      "QueueSize: 25; ProblemNumber: 282\n"
     ]
    },
    {
     "name": "stderr",
     "output_type": "stream",
     "text": [
      "[I 2024-11-19 04:20:47,333] Trial 1203 finished with value: 13.958560523446021 and parameters: {'delta_start': 756, 'symmetry_breaking': False, 'mip_focus': 3, 'cuts': 2, 'heuristics': 0.8329204117214157, 'presolve': 0}. Best is trial 854 with value: 62.73170731707317.\n"
     ]
    },
    {
     "name": "stdout",
     "output_type": "stream",
     "text": [
      "QueueSize: 25; ProblemNumber: 14\n"
     ]
    },
    {
     "name": "stderr",
     "output_type": "stream",
     "text": [
      "[I 2024-11-19 04:22:01,459] Trial 1204 finished with value: 19.573934837092732 and parameters: {'delta_start': 1626, 'symmetry_breaking': False, 'mip_focus': 2, 'cuts': 2, 'heuristics': 0.5958553959281424, 'presolve': 2}. Best is trial 854 with value: 62.73170731707317.\n"
     ]
    },
    {
     "name": "stdout",
     "output_type": "stream",
     "text": [
      "Study saved to optuna_studies_deterministic/Queue25_Study.pkl\n",
      "Sleeping zZz  zZz  Zzz\n",
      "Study loaded from optuna_studies_deterministic/Queue75_Study.pkl\n",
      "[INFO] Starting from Trial 1071\n",
      "QueueSize: 75; ProblemNumber: 65\n"
     ]
    },
    {
     "name": "stderr",
     "output_type": "stream",
     "text": [
      "[I 2024-11-19 04:25:02,290] Trial 1071 finished with value: 14.760508308895407 and parameters: {'delta_start': 2493, 'symmetry_breaking': False, 'mip_focus': 3, 'cuts': 2, 'heuristics': 0.5863607896282227, 'presolve': 1}. Best is trial 908 with value: 23.248006714225767.\n"
     ]
    },
    {
     "name": "stdout",
     "output_type": "stream",
     "text": [
      "QueueSize: 75; ProblemNumber: 24\n"
     ]
    },
    {
     "name": "stderr",
     "output_type": "stream",
     "text": [
      "[I 2024-11-19 04:27:51,195] Trial 1072 finished with value: 14.07648617947748 and parameters: {'delta_start': 2613, 'symmetry_breaking': True, 'mip_focus': 1, 'cuts': 1, 'heuristics': 0.5871809630705405, 'presolve': 2}. Best is trial 908 with value: 23.248006714225767.\n"
     ]
    },
    {
     "name": "stdout",
     "output_type": "stream",
     "text": [
      "Study saved to optuna_studies_deterministic/Queue75_Study.pkl\n",
      "Sleeping zZz  zZz  Zzz\n",
      "Study loaded from optuna_studies_deterministic/Queue25_Study.pkl\n",
      "[INFO] Starting from Trial 1205\n",
      "QueueSize: 25; ProblemNumber: 276\n"
     ]
    },
    {
     "name": "stderr",
     "output_type": "stream",
     "text": [
      "[I 2024-11-19 04:29:26,782] Trial 1205 finished with value: 56.74149167270094 and parameters: {'delta_start': 2013, 'symmetry_breaking': False, 'mip_focus': 2, 'cuts': 1, 'heuristics': 0.31176971803563797, 'presolve': -1}. Best is trial 854 with value: 62.73170731707317.\n"
     ]
    },
    {
     "name": "stdout",
     "output_type": "stream",
     "text": [
      "QueueSize: 25; ProblemNumber: 43\n"
     ]
    },
    {
     "name": "stderr",
     "output_type": "stream",
     "text": [
      "[I 2024-11-19 04:31:20,361] Trial 1206 finished with value: 29.50592885375494 and parameters: {'delta_start': 2894, 'symmetry_breaking': False, 'mip_focus': 2, 'cuts': 3, 'heuristics': 0.6130508825960734, 'presolve': -1}. Best is trial 854 with value: 62.73170731707317.\n"
     ]
    },
    {
     "name": "stdout",
     "output_type": "stream",
     "text": [
      "Study saved to optuna_studies_deterministic/Queue25_Study.pkl\n",
      "Sleeping zZz  zZz  Zzz\n",
      "Study loaded from optuna_studies_deterministic/Queue25_Study.pkl\n",
      "[INFO] Starting from Trial 1207\n",
      "QueueSize: 25; ProblemNumber: 242\n"
     ]
    },
    {
     "name": "stderr",
     "output_type": "stream",
     "text": [
      "[I 2024-11-19 04:32:24,193] Trial 1207 finished with value: 27.223320158102766 and parameters: {'delta_start': 1979, 'symmetry_breaking': False, 'mip_focus': 0, 'cuts': 3, 'heuristics': 0.4803242551537271, 'presolve': 1}. Best is trial 854 with value: 62.73170731707317.\n"
     ]
    },
    {
     "name": "stdout",
     "output_type": "stream",
     "text": [
      "QueueSize: 25; ProblemNumber: 114\n"
     ]
    },
    {
     "name": "stderr",
     "output_type": "stream",
     "text": [
      "[I 2024-11-19 04:34:16,881] Trial 1208 finished with value: 28.58345611450221 and parameters: {'delta_start': 1646, 'symmetry_breaking': False, 'mip_focus': 1, 'cuts': 1, 'heuristics': 0.4110158094829325, 'presolve': -1}. Best is trial 854 with value: 62.73170731707317.\n"
     ]
    },
    {
     "name": "stdout",
     "output_type": "stream",
     "text": [
      "Study saved to optuna_studies_deterministic/Queue25_Study.pkl\n",
      "Sleeping zZz  zZz  Zzz\n",
      "Study loaded from optuna_studies_deterministic/Queue75_Study.pkl\n",
      "[INFO] Starting from Trial 1073\n",
      "QueueSize: 75; ProblemNumber: 92\n"
     ]
    },
    {
     "name": "stderr",
     "output_type": "stream",
     "text": [
      "[I 2024-11-19 04:37:05,716] Trial 1073 finished with value: 10.570037238613578 and parameters: {'delta_start': 2494, 'symmetry_breaking': False, 'mip_focus': 2, 'cuts': 2, 'heuristics': 0.4023482055268936, 'presolve': 0}. Best is trial 908 with value: 23.248006714225767.\n"
     ]
    },
    {
     "name": "stdout",
     "output_type": "stream",
     "text": [
      "QueueSize: 75; ProblemNumber: 61\n"
     ]
    },
    {
     "name": "stderr",
     "output_type": "stream",
     "text": [
      "[I 2024-11-19 04:40:07,235] Trial 1074 finished with value: 10.325334563913243 and parameters: {'delta_start': 2493, 'symmetry_breaking': False, 'mip_focus': 3, 'cuts': 2, 'heuristics': 0.2719134312824666, 'presolve': 1}. Best is trial 908 with value: 23.248006714225767.\n"
     ]
    },
    {
     "name": "stdout",
     "output_type": "stream",
     "text": [
      "Study saved to optuna_studies_deterministic/Queue75_Study.pkl\n",
      "Sleeping zZz  zZz  Zzz\n",
      "Study loaded from optuna_studies_deterministic/Queue25_Study.pkl\n",
      "[INFO] Starting from Trial 1209\n",
      "QueueSize: 25; ProblemNumber: 113\n"
     ]
    },
    {
     "name": "stderr",
     "output_type": "stream",
     "text": [
      "[I 2024-11-19 04:41:30,750] Trial 1209 finished with value: 39.88119623105285 and parameters: {'delta_start': 1916, 'symmetry_breaking': False, 'mip_focus': 2, 'cuts': 1, 'heuristics': 0.24198028738236385, 'presolve': 0}. Best is trial 854 with value: 62.73170731707317.\n"
     ]
    },
    {
     "name": "stdout",
     "output_type": "stream",
     "text": [
      "QueueSize: 25; ProblemNumber: 184\n"
     ]
    },
    {
     "name": "stderr",
     "output_type": "stream",
     "text": [
      "[I 2024-11-19 04:42:57,491] Trial 1210 finished with value: 20.145145145145147 and parameters: {'delta_start': 2884, 'symmetry_breaking': False, 'mip_focus': 2, 'cuts': 1, 'heuristics': 0.23490942047669722, 'presolve': -1}. Best is trial 854 with value: 62.73170731707317.\n"
     ]
    },
    {
     "name": "stdout",
     "output_type": "stream",
     "text": [
      "Study saved to optuna_studies_deterministic/Queue25_Study.pkl\n",
      "Sleeping zZz  zZz  Zzz\n",
      "Study loaded from optuna_studies_deterministic/Queue25_Study.pkl\n",
      "[INFO] Starting from Trial 1211\n",
      "QueueSize: 25; ProblemNumber: 160\n"
     ]
    },
    {
     "name": "stderr",
     "output_type": "stream",
     "text": [
      "[I 2024-11-19 04:44:30,840] Trial 1211 finished with value: 26.855067887590778 and parameters: {'delta_start': 2051, 'symmetry_breaking': False, 'mip_focus': 0, 'cuts': 3, 'heuristics': 0.6326832211622261, 'presolve': 1}. Best is trial 854 with value: 62.73170731707317.\n"
     ]
    },
    {
     "name": "stdout",
     "output_type": "stream",
     "text": [
      "QueueSize: 25; ProblemNumber: 287\n"
     ]
    },
    {
     "name": "stderr",
     "output_type": "stream",
     "text": [
      "[I 2024-11-19 04:46:04,174] Trial 1212 finished with value: 23.667154505540456 and parameters: {'delta_start': 1856, 'symmetry_breaking': False, 'mip_focus': 3, 'cuts': 1, 'heuristics': 0.6512152262781739, 'presolve': 2}. Best is trial 854 with value: 62.73170731707317.\n"
     ]
    },
    {
     "name": "stdout",
     "output_type": "stream",
     "text": [
      "Study saved to optuna_studies_deterministic/Queue25_Study.pkl\n",
      "Sleeping zZz  zZz  Zzz\n",
      "Study loaded from optuna_studies_deterministic/Queue75_Study.pkl\n",
      "[INFO] Starting from Trial 1075\n",
      "QueueSize: 75; ProblemNumber: 67\n"
     ]
    },
    {
     "name": "stderr",
     "output_type": "stream",
     "text": [
      "[I 2024-11-19 04:48:53,924] Trial 1075 finished with value: 7.616154798065024 and parameters: {'delta_start': 2963, 'symmetry_breaking': True, 'mip_focus': 1, 'cuts': 1, 'heuristics': 0.446037169270452, 'presolve': 1}. Best is trial 908 with value: 23.248006714225767.\n"
     ]
    },
    {
     "name": "stdout",
     "output_type": "stream",
     "text": [
      "QueueSize: 75; ProblemNumber: 37\n"
     ]
    },
    {
     "name": "stderr",
     "output_type": "stream",
     "text": [
      "[I 2024-11-19 04:51:42,532] Trial 1076 finished with value: 8.840902488622058 and parameters: {'delta_start': 2494, 'symmetry_breaking': False, 'mip_focus': 2, 'cuts': 2, 'heuristics': 0.8185951272647357, 'presolve': 1}. Best is trial 908 with value: 23.248006714225767.\n"
     ]
    },
    {
     "name": "stdout",
     "output_type": "stream",
     "text": [
      "Study saved to optuna_studies_deterministic/Queue75_Study.pkl\n",
      "Sleeping zZz  zZz  Zzz\n",
      "Study loaded from optuna_studies_deterministic/Queue25_Study.pkl\n",
      "[INFO] Starting from Trial 1213\n",
      "QueueSize: 25; ProblemNumber: 65\n"
     ]
    },
    {
     "name": "stderr",
     "output_type": "stream",
     "text": [
      "[I 2024-11-19 04:52:55,503] Trial 1213 finished with value: 19.17452830188679 and parameters: {'delta_start': 2072, 'symmetry_breaking': False, 'mip_focus': 1, 'cuts': 3, 'heuristics': 0.5240654123244041, 'presolve': 1}. Best is trial 854 with value: 62.73170731707317.\n"
     ]
    },
    {
     "name": "stdout",
     "output_type": "stream",
     "text": [
      "QueueSize: 25; ProblemNumber: 79\n"
     ]
    },
    {
     "name": "stderr",
     "output_type": "stream",
     "text": [
      "[I 2024-11-19 04:54:38,815] Trial 1214 finished with value: 16.61341853035144 and parameters: {'delta_start': 1760, 'symmetry_breaking': False, 'mip_focus': 2, 'cuts': 1, 'heuristics': 0.4610481791256843, 'presolve': -1}. Best is trial 854 with value: 62.73170731707317.\n"
     ]
    },
    {
     "name": "stdout",
     "output_type": "stream",
     "text": [
      "Study saved to optuna_studies_deterministic/Queue25_Study.pkl\n",
      "Sleeping zZz  zZz  Zzz\n",
      "Study loaded from optuna_studies_deterministic/Queue25_Study.pkl\n",
      "[INFO] Starting from Trial 1215\n",
      "QueueSize: 25; ProblemNumber: 153\n"
     ]
    },
    {
     "name": "stderr",
     "output_type": "stream",
     "text": [
      "[I 2024-11-19 04:56:12,045] Trial 1215 finished with value: 17.375990607572646 and parameters: {'delta_start': 2088, 'symmetry_breaking': False, 'mip_focus': 0, 'cuts': 3, 'heuristics': 0.5327592264655433, 'presolve': 0}. Best is trial 854 with value: 62.73170731707317.\n"
     ]
    },
    {
     "name": "stdout",
     "output_type": "stream",
     "text": [
      "QueueSize: 25; ProblemNumber: 154\n"
     ]
    },
    {
     "name": "stderr",
     "output_type": "stream",
     "text": [
      "[I 2024-11-19 04:57:45,653] Trial 1216 finished with value: 31.221821460775473 and parameters: {'delta_start': 791, 'symmetry_breaking': True, 'mip_focus': 2, 'cuts': 1, 'heuristics': 0.03300694373220956, 'presolve': 0}. Best is trial 854 with value: 62.73170731707317.\n"
     ]
    },
    {
     "name": "stdout",
     "output_type": "stream",
     "text": [
      "Study saved to optuna_studies_deterministic/Queue25_Study.pkl\n",
      "Sleeping zZz  zZz  Zzz\n",
      "Study loaded from optuna_studies_deterministic/Queue75_Study.pkl\n",
      "[INFO] Starting from Trial 1077\n",
      "QueueSize: 75; ProblemNumber: 33\n"
     ]
    },
    {
     "name": "stderr",
     "output_type": "stream",
     "text": [
      "[I 2024-11-19 05:01:10,938] Trial 1077 finished with value: 16.727957664364517 and parameters: {'delta_start': 2549, 'symmetry_breaking': True, 'mip_focus': 2, 'cuts': 0, 'heuristics': 0.4425016860600663, 'presolve': -1}. Best is trial 908 with value: 23.248006714225767.\n"
     ]
    },
    {
     "name": "stdout",
     "output_type": "stream",
     "text": [
      "QueueSize: 75; ProblemNumber: 9\n"
     ]
    },
    {
     "name": "stderr",
     "output_type": "stream",
     "text": [
      "[I 2024-11-19 05:03:59,710] Trial 1078 finished with value: 21.678939617083948 and parameters: {'delta_start': 2494, 'symmetry_breaking': False, 'mip_focus': 3, 'cuts': 2, 'heuristics': 0.6090336719976595, 'presolve': 1}. Best is trial 908 with value: 23.248006714225767.\n"
     ]
    },
    {
     "name": "stdout",
     "output_type": "stream",
     "text": [
      "Study saved to optuna_studies_deterministic/Queue75_Study.pkl\n",
      "Sleeping zZz  zZz  Zzz\n",
      "Study loaded from optuna_studies_deterministic/Queue25_Study.pkl\n",
      "[INFO] Starting from Trial 1217\n",
      "QueueSize: 25; ProblemNumber: 209\n"
     ]
    },
    {
     "name": "stderr",
     "output_type": "stream",
     "text": [
      "[I 2024-11-19 05:05:56,515] Trial 1217 finished with value: 15.739419876367094 and parameters: {'delta_start': 1848, 'symmetry_breaking': False, 'mip_focus': 3, 'cuts': 2, 'heuristics': 0.7620139207705084, 'presolve': 1}. Best is trial 854 with value: 62.73170731707317.\n"
     ]
    },
    {
     "name": "stdout",
     "output_type": "stream",
     "text": [
      "QueueSize: 25; ProblemNumber: 291\n"
     ]
    },
    {
     "name": "stderr",
     "output_type": "stream",
     "text": [
      "[I 2024-11-19 05:07:31,459] Trial 1218 finished with value: 52.46483681551277 and parameters: {'delta_start': 2006, 'symmetry_breaking': False, 'mip_focus': 3, 'cuts': 2, 'heuristics': 0.8976197744888434, 'presolve': 1}. Best is trial 854 with value: 62.73170731707317.\n"
     ]
    },
    {
     "name": "stdout",
     "output_type": "stream",
     "text": [
      "Study saved to optuna_studies_deterministic/Queue25_Study.pkl\n",
      "Sleeping zZz  zZz  Zzz\n",
      "Study loaded from optuna_studies_deterministic/Queue25_Study.pkl\n",
      "[INFO] Starting from Trial 1219\n",
      "QueueSize: 25; ProblemNumber: 68\n"
     ]
    },
    {
     "name": "stderr",
     "output_type": "stream",
     "text": [
      "[I 2024-11-19 05:09:27,043] Trial 1219 finished with value: 23.62173827741809 and parameters: {'delta_start': 1938, 'symmetry_breaking': False, 'mip_focus': 2, 'cuts': 1, 'heuristics': 0.2570869986371512, 'presolve': -1}. Best is trial 854 with value: 62.73170731707317.\n"
     ]
    },
    {
     "name": "stdout",
     "output_type": "stream",
     "text": [
      "QueueSize: 25; ProblemNumber: 285\n"
     ]
    },
    {
     "name": "stderr",
     "output_type": "stream",
     "text": [
      "[I 2024-11-19 05:11:10,888] Trial 1220 finished with value: 18.415614236509757 and parameters: {'delta_start': 1551, 'symmetry_breaking': False, 'mip_focus': 3, 'cuts': 1, 'heuristics': 0.1781160393450508, 'presolve': -1}. Best is trial 854 with value: 62.73170731707317.\n"
     ]
    },
    {
     "name": "stdout",
     "output_type": "stream",
     "text": [
      "Study saved to optuna_studies_deterministic/Queue25_Study.pkl\n",
      "Sleeping zZz  zZz  Zzz\n",
      "Study loaded from optuna_studies_deterministic/Queue75_Study.pkl\n",
      "[INFO] Starting from Trial 1079\n",
      "QueueSize: 75; ProblemNumber: 38\n"
     ]
    },
    {
     "name": "stderr",
     "output_type": "stream",
     "text": [
      "[I 2024-11-19 05:13:23,985] Trial 1079 finished with value: 5.23536374396795 and parameters: {'delta_start': 2494, 'symmetry_breaking': False, 'mip_focus': 1, 'cuts': 1, 'heuristics': 0.7076657963603168, 'presolve': 1}. Best is trial 908 with value: 23.248006714225767.\n"
     ]
    },
    {
     "name": "stdout",
     "output_type": "stream",
     "text": [
      "QueueSize: 75; ProblemNumber: 45\n"
     ]
    },
    {
     "name": "stderr",
     "output_type": "stream",
     "text": [
      "[I 2024-11-19 05:16:37,255] Trial 1080 finished with value: 14.493166287015946 and parameters: {'delta_start': 2492, 'symmetry_breaking': False, 'mip_focus': 3, 'cuts': 2, 'heuristics': 0.4351108463805444, 'presolve': 1}. Best is trial 908 with value: 23.248006714225767.\n"
     ]
    },
    {
     "name": "stdout",
     "output_type": "stream",
     "text": [
      "Study saved to optuna_studies_deterministic/Queue75_Study.pkl\n",
      "Sleeping zZz  zZz  Zzz\n",
      "Study loaded from optuna_studies_deterministic/Queue25_Study.pkl\n",
      "[INFO] Starting from Trial 1221\n",
      "QueueSize: 25; ProblemNumber: 69\n"
     ]
    },
    {
     "name": "stderr",
     "output_type": "stream",
     "text": [
      "[I 2024-11-19 05:18:21,869] Trial 1221 finished with value: 39.78905255501 and parameters: {'delta_start': 2492, 'symmetry_breaking': False, 'mip_focus': 2, 'cuts': 1, 'heuristics': 0.3596574342748857, 'presolve': -1}. Best is trial 854 with value: 62.73170731707317.\n"
     ]
    },
    {
     "name": "stdout",
     "output_type": "stream",
     "text": [
      "QueueSize: 25; ProblemNumber: 124\n"
     ]
    },
    {
     "name": "stderr",
     "output_type": "stream",
     "text": [
      "[I 2024-11-19 05:19:55,783] Trial 1222 finished with value: 21.323529411764707 and parameters: {'delta_start': 1942, 'symmetry_breaking': False, 'mip_focus': 0, 'cuts': 3, 'heuristics': 0.6439792026099409, 'presolve': 1}. Best is trial 854 with value: 62.73170731707317.\n"
     ]
    },
    {
     "name": "stdout",
     "output_type": "stream",
     "text": [
      "Study saved to optuna_studies_deterministic/Queue25_Study.pkl\n",
      "Sleeping zZz  zZz  Zzz\n",
      "Study loaded from optuna_studies_deterministic/Queue25_Study.pkl\n",
      "[INFO] Starting from Trial 1223\n",
      "QueueSize: 25; ProblemNumber: 179\n"
     ]
    },
    {
     "name": "stderr",
     "output_type": "stream",
     "text": [
      "[I 2024-11-19 05:21:18,061] Trial 1223 finished with value: 14.537540805223067 and parameters: {'delta_start': 1881, 'symmetry_breaking': False, 'mip_focus': 2, 'cuts': 0, 'heuristics': 0.17714491730789647, 'presolve': -1}. Best is trial 854 with value: 62.73170731707317.\n"
     ]
    },
    {
     "name": "stdout",
     "output_type": "stream",
     "text": [
      "QueueSize: 25; ProblemNumber: 238\n"
     ]
    },
    {
     "name": "stderr",
     "output_type": "stream",
     "text": [
      "[I 2024-11-19 05:22:41,827] Trial 1224 finished with value: 42.60555909187354 and parameters: {'delta_start': 2100, 'symmetry_breaking': True, 'mip_focus': 1, 'cuts': 0, 'heuristics': 0.9900120374491881, 'presolve': 2}. Best is trial 854 with value: 62.73170731707317.\n"
     ]
    },
    {
     "name": "stdout",
     "output_type": "stream",
     "text": [
      "Study saved to optuna_studies_deterministic/Queue25_Study.pkl\n",
      "Sleeping zZz  zZz  Zzz\n",
      "Study loaded from optuna_studies_deterministic/Queue75_Study.pkl\n",
      "[INFO] Starting from Trial 1081\n",
      "QueueSize: 75; ProblemNumber: 12\n"
     ]
    },
    {
     "name": "stderr",
     "output_type": "stream",
     "text": [
      "[I 2024-11-19 05:25:19,119] Trial 1081 finished with value: 12.250444235392495 and parameters: {'delta_start': 2494, 'symmetry_breaking': False, 'mip_focus': 3, 'cuts': 2, 'heuristics': 0.6575246973930642, 'presolve': 0}. Best is trial 908 with value: 23.248006714225767.\n"
     ]
    },
    {
     "name": "stdout",
     "output_type": "stream",
     "text": [
      "QueueSize: 75; ProblemNumber: 30\n"
     ]
    },
    {
     "name": "stderr",
     "output_type": "stream",
     "text": [
      "[I 2024-11-19 05:28:07,574] Trial 1082 finished with value: 3.2633158289572397 and parameters: {'delta_start': 2494, 'symmetry_breaking': False, 'mip_focus': 2, 'cuts': 0, 'heuristics': 0.20352516812351606, 'presolve': -1}. Best is trial 908 with value: 23.248006714225767.\n"
     ]
    },
    {
     "name": "stdout",
     "output_type": "stream",
     "text": [
      "Study saved to optuna_studies_deterministic/Queue75_Study.pkl\n",
      "Sleeping zZz  zZz  Zzz\n",
      "Study loaded from optuna_studies_deterministic/Queue25_Study.pkl\n",
      "[INFO] Starting from Trial 1225\n",
      "QueueSize: 25; ProblemNumber: 204\n"
     ]
    },
    {
     "name": "stderr",
     "output_type": "stream",
     "text": [
      "[I 2024-11-19 05:29:51,731] Trial 1225 finished with value: 14.903969270166453 and parameters: {'delta_start': 1455, 'symmetry_breaking': False, 'mip_focus': 3, 'cuts': 2, 'heuristics': 0.9982437454763957, 'presolve': 2}. Best is trial 854 with value: 62.73170731707317.\n"
     ]
    },
    {
     "name": "stdout",
     "output_type": "stream",
     "text": [
      "QueueSize: 25; ProblemNumber: 194\n"
     ]
    },
    {
     "name": "stderr",
     "output_type": "stream",
     "text": [
      "[I 2024-11-19 05:31:26,530] Trial 1226 finished with value: 31.13284433577832 and parameters: {'delta_start': 2002, 'symmetry_breaking': True, 'mip_focus': 0, 'cuts': 0, 'heuristics': 0.12685873345351206, 'presolve': -1}. Best is trial 854 with value: 62.73170731707317.\n"
     ]
    },
    {
     "name": "stdout",
     "output_type": "stream",
     "text": [
      "Study saved to optuna_studies_deterministic/Queue25_Study.pkl\n",
      "Sleeping zZz  zZz  Zzz\n",
      "Study loaded from optuna_studies_deterministic/Queue25_Study.pkl\n",
      "[INFO] Starting from Trial 1227\n",
      "QueueSize: 25; ProblemNumber: 291\n"
     ]
    },
    {
     "name": "stderr",
     "output_type": "stream",
     "text": [
      "[I 2024-11-19 05:33:11,752] Trial 1227 finished with value: 51.80936774545951 and parameters: {'delta_start': 1883, 'symmetry_breaking': False, 'mip_focus': 3, 'cuts': 1, 'heuristics': 0.863329333026073, 'presolve': -1}. Best is trial 854 with value: 62.73170731707317.\n"
     ]
    },
    {
     "name": "stdout",
     "output_type": "stream",
     "text": [
      "QueueSize: 25; ProblemNumber: 197\n"
     ]
    },
    {
     "name": "stderr",
     "output_type": "stream",
     "text": [
      "[I 2024-11-19 05:34:34,611] Trial 1228 finished with value: 20.95364238410596 and parameters: {'delta_start': 1934, 'symmetry_breaking': False, 'mip_focus': 1, 'cuts': 2, 'heuristics': 0.5328760915372407, 'presolve': 2}. Best is trial 854 with value: 62.73170731707317.\n"
     ]
    },
    {
     "name": "stdout",
     "output_type": "stream",
     "text": [
      "Study saved to optuna_studies_deterministic/Queue25_Study.pkl\n",
      "Sleeping zZz  zZz  Zzz\n",
      "Study loaded from optuna_studies_deterministic/Queue75_Study.pkl\n",
      "[INFO] Starting from Trial 1083\n",
      "QueueSize: 75; ProblemNumber: 75\n"
     ]
    },
    {
     "name": "stderr",
     "output_type": "stream",
     "text": [
      "[I 2024-11-19 05:37:12,128] Trial 1083 finished with value: 7.037916776634116 and parameters: {'delta_start': 2492, 'symmetry_breaking': False, 'mip_focus': 3, 'cuts': 2, 'heuristics': 0.6320125921031484, 'presolve': 1}. Best is trial 908 with value: 23.248006714225767.\n"
     ]
    },
    {
     "name": "stdout",
     "output_type": "stream",
     "text": [
      "QueueSize: 75; ProblemNumber: 82\n"
     ]
    },
    {
     "name": "stderr",
     "output_type": "stream",
     "text": [
      "[I 2024-11-19 05:40:12,924] Trial 1084 finished with value: 13.32200148730479 and parameters: {'delta_start': 2493, 'symmetry_breaking': False, 'mip_focus': 0, 'cuts': 2, 'heuristics': 0.5192066284008383, 'presolve': 1}. Best is trial 908 with value: 23.248006714225767.\n"
     ]
    },
    {
     "name": "stdout",
     "output_type": "stream",
     "text": [
      "Study saved to optuna_studies_deterministic/Queue75_Study.pkl\n",
      "Sleeping zZz  zZz  Zzz\n",
      "Study loaded from optuna_studies_deterministic/Queue25_Study.pkl\n",
      "[INFO] Starting from Trial 1229\n",
      "QueueSize: 25; ProblemNumber: 12\n"
     ]
    },
    {
     "name": "stderr",
     "output_type": "stream",
     "text": [
      "[I 2024-11-19 05:41:26,219] Trial 1229 finished with value: 10.264305876315115 and parameters: {'delta_start': 2122, 'symmetry_breaking': False, 'mip_focus': 0, 'cuts': 3, 'heuristics': 0.6188533369201743, 'presolve': 2}. Best is trial 854 with value: 62.73170731707317.\n"
     ]
    },
    {
     "name": "stdout",
     "output_type": "stream",
     "text": [
      "QueueSize: 25; ProblemNumber: 295\n"
     ]
    },
    {
     "name": "stderr",
     "output_type": "stream",
     "text": [
      "[I 2024-11-19 05:42:48,889] Trial 1230 finished with value: 21.30795210316242 and parameters: {'delta_start': 1880, 'symmetry_breaking': False, 'mip_focus': 2, 'cuts': 2, 'heuristics': 0.2845580293917346, 'presolve': -1}. Best is trial 854 with value: 62.73170731707317.\n"
     ]
    },
    {
     "name": "stdout",
     "output_type": "stream",
     "text": [
      "Study saved to optuna_studies_deterministic/Queue25_Study.pkl\n",
      "Sleeping zZz  zZz  Zzz\n",
      "Study loaded from optuna_studies_deterministic/Queue25_Study.pkl\n",
      "[INFO] Starting from Trial 1231\n",
      "QueueSize: 25; ProblemNumber: 112\n"
     ]
    },
    {
     "name": "stderr",
     "output_type": "stream",
     "text": [
      "[I 2024-11-19 05:44:11,778] Trial 1231 finished with value: 15.600287562904386 and parameters: {'delta_start': 2029, 'symmetry_breaking': False, 'mip_focus': 1, 'cuts': 3, 'heuristics': 0.3414522316006281, 'presolve': 2}. Best is trial 854 with value: 62.73170731707317.\n"
     ]
    },
    {
     "name": "stdout",
     "output_type": "stream",
     "text": [
      "QueueSize: 25; ProblemNumber: 109\n"
     ]
    },
    {
     "name": "stderr",
     "output_type": "stream",
     "text": [
      "[I 2024-11-19 05:45:44,724] Trial 1232 finished with value: 21.834372217275156 and parameters: {'delta_start': 2082, 'symmetry_breaking': False, 'mip_focus': 3, 'cuts': 2, 'heuristics': 0.9211797100593568, 'presolve': -1}. Best is trial 854 with value: 62.73170731707317.\n"
     ]
    },
    {
     "name": "stdout",
     "output_type": "stream",
     "text": [
      "Study saved to optuna_studies_deterministic/Queue25_Study.pkl\n",
      "Sleeping zZz  zZz  Zzz\n",
      "Study loaded from optuna_studies_deterministic/Queue75_Study.pkl\n",
      "[INFO] Starting from Trial 1085\n",
      "QueueSize: 75; ProblemNumber: 41\n"
     ]
    },
    {
     "name": "stderr",
     "output_type": "stream",
     "text": [
      "[I 2024-11-19 05:48:33,935] Trial 1085 finished with value: 12.269303201506592 and parameters: {'delta_start': 2492, 'symmetry_breaking': False, 'mip_focus': 3, 'cuts': 1, 'heuristics': 0.4891256733413851, 'presolve': 1}. Best is trial 908 with value: 23.248006714225767.\n"
     ]
    },
    {
     "name": "stdout",
     "output_type": "stream",
     "text": [
      "QueueSize: 75; ProblemNumber: 89\n"
     ]
    },
    {
     "name": "stderr",
     "output_type": "stream",
     "text": [
      "[I 2024-11-19 05:51:47,402] Trial 1086 finished with value: 9.671405266837567 and parameters: {'delta_start': 2495, 'symmetry_breaking': False, 'mip_focus': 0, 'cuts': 2, 'heuristics': 0.8055825971879769, 'presolve': 1}. Best is trial 908 with value: 23.248006714225767.\n"
     ]
    },
    {
     "name": "stdout",
     "output_type": "stream",
     "text": [
      "Study saved to optuna_studies_deterministic/Queue75_Study.pkl\n",
      "Sleeping zZz  zZz  Zzz\n",
      "Study loaded from optuna_studies_deterministic/Queue25_Study.pkl\n",
      "[INFO] Starting from Trial 1233\n",
      "QueueSize: 25; ProblemNumber: 243\n"
     ]
    },
    {
     "name": "stderr",
     "output_type": "stream",
     "text": [
      "[I 2024-11-19 05:53:35,980] Trial 1233 finished with value: 16.907844630616907 and parameters: {'delta_start': 1836, 'symmetry_breaking': False, 'mip_focus': 0, 'cuts': 3, 'heuristics': 0.647114664277519, 'presolve': 2}. Best is trial 854 with value: 62.73170731707317.\n"
     ]
    },
    {
     "name": "stdout",
     "output_type": "stream",
     "text": [
      "QueueSize: 25; ProblemNumber: 17\n"
     ]
    },
    {
     "name": "stderr",
     "output_type": "stream",
     "text": [
      "[I 2024-11-19 05:55:08,892] Trial 1234 finished with value: 26.915823761357792 and parameters: {'delta_start': 1660, 'symmetry_breaking': False, 'mip_focus': 3, 'cuts': 2, 'heuristics': 0.9759464759865105, 'presolve': 1}. Best is trial 854 with value: 62.73170731707317.\n"
     ]
    },
    {
     "name": "stdout",
     "output_type": "stream",
     "text": [
      "Study saved to optuna_studies_deterministic/Queue25_Study.pkl\n",
      "Sleeping zZz  zZz  Zzz\n",
      "Study loaded from optuna_studies_deterministic/Queue25_Study.pkl\n",
      "[INFO] Starting from Trial 1235\n",
      "QueueSize: 25; ProblemNumber: 69\n"
     ]
    },
    {
     "name": "stderr",
     "output_type": "stream",
     "text": [
      "[I 2024-11-19 05:56:53,936] Trial 1235 finished with value: 40.334606292053095 and parameters: {'delta_start': 2004, 'symmetry_breaking': False, 'mip_focus': 1, 'cuts': 3, 'heuristics': 0.24373393561068263, 'presolve': 0}. Best is trial 854 with value: 62.73170731707317.\n"
     ]
    },
    {
     "name": "stdout",
     "output_type": "stream",
     "text": [
      "QueueSize: 25; ProblemNumber: 46\n"
     ]
    },
    {
     "name": "stderr",
     "output_type": "stream",
     "text": [
      "[I 2024-11-19 05:58:38,728] Trial 1236 finished with value: 14.141682143804724 and parameters: {'delta_start': 2089, 'symmetry_breaking': False, 'mip_focus': 0, 'cuts': 3, 'heuristics': 0.5583922605646966, 'presolve': 2}. Best is trial 854 with value: 62.73170731707317.\n"
     ]
    },
    {
     "name": "stdout",
     "output_type": "stream",
     "text": [
      "Study saved to optuna_studies_deterministic/Queue25_Study.pkl\n",
      "Sleeping zZz  zZz  Zzz\n",
      "Study loaded from optuna_studies_deterministic/Queue75_Study.pkl\n",
      "[INFO] Starting from Trial 1087\n",
      "QueueSize: 75; ProblemNumber: 77\n"
     ]
    },
    {
     "name": "stderr",
     "output_type": "stream",
     "text": [
      "[I 2024-11-19 06:02:28,762] Trial 1087 finished with value: 2.4052261704444224 and parameters: {'delta_start': 2493, 'symmetry_breaking': False, 'mip_focus': 1, 'cuts': 2, 'heuristics': 0.11382273797682263, 'presolve': 0}. Best is trial 908 with value: 23.248006714225767.\n"
     ]
    },
    {
     "name": "stdout",
     "output_type": "stream",
     "text": [
      "QueueSize: 75; ProblemNumber: 30\n"
     ]
    },
    {
     "name": "stderr",
     "output_type": "stream",
     "text": [
      "[I 2024-11-19 06:05:17,969] Trial 1088 finished with value: 2.5412603150787696 and parameters: {'delta_start': 2493, 'symmetry_breaking': False, 'mip_focus': 3, 'cuts': 2, 'heuristics': 0.5473225973732426, 'presolve': 1}. Best is trial 908 with value: 23.248006714225767.\n"
     ]
    },
    {
     "name": "stdout",
     "output_type": "stream",
     "text": [
      "Study saved to optuna_studies_deterministic/Queue75_Study.pkl\n",
      "Sleeping zZz  zZz  Zzz\n",
      "Study loaded from optuna_studies_deterministic/Queue25_Study.pkl\n",
      "[INFO] Starting from Trial 1237\n",
      "QueueSize: 25; ProblemNumber: 116\n"
     ]
    },
    {
     "name": "stderr",
     "output_type": "stream",
     "text": [
      "[I 2024-11-19 06:07:32,258] Trial 1237 finished with value: 7.568027210884354 and parameters: {'delta_start': 2789, 'symmetry_breaking': False, 'mip_focus': 3, 'cuts': 3, 'heuristics': 0.9920227028597569, 'presolve': 1}. Best is trial 854 with value: 62.73170731707317.\n"
     ]
    },
    {
     "name": "stdout",
     "output_type": "stream",
     "text": [
      "QueueSize: 25; ProblemNumber: 160\n"
     ]
    },
    {
     "name": "stderr",
     "output_type": "stream",
     "text": [
      "[I 2024-11-19 06:09:05,338] Trial 1238 finished with value: 26.855067887590778 and parameters: {'delta_start': 1951, 'symmetry_breaking': False, 'mip_focus': 2, 'cuts': 1, 'heuristics': 0.3313607695937204, 'presolve': -1}. Best is trial 854 with value: 62.73170731707317.\n"
     ]
    },
    {
     "name": "stdout",
     "output_type": "stream",
     "text": [
      "Study saved to optuna_studies_deterministic/Queue25_Study.pkl\n",
      "Sleeping zZz  zZz  Zzz\n",
      "Study loaded from optuna_studies_deterministic/Queue25_Study.pkl\n",
      "[INFO] Starting from Trial 1239\n",
      "QueueSize: 25; ProblemNumber: 122\n"
     ]
    },
    {
     "name": "stderr",
     "output_type": "stream",
     "text": [
      "[I 2024-11-19 06:10:49,411] Trial 1239 finished with value: 22.760613469659923 and parameters: {'delta_start': 844, 'symmetry_breaking': False, 'mip_focus': 2, 'cuts': 1, 'heuristics': 0.0008079005971938537, 'presolve': 0}. Best is trial 854 with value: 62.73170731707317.\n"
     ]
    },
    {
     "name": "stdout",
     "output_type": "stream",
     "text": [
      "QueueSize: 25; ProblemNumber: 84\n"
     ]
    },
    {
     "name": "stderr",
     "output_type": "stream",
     "text": [
      "[I 2024-11-19 06:13:03,603] Trial 1240 finished with value: 21.42586989409985 and parameters: {'delta_start': 2130, 'symmetry_breaking': False, 'mip_focus': 3, 'cuts': 3, 'heuristics': 0.7666219339207623, 'presolve': 0}. Best is trial 854 with value: 62.73170731707317.\n"
     ]
    },
    {
     "name": "stdout",
     "output_type": "stream",
     "text": [
      "Study saved to optuna_studies_deterministic/Queue25_Study.pkl\n",
      "Sleeping zZz  zZz  Zzz\n",
      "Study loaded from optuna_studies_deterministic/Queue75_Study.pkl\n",
      "[INFO] Starting from Trial 1089\n",
      "QueueSize: 75; ProblemNumber: 71\n"
     ]
    },
    {
     "name": "stderr",
     "output_type": "stream",
     "text": [
      "[I 2024-11-19 06:16:04,818] Trial 1089 finished with value: 11.728503604712502 and parameters: {'delta_start': 2496, 'symmetry_breaking': False, 'mip_focus': 2, 'cuts': 1, 'heuristics': 0.6452345632920549, 'presolve': 2}. Best is trial 908 with value: 23.248006714225767.\n"
     ]
    },
    {
     "name": "stdout",
     "output_type": "stream",
     "text": [
      "QueueSize: 75; ProblemNumber: 92\n"
     ]
    },
    {
     "name": "stderr",
     "output_type": "stream",
     "text": [
      "[I 2024-11-19 06:18:54,562] Trial 1090 finished with value: 10.904229924567936 and parameters: {'delta_start': 2495, 'symmetry_breaking': False, 'mip_focus': 3, 'cuts': 2, 'heuristics': 0.6392427819390761, 'presolve': 1}. Best is trial 908 with value: 23.248006714225767.\n"
     ]
    },
    {
     "name": "stdout",
     "output_type": "stream",
     "text": [
      "Study saved to optuna_studies_deterministic/Queue75_Study.pkl\n",
      "Sleeping zZz  zZz  Zzz\n",
      "Study loaded from optuna_studies_deterministic/Queue25_Study.pkl\n",
      "[INFO] Starting from Trial 1241\n",
      "QueueSize: 25; ProblemNumber: 132\n"
     ]
    },
    {
     "name": "stderr",
     "output_type": "stream",
     "text": [
      "[I 2024-11-19 06:20:48,294] Trial 1241 finished with value: 13.434727503168567 and parameters: {'delta_start': 2117, 'symmetry_breaking': False, 'mip_focus': 3, 'cuts': 3, 'heuristics': 0.9018496318135406, 'presolve': 1}. Best is trial 854 with value: 62.73170731707317.\n"
     ]
    },
    {
     "name": "stdout",
     "output_type": "stream",
     "text": [
      "QueueSize: 25; ProblemNumber: 284\n"
     ]
    },
    {
     "name": "stderr",
     "output_type": "stream",
     "text": [
      "[I 2024-11-19 06:22:33,328] Trial 1242 finished with value: 36.166832174776566 and parameters: {'delta_start': 2423, 'symmetry_breaking': False, 'mip_focus': 3, 'cuts': 0, 'heuristics': 0.24220095538476466, 'presolve': -1}. Best is trial 854 with value: 62.73170731707317.\n"
     ]
    },
    {
     "name": "stdout",
     "output_type": "stream",
     "text": [
      "Study saved to optuna_studies_deterministic/Queue25_Study.pkl\n",
      "Sleeping zZz  zZz  Zzz\n",
      "Study loaded from optuna_studies_deterministic/Queue25_Study.pkl\n",
      "[INFO] Starting from Trial 1243\n",
      "QueueSize: 25; ProblemNumber: 210\n"
     ]
    },
    {
     "name": "stderr",
     "output_type": "stream",
     "text": [
      "[I 2024-11-19 06:24:07,622] Trial 1243 finished with value: 45.30355097365407 and parameters: {'delta_start': 1222, 'symmetry_breaking': False, 'mip_focus': 3, 'cuts': 1, 'heuristics': 0.3904595654223325, 'presolve': -1}. Best is trial 854 with value: 62.73170731707317.\n"
     ]
    },
    {
     "name": "stdout",
     "output_type": "stream",
     "text": [
      "QueueSize: 25; ProblemNumber: 144\n"
     ]
    },
    {
     "name": "stderr",
     "output_type": "stream",
     "text": [
      "[I 2024-11-19 06:25:21,485] Trial 1244 finished with value: 35.41751527494908 and parameters: {'delta_start': 2141, 'symmetry_breaking': False, 'mip_focus': 2, 'cuts': 2, 'heuristics': 0.9881272081930585, 'presolve': 1}. Best is trial 854 with value: 62.73170731707317.\n"
     ]
    },
    {
     "name": "stdout",
     "output_type": "stream",
     "text": [
      "Study saved to optuna_studies_deterministic/Queue25_Study.pkl\n",
      "Sleeping zZz  zZz  Zzz\n",
      "Study loaded from optuna_studies_deterministic/Queue75_Study.pkl\n",
      "[INFO] Starting from Trial 1091\n",
      "QueueSize: 75; ProblemNumber: 95\n"
     ]
    },
    {
     "name": "stderr",
     "output_type": "stream",
     "text": [
      "[I 2024-11-19 06:27:58,623] Trial 1091 finished with value: 9.664345838096228 and parameters: {'delta_start': 2494, 'symmetry_breaking': False, 'mip_focus': 0, 'cuts': 2, 'heuristics': 0.7458441844891665, 'presolve': 1}. Best is trial 908 with value: 23.248006714225767.\n"
     ]
    },
    {
     "name": "stdout",
     "output_type": "stream",
     "text": [
      "QueueSize: 75; ProblemNumber: 78\n"
     ]
    },
    {
     "name": "stderr",
     "output_type": "stream",
     "text": [
      "[I 2024-11-19 06:30:35,374] Trial 1092 finished with value: 16.714776632302414 and parameters: {'delta_start': 2494, 'symmetry_breaking': False, 'mip_focus': 3, 'cuts': 1, 'heuristics': 0.542670175716372, 'presolve': 1}. Best is trial 908 with value: 23.248006714225767.\n"
     ]
    },
    {
     "name": "stdout",
     "output_type": "stream",
     "text": [
      "Study saved to optuna_studies_deterministic/Queue75_Study.pkl\n",
      "Sleeping zZz  zZz  Zzz\n",
      "Study loaded from optuna_studies_deterministic/Queue25_Study.pkl\n",
      "[INFO] Starting from Trial 1245\n",
      "QueueSize: 25; ProblemNumber: 125\n"
     ]
    },
    {
     "name": "stderr",
     "output_type": "stream",
     "text": [
      "[I 2024-11-19 06:32:30,309] Trial 1245 finished with value: 29.304257528556594 and parameters: {'delta_start': 1815, 'symmetry_breaking': False, 'mip_focus': 1, 'cuts': 3, 'heuristics': 0.5710000980646072, 'presolve': 1}. Best is trial 854 with value: 62.73170731707317.\n"
     ]
    },
    {
     "name": "stdout",
     "output_type": "stream",
     "text": [
      "QueueSize: 25; ProblemNumber: 36\n"
     ]
    },
    {
     "name": "stderr",
     "output_type": "stream",
     "text": [
      "[I 2024-11-19 06:33:51,420] Trial 1246 finished with value: 37.201591511936336 and parameters: {'delta_start': 1788, 'symmetry_breaking': False, 'mip_focus': 3, 'cuts': 2, 'heuristics': 0.9612752629752346, 'presolve': 1}. Best is trial 854 with value: 62.73170731707317.\n"
     ]
    },
    {
     "name": "stdout",
     "output_type": "stream",
     "text": [
      "Study saved to optuna_studies_deterministic/Queue25_Study.pkl\n",
      "Sleeping zZz  zZz  Zzz\n",
      "Study loaded from optuna_studies_deterministic/Queue25_Study.pkl\n",
      "[INFO] Starting from Trial 1247\n",
      "QueueSize: 25; ProblemNumber: 33\n"
     ]
    },
    {
     "name": "stderr",
     "output_type": "stream",
     "text": [
      "[I 2024-11-19 06:35:55,626] Trial 1247 finished with value: 15.883609183128671 and parameters: {'delta_start': 1840, 'symmetry_breaking': False, 'mip_focus': 3, 'cuts': 1, 'heuristics': 0.8746243461495581, 'presolve': 1}. Best is trial 854 with value: 62.73170731707317.\n"
     ]
    },
    {
     "name": "stdout",
     "output_type": "stream",
     "text": [
      "QueueSize: 25; ProblemNumber: 46\n"
     ]
    },
    {
     "name": "stderr",
     "output_type": "stream",
     "text": [
      "[I 2024-11-19 06:37:40,171] Trial 1248 finished with value: 14.141682143804724 and parameters: {'delta_start': 1825, 'symmetry_breaking': False, 'mip_focus': 0, 'cuts': 2, 'heuristics': 0.6237660505783036, 'presolve': 1}. Best is trial 854 with value: 62.73170731707317.\n"
     ]
    },
    {
     "name": "stdout",
     "output_type": "stream",
     "text": [
      "Study saved to optuna_studies_deterministic/Queue25_Study.pkl\n",
      "Sleeping zZz  zZz  Zzz\n",
      "Study loaded from optuna_studies_deterministic/Queue75_Study.pkl\n",
      "[INFO] Starting from Trial 1093\n",
      "QueueSize: 75; ProblemNumber: 63\n"
     ]
    },
    {
     "name": "stderr",
     "output_type": "stream",
     "text": [
      "[I 2024-11-19 06:40:28,850] Trial 1093 finished with value: 7.781578304422185 and parameters: {'delta_start': 2494, 'symmetry_breaking': False, 'mip_focus': 0, 'cuts': 1, 'heuristics': 0.5162026213580746, 'presolve': 2}. Best is trial 908 with value: 23.248006714225767.\n"
     ]
    },
    {
     "name": "stdout",
     "output_type": "stream",
     "text": [
      "QueueSize: 75; ProblemNumber: 2\n"
     ]
    },
    {
     "name": "stderr",
     "output_type": "stream",
     "text": [
      "[I 2024-11-19 06:43:06,058] Trial 1094 finished with value: 11.994797919167667 and parameters: {'delta_start': 2493, 'symmetry_breaking': False, 'mip_focus': 3, 'cuts': 2, 'heuristics': 0.324966729810259, 'presolve': 1}. Best is trial 908 with value: 23.248006714225767.\n"
     ]
    },
    {
     "name": "stdout",
     "output_type": "stream",
     "text": [
      "Study saved to optuna_studies_deterministic/Queue75_Study.pkl\n",
      "Sleeping zZz  zZz  Zzz\n",
      "Study loaded from optuna_studies_deterministic/Queue25_Study.pkl\n",
      "[INFO] Starting from Trial 1249\n",
      "QueueSize: 25; ProblemNumber: 286\n"
     ]
    },
    {
     "name": "stderr",
     "output_type": "stream",
     "text": [
      "[I 2024-11-19 06:44:20,054] Trial 1249 finished with value: 31.726205345990504 and parameters: {'delta_start': 2165, 'symmetry_breaking': False, 'mip_focus': 1, 'cuts': 1, 'heuristics': 0.4098629081215295, 'presolve': 0}. Best is trial 854 with value: 62.73170731707317.\n"
     ]
    },
    {
     "name": "stdout",
     "output_type": "stream",
     "text": [
      "QueueSize: 25; ProblemNumber: 130\n"
     ]
    },
    {
     "name": "stderr",
     "output_type": "stream",
     "text": [
      "[I 2024-11-19 06:45:53,241] Trial 1250 finished with value: 25.44720138488171 and parameters: {'delta_start': 696, 'symmetry_breaking': False, 'mip_focus': 3, 'cuts': 1, 'heuristics': 0.7992621959170281, 'presolve': -1}. Best is trial 854 with value: 62.73170731707317.\n"
     ]
    },
    {
     "name": "stdout",
     "output_type": "stream",
     "text": [
      "Study saved to optuna_studies_deterministic/Queue25_Study.pkl\n",
      "Sleeping zZz  zZz  Zzz\n",
      "Study loaded from optuna_studies_deterministic/Queue25_Study.pkl\n",
      "[INFO] Starting from Trial 1251\n",
      "QueueSize: 25; ProblemNumber: 175\n"
     ]
    },
    {
     "name": "stderr",
     "output_type": "stream",
     "text": [
      "[I 2024-11-19 06:47:38,125] Trial 1251 finished with value: 20.92436974789916 and parameters: {'delta_start': 1368, 'symmetry_breaking': False, 'mip_focus': 0, 'cuts': 2, 'heuristics': 0.8296225474336738, 'presolve': 1}. Best is trial 854 with value: 62.73170731707317.\n"
     ]
    },
    {
     "name": "stdout",
     "output_type": "stream",
     "text": [
      "QueueSize: 25; ProblemNumber: 12\n"
     ]
    },
    {
     "name": "stderr",
     "output_type": "stream",
     "text": [
      "[I 2024-11-19 06:48:51,914] Trial 1252 finished with value: 9.520143700282269 and parameters: {'delta_start': 2044, 'symmetry_breaking': True, 'mip_focus': 2, 'cuts': 0, 'heuristics': 0.7796640530018388, 'presolve': 2}. Best is trial 854 with value: 62.73170731707317.\n"
     ]
    },
    {
     "name": "stdout",
     "output_type": "stream",
     "text": [
      "Study saved to optuna_studies_deterministic/Queue25_Study.pkl\n",
      "Sleeping zZz  zZz  Zzz\n",
      "Study loaded from optuna_studies_deterministic/Queue75_Study.pkl\n",
      "[INFO] Starting from Trial 1095\n",
      "QueueSize: 75; ProblemNumber: 45\n"
     ]
    },
    {
     "name": "stderr",
     "output_type": "stream",
     "text": [
      "[I 2024-11-19 06:52:05,840] Trial 1095 finished with value: 14.464692482915718 and parameters: {'delta_start': 2491, 'symmetry_breaking': False, 'mip_focus': 3, 'cuts': 2, 'heuristics': 0.29795221742920924, 'presolve': 1}. Best is trial 908 with value: 23.248006714225767.\n"
     ]
    },
    {
     "name": "stdout",
     "output_type": "stream",
     "text": [
      "QueueSize: 75; ProblemNumber: 43\n"
     ]
    },
    {
     "name": "stderr",
     "output_type": "stream",
     "text": [
      "[I 2024-11-19 06:54:54,341] Trial 1096 finished with value: 13.575455133536643 and parameters: {'delta_start': 2495, 'symmetry_breaking': False, 'mip_focus': 3, 'cuts': 3, 'heuristics': 0.7726717777189859, 'presolve': 1}. Best is trial 908 with value: 23.248006714225767.\n"
     ]
    },
    {
     "name": "stdout",
     "output_type": "stream",
     "text": [
      "Study saved to optuna_studies_deterministic/Queue75_Study.pkl\n",
      "Sleeping zZz  zZz  Zzz\n",
      "Study loaded from optuna_studies_deterministic/Queue25_Study.pkl\n",
      "[INFO] Starting from Trial 1253\n",
      "QueueSize: 25; ProblemNumber: 87\n"
     ]
    },
    {
     "name": "stderr",
     "output_type": "stream",
     "text": [
      "[I 2024-11-19 06:56:08,180] Trial 1253 finished with value: 34.721395994447754 and parameters: {'delta_start': 1012, 'symmetry_breaking': True, 'mip_focus': 1, 'cuts': 0, 'heuristics': 0.7529925469204388, 'presolve': 1}. Best is trial 854 with value: 62.73170731707317.\n"
     ]
    },
    {
     "name": "stdout",
     "output_type": "stream",
     "text": [
      "QueueSize: 25; ProblemNumber: 280\n"
     ]
    },
    {
     "name": "stderr",
     "output_type": "stream",
     "text": [
      "[I 2024-11-19 06:58:01,776] Trial 1254 finished with value: 15.644820295983086 and parameters: {'delta_start': 1818, 'symmetry_breaking': False, 'mip_focus': 3, 'cuts': 1, 'heuristics': 0.6755022246272839, 'presolve': 2}. Best is trial 854 with value: 62.73170731707317.\n"
     ]
    },
    {
     "name": "stdout",
     "output_type": "stream",
     "text": [
      "Study saved to optuna_studies_deterministic/Queue25_Study.pkl\n",
      "Sleeping zZz  zZz  Zzz\n",
      "Study loaded from optuna_studies_deterministic/Queue25_Study.pkl\n",
      "[INFO] Starting from Trial 1255\n",
      "QueueSize: 25; ProblemNumber: 243\n"
     ]
    },
    {
     "name": "stderr",
     "output_type": "stream",
     "text": [
      "[I 2024-11-19 06:59:51,679] Trial 1255 finished with value: 16.450875856816452 and parameters: {'delta_start': 2206, 'symmetry_breaking': True, 'mip_focus': 1, 'cuts': 0, 'heuristics': 0.6330963931657345, 'presolve': 2}. Best is trial 854 with value: 62.73170731707317.\n"
     ]
    },
    {
     "name": "stdout",
     "output_type": "stream",
     "text": [
      "QueueSize: 25; ProblemNumber: 193\n"
     ]
    },
    {
     "name": "stderr",
     "output_type": "stream",
     "text": [
      "[I 2024-11-19 07:01:37,840] Trial 1256 finished with value: 21.39622641509434 and parameters: {'delta_start': 2078, 'symmetry_breaking': False, 'mip_focus': 0, 'cuts': 3, 'heuristics': 0.45296624700577576, 'presolve': 1}. Best is trial 854 with value: 62.73170731707317.\n"
     ]
    },
    {
     "name": "stdout",
     "output_type": "stream",
     "text": [
      "Study saved to optuna_studies_deterministic/Queue25_Study.pkl\n",
      "Sleeping zZz  zZz  Zzz\n",
      "Study loaded from optuna_studies_deterministic/Queue75_Study.pkl\n",
      "[INFO] Starting from Trial 1097\n",
      "QueueSize: 75; ProblemNumber: 67\n"
     ]
    },
    {
     "name": "stderr",
     "output_type": "stream",
     "text": [
      "[I 2024-11-19 07:04:27,309] Trial 1097 finished with value: 9.146135673304084 and parameters: {'delta_start': 2493, 'symmetry_breaking': False, 'mip_focus': 3, 'cuts': 2, 'heuristics': 0.7204366508146243, 'presolve': 1}. Best is trial 908 with value: 23.248006714225767.\n"
     ]
    },
    {
     "name": "stdout",
     "output_type": "stream",
     "text": [
      "QueueSize: 75; ProblemNumber: 80\n"
     ]
    },
    {
     "name": "stderr",
     "output_type": "stream",
     "text": [
      "[I 2024-11-19 07:07:40,683] Trial 1098 finished with value: 6.7127825409197195 and parameters: {'delta_start': 2496, 'symmetry_breaking': False, 'mip_focus': 3, 'cuts': 2, 'heuristics': 0.6025080260259658, 'presolve': 0}. Best is trial 908 with value: 23.248006714225767.\n"
     ]
    },
    {
     "name": "stdout",
     "output_type": "stream",
     "text": [
      "Study saved to optuna_studies_deterministic/Queue75_Study.pkl\n",
      "Sleeping zZz  zZz  Zzz\n",
      "Study loaded from optuna_studies_deterministic/Queue25_Study.pkl\n",
      "[INFO] Starting from Trial 1257\n",
      "QueueSize: 25; ProblemNumber: 30\n"
     ]
    },
    {
     "name": "stderr",
     "output_type": "stream",
     "text": [
      "[I 2024-11-19 07:09:34,543] Trial 1257 finished with value: 18.418727915194346 and parameters: {'delta_start': 777, 'symmetry_breaking': True, 'mip_focus': 2, 'cuts': 3, 'heuristics': 0.726747107149001, 'presolve': 0}. Best is trial 854 with value: 62.73170731707317.\n"
     ]
    },
    {
     "name": "stdout",
     "output_type": "stream",
     "text": [
      "QueueSize: 25; ProblemNumber: 2\n"
     ]
    },
    {
     "name": "stderr",
     "output_type": "stream",
     "text": [
      "[I 2024-11-19 07:10:58,144] Trial 1258 finished with value: 32.221509514646144 and parameters: {'delta_start': 2215, 'symmetry_breaking': False, 'mip_focus': 0, 'cuts': 0, 'heuristics': 0.08539412435827554, 'presolve': -1}. Best is trial 854 with value: 62.73170731707317.\n"
     ]
    },
    {
     "name": "stdout",
     "output_type": "stream",
     "text": [
      "Study saved to optuna_studies_deterministic/Queue25_Study.pkl\n",
      "Sleeping zZz  zZz  Zzz\n",
      "Study loaded from optuna_studies_deterministic/Queue25_Study.pkl\n",
      "[INFO] Starting from Trial 1259\n",
      "QueueSize: 25; ProblemNumber: 203\n"
     ]
    },
    {
     "name": "stderr",
     "output_type": "stream",
     "text": [
      "[I 2024-11-19 07:12:52,618] Trial 1259 finished with value: 12.73100616016427 and parameters: {'delta_start': 1898, 'symmetry_breaking': False, 'mip_focus': 2, 'cuts': 0, 'heuristics': 0.36599165356620106, 'presolve': -1}. Best is trial 854 with value: 62.73170731707317.\n"
     ]
    },
    {
     "name": "stdout",
     "output_type": "stream",
     "text": [
      "QueueSize: 25; ProblemNumber: 209\n"
     ]
    },
    {
     "name": "stderr",
     "output_type": "stream",
     "text": [
      "[I 2024-11-19 07:14:40,071] Trial 1260 finished with value: 15.739419876367094 and parameters: {'delta_start': 1322, 'symmetry_breaking': False, 'mip_focus': 1, 'cuts': 2, 'heuristics': 0.2720697425009989, 'presolve': 1}. Best is trial 854 with value: 62.73170731707317.\n"
     ]
    },
    {
     "name": "stdout",
     "output_type": "stream",
     "text": [
      "Study saved to optuna_studies_deterministic/Queue25_Study.pkl\n",
      "Sleeping zZz  zZz  Zzz\n",
      "Study loaded from optuna_studies_deterministic/Queue75_Study.pkl\n",
      "[INFO] Starting from Trial 1099\n",
      "QueueSize: 75; ProblemNumber: 38\n"
     ]
    },
    {
     "name": "stderr",
     "output_type": "stream",
     "text": [
      "[I 2024-11-19 07:14:52,462] Trial 1099 finished with value: -100.0 and parameters: {'delta_start': 2492, 'symmetry_breaking': True, 'mip_focus': 1, 'cuts': 2, 'heuristics': 0.6058262521210984, 'presolve': -1}. Best is trial 908 with value: 23.248006714225767.\n"
     ]
    },
    {
     "name": "stdout",
     "output_type": "stream",
     "text": [
      "QueueSize: 75; ProblemNumber: 32\n"
     ]
    },
    {
     "name": "stderr",
     "output_type": "stream",
     "text": [
      "[I 2024-11-19 07:17:52,930] Trial 1100 finished with value: 9.377217885024839 and parameters: {'delta_start': 2493, 'symmetry_breaking': False, 'mip_focus': 3, 'cuts': 3, 'heuristics': 0.4619779373841493, 'presolve': 1}. Best is trial 908 with value: 23.248006714225767.\n"
     ]
    },
    {
     "name": "stdout",
     "output_type": "stream",
     "text": [
      "Study saved to optuna_studies_deterministic/Queue75_Study.pkl\n",
      "Sleeping zZz  zZz  Zzz\n",
      "Study loaded from optuna_studies_deterministic/Queue25_Study.pkl\n",
      "[INFO] Starting from Trial 1261\n",
      "QueueSize: 25; ProblemNumber: 234\n"
     ]
    },
    {
     "name": "stderr",
     "output_type": "stream",
     "text": [
      "[I 2024-11-19 07:19:21,142] Trial 1261 finished with value: 17.326892109500804 and parameters: {'delta_start': 1805, 'symmetry_breaking': False, 'mip_focus': 2, 'cuts': 1, 'heuristics': 0.3592678535700954, 'presolve': 1}. Best is trial 854 with value: 62.73170731707317.\n"
     ]
    },
    {
     "name": "stdout",
     "output_type": "stream",
     "text": [
      "QueueSize: 25; ProblemNumber: 38\n"
     ]
    },
    {
     "name": "stderr",
     "output_type": "stream",
     "text": [
      "[I 2024-11-19 07:21:19,737] Trial 1262 finished with value: 36.078672403196066 and parameters: {'delta_start': 1303, 'symmetry_breaking': False, 'mip_focus': 3, 'cuts': 2, 'heuristics': 0.8388963757907403, 'presolve': 0}. Best is trial 854 with value: 62.73170731707317.\n"
     ]
    },
    {
     "name": "stdout",
     "output_type": "stream",
     "text": [
      "Study saved to optuna_studies_deterministic/Queue25_Study.pkl\n",
      "Sleeping zZz  zZz  Zzz\n",
      "Study loaded from optuna_studies_deterministic/Queue25_Study.pkl\n",
      "[INFO] Starting from Trial 1263\n",
      "QueueSize: 25; ProblemNumber: 285\n"
     ]
    },
    {
     "name": "stderr",
     "output_type": "stream",
     "text": [
      "[I 2024-11-19 07:23:03,280] Trial 1263 finished with value: 19.471871412169918 and parameters: {'delta_start': 2057, 'symmetry_breaking': False, 'mip_focus': 0, 'cuts': 3, 'heuristics': 0.45891178112323716, 'presolve': 1}. Best is trial 854 with value: 62.73170731707317.\n"
     ]
    },
    {
     "name": "stdout",
     "output_type": "stream",
     "text": [
      "QueueSize: 25; ProblemNumber: 177\n"
     ]
    },
    {
     "name": "stderr",
     "output_type": "stream",
     "text": [
      "[I 2024-11-19 07:24:44,996] Trial 1264 finished with value: 38.095238095238095 and parameters: {'delta_start': 1041, 'symmetry_breaking': False, 'mip_focus': 0, 'cuts': 3, 'heuristics': 0.8002302721510197, 'presolve': 0}. Best is trial 854 with value: 62.73170731707317.\n"
     ]
    },
    {
     "name": "stdout",
     "output_type": "stream",
     "text": [
      "Study saved to optuna_studies_deterministic/Queue25_Study.pkl\n",
      "Sleeping zZz  zZz  Zzz\n",
      "Study loaded from optuna_studies_deterministic/Queue75_Study.pkl\n",
      "[INFO] Starting from Trial 1101\n",
      "QueueSize: 75; ProblemNumber: 44\n"
     ]
    },
    {
     "name": "stderr",
     "output_type": "stream",
     "text": [
      "[I 2024-11-19 07:27:21,989] Trial 1101 finished with value: 15.313966257362482 and parameters: {'delta_start': 2492, 'symmetry_breaking': False, 'mip_focus': 1, 'cuts': 1, 'heuristics': 0.5576814184670105, 'presolve': 1}. Best is trial 908 with value: 23.248006714225767.\n"
     ]
    },
    {
     "name": "stdout",
     "output_type": "stream",
     "text": [
      "QueueSize: 75; ProblemNumber: 93\n"
     ]
    },
    {
     "name": "stderr",
     "output_type": "stream",
     "text": [
      "[I 2024-11-19 07:30:22,416] Trial 1102 finished with value: 18.47405112316034 and parameters: {'delta_start': 2493, 'symmetry_breaking': False, 'mip_focus': 3, 'cuts': 2, 'heuristics': 0.5156042495925431, 'presolve': 1}. Best is trial 908 with value: 23.248006714225767.\n"
     ]
    },
    {
     "name": "stdout",
     "output_type": "stream",
     "text": [
      "Study saved to optuna_studies_deterministic/Queue75_Study.pkl\n",
      "Sleeping zZz  zZz  Zzz\n",
      "Study loaded from optuna_studies_deterministic/Queue25_Study.pkl\n",
      "[INFO] Starting from Trial 1265\n",
      "QueueSize: 25; ProblemNumber: 142\n"
     ]
    },
    {
     "name": "stderr",
     "output_type": "stream",
     "text": [
      "[I 2024-11-19 07:32:16,966] Trial 1265 finished with value: 24.02088772845953 and parameters: {'delta_start': 1808, 'symmetry_breaking': True, 'mip_focus': 1, 'cuts': 0, 'heuristics': 0.6923750140292471, 'presolve': 2}. Best is trial 854 with value: 62.73170731707317.\n"
     ]
    },
    {
     "name": "stdout",
     "output_type": "stream",
     "text": [
      "QueueSize: 25; ProblemNumber: 68\n"
     ]
    },
    {
     "name": "stderr",
     "output_type": "stream",
     "text": [
      "[I 2024-11-19 07:34:20,905] Trial 1266 finished with value: 23.170492446537178 and parameters: {'delta_start': 765, 'symmetry_breaking': False, 'mip_focus': 0, 'cuts': 3, 'heuristics': 0.7564987540857189, 'presolve': 1}. Best is trial 854 with value: 62.73170731707317.\n"
     ]
    },
    {
     "name": "stdout",
     "output_type": "stream",
     "text": [
      "Study saved to optuna_studies_deterministic/Queue25_Study.pkl\n",
      "Sleeping zZz  zZz  Zzz\n",
      "Study loaded from optuna_studies_deterministic/Queue25_Study.pkl\n",
      "[INFO] Starting from Trial 1267\n",
      "QueueSize: 25; ProblemNumber: 162\n"
     ]
    },
    {
     "name": "stderr",
     "output_type": "stream",
     "text": [
      "[I 2024-11-19 07:36:25,579] Trial 1267 finished with value: 21.730850613626746 and parameters: {'delta_start': 2189, 'symmetry_breaking': False, 'mip_focus': 3, 'cuts': 1, 'heuristics': 0.6056495495070968, 'presolve': 1}. Best is trial 854 with value: 62.73170731707317.\n"
     ]
    },
    {
     "name": "stdout",
     "output_type": "stream",
     "text": [
      "QueueSize: 25; ProblemNumber: 245\n"
     ]
    },
    {
     "name": "stderr",
     "output_type": "stream",
     "text": [
      "[I 2024-11-19 07:37:48,215] Trial 1268 finished with value: 28.96638391454602 and parameters: {'delta_start': 2288, 'symmetry_breaking': False, 'mip_focus': 2, 'cuts': 0, 'heuristics': 0.672411038925782, 'presolve': 1}. Best is trial 854 with value: 62.73170731707317.\n"
     ]
    },
    {
     "name": "stdout",
     "output_type": "stream",
     "text": [
      "Study saved to optuna_studies_deterministic/Queue25_Study.pkl\n",
      "Sleeping zZz  zZz  Zzz\n",
      "Study loaded from optuna_studies_deterministic/Queue75_Study.pkl\n",
      "[INFO] Starting from Trial 1103\n",
      "QueueSize: 75; ProblemNumber: 68\n"
     ]
    },
    {
     "name": "stderr",
     "output_type": "stream",
     "text": [
      "[I 2024-11-19 07:41:01,929] Trial 1103 finished with value: 18.6858504398827 and parameters: {'delta_start': 2493, 'symmetry_breaking': False, 'mip_focus': 3, 'cuts': 2, 'heuristics': 0.3956799930853482, 'presolve': 0}. Best is trial 908 with value: 23.248006714225767.\n"
     ]
    },
    {
     "name": "stdout",
     "output_type": "stream",
     "text": [
      "QueueSize: 75; ProblemNumber: 28\n"
     ]
    },
    {
     "name": "stderr",
     "output_type": "stream",
     "text": [
      "[I 2024-11-19 07:43:39,518] Trial 1104 finished with value: 13.837589467173277 and parameters: {'delta_start': 2495, 'symmetry_breaking': False, 'mip_focus': 1, 'cuts': 2, 'heuristics': 0.43511244974951074, 'presolve': 0}. Best is trial 908 with value: 23.248006714225767.\n"
     ]
    },
    {
     "name": "stdout",
     "output_type": "stream",
     "text": [
      "Study saved to optuna_studies_deterministic/Queue75_Study.pkl\n",
      "Sleeping zZz  zZz  Zzz\n",
      "Study loaded from optuna_studies_deterministic/Queue25_Study.pkl\n",
      "[INFO] Starting from Trial 1269\n",
      "QueueSize: 25; ProblemNumber: 214\n"
     ]
    },
    {
     "name": "stderr",
     "output_type": "stream",
     "text": [
      "[I 2024-11-19 07:45:12,716] Trial 1269 finished with value: 15.814661735914726 and parameters: {'delta_start': 1186, 'symmetry_breaking': True, 'mip_focus': 3, 'cuts': 3, 'heuristics': 0.7618302631283155, 'presolve': 1}. Best is trial 854 with value: 62.73170731707317.\n"
     ]
    },
    {
     "name": "stdout",
     "output_type": "stream",
     "text": [
      "QueueSize: 25; ProblemNumber: 126\n"
     ]
    },
    {
     "name": "stderr",
     "output_type": "stream",
     "text": [
      "[I 2024-11-19 07:47:06,410] Trial 1270 finished with value: 14.0403286034354 and parameters: {'delta_start': 761, 'symmetry_breaking': False, 'mip_focus': 3, 'cuts': 2, 'heuristics': 0.9396095244036883, 'presolve': 0}. Best is trial 854 with value: 62.73170731707317.\n"
     ]
    },
    {
     "name": "stdout",
     "output_type": "stream",
     "text": [
      "Study saved to optuna_studies_deterministic/Queue25_Study.pkl\n",
      "Sleeping zZz  zZz  Zzz\n",
      "Study loaded from optuna_studies_deterministic/Queue25_Study.pkl\n",
      "[INFO] Starting from Trial 1271\n",
      "QueueSize: 25; ProblemNumber: 123\n"
     ]
    },
    {
     "name": "stderr",
     "output_type": "stream",
     "text": [
      "[I 2024-11-19 07:48:53,369] Trial 1271 finished with value: 15.504837509302902 and parameters: {'delta_start': 982, 'symmetry_breaking': True, 'mip_focus': 1, 'cuts': 0, 'heuristics': 0.7800902529236275, 'presolve': 2}. Best is trial 854 with value: 62.73170731707317.\n"
     ]
    },
    {
     "name": "stdout",
     "output_type": "stream",
     "text": [
      "QueueSize: 25; ProblemNumber: 157\n"
     ]
    },
    {
     "name": "stderr",
     "output_type": "stream",
     "text": [
      "[I 2024-11-19 07:50:17,302] Trial 1272 finished with value: 5.833100753558471 and parameters: {'delta_start': 2011, 'symmetry_breaking': True, 'mip_focus': 1, 'cuts': 0, 'heuristics': 0.7632879334315251, 'presolve': 2}. Best is trial 854 with value: 62.73170731707317.\n"
     ]
    },
    {
     "name": "stdout",
     "output_type": "stream",
     "text": [
      "Study saved to optuna_studies_deterministic/Queue25_Study.pkl\n",
      "Sleeping zZz  zZz  Zzz\n",
      "Study loaded from optuna_studies_deterministic/Queue75_Study.pkl\n",
      "[INFO] Starting from Trial 1105\n",
      "QueueSize: 75; ProblemNumber: 35\n"
     ]
    },
    {
     "name": "stderr",
     "output_type": "stream",
     "text": [
      "[I 2024-11-19 07:53:18,438] Trial 1105 finished with value: 11.42356629172045 and parameters: {'delta_start': 2494, 'symmetry_breaking': False, 'mip_focus': 3, 'cuts': 2, 'heuristics': 0.4655121941395874, 'presolve': 1}. Best is trial 908 with value: 23.248006714225767.\n"
     ]
    },
    {
     "name": "stdout",
     "output_type": "stream",
     "text": [
      "QueueSize: 75; ProblemNumber: 6\n"
     ]
    },
    {
     "name": "stderr",
     "output_type": "stream",
     "text": [
      "[I 2024-11-19 07:55:54,835] Trial 1106 finished with value: 8.041098950189859 and parameters: {'delta_start': 2493, 'symmetry_breaking': False, 'mip_focus': 3, 'cuts': 2, 'heuristics': 0.704449833630944, 'presolve': 0}. Best is trial 908 with value: 23.248006714225767.\n"
     ]
    },
    {
     "name": "stdout",
     "output_type": "stream",
     "text": [
      "Study saved to optuna_studies_deterministic/Queue75_Study.pkl\n",
      "Sleeping zZz  zZz  Zzz\n",
      "Study loaded from optuna_studies_deterministic/Queue25_Study.pkl\n",
      "[INFO] Starting from Trial 1273\n",
      "QueueSize: 25; ProblemNumber: 40\n"
     ]
    },
    {
     "name": "stderr",
     "output_type": "stream",
     "text": [
      "[I 2024-11-19 07:57:11,770] Trial 1273 finished with value: 19.070641955412302 and parameters: {'delta_start': 1358, 'symmetry_breaking': False, 'mip_focus': 0, 'cuts': 3, 'heuristics': 0.39318339201476776, 'presolve': 1}. Best is trial 854 with value: 62.73170731707317.\n"
     ]
    },
    {
     "name": "stdout",
     "output_type": "stream",
     "text": [
      "QueueSize: 25; ProblemNumber: 264\n"
     ]
    },
    {
     "name": "stderr",
     "output_type": "stream",
     "text": [
      "[I 2024-11-19 07:58:55,028] Trial 1274 finished with value: 19.296919296919295 and parameters: {'delta_start': 2071, 'symmetry_breaking': False, 'mip_focus': 3, 'cuts': 3, 'heuristics': 0.6047340325851064, 'presolve': 2}. Best is trial 854 with value: 62.73170731707317.\n"
     ]
    },
    {
     "name": "stdout",
     "output_type": "stream",
     "text": [
      "Study saved to optuna_studies_deterministic/Queue25_Study.pkl\n",
      "Sleeping zZz  zZz  Zzz\n",
      "Study loaded from optuna_studies_deterministic/Queue25_Study.pkl\n",
      "[INFO] Starting from Trial 1275\n",
      "QueueSize: 25; ProblemNumber: 242\n"
     ]
    },
    {
     "name": "stderr",
     "output_type": "stream",
     "text": [
      "[I 2024-11-19 07:59:58,932] Trial 1275 finished with value: 26.50691699604743 and parameters: {'delta_start': 776, 'symmetry_breaking': False, 'mip_focus': 3, 'cuts': 0, 'heuristics': 0.3497878346942812, 'presolve': 1}. Best is trial 854 with value: 62.73170731707317.\n"
     ]
    },
    {
     "name": "stdout",
     "output_type": "stream",
     "text": [
      "QueueSize: 25; ProblemNumber: 203\n"
     ]
    },
    {
     "name": "stderr",
     "output_type": "stream",
     "text": [
      "[I 2024-11-19 08:01:49,903] Trial 1276 finished with value: 12.73100616016427 and parameters: {'delta_start': 2074, 'symmetry_breaking': False, 'mip_focus': 0, 'cuts': 1, 'heuristics': 0.7589760563663628, 'presolve': 2}. Best is trial 854 with value: 62.73170731707317.\n"
     ]
    },
    {
     "name": "stdout",
     "output_type": "stream",
     "text": [
      "Study saved to optuna_studies_deterministic/Queue25_Study.pkl\n",
      "Sleeping zZz  zZz  Zzz\n",
      "Study loaded from optuna_studies_deterministic/Queue75_Study.pkl\n",
      "[INFO] Starting from Trial 1107\n",
      "QueueSize: 75; ProblemNumber: 98\n"
     ]
    },
    {
     "name": "stderr",
     "output_type": "stream",
     "text": [
      "[I 2024-11-19 08:05:15,362] Trial 1107 finished with value: 8.89261744966443 and parameters: {'delta_start': 2518, 'symmetry_breaking': True, 'mip_focus': 0, 'cuts': 1, 'heuristics': 0.3423843131805079, 'presolve': 0}. Best is trial 908 with value: 23.248006714225767.\n"
     ]
    },
    {
     "name": "stdout",
     "output_type": "stream",
     "text": [
      "QueueSize: 75; ProblemNumber: 97\n"
     ]
    },
    {
     "name": "stderr",
     "output_type": "stream",
     "text": [
      "[I 2024-11-19 08:08:16,502] Trial 1108 finished with value: 6.131650135256988 and parameters: {'delta_start': 2491, 'symmetry_breaking': False, 'mip_focus': 2, 'cuts': 1, 'heuristics': 0.19619293679745464, 'presolve': 0}. Best is trial 908 with value: 23.248006714225767.\n"
     ]
    },
    {
     "name": "stdout",
     "output_type": "stream",
     "text": [
      "Study saved to optuna_studies_deterministic/Queue75_Study.pkl\n",
      "Sleeping zZz  zZz  Zzz\n",
      "Study loaded from optuna_studies_deterministic/Queue25_Study.pkl\n",
      "[INFO] Starting from Trial 1277\n",
      "QueueSize: 25; ProblemNumber: 94\n"
     ]
    },
    {
     "name": "stderr",
     "output_type": "stream",
     "text": [
      "[I 2024-11-19 08:10:00,000] Trial 1277 finished with value: 26.849733028222733 and parameters: {'delta_start': 1741, 'symmetry_breaking': False, 'mip_focus': 3, 'cuts': 2, 'heuristics': 0.9134781727597931, 'presolve': 1}. Best is trial 854 with value: 62.73170731707317.\n"
     ]
    },
    {
     "name": "stdout",
     "output_type": "stream",
     "text": [
      "QueueSize: 25; ProblemNumber: 254\n"
     ]
    },
    {
     "name": "stderr",
     "output_type": "stream",
     "text": [
      "[I 2024-11-19 08:11:54,220] Trial 1278 finished with value: 24.400537118741607 and parameters: {'delta_start': 735, 'symmetry_breaking': True, 'mip_focus': 2, 'cuts': 0, 'heuristics': 0.43797164354976836, 'presolve': 0}. Best is trial 854 with value: 62.73170731707317.\n"
     ]
    },
    {
     "name": "stdout",
     "output_type": "stream",
     "text": [
      "Study saved to optuna_studies_deterministic/Queue25_Study.pkl\n",
      "Sleeping zZz  zZz  Zzz\n",
      "Study loaded from optuna_studies_deterministic/Queue25_Study.pkl\n",
      "[INFO] Starting from Trial 1279\n",
      "QueueSize: 25; ProblemNumber: 264\n"
     ]
    },
    {
     "name": "stderr",
     "output_type": "stream",
     "text": [
      "[I 2024-11-19 08:13:37,703] Trial 1279 finished with value: 19.296919296919295 and parameters: {'delta_start': 1011, 'symmetry_breaking': True, 'mip_focus': 1, 'cuts': 0, 'heuristics': 0.6316861274413385, 'presolve': 2}. Best is trial 854 with value: 62.73170731707317.\n"
     ]
    },
    {
     "name": "stdout",
     "output_type": "stream",
     "text": [
      "QueueSize: 25; ProblemNumber: 10\n"
     ]
    },
    {
     "name": "stderr",
     "output_type": "stream",
     "text": [
      "[I 2024-11-19 08:14:37,937] Trial 1280 finished with value: 29.15757311217809 and parameters: {'delta_start': 2071, 'symmetry_breaking': False, 'mip_focus': 3, 'cuts': 1, 'heuristics': 0.39848651831949883, 'presolve': -1}. Best is trial 854 with value: 62.73170731707317.\n"
     ]
    },
    {
     "name": "stdout",
     "output_type": "stream",
     "text": [
      "Study saved to optuna_studies_deterministic/Queue25_Study.pkl\n",
      "Sleeping zZz  zZz  Zzz\n",
      "Study loaded from optuna_studies_deterministic/Queue75_Study.pkl\n",
      "[INFO] Starting from Trial 1109\n",
      "QueueSize: 75; ProblemNumber: 42\n"
     ]
    },
    {
     "name": "stderr",
     "output_type": "stream",
     "text": [
      "[I 2024-11-19 08:18:03,473] Trial 1109 finished with value: 6.534117427424624 and parameters: {'delta_start': 2495, 'symmetry_breaking': False, 'mip_focus': 2, 'cuts': 2, 'heuristics': 0.63854161402374, 'presolve': 1}. Best is trial 908 with value: 23.248006714225767.\n"
     ]
    },
    {
     "name": "stdout",
     "output_type": "stream",
     "text": [
      "QueueSize: 75; ProblemNumber: 53\n"
     ]
    },
    {
     "name": "stderr",
     "output_type": "stream",
     "text": [
      "[I 2024-11-19 08:20:40,048] Trial 1110 finished with value: 14.167441074596605 and parameters: {'delta_start': 2493, 'symmetry_breaking': False, 'mip_focus': 2, 'cuts': 2, 'heuristics': 0.4432646872831537, 'presolve': 1}. Best is trial 908 with value: 23.248006714225767.\n"
     ]
    },
    {
     "name": "stdout",
     "output_type": "stream",
     "text": [
      "Study saved to optuna_studies_deterministic/Queue75_Study.pkl\n",
      "Sleeping zZz  zZz  Zzz\n",
      "Study loaded from optuna_studies_deterministic/Queue25_Study.pkl\n",
      "[INFO] Starting from Trial 1281\n",
      "QueueSize: 25; ProblemNumber: 253\n"
     ]
    },
    {
     "name": "stderr",
     "output_type": "stream",
     "text": [
      "[I 2024-11-19 08:22:13,802] Trial 1281 finished with value: 52.54041570438799 and parameters: {'delta_start': 2094, 'symmetry_breaking': False, 'mip_focus': 2, 'cuts': 1, 'heuristics': 0.37481818772477493, 'presolve': -1}. Best is trial 854 with value: 62.73170731707317.\n"
     ]
    },
    {
     "name": "stdout",
     "output_type": "stream",
     "text": [
      "QueueSize: 25; ProblemNumber: 144\n"
     ]
    },
    {
     "name": "stderr",
     "output_type": "stream",
     "text": [
      "[I 2024-11-19 08:23:26,941] Trial 1282 finished with value: 35.41751527494908 and parameters: {'delta_start': 1816, 'symmetry_breaking': False, 'mip_focus': 2, 'cuts': 1, 'heuristics': 0.423450669038267, 'presolve': -1}. Best is trial 854 with value: 62.73170731707317.\n"
     ]
    },
    {
     "name": "stdout",
     "output_type": "stream",
     "text": [
      "Study saved to optuna_studies_deterministic/Queue25_Study.pkl\n",
      "Sleeping zZz  zZz  Zzz\n",
      "Study loaded from optuna_studies_deterministic/Queue25_Study.pkl\n",
      "[INFO] Starting from Trial 1283\n",
      "QueueSize: 25; ProblemNumber: 131\n"
     ]
    },
    {
     "name": "stderr",
     "output_type": "stream",
     "text": [
      "[I 2024-11-19 08:25:10,940] Trial 1283 finished with value: 20.28222409435552 and parameters: {'delta_start': 2666, 'symmetry_breaking': False, 'mip_focus': 1, 'cuts': 1, 'heuristics': 0.4354789881601796, 'presolve': -1}. Best is trial 854 with value: 62.73170731707317.\n"
     ]
    },
    {
     "name": "stdout",
     "output_type": "stream",
     "text": [
      "QueueSize: 25; ProblemNumber: 78\n"
     ]
    },
    {
     "name": "stderr",
     "output_type": "stream",
     "text": [
      "[I 2024-11-19 08:26:24,704] Trial 1284 finished with value: 12.988165680473374 and parameters: {'delta_start': 2595, 'symmetry_breaking': False, 'mip_focus': 2, 'cuts': 1, 'heuristics': 0.5981075151485803, 'presolve': -1}. Best is trial 854 with value: 62.73170731707317.\n"
     ]
    },
    {
     "name": "stdout",
     "output_type": "stream",
     "text": [
      "Study saved to optuna_studies_deterministic/Queue25_Study.pkl\n",
      "Sleeping zZz  zZz  Zzz\n",
      "Study loaded from optuna_studies_deterministic/Queue75_Study.pkl\n",
      "[INFO] Starting from Trial 1111\n",
      "QueueSize: 75; ProblemNumber: 10\n"
     ]
    },
    {
     "name": "stderr",
     "output_type": "stream",
     "text": [
      "[I 2024-11-19 08:29:38,175] Trial 1111 finished with value: 3.930492345883326 and parameters: {'delta_start': 2494, 'symmetry_breaking': False, 'mip_focus': 3, 'cuts': 2, 'heuristics': 0.46068684912264707, 'presolve': 1}. Best is trial 908 with value: 23.248006714225767.\n"
     ]
    },
    {
     "name": "stdout",
     "output_type": "stream",
     "text": [
      "QueueSize: 75; ProblemNumber: 20\n"
     ]
    },
    {
     "name": "stderr",
     "output_type": "stream",
     "text": [
      "[I 2024-11-19 08:32:38,885] Trial 1112 finished with value: 5.76839116159376 and parameters: {'delta_start': 2494, 'symmetry_breaking': False, 'mip_focus': 3, 'cuts': 2, 'heuristics': 0.5473553744713501, 'presolve': 0}. Best is trial 908 with value: 23.248006714225767.\n"
     ]
    },
    {
     "name": "stdout",
     "output_type": "stream",
     "text": [
      "Study saved to optuna_studies_deterministic/Queue75_Study.pkl\n",
      "Sleeping zZz  zZz  Zzz\n",
      "Study loaded from optuna_studies_deterministic/Queue25_Study.pkl\n",
      "[INFO] Starting from Trial 1285\n",
      "QueueSize: 25; ProblemNumber: 14\n"
     ]
    },
    {
     "name": "stderr",
     "output_type": "stream",
     "text": [
      "[I 2024-11-19 08:33:52,948] Trial 1285 finished with value: 19.674185463659146 and parameters: {'delta_start': 1919, 'symmetry_breaking': False, 'mip_focus': 2, 'cuts': 1, 'heuristics': 0.43074893586750196, 'presolve': -1}. Best is trial 854 with value: 62.73170731707317.\n"
     ]
    },
    {
     "name": "stdout",
     "output_type": "stream",
     "text": [
      "QueueSize: 25; ProblemNumber: 125\n"
     ]
    },
    {
     "name": "stderr",
     "output_type": "stream",
     "text": [
      "[I 2024-11-19 08:35:38,642] Trial 1286 finished with value: 30.259605399792317 and parameters: {'delta_start': 2076, 'symmetry_breaking': False, 'mip_focus': 3, 'cuts': 1, 'heuristics': 0.32904598395547674, 'presolve': -1}. Best is trial 854 with value: 62.73170731707317.\n"
     ]
    },
    {
     "name": "stdout",
     "output_type": "stream",
     "text": [
      "Study saved to optuna_studies_deterministic/Queue25_Study.pkl\n",
      "Sleeping zZz  zZz  Zzz\n",
      "Study loaded from optuna_studies_deterministic/Queue25_Study.pkl\n",
      "[INFO] Starting from Trial 1287\n",
      "QueueSize: 25; ProblemNumber: 196\n"
     ]
    },
    {
     "name": "stderr",
     "output_type": "stream",
     "text": [
      "[I 2024-11-19 08:36:56,265] Trial 1287 finished with value: 28.31711369570377 and parameters: {'delta_start': 2398, 'symmetry_breaking': False, 'mip_focus': 1, 'cuts': 0, 'heuristics': 0.31938275700027974, 'presolve': -1}. Best is trial 854 with value: 62.73170731707317.\n"
     ]
    },
    {
     "name": "stdout",
     "output_type": "stream",
     "text": [
      "QueueSize: 25; ProblemNumber: 263\n"
     ]
    },
    {
     "name": "stderr",
     "output_type": "stream",
     "text": [
      "[I 2024-11-19 08:39:00,044] Trial 1288 finished with value: 17.165386170642943 and parameters: {'delta_start': 1262, 'symmetry_breaking': True, 'mip_focus': 2, 'cuts': 0, 'heuristics': 0.9708481185317644, 'presolve': 2}. Best is trial 854 with value: 62.73170731707317.\n"
     ]
    },
    {
     "name": "stdout",
     "output_type": "stream",
     "text": [
      "Study saved to optuna_studies_deterministic/Queue25_Study.pkl\n",
      "Sleeping zZz  zZz  Zzz\n",
      "Study loaded from optuna_studies_deterministic/Queue75_Study.pkl\n",
      "[INFO] Starting from Trial 1113\n",
      "QueueSize: 75; ProblemNumber: 62\n"
     ]
    },
    {
     "name": "stderr",
     "output_type": "stream",
     "text": [
      "[I 2024-11-19 08:42:13,172] Trial 1113 finished with value: 5.0938940739907785 and parameters: {'delta_start': 2674, 'symmetry_breaking': False, 'mip_focus': 1, 'cuts': 2, 'heuristics': 0.7909369065182078, 'presolve': 1}. Best is trial 908 with value: 23.248006714225767.\n"
     ]
    },
    {
     "name": "stdout",
     "output_type": "stream",
     "text": [
      "QueueSize: 75; ProblemNumber: 56\n"
     ]
    },
    {
     "name": "stderr",
     "output_type": "stream",
     "text": [
      "[I 2024-11-19 08:45:25,620] Trial 1114 finished with value: 15.40383014154871 and parameters: {'delta_start': 2492, 'symmetry_breaking': False, 'mip_focus': 3, 'cuts': 3, 'heuristics': 0.6215239217098693, 'presolve': 1}. Best is trial 908 with value: 23.248006714225767.\n"
     ]
    },
    {
     "name": "stdout",
     "output_type": "stream",
     "text": [
      "Study saved to optuna_studies_deterministic/Queue75_Study.pkl\n",
      "Sleeping zZz  zZz  Zzz\n",
      "Study loaded from optuna_studies_deterministic/Queue25_Study.pkl\n",
      "[INFO] Starting from Trial 1289\n",
      "QueueSize: 25; ProblemNumber: 166\n"
     ]
    },
    {
     "name": "stderr",
     "output_type": "stream",
     "text": [
      "[I 2024-11-19 08:47:16,058] Trial 1289 finished with value: 23.63408521303258 and parameters: {'delta_start': 1035, 'symmetry_breaking': True, 'mip_focus': 0, 'cuts': 3, 'heuristics': 0.7486354194463641, 'presolve': -1}. Best is trial 854 with value: 62.73170731707317.\n"
     ]
    },
    {
     "name": "stdout",
     "output_type": "stream",
     "text": [
      "QueueSize: 25; ProblemNumber: 95\n"
     ]
    },
    {
     "name": "stderr",
     "output_type": "stream",
     "text": [
      "[I 2024-11-19 08:48:59,356] Trial 1290 finished with value: 9.456207892204043 and parameters: {'delta_start': 1410, 'symmetry_breaking': False, 'mip_focus': 0, 'cuts': 3, 'heuristics': 0.5282867765099369, 'presolve': 2}. Best is trial 854 with value: 62.73170731707317.\n"
     ]
    },
    {
     "name": "stdout",
     "output_type": "stream",
     "text": [
      "Study saved to optuna_studies_deterministic/Queue25_Study.pkl\n",
      "Sleeping zZz  zZz  Zzz\n",
      "Study loaded from optuna_studies_deterministic/Queue25_Study.pkl\n",
      "[INFO] Starting from Trial 1291\n",
      "QueueSize: 25; ProblemNumber: 216\n"
     ]
    },
    {
     "name": "stderr",
     "output_type": "stream",
     "text": [
      "[I 2024-11-19 08:50:07,820] Trial 1291 finished with value: 20.855172413793102 and parameters: {'delta_start': 2316, 'symmetry_breaking': False, 'mip_focus': 2, 'cuts': 1, 'heuristics': 0.2753939898402654, 'presolve': -1}. Best is trial 854 with value: 62.73170731707317.\n"
     ]
    },
    {
     "name": "stdout",
     "output_type": "stream",
     "text": [
      "QueueSize: 25; ProblemNumber: 148\n"
     ]
    },
    {
     "name": "stderr",
     "output_type": "stream",
     "text": [
      "[I 2024-11-19 08:51:32,768] Trial 1292 finished with value: 11.39662146086129 and parameters: {'delta_start': 746, 'symmetry_breaking': False, 'mip_focus': 0, 'cuts': 3, 'heuristics': 0.7760152423131993, 'presolve': 1}. Best is trial 854 with value: 62.73170731707317.\n"
     ]
    },
    {
     "name": "stdout",
     "output_type": "stream",
     "text": [
      "Study saved to optuna_studies_deterministic/Queue25_Study.pkl\n",
      "Sleeping zZz  zZz  Zzz\n",
      "Study loaded from optuna_studies_deterministic/Queue75_Study.pkl\n",
      "[INFO] Starting from Trial 1115\n",
      "QueueSize: 75; ProblemNumber: 27\n"
     ]
    },
    {
     "name": "stderr",
     "output_type": "stream",
     "text": [
      "[I 2024-11-19 08:54:45,875] Trial 1115 finished with value: 18.17360672026014 and parameters: {'delta_start': 2493, 'symmetry_breaking': False, 'mip_focus': 3, 'cuts': 2, 'heuristics': 0.5812099841601336, 'presolve': 1}. Best is trial 908 with value: 23.248006714225767.\n"
     ]
    },
    {
     "name": "stdout",
     "output_type": "stream",
     "text": [
      "QueueSize: 75; ProblemNumber: 74\n"
     ]
    },
    {
     "name": "stderr",
     "output_type": "stream",
     "text": [
      "[I 2024-11-19 08:57:46,589] Trial 1116 finished with value: 4.915741882449651 and parameters: {'delta_start': 2493, 'symmetry_breaking': False, 'mip_focus': 1, 'cuts': 0, 'heuristics': 0.375827445697027, 'presolve': 2}. Best is trial 908 with value: 23.248006714225767.\n"
     ]
    },
    {
     "name": "stdout",
     "output_type": "stream",
     "text": [
      "Study saved to optuna_studies_deterministic/Queue75_Study.pkl\n",
      "Sleeping zZz  zZz  Zzz\n",
      "Study loaded from optuna_studies_deterministic/Queue25_Study.pkl\n",
      "[INFO] Starting from Trial 1293\n",
      "QueueSize: 25; ProblemNumber: 3\n"
     ]
    },
    {
     "name": "stderr",
     "output_type": "stream",
     "text": [
      "[I 2024-11-19 08:59:40,483] Trial 1293 finished with value: 20.4162976085031 and parameters: {'delta_start': 1786, 'symmetry_breaking': False, 'mip_focus': 0, 'cuts': 3, 'heuristics': 0.5469324326465728, 'presolve': 1}. Best is trial 854 with value: 62.73170731707317.\n"
     ]
    },
    {
     "name": "stdout",
     "output_type": "stream",
     "text": [
      "QueueSize: 25; ProblemNumber: 188\n"
     ]
    },
    {
     "name": "stderr",
     "output_type": "stream",
     "text": [
      "[I 2024-11-19 09:01:34,040] Trial 1294 finished with value: 28.98855407615043 and parameters: {'delta_start': 1402, 'symmetry_breaking': False, 'mip_focus': 0, 'cuts': 3, 'heuristics': 0.3851042803801735, 'presolve': 1}. Best is trial 854 with value: 62.73170731707317.\n"
     ]
    },
    {
     "name": "stdout",
     "output_type": "stream",
     "text": [
      "Study saved to optuna_studies_deterministic/Queue25_Study.pkl\n",
      "Sleeping zZz  zZz  Zzz\n",
      "Study loaded from optuna_studies_deterministic/Queue25_Study.pkl\n",
      "[INFO] Starting from Trial 1295\n",
      "QueueSize: 25; ProblemNumber: 188\n"
     ]
    },
    {
     "name": "stderr",
     "output_type": "stream",
     "text": [
      "[I 2024-11-19 09:03:25,680] Trial 1295 finished with value: 28.98855407615043 and parameters: {'delta_start': 2113, 'symmetry_breaking': False, 'mip_focus': 2, 'cuts': 1, 'heuristics': 0.49372488110177076, 'presolve': -1}. Best is trial 854 with value: 62.73170731707317.\n"
     ]
    },
    {
     "name": "stdout",
     "output_type": "stream",
     "text": [
      "QueueSize: 25; ProblemNumber: 272\n"
     ]
    },
    {
     "name": "stderr",
     "output_type": "stream",
     "text": [
      "[I 2024-11-19 09:05:05,847] Trial 1296 finished with value: 32.826045078019646 and parameters: {'delta_start': 2230, 'symmetry_breaking': False, 'mip_focus': 0, 'cuts': 3, 'heuristics': 0.5686207539799059, 'presolve': 1}. Best is trial 854 with value: 62.73170731707317.\n"
     ]
    },
    {
     "name": "stdout",
     "output_type": "stream",
     "text": [
      "Study saved to optuna_studies_deterministic/Queue25_Study.pkl\n",
      "Sleeping zZz  zZz  Zzz\n",
      "Study loaded from optuna_studies_deterministic/Queue75_Study.pkl\n",
      "[INFO] Starting from Trial 1117\n",
      "QueueSize: 75; ProblemNumber: 95\n"
     ]
    },
    {
     "name": "stderr",
     "output_type": "stream",
     "text": [
      "[I 2024-11-19 09:07:42,955] Trial 1117 finished with value: 7.346981190896809 and parameters: {'delta_start': 2495, 'symmetry_breaking': False, 'mip_focus': 3, 'cuts': 1, 'heuristics': 0.7012513391692927, 'presolve': 1}. Best is trial 908 with value: 23.248006714225767.\n"
     ]
    },
    {
     "name": "stdout",
     "output_type": "stream",
     "text": [
      "QueueSize: 75; ProblemNumber: 12\n"
     ]
    },
    {
     "name": "stderr",
     "output_type": "stream",
     "text": [
      "[I 2024-11-19 09:10:19,636] Trial 1118 finished with value: 7.10776627992056 and parameters: {'delta_start': 2492, 'symmetry_breaking': False, 'mip_focus': 3, 'cuts': 3, 'heuristics': 0.4930767246731568, 'presolve': 1}. Best is trial 908 with value: 23.248006714225767.\n"
     ]
    },
    {
     "name": "stdout",
     "output_type": "stream",
     "text": [
      "Study saved to optuna_studies_deterministic/Queue75_Study.pkl\n",
      "Sleeping zZz  zZz  Zzz\n",
      "Study loaded from optuna_studies_deterministic/Queue25_Study.pkl\n",
      "[INFO] Starting from Trial 1297\n",
      "QueueSize: 25; ProblemNumber: 258\n"
     ]
    },
    {
     "name": "stderr",
     "output_type": "stream",
     "text": [
      "[I 2024-11-19 09:11:45,029] Trial 1297 finished with value: 15.813482007095795 and parameters: {'delta_start': 1916, 'symmetry_breaking': False, 'mip_focus': 2, 'cuts': 2, 'heuristics': 0.36838298041544254, 'presolve': -1}. Best is trial 854 with value: 62.73170731707317.\n"
     ]
    },
    {
     "name": "stdout",
     "output_type": "stream",
     "text": [
      "QueueSize: 25; ProblemNumber: 128\n"
     ]
    },
    {
     "name": "stderr",
     "output_type": "stream",
     "text": [
      "[I 2024-11-19 09:13:28,482] Trial 1298 finished with value: 14.446417998815866 and parameters: {'delta_start': 756, 'symmetry_breaking': False, 'mip_focus': 0, 'cuts': 2, 'heuristics': 0.5957700463680491, 'presolve': 1}. Best is trial 854 with value: 62.73170731707317.\n"
     ]
    },
    {
     "name": "stdout",
     "output_type": "stream",
     "text": [
      "Study saved to optuna_studies_deterministic/Queue25_Study.pkl\n",
      "Sleeping zZz  zZz  Zzz\n",
      "Study loaded from optuna_studies_deterministic/Queue25_Study.pkl\n",
      "[INFO] Starting from Trial 1299\n",
      "QueueSize: 25; ProblemNumber: 93\n"
     ]
    },
    {
     "name": "stderr",
     "output_type": "stream",
     "text": [
      "[I 2024-11-19 09:15:12,182] Trial 1299 finished with value: 14.055727554179567 and parameters: {'delta_start': 1035, 'symmetry_breaking': True, 'mip_focus': 2, 'cuts': 0, 'heuristics': 0.9354328512136038, 'presolve': 2}. Best is trial 854 with value: 62.73170731707317.\n"
     ]
    },
    {
     "name": "stdout",
     "output_type": "stream",
     "text": [
      "QueueSize: 25; ProblemNumber: 218\n"
     ]
    },
    {
     "name": "stderr",
     "output_type": "stream",
     "text": [
      "[I 2024-11-19 09:17:09,255] Trial 1300 finished with value: 26.744778400407537 and parameters: {'delta_start': 2253, 'symmetry_breaking': False, 'mip_focus': 2, 'cuts': 1, 'heuristics': 0.1854290426145613, 'presolve': -1}. Best is trial 854 with value: 62.73170731707317.\n"
     ]
    },
    {
     "name": "stdout",
     "output_type": "stream",
     "text": [
      "Study saved to optuna_studies_deterministic/Queue25_Study.pkl\n",
      "Sleeping zZz  zZz  Zzz\n",
      "Study loaded from optuna_studies_deterministic/Queue75_Study.pkl\n",
      "[INFO] Starting from Trial 1119\n",
      "QueueSize: 75; ProblemNumber: 40\n"
     ]
    },
    {
     "name": "stderr",
     "output_type": "stream",
     "text": [
      "[I 2024-11-19 09:20:35,145] Trial 1119 finished with value: 10.074117417593135 and parameters: {'delta_start': 2496, 'symmetry_breaking': False, 'mip_focus': 1, 'cuts': 0, 'heuristics': 0.5002804197438447, 'presolve': 2}. Best is trial 908 with value: 23.248006714225767.\n"
     ]
    },
    {
     "name": "stdout",
     "output_type": "stream",
     "text": [
      "QueueSize: 75; ProblemNumber: 29\n"
     ]
    },
    {
     "name": "stderr",
     "output_type": "stream",
     "text": [
      "[I 2024-11-19 09:23:47,942] Trial 1120 finished with value: 5.738944745973841 and parameters: {'delta_start': 2493, 'symmetry_breaking': False, 'mip_focus': 3, 'cuts': 2, 'heuristics': 0.6943844002093141, 'presolve': 1}. Best is trial 908 with value: 23.248006714225767.\n"
     ]
    },
    {
     "name": "stdout",
     "output_type": "stream",
     "text": [
      "Study saved to optuna_studies_deterministic/Queue75_Study.pkl\n",
      "Sleeping zZz  zZz  Zzz\n",
      "Study loaded from optuna_studies_deterministic/Queue25_Study.pkl\n",
      "[INFO] Starting from Trial 1301\n",
      "QueueSize: 25; ProblemNumber: 161\n"
     ]
    },
    {
     "name": "stderr",
     "output_type": "stream",
     "text": [
      "[I 2024-11-19 09:25:26,107] Trial 1301 finished with value: 10.928346101847678 and parameters: {'delta_start': 1708, 'symmetry_breaking': False, 'mip_focus': 0, 'cuts': 2, 'heuristics': 0.43651758184894185, 'presolve': 1}. Best is trial 854 with value: 62.73170731707317.\n"
     ]
    },
    {
     "name": "stdout",
     "output_type": "stream",
     "text": [
      "QueueSize: 25; ProblemNumber: 158\n"
     ]
    },
    {
     "name": "stderr",
     "output_type": "stream",
     "text": [
      "[I 2024-11-19 09:26:48,764] Trial 1302 finished with value: 17.1875 and parameters: {'delta_start': 748, 'symmetry_breaking': True, 'mip_focus': 2, 'cuts': 0, 'heuristics': 0.8446016016290423, 'presolve': 2}. Best is trial 854 with value: 62.73170731707317.\n"
     ]
    },
    {
     "name": "stdout",
     "output_type": "stream",
     "text": [
      "Study saved to optuna_studies_deterministic/Queue25_Study.pkl\n",
      "Sleeping zZz  zZz  Zzz\n",
      "Study loaded from optuna_studies_deterministic/Queue25_Study.pkl\n",
      "[INFO] Starting from Trial 1303\n",
      "QueueSize: 25; ProblemNumber: 295\n"
     ]
    },
    {
     "name": "stderr",
     "output_type": "stream",
     "text": [
      "[I 2024-11-19 09:28:11,753] Trial 1303 finished with value: 21.154436598096407 and parameters: {'delta_start': 1382, 'symmetry_breaking': False, 'mip_focus': 0, 'cuts': 3, 'heuristics': 0.24515019916963998, 'presolve': 1}. Best is trial 854 with value: 62.73170731707317.\n"
     ]
    },
    {
     "name": "stdout",
     "output_type": "stream",
     "text": [
      "QueueSize: 25; ProblemNumber: 108\n"
     ]
    },
    {
     "name": "stderr",
     "output_type": "stream",
     "text": [
      "[I 2024-11-19 09:29:28,012] Trial 1304 finished with value: 21.08241082410824 and parameters: {'delta_start': 2214, 'symmetry_breaking': False, 'mip_focus': 2, 'cuts': 0, 'heuristics': 0.4878152247005503, 'presolve': 0}. Best is trial 854 with value: 62.73170731707317.\n"
     ]
    },
    {
     "name": "stdout",
     "output_type": "stream",
     "text": [
      "Study saved to optuna_studies_deterministic/Queue25_Study.pkl\n",
      "Sleeping zZz  zZz  Zzz\n",
      "Study loaded from optuna_studies_deterministic/Queue75_Study.pkl\n",
      "[INFO] Starting from Trial 1121\n",
      "QueueSize: 75; ProblemNumber: 86\n"
     ]
    },
    {
     "name": "stderr",
     "output_type": "stream",
     "text": [
      "[I 2024-11-19 09:32:29,089] Trial 1121 finished with value: 16.003889158969372 and parameters: {'delta_start': 2495, 'symmetry_breaking': False, 'mip_focus': 0, 'cuts': 3, 'heuristics': 0.5694227022214464, 'presolve': 2}. Best is trial 908 with value: 23.248006714225767.\n"
     ]
    },
    {
     "name": "stdout",
     "output_type": "stream",
     "text": [
      "QueueSize: 75; ProblemNumber: 97\n"
     ]
    },
    {
     "name": "stderr",
     "output_type": "stream",
     "text": [
      "[I 2024-11-19 09:35:29,656] Trial 1122 finished with value: 5.5405270013024746 and parameters: {'delta_start': 2494, 'symmetry_breaking': False, 'mip_focus': 3, 'cuts': 2, 'heuristics': 0.49287788154684464, 'presolve': 0}. Best is trial 908 with value: 23.248006714225767.\n"
     ]
    },
    {
     "name": "stdout",
     "output_type": "stream",
     "text": [
      "Study saved to optuna_studies_deterministic/Queue75_Study.pkl\n",
      "Sleeping zZz  zZz  Zzz\n",
      "Study loaded from optuna_studies_deterministic/Queue25_Study.pkl\n",
      "[INFO] Starting from Trial 1305\n",
      "QueueSize: 25; ProblemNumber: 282\n"
     ]
    },
    {
     "name": "stderr",
     "output_type": "stream",
     "text": [
      "[I 2024-11-19 09:37:14,551] Trial 1305 finished with value: 13.849509269356597 and parameters: {'delta_start': 1193, 'symmetry_breaking': True, 'mip_focus': 1, 'cuts': 0, 'heuristics': 0.6984588291567491, 'presolve': 2}. Best is trial 854 with value: 62.73170731707317.\n"
     ]
    },
    {
     "name": "stdout",
     "output_type": "stream",
     "text": [
      "QueueSize: 25; ProblemNumber: 152\n"
     ]
    },
    {
     "name": "stderr",
     "output_type": "stream",
     "text": [
      "[I 2024-11-19 09:38:50,987] Trial 1306 finished with value: 22.602739726027394 and parameters: {'delta_start': 1427, 'symmetry_breaking': False, 'mip_focus': 2, 'cuts': 1, 'heuristics': 0.3283360880526636, 'presolve': -1}. Best is trial 854 with value: 62.73170731707317.\n"
     ]
    },
    {
     "name": "stdout",
     "output_type": "stream",
     "text": [
      "Study saved to optuna_studies_deterministic/Queue25_Study.pkl\n",
      "Sleeping zZz  zZz  Zzz\n",
      "Study loaded from optuna_studies_deterministic/Queue25_Study.pkl\n",
      "[INFO] Starting from Trial 1307\n",
      "QueueSize: 25; ProblemNumber: 287\n"
     ]
    },
    {
     "name": "stderr",
     "output_type": "stream",
     "text": [
      "[I 2024-11-19 09:40:26,440] Trial 1307 finished with value: 23.499895463098476 and parameters: {'delta_start': 2831, 'symmetry_breaking': False, 'mip_focus': 1, 'cuts': 2, 'heuristics': 0.40866286303112026, 'presolve': 2}. Best is trial 854 with value: 62.73170731707317.\n"
     ]
    },
    {
     "name": "stdout",
     "output_type": "stream",
     "text": [
      "QueueSize: 25; ProblemNumber: 30\n"
     ]
    },
    {
     "name": "stderr",
     "output_type": "stream",
     "text": [
      "[I 2024-11-19 09:42:19,892] Trial 1308 finished with value: 18.926678445229683 and parameters: {'delta_start': 966, 'symmetry_breaking': False, 'mip_focus': 3, 'cuts': 3, 'heuristics': 0.8862581466771836, 'presolve': 1}. Best is trial 854 with value: 62.73170731707317.\n"
     ]
    },
    {
     "name": "stdout",
     "output_type": "stream",
     "text": [
      "Study saved to optuna_studies_deterministic/Queue25_Study.pkl\n",
      "Sleeping zZz  zZz  Zzz\n",
      "Study loaded from optuna_studies_deterministic/Queue75_Study.pkl\n",
      "[INFO] Starting from Trial 1123\n",
      "QueueSize: 75; ProblemNumber: 78\n"
     ]
    },
    {
     "name": "stderr",
     "output_type": "stream",
     "text": [
      "[I 2024-11-19 09:44:56,945] Trial 1123 finished with value: 16.151202749140893 and parameters: {'delta_start': 2492, 'symmetry_breaking': False, 'mip_focus': 0, 'cuts': 0, 'heuristics': 0.6459613823815376, 'presolve': 1}. Best is trial 908 with value: 23.248006714225767.\n"
     ]
    },
    {
     "name": "stdout",
     "output_type": "stream",
     "text": [
      "QueueSize: 75; ProblemNumber: 11\n"
     ]
    },
    {
     "name": "stderr",
     "output_type": "stream",
     "text": [
      "[I 2024-11-19 09:47:46,009] Trial 1124 finished with value: 9.963731613943178 and parameters: {'delta_start': 2493, 'symmetry_breaking': False, 'mip_focus': 3, 'cuts': 2, 'heuristics': 0.48698649451370546, 'presolve': 1}. Best is trial 908 with value: 23.248006714225767.\n"
     ]
    },
    {
     "name": "stdout",
     "output_type": "stream",
     "text": [
      "Study saved to optuna_studies_deterministic/Queue75_Study.pkl\n",
      "Sleeping zZz  zZz  Zzz\n",
      "Study loaded from optuna_studies_deterministic/Queue25_Study.pkl\n",
      "[INFO] Starting from Trial 1309\n",
      "QueueSize: 25; ProblemNumber: 277\n"
     ]
    },
    {
     "name": "stderr",
     "output_type": "stream",
     "text": [
      "[I 2024-11-19 09:48:51,566] Trial 1309 finished with value: 26.74235257016714 and parameters: {'delta_start': 1770, 'symmetry_breaking': True, 'mip_focus': 2, 'cuts': 0, 'heuristics': 0.25346008171876816, 'presolve': 2}. Best is trial 854 with value: 62.73170731707317.\n"
     ]
    },
    {
     "name": "stdout",
     "output_type": "stream",
     "text": [
      "QueueSize: 25; ProblemNumber: 3\n"
     ]
    },
    {
     "name": "stderr",
     "output_type": "stream",
     "text": [
      "[I 2024-11-19 09:50:44,992] Trial 1310 finished with value: 20.4162976085031 and parameters: {'delta_start': 1573, 'symmetry_breaking': True, 'mip_focus': 1, 'cuts': 2, 'heuristics': 0.8614183125146395, 'presolve': 0}. Best is trial 854 with value: 62.73170731707317.\n"
     ]
    },
    {
     "name": "stdout",
     "output_type": "stream",
     "text": [
      "Study saved to optuna_studies_deterministic/Queue25_Study.pkl\n",
      "Sleeping zZz  zZz  Zzz\n",
      "Study loaded from optuna_studies_deterministic/Queue25_Study.pkl\n",
      "[INFO] Starting from Trial 1311\n",
      "QueueSize: 25; ProblemNumber: 83\n"
     ]
    },
    {
     "name": "stderr",
     "output_type": "stream",
     "text": [
      "[I 2024-11-19 09:51:58,531] Trial 1311 finished with value: 37.3237997957099 and parameters: {'delta_start': 1952, 'symmetry_breaking': False, 'mip_focus': 0, 'cuts': 3, 'heuristics': 0.5420533985302421, 'presolve': 1}. Best is trial 854 with value: 62.73170731707317.\n"
     ]
    },
    {
     "name": "stdout",
     "output_type": "stream",
     "text": [
      "QueueSize: 25; ProblemNumber: 244\n"
     ]
    },
    {
     "name": "stderr",
     "output_type": "stream",
     "text": [
      "[I 2024-11-19 09:53:12,579] Trial 1312 finished with value: 23.667905824039654 and parameters: {'delta_start': 736, 'symmetry_breaking': True, 'mip_focus': 0, 'cuts': 0, 'heuristics': 0.7443824975986121, 'presolve': 2}. Best is trial 854 with value: 62.73170731707317.\n"
     ]
    },
    {
     "name": "stdout",
     "output_type": "stream",
     "text": [
      "Study saved to optuna_studies_deterministic/Queue25_Study.pkl\n",
      "Sleeping zZz  zZz  Zzz\n",
      "Study loaded from optuna_studies_deterministic/Queue75_Study.pkl\n",
      "[INFO] Starting from Trial 1125\n",
      "QueueSize: 75; ProblemNumber: 56\n"
     ]
    },
    {
     "name": "stderr",
     "output_type": "stream",
     "text": [
      "[I 2024-11-19 09:56:25,345] Trial 1125 finished with value: 13.50541215653622 and parameters: {'delta_start': 2493, 'symmetry_breaking': True, 'mip_focus': 3, 'cuts': 3, 'heuristics': 0.431889754215277, 'presolve': 1}. Best is trial 908 with value: 23.248006714225767.\n"
     ]
    },
    {
     "name": "stdout",
     "output_type": "stream",
     "text": [
      "QueueSize: 75; ProblemNumber: 11\n"
     ]
    },
    {
     "name": "stderr",
     "output_type": "stream",
     "text": [
      "[I 2024-11-19 09:59:14,168] Trial 1126 finished with value: 7.8279266572637525 and parameters: {'delta_start': 2491, 'symmetry_breaking': True, 'mip_focus': 2, 'cuts': 2, 'heuristics': 0.48222160013436405, 'presolve': 0}. Best is trial 908 with value: 23.248006714225767.\n"
     ]
    },
    {
     "name": "stdout",
     "output_type": "stream",
     "text": [
      "Study saved to optuna_studies_deterministic/Queue75_Study.pkl\n",
      "Sleeping zZz  zZz  Zzz\n",
      "Study loaded from optuna_studies_deterministic/Queue25_Study.pkl\n",
      "[INFO] Starting from Trial 1313\n",
      "QueueSize: 25; ProblemNumber: 283\n"
     ]
    },
    {
     "name": "stderr",
     "output_type": "stream",
     "text": [
      "[I 2024-11-19 10:00:51,391] Trial 1313 finished with value: 19.211694074654137 and parameters: {'delta_start': 2250, 'symmetry_breaking': False, 'mip_focus': 2, 'cuts': 1, 'heuristics': 0.4229245774247289, 'presolve': 0}. Best is trial 854 with value: 62.73170731707317.\n"
     ]
    },
    {
     "name": "stdout",
     "output_type": "stream",
     "text": [
      "QueueSize: 25; ProblemNumber: 217\n"
     ]
    },
    {
     "name": "stderr",
     "output_type": "stream",
     "text": [
      "[I 2024-11-19 10:02:29,215] Trial 1314 finished with value: 35.49005511622334 and parameters: {'delta_start': 1987, 'symmetry_breaking': False, 'mip_focus': 1, 'cuts': 3, 'heuristics': 0.5798994497155795, 'presolve': 1}. Best is trial 854 with value: 62.73170731707317.\n"
     ]
    },
    {
     "name": "stdout",
     "output_type": "stream",
     "text": [
      "Study saved to optuna_studies_deterministic/Queue25_Study.pkl\n",
      "Sleeping zZz  zZz  Zzz\n",
      "Study loaded from optuna_studies_deterministic/Queue25_Study.pkl\n",
      "[INFO] Starting from Trial 1315\n",
      "QueueSize: 25; ProblemNumber: 258\n"
     ]
    },
    {
     "name": "stderr",
     "output_type": "stream",
     "text": [
      "[I 2024-11-19 10:03:57,089] Trial 1315 finished with value: 15.179929042067917 and parameters: {'delta_start': 748, 'symmetry_breaking': False, 'mip_focus': 3, 'cuts': 1, 'heuristics': 0.5028235748794173, 'presolve': 1}. Best is trial 854 with value: 62.73170731707317.\n"
     ]
    },
    {
     "name": "stdout",
     "output_type": "stream",
     "text": [
      "QueueSize: 25; ProblemNumber: 229\n"
     ]
    },
    {
     "name": "stderr",
     "output_type": "stream",
     "text": [
      "[I 2024-11-19 10:05:30,309] Trial 1316 finished with value: 17.84221525600836 and parameters: {'delta_start': 1497, 'symmetry_breaking': False, 'mip_focus': 3, 'cuts': 3, 'heuristics': 0.79954753632584, 'presolve': 1}. Best is trial 854 with value: 62.73170731707317.\n"
     ]
    },
    {
     "name": "stdout",
     "output_type": "stream",
     "text": [
      "Study saved to optuna_studies_deterministic/Queue25_Study.pkl\n",
      "Sleeping zZz  zZz  Zzz\n",
      "Study loaded from optuna_studies_deterministic/Queue75_Study.pkl\n",
      "[INFO] Starting from Trial 1127\n",
      "QueueSize: 75; ProblemNumber: 77\n"
     ]
    },
    {
     "name": "stderr",
     "output_type": "stream",
     "text": [
      "[I 2024-11-19 10:09:20,043] Trial 1127 finished with value: 5.602296347619519 and parameters: {'delta_start': 2494, 'symmetry_breaking': False, 'mip_focus': 3, 'cuts': 2, 'heuristics': 0.5569896905612481, 'presolve': 1}. Best is trial 908 with value: 23.248006714225767.\n"
     ]
    },
    {
     "name": "stdout",
     "output_type": "stream",
     "text": [
      "QueueSize: 75; ProblemNumber: 75\n"
     ]
    },
    {
     "name": "stderr",
     "output_type": "stream",
     "text": [
      "[I 2024-11-19 10:11:56,344] Trial 1128 finished with value: 8.199173044778746 and parameters: {'delta_start': 2493, 'symmetry_breaking': False, 'mip_focus': 0, 'cuts': 2, 'heuristics': 0.5952746704428434, 'presolve': 2}. Best is trial 908 with value: 23.248006714225767.\n"
     ]
    },
    {
     "name": "stdout",
     "output_type": "stream",
     "text": [
      "Study saved to optuna_studies_deterministic/Queue75_Study.pkl\n",
      "Sleeping zZz  zZz  Zzz\n",
      "Study loaded from optuna_studies_deterministic/Queue25_Study.pkl\n",
      "[INFO] Starting from Trial 1317\n",
      "QueueSize: 25; ProblemNumber: 18\n"
     ]
    },
    {
     "name": "stderr",
     "output_type": "stream",
     "text": [
      "[I 2024-11-19 10:13:15,129] Trial 1317 finished with value: 10.6358042777615 and parameters: {'delta_start': 1799, 'symmetry_breaking': False, 'mip_focus': 0, 'cuts': 3, 'heuristics': 0.5961315240632691, 'presolve': 0}. Best is trial 854 with value: 62.73170731707317.\n"
     ]
    },
    {
     "name": "stdout",
     "output_type": "stream",
     "text": [
      "QueueSize: 25; ProblemNumber: 213\n"
     ]
    },
    {
     "name": "stderr",
     "output_type": "stream",
     "text": [
      "[I 2024-11-19 10:14:58,979] Trial 1318 finished with value: 35.87255081486907 and parameters: {'delta_start': 3000, 'symmetry_breaking': False, 'mip_focus': 2, 'cuts': 0, 'heuristics': 0.526781961267572, 'presolve': -1}. Best is trial 854 with value: 62.73170731707317.\n"
     ]
    },
    {
     "name": "stdout",
     "output_type": "stream",
     "text": [
      "Study saved to optuna_studies_deterministic/Queue25_Study.pkl\n",
      "Sleeping zZz  zZz  Zzz\n",
      "Study loaded from optuna_studies_deterministic/Queue25_Study.pkl\n",
      "[INFO] Starting from Trial 1319\n",
      "QueueSize: 25; ProblemNumber: 266\n"
     ]
    },
    {
     "name": "stderr",
     "output_type": "stream",
     "text": [
      "[I 2024-11-19 10:16:42,500] Trial 1319 finished with value: 29.08859955541442 and parameters: {'delta_start': 1138, 'symmetry_breaking': False, 'mip_focus': 3, 'cuts': 2, 'heuristics': 0.8091406805251751, 'presolve': 1}. Best is trial 854 with value: 62.73170731707317.\n"
     ]
    },
    {
     "name": "stdout",
     "output_type": "stream",
     "text": [
      "QueueSize: 25; ProblemNumber: 178\n"
     ]
    },
    {
     "name": "stderr",
     "output_type": "stream",
     "text": [
      "[I 2024-11-19 10:18:15,544] Trial 1320 finished with value: 20.557261956998683 and parameters: {'delta_start': 1956, 'symmetry_breaking': False, 'mip_focus': 1, 'cuts': 0, 'heuristics': 0.5346328102297262, 'presolve': -1}. Best is trial 854 with value: 62.73170731707317.\n"
     ]
    },
    {
     "name": "stdout",
     "output_type": "stream",
     "text": [
      "Study saved to optuna_studies_deterministic/Queue25_Study.pkl\n",
      "Sleeping zZz  zZz  Zzz\n",
      "Study loaded from optuna_studies_deterministic/Queue75_Study.pkl\n",
      "[INFO] Starting from Trial 1129\n",
      "QueueSize: 75; ProblemNumber: 82\n"
     ]
    },
    {
     "name": "stderr",
     "output_type": "stream",
     "text": [
      "[I 2024-11-19 10:21:16,751] Trial 1129 finished with value: 13.21576543078721 and parameters: {'delta_start': 2493, 'symmetry_breaking': False, 'mip_focus': 3, 'cuts': 1, 'heuristics': 0.6585502681886293, 'presolve': 1}. Best is trial 908 with value: 23.248006714225767.\n"
     ]
    },
    {
     "name": "stdout",
     "output_type": "stream",
     "text": [
      "QueueSize: 75; ProblemNumber: 20\n"
     ]
    },
    {
     "name": "stderr",
     "output_type": "stream",
     "text": [
      "[I 2024-11-19 10:24:17,447] Trial 1130 finished with value: 9.406335965924217 and parameters: {'delta_start': 2492, 'symmetry_breaking': False, 'mip_focus': 0, 'cuts': 0, 'heuristics': 0.7212857035840381, 'presolve': 1}. Best is trial 908 with value: 23.248006714225767.\n"
     ]
    },
    {
     "name": "stdout",
     "output_type": "stream",
     "text": [
      "Study saved to optuna_studies_deterministic/Queue75_Study.pkl\n",
      "Sleeping zZz  zZz  Zzz\n",
      "Study loaded from optuna_studies_deterministic/Queue25_Study.pkl\n",
      "[INFO] Starting from Trial 1321\n",
      "QueueSize: 25; ProblemNumber: 17\n"
     ]
    },
    {
     "name": "stderr",
     "output_type": "stream",
     "text": [
      "[I 2024-11-19 10:25:45,097] Trial 1321 finished with value: 30.447454140236584 and parameters: {'delta_start': 2200, 'symmetry_breaking': False, 'mip_focus': 3, 'cuts': 1, 'heuristics': 0.9048336562542375, 'presolve': 0}. Best is trial 854 with value: 62.73170731707317.\n"
     ]
    },
    {
     "name": "stdout",
     "output_type": "stream",
     "text": [
      "QueueSize: 25; ProblemNumber: 54\n"
     ]
    },
    {
     "name": "stderr",
     "output_type": "stream",
     "text": [
      "[I 2024-11-19 10:27:29,512] Trial 1322 finished with value: 5.992407809110629 and parameters: {'delta_start': 1011, 'symmetry_breaking': False, 'mip_focus': 3, 'cuts': 2, 'heuristics': 0.9718038598059899, 'presolve': 0}. Best is trial 854 with value: 62.73170731707317.\n"
     ]
    },
    {
     "name": "stdout",
     "output_type": "stream",
     "text": [
      "Study saved to optuna_studies_deterministic/Queue25_Study.pkl\n",
      "Sleeping zZz  zZz  Zzz\n",
      "Study loaded from optuna_studies_deterministic/Queue25_Study.pkl\n",
      "[INFO] Starting from Trial 1323\n",
      "QueueSize: 25; ProblemNumber: 167\n"
     ]
    },
    {
     "name": "stderr",
     "output_type": "stream",
     "text": [
      "[I 2024-11-19 10:28:42,501] Trial 1323 finished with value: 31.78867248712783 and parameters: {'delta_start': 1779, 'symmetry_breaking': True, 'mip_focus': 0, 'cuts': 0, 'heuristics': 0.7925993980262858, 'presolve': 2}. Best is trial 854 with value: 62.73170731707317.\n"
     ]
    },
    {
     "name": "stdout",
     "output_type": "stream",
     "text": [
      "QueueSize: 25; ProblemNumber: 200\n"
     ]
    },
    {
     "name": "stderr",
     "output_type": "stream",
     "text": [
      "[I 2024-11-19 10:30:47,328] Trial 1324 finished with value: 15.528478322470955 and parameters: {'delta_start': 1027, 'symmetry_breaking': False, 'mip_focus': 2, 'cuts': 0, 'heuristics': 0.04060277636308339, 'presolve': 0}. Best is trial 854 with value: 62.73170731707317.\n"
     ]
    },
    {
     "name": "stdout",
     "output_type": "stream",
     "text": [
      "Study saved to optuna_studies_deterministic/Queue25_Study.pkl\n",
      "Sleeping zZz  zZz  Zzz\n",
      "Study loaded from optuna_studies_deterministic/Queue75_Study.pkl\n",
      "[INFO] Starting from Trial 1131\n",
      "QueueSize: 75; ProblemNumber: 26\n"
     ]
    },
    {
     "name": "stderr",
     "output_type": "stream",
     "text": [
      "[I 2024-11-19 10:34:01,031] Trial 1131 finished with value: 17.120731479753683 and parameters: {'delta_start': 2703, 'symmetry_breaking': False, 'mip_focus': 3, 'cuts': 2, 'heuristics': 0.5942894615736378, 'presolve': 1}. Best is trial 908 with value: 23.248006714225767.\n"
     ]
    },
    {
     "name": "stdout",
     "output_type": "stream",
     "text": [
      "QueueSize: 75; ProblemNumber: 60\n"
     ]
    }
   ],
   "source": [
    "# deterministic hyperparameter search\n",
    "if __name__ == \"__main__\":\n",
    "    run_combined_AFK_cycle(\n",
    "        study_func=parallel_study,  # Replace with your actual study function\n",
    "        queue_sizes=[25, 25, 75],   # List of QueueSizes to cycle through (balancing out the 25's to be more than 75)\n",
    "        n_trials=2,                 # Number of trials per run\n",
    "        folder=\"optuna_studies_deterministic\",    # Folder to save study results\n",
    "        retry_delay=7,             # Wait 7 seconds on failure\n",
    "        run_delay=0.25                 # Wait 0.25 seconds between successful runs\n",
    "    )"
   ]
  },
  {
   "cell_type": "code",
   "execution_count": null,
   "id": "a8bc17b6-f640-4d33-86c0-f77e724868a1",
   "metadata": {},
   "outputs": [],
   "source": []
  },
  {
   "cell_type": "markdown",
   "id": "eeae2751-c4c6-4a90-8db9-01b37df816d6",
   "metadata": {
    "jp-MarkdownHeadingCollapsed": true
   },
   "source": [
    "#### When choosing `Delta_Start`, notes for Validations and Future Optuna studies\n",
    "\n",
    "- Use the visualization from Main when choosing the validation methodology to avoid wasting time on optimization failures.\n",
    "- When choosing `Delta_Start` for stochastic optimization, change the lowest possible values to reduce the search space and require fewer iterations. It will still fail when more scenarios are involved and there is more variability; however, for robustness, it will also be faster and less of a waste of time for the studies!~"
   ]
  },
  {
   "cell_type": "code",
   "execution_count": null,
   "id": "e1d16578-4a2c-4a99-b84b-65023f234533",
   "metadata": {},
   "outputs": [],
   "source": []
  },
  {
   "cell_type": "markdown",
   "id": "af1cd09e-cb39-4711-a3ad-67a870b02f76",
   "metadata": {
    "jp-MarkdownHeadingCollapsed": true,
    "scrolled": true
   },
   "source": [
    "#### Validating which parameters are the most robust\n",
    "\n",
    "Choose based on the best averages for improvements, ignoring the fails, the idea is that the fails can be easily ignored, even though it is desirable to avoid them in the first place which is what we did.\n",
    "\n",
    "The parameters with the best results across 10 consistent jobs sampled per ProblemSet, will be used."
   ]
  },
  {
   "cell_type": "code",
   "execution_count": 4,
   "id": "742be9c7-b819-4ef5-ad56-b10233ad08dd",
   "metadata": {},
   "outputs": [],
   "source": [
    "# Problem ranges for queue sizes\n",
    "QUEUE_PROBLEM_RANGE = {\n",
    "    25: (1, 300),\n",
    "    75: (1, 100)\n",
    "}\n",
    "\n",
    "# Dictionary to store validation samples\n",
    "validation_samples = {}\n",
    "\n",
    "# Random seed for reproducibility\n",
    "np.random.seed(42)\n",
    "\n",
    "# Sampling percentage\n",
    "sample_size = 10\n",
    "\n",
    "# Generate a shared sample set for both deterministic and stochastic\n",
    "for queue_size, (start, end) in QUEUE_PROBLEM_RANGE.items():\n",
    "    problem_numbers = np.arange(start, end + 1)\n",
    "    np.random.shuffle(problem_numbers) # shuffles the order\n",
    "    validation_samples[queue_size] = problem_numbers[:sample_size]  # draws from the deck of ProblemNumbers per QueueSize\n"
   ]
  },
  {
   "cell_type": "code",
   "execution_count": 5,
   "id": "8e8e4fdc-5251-4d6e-aa5d-59ca2cd58330",
   "metadata": {
    "scrolled": true
   },
   "outputs": [
    {
     "data": {
      "text/plain": [
       "{25: array([204, 267, 153,  10, 234, 227, 197, 110,   6, 176]),\n",
       " 75: array([ 3, 34, 68, 97, 51, 84, 89, 77, 66, 41])}"
      ]
     },
     "execution_count": 5,
     "metadata": {},
     "output_type": "execute_result"
    }
   ],
   "source": [
    "validation_samples"
   ]
  },
  {
   "cell_type": "code",
   "execution_count": 76,
   "id": "27df5f1d-94b3-42ee-b25e-8f22ff858250",
   "metadata": {},
   "outputs": [
    {
     "name": "stdout",
     "output_type": "stream",
     "text": [
      "Table for Top 3 Best Params for Deterministic Optimization Validation\n"
     ]
    },
    {
     "data": {
      "text/html": [
       "<div>\n",
       "<style scoped>\n",
       "    .dataframe tbody tr th:only-of-type {\n",
       "        vertical-align: middle;\n",
       "    }\n",
       "\n",
       "    .dataframe tbody tr th {\n",
       "        vertical-align: top;\n",
       "    }\n",
       "\n",
       "    .dataframe thead th {\n",
       "        text-align: right;\n",
       "    }\n",
       "</style>\n",
       "<table border=\"1\" class=\"dataframe\">\n",
       "  <thead>\n",
       "    <tr style=\"text-align: right;\">\n",
       "      <th></th>\n",
       "      <th>StudyName</th>\n",
       "      <th>QueueSize</th>\n",
       "      <th>TrialNumber</th>\n",
       "      <th>DeltaStart</th>\n",
       "      <th>ObjectiveValue</th>\n",
       "      <th>Hyperparameters</th>\n",
       "      <th>DeltaStart_adjusted</th>\n",
       "    </tr>\n",
       "  </thead>\n",
       "  <tbody>\n",
       "    <tr>\n",
       "      <th>854</th>\n",
       "      <td>Queue25_Study</td>\n",
       "      <td>25</td>\n",
       "      <td>854</td>\n",
       "      <td>2369</td>\n",
       "      <td>62.731707</td>\n",
       "      <td>{'symmetry_breaking': False, 'mip_focus': 1, '...</td>\n",
       "      <td>1291</td>\n",
       "    </tr>\n",
       "    <tr>\n",
       "      <th>973</th>\n",
       "      <td>Queue25_Study</td>\n",
       "      <td>25</td>\n",
       "      <td>973</td>\n",
       "      <td>2705</td>\n",
       "      <td>62.731707</td>\n",
       "      <td>{'symmetry_breaking': False, 'mip_focus': 2, '...</td>\n",
       "      <td>1291</td>\n",
       "    </tr>\n",
       "    <tr>\n",
       "      <th>698</th>\n",
       "      <td>Queue25_Study</td>\n",
       "      <td>25</td>\n",
       "      <td>698</td>\n",
       "      <td>1291</td>\n",
       "      <td>62.390244</td>\n",
       "      <td>{'symmetry_breaking': True, 'mip_focus': 2, 'c...</td>\n",
       "      <td>1291</td>\n",
       "    </tr>\n",
       "    <tr>\n",
       "      <th>2121</th>\n",
       "      <td>Queue75_Study</td>\n",
       "      <td>75</td>\n",
       "      <td>796</td>\n",
       "      <td>2509</td>\n",
       "      <td>22.071674</td>\n",
       "      <td>{'symmetry_breaking': False, 'mip_focus': 1, '...</td>\n",
       "      <td>2509</td>\n",
       "    </tr>\n",
       "    <tr>\n",
       "      <th>2334</th>\n",
       "      <td>Queue75_Study</td>\n",
       "      <td>75</td>\n",
       "      <td>1009</td>\n",
       "      <td>2725</td>\n",
       "      <td>21.955518</td>\n",
       "      <td>{'symmetry_breaking': True, 'mip_focus': 0, 'c...</td>\n",
       "      <td>2509</td>\n",
       "    </tr>\n",
       "    <tr>\n",
       "      <th>2046</th>\n",
       "      <td>Queue75_Study</td>\n",
       "      <td>75</td>\n",
       "      <td>721</td>\n",
       "      <td>2875</td>\n",
       "      <td>21.930340</td>\n",
       "      <td>{'symmetry_breaking': False, 'mip_focus': 1, '...</td>\n",
       "      <td>2509</td>\n",
       "    </tr>\n",
       "  </tbody>\n",
       "</table>\n",
       "</div>"
      ],
      "text/plain": [
       "          StudyName  QueueSize  TrialNumber  DeltaStart  ObjectiveValue  \\\n",
       "854   Queue25_Study         25          854        2369       62.731707   \n",
       "973   Queue25_Study         25          973        2705       62.731707   \n",
       "698   Queue25_Study         25          698        1291       62.390244   \n",
       "2121  Queue75_Study         75          796        2509       22.071674   \n",
       "2334  Queue75_Study         75         1009        2725       21.955518   \n",
       "2046  Queue75_Study         75          721        2875       21.930340   \n",
       "\n",
       "                                        Hyperparameters  DeltaStart_adjusted  \n",
       "854   {'symmetry_breaking': False, 'mip_focus': 1, '...                 1291  \n",
       "973   {'symmetry_breaking': False, 'mip_focus': 2, '...                 1291  \n",
       "698   {'symmetry_breaking': True, 'mip_focus': 2, 'c...                 1291  \n",
       "2121  {'symmetry_breaking': False, 'mip_focus': 1, '...                 2509  \n",
       "2334  {'symmetry_breaking': True, 'mip_focus': 0, 'c...                 2509  \n",
       "2046  {'symmetry_breaking': False, 'mip_focus': 1, '...                 2509  "
      ]
     },
     "metadata": {},
     "output_type": "display_data"
    }
   ],
   "source": [
    "# ### (Do not run again, already ran)\n",
    "\n",
    "# import pandas as pd\n",
    "# import pickle\n",
    "# import os\n",
    "\n",
    "# # Define minimum delta_start for each queue size\n",
    "# delta_start_min_by_queue_size = {\n",
    "#     25: 646,\n",
    "#     75: 2495\n",
    "# }\n",
    "\n",
    "# # Load studies function\n",
    "# def load_study(folder, name):\n",
    "#     with open(os.path.join(folder, f\"{name}.pkl\"), \"rb\") as f:\n",
    "#         return pickle.load(f)\n",
    "\n",
    "# # Load studies\n",
    "# folder_path = \"optuna_studies_deterministic\"\n",
    "# study_names = [\"Queue25_Study\", \"Queue75_Study\"]\n",
    "# studies = {name: load_study(folder_path, name) for name in study_names}\n",
    "\n",
    "# # Extract trial data into a Pandas DataFrame\n",
    "# all_trials_data = []\n",
    "# for study_name, study in studies.items():\n",
    "#     queue_size = int(study_name.split(\"Queue\")[1].split(\"_\")[0])\n",
    "#     delta_start_min = delta_start_min_by_queue_size.get(queue_size, 0)\n",
    "\n",
    "#     for trial in study.get_trials(deepcopy=False, states=[optuna.trial.TrialState.COMPLETE]):\n",
    "#         # Exclude 'delta_start' from the hyperparameters\n",
    "#         hyperparameters = {k: v for k, v in trial.params.items() if k != \"delta_start\"}\n",
    "#         all_trials_data.append({\n",
    "#             \"StudyName\": study_name,\n",
    "#             \"QueueSize\": queue_size,\n",
    "#             \"TrialNumber\": trial.number,\n",
    "#             \"DeltaStart\": trial.params.get(\"delta_start\", 0),\n",
    "#             \"ObjectiveValue\": trial.values[0] if trial.values else None,\n",
    "#             \"Hyperparameters\": hyperparameters  # Store hyperparameters as a dict\n",
    "#         })\n",
    "\n",
    "# # Convert to DataFrame\n",
    "# trials_df = pd.DataFrame(all_trials_data)\n",
    "\n",
    "# # Filter by delta_start_min and valid ObjectiveValue\n",
    "# filtered_trials_df = trials_df[\n",
    "#     (trials_df[\"DeltaStart\"] > trials_df[\"QueueSize\"].map(delta_start_min_by_queue_size))\n",
    "# ]\n",
    "\n",
    "# # Sort and group by queue size\n",
    "# sorted_trials_df = (\n",
    "#     filtered_trials_df.sort_values(by=[\"QueueSize\", \"ObjectiveValue\"], ascending=[True, False])\n",
    "# )\n",
    "\n",
    "# # Select top 3 rows per StudyName (Deterministic)\n",
    "# print(f\"Table for Top 3 Best Params for Deterministic Optimization Validation\")\n",
    "# top_3_per_study = sorted_trials_df.groupby(\"StudyName\").head(3).copy()\n",
    "# min_delta_start_per_queue = top_3_per_study.groupby(\"QueueSize\")[\"DeltaStart\"].transform(\"min\") # per row\n",
    "# top_3_per_study[\"DeltaStart_adjusted\"] = min_delta_start_per_queue\n",
    "# top_3_per_study[\"Hyperparameters\"] = top_3_per_study.apply(\n",
    "#     lambda row: {**row[\"Hyperparameters\"], \"delta_start\": row[\"DeltaStart_adjusted\"]}, axis=1\n",
    "# )\n",
    "\n",
    "# display(top_3_per_study)\n"
   ]
  },
  {
   "cell_type": "code",
   "execution_count": 75,
   "id": "762f7d7f-5208-45f5-b22a-0b7255b8be83",
   "metadata": {},
   "outputs": [
    {
     "data": {
      "text/plain": [
       "{25: array([204, 267, 153,  10, 234, 227, 197, 110,   6, 176]),\n",
       " 75: array([ 3, 34, 68, 97, 51, 84, 89, 77, 66, 41])}"
      ]
     },
     "execution_count": 75,
     "metadata": {},
     "output_type": "execute_result"
    }
   ],
   "source": []
  },
  {
   "cell_type": "markdown",
   "id": "36831105-861e-4d50-91e9-92f39b1656c3",
   "metadata": {
    "jp-MarkdownHeadingCollapsed": true
   },
   "source": [
    "#### Creating a Run Plan Sequence for Future away from keyboard (AFK) functions\n",
    "\n",
    "This was very time-consuming, so having an AFK function was crucial. It needed to be fault-tolerant and save and load from a pickle file."
   ]
  },
  {
   "cell_type": "code",
   "execution_count": 87,
   "id": "5974f545-298f-483f-9423-cf7b503b736f",
   "metadata": {
    "scrolled": true
   },
   "outputs": [
    {
     "data": {
      "text/html": [
       "<div>\n",
       "<style scoped>\n",
       "    .dataframe tbody tr th:only-of-type {\n",
       "        vertical-align: middle;\n",
       "    }\n",
       "\n",
       "    .dataframe tbody tr th {\n",
       "        vertical-align: top;\n",
       "    }\n",
       "\n",
       "    .dataframe thead th {\n",
       "        text-align: right;\n",
       "    }\n",
       "</style>\n",
       "<table border=\"1\" class=\"dataframe\">\n",
       "  <thead>\n",
       "    <tr style=\"text-align: right;\">\n",
       "      <th></th>\n",
       "      <th>QueueSize</th>\n",
       "      <th>ProblemNumber</th>\n",
       "      <th>Hyperparameters</th>\n",
       "      <th>ObjectiveValue</th>\n",
       "    </tr>\n",
       "  </thead>\n",
       "  <tbody>\n",
       "    <tr>\n",
       "      <th>0</th>\n",
       "      <td>25</td>\n",
       "      <td>204</td>\n",
       "      <td>{'symmetry_breaking': False, 'mip_focus': 1, '...</td>\n",
       "      <td>None</td>\n",
       "    </tr>\n",
       "    <tr>\n",
       "      <th>1</th>\n",
       "      <td>25</td>\n",
       "      <td>204</td>\n",
       "      <td>{'symmetry_breaking': False, 'mip_focus': 2, '...</td>\n",
       "      <td>None</td>\n",
       "    </tr>\n",
       "    <tr>\n",
       "      <th>2</th>\n",
       "      <td>25</td>\n",
       "      <td>204</td>\n",
       "      <td>{'symmetry_breaking': True, 'mip_focus': 2, 'c...</td>\n",
       "      <td>None</td>\n",
       "    </tr>\n",
       "    <tr>\n",
       "      <th>3</th>\n",
       "      <td>25</td>\n",
       "      <td>267</td>\n",
       "      <td>{'symmetry_breaking': False, 'mip_focus': 1, '...</td>\n",
       "      <td>None</td>\n",
       "    </tr>\n",
       "    <tr>\n",
       "      <th>4</th>\n",
       "      <td>25</td>\n",
       "      <td>267</td>\n",
       "      <td>{'symmetry_breaking': False, 'mip_focus': 2, '...</td>\n",
       "      <td>None</td>\n",
       "    </tr>\n",
       "    <tr>\n",
       "      <th>5</th>\n",
       "      <td>25</td>\n",
       "      <td>267</td>\n",
       "      <td>{'symmetry_breaking': True, 'mip_focus': 2, 'c...</td>\n",
       "      <td>None</td>\n",
       "    </tr>\n",
       "    <tr>\n",
       "      <th>6</th>\n",
       "      <td>25</td>\n",
       "      <td>153</td>\n",
       "      <td>{'symmetry_breaking': False, 'mip_focus': 1, '...</td>\n",
       "      <td>None</td>\n",
       "    </tr>\n",
       "    <tr>\n",
       "      <th>7</th>\n",
       "      <td>25</td>\n",
       "      <td>153</td>\n",
       "      <td>{'symmetry_breaking': False, 'mip_focus': 2, '...</td>\n",
       "      <td>None</td>\n",
       "    </tr>\n",
       "    <tr>\n",
       "      <th>8</th>\n",
       "      <td>25</td>\n",
       "      <td>153</td>\n",
       "      <td>{'symmetry_breaking': True, 'mip_focus': 2, 'c...</td>\n",
       "      <td>None</td>\n",
       "    </tr>\n",
       "    <tr>\n",
       "      <th>9</th>\n",
       "      <td>25</td>\n",
       "      <td>10</td>\n",
       "      <td>{'symmetry_breaking': False, 'mip_focus': 1, '...</td>\n",
       "      <td>None</td>\n",
       "    </tr>\n",
       "    <tr>\n",
       "      <th>10</th>\n",
       "      <td>25</td>\n",
       "      <td>10</td>\n",
       "      <td>{'symmetry_breaking': False, 'mip_focus': 2, '...</td>\n",
       "      <td>None</td>\n",
       "    </tr>\n",
       "    <tr>\n",
       "      <th>11</th>\n",
       "      <td>25</td>\n",
       "      <td>10</td>\n",
       "      <td>{'symmetry_breaking': True, 'mip_focus': 2, 'c...</td>\n",
       "      <td>None</td>\n",
       "    </tr>\n",
       "    <tr>\n",
       "      <th>12</th>\n",
       "      <td>25</td>\n",
       "      <td>234</td>\n",
       "      <td>{'symmetry_breaking': False, 'mip_focus': 1, '...</td>\n",
       "      <td>None</td>\n",
       "    </tr>\n",
       "    <tr>\n",
       "      <th>13</th>\n",
       "      <td>25</td>\n",
       "      <td>234</td>\n",
       "      <td>{'symmetry_breaking': False, 'mip_focus': 2, '...</td>\n",
       "      <td>None</td>\n",
       "    </tr>\n",
       "    <tr>\n",
       "      <th>14</th>\n",
       "      <td>25</td>\n",
       "      <td>234</td>\n",
       "      <td>{'symmetry_breaking': True, 'mip_focus': 2, 'c...</td>\n",
       "      <td>None</td>\n",
       "    </tr>\n",
       "    <tr>\n",
       "      <th>15</th>\n",
       "      <td>25</td>\n",
       "      <td>227</td>\n",
       "      <td>{'symmetry_breaking': False, 'mip_focus': 1, '...</td>\n",
       "      <td>None</td>\n",
       "    </tr>\n",
       "    <tr>\n",
       "      <th>16</th>\n",
       "      <td>25</td>\n",
       "      <td>227</td>\n",
       "      <td>{'symmetry_breaking': False, 'mip_focus': 2, '...</td>\n",
       "      <td>None</td>\n",
       "    </tr>\n",
       "    <tr>\n",
       "      <th>17</th>\n",
       "      <td>25</td>\n",
       "      <td>227</td>\n",
       "      <td>{'symmetry_breaking': True, 'mip_focus': 2, 'c...</td>\n",
       "      <td>None</td>\n",
       "    </tr>\n",
       "    <tr>\n",
       "      <th>18</th>\n",
       "      <td>25</td>\n",
       "      <td>197</td>\n",
       "      <td>{'symmetry_breaking': False, 'mip_focus': 1, '...</td>\n",
       "      <td>None</td>\n",
       "    </tr>\n",
       "    <tr>\n",
       "      <th>19</th>\n",
       "      <td>25</td>\n",
       "      <td>197</td>\n",
       "      <td>{'symmetry_breaking': False, 'mip_focus': 2, '...</td>\n",
       "      <td>None</td>\n",
       "    </tr>\n",
       "    <tr>\n",
       "      <th>20</th>\n",
       "      <td>25</td>\n",
       "      <td>197</td>\n",
       "      <td>{'symmetry_breaking': True, 'mip_focus': 2, 'c...</td>\n",
       "      <td>None</td>\n",
       "    </tr>\n",
       "    <tr>\n",
       "      <th>21</th>\n",
       "      <td>25</td>\n",
       "      <td>110</td>\n",
       "      <td>{'symmetry_breaking': False, 'mip_focus': 1, '...</td>\n",
       "      <td>None</td>\n",
       "    </tr>\n",
       "    <tr>\n",
       "      <th>22</th>\n",
       "      <td>25</td>\n",
       "      <td>110</td>\n",
       "      <td>{'symmetry_breaking': False, 'mip_focus': 2, '...</td>\n",
       "      <td>None</td>\n",
       "    </tr>\n",
       "    <tr>\n",
       "      <th>23</th>\n",
       "      <td>25</td>\n",
       "      <td>110</td>\n",
       "      <td>{'symmetry_breaking': True, 'mip_focus': 2, 'c...</td>\n",
       "      <td>None</td>\n",
       "    </tr>\n",
       "    <tr>\n",
       "      <th>24</th>\n",
       "      <td>25</td>\n",
       "      <td>6</td>\n",
       "      <td>{'symmetry_breaking': False, 'mip_focus': 1, '...</td>\n",
       "      <td>None</td>\n",
       "    </tr>\n",
       "    <tr>\n",
       "      <th>25</th>\n",
       "      <td>25</td>\n",
       "      <td>6</td>\n",
       "      <td>{'symmetry_breaking': False, 'mip_focus': 2, '...</td>\n",
       "      <td>None</td>\n",
       "    </tr>\n",
       "    <tr>\n",
       "      <th>26</th>\n",
       "      <td>25</td>\n",
       "      <td>6</td>\n",
       "      <td>{'symmetry_breaking': True, 'mip_focus': 2, 'c...</td>\n",
       "      <td>None</td>\n",
       "    </tr>\n",
       "    <tr>\n",
       "      <th>27</th>\n",
       "      <td>25</td>\n",
       "      <td>176</td>\n",
       "      <td>{'symmetry_breaking': False, 'mip_focus': 1, '...</td>\n",
       "      <td>None</td>\n",
       "    </tr>\n",
       "    <tr>\n",
       "      <th>28</th>\n",
       "      <td>25</td>\n",
       "      <td>176</td>\n",
       "      <td>{'symmetry_breaking': False, 'mip_focus': 2, '...</td>\n",
       "      <td>None</td>\n",
       "    </tr>\n",
       "    <tr>\n",
       "      <th>29</th>\n",
       "      <td>25</td>\n",
       "      <td>176</td>\n",
       "      <td>{'symmetry_breaking': True, 'mip_focus': 2, 'c...</td>\n",
       "      <td>None</td>\n",
       "    </tr>\n",
       "    <tr>\n",
       "      <th>30</th>\n",
       "      <td>75</td>\n",
       "      <td>3</td>\n",
       "      <td>{'symmetry_breaking': False, 'mip_focus': 1, '...</td>\n",
       "      <td>None</td>\n",
       "    </tr>\n",
       "    <tr>\n",
       "      <th>31</th>\n",
       "      <td>75</td>\n",
       "      <td>3</td>\n",
       "      <td>{'symmetry_breaking': True, 'mip_focus': 0, 'c...</td>\n",
       "      <td>None</td>\n",
       "    </tr>\n",
       "    <tr>\n",
       "      <th>32</th>\n",
       "      <td>75</td>\n",
       "      <td>3</td>\n",
       "      <td>{'symmetry_breaking': False, 'mip_focus': 1, '...</td>\n",
       "      <td>None</td>\n",
       "    </tr>\n",
       "    <tr>\n",
       "      <th>33</th>\n",
       "      <td>75</td>\n",
       "      <td>34</td>\n",
       "      <td>{'symmetry_breaking': False, 'mip_focus': 1, '...</td>\n",
       "      <td>None</td>\n",
       "    </tr>\n",
       "    <tr>\n",
       "      <th>34</th>\n",
       "      <td>75</td>\n",
       "      <td>34</td>\n",
       "      <td>{'symmetry_breaking': True, 'mip_focus': 0, 'c...</td>\n",
       "      <td>None</td>\n",
       "    </tr>\n",
       "    <tr>\n",
       "      <th>35</th>\n",
       "      <td>75</td>\n",
       "      <td>34</td>\n",
       "      <td>{'symmetry_breaking': False, 'mip_focus': 1, '...</td>\n",
       "      <td>None</td>\n",
       "    </tr>\n",
       "    <tr>\n",
       "      <th>36</th>\n",
       "      <td>75</td>\n",
       "      <td>68</td>\n",
       "      <td>{'symmetry_breaking': False, 'mip_focus': 1, '...</td>\n",
       "      <td>None</td>\n",
       "    </tr>\n",
       "    <tr>\n",
       "      <th>37</th>\n",
       "      <td>75</td>\n",
       "      <td>68</td>\n",
       "      <td>{'symmetry_breaking': True, 'mip_focus': 0, 'c...</td>\n",
       "      <td>None</td>\n",
       "    </tr>\n",
       "    <tr>\n",
       "      <th>38</th>\n",
       "      <td>75</td>\n",
       "      <td>68</td>\n",
       "      <td>{'symmetry_breaking': False, 'mip_focus': 1, '...</td>\n",
       "      <td>None</td>\n",
       "    </tr>\n",
       "    <tr>\n",
       "      <th>39</th>\n",
       "      <td>75</td>\n",
       "      <td>97</td>\n",
       "      <td>{'symmetry_breaking': False, 'mip_focus': 1, '...</td>\n",
       "      <td>None</td>\n",
       "    </tr>\n",
       "    <tr>\n",
       "      <th>40</th>\n",
       "      <td>75</td>\n",
       "      <td>97</td>\n",
       "      <td>{'symmetry_breaking': True, 'mip_focus': 0, 'c...</td>\n",
       "      <td>None</td>\n",
       "    </tr>\n",
       "    <tr>\n",
       "      <th>41</th>\n",
       "      <td>75</td>\n",
       "      <td>97</td>\n",
       "      <td>{'symmetry_breaking': False, 'mip_focus': 1, '...</td>\n",
       "      <td>None</td>\n",
       "    </tr>\n",
       "    <tr>\n",
       "      <th>42</th>\n",
       "      <td>75</td>\n",
       "      <td>51</td>\n",
       "      <td>{'symmetry_breaking': False, 'mip_focus': 1, '...</td>\n",
       "      <td>None</td>\n",
       "    </tr>\n",
       "    <tr>\n",
       "      <th>43</th>\n",
       "      <td>75</td>\n",
       "      <td>51</td>\n",
       "      <td>{'symmetry_breaking': True, 'mip_focus': 0, 'c...</td>\n",
       "      <td>None</td>\n",
       "    </tr>\n",
       "    <tr>\n",
       "      <th>44</th>\n",
       "      <td>75</td>\n",
       "      <td>51</td>\n",
       "      <td>{'symmetry_breaking': False, 'mip_focus': 1, '...</td>\n",
       "      <td>None</td>\n",
       "    </tr>\n",
       "    <tr>\n",
       "      <th>45</th>\n",
       "      <td>75</td>\n",
       "      <td>84</td>\n",
       "      <td>{'symmetry_breaking': False, 'mip_focus': 1, '...</td>\n",
       "      <td>None</td>\n",
       "    </tr>\n",
       "    <tr>\n",
       "      <th>46</th>\n",
       "      <td>75</td>\n",
       "      <td>84</td>\n",
       "      <td>{'symmetry_breaking': True, 'mip_focus': 0, 'c...</td>\n",
       "      <td>None</td>\n",
       "    </tr>\n",
       "    <tr>\n",
       "      <th>47</th>\n",
       "      <td>75</td>\n",
       "      <td>84</td>\n",
       "      <td>{'symmetry_breaking': False, 'mip_focus': 1, '...</td>\n",
       "      <td>None</td>\n",
       "    </tr>\n",
       "    <tr>\n",
       "      <th>48</th>\n",
       "      <td>75</td>\n",
       "      <td>89</td>\n",
       "      <td>{'symmetry_breaking': False, 'mip_focus': 1, '...</td>\n",
       "      <td>None</td>\n",
       "    </tr>\n",
       "    <tr>\n",
       "      <th>49</th>\n",
       "      <td>75</td>\n",
       "      <td>89</td>\n",
       "      <td>{'symmetry_breaking': True, 'mip_focus': 0, 'c...</td>\n",
       "      <td>None</td>\n",
       "    </tr>\n",
       "    <tr>\n",
       "      <th>50</th>\n",
       "      <td>75</td>\n",
       "      <td>89</td>\n",
       "      <td>{'symmetry_breaking': False, 'mip_focus': 1, '...</td>\n",
       "      <td>None</td>\n",
       "    </tr>\n",
       "    <tr>\n",
       "      <th>51</th>\n",
       "      <td>75</td>\n",
       "      <td>77</td>\n",
       "      <td>{'symmetry_breaking': False, 'mip_focus': 1, '...</td>\n",
       "      <td>None</td>\n",
       "    </tr>\n",
       "    <tr>\n",
       "      <th>52</th>\n",
       "      <td>75</td>\n",
       "      <td>77</td>\n",
       "      <td>{'symmetry_breaking': True, 'mip_focus': 0, 'c...</td>\n",
       "      <td>None</td>\n",
       "    </tr>\n",
       "    <tr>\n",
       "      <th>53</th>\n",
       "      <td>75</td>\n",
       "      <td>77</td>\n",
       "      <td>{'symmetry_breaking': False, 'mip_focus': 1, '...</td>\n",
       "      <td>None</td>\n",
       "    </tr>\n",
       "    <tr>\n",
       "      <th>54</th>\n",
       "      <td>75</td>\n",
       "      <td>66</td>\n",
       "      <td>{'symmetry_breaking': False, 'mip_focus': 1, '...</td>\n",
       "      <td>None</td>\n",
       "    </tr>\n",
       "    <tr>\n",
       "      <th>55</th>\n",
       "      <td>75</td>\n",
       "      <td>66</td>\n",
       "      <td>{'symmetry_breaking': True, 'mip_focus': 0, 'c...</td>\n",
       "      <td>None</td>\n",
       "    </tr>\n",
       "    <tr>\n",
       "      <th>56</th>\n",
       "      <td>75</td>\n",
       "      <td>66</td>\n",
       "      <td>{'symmetry_breaking': False, 'mip_focus': 1, '...</td>\n",
       "      <td>None</td>\n",
       "    </tr>\n",
       "    <tr>\n",
       "      <th>57</th>\n",
       "      <td>75</td>\n",
       "      <td>41</td>\n",
       "      <td>{'symmetry_breaking': False, 'mip_focus': 1, '...</td>\n",
       "      <td>None</td>\n",
       "    </tr>\n",
       "    <tr>\n",
       "      <th>58</th>\n",
       "      <td>75</td>\n",
       "      <td>41</td>\n",
       "      <td>{'symmetry_breaking': True, 'mip_focus': 0, 'c...</td>\n",
       "      <td>None</td>\n",
       "    </tr>\n",
       "    <tr>\n",
       "      <th>59</th>\n",
       "      <td>75</td>\n",
       "      <td>41</td>\n",
       "      <td>{'symmetry_breaking': False, 'mip_focus': 1, '...</td>\n",
       "      <td>None</td>\n",
       "    </tr>\n",
       "  </tbody>\n",
       "</table>\n",
       "</div>"
      ],
      "text/plain": [
       "    QueueSize  ProblemNumber  \\\n",
       "0          25            204   \n",
       "1          25            204   \n",
       "2          25            204   \n",
       "3          25            267   \n",
       "4          25            267   \n",
       "5          25            267   \n",
       "6          25            153   \n",
       "7          25            153   \n",
       "8          25            153   \n",
       "9          25             10   \n",
       "10         25             10   \n",
       "11         25             10   \n",
       "12         25            234   \n",
       "13         25            234   \n",
       "14         25            234   \n",
       "15         25            227   \n",
       "16         25            227   \n",
       "17         25            227   \n",
       "18         25            197   \n",
       "19         25            197   \n",
       "20         25            197   \n",
       "21         25            110   \n",
       "22         25            110   \n",
       "23         25            110   \n",
       "24         25              6   \n",
       "25         25              6   \n",
       "26         25              6   \n",
       "27         25            176   \n",
       "28         25            176   \n",
       "29         25            176   \n",
       "30         75              3   \n",
       "31         75              3   \n",
       "32         75              3   \n",
       "33         75             34   \n",
       "34         75             34   \n",
       "35         75             34   \n",
       "36         75             68   \n",
       "37         75             68   \n",
       "38         75             68   \n",
       "39         75             97   \n",
       "40         75             97   \n",
       "41         75             97   \n",
       "42         75             51   \n",
       "43         75             51   \n",
       "44         75             51   \n",
       "45         75             84   \n",
       "46         75             84   \n",
       "47         75             84   \n",
       "48         75             89   \n",
       "49         75             89   \n",
       "50         75             89   \n",
       "51         75             77   \n",
       "52         75             77   \n",
       "53         75             77   \n",
       "54         75             66   \n",
       "55         75             66   \n",
       "56         75             66   \n",
       "57         75             41   \n",
       "58         75             41   \n",
       "59         75             41   \n",
       "\n",
       "                                      Hyperparameters ObjectiveValue  \n",
       "0   {'symmetry_breaking': False, 'mip_focus': 1, '...           None  \n",
       "1   {'symmetry_breaking': False, 'mip_focus': 2, '...           None  \n",
       "2   {'symmetry_breaking': True, 'mip_focus': 2, 'c...           None  \n",
       "3   {'symmetry_breaking': False, 'mip_focus': 1, '...           None  \n",
       "4   {'symmetry_breaking': False, 'mip_focus': 2, '...           None  \n",
       "5   {'symmetry_breaking': True, 'mip_focus': 2, 'c...           None  \n",
       "6   {'symmetry_breaking': False, 'mip_focus': 1, '...           None  \n",
       "7   {'symmetry_breaking': False, 'mip_focus': 2, '...           None  \n",
       "8   {'symmetry_breaking': True, 'mip_focus': 2, 'c...           None  \n",
       "9   {'symmetry_breaking': False, 'mip_focus': 1, '...           None  \n",
       "10  {'symmetry_breaking': False, 'mip_focus': 2, '...           None  \n",
       "11  {'symmetry_breaking': True, 'mip_focus': 2, 'c...           None  \n",
       "12  {'symmetry_breaking': False, 'mip_focus': 1, '...           None  \n",
       "13  {'symmetry_breaking': False, 'mip_focus': 2, '...           None  \n",
       "14  {'symmetry_breaking': True, 'mip_focus': 2, 'c...           None  \n",
       "15  {'symmetry_breaking': False, 'mip_focus': 1, '...           None  \n",
       "16  {'symmetry_breaking': False, 'mip_focus': 2, '...           None  \n",
       "17  {'symmetry_breaking': True, 'mip_focus': 2, 'c...           None  \n",
       "18  {'symmetry_breaking': False, 'mip_focus': 1, '...           None  \n",
       "19  {'symmetry_breaking': False, 'mip_focus': 2, '...           None  \n",
       "20  {'symmetry_breaking': True, 'mip_focus': 2, 'c...           None  \n",
       "21  {'symmetry_breaking': False, 'mip_focus': 1, '...           None  \n",
       "22  {'symmetry_breaking': False, 'mip_focus': 2, '...           None  \n",
       "23  {'symmetry_breaking': True, 'mip_focus': 2, 'c...           None  \n",
       "24  {'symmetry_breaking': False, 'mip_focus': 1, '...           None  \n",
       "25  {'symmetry_breaking': False, 'mip_focus': 2, '...           None  \n",
       "26  {'symmetry_breaking': True, 'mip_focus': 2, 'c...           None  \n",
       "27  {'symmetry_breaking': False, 'mip_focus': 1, '...           None  \n",
       "28  {'symmetry_breaking': False, 'mip_focus': 2, '...           None  \n",
       "29  {'symmetry_breaking': True, 'mip_focus': 2, 'c...           None  \n",
       "30  {'symmetry_breaking': False, 'mip_focus': 1, '...           None  \n",
       "31  {'symmetry_breaking': True, 'mip_focus': 0, 'c...           None  \n",
       "32  {'symmetry_breaking': False, 'mip_focus': 1, '...           None  \n",
       "33  {'symmetry_breaking': False, 'mip_focus': 1, '...           None  \n",
       "34  {'symmetry_breaking': True, 'mip_focus': 0, 'c...           None  \n",
       "35  {'symmetry_breaking': False, 'mip_focus': 1, '...           None  \n",
       "36  {'symmetry_breaking': False, 'mip_focus': 1, '...           None  \n",
       "37  {'symmetry_breaking': True, 'mip_focus': 0, 'c...           None  \n",
       "38  {'symmetry_breaking': False, 'mip_focus': 1, '...           None  \n",
       "39  {'symmetry_breaking': False, 'mip_focus': 1, '...           None  \n",
       "40  {'symmetry_breaking': True, 'mip_focus': 0, 'c...           None  \n",
       "41  {'symmetry_breaking': False, 'mip_focus': 1, '...           None  \n",
       "42  {'symmetry_breaking': False, 'mip_focus': 1, '...           None  \n",
       "43  {'symmetry_breaking': True, 'mip_focus': 0, 'c...           None  \n",
       "44  {'symmetry_breaking': False, 'mip_focus': 1, '...           None  \n",
       "45  {'symmetry_breaking': False, 'mip_focus': 1, '...           None  \n",
       "46  {'symmetry_breaking': True, 'mip_focus': 0, 'c...           None  \n",
       "47  {'symmetry_breaking': False, 'mip_focus': 1, '...           None  \n",
       "48  {'symmetry_breaking': False, 'mip_focus': 1, '...           None  \n",
       "49  {'symmetry_breaking': True, 'mip_focus': 0, 'c...           None  \n",
       "50  {'symmetry_breaking': False, 'mip_focus': 1, '...           None  \n",
       "51  {'symmetry_breaking': False, 'mip_focus': 1, '...           None  \n",
       "52  {'symmetry_breaking': True, 'mip_focus': 0, 'c...           None  \n",
       "53  {'symmetry_breaking': False, 'mip_focus': 1, '...           None  \n",
       "54  {'symmetry_breaking': False, 'mip_focus': 1, '...           None  \n",
       "55  {'symmetry_breaking': True, 'mip_focus': 0, 'c...           None  \n",
       "56  {'symmetry_breaking': False, 'mip_focus': 1, '...           None  \n",
       "57  {'symmetry_breaking': False, 'mip_focus': 1, '...           None  \n",
       "58  {'symmetry_breaking': True, 'mip_focus': 0, 'c...           None  \n",
       "59  {'symmetry_breaking': False, 'mip_focus': 1, '...           None  "
      ]
     },
     "metadata": {},
     "output_type": "display_data"
    }
   ],
   "source": [
    "# do not run again; already ran\n",
    "\n",
    "# import pandas as pd\n",
    "# import itertools\n",
    "# import pickle\n",
    "\n",
    "# # Generate run plan data\n",
    "# run_plan_data = []\n",
    "\n",
    "# # Iterate over queue sizes and problems\n",
    "# for queue_size, problems in validation_samples.items():\n",
    "#     # Filter top hyperparameters\n",
    "#     top_3_hyperparams = top_3_per_study[top_3_per_study[\"QueueSize\"] == queue_size][\"Hyperparameters\"]\n",
    "    \n",
    "#     # Combine problems and hyperparameters\n",
    "#     for problem_number, hyperparams in itertools.product(problems, top_3_hyperparams):\n",
    "#         run_plan_data.append({\n",
    "#             \"QueueSize\": queue_size,  # Add queue size\n",
    "#             \"ProblemNumber\": problem_number,  # Add problem number\n",
    "#             \"Hyperparameters\": hyperparams,  # Add hyperparameter set\n",
    "#             \"ObjectiveValue\": None  # Placeholder for results\n",
    "#         })\n",
    "\n",
    "# # Convert to DataFrame\n",
    "# run_plan_df = pd.DataFrame(run_plan_data)\n",
    "\n",
    "# # Save run plan\n",
    "# run_plan_file = \"validation_run_plan_deterministic.pkl\"\n",
    "\n",
    "# # with open(run_plan_file, \"wb\") as f:\n",
    "# #     pickle.dump(run_plan_df, f)\n",
    "\n",
    "# # Display the run plan\n",
    "# display(run_plan_df)\n"
   ]
  },
  {
   "cell_type": "code",
   "execution_count": null,
   "id": "074b1282-11ac-44f0-90a0-7de78c411e48",
   "metadata": {},
   "outputs": [],
   "source": []
  },
  {
   "cell_type": "code",
   "execution_count": 101,
   "id": "2b0385bd-9eb3-43fa-ba86-abd345c4bff5",
   "metadata": {
    "scrolled": true
   },
   "outputs": [],
   "source": [
    "### already ran, do not run again!!\n",
    "\n",
    "import pandas as pd\n",
    "import pickle\n",
    "import os\n",
    "import time\n",
    "\n",
    "# def run_VRPsolver_with_plan(run_plan_file, sleep_time=0.25):\n",
    "#     \"\"\"\n",
    "#     Execute solver based on the run plan and save results incrementally to the same file.\n",
    "    \n",
    "#     Args:\n",
    "#         run_plan_file (str): Path to the run plan file (source and destination).\n",
    "#         sleep_time (float): Time to sleep between runs for fault tolerance.\n",
    "#     \"\"\"\n",
    "#     # Load run plan\n",
    "#     with open(run_plan_file, \"rb\") as f:\n",
    "#         run_plan_df = pickle.load(f)\n",
    "\n",
    "#     # Ensure ObjectiveValue column exists\n",
    "#     if \"ObjectiveValue\" not in run_plan_df.columns:\n",
    "#         run_plan_df[\"ObjectiveValue\"] = None\n",
    "\n",
    "#     # Iterate through runs\n",
    "#     for idx, row in run_plan_df.iterrows():\n",
    "#         # Skip already completed runs\n",
    "#         if row[\"ObjectiveValue\"] is not None:\n",
    "#             continue\n",
    "        \n",
    "#         # Extract parameters\n",
    "#         queue_size = row[\"QueueSize\"]\n",
    "#         problem_number = row[\"ProblemNumber\"]\n",
    "#         hyperparams = row[\"Hyperparameters\"]\n",
    "\n",
    "#         print(f\"Running QueueSize: {queue_size}, ProblemNumber: {problem_number}, hyperparams: {hyperparams}\")\n",
    "        \n",
    "#         # Load problem data\n",
    "#         try:\n",
    "#             problem_df, cost_matrix, warm_start_transition_matrix, traditional_SPT_obj_value = load_problem_data(queue_size, problem_number)\n",
    "\n",
    "#             # Instantiate solver\n",
    "#             solver = VRPSolver(\n",
    "#                 cost_matrix=cost_matrix,\n",
    "#                 problem_df=problem_df,\n",
    "#                 problemset_num=queue_size,\n",
    "#                 problem_num=problem_number,\n",
    "#                 warm_start=warm_start_transition_matrix,\n",
    "#                 debug=False,\n",
    "#                 hyperparams={\n",
    "#                     **hyperparams,  # Unpack hyperparameters\n",
    "#                     \"num_threads\": 23,\n",
    "#                 }\n",
    "#             )\n",
    "\n",
    "#             # Solve problem\n",
    "#             solver.iterative_solving()\n",
    "#             solution = solver.get_solution()\n",
    "\n",
    "#             # Scoring\n",
    "#             optimization_algorithm_obj_value = solution[\"objective_value\"]\n",
    "#             if optimization_algorithm_obj_value is None:\n",
    "#                 improvement_relative_percent = -100  # Penalize infeasible solutions\n",
    "#             else:\n",
    "#                 O, T = optimization_algorithm_obj_value, traditional_SPT_obj_value\n",
    "#                 improvement_relative_percent = (T - O) / max(T, 1e-4) * 100  # Avoid divide by zero\n",
    "\n",
    "#             # Store result\n",
    "#             run_plan_df.at[idx, \"ObjectiveValue\"] = improvement_relative_percent\n",
    "\n",
    "#         except Exception as e:\n",
    "#             print(f\"Error on QueueSize: {queue_size}, ProblemNumber: {problem_number} -> {e}\")\n",
    "#             run_plan_df.at[idx, \"ObjectiveValue\"] = None  # Mark as incomplete\n",
    "            \n",
    "#         # Save progress after each iteration\n",
    "#         with open(run_plan_file, \"wb\") as f:\n",
    "#             pickle.dump(run_plan_df, f)\n",
    "\n",
    "#         # Sleep between iterations\n",
    "#         print(\"Saved! Sleeping... ZzzZ Zz...\")\n",
    "#         time.sleep(sleep_time)\n",
    "\n",
    "#     print(\"Run completed. Results saved to run plan file.\")\n",
    "\n",
    "## RUN ONLY ONCE!\n",
    "# run_VRPsolver_with_plan(run_plan_file=\"validation_run_plan_deterministic.pkl\")\n"
   ]
  },
  {
   "cell_type": "code",
   "execution_count": null,
   "id": "717b0b43-8594-46ce-bf93-bc4b74c95194",
   "metadata": {},
   "outputs": [],
   "source": []
  },
  {
   "cell_type": "markdown",
   "id": "343937d5-3218-48fb-9186-a5d0c9fbc641",
   "metadata": {
    "jp-MarkdownHeadingCollapsed": true
   },
   "source": [
    "### Hold-out Testing for Deterministic Optimization\n",
    "\n",
    "- The plan is to take every combination of QueueSize and ProblemData and generate the 25, 75 (1-300, and 1-100 permutations)\n",
    "- These will be where things are stored at a high level, but solutions should also be generated for Deterministic Optimization in the non-training folder for ProblemSet Solutions\n",
    "- Assumes a specific hyperparameter configuration per queue size (best params)\n",
    "\n",
    "Given that the following are the best params for QueueSize, symmetry_breaking as False tends to be better; cuts of 3 or 2 seem to suffice but have less effect than heuristics and mip_focus.\n",
    "- QueueSize: 25, hyperparams: {'symmetry_breaking': False, 'mip_focus': 1, 'cuts': 3, 'heuristics': 0.8706962488000624, 'presolve': 0, 'delta_start': 1291}\n",
    "- QueueSize: 75, hyperparams: {'symmetry_breaking': False, 'mip_focus': 1, 'cuts': 2, 'heuristics': 0.7991870295315516, 'presolve': 1, 'delta_start': 2509}"
   ]
  },
  {
   "cell_type": "code",
   "execution_count": 106,
   "id": "c3bbfab5-3a43-475d-928a-55527cb7da98",
   "metadata": {},
   "outputs": [
    {
     "data": {
      "text/html": [
       "<div>\n",
       "<style scoped>\n",
       "    .dataframe tbody tr th:only-of-type {\n",
       "        vertical-align: middle;\n",
       "    }\n",
       "\n",
       "    .dataframe tbody tr th {\n",
       "        vertical-align: top;\n",
       "    }\n",
       "\n",
       "    .dataframe thead th {\n",
       "        text-align: right;\n",
       "    }\n",
       "</style>\n",
       "<table border=\"1\" class=\"dataframe\">\n",
       "  <thead>\n",
       "    <tr style=\"text-align: right;\">\n",
       "      <th></th>\n",
       "      <th>QueueSize</th>\n",
       "      <th>ProblemNumber</th>\n",
       "      <th>Hyperparameters</th>\n",
       "      <th>ObjectiveValue</th>\n",
       "    </tr>\n",
       "  </thead>\n",
       "  <tbody>\n",
       "    <tr>\n",
       "      <th>0</th>\n",
       "      <td>25</td>\n",
       "      <td>1</td>\n",
       "      <td>{'symmetry_breaking': False, 'mip_focus': 1, '...</td>\n",
       "      <td>None</td>\n",
       "    </tr>\n",
       "    <tr>\n",
       "      <th>1</th>\n",
       "      <td>25</td>\n",
       "      <td>2</td>\n",
       "      <td>{'symmetry_breaking': False, 'mip_focus': 1, '...</td>\n",
       "      <td>None</td>\n",
       "    </tr>\n",
       "    <tr>\n",
       "      <th>2</th>\n",
       "      <td>25</td>\n",
       "      <td>3</td>\n",
       "      <td>{'symmetry_breaking': False, 'mip_focus': 1, '...</td>\n",
       "      <td>None</td>\n",
       "    </tr>\n",
       "    <tr>\n",
       "      <th>3</th>\n",
       "      <td>25</td>\n",
       "      <td>4</td>\n",
       "      <td>{'symmetry_breaking': False, 'mip_focus': 1, '...</td>\n",
       "      <td>None</td>\n",
       "    </tr>\n",
       "    <tr>\n",
       "      <th>4</th>\n",
       "      <td>25</td>\n",
       "      <td>5</td>\n",
       "      <td>{'symmetry_breaking': False, 'mip_focus': 1, '...</td>\n",
       "      <td>None</td>\n",
       "    </tr>\n",
       "    <tr>\n",
       "      <th>...</th>\n",
       "      <td>...</td>\n",
       "      <td>...</td>\n",
       "      <td>...</td>\n",
       "      <td>...</td>\n",
       "    </tr>\n",
       "    <tr>\n",
       "      <th>395</th>\n",
       "      <td>75</td>\n",
       "      <td>96</td>\n",
       "      <td>{'symmetry_breaking': False, 'mip_focus': 1, '...</td>\n",
       "      <td>None</td>\n",
       "    </tr>\n",
       "    <tr>\n",
       "      <th>396</th>\n",
       "      <td>75</td>\n",
       "      <td>97</td>\n",
       "      <td>{'symmetry_breaking': False, 'mip_focus': 1, '...</td>\n",
       "      <td>None</td>\n",
       "    </tr>\n",
       "    <tr>\n",
       "      <th>397</th>\n",
       "      <td>75</td>\n",
       "      <td>98</td>\n",
       "      <td>{'symmetry_breaking': False, 'mip_focus': 1, '...</td>\n",
       "      <td>None</td>\n",
       "    </tr>\n",
       "    <tr>\n",
       "      <th>398</th>\n",
       "      <td>75</td>\n",
       "      <td>99</td>\n",
       "      <td>{'symmetry_breaking': False, 'mip_focus': 1, '...</td>\n",
       "      <td>None</td>\n",
       "    </tr>\n",
       "    <tr>\n",
       "      <th>399</th>\n",
       "      <td>75</td>\n",
       "      <td>100</td>\n",
       "      <td>{'symmetry_breaking': False, 'mip_focus': 1, '...</td>\n",
       "      <td>None</td>\n",
       "    </tr>\n",
       "  </tbody>\n",
       "</table>\n",
       "<p>400 rows × 4 columns</p>\n",
       "</div>"
      ],
      "text/plain": [
       "     QueueSize  ProblemNumber  \\\n",
       "0           25              1   \n",
       "1           25              2   \n",
       "2           25              3   \n",
       "3           25              4   \n",
       "4           25              5   \n",
       "..         ...            ...   \n",
       "395         75             96   \n",
       "396         75             97   \n",
       "397         75             98   \n",
       "398         75             99   \n",
       "399         75            100   \n",
       "\n",
       "                                       Hyperparameters ObjectiveValue  \n",
       "0    {'symmetry_breaking': False, 'mip_focus': 1, '...           None  \n",
       "1    {'symmetry_breaking': False, 'mip_focus': 1, '...           None  \n",
       "2    {'symmetry_breaking': False, 'mip_focus': 1, '...           None  \n",
       "3    {'symmetry_breaking': False, 'mip_focus': 1, '...           None  \n",
       "4    {'symmetry_breaking': False, 'mip_focus': 1, '...           None  \n",
       "..                                                 ...            ...  \n",
       "395  {'symmetry_breaking': False, 'mip_focus': 1, '...           None  \n",
       "396  {'symmetry_breaking': False, 'mip_focus': 1, '...           None  \n",
       "397  {'symmetry_breaking': False, 'mip_focus': 1, '...           None  \n",
       "398  {'symmetry_breaking': False, 'mip_focus': 1, '...           None  \n",
       "399  {'symmetry_breaking': False, 'mip_focus': 1, '...           None  \n",
       "\n",
       "[400 rows x 4 columns]"
      ]
     },
     "metadata": {},
     "output_type": "display_data"
    }
   ],
   "source": [
    "### hold out testing already done, (Do not run again!)\n",
    "\n",
    "import pandas as pd\n",
    "\n",
    "# Define the range for QueueSize and ProblemNumber\n",
    "QUEUE_PROBLEM_RANGE = {\n",
    "    25: (1, 300),\n",
    "    75: (1, 100)\n",
    "}\n",
    "\n",
    "# Define the hyperparameter sets\n",
    "BEST_PARAMS = {\n",
    "    25: {'symmetry_breaking': False, 'mip_focus': 1, 'cuts': 3, 'heuristics': 0.8706962488000624, 'presolve': 0, 'delta_start': 1291},\n",
    "    75: {'symmetry_breaking': False, 'mip_focus': 1, 'cuts': 2, 'heuristics': 0.7991870295315516, 'presolve': 1, 'delta_start': 2509}\n",
    "}\n",
    "\n",
    "# Generate all combinations\n",
    "run_plan_data = []\n",
    "for queue_size, (start, end) in QUEUE_PROBLEM_RANGE.items():\n",
    "    for problem_number in range(start, end + 1):\n",
    "        run_plan_data.append({\n",
    "            \"QueueSize\": queue_size,\n",
    "            \"ProblemNumber\": problem_number,\n",
    "            \"Hyperparameters\": BEST_PARAMS[queue_size],  # Assign hyperparameters based on QueueSize\n",
    "            \"ObjectiveValue\": None  # Placeholder for objective value (percent improvement to Traditional_SPT objective values)\n",
    "        })\n",
    "\n",
    "# Convert to DataFrame\n",
    "holdout_test_plan_deterministic = pd.DataFrame(run_plan_data)\n",
    "\n",
    "# Display the first few rows of the DataFrame for preview\n",
    "display(holdout_test_plan_deterministic)\n",
    "\n",
    "# holdout_test_deterministic_df.to_pickle(f\"holdout_test_plan_deterministic.pkl\") ## COMMENTED OUT BECAUSE DO NOT NEED TO OVERWRITE\n"
   ]
  },
  {
   "cell_type": "code",
   "execution_count": 108,
   "id": "a0d84126-ec23-45a5-8f4f-ae9faf7cf2c4",
   "metadata": {
    "scrolled": true
   },
   "outputs": [
    {
     "name": "stdout",
     "output_type": "stream",
     "text": [
      "Running QueueSize: 25, ProblemNumber: 1, hyperparams: {'symmetry_breaking': False, 'mip_focus': 1, 'cuts': 3, 'heuristics': 0.8706962488000624, 'presolve': 0, 'delta_start': 1291}\n",
      "file_path used:ProblemSets/Queue25\n",
      "Saved! Sleeping... ZzzZ Zz...\n",
      "Running QueueSize: 25, ProblemNumber: 2, hyperparams: {'symmetry_breaking': False, 'mip_focus': 1, 'cuts': 3, 'heuristics': 0.8706962488000624, 'presolve': 0, 'delta_start': 1291}\n",
      "file_path used:ProblemSets/Queue25\n",
      "Saved! Sleeping... ZzzZ Zz...\n",
      "Running QueueSize: 25, ProblemNumber: 3, hyperparams: {'symmetry_breaking': False, 'mip_focus': 1, 'cuts': 3, 'heuristics': 0.8706962488000624, 'presolve': 0, 'delta_start': 1291}\n",
      "file_path used:ProblemSets/Queue25\n",
      "Saved! Sleeping... ZzzZ Zz...\n",
      "Running QueueSize: 25, ProblemNumber: 4, hyperparams: {'symmetry_breaking': False, 'mip_focus': 1, 'cuts': 3, 'heuristics': 0.8706962488000624, 'presolve': 0, 'delta_start': 1291}\n",
      "file_path used:ProblemSets/Queue25\n",
      "Saved! Sleeping... ZzzZ Zz...\n",
      "Running QueueSize: 25, ProblemNumber: 5, hyperparams: {'symmetry_breaking': False, 'mip_focus': 1, 'cuts': 3, 'heuristics': 0.8706962488000624, 'presolve': 0, 'delta_start': 1291}\n",
      "file_path used:ProblemSets/Queue25\n",
      "Saved! Sleeping... ZzzZ Zz...\n",
      "Running QueueSize: 25, ProblemNumber: 6, hyperparams: {'symmetry_breaking': False, 'mip_focus': 1, 'cuts': 3, 'heuristics': 0.8706962488000624, 'presolve': 0, 'delta_start': 1291}\n",
      "file_path used:ProblemSets/Queue25\n",
      "Saved! Sleeping... ZzzZ Zz...\n",
      "Running QueueSize: 25, ProblemNumber: 7, hyperparams: {'symmetry_breaking': False, 'mip_focus': 1, 'cuts': 3, 'heuristics': 0.8706962488000624, 'presolve': 0, 'delta_start': 1291}\n",
      "file_path used:ProblemSets/Queue25\n",
      "Saved! Sleeping... ZzzZ Zz...\n",
      "Running QueueSize: 25, ProblemNumber: 8, hyperparams: {'symmetry_breaking': False, 'mip_focus': 1, 'cuts': 3, 'heuristics': 0.8706962488000624, 'presolve': 0, 'delta_start': 1291}\n",
      "file_path used:ProblemSets/Queue25\n",
      "Saved! Sleeping... ZzzZ Zz...\n",
      "Running QueueSize: 25, ProblemNumber: 9, hyperparams: {'symmetry_breaking': False, 'mip_focus': 1, 'cuts': 3, 'heuristics': 0.8706962488000624, 'presolve': 0, 'delta_start': 1291}\n",
      "file_path used:ProblemSets/Queue25\n",
      "Saved! Sleeping... ZzzZ Zz...\n",
      "Running QueueSize: 25, ProblemNumber: 10, hyperparams: {'symmetry_breaking': False, 'mip_focus': 1, 'cuts': 3, 'heuristics': 0.8706962488000624, 'presolve': 0, 'delta_start': 1291}\n",
      "file_path used:ProblemSets/Queue25\n",
      "Saved! Sleeping... ZzzZ Zz...\n",
      "Running QueueSize: 25, ProblemNumber: 11, hyperparams: {'symmetry_breaking': False, 'mip_focus': 1, 'cuts': 3, 'heuristics': 0.8706962488000624, 'presolve': 0, 'delta_start': 1291}\n",
      "file_path used:ProblemSets/Queue25\n",
      "Saved! Sleeping... ZzzZ Zz...\n",
      "Running QueueSize: 25, ProblemNumber: 12, hyperparams: {'symmetry_breaking': False, 'mip_focus': 1, 'cuts': 3, 'heuristics': 0.8706962488000624, 'presolve': 0, 'delta_start': 1291}\n",
      "file_path used:ProblemSets/Queue25\n",
      "Saved! Sleeping... ZzzZ Zz...\n",
      "Running QueueSize: 25, ProblemNumber: 13, hyperparams: {'symmetry_breaking': False, 'mip_focus': 1, 'cuts': 3, 'heuristics': 0.8706962488000624, 'presolve': 0, 'delta_start': 1291}\n",
      "file_path used:ProblemSets/Queue25\n",
      "Saved! Sleeping... ZzzZ Zz...\n",
      "Running QueueSize: 25, ProblemNumber: 14, hyperparams: {'symmetry_breaking': False, 'mip_focus': 1, 'cuts': 3, 'heuristics': 0.8706962488000624, 'presolve': 0, 'delta_start': 1291}\n",
      "file_path used:ProblemSets/Queue25\n",
      "Saved! Sleeping... ZzzZ Zz...\n",
      "Running QueueSize: 25, ProblemNumber: 15, hyperparams: {'symmetry_breaking': False, 'mip_focus': 1, 'cuts': 3, 'heuristics': 0.8706962488000624, 'presolve': 0, 'delta_start': 1291}\n",
      "file_path used:ProblemSets/Queue25\n",
      "Saved! Sleeping... ZzzZ Zz...\n",
      "Running QueueSize: 25, ProblemNumber: 16, hyperparams: {'symmetry_breaking': False, 'mip_focus': 1, 'cuts': 3, 'heuristics': 0.8706962488000624, 'presolve': 0, 'delta_start': 1291}\n",
      "file_path used:ProblemSets/Queue25\n",
      "Saved! Sleeping... ZzzZ Zz...\n",
      "Running QueueSize: 25, ProblemNumber: 17, hyperparams: {'symmetry_breaking': False, 'mip_focus': 1, 'cuts': 3, 'heuristics': 0.8706962488000624, 'presolve': 0, 'delta_start': 1291}\n",
      "file_path used:ProblemSets/Queue25\n",
      "Saved! Sleeping... ZzzZ Zz...\n",
      "Running QueueSize: 25, ProblemNumber: 18, hyperparams: {'symmetry_breaking': False, 'mip_focus': 1, 'cuts': 3, 'heuristics': 0.8706962488000624, 'presolve': 0, 'delta_start': 1291}\n",
      "file_path used:ProblemSets/Queue25\n",
      "Saved! Sleeping... ZzzZ Zz...\n",
      "Running QueueSize: 25, ProblemNumber: 19, hyperparams: {'symmetry_breaking': False, 'mip_focus': 1, 'cuts': 3, 'heuristics': 0.8706962488000624, 'presolve': 0, 'delta_start': 1291}\n",
      "file_path used:ProblemSets/Queue25\n",
      "Saved! Sleeping... ZzzZ Zz...\n",
      "Running QueueSize: 25, ProblemNumber: 20, hyperparams: {'symmetry_breaking': False, 'mip_focus': 1, 'cuts': 3, 'heuristics': 0.8706962488000624, 'presolve': 0, 'delta_start': 1291}\n",
      "file_path used:ProblemSets/Queue25\n",
      "Saved! Sleeping... ZzzZ Zz...\n",
      "Running QueueSize: 25, ProblemNumber: 21, hyperparams: {'symmetry_breaking': False, 'mip_focus': 1, 'cuts': 3, 'heuristics': 0.8706962488000624, 'presolve': 0, 'delta_start': 1291}\n",
      "file_path used:ProblemSets/Queue25\n",
      "Saved! Sleeping... ZzzZ Zz...\n",
      "Running QueueSize: 25, ProblemNumber: 22, hyperparams: {'symmetry_breaking': False, 'mip_focus': 1, 'cuts': 3, 'heuristics': 0.8706962488000624, 'presolve': 0, 'delta_start': 1291}\n",
      "file_path used:ProblemSets/Queue25\n",
      "Saved! Sleeping... ZzzZ Zz...\n",
      "Running QueueSize: 25, ProblemNumber: 23, hyperparams: {'symmetry_breaking': False, 'mip_focus': 1, 'cuts': 3, 'heuristics': 0.8706962488000624, 'presolve': 0, 'delta_start': 1291}\n",
      "file_path used:ProblemSets/Queue25\n",
      "Saved! Sleeping... ZzzZ Zz...\n",
      "Running QueueSize: 25, ProblemNumber: 24, hyperparams: {'symmetry_breaking': False, 'mip_focus': 1, 'cuts': 3, 'heuristics': 0.8706962488000624, 'presolve': 0, 'delta_start': 1291}\n",
      "file_path used:ProblemSets/Queue25\n",
      "Saved! Sleeping... ZzzZ Zz...\n",
      "Running QueueSize: 25, ProblemNumber: 25, hyperparams: {'symmetry_breaking': False, 'mip_focus': 1, 'cuts': 3, 'heuristics': 0.8706962488000624, 'presolve': 0, 'delta_start': 1291}\n",
      "file_path used:ProblemSets/Queue25\n",
      "Saved! Sleeping... ZzzZ Zz...\n",
      "Running QueueSize: 25, ProblemNumber: 26, hyperparams: {'symmetry_breaking': False, 'mip_focus': 1, 'cuts': 3, 'heuristics': 0.8706962488000624, 'presolve': 0, 'delta_start': 1291}\n",
      "file_path used:ProblemSets/Queue25\n",
      "Saved! Sleeping... ZzzZ Zz...\n",
      "Running QueueSize: 25, ProblemNumber: 27, hyperparams: {'symmetry_breaking': False, 'mip_focus': 1, 'cuts': 3, 'heuristics': 0.8706962488000624, 'presolve': 0, 'delta_start': 1291}\n",
      "file_path used:ProblemSets/Queue25\n",
      "Saved! Sleeping... ZzzZ Zz...\n",
      "Running QueueSize: 25, ProblemNumber: 28, hyperparams: {'symmetry_breaking': False, 'mip_focus': 1, 'cuts': 3, 'heuristics': 0.8706962488000624, 'presolve': 0, 'delta_start': 1291}\n",
      "file_path used:ProblemSets/Queue25\n",
      "Saved! Sleeping... ZzzZ Zz...\n",
      "Running QueueSize: 25, ProblemNumber: 29, hyperparams: {'symmetry_breaking': False, 'mip_focus': 1, 'cuts': 3, 'heuristics': 0.8706962488000624, 'presolve': 0, 'delta_start': 1291}\n",
      "file_path used:ProblemSets/Queue25\n",
      "Saved! Sleeping... ZzzZ Zz...\n",
      "Running QueueSize: 25, ProblemNumber: 30, hyperparams: {'symmetry_breaking': False, 'mip_focus': 1, 'cuts': 3, 'heuristics': 0.8706962488000624, 'presolve': 0, 'delta_start': 1291}\n",
      "file_path used:ProblemSets/Queue25\n",
      "Saved! Sleeping... ZzzZ Zz...\n",
      "Running QueueSize: 25, ProblemNumber: 31, hyperparams: {'symmetry_breaking': False, 'mip_focus': 1, 'cuts': 3, 'heuristics': 0.8706962488000624, 'presolve': 0, 'delta_start': 1291}\n",
      "file_path used:ProblemSets/Queue25\n",
      "Saved! Sleeping... ZzzZ Zz...\n",
      "Running QueueSize: 25, ProblemNumber: 32, hyperparams: {'symmetry_breaking': False, 'mip_focus': 1, 'cuts': 3, 'heuristics': 0.8706962488000624, 'presolve': 0, 'delta_start': 1291}\n",
      "file_path used:ProblemSets/Queue25\n",
      "Saved! Sleeping... ZzzZ Zz...\n",
      "Running QueueSize: 25, ProblemNumber: 33, hyperparams: {'symmetry_breaking': False, 'mip_focus': 1, 'cuts': 3, 'heuristics': 0.8706962488000624, 'presolve': 0, 'delta_start': 1291}\n",
      "file_path used:ProblemSets/Queue25\n",
      "Saved! Sleeping... ZzzZ Zz...\n",
      "Running QueueSize: 25, ProblemNumber: 34, hyperparams: {'symmetry_breaking': False, 'mip_focus': 1, 'cuts': 3, 'heuristics': 0.8706962488000624, 'presolve': 0, 'delta_start': 1291}\n",
      "file_path used:ProblemSets/Queue25\n",
      "Saved! Sleeping... ZzzZ Zz...\n",
      "Running QueueSize: 25, ProblemNumber: 35, hyperparams: {'symmetry_breaking': False, 'mip_focus': 1, 'cuts': 3, 'heuristics': 0.8706962488000624, 'presolve': 0, 'delta_start': 1291}\n",
      "file_path used:ProblemSets/Queue25\n",
      "Saved! Sleeping... ZzzZ Zz...\n",
      "Running QueueSize: 25, ProblemNumber: 36, hyperparams: {'symmetry_breaking': False, 'mip_focus': 1, 'cuts': 3, 'heuristics': 0.8706962488000624, 'presolve': 0, 'delta_start': 1291}\n",
      "file_path used:ProblemSets/Queue25\n",
      "Saved! Sleeping... ZzzZ Zz...\n",
      "Running QueueSize: 25, ProblemNumber: 37, hyperparams: {'symmetry_breaking': False, 'mip_focus': 1, 'cuts': 3, 'heuristics': 0.8706962488000624, 'presolve': 0, 'delta_start': 1291}\n",
      "file_path used:ProblemSets/Queue25\n",
      "Saved! Sleeping... ZzzZ Zz...\n",
      "Running QueueSize: 25, ProblemNumber: 38, hyperparams: {'symmetry_breaking': False, 'mip_focus': 1, 'cuts': 3, 'heuristics': 0.8706962488000624, 'presolve': 0, 'delta_start': 1291}\n",
      "file_path used:ProblemSets/Queue25\n",
      "Saved! Sleeping... ZzzZ Zz...\n",
      "Running QueueSize: 25, ProblemNumber: 39, hyperparams: {'symmetry_breaking': False, 'mip_focus': 1, 'cuts': 3, 'heuristics': 0.8706962488000624, 'presolve': 0, 'delta_start': 1291}\n",
      "file_path used:ProblemSets/Queue25\n",
      "Saved! Sleeping... ZzzZ Zz...\n",
      "Running QueueSize: 25, ProblemNumber: 40, hyperparams: {'symmetry_breaking': False, 'mip_focus': 1, 'cuts': 3, 'heuristics': 0.8706962488000624, 'presolve': 0, 'delta_start': 1291}\n",
      "file_path used:ProblemSets/Queue25\n",
      "Saved! Sleeping... ZzzZ Zz...\n",
      "Running QueueSize: 25, ProblemNumber: 41, hyperparams: {'symmetry_breaking': False, 'mip_focus': 1, 'cuts': 3, 'heuristics': 0.8706962488000624, 'presolve': 0, 'delta_start': 1291}\n",
      "file_path used:ProblemSets/Queue25\n",
      "Saved! Sleeping... ZzzZ Zz...\n",
      "Running QueueSize: 25, ProblemNumber: 42, hyperparams: {'symmetry_breaking': False, 'mip_focus': 1, 'cuts': 3, 'heuristics': 0.8706962488000624, 'presolve': 0, 'delta_start': 1291}\n",
      "file_path used:ProblemSets/Queue25\n",
      "Saved! Sleeping... ZzzZ Zz...\n",
      "Running QueueSize: 25, ProblemNumber: 43, hyperparams: {'symmetry_breaking': False, 'mip_focus': 1, 'cuts': 3, 'heuristics': 0.8706962488000624, 'presolve': 0, 'delta_start': 1291}\n",
      "file_path used:ProblemSets/Queue25\n",
      "Saved! Sleeping... ZzzZ Zz...\n",
      "Running QueueSize: 25, ProblemNumber: 44, hyperparams: {'symmetry_breaking': False, 'mip_focus': 1, 'cuts': 3, 'heuristics': 0.8706962488000624, 'presolve': 0, 'delta_start': 1291}\n",
      "file_path used:ProblemSets/Queue25\n",
      "Saved! Sleeping... ZzzZ Zz...\n",
      "Running QueueSize: 25, ProblemNumber: 45, hyperparams: {'symmetry_breaking': False, 'mip_focus': 1, 'cuts': 3, 'heuristics': 0.8706962488000624, 'presolve': 0, 'delta_start': 1291}\n",
      "file_path used:ProblemSets/Queue25\n",
      "Saved! Sleeping... ZzzZ Zz...\n",
      "Running QueueSize: 25, ProblemNumber: 46, hyperparams: {'symmetry_breaking': False, 'mip_focus': 1, 'cuts': 3, 'heuristics': 0.8706962488000624, 'presolve': 0, 'delta_start': 1291}\n",
      "file_path used:ProblemSets/Queue25\n",
      "Saved! Sleeping... ZzzZ Zz...\n",
      "Running QueueSize: 25, ProblemNumber: 47, hyperparams: {'symmetry_breaking': False, 'mip_focus': 1, 'cuts': 3, 'heuristics': 0.8706962488000624, 'presolve': 0, 'delta_start': 1291}\n",
      "file_path used:ProblemSets/Queue25\n",
      "Saved! Sleeping... ZzzZ Zz...\n",
      "Running QueueSize: 25, ProblemNumber: 48, hyperparams: {'symmetry_breaking': False, 'mip_focus': 1, 'cuts': 3, 'heuristics': 0.8706962488000624, 'presolve': 0, 'delta_start': 1291}\n",
      "file_path used:ProblemSets/Queue25\n",
      "Saved! Sleeping... ZzzZ Zz...\n",
      "Running QueueSize: 25, ProblemNumber: 49, hyperparams: {'symmetry_breaking': False, 'mip_focus': 1, 'cuts': 3, 'heuristics': 0.8706962488000624, 'presolve': 0, 'delta_start': 1291}\n",
      "file_path used:ProblemSets/Queue25\n",
      "Saved! Sleeping... ZzzZ Zz...\n",
      "Running QueueSize: 25, ProblemNumber: 50, hyperparams: {'symmetry_breaking': False, 'mip_focus': 1, 'cuts': 3, 'heuristics': 0.8706962488000624, 'presolve': 0, 'delta_start': 1291}\n",
      "file_path used:ProblemSets/Queue25\n",
      "Saved! Sleeping... ZzzZ Zz...\n",
      "Running QueueSize: 25, ProblemNumber: 51, hyperparams: {'symmetry_breaking': False, 'mip_focus': 1, 'cuts': 3, 'heuristics': 0.8706962488000624, 'presolve': 0, 'delta_start': 1291}\n",
      "file_path used:ProblemSets/Queue25\n",
      "Saved! Sleeping... ZzzZ Zz...\n",
      "Running QueueSize: 25, ProblemNumber: 52, hyperparams: {'symmetry_breaking': False, 'mip_focus': 1, 'cuts': 3, 'heuristics': 0.8706962488000624, 'presolve': 0, 'delta_start': 1291}\n",
      "file_path used:ProblemSets/Queue25\n",
      "Saved! Sleeping... ZzzZ Zz...\n",
      "Running QueueSize: 25, ProblemNumber: 53, hyperparams: {'symmetry_breaking': False, 'mip_focus': 1, 'cuts': 3, 'heuristics': 0.8706962488000624, 'presolve': 0, 'delta_start': 1291}\n",
      "file_path used:ProblemSets/Queue25\n",
      "Saved! Sleeping... ZzzZ Zz...\n",
      "Running QueueSize: 25, ProblemNumber: 54, hyperparams: {'symmetry_breaking': False, 'mip_focus': 1, 'cuts': 3, 'heuristics': 0.8706962488000624, 'presolve': 0, 'delta_start': 1291}\n",
      "file_path used:ProblemSets/Queue25\n",
      "Saved! Sleeping... ZzzZ Zz...\n",
      "Running QueueSize: 25, ProblemNumber: 55, hyperparams: {'symmetry_breaking': False, 'mip_focus': 1, 'cuts': 3, 'heuristics': 0.8706962488000624, 'presolve': 0, 'delta_start': 1291}\n",
      "file_path used:ProblemSets/Queue25\n",
      "Saved! Sleeping... ZzzZ Zz...\n",
      "Running QueueSize: 25, ProblemNumber: 56, hyperparams: {'symmetry_breaking': False, 'mip_focus': 1, 'cuts': 3, 'heuristics': 0.8706962488000624, 'presolve': 0, 'delta_start': 1291}\n",
      "file_path used:ProblemSets/Queue25\n",
      "Saved! Sleeping... ZzzZ Zz...\n",
      "Running QueueSize: 25, ProblemNumber: 57, hyperparams: {'symmetry_breaking': False, 'mip_focus': 1, 'cuts': 3, 'heuristics': 0.8706962488000624, 'presolve': 0, 'delta_start': 1291}\n",
      "file_path used:ProblemSets/Queue25\n",
      "Saved! Sleeping... ZzzZ Zz...\n",
      "Running QueueSize: 25, ProblemNumber: 58, hyperparams: {'symmetry_breaking': False, 'mip_focus': 1, 'cuts': 3, 'heuristics': 0.8706962488000624, 'presolve': 0, 'delta_start': 1291}\n",
      "file_path used:ProblemSets/Queue25\n",
      "Saved! Sleeping... ZzzZ Zz...\n",
      "Running QueueSize: 25, ProblemNumber: 59, hyperparams: {'symmetry_breaking': False, 'mip_focus': 1, 'cuts': 3, 'heuristics': 0.8706962488000624, 'presolve': 0, 'delta_start': 1291}\n",
      "file_path used:ProblemSets/Queue25\n",
      "Saved! Sleeping... ZzzZ Zz...\n",
      "Running QueueSize: 25, ProblemNumber: 60, hyperparams: {'symmetry_breaking': False, 'mip_focus': 1, 'cuts': 3, 'heuristics': 0.8706962488000624, 'presolve': 0, 'delta_start': 1291}\n",
      "file_path used:ProblemSets/Queue25\n",
      "Saved! Sleeping... ZzzZ Zz...\n",
      "Running QueueSize: 25, ProblemNumber: 61, hyperparams: {'symmetry_breaking': False, 'mip_focus': 1, 'cuts': 3, 'heuristics': 0.8706962488000624, 'presolve': 0, 'delta_start': 1291}\n",
      "file_path used:ProblemSets/Queue25\n",
      "Saved! Sleeping... ZzzZ Zz...\n",
      "Running QueueSize: 25, ProblemNumber: 62, hyperparams: {'symmetry_breaking': False, 'mip_focus': 1, 'cuts': 3, 'heuristics': 0.8706962488000624, 'presolve': 0, 'delta_start': 1291}\n",
      "file_path used:ProblemSets/Queue25\n",
      "Saved! Sleeping... ZzzZ Zz...\n",
      "Running QueueSize: 25, ProblemNumber: 63, hyperparams: {'symmetry_breaking': False, 'mip_focus': 1, 'cuts': 3, 'heuristics': 0.8706962488000624, 'presolve': 0, 'delta_start': 1291}\n",
      "file_path used:ProblemSets/Queue25\n",
      "Saved! Sleeping... ZzzZ Zz...\n",
      "Running QueueSize: 25, ProblemNumber: 64, hyperparams: {'symmetry_breaking': False, 'mip_focus': 1, 'cuts': 3, 'heuristics': 0.8706962488000624, 'presolve': 0, 'delta_start': 1291}\n",
      "file_path used:ProblemSets/Queue25\n",
      "Saved! Sleeping... ZzzZ Zz...\n",
      "Running QueueSize: 25, ProblemNumber: 65, hyperparams: {'symmetry_breaking': False, 'mip_focus': 1, 'cuts': 3, 'heuristics': 0.8706962488000624, 'presolve': 0, 'delta_start': 1291}\n",
      "file_path used:ProblemSets/Queue25\n",
      "Saved! Sleeping... ZzzZ Zz...\n",
      "Running QueueSize: 25, ProblemNumber: 66, hyperparams: {'symmetry_breaking': False, 'mip_focus': 1, 'cuts': 3, 'heuristics': 0.8706962488000624, 'presolve': 0, 'delta_start': 1291}\n",
      "file_path used:ProblemSets/Queue25\n",
      "Saved! Sleeping... ZzzZ Zz...\n",
      "Running QueueSize: 25, ProblemNumber: 67, hyperparams: {'symmetry_breaking': False, 'mip_focus': 1, 'cuts': 3, 'heuristics': 0.8706962488000624, 'presolve': 0, 'delta_start': 1291}\n",
      "file_path used:ProblemSets/Queue25\n",
      "Saved! Sleeping... ZzzZ Zz...\n",
      "Running QueueSize: 25, ProblemNumber: 68, hyperparams: {'symmetry_breaking': False, 'mip_focus': 1, 'cuts': 3, 'heuristics': 0.8706962488000624, 'presolve': 0, 'delta_start': 1291}\n",
      "file_path used:ProblemSets/Queue25\n",
      "Saved! Sleeping... ZzzZ Zz...\n",
      "Running QueueSize: 25, ProblemNumber: 69, hyperparams: {'symmetry_breaking': False, 'mip_focus': 1, 'cuts': 3, 'heuristics': 0.8706962488000624, 'presolve': 0, 'delta_start': 1291}\n",
      "file_path used:ProblemSets/Queue25\n",
      "Saved! Sleeping... ZzzZ Zz...\n",
      "Running QueueSize: 25, ProblemNumber: 70, hyperparams: {'symmetry_breaking': False, 'mip_focus': 1, 'cuts': 3, 'heuristics': 0.8706962488000624, 'presolve': 0, 'delta_start': 1291}\n",
      "file_path used:ProblemSets/Queue25\n",
      "Saved! Sleeping... ZzzZ Zz...\n",
      "Running QueueSize: 25, ProblemNumber: 71, hyperparams: {'symmetry_breaking': False, 'mip_focus': 1, 'cuts': 3, 'heuristics': 0.8706962488000624, 'presolve': 0, 'delta_start': 1291}\n",
      "file_path used:ProblemSets/Queue25\n",
      "Saved! Sleeping... ZzzZ Zz...\n",
      "Running QueueSize: 25, ProblemNumber: 72, hyperparams: {'symmetry_breaking': False, 'mip_focus': 1, 'cuts': 3, 'heuristics': 0.8706962488000624, 'presolve': 0, 'delta_start': 1291}\n",
      "file_path used:ProblemSets/Queue25\n",
      "Saved! Sleeping... ZzzZ Zz...\n",
      "Running QueueSize: 25, ProblemNumber: 73, hyperparams: {'symmetry_breaking': False, 'mip_focus': 1, 'cuts': 3, 'heuristics': 0.8706962488000624, 'presolve': 0, 'delta_start': 1291}\n",
      "file_path used:ProblemSets/Queue25\n",
      "Saved! Sleeping... ZzzZ Zz...\n",
      "Running QueueSize: 25, ProblemNumber: 74, hyperparams: {'symmetry_breaking': False, 'mip_focus': 1, 'cuts': 3, 'heuristics': 0.8706962488000624, 'presolve': 0, 'delta_start': 1291}\n",
      "file_path used:ProblemSets/Queue25\n",
      "Saved! Sleeping... ZzzZ Zz...\n",
      "Running QueueSize: 25, ProblemNumber: 75, hyperparams: {'symmetry_breaking': False, 'mip_focus': 1, 'cuts': 3, 'heuristics': 0.8706962488000624, 'presolve': 0, 'delta_start': 1291}\n",
      "file_path used:ProblemSets/Queue25\n",
      "Saved! Sleeping... ZzzZ Zz...\n",
      "Running QueueSize: 25, ProblemNumber: 76, hyperparams: {'symmetry_breaking': False, 'mip_focus': 1, 'cuts': 3, 'heuristics': 0.8706962488000624, 'presolve': 0, 'delta_start': 1291}\n",
      "file_path used:ProblemSets/Queue25\n",
      "Saved! Sleeping... ZzzZ Zz...\n",
      "Running QueueSize: 25, ProblemNumber: 77, hyperparams: {'symmetry_breaking': False, 'mip_focus': 1, 'cuts': 3, 'heuristics': 0.8706962488000624, 'presolve': 0, 'delta_start': 1291}\n",
      "file_path used:ProblemSets/Queue25\n",
      "Saved! Sleeping... ZzzZ Zz...\n",
      "Running QueueSize: 25, ProblemNumber: 78, hyperparams: {'symmetry_breaking': False, 'mip_focus': 1, 'cuts': 3, 'heuristics': 0.8706962488000624, 'presolve': 0, 'delta_start': 1291}\n",
      "file_path used:ProblemSets/Queue25\n",
      "Saved! Sleeping... ZzzZ Zz...\n",
      "Running QueueSize: 25, ProblemNumber: 79, hyperparams: {'symmetry_breaking': False, 'mip_focus': 1, 'cuts': 3, 'heuristics': 0.8706962488000624, 'presolve': 0, 'delta_start': 1291}\n",
      "file_path used:ProblemSets/Queue25\n",
      "Saved! Sleeping... ZzzZ Zz...\n",
      "Running QueueSize: 25, ProblemNumber: 80, hyperparams: {'symmetry_breaking': False, 'mip_focus': 1, 'cuts': 3, 'heuristics': 0.8706962488000624, 'presolve': 0, 'delta_start': 1291}\n",
      "file_path used:ProblemSets/Queue25\n",
      "Saved! Sleeping... ZzzZ Zz...\n",
      "Running QueueSize: 25, ProblemNumber: 81, hyperparams: {'symmetry_breaking': False, 'mip_focus': 1, 'cuts': 3, 'heuristics': 0.8706962488000624, 'presolve': 0, 'delta_start': 1291}\n",
      "file_path used:ProblemSets/Queue25\n",
      "Saved! Sleeping... ZzzZ Zz...\n",
      "Running QueueSize: 25, ProblemNumber: 82, hyperparams: {'symmetry_breaking': False, 'mip_focus': 1, 'cuts': 3, 'heuristics': 0.8706962488000624, 'presolve': 0, 'delta_start': 1291}\n",
      "file_path used:ProblemSets/Queue25\n",
      "Saved! Sleeping... ZzzZ Zz...\n",
      "Running QueueSize: 25, ProblemNumber: 83, hyperparams: {'symmetry_breaking': False, 'mip_focus': 1, 'cuts': 3, 'heuristics': 0.8706962488000624, 'presolve': 0, 'delta_start': 1291}\n",
      "file_path used:ProblemSets/Queue25\n",
      "Saved! Sleeping... ZzzZ Zz...\n",
      "Running QueueSize: 25, ProblemNumber: 84, hyperparams: {'symmetry_breaking': False, 'mip_focus': 1, 'cuts': 3, 'heuristics': 0.8706962488000624, 'presolve': 0, 'delta_start': 1291}\n",
      "file_path used:ProblemSets/Queue25\n",
      "Saved! Sleeping... ZzzZ Zz...\n",
      "Running QueueSize: 25, ProblemNumber: 85, hyperparams: {'symmetry_breaking': False, 'mip_focus': 1, 'cuts': 3, 'heuristics': 0.8706962488000624, 'presolve': 0, 'delta_start': 1291}\n",
      "file_path used:ProblemSets/Queue25\n",
      "Saved! Sleeping... ZzzZ Zz...\n",
      "Running QueueSize: 25, ProblemNumber: 86, hyperparams: {'symmetry_breaking': False, 'mip_focus': 1, 'cuts': 3, 'heuristics': 0.8706962488000624, 'presolve': 0, 'delta_start': 1291}\n",
      "file_path used:ProblemSets/Queue25\n",
      "Saved! Sleeping... ZzzZ Zz...\n",
      "Running QueueSize: 25, ProblemNumber: 87, hyperparams: {'symmetry_breaking': False, 'mip_focus': 1, 'cuts': 3, 'heuristics': 0.8706962488000624, 'presolve': 0, 'delta_start': 1291}\n",
      "file_path used:ProblemSets/Queue25\n",
      "Saved! Sleeping... ZzzZ Zz...\n",
      "Running QueueSize: 25, ProblemNumber: 88, hyperparams: {'symmetry_breaking': False, 'mip_focus': 1, 'cuts': 3, 'heuristics': 0.8706962488000624, 'presolve': 0, 'delta_start': 1291}\n",
      "file_path used:ProblemSets/Queue25\n",
      "Saved! Sleeping... ZzzZ Zz...\n",
      "Running QueueSize: 25, ProblemNumber: 89, hyperparams: {'symmetry_breaking': False, 'mip_focus': 1, 'cuts': 3, 'heuristics': 0.8706962488000624, 'presolve': 0, 'delta_start': 1291}\n",
      "file_path used:ProblemSets/Queue25\n",
      "Saved! Sleeping... ZzzZ Zz...\n",
      "Running QueueSize: 25, ProblemNumber: 90, hyperparams: {'symmetry_breaking': False, 'mip_focus': 1, 'cuts': 3, 'heuristics': 0.8706962488000624, 'presolve': 0, 'delta_start': 1291}\n",
      "file_path used:ProblemSets/Queue25\n",
      "Saved! Sleeping... ZzzZ Zz...\n",
      "Running QueueSize: 25, ProblemNumber: 91, hyperparams: {'symmetry_breaking': False, 'mip_focus': 1, 'cuts': 3, 'heuristics': 0.8706962488000624, 'presolve': 0, 'delta_start': 1291}\n",
      "file_path used:ProblemSets/Queue25\n",
      "Saved! Sleeping... ZzzZ Zz...\n",
      "Running QueueSize: 25, ProblemNumber: 92, hyperparams: {'symmetry_breaking': False, 'mip_focus': 1, 'cuts': 3, 'heuristics': 0.8706962488000624, 'presolve': 0, 'delta_start': 1291}\n",
      "file_path used:ProblemSets/Queue25\n",
      "Saved! Sleeping... ZzzZ Zz...\n",
      "Running QueueSize: 25, ProblemNumber: 93, hyperparams: {'symmetry_breaking': False, 'mip_focus': 1, 'cuts': 3, 'heuristics': 0.8706962488000624, 'presolve': 0, 'delta_start': 1291}\n",
      "file_path used:ProblemSets/Queue25\n",
      "Saved! Sleeping... ZzzZ Zz...\n",
      "Running QueueSize: 25, ProblemNumber: 94, hyperparams: {'symmetry_breaking': False, 'mip_focus': 1, 'cuts': 3, 'heuristics': 0.8706962488000624, 'presolve': 0, 'delta_start': 1291}\n",
      "file_path used:ProblemSets/Queue25\n",
      "Saved! Sleeping... ZzzZ Zz...\n",
      "Running QueueSize: 25, ProblemNumber: 95, hyperparams: {'symmetry_breaking': False, 'mip_focus': 1, 'cuts': 3, 'heuristics': 0.8706962488000624, 'presolve': 0, 'delta_start': 1291}\n",
      "file_path used:ProblemSets/Queue25\n",
      "Saved! Sleeping... ZzzZ Zz...\n",
      "Running QueueSize: 25, ProblemNumber: 96, hyperparams: {'symmetry_breaking': False, 'mip_focus': 1, 'cuts': 3, 'heuristics': 0.8706962488000624, 'presolve': 0, 'delta_start': 1291}\n",
      "file_path used:ProblemSets/Queue25\n",
      "Saved! Sleeping... ZzzZ Zz...\n",
      "Running QueueSize: 25, ProblemNumber: 97, hyperparams: {'symmetry_breaking': False, 'mip_focus': 1, 'cuts': 3, 'heuristics': 0.8706962488000624, 'presolve': 0, 'delta_start': 1291}\n",
      "file_path used:ProblemSets/Queue25\n",
      "Saved! Sleeping... ZzzZ Zz...\n",
      "Running QueueSize: 25, ProblemNumber: 98, hyperparams: {'symmetry_breaking': False, 'mip_focus': 1, 'cuts': 3, 'heuristics': 0.8706962488000624, 'presolve': 0, 'delta_start': 1291}\n",
      "file_path used:ProblemSets/Queue25\n",
      "Saved! Sleeping... ZzzZ Zz...\n",
      "Running QueueSize: 25, ProblemNumber: 99, hyperparams: {'symmetry_breaking': False, 'mip_focus': 1, 'cuts': 3, 'heuristics': 0.8706962488000624, 'presolve': 0, 'delta_start': 1291}\n",
      "file_path used:ProblemSets/Queue25\n",
      "Saved! Sleeping... ZzzZ Zz...\n",
      "Running QueueSize: 25, ProblemNumber: 100, hyperparams: {'symmetry_breaking': False, 'mip_focus': 1, 'cuts': 3, 'heuristics': 0.8706962488000624, 'presolve': 0, 'delta_start': 1291}\n",
      "file_path used:ProblemSets/Queue25\n",
      "Saved! Sleeping... ZzzZ Zz...\n",
      "Running QueueSize: 25, ProblemNumber: 101, hyperparams: {'symmetry_breaking': False, 'mip_focus': 1, 'cuts': 3, 'heuristics': 0.8706962488000624, 'presolve': 0, 'delta_start': 1291}\n",
      "file_path used:ProblemSets/Queue25\n",
      "Saved! Sleeping... ZzzZ Zz...\n",
      "Running QueueSize: 25, ProblemNumber: 102, hyperparams: {'symmetry_breaking': False, 'mip_focus': 1, 'cuts': 3, 'heuristics': 0.8706962488000624, 'presolve': 0, 'delta_start': 1291}\n",
      "file_path used:ProblemSets/Queue25\n",
      "Saved! Sleeping... ZzzZ Zz...\n",
      "Running QueueSize: 25, ProblemNumber: 103, hyperparams: {'symmetry_breaking': False, 'mip_focus': 1, 'cuts': 3, 'heuristics': 0.8706962488000624, 'presolve': 0, 'delta_start': 1291}\n",
      "file_path used:ProblemSets/Queue25\n",
      "Saved! Sleeping... ZzzZ Zz...\n",
      "Running QueueSize: 25, ProblemNumber: 104, hyperparams: {'symmetry_breaking': False, 'mip_focus': 1, 'cuts': 3, 'heuristics': 0.8706962488000624, 'presolve': 0, 'delta_start': 1291}\n",
      "file_path used:ProblemSets/Queue25\n",
      "Saved! Sleeping... ZzzZ Zz...\n",
      "Running QueueSize: 25, ProblemNumber: 105, hyperparams: {'symmetry_breaking': False, 'mip_focus': 1, 'cuts': 3, 'heuristics': 0.8706962488000624, 'presolve': 0, 'delta_start': 1291}\n",
      "file_path used:ProblemSets/Queue25\n",
      "Saved! Sleeping... ZzzZ Zz...\n",
      "Running QueueSize: 25, ProblemNumber: 106, hyperparams: {'symmetry_breaking': False, 'mip_focus': 1, 'cuts': 3, 'heuristics': 0.8706962488000624, 'presolve': 0, 'delta_start': 1291}\n",
      "file_path used:ProblemSets/Queue25\n",
      "Saved! Sleeping... ZzzZ Zz...\n",
      "Running QueueSize: 25, ProblemNumber: 107, hyperparams: {'symmetry_breaking': False, 'mip_focus': 1, 'cuts': 3, 'heuristics': 0.8706962488000624, 'presolve': 0, 'delta_start': 1291}\n",
      "file_path used:ProblemSets/Queue25\n",
      "Saved! Sleeping... ZzzZ Zz...\n",
      "Running QueueSize: 25, ProblemNumber: 108, hyperparams: {'symmetry_breaking': False, 'mip_focus': 1, 'cuts': 3, 'heuristics': 0.8706962488000624, 'presolve': 0, 'delta_start': 1291}\n",
      "file_path used:ProblemSets/Queue25\n",
      "Saved! Sleeping... ZzzZ Zz...\n",
      "Running QueueSize: 25, ProblemNumber: 109, hyperparams: {'symmetry_breaking': False, 'mip_focus': 1, 'cuts': 3, 'heuristics': 0.8706962488000624, 'presolve': 0, 'delta_start': 1291}\n",
      "file_path used:ProblemSets/Queue25\n",
      "Saved! Sleeping... ZzzZ Zz...\n",
      "Running QueueSize: 25, ProblemNumber: 110, hyperparams: {'symmetry_breaking': False, 'mip_focus': 1, 'cuts': 3, 'heuristics': 0.8706962488000624, 'presolve': 0, 'delta_start': 1291}\n",
      "file_path used:ProblemSets/Queue25\n",
      "Saved! Sleeping... ZzzZ Zz...\n",
      "Running QueueSize: 25, ProblemNumber: 111, hyperparams: {'symmetry_breaking': False, 'mip_focus': 1, 'cuts': 3, 'heuristics': 0.8706962488000624, 'presolve': 0, 'delta_start': 1291}\n",
      "file_path used:ProblemSets/Queue25\n",
      "Saved! Sleeping... ZzzZ Zz...\n",
      "Running QueueSize: 25, ProblemNumber: 112, hyperparams: {'symmetry_breaking': False, 'mip_focus': 1, 'cuts': 3, 'heuristics': 0.8706962488000624, 'presolve': 0, 'delta_start': 1291}\n",
      "file_path used:ProblemSets/Queue25\n",
      "Saved! Sleeping... ZzzZ Zz...\n",
      "Running QueueSize: 25, ProblemNumber: 113, hyperparams: {'symmetry_breaking': False, 'mip_focus': 1, 'cuts': 3, 'heuristics': 0.8706962488000624, 'presolve': 0, 'delta_start': 1291}\n",
      "file_path used:ProblemSets/Queue25\n",
      "Saved! Sleeping... ZzzZ Zz...\n",
      "Running QueueSize: 25, ProblemNumber: 114, hyperparams: {'symmetry_breaking': False, 'mip_focus': 1, 'cuts': 3, 'heuristics': 0.8706962488000624, 'presolve': 0, 'delta_start': 1291}\n",
      "file_path used:ProblemSets/Queue25\n",
      "Saved! Sleeping... ZzzZ Zz...\n",
      "Running QueueSize: 25, ProblemNumber: 115, hyperparams: {'symmetry_breaking': False, 'mip_focus': 1, 'cuts': 3, 'heuristics': 0.8706962488000624, 'presolve': 0, 'delta_start': 1291}\n",
      "file_path used:ProblemSets/Queue25\n",
      "Saved! Sleeping... ZzzZ Zz...\n",
      "Running QueueSize: 25, ProblemNumber: 116, hyperparams: {'symmetry_breaking': False, 'mip_focus': 1, 'cuts': 3, 'heuristics': 0.8706962488000624, 'presolve': 0, 'delta_start': 1291}\n",
      "file_path used:ProblemSets/Queue25\n",
      "Saved! Sleeping... ZzzZ Zz...\n",
      "Running QueueSize: 25, ProblemNumber: 117, hyperparams: {'symmetry_breaking': False, 'mip_focus': 1, 'cuts': 3, 'heuristics': 0.8706962488000624, 'presolve': 0, 'delta_start': 1291}\n",
      "file_path used:ProblemSets/Queue25\n",
      "Saved! Sleeping... ZzzZ Zz...\n",
      "Running QueueSize: 25, ProblemNumber: 118, hyperparams: {'symmetry_breaking': False, 'mip_focus': 1, 'cuts': 3, 'heuristics': 0.8706962488000624, 'presolve': 0, 'delta_start': 1291}\n",
      "file_path used:ProblemSets/Queue25\n",
      "Saved! Sleeping... ZzzZ Zz...\n",
      "Running QueueSize: 25, ProblemNumber: 119, hyperparams: {'symmetry_breaking': False, 'mip_focus': 1, 'cuts': 3, 'heuristics': 0.8706962488000624, 'presolve': 0, 'delta_start': 1291}\n",
      "file_path used:ProblemSets/Queue25\n",
      "Saved! Sleeping... ZzzZ Zz...\n",
      "Running QueueSize: 25, ProblemNumber: 120, hyperparams: {'symmetry_breaking': False, 'mip_focus': 1, 'cuts': 3, 'heuristics': 0.8706962488000624, 'presolve': 0, 'delta_start': 1291}\n",
      "file_path used:ProblemSets/Queue25\n",
      "Saved! Sleeping... ZzzZ Zz...\n",
      "Running QueueSize: 25, ProblemNumber: 121, hyperparams: {'symmetry_breaking': False, 'mip_focus': 1, 'cuts': 3, 'heuristics': 0.8706962488000624, 'presolve': 0, 'delta_start': 1291}\n",
      "file_path used:ProblemSets/Queue25\n",
      "Saved! Sleeping... ZzzZ Zz...\n",
      "Running QueueSize: 25, ProblemNumber: 122, hyperparams: {'symmetry_breaking': False, 'mip_focus': 1, 'cuts': 3, 'heuristics': 0.8706962488000624, 'presolve': 0, 'delta_start': 1291}\n",
      "file_path used:ProblemSets/Queue25\n",
      "Saved! Sleeping... ZzzZ Zz...\n",
      "Running QueueSize: 25, ProblemNumber: 123, hyperparams: {'symmetry_breaking': False, 'mip_focus': 1, 'cuts': 3, 'heuristics': 0.8706962488000624, 'presolve': 0, 'delta_start': 1291}\n",
      "file_path used:ProblemSets/Queue25\n",
      "Saved! Sleeping... ZzzZ Zz...\n",
      "Running QueueSize: 25, ProblemNumber: 124, hyperparams: {'symmetry_breaking': False, 'mip_focus': 1, 'cuts': 3, 'heuristics': 0.8706962488000624, 'presolve': 0, 'delta_start': 1291}\n",
      "file_path used:ProblemSets/Queue25\n",
      "Saved! Sleeping... ZzzZ Zz...\n",
      "Running QueueSize: 25, ProblemNumber: 125, hyperparams: {'symmetry_breaking': False, 'mip_focus': 1, 'cuts': 3, 'heuristics': 0.8706962488000624, 'presolve': 0, 'delta_start': 1291}\n",
      "file_path used:ProblemSets/Queue25\n",
      "Saved! Sleeping... ZzzZ Zz...\n",
      "Running QueueSize: 25, ProblemNumber: 126, hyperparams: {'symmetry_breaking': False, 'mip_focus': 1, 'cuts': 3, 'heuristics': 0.8706962488000624, 'presolve': 0, 'delta_start': 1291}\n",
      "file_path used:ProblemSets/Queue25\n",
      "Saved! Sleeping... ZzzZ Zz...\n",
      "Running QueueSize: 25, ProblemNumber: 127, hyperparams: {'symmetry_breaking': False, 'mip_focus': 1, 'cuts': 3, 'heuristics': 0.8706962488000624, 'presolve': 0, 'delta_start': 1291}\n",
      "file_path used:ProblemSets/Queue25\n",
      "Saved! Sleeping... ZzzZ Zz...\n",
      "Running QueueSize: 25, ProblemNumber: 128, hyperparams: {'symmetry_breaking': False, 'mip_focus': 1, 'cuts': 3, 'heuristics': 0.8706962488000624, 'presolve': 0, 'delta_start': 1291}\n",
      "file_path used:ProblemSets/Queue25\n",
      "Saved! Sleeping... ZzzZ Zz...\n",
      "Running QueueSize: 25, ProblemNumber: 129, hyperparams: {'symmetry_breaking': False, 'mip_focus': 1, 'cuts': 3, 'heuristics': 0.8706962488000624, 'presolve': 0, 'delta_start': 1291}\n",
      "file_path used:ProblemSets/Queue25\n",
      "Saved! Sleeping... ZzzZ Zz...\n",
      "Running QueueSize: 25, ProblemNumber: 130, hyperparams: {'symmetry_breaking': False, 'mip_focus': 1, 'cuts': 3, 'heuristics': 0.8706962488000624, 'presolve': 0, 'delta_start': 1291}\n",
      "file_path used:ProblemSets/Queue25\n",
      "Saved! Sleeping... ZzzZ Zz...\n",
      "Running QueueSize: 25, ProblemNumber: 131, hyperparams: {'symmetry_breaking': False, 'mip_focus': 1, 'cuts': 3, 'heuristics': 0.8706962488000624, 'presolve': 0, 'delta_start': 1291}\n",
      "file_path used:ProblemSets/Queue25\n",
      "Saved! Sleeping... ZzzZ Zz...\n",
      "Running QueueSize: 25, ProblemNumber: 132, hyperparams: {'symmetry_breaking': False, 'mip_focus': 1, 'cuts': 3, 'heuristics': 0.8706962488000624, 'presolve': 0, 'delta_start': 1291}\n",
      "file_path used:ProblemSets/Queue25\n",
      "Saved! Sleeping... ZzzZ Zz...\n",
      "Running QueueSize: 25, ProblemNumber: 133, hyperparams: {'symmetry_breaking': False, 'mip_focus': 1, 'cuts': 3, 'heuristics': 0.8706962488000624, 'presolve': 0, 'delta_start': 1291}\n",
      "file_path used:ProblemSets/Queue25\n",
      "Saved! Sleeping... ZzzZ Zz...\n",
      "Running QueueSize: 25, ProblemNumber: 134, hyperparams: {'symmetry_breaking': False, 'mip_focus': 1, 'cuts': 3, 'heuristics': 0.8706962488000624, 'presolve': 0, 'delta_start': 1291}\n",
      "file_path used:ProblemSets/Queue25\n",
      "Saved! Sleeping... ZzzZ Zz...\n",
      "Running QueueSize: 25, ProblemNumber: 135, hyperparams: {'symmetry_breaking': False, 'mip_focus': 1, 'cuts': 3, 'heuristics': 0.8706962488000624, 'presolve': 0, 'delta_start': 1291}\n",
      "file_path used:ProblemSets/Queue25\n",
      "Saved! Sleeping... ZzzZ Zz...\n",
      "Running QueueSize: 25, ProblemNumber: 136, hyperparams: {'symmetry_breaking': False, 'mip_focus': 1, 'cuts': 3, 'heuristics': 0.8706962488000624, 'presolve': 0, 'delta_start': 1291}\n",
      "file_path used:ProblemSets/Queue25\n",
      "Saved! Sleeping... ZzzZ Zz...\n",
      "Running QueueSize: 25, ProblemNumber: 137, hyperparams: {'symmetry_breaking': False, 'mip_focus': 1, 'cuts': 3, 'heuristics': 0.8706962488000624, 'presolve': 0, 'delta_start': 1291}\n",
      "file_path used:ProblemSets/Queue25\n",
      "Saved! Sleeping... ZzzZ Zz...\n",
      "Running QueueSize: 25, ProblemNumber: 138, hyperparams: {'symmetry_breaking': False, 'mip_focus': 1, 'cuts': 3, 'heuristics': 0.8706962488000624, 'presolve': 0, 'delta_start': 1291}\n",
      "file_path used:ProblemSets/Queue25\n",
      "Saved! Sleeping... ZzzZ Zz...\n",
      "Running QueueSize: 25, ProblemNumber: 139, hyperparams: {'symmetry_breaking': False, 'mip_focus': 1, 'cuts': 3, 'heuristics': 0.8706962488000624, 'presolve': 0, 'delta_start': 1291}\n",
      "file_path used:ProblemSets/Queue25\n",
      "Saved! Sleeping... ZzzZ Zz...\n",
      "Running QueueSize: 25, ProblemNumber: 140, hyperparams: {'symmetry_breaking': False, 'mip_focus': 1, 'cuts': 3, 'heuristics': 0.8706962488000624, 'presolve': 0, 'delta_start': 1291}\n",
      "file_path used:ProblemSets/Queue25\n",
      "Saved! Sleeping... ZzzZ Zz...\n",
      "Running QueueSize: 25, ProblemNumber: 141, hyperparams: {'symmetry_breaking': False, 'mip_focus': 1, 'cuts': 3, 'heuristics': 0.8706962488000624, 'presolve': 0, 'delta_start': 1291}\n",
      "file_path used:ProblemSets/Queue25\n",
      "Saved! Sleeping... ZzzZ Zz...\n",
      "Running QueueSize: 25, ProblemNumber: 142, hyperparams: {'symmetry_breaking': False, 'mip_focus': 1, 'cuts': 3, 'heuristics': 0.8706962488000624, 'presolve': 0, 'delta_start': 1291}\n",
      "file_path used:ProblemSets/Queue25\n",
      "Saved! Sleeping... ZzzZ Zz...\n",
      "Running QueueSize: 25, ProblemNumber: 143, hyperparams: {'symmetry_breaking': False, 'mip_focus': 1, 'cuts': 3, 'heuristics': 0.8706962488000624, 'presolve': 0, 'delta_start': 1291}\n",
      "file_path used:ProblemSets/Queue25\n",
      "Saved! Sleeping... ZzzZ Zz...\n",
      "Running QueueSize: 25, ProblemNumber: 144, hyperparams: {'symmetry_breaking': False, 'mip_focus': 1, 'cuts': 3, 'heuristics': 0.8706962488000624, 'presolve': 0, 'delta_start': 1291}\n",
      "file_path used:ProblemSets/Queue25\n",
      "Saved! Sleeping... ZzzZ Zz...\n",
      "Running QueueSize: 25, ProblemNumber: 145, hyperparams: {'symmetry_breaking': False, 'mip_focus': 1, 'cuts': 3, 'heuristics': 0.8706962488000624, 'presolve': 0, 'delta_start': 1291}\n",
      "file_path used:ProblemSets/Queue25\n",
      "Saved! Sleeping... ZzzZ Zz...\n",
      "Running QueueSize: 25, ProblemNumber: 146, hyperparams: {'symmetry_breaking': False, 'mip_focus': 1, 'cuts': 3, 'heuristics': 0.8706962488000624, 'presolve': 0, 'delta_start': 1291}\n",
      "file_path used:ProblemSets/Queue25\n",
      "Saved! Sleeping... ZzzZ Zz...\n",
      "Running QueueSize: 25, ProblemNumber: 147, hyperparams: {'symmetry_breaking': False, 'mip_focus': 1, 'cuts': 3, 'heuristics': 0.8706962488000624, 'presolve': 0, 'delta_start': 1291}\n",
      "file_path used:ProblemSets/Queue25\n",
      "Saved! Sleeping... ZzzZ Zz...\n",
      "Running QueueSize: 25, ProblemNumber: 148, hyperparams: {'symmetry_breaking': False, 'mip_focus': 1, 'cuts': 3, 'heuristics': 0.8706962488000624, 'presolve': 0, 'delta_start': 1291}\n",
      "file_path used:ProblemSets/Queue25\n",
      "Saved! Sleeping... ZzzZ Zz...\n",
      "Running QueueSize: 25, ProblemNumber: 149, hyperparams: {'symmetry_breaking': False, 'mip_focus': 1, 'cuts': 3, 'heuristics': 0.8706962488000624, 'presolve': 0, 'delta_start': 1291}\n",
      "file_path used:ProblemSets/Queue25\n",
      "Saved! Sleeping... ZzzZ Zz...\n",
      "Running QueueSize: 25, ProblemNumber: 150, hyperparams: {'symmetry_breaking': False, 'mip_focus': 1, 'cuts': 3, 'heuristics': 0.8706962488000624, 'presolve': 0, 'delta_start': 1291}\n",
      "file_path used:ProblemSets/Queue25\n",
      "Saved! Sleeping... ZzzZ Zz...\n",
      "Running QueueSize: 25, ProblemNumber: 151, hyperparams: {'symmetry_breaking': False, 'mip_focus': 1, 'cuts': 3, 'heuristics': 0.8706962488000624, 'presolve': 0, 'delta_start': 1291}\n",
      "file_path used:ProblemSets/Queue25\n",
      "Saved! Sleeping... ZzzZ Zz...\n",
      "Running QueueSize: 25, ProblemNumber: 152, hyperparams: {'symmetry_breaking': False, 'mip_focus': 1, 'cuts': 3, 'heuristics': 0.8706962488000624, 'presolve': 0, 'delta_start': 1291}\n",
      "file_path used:ProblemSets/Queue25\n",
      "Saved! Sleeping... ZzzZ Zz...\n",
      "Running QueueSize: 25, ProblemNumber: 153, hyperparams: {'symmetry_breaking': False, 'mip_focus': 1, 'cuts': 3, 'heuristics': 0.8706962488000624, 'presolve': 0, 'delta_start': 1291}\n",
      "file_path used:ProblemSets/Queue25\n",
      "Saved! Sleeping... ZzzZ Zz...\n",
      "Running QueueSize: 25, ProblemNumber: 154, hyperparams: {'symmetry_breaking': False, 'mip_focus': 1, 'cuts': 3, 'heuristics': 0.8706962488000624, 'presolve': 0, 'delta_start': 1291}\n",
      "file_path used:ProblemSets/Queue25\n",
      "Saved! Sleeping... ZzzZ Zz...\n",
      "Running QueueSize: 25, ProblemNumber: 155, hyperparams: {'symmetry_breaking': False, 'mip_focus': 1, 'cuts': 3, 'heuristics': 0.8706962488000624, 'presolve': 0, 'delta_start': 1291}\n",
      "file_path used:ProblemSets/Queue25\n",
      "Saved! Sleeping... ZzzZ Zz...\n",
      "Running QueueSize: 25, ProblemNumber: 156, hyperparams: {'symmetry_breaking': False, 'mip_focus': 1, 'cuts': 3, 'heuristics': 0.8706962488000624, 'presolve': 0, 'delta_start': 1291}\n",
      "file_path used:ProblemSets/Queue25\n",
      "Saved! Sleeping... ZzzZ Zz...\n",
      "Running QueueSize: 25, ProblemNumber: 157, hyperparams: {'symmetry_breaking': False, 'mip_focus': 1, 'cuts': 3, 'heuristics': 0.8706962488000624, 'presolve': 0, 'delta_start': 1291}\n",
      "file_path used:ProblemSets/Queue25\n",
      "Saved! Sleeping... ZzzZ Zz...\n",
      "Running QueueSize: 25, ProblemNumber: 158, hyperparams: {'symmetry_breaking': False, 'mip_focus': 1, 'cuts': 3, 'heuristics': 0.8706962488000624, 'presolve': 0, 'delta_start': 1291}\n",
      "file_path used:ProblemSets/Queue25\n",
      "Saved! Sleeping... ZzzZ Zz...\n",
      "Running QueueSize: 25, ProblemNumber: 159, hyperparams: {'symmetry_breaking': False, 'mip_focus': 1, 'cuts': 3, 'heuristics': 0.8706962488000624, 'presolve': 0, 'delta_start': 1291}\n",
      "file_path used:ProblemSets/Queue25\n",
      "Saved! Sleeping... ZzzZ Zz...\n",
      "Running QueueSize: 25, ProblemNumber: 160, hyperparams: {'symmetry_breaking': False, 'mip_focus': 1, 'cuts': 3, 'heuristics': 0.8706962488000624, 'presolve': 0, 'delta_start': 1291}\n",
      "file_path used:ProblemSets/Queue25\n",
      "Saved! Sleeping... ZzzZ Zz...\n",
      "Running QueueSize: 25, ProblemNumber: 161, hyperparams: {'symmetry_breaking': False, 'mip_focus': 1, 'cuts': 3, 'heuristics': 0.8706962488000624, 'presolve': 0, 'delta_start': 1291}\n",
      "file_path used:ProblemSets/Queue25\n",
      "Saved! Sleeping... ZzzZ Zz...\n",
      "Running QueueSize: 25, ProblemNumber: 162, hyperparams: {'symmetry_breaking': False, 'mip_focus': 1, 'cuts': 3, 'heuristics': 0.8706962488000624, 'presolve': 0, 'delta_start': 1291}\n",
      "file_path used:ProblemSets/Queue25\n",
      "Saved! Sleeping... ZzzZ Zz...\n",
      "Running QueueSize: 25, ProblemNumber: 163, hyperparams: {'symmetry_breaking': False, 'mip_focus': 1, 'cuts': 3, 'heuristics': 0.8706962488000624, 'presolve': 0, 'delta_start': 1291}\n",
      "file_path used:ProblemSets/Queue25\n",
      "Saved! Sleeping... ZzzZ Zz...\n",
      "Running QueueSize: 25, ProblemNumber: 164, hyperparams: {'symmetry_breaking': False, 'mip_focus': 1, 'cuts': 3, 'heuristics': 0.8706962488000624, 'presolve': 0, 'delta_start': 1291}\n",
      "file_path used:ProblemSets/Queue25\n",
      "Saved! Sleeping... ZzzZ Zz...\n",
      "Running QueueSize: 25, ProblemNumber: 165, hyperparams: {'symmetry_breaking': False, 'mip_focus': 1, 'cuts': 3, 'heuristics': 0.8706962488000624, 'presolve': 0, 'delta_start': 1291}\n",
      "file_path used:ProblemSets/Queue25\n",
      "Saved! Sleeping... ZzzZ Zz...\n",
      "Running QueueSize: 25, ProblemNumber: 166, hyperparams: {'symmetry_breaking': False, 'mip_focus': 1, 'cuts': 3, 'heuristics': 0.8706962488000624, 'presolve': 0, 'delta_start': 1291}\n",
      "file_path used:ProblemSets/Queue25\n",
      "Saved! Sleeping... ZzzZ Zz...\n",
      "Running QueueSize: 25, ProblemNumber: 167, hyperparams: {'symmetry_breaking': False, 'mip_focus': 1, 'cuts': 3, 'heuristics': 0.8706962488000624, 'presolve': 0, 'delta_start': 1291}\n",
      "file_path used:ProblemSets/Queue25\n",
      "Saved! Sleeping... ZzzZ Zz...\n",
      "Running QueueSize: 25, ProblemNumber: 168, hyperparams: {'symmetry_breaking': False, 'mip_focus': 1, 'cuts': 3, 'heuristics': 0.8706962488000624, 'presolve': 0, 'delta_start': 1291}\n",
      "file_path used:ProblemSets/Queue25\n",
      "Saved! Sleeping... ZzzZ Zz...\n",
      "Running QueueSize: 25, ProblemNumber: 169, hyperparams: {'symmetry_breaking': False, 'mip_focus': 1, 'cuts': 3, 'heuristics': 0.8706962488000624, 'presolve': 0, 'delta_start': 1291}\n",
      "file_path used:ProblemSets/Queue25\n",
      "Saved! Sleeping... ZzzZ Zz...\n",
      "Running QueueSize: 25, ProblemNumber: 170, hyperparams: {'symmetry_breaking': False, 'mip_focus': 1, 'cuts': 3, 'heuristics': 0.8706962488000624, 'presolve': 0, 'delta_start': 1291}\n",
      "file_path used:ProblemSets/Queue25\n",
      "Saved! Sleeping... ZzzZ Zz...\n",
      "Running QueueSize: 25, ProblemNumber: 171, hyperparams: {'symmetry_breaking': False, 'mip_focus': 1, 'cuts': 3, 'heuristics': 0.8706962488000624, 'presolve': 0, 'delta_start': 1291}\n",
      "file_path used:ProblemSets/Queue25\n",
      "Saved! Sleeping... ZzzZ Zz...\n",
      "Running QueueSize: 25, ProblemNumber: 172, hyperparams: {'symmetry_breaking': False, 'mip_focus': 1, 'cuts': 3, 'heuristics': 0.8706962488000624, 'presolve': 0, 'delta_start': 1291}\n",
      "file_path used:ProblemSets/Queue25\n",
      "Saved! Sleeping... ZzzZ Zz...\n",
      "Running QueueSize: 25, ProblemNumber: 173, hyperparams: {'symmetry_breaking': False, 'mip_focus': 1, 'cuts': 3, 'heuristics': 0.8706962488000624, 'presolve': 0, 'delta_start': 1291}\n",
      "file_path used:ProblemSets/Queue25\n",
      "Saved! Sleeping... ZzzZ Zz...\n",
      "Running QueueSize: 25, ProblemNumber: 174, hyperparams: {'symmetry_breaking': False, 'mip_focus': 1, 'cuts': 3, 'heuristics': 0.8706962488000624, 'presolve': 0, 'delta_start': 1291}\n",
      "file_path used:ProblemSets/Queue25\n",
      "Saved! Sleeping... ZzzZ Zz...\n",
      "Running QueueSize: 25, ProblemNumber: 175, hyperparams: {'symmetry_breaking': False, 'mip_focus': 1, 'cuts': 3, 'heuristics': 0.8706962488000624, 'presolve': 0, 'delta_start': 1291}\n",
      "file_path used:ProblemSets/Queue25\n",
      "Saved! Sleeping... ZzzZ Zz...\n",
      "Running QueueSize: 25, ProblemNumber: 176, hyperparams: {'symmetry_breaking': False, 'mip_focus': 1, 'cuts': 3, 'heuristics': 0.8706962488000624, 'presolve': 0, 'delta_start': 1291}\n",
      "file_path used:ProblemSets/Queue25\n",
      "Saved! Sleeping... ZzzZ Zz...\n",
      "Running QueueSize: 25, ProblemNumber: 177, hyperparams: {'symmetry_breaking': False, 'mip_focus': 1, 'cuts': 3, 'heuristics': 0.8706962488000624, 'presolve': 0, 'delta_start': 1291}\n",
      "file_path used:ProblemSets/Queue25\n",
      "Saved! Sleeping... ZzzZ Zz...\n",
      "Running QueueSize: 25, ProblemNumber: 178, hyperparams: {'symmetry_breaking': False, 'mip_focus': 1, 'cuts': 3, 'heuristics': 0.8706962488000624, 'presolve': 0, 'delta_start': 1291}\n",
      "file_path used:ProblemSets/Queue25\n",
      "Saved! Sleeping... ZzzZ Zz...\n",
      "Running QueueSize: 25, ProblemNumber: 179, hyperparams: {'symmetry_breaking': False, 'mip_focus': 1, 'cuts': 3, 'heuristics': 0.8706962488000624, 'presolve': 0, 'delta_start': 1291}\n",
      "file_path used:ProblemSets/Queue25\n",
      "Saved! Sleeping... ZzzZ Zz...\n",
      "Running QueueSize: 25, ProblemNumber: 180, hyperparams: {'symmetry_breaking': False, 'mip_focus': 1, 'cuts': 3, 'heuristics': 0.8706962488000624, 'presolve': 0, 'delta_start': 1291}\n",
      "file_path used:ProblemSets/Queue25\n",
      "Saved! Sleeping... ZzzZ Zz...\n",
      "Running QueueSize: 25, ProblemNumber: 181, hyperparams: {'symmetry_breaking': False, 'mip_focus': 1, 'cuts': 3, 'heuristics': 0.8706962488000624, 'presolve': 0, 'delta_start': 1291}\n",
      "file_path used:ProblemSets/Queue25\n",
      "Saved! Sleeping... ZzzZ Zz...\n",
      "Running QueueSize: 25, ProblemNumber: 182, hyperparams: {'symmetry_breaking': False, 'mip_focus': 1, 'cuts': 3, 'heuristics': 0.8706962488000624, 'presolve': 0, 'delta_start': 1291}\n",
      "file_path used:ProblemSets/Queue25\n",
      "Saved! Sleeping... ZzzZ Zz...\n",
      "Running QueueSize: 25, ProblemNumber: 183, hyperparams: {'symmetry_breaking': False, 'mip_focus': 1, 'cuts': 3, 'heuristics': 0.8706962488000624, 'presolve': 0, 'delta_start': 1291}\n",
      "file_path used:ProblemSets/Queue25\n",
      "Saved! Sleeping... ZzzZ Zz...\n",
      "Running QueueSize: 25, ProblemNumber: 184, hyperparams: {'symmetry_breaking': False, 'mip_focus': 1, 'cuts': 3, 'heuristics': 0.8706962488000624, 'presolve': 0, 'delta_start': 1291}\n",
      "file_path used:ProblemSets/Queue25\n",
      "Saved! Sleeping... ZzzZ Zz...\n",
      "Running QueueSize: 25, ProblemNumber: 185, hyperparams: {'symmetry_breaking': False, 'mip_focus': 1, 'cuts': 3, 'heuristics': 0.8706962488000624, 'presolve': 0, 'delta_start': 1291}\n",
      "file_path used:ProblemSets/Queue25\n",
      "Saved! Sleeping... ZzzZ Zz...\n",
      "Running QueueSize: 25, ProblemNumber: 186, hyperparams: {'symmetry_breaking': False, 'mip_focus': 1, 'cuts': 3, 'heuristics': 0.8706962488000624, 'presolve': 0, 'delta_start': 1291}\n",
      "file_path used:ProblemSets/Queue25\n",
      "Saved! Sleeping... ZzzZ Zz...\n",
      "Running QueueSize: 25, ProblemNumber: 187, hyperparams: {'symmetry_breaking': False, 'mip_focus': 1, 'cuts': 3, 'heuristics': 0.8706962488000624, 'presolve': 0, 'delta_start': 1291}\n",
      "file_path used:ProblemSets/Queue25\n",
      "Saved! Sleeping... ZzzZ Zz...\n",
      "Running QueueSize: 25, ProblemNumber: 188, hyperparams: {'symmetry_breaking': False, 'mip_focus': 1, 'cuts': 3, 'heuristics': 0.8706962488000624, 'presolve': 0, 'delta_start': 1291}\n",
      "file_path used:ProblemSets/Queue25\n",
      "Saved! Sleeping... ZzzZ Zz...\n",
      "Running QueueSize: 25, ProblemNumber: 189, hyperparams: {'symmetry_breaking': False, 'mip_focus': 1, 'cuts': 3, 'heuristics': 0.8706962488000624, 'presolve': 0, 'delta_start': 1291}\n",
      "file_path used:ProblemSets/Queue25\n",
      "Saved! Sleeping... ZzzZ Zz...\n",
      "Running QueueSize: 25, ProblemNumber: 190, hyperparams: {'symmetry_breaking': False, 'mip_focus': 1, 'cuts': 3, 'heuristics': 0.8706962488000624, 'presolve': 0, 'delta_start': 1291}\n",
      "file_path used:ProblemSets/Queue25\n",
      "Saved! Sleeping... ZzzZ Zz...\n",
      "Running QueueSize: 25, ProblemNumber: 191, hyperparams: {'symmetry_breaking': False, 'mip_focus': 1, 'cuts': 3, 'heuristics': 0.8706962488000624, 'presolve': 0, 'delta_start': 1291}\n",
      "file_path used:ProblemSets/Queue25\n",
      "Saved! Sleeping... ZzzZ Zz...\n",
      "Running QueueSize: 25, ProblemNumber: 192, hyperparams: {'symmetry_breaking': False, 'mip_focus': 1, 'cuts': 3, 'heuristics': 0.8706962488000624, 'presolve': 0, 'delta_start': 1291}\n",
      "file_path used:ProblemSets/Queue25\n",
      "Saved! Sleeping... ZzzZ Zz...\n",
      "Running QueueSize: 25, ProblemNumber: 193, hyperparams: {'symmetry_breaking': False, 'mip_focus': 1, 'cuts': 3, 'heuristics': 0.8706962488000624, 'presolve': 0, 'delta_start': 1291}\n",
      "file_path used:ProblemSets/Queue25\n",
      "Saved! Sleeping... ZzzZ Zz...\n",
      "Running QueueSize: 25, ProblemNumber: 194, hyperparams: {'symmetry_breaking': False, 'mip_focus': 1, 'cuts': 3, 'heuristics': 0.8706962488000624, 'presolve': 0, 'delta_start': 1291}\n",
      "file_path used:ProblemSets/Queue25\n",
      "Saved! Sleeping... ZzzZ Zz...\n",
      "Running QueueSize: 25, ProblemNumber: 195, hyperparams: {'symmetry_breaking': False, 'mip_focus': 1, 'cuts': 3, 'heuristics': 0.8706962488000624, 'presolve': 0, 'delta_start': 1291}\n",
      "file_path used:ProblemSets/Queue25\n",
      "Saved! Sleeping... ZzzZ Zz...\n",
      "Running QueueSize: 25, ProblemNumber: 196, hyperparams: {'symmetry_breaking': False, 'mip_focus': 1, 'cuts': 3, 'heuristics': 0.8706962488000624, 'presolve': 0, 'delta_start': 1291}\n",
      "file_path used:ProblemSets/Queue25\n",
      "Saved! Sleeping... ZzzZ Zz...\n",
      "Running QueueSize: 25, ProblemNumber: 197, hyperparams: {'symmetry_breaking': False, 'mip_focus': 1, 'cuts': 3, 'heuristics': 0.8706962488000624, 'presolve': 0, 'delta_start': 1291}\n",
      "file_path used:ProblemSets/Queue25\n",
      "Saved! Sleeping... ZzzZ Zz...\n",
      "Running QueueSize: 25, ProblemNumber: 198, hyperparams: {'symmetry_breaking': False, 'mip_focus': 1, 'cuts': 3, 'heuristics': 0.8706962488000624, 'presolve': 0, 'delta_start': 1291}\n",
      "file_path used:ProblemSets/Queue25\n",
      "Saved! Sleeping... ZzzZ Zz...\n",
      "Running QueueSize: 25, ProblemNumber: 199, hyperparams: {'symmetry_breaking': False, 'mip_focus': 1, 'cuts': 3, 'heuristics': 0.8706962488000624, 'presolve': 0, 'delta_start': 1291}\n",
      "file_path used:ProblemSets/Queue25\n",
      "Saved! Sleeping... ZzzZ Zz...\n",
      "Running QueueSize: 25, ProblemNumber: 200, hyperparams: {'symmetry_breaking': False, 'mip_focus': 1, 'cuts': 3, 'heuristics': 0.8706962488000624, 'presolve': 0, 'delta_start': 1291}\n",
      "file_path used:ProblemSets/Queue25\n",
      "Saved! Sleeping... ZzzZ Zz...\n",
      "Running QueueSize: 25, ProblemNumber: 201, hyperparams: {'symmetry_breaking': False, 'mip_focus': 1, 'cuts': 3, 'heuristics': 0.8706962488000624, 'presolve': 0, 'delta_start': 1291}\n",
      "file_path used:ProblemSets/Queue25\n",
      "Saved! Sleeping... ZzzZ Zz...\n",
      "Running QueueSize: 25, ProblemNumber: 202, hyperparams: {'symmetry_breaking': False, 'mip_focus': 1, 'cuts': 3, 'heuristics': 0.8706962488000624, 'presolve': 0, 'delta_start': 1291}\n",
      "file_path used:ProblemSets/Queue25\n",
      "Saved! Sleeping... ZzzZ Zz...\n",
      "Running QueueSize: 25, ProblemNumber: 203, hyperparams: {'symmetry_breaking': False, 'mip_focus': 1, 'cuts': 3, 'heuristics': 0.8706962488000624, 'presolve': 0, 'delta_start': 1291}\n",
      "file_path used:ProblemSets/Queue25\n",
      "Saved! Sleeping... ZzzZ Zz...\n",
      "Running QueueSize: 25, ProblemNumber: 204, hyperparams: {'symmetry_breaking': False, 'mip_focus': 1, 'cuts': 3, 'heuristics': 0.8706962488000624, 'presolve': 0, 'delta_start': 1291}\n",
      "file_path used:ProblemSets/Queue25\n",
      "Saved! Sleeping... ZzzZ Zz...\n",
      "Running QueueSize: 25, ProblemNumber: 205, hyperparams: {'symmetry_breaking': False, 'mip_focus': 1, 'cuts': 3, 'heuristics': 0.8706962488000624, 'presolve': 0, 'delta_start': 1291}\n",
      "file_path used:ProblemSets/Queue25\n",
      "Saved! Sleeping... ZzzZ Zz...\n",
      "Running QueueSize: 25, ProblemNumber: 206, hyperparams: {'symmetry_breaking': False, 'mip_focus': 1, 'cuts': 3, 'heuristics': 0.8706962488000624, 'presolve': 0, 'delta_start': 1291}\n",
      "file_path used:ProblemSets/Queue25\n",
      "Saved! Sleeping... ZzzZ Zz...\n",
      "Running QueueSize: 25, ProblemNumber: 207, hyperparams: {'symmetry_breaking': False, 'mip_focus': 1, 'cuts': 3, 'heuristics': 0.8706962488000624, 'presolve': 0, 'delta_start': 1291}\n",
      "file_path used:ProblemSets/Queue25\n",
      "Saved! Sleeping... ZzzZ Zz...\n",
      "Running QueueSize: 25, ProblemNumber: 208, hyperparams: {'symmetry_breaking': False, 'mip_focus': 1, 'cuts': 3, 'heuristics': 0.8706962488000624, 'presolve': 0, 'delta_start': 1291}\n",
      "file_path used:ProblemSets/Queue25\n",
      "Saved! Sleeping... ZzzZ Zz...\n",
      "Running QueueSize: 25, ProblemNumber: 209, hyperparams: {'symmetry_breaking': False, 'mip_focus': 1, 'cuts': 3, 'heuristics': 0.8706962488000624, 'presolve': 0, 'delta_start': 1291}\n",
      "file_path used:ProblemSets/Queue25\n",
      "Saved! Sleeping... ZzzZ Zz...\n",
      "Running QueueSize: 25, ProblemNumber: 210, hyperparams: {'symmetry_breaking': False, 'mip_focus': 1, 'cuts': 3, 'heuristics': 0.8706962488000624, 'presolve': 0, 'delta_start': 1291}\n",
      "file_path used:ProblemSets/Queue25\n",
      "Saved! Sleeping... ZzzZ Zz...\n",
      "Running QueueSize: 25, ProblemNumber: 211, hyperparams: {'symmetry_breaking': False, 'mip_focus': 1, 'cuts': 3, 'heuristics': 0.8706962488000624, 'presolve': 0, 'delta_start': 1291}\n",
      "file_path used:ProblemSets/Queue25\n",
      "Saved! Sleeping... ZzzZ Zz...\n",
      "Running QueueSize: 25, ProblemNumber: 212, hyperparams: {'symmetry_breaking': False, 'mip_focus': 1, 'cuts': 3, 'heuristics': 0.8706962488000624, 'presolve': 0, 'delta_start': 1291}\n",
      "file_path used:ProblemSets/Queue25\n",
      "Saved! Sleeping... ZzzZ Zz...\n",
      "Running QueueSize: 25, ProblemNumber: 213, hyperparams: {'symmetry_breaking': False, 'mip_focus': 1, 'cuts': 3, 'heuristics': 0.8706962488000624, 'presolve': 0, 'delta_start': 1291}\n",
      "file_path used:ProblemSets/Queue25\n",
      "Saved! Sleeping... ZzzZ Zz...\n",
      "Running QueueSize: 25, ProblemNumber: 214, hyperparams: {'symmetry_breaking': False, 'mip_focus': 1, 'cuts': 3, 'heuristics': 0.8706962488000624, 'presolve': 0, 'delta_start': 1291}\n",
      "file_path used:ProblemSets/Queue25\n",
      "Saved! Sleeping... ZzzZ Zz...\n",
      "Running QueueSize: 25, ProblemNumber: 215, hyperparams: {'symmetry_breaking': False, 'mip_focus': 1, 'cuts': 3, 'heuristics': 0.8706962488000624, 'presolve': 0, 'delta_start': 1291}\n",
      "file_path used:ProblemSets/Queue25\n",
      "Saved! Sleeping... ZzzZ Zz...\n",
      "Running QueueSize: 25, ProblemNumber: 216, hyperparams: {'symmetry_breaking': False, 'mip_focus': 1, 'cuts': 3, 'heuristics': 0.8706962488000624, 'presolve': 0, 'delta_start': 1291}\n",
      "file_path used:ProblemSets/Queue25\n",
      "Saved! Sleeping... ZzzZ Zz...\n",
      "Running QueueSize: 25, ProblemNumber: 217, hyperparams: {'symmetry_breaking': False, 'mip_focus': 1, 'cuts': 3, 'heuristics': 0.8706962488000624, 'presolve': 0, 'delta_start': 1291}\n",
      "file_path used:ProblemSets/Queue25\n",
      "Saved! Sleeping... ZzzZ Zz...\n",
      "Running QueueSize: 25, ProblemNumber: 218, hyperparams: {'symmetry_breaking': False, 'mip_focus': 1, 'cuts': 3, 'heuristics': 0.8706962488000624, 'presolve': 0, 'delta_start': 1291}\n",
      "file_path used:ProblemSets/Queue25\n",
      "Saved! Sleeping... ZzzZ Zz...\n",
      "Running QueueSize: 25, ProblemNumber: 219, hyperparams: {'symmetry_breaking': False, 'mip_focus': 1, 'cuts': 3, 'heuristics': 0.8706962488000624, 'presolve': 0, 'delta_start': 1291}\n",
      "file_path used:ProblemSets/Queue25\n",
      "Saved! Sleeping... ZzzZ Zz...\n",
      "Running QueueSize: 25, ProblemNumber: 220, hyperparams: {'symmetry_breaking': False, 'mip_focus': 1, 'cuts': 3, 'heuristics': 0.8706962488000624, 'presolve': 0, 'delta_start': 1291}\n",
      "file_path used:ProblemSets/Queue25\n",
      "Saved! Sleeping... ZzzZ Zz...\n",
      "Running QueueSize: 25, ProblemNumber: 221, hyperparams: {'symmetry_breaking': False, 'mip_focus': 1, 'cuts': 3, 'heuristics': 0.8706962488000624, 'presolve': 0, 'delta_start': 1291}\n",
      "file_path used:ProblemSets/Queue25\n",
      "Saved! Sleeping... ZzzZ Zz...\n",
      "Running QueueSize: 25, ProblemNumber: 222, hyperparams: {'symmetry_breaking': False, 'mip_focus': 1, 'cuts': 3, 'heuristics': 0.8706962488000624, 'presolve': 0, 'delta_start': 1291}\n",
      "file_path used:ProblemSets/Queue25\n",
      "Saved! Sleeping... ZzzZ Zz...\n",
      "Running QueueSize: 25, ProblemNumber: 223, hyperparams: {'symmetry_breaking': False, 'mip_focus': 1, 'cuts': 3, 'heuristics': 0.8706962488000624, 'presolve': 0, 'delta_start': 1291}\n",
      "file_path used:ProblemSets/Queue25\n",
      "Saved! Sleeping... ZzzZ Zz...\n",
      "Running QueueSize: 25, ProblemNumber: 224, hyperparams: {'symmetry_breaking': False, 'mip_focus': 1, 'cuts': 3, 'heuristics': 0.8706962488000624, 'presolve': 0, 'delta_start': 1291}\n",
      "file_path used:ProblemSets/Queue25\n",
      "Saved! Sleeping... ZzzZ Zz...\n",
      "Running QueueSize: 25, ProblemNumber: 225, hyperparams: {'symmetry_breaking': False, 'mip_focus': 1, 'cuts': 3, 'heuristics': 0.8706962488000624, 'presolve': 0, 'delta_start': 1291}\n",
      "file_path used:ProblemSets/Queue25\n",
      "Saved! Sleeping... ZzzZ Zz...\n",
      "Running QueueSize: 25, ProblemNumber: 226, hyperparams: {'symmetry_breaking': False, 'mip_focus': 1, 'cuts': 3, 'heuristics': 0.8706962488000624, 'presolve': 0, 'delta_start': 1291}\n",
      "file_path used:ProblemSets/Queue25\n",
      "Saved! Sleeping... ZzzZ Zz...\n",
      "Running QueueSize: 25, ProblemNumber: 227, hyperparams: {'symmetry_breaking': False, 'mip_focus': 1, 'cuts': 3, 'heuristics': 0.8706962488000624, 'presolve': 0, 'delta_start': 1291}\n",
      "file_path used:ProblemSets/Queue25\n",
      "Saved! Sleeping... ZzzZ Zz...\n",
      "Running QueueSize: 25, ProblemNumber: 228, hyperparams: {'symmetry_breaking': False, 'mip_focus': 1, 'cuts': 3, 'heuristics': 0.8706962488000624, 'presolve': 0, 'delta_start': 1291}\n",
      "file_path used:ProblemSets/Queue25\n",
      "Saved! Sleeping... ZzzZ Zz...\n",
      "Running QueueSize: 25, ProblemNumber: 229, hyperparams: {'symmetry_breaking': False, 'mip_focus': 1, 'cuts': 3, 'heuristics': 0.8706962488000624, 'presolve': 0, 'delta_start': 1291}\n",
      "file_path used:ProblemSets/Queue25\n",
      "Saved! Sleeping... ZzzZ Zz...\n",
      "Running QueueSize: 25, ProblemNumber: 230, hyperparams: {'symmetry_breaking': False, 'mip_focus': 1, 'cuts': 3, 'heuristics': 0.8706962488000624, 'presolve': 0, 'delta_start': 1291}\n",
      "file_path used:ProblemSets/Queue25\n",
      "Saved! Sleeping... ZzzZ Zz...\n",
      "Running QueueSize: 25, ProblemNumber: 231, hyperparams: {'symmetry_breaking': False, 'mip_focus': 1, 'cuts': 3, 'heuristics': 0.8706962488000624, 'presolve': 0, 'delta_start': 1291}\n",
      "file_path used:ProblemSets/Queue25\n",
      "Saved! Sleeping... ZzzZ Zz...\n",
      "Running QueueSize: 25, ProblemNumber: 232, hyperparams: {'symmetry_breaking': False, 'mip_focus': 1, 'cuts': 3, 'heuristics': 0.8706962488000624, 'presolve': 0, 'delta_start': 1291}\n",
      "file_path used:ProblemSets/Queue25\n",
      "Saved! Sleeping... ZzzZ Zz...\n",
      "Running QueueSize: 25, ProblemNumber: 233, hyperparams: {'symmetry_breaking': False, 'mip_focus': 1, 'cuts': 3, 'heuristics': 0.8706962488000624, 'presolve': 0, 'delta_start': 1291}\n",
      "file_path used:ProblemSets/Queue25\n",
      "Saved! Sleeping... ZzzZ Zz...\n",
      "Running QueueSize: 25, ProblemNumber: 234, hyperparams: {'symmetry_breaking': False, 'mip_focus': 1, 'cuts': 3, 'heuristics': 0.8706962488000624, 'presolve': 0, 'delta_start': 1291}\n",
      "file_path used:ProblemSets/Queue25\n",
      "Saved! Sleeping... ZzzZ Zz...\n",
      "Running QueueSize: 25, ProblemNumber: 235, hyperparams: {'symmetry_breaking': False, 'mip_focus': 1, 'cuts': 3, 'heuristics': 0.8706962488000624, 'presolve': 0, 'delta_start': 1291}\n",
      "file_path used:ProblemSets/Queue25\n",
      "Saved! Sleeping... ZzzZ Zz...\n",
      "Running QueueSize: 25, ProblemNumber: 236, hyperparams: {'symmetry_breaking': False, 'mip_focus': 1, 'cuts': 3, 'heuristics': 0.8706962488000624, 'presolve': 0, 'delta_start': 1291}\n",
      "file_path used:ProblemSets/Queue25\n",
      "Saved! Sleeping... ZzzZ Zz...\n",
      "Running QueueSize: 25, ProblemNumber: 237, hyperparams: {'symmetry_breaking': False, 'mip_focus': 1, 'cuts': 3, 'heuristics': 0.8706962488000624, 'presolve': 0, 'delta_start': 1291}\n",
      "file_path used:ProblemSets/Queue25\n",
      "Saved! Sleeping... ZzzZ Zz...\n",
      "Running QueueSize: 25, ProblemNumber: 238, hyperparams: {'symmetry_breaking': False, 'mip_focus': 1, 'cuts': 3, 'heuristics': 0.8706962488000624, 'presolve': 0, 'delta_start': 1291}\n",
      "file_path used:ProblemSets/Queue25\n",
      "Saved! Sleeping... ZzzZ Zz...\n",
      "Running QueueSize: 25, ProblemNumber: 239, hyperparams: {'symmetry_breaking': False, 'mip_focus': 1, 'cuts': 3, 'heuristics': 0.8706962488000624, 'presolve': 0, 'delta_start': 1291}\n",
      "file_path used:ProblemSets/Queue25\n",
      "Saved! Sleeping... ZzzZ Zz...\n",
      "Running QueueSize: 25, ProblemNumber: 240, hyperparams: {'symmetry_breaking': False, 'mip_focus': 1, 'cuts': 3, 'heuristics': 0.8706962488000624, 'presolve': 0, 'delta_start': 1291}\n",
      "file_path used:ProblemSets/Queue25\n",
      "Saved! Sleeping... ZzzZ Zz...\n",
      "Running QueueSize: 25, ProblemNumber: 241, hyperparams: {'symmetry_breaking': False, 'mip_focus': 1, 'cuts': 3, 'heuristics': 0.8706962488000624, 'presolve': 0, 'delta_start': 1291}\n",
      "file_path used:ProblemSets/Queue25\n",
      "Saved! Sleeping... ZzzZ Zz...\n",
      "Running QueueSize: 25, ProblemNumber: 242, hyperparams: {'symmetry_breaking': False, 'mip_focus': 1, 'cuts': 3, 'heuristics': 0.8706962488000624, 'presolve': 0, 'delta_start': 1291}\n",
      "file_path used:ProblemSets/Queue25\n",
      "Saved! Sleeping... ZzzZ Zz...\n",
      "Running QueueSize: 25, ProblemNumber: 243, hyperparams: {'symmetry_breaking': False, 'mip_focus': 1, 'cuts': 3, 'heuristics': 0.8706962488000624, 'presolve': 0, 'delta_start': 1291}\n",
      "file_path used:ProblemSets/Queue25\n",
      "Saved! Sleeping... ZzzZ Zz...\n",
      "Running QueueSize: 25, ProblemNumber: 244, hyperparams: {'symmetry_breaking': False, 'mip_focus': 1, 'cuts': 3, 'heuristics': 0.8706962488000624, 'presolve': 0, 'delta_start': 1291}\n",
      "file_path used:ProblemSets/Queue25\n",
      "Saved! Sleeping... ZzzZ Zz...\n",
      "Running QueueSize: 25, ProblemNumber: 245, hyperparams: {'symmetry_breaking': False, 'mip_focus': 1, 'cuts': 3, 'heuristics': 0.8706962488000624, 'presolve': 0, 'delta_start': 1291}\n",
      "file_path used:ProblemSets/Queue25\n",
      "Saved! Sleeping... ZzzZ Zz...\n",
      "Running QueueSize: 25, ProblemNumber: 246, hyperparams: {'symmetry_breaking': False, 'mip_focus': 1, 'cuts': 3, 'heuristics': 0.8706962488000624, 'presolve': 0, 'delta_start': 1291}\n",
      "file_path used:ProblemSets/Queue25\n",
      "Saved! Sleeping... ZzzZ Zz...\n",
      "Running QueueSize: 25, ProblemNumber: 247, hyperparams: {'symmetry_breaking': False, 'mip_focus': 1, 'cuts': 3, 'heuristics': 0.8706962488000624, 'presolve': 0, 'delta_start': 1291}\n",
      "file_path used:ProblemSets/Queue25\n",
      "Saved! Sleeping... ZzzZ Zz...\n",
      "Running QueueSize: 25, ProblemNumber: 248, hyperparams: {'symmetry_breaking': False, 'mip_focus': 1, 'cuts': 3, 'heuristics': 0.8706962488000624, 'presolve': 0, 'delta_start': 1291}\n",
      "file_path used:ProblemSets/Queue25\n",
      "Saved! Sleeping... ZzzZ Zz...\n",
      "Running QueueSize: 25, ProblemNumber: 249, hyperparams: {'symmetry_breaking': False, 'mip_focus': 1, 'cuts': 3, 'heuristics': 0.8706962488000624, 'presolve': 0, 'delta_start': 1291}\n",
      "file_path used:ProblemSets/Queue25\n",
      "Saved! Sleeping... ZzzZ Zz...\n",
      "Running QueueSize: 25, ProblemNumber: 250, hyperparams: {'symmetry_breaking': False, 'mip_focus': 1, 'cuts': 3, 'heuristics': 0.8706962488000624, 'presolve': 0, 'delta_start': 1291}\n",
      "file_path used:ProblemSets/Queue25\n",
      "Saved! Sleeping... ZzzZ Zz...\n",
      "Running QueueSize: 25, ProblemNumber: 251, hyperparams: {'symmetry_breaking': False, 'mip_focus': 1, 'cuts': 3, 'heuristics': 0.8706962488000624, 'presolve': 0, 'delta_start': 1291}\n",
      "file_path used:ProblemSets/Queue25\n",
      "Saved! Sleeping... ZzzZ Zz...\n",
      "Running QueueSize: 25, ProblemNumber: 252, hyperparams: {'symmetry_breaking': False, 'mip_focus': 1, 'cuts': 3, 'heuristics': 0.8706962488000624, 'presolve': 0, 'delta_start': 1291}\n",
      "file_path used:ProblemSets/Queue25\n",
      "Saved! Sleeping... ZzzZ Zz...\n",
      "Running QueueSize: 25, ProblemNumber: 253, hyperparams: {'symmetry_breaking': False, 'mip_focus': 1, 'cuts': 3, 'heuristics': 0.8706962488000624, 'presolve': 0, 'delta_start': 1291}\n",
      "file_path used:ProblemSets/Queue25\n",
      "Saved! Sleeping... ZzzZ Zz...\n",
      "Running QueueSize: 25, ProblemNumber: 254, hyperparams: {'symmetry_breaking': False, 'mip_focus': 1, 'cuts': 3, 'heuristics': 0.8706962488000624, 'presolve': 0, 'delta_start': 1291}\n",
      "file_path used:ProblemSets/Queue25\n",
      "Saved! Sleeping... ZzzZ Zz...\n",
      "Running QueueSize: 25, ProblemNumber: 255, hyperparams: {'symmetry_breaking': False, 'mip_focus': 1, 'cuts': 3, 'heuristics': 0.8706962488000624, 'presolve': 0, 'delta_start': 1291}\n",
      "file_path used:ProblemSets/Queue25\n",
      "Saved! Sleeping... ZzzZ Zz...\n",
      "Running QueueSize: 25, ProblemNumber: 256, hyperparams: {'symmetry_breaking': False, 'mip_focus': 1, 'cuts': 3, 'heuristics': 0.8706962488000624, 'presolve': 0, 'delta_start': 1291}\n",
      "file_path used:ProblemSets/Queue25\n",
      "Saved! Sleeping... ZzzZ Zz...\n",
      "Running QueueSize: 25, ProblemNumber: 257, hyperparams: {'symmetry_breaking': False, 'mip_focus': 1, 'cuts': 3, 'heuristics': 0.8706962488000624, 'presolve': 0, 'delta_start': 1291}\n",
      "file_path used:ProblemSets/Queue25\n",
      "Saved! Sleeping... ZzzZ Zz...\n",
      "Running QueueSize: 25, ProblemNumber: 258, hyperparams: {'symmetry_breaking': False, 'mip_focus': 1, 'cuts': 3, 'heuristics': 0.8706962488000624, 'presolve': 0, 'delta_start': 1291}\n",
      "file_path used:ProblemSets/Queue25\n",
      "Saved! Sleeping... ZzzZ Zz...\n",
      "Running QueueSize: 25, ProblemNumber: 259, hyperparams: {'symmetry_breaking': False, 'mip_focus': 1, 'cuts': 3, 'heuristics': 0.8706962488000624, 'presolve': 0, 'delta_start': 1291}\n",
      "file_path used:ProblemSets/Queue25\n",
      "Saved! Sleeping... ZzzZ Zz...\n",
      "Running QueueSize: 25, ProblemNumber: 260, hyperparams: {'symmetry_breaking': False, 'mip_focus': 1, 'cuts': 3, 'heuristics': 0.8706962488000624, 'presolve': 0, 'delta_start': 1291}\n",
      "file_path used:ProblemSets/Queue25\n",
      "Saved! Sleeping... ZzzZ Zz...\n",
      "Running QueueSize: 25, ProblemNumber: 261, hyperparams: {'symmetry_breaking': False, 'mip_focus': 1, 'cuts': 3, 'heuristics': 0.8706962488000624, 'presolve': 0, 'delta_start': 1291}\n",
      "file_path used:ProblemSets/Queue25\n",
      "Saved! Sleeping... ZzzZ Zz...\n",
      "Running QueueSize: 25, ProblemNumber: 262, hyperparams: {'symmetry_breaking': False, 'mip_focus': 1, 'cuts': 3, 'heuristics': 0.8706962488000624, 'presolve': 0, 'delta_start': 1291}\n",
      "file_path used:ProblemSets/Queue25\n",
      "Saved! Sleeping... ZzzZ Zz...\n",
      "Running QueueSize: 25, ProblemNumber: 263, hyperparams: {'symmetry_breaking': False, 'mip_focus': 1, 'cuts': 3, 'heuristics': 0.8706962488000624, 'presolve': 0, 'delta_start': 1291}\n",
      "file_path used:ProblemSets/Queue25\n",
      "Saved! Sleeping... ZzzZ Zz...\n",
      "Running QueueSize: 25, ProblemNumber: 264, hyperparams: {'symmetry_breaking': False, 'mip_focus': 1, 'cuts': 3, 'heuristics': 0.8706962488000624, 'presolve': 0, 'delta_start': 1291}\n",
      "file_path used:ProblemSets/Queue25\n",
      "Saved! Sleeping... ZzzZ Zz...\n",
      "Running QueueSize: 25, ProblemNumber: 265, hyperparams: {'symmetry_breaking': False, 'mip_focus': 1, 'cuts': 3, 'heuristics': 0.8706962488000624, 'presolve': 0, 'delta_start': 1291}\n",
      "file_path used:ProblemSets/Queue25\n",
      "Saved! Sleeping... ZzzZ Zz...\n",
      "Running QueueSize: 25, ProblemNumber: 266, hyperparams: {'symmetry_breaking': False, 'mip_focus': 1, 'cuts': 3, 'heuristics': 0.8706962488000624, 'presolve': 0, 'delta_start': 1291}\n",
      "file_path used:ProblemSets/Queue25\n",
      "Saved! Sleeping... ZzzZ Zz...\n",
      "Running QueueSize: 25, ProblemNumber: 267, hyperparams: {'symmetry_breaking': False, 'mip_focus': 1, 'cuts': 3, 'heuristics': 0.8706962488000624, 'presolve': 0, 'delta_start': 1291}\n",
      "file_path used:ProblemSets/Queue25\n",
      "Saved! Sleeping... ZzzZ Zz...\n",
      "Running QueueSize: 25, ProblemNumber: 268, hyperparams: {'symmetry_breaking': False, 'mip_focus': 1, 'cuts': 3, 'heuristics': 0.8706962488000624, 'presolve': 0, 'delta_start': 1291}\n",
      "file_path used:ProblemSets/Queue25\n",
      "Saved! Sleeping... ZzzZ Zz...\n",
      "Running QueueSize: 25, ProblemNumber: 269, hyperparams: {'symmetry_breaking': False, 'mip_focus': 1, 'cuts': 3, 'heuristics': 0.8706962488000624, 'presolve': 0, 'delta_start': 1291}\n",
      "file_path used:ProblemSets/Queue25\n",
      "Saved! Sleeping... ZzzZ Zz...\n",
      "Running QueueSize: 25, ProblemNumber: 270, hyperparams: {'symmetry_breaking': False, 'mip_focus': 1, 'cuts': 3, 'heuristics': 0.8706962488000624, 'presolve': 0, 'delta_start': 1291}\n",
      "file_path used:ProblemSets/Queue25\n",
      "Saved! Sleeping... ZzzZ Zz...\n",
      "Running QueueSize: 25, ProblemNumber: 271, hyperparams: {'symmetry_breaking': False, 'mip_focus': 1, 'cuts': 3, 'heuristics': 0.8706962488000624, 'presolve': 0, 'delta_start': 1291}\n",
      "file_path used:ProblemSets/Queue25\n",
      "Saved! Sleeping... ZzzZ Zz...\n",
      "Running QueueSize: 25, ProblemNumber: 272, hyperparams: {'symmetry_breaking': False, 'mip_focus': 1, 'cuts': 3, 'heuristics': 0.8706962488000624, 'presolve': 0, 'delta_start': 1291}\n",
      "file_path used:ProblemSets/Queue25\n",
      "Saved! Sleeping... ZzzZ Zz...\n",
      "Running QueueSize: 25, ProblemNumber: 273, hyperparams: {'symmetry_breaking': False, 'mip_focus': 1, 'cuts': 3, 'heuristics': 0.8706962488000624, 'presolve': 0, 'delta_start': 1291}\n",
      "file_path used:ProblemSets/Queue25\n",
      "Saved! Sleeping... ZzzZ Zz...\n",
      "Running QueueSize: 25, ProblemNumber: 274, hyperparams: {'symmetry_breaking': False, 'mip_focus': 1, 'cuts': 3, 'heuristics': 0.8706962488000624, 'presolve': 0, 'delta_start': 1291}\n",
      "file_path used:ProblemSets/Queue25\n",
      "Saved! Sleeping... ZzzZ Zz...\n",
      "Running QueueSize: 25, ProblemNumber: 275, hyperparams: {'symmetry_breaking': False, 'mip_focus': 1, 'cuts': 3, 'heuristics': 0.8706962488000624, 'presolve': 0, 'delta_start': 1291}\n",
      "file_path used:ProblemSets/Queue25\n",
      "Saved! Sleeping... ZzzZ Zz...\n",
      "Running QueueSize: 25, ProblemNumber: 276, hyperparams: {'symmetry_breaking': False, 'mip_focus': 1, 'cuts': 3, 'heuristics': 0.8706962488000624, 'presolve': 0, 'delta_start': 1291}\n",
      "file_path used:ProblemSets/Queue25\n",
      "Saved! Sleeping... ZzzZ Zz...\n",
      "Running QueueSize: 25, ProblemNumber: 277, hyperparams: {'symmetry_breaking': False, 'mip_focus': 1, 'cuts': 3, 'heuristics': 0.8706962488000624, 'presolve': 0, 'delta_start': 1291}\n",
      "file_path used:ProblemSets/Queue25\n",
      "Saved! Sleeping... ZzzZ Zz...\n",
      "Running QueueSize: 25, ProblemNumber: 278, hyperparams: {'symmetry_breaking': False, 'mip_focus': 1, 'cuts': 3, 'heuristics': 0.8706962488000624, 'presolve': 0, 'delta_start': 1291}\n",
      "file_path used:ProblemSets/Queue25\n",
      "Saved! Sleeping... ZzzZ Zz...\n",
      "Running QueueSize: 25, ProblemNumber: 279, hyperparams: {'symmetry_breaking': False, 'mip_focus': 1, 'cuts': 3, 'heuristics': 0.8706962488000624, 'presolve': 0, 'delta_start': 1291}\n",
      "file_path used:ProblemSets/Queue25\n",
      "Saved! Sleeping... ZzzZ Zz...\n",
      "Running QueueSize: 25, ProblemNumber: 280, hyperparams: {'symmetry_breaking': False, 'mip_focus': 1, 'cuts': 3, 'heuristics': 0.8706962488000624, 'presolve': 0, 'delta_start': 1291}\n",
      "file_path used:ProblemSets/Queue25\n",
      "Saved! Sleeping... ZzzZ Zz...\n",
      "Running QueueSize: 25, ProblemNumber: 281, hyperparams: {'symmetry_breaking': False, 'mip_focus': 1, 'cuts': 3, 'heuristics': 0.8706962488000624, 'presolve': 0, 'delta_start': 1291}\n",
      "file_path used:ProblemSets/Queue25\n",
      "Saved! Sleeping... ZzzZ Zz...\n",
      "Running QueueSize: 25, ProblemNumber: 282, hyperparams: {'symmetry_breaking': False, 'mip_focus': 1, 'cuts': 3, 'heuristics': 0.8706962488000624, 'presolve': 0, 'delta_start': 1291}\n",
      "file_path used:ProblemSets/Queue25\n",
      "Saved! Sleeping... ZzzZ Zz...\n",
      "Running QueueSize: 25, ProblemNumber: 283, hyperparams: {'symmetry_breaking': False, 'mip_focus': 1, 'cuts': 3, 'heuristics': 0.8706962488000624, 'presolve': 0, 'delta_start': 1291}\n",
      "file_path used:ProblemSets/Queue25\n",
      "Saved! Sleeping... ZzzZ Zz...\n",
      "Running QueueSize: 25, ProblemNumber: 284, hyperparams: {'symmetry_breaking': False, 'mip_focus': 1, 'cuts': 3, 'heuristics': 0.8706962488000624, 'presolve': 0, 'delta_start': 1291}\n",
      "file_path used:ProblemSets/Queue25\n",
      "Saved! Sleeping... ZzzZ Zz...\n",
      "Running QueueSize: 25, ProblemNumber: 285, hyperparams: {'symmetry_breaking': False, 'mip_focus': 1, 'cuts': 3, 'heuristics': 0.8706962488000624, 'presolve': 0, 'delta_start': 1291}\n",
      "file_path used:ProblemSets/Queue25\n",
      "Saved! Sleeping... ZzzZ Zz...\n",
      "Running QueueSize: 25, ProblemNumber: 286, hyperparams: {'symmetry_breaking': False, 'mip_focus': 1, 'cuts': 3, 'heuristics': 0.8706962488000624, 'presolve': 0, 'delta_start': 1291}\n",
      "file_path used:ProblemSets/Queue25\n",
      "Saved! Sleeping... ZzzZ Zz...\n",
      "Running QueueSize: 25, ProblemNumber: 287, hyperparams: {'symmetry_breaking': False, 'mip_focus': 1, 'cuts': 3, 'heuristics': 0.8706962488000624, 'presolve': 0, 'delta_start': 1291}\n",
      "file_path used:ProblemSets/Queue25\n",
      "Saved! Sleeping... ZzzZ Zz...\n",
      "Running QueueSize: 25, ProblemNumber: 288, hyperparams: {'symmetry_breaking': False, 'mip_focus': 1, 'cuts': 3, 'heuristics': 0.8706962488000624, 'presolve': 0, 'delta_start': 1291}\n",
      "file_path used:ProblemSets/Queue25\n",
      "Saved! Sleeping... ZzzZ Zz...\n",
      "Running QueueSize: 25, ProblemNumber: 289, hyperparams: {'symmetry_breaking': False, 'mip_focus': 1, 'cuts': 3, 'heuristics': 0.8706962488000624, 'presolve': 0, 'delta_start': 1291}\n",
      "file_path used:ProblemSets/Queue25\n",
      "Saved! Sleeping... ZzzZ Zz...\n",
      "Running QueueSize: 25, ProblemNumber: 290, hyperparams: {'symmetry_breaking': False, 'mip_focus': 1, 'cuts': 3, 'heuristics': 0.8706962488000624, 'presolve': 0, 'delta_start': 1291}\n",
      "file_path used:ProblemSets/Queue25\n",
      "Saved! Sleeping... ZzzZ Zz...\n",
      "Running QueueSize: 25, ProblemNumber: 291, hyperparams: {'symmetry_breaking': False, 'mip_focus': 1, 'cuts': 3, 'heuristics': 0.8706962488000624, 'presolve': 0, 'delta_start': 1291}\n",
      "file_path used:ProblemSets/Queue25\n",
      "Saved! Sleeping... ZzzZ Zz...\n",
      "Running QueueSize: 25, ProblemNumber: 292, hyperparams: {'symmetry_breaking': False, 'mip_focus': 1, 'cuts': 3, 'heuristics': 0.8706962488000624, 'presolve': 0, 'delta_start': 1291}\n",
      "file_path used:ProblemSets/Queue25\n",
      "Saved! Sleeping... ZzzZ Zz...\n",
      "Running QueueSize: 25, ProblemNumber: 293, hyperparams: {'symmetry_breaking': False, 'mip_focus': 1, 'cuts': 3, 'heuristics': 0.8706962488000624, 'presolve': 0, 'delta_start': 1291}\n",
      "file_path used:ProblemSets/Queue25\n",
      "Saved! Sleeping... ZzzZ Zz...\n",
      "Running QueueSize: 25, ProblemNumber: 294, hyperparams: {'symmetry_breaking': False, 'mip_focus': 1, 'cuts': 3, 'heuristics': 0.8706962488000624, 'presolve': 0, 'delta_start': 1291}\n",
      "file_path used:ProblemSets/Queue25\n",
      "Saved! Sleeping... ZzzZ Zz...\n",
      "Running QueueSize: 25, ProblemNumber: 295, hyperparams: {'symmetry_breaking': False, 'mip_focus': 1, 'cuts': 3, 'heuristics': 0.8706962488000624, 'presolve': 0, 'delta_start': 1291}\n",
      "file_path used:ProblemSets/Queue25\n",
      "Saved! Sleeping... ZzzZ Zz...\n",
      "Running QueueSize: 25, ProblemNumber: 296, hyperparams: {'symmetry_breaking': False, 'mip_focus': 1, 'cuts': 3, 'heuristics': 0.8706962488000624, 'presolve': 0, 'delta_start': 1291}\n",
      "file_path used:ProblemSets/Queue25\n",
      "Saved! Sleeping... ZzzZ Zz...\n",
      "Running QueueSize: 25, ProblemNumber: 297, hyperparams: {'symmetry_breaking': False, 'mip_focus': 1, 'cuts': 3, 'heuristics': 0.8706962488000624, 'presolve': 0, 'delta_start': 1291}\n",
      "file_path used:ProblemSets/Queue25\n",
      "Saved! Sleeping... ZzzZ Zz...\n",
      "Running QueueSize: 25, ProblemNumber: 298, hyperparams: {'symmetry_breaking': False, 'mip_focus': 1, 'cuts': 3, 'heuristics': 0.8706962488000624, 'presolve': 0, 'delta_start': 1291}\n",
      "file_path used:ProblemSets/Queue25\n",
      "Saved! Sleeping... ZzzZ Zz...\n",
      "Running QueueSize: 25, ProblemNumber: 299, hyperparams: {'symmetry_breaking': False, 'mip_focus': 1, 'cuts': 3, 'heuristics': 0.8706962488000624, 'presolve': 0, 'delta_start': 1291}\n",
      "file_path used:ProblemSets/Queue25\n",
      "Saved! Sleeping... ZzzZ Zz...\n",
      "Running QueueSize: 25, ProblemNumber: 300, hyperparams: {'symmetry_breaking': False, 'mip_focus': 1, 'cuts': 3, 'heuristics': 0.8706962488000624, 'presolve': 0, 'delta_start': 1291}\n",
      "file_path used:ProblemSets/Queue25\n",
      "Saved! Sleeping... ZzzZ Zz...\n",
      "Running QueueSize: 75, ProblemNumber: 1, hyperparams: {'symmetry_breaking': False, 'mip_focus': 1, 'cuts': 2, 'heuristics': 0.7991870295315516, 'presolve': 1, 'delta_start': 2509}\n",
      "file_path used:ProblemSets/Queue75\n",
      "Saved! Sleeping... ZzzZ Zz...\n",
      "Running QueueSize: 75, ProblemNumber: 2, hyperparams: {'symmetry_breaking': False, 'mip_focus': 1, 'cuts': 2, 'heuristics': 0.7991870295315516, 'presolve': 1, 'delta_start': 2509}\n",
      "file_path used:ProblemSets/Queue75\n",
      "Saved! Sleeping... ZzzZ Zz...\n",
      "Running QueueSize: 75, ProblemNumber: 3, hyperparams: {'symmetry_breaking': False, 'mip_focus': 1, 'cuts': 2, 'heuristics': 0.7991870295315516, 'presolve': 1, 'delta_start': 2509}\n",
      "file_path used:ProblemSets/Queue75\n",
      "Saved! Sleeping... ZzzZ Zz...\n",
      "Running QueueSize: 75, ProblemNumber: 4, hyperparams: {'symmetry_breaking': False, 'mip_focus': 1, 'cuts': 2, 'heuristics': 0.7991870295315516, 'presolve': 1, 'delta_start': 2509}\n",
      "file_path used:ProblemSets/Queue75\n",
      "Saved! Sleeping... ZzzZ Zz...\n",
      "Running QueueSize: 75, ProblemNumber: 5, hyperparams: {'symmetry_breaking': False, 'mip_focus': 1, 'cuts': 2, 'heuristics': 0.7991870295315516, 'presolve': 1, 'delta_start': 2509}\n",
      "file_path used:ProblemSets/Queue75\n",
      "Saved! Sleeping... ZzzZ Zz...\n",
      "Running QueueSize: 75, ProblemNumber: 6, hyperparams: {'symmetry_breaking': False, 'mip_focus': 1, 'cuts': 2, 'heuristics': 0.7991870295315516, 'presolve': 1, 'delta_start': 2509}\n",
      "file_path used:ProblemSets/Queue75\n",
      "Saved! Sleeping... ZzzZ Zz...\n",
      "Running QueueSize: 75, ProblemNumber: 7, hyperparams: {'symmetry_breaking': False, 'mip_focus': 1, 'cuts': 2, 'heuristics': 0.7991870295315516, 'presolve': 1, 'delta_start': 2509}\n",
      "file_path used:ProblemSets/Queue75\n",
      "Saved! Sleeping... ZzzZ Zz...\n",
      "Running QueueSize: 75, ProblemNumber: 8, hyperparams: {'symmetry_breaking': False, 'mip_focus': 1, 'cuts': 2, 'heuristics': 0.7991870295315516, 'presolve': 1, 'delta_start': 2509}\n",
      "file_path used:ProblemSets/Queue75\n",
      "Saved! Sleeping... ZzzZ Zz...\n",
      "Running QueueSize: 75, ProblemNumber: 9, hyperparams: {'symmetry_breaking': False, 'mip_focus': 1, 'cuts': 2, 'heuristics': 0.7991870295315516, 'presolve': 1, 'delta_start': 2509}\n",
      "file_path used:ProblemSets/Queue75\n",
      "Saved! Sleeping... ZzzZ Zz...\n",
      "Running QueueSize: 75, ProblemNumber: 10, hyperparams: {'symmetry_breaking': False, 'mip_focus': 1, 'cuts': 2, 'heuristics': 0.7991870295315516, 'presolve': 1, 'delta_start': 2509}\n",
      "file_path used:ProblemSets/Queue75\n",
      "Saved! Sleeping... ZzzZ Zz...\n",
      "Running QueueSize: 75, ProblemNumber: 11, hyperparams: {'symmetry_breaking': False, 'mip_focus': 1, 'cuts': 2, 'heuristics': 0.7991870295315516, 'presolve': 1, 'delta_start': 2509}\n",
      "file_path used:ProblemSets/Queue75\n",
      "Saved! Sleeping... ZzzZ Zz...\n",
      "Running QueueSize: 75, ProblemNumber: 12, hyperparams: {'symmetry_breaking': False, 'mip_focus': 1, 'cuts': 2, 'heuristics': 0.7991870295315516, 'presolve': 1, 'delta_start': 2509}\n",
      "file_path used:ProblemSets/Queue75\n",
      "Saved! Sleeping... ZzzZ Zz...\n",
      "Running QueueSize: 75, ProblemNumber: 13, hyperparams: {'symmetry_breaking': False, 'mip_focus': 1, 'cuts': 2, 'heuristics': 0.7991870295315516, 'presolve': 1, 'delta_start': 2509}\n",
      "file_path used:ProblemSets/Queue75\n",
      "Saved! Sleeping... ZzzZ Zz...\n",
      "Running QueueSize: 75, ProblemNumber: 14, hyperparams: {'symmetry_breaking': False, 'mip_focus': 1, 'cuts': 2, 'heuristics': 0.7991870295315516, 'presolve': 1, 'delta_start': 2509}\n",
      "file_path used:ProblemSets/Queue75\n",
      "Saved! Sleeping... ZzzZ Zz...\n",
      "Running QueueSize: 75, ProblemNumber: 15, hyperparams: {'symmetry_breaking': False, 'mip_focus': 1, 'cuts': 2, 'heuristics': 0.7991870295315516, 'presolve': 1, 'delta_start': 2509}\n",
      "file_path used:ProblemSets/Queue75\n",
      "Saved! Sleeping... ZzzZ Zz...\n",
      "Running QueueSize: 75, ProblemNumber: 16, hyperparams: {'symmetry_breaking': False, 'mip_focus': 1, 'cuts': 2, 'heuristics': 0.7991870295315516, 'presolve': 1, 'delta_start': 2509}\n",
      "file_path used:ProblemSets/Queue75\n",
      "Saved! Sleeping... ZzzZ Zz...\n",
      "Running QueueSize: 75, ProblemNumber: 17, hyperparams: {'symmetry_breaking': False, 'mip_focus': 1, 'cuts': 2, 'heuristics': 0.7991870295315516, 'presolve': 1, 'delta_start': 2509}\n",
      "file_path used:ProblemSets/Queue75\n",
      "Saved! Sleeping... ZzzZ Zz...\n",
      "Running QueueSize: 75, ProblemNumber: 18, hyperparams: {'symmetry_breaking': False, 'mip_focus': 1, 'cuts': 2, 'heuristics': 0.7991870295315516, 'presolve': 1, 'delta_start': 2509}\n",
      "file_path used:ProblemSets/Queue75\n",
      "Saved! Sleeping... ZzzZ Zz...\n",
      "Running QueueSize: 75, ProblemNumber: 19, hyperparams: {'symmetry_breaking': False, 'mip_focus': 1, 'cuts': 2, 'heuristics': 0.7991870295315516, 'presolve': 1, 'delta_start': 2509}\n",
      "file_path used:ProblemSets/Queue75\n",
      "Saved! Sleeping... ZzzZ Zz...\n",
      "Running QueueSize: 75, ProblemNumber: 20, hyperparams: {'symmetry_breaking': False, 'mip_focus': 1, 'cuts': 2, 'heuristics': 0.7991870295315516, 'presolve': 1, 'delta_start': 2509}\n",
      "file_path used:ProblemSets/Queue75\n",
      "Saved! Sleeping... ZzzZ Zz...\n",
      "Running QueueSize: 75, ProblemNumber: 21, hyperparams: {'symmetry_breaking': False, 'mip_focus': 1, 'cuts': 2, 'heuristics': 0.7991870295315516, 'presolve': 1, 'delta_start': 2509}\n",
      "file_path used:ProblemSets/Queue75\n",
      "Saved! Sleeping... ZzzZ Zz...\n",
      "Running QueueSize: 75, ProblemNumber: 22, hyperparams: {'symmetry_breaking': False, 'mip_focus': 1, 'cuts': 2, 'heuristics': 0.7991870295315516, 'presolve': 1, 'delta_start': 2509}\n",
      "file_path used:ProblemSets/Queue75\n",
      "Saved! Sleeping... ZzzZ Zz...\n",
      "Running QueueSize: 75, ProblemNumber: 23, hyperparams: {'symmetry_breaking': False, 'mip_focus': 1, 'cuts': 2, 'heuristics': 0.7991870295315516, 'presolve': 1, 'delta_start': 2509}\n",
      "file_path used:ProblemSets/Queue75\n",
      "Saved! Sleeping... ZzzZ Zz...\n",
      "Running QueueSize: 75, ProblemNumber: 24, hyperparams: {'symmetry_breaking': False, 'mip_focus': 1, 'cuts': 2, 'heuristics': 0.7991870295315516, 'presolve': 1, 'delta_start': 2509}\n",
      "file_path used:ProblemSets/Queue75\n",
      "Saved! Sleeping... ZzzZ Zz...\n",
      "Running QueueSize: 75, ProblemNumber: 25, hyperparams: {'symmetry_breaking': False, 'mip_focus': 1, 'cuts': 2, 'heuristics': 0.7991870295315516, 'presolve': 1, 'delta_start': 2509}\n",
      "file_path used:ProblemSets/Queue75\n",
      "Saved! Sleeping... ZzzZ Zz...\n",
      "Running QueueSize: 75, ProblemNumber: 26, hyperparams: {'symmetry_breaking': False, 'mip_focus': 1, 'cuts': 2, 'heuristics': 0.7991870295315516, 'presolve': 1, 'delta_start': 2509}\n",
      "file_path used:ProblemSets/Queue75\n",
      "Saved! Sleeping... ZzzZ Zz...\n",
      "Running QueueSize: 75, ProblemNumber: 27, hyperparams: {'symmetry_breaking': False, 'mip_focus': 1, 'cuts': 2, 'heuristics': 0.7991870295315516, 'presolve': 1, 'delta_start': 2509}\n",
      "file_path used:ProblemSets/Queue75\n",
      "Saved! Sleeping... ZzzZ Zz...\n",
      "Running QueueSize: 75, ProblemNumber: 28, hyperparams: {'symmetry_breaking': False, 'mip_focus': 1, 'cuts': 2, 'heuristics': 0.7991870295315516, 'presolve': 1, 'delta_start': 2509}\n",
      "file_path used:ProblemSets/Queue75\n",
      "Saved! Sleeping... ZzzZ Zz...\n",
      "Running QueueSize: 75, ProblemNumber: 29, hyperparams: {'symmetry_breaking': False, 'mip_focus': 1, 'cuts': 2, 'heuristics': 0.7991870295315516, 'presolve': 1, 'delta_start': 2509}\n",
      "file_path used:ProblemSets/Queue75\n",
      "Saved! Sleeping... ZzzZ Zz...\n",
      "Running QueueSize: 75, ProblemNumber: 30, hyperparams: {'symmetry_breaking': False, 'mip_focus': 1, 'cuts': 2, 'heuristics': 0.7991870295315516, 'presolve': 1, 'delta_start': 2509}\n",
      "file_path used:ProblemSets/Queue75\n",
      "Saved! Sleeping... ZzzZ Zz...\n",
      "Running QueueSize: 75, ProblemNumber: 31, hyperparams: {'symmetry_breaking': False, 'mip_focus': 1, 'cuts': 2, 'heuristics': 0.7991870295315516, 'presolve': 1, 'delta_start': 2509}\n",
      "file_path used:ProblemSets/Queue75\n",
      "Saved! Sleeping... ZzzZ Zz...\n",
      "Running QueueSize: 75, ProblemNumber: 32, hyperparams: {'symmetry_breaking': False, 'mip_focus': 1, 'cuts': 2, 'heuristics': 0.7991870295315516, 'presolve': 1, 'delta_start': 2509}\n",
      "file_path used:ProblemSets/Queue75\n",
      "Saved! Sleeping... ZzzZ Zz...\n",
      "Running QueueSize: 75, ProblemNumber: 33, hyperparams: {'symmetry_breaking': False, 'mip_focus': 1, 'cuts': 2, 'heuristics': 0.7991870295315516, 'presolve': 1, 'delta_start': 2509}\n",
      "file_path used:ProblemSets/Queue75\n",
      "Saved! Sleeping... ZzzZ Zz...\n",
      "Running QueueSize: 75, ProblemNumber: 34, hyperparams: {'symmetry_breaking': False, 'mip_focus': 1, 'cuts': 2, 'heuristics': 0.7991870295315516, 'presolve': 1, 'delta_start': 2509}\n",
      "file_path used:ProblemSets/Queue75\n",
      "Saved! Sleeping... ZzzZ Zz...\n",
      "Running QueueSize: 75, ProblemNumber: 35, hyperparams: {'symmetry_breaking': False, 'mip_focus': 1, 'cuts': 2, 'heuristics': 0.7991870295315516, 'presolve': 1, 'delta_start': 2509}\n",
      "file_path used:ProblemSets/Queue75\n",
      "Saved! Sleeping... ZzzZ Zz...\n",
      "Running QueueSize: 75, ProblemNumber: 36, hyperparams: {'symmetry_breaking': False, 'mip_focus': 1, 'cuts': 2, 'heuristics': 0.7991870295315516, 'presolve': 1, 'delta_start': 2509}\n",
      "file_path used:ProblemSets/Queue75\n",
      "Saved! Sleeping... ZzzZ Zz...\n",
      "Running QueueSize: 75, ProblemNumber: 37, hyperparams: {'symmetry_breaking': False, 'mip_focus': 1, 'cuts': 2, 'heuristics': 0.7991870295315516, 'presolve': 1, 'delta_start': 2509}\n",
      "file_path used:ProblemSets/Queue75\n",
      "Saved! Sleeping... ZzzZ Zz...\n",
      "Running QueueSize: 75, ProblemNumber: 38, hyperparams: {'symmetry_breaking': False, 'mip_focus': 1, 'cuts': 2, 'heuristics': 0.7991870295315516, 'presolve': 1, 'delta_start': 2509}\n",
      "file_path used:ProblemSets/Queue75\n",
      "Saved! Sleeping... ZzzZ Zz...\n",
      "Running QueueSize: 75, ProblemNumber: 39, hyperparams: {'symmetry_breaking': False, 'mip_focus': 1, 'cuts': 2, 'heuristics': 0.7991870295315516, 'presolve': 1, 'delta_start': 2509}\n",
      "file_path used:ProblemSets/Queue75\n",
      "Saved! Sleeping... ZzzZ Zz...\n",
      "Running QueueSize: 75, ProblemNumber: 40, hyperparams: {'symmetry_breaking': False, 'mip_focus': 1, 'cuts': 2, 'heuristics': 0.7991870295315516, 'presolve': 1, 'delta_start': 2509}\n",
      "file_path used:ProblemSets/Queue75\n",
      "Saved! Sleeping... ZzzZ Zz...\n",
      "Running QueueSize: 75, ProblemNumber: 41, hyperparams: {'symmetry_breaking': False, 'mip_focus': 1, 'cuts': 2, 'heuristics': 0.7991870295315516, 'presolve': 1, 'delta_start': 2509}\n",
      "file_path used:ProblemSets/Queue75\n",
      "Saved! Sleeping... ZzzZ Zz...\n",
      "Running QueueSize: 75, ProblemNumber: 42, hyperparams: {'symmetry_breaking': False, 'mip_focus': 1, 'cuts': 2, 'heuristics': 0.7991870295315516, 'presolve': 1, 'delta_start': 2509}\n",
      "file_path used:ProblemSets/Queue75\n",
      "Saved! Sleeping... ZzzZ Zz...\n",
      "Running QueueSize: 75, ProblemNumber: 43, hyperparams: {'symmetry_breaking': False, 'mip_focus': 1, 'cuts': 2, 'heuristics': 0.7991870295315516, 'presolve': 1, 'delta_start': 2509}\n",
      "file_path used:ProblemSets/Queue75\n",
      "Saved! Sleeping... ZzzZ Zz...\n",
      "Running QueueSize: 75, ProblemNumber: 44, hyperparams: {'symmetry_breaking': False, 'mip_focus': 1, 'cuts': 2, 'heuristics': 0.7991870295315516, 'presolve': 1, 'delta_start': 2509}\n",
      "file_path used:ProblemSets/Queue75\n",
      "Saved! Sleeping... ZzzZ Zz...\n",
      "Running QueueSize: 75, ProblemNumber: 45, hyperparams: {'symmetry_breaking': False, 'mip_focus': 1, 'cuts': 2, 'heuristics': 0.7991870295315516, 'presolve': 1, 'delta_start': 2509}\n",
      "file_path used:ProblemSets/Queue75\n",
      "Saved! Sleeping... ZzzZ Zz...\n",
      "Running QueueSize: 75, ProblemNumber: 46, hyperparams: {'symmetry_breaking': False, 'mip_focus': 1, 'cuts': 2, 'heuristics': 0.7991870295315516, 'presolve': 1, 'delta_start': 2509}\n",
      "file_path used:ProblemSets/Queue75\n",
      "Saved! Sleeping... ZzzZ Zz...\n",
      "Running QueueSize: 75, ProblemNumber: 47, hyperparams: {'symmetry_breaking': False, 'mip_focus': 1, 'cuts': 2, 'heuristics': 0.7991870295315516, 'presolve': 1, 'delta_start': 2509}\n",
      "file_path used:ProblemSets/Queue75\n",
      "Saved! Sleeping... ZzzZ Zz...\n",
      "Running QueueSize: 75, ProblemNumber: 48, hyperparams: {'symmetry_breaking': False, 'mip_focus': 1, 'cuts': 2, 'heuristics': 0.7991870295315516, 'presolve': 1, 'delta_start': 2509}\n",
      "file_path used:ProblemSets/Queue75\n",
      "Saved! Sleeping... ZzzZ Zz...\n",
      "Running QueueSize: 75, ProblemNumber: 49, hyperparams: {'symmetry_breaking': False, 'mip_focus': 1, 'cuts': 2, 'heuristics': 0.7991870295315516, 'presolve': 1, 'delta_start': 2509}\n",
      "file_path used:ProblemSets/Queue75\n",
      "Saved! Sleeping... ZzzZ Zz...\n",
      "Running QueueSize: 75, ProblemNumber: 50, hyperparams: {'symmetry_breaking': False, 'mip_focus': 1, 'cuts': 2, 'heuristics': 0.7991870295315516, 'presolve': 1, 'delta_start': 2509}\n",
      "file_path used:ProblemSets/Queue75\n",
      "Saved! Sleeping... ZzzZ Zz...\n",
      "Running QueueSize: 75, ProblemNumber: 51, hyperparams: {'symmetry_breaking': False, 'mip_focus': 1, 'cuts': 2, 'heuristics': 0.7991870295315516, 'presolve': 1, 'delta_start': 2509}\n",
      "file_path used:ProblemSets/Queue75\n",
      "Saved! Sleeping... ZzzZ Zz...\n",
      "Running QueueSize: 75, ProblemNumber: 52, hyperparams: {'symmetry_breaking': False, 'mip_focus': 1, 'cuts': 2, 'heuristics': 0.7991870295315516, 'presolve': 1, 'delta_start': 2509}\n",
      "file_path used:ProblemSets/Queue75\n",
      "Saved! Sleeping... ZzzZ Zz...\n",
      "Running QueueSize: 75, ProblemNumber: 53, hyperparams: {'symmetry_breaking': False, 'mip_focus': 1, 'cuts': 2, 'heuristics': 0.7991870295315516, 'presolve': 1, 'delta_start': 2509}\n",
      "file_path used:ProblemSets/Queue75\n",
      "Saved! Sleeping... ZzzZ Zz...\n",
      "Running QueueSize: 75, ProblemNumber: 54, hyperparams: {'symmetry_breaking': False, 'mip_focus': 1, 'cuts': 2, 'heuristics': 0.7991870295315516, 'presolve': 1, 'delta_start': 2509}\n",
      "file_path used:ProblemSets/Queue75\n",
      "Saved! Sleeping... ZzzZ Zz...\n",
      "Running QueueSize: 75, ProblemNumber: 55, hyperparams: {'symmetry_breaking': False, 'mip_focus': 1, 'cuts': 2, 'heuristics': 0.7991870295315516, 'presolve': 1, 'delta_start': 2509}\n",
      "file_path used:ProblemSets/Queue75\n",
      "Saved! Sleeping... ZzzZ Zz...\n",
      "Running QueueSize: 75, ProblemNumber: 56, hyperparams: {'symmetry_breaking': False, 'mip_focus': 1, 'cuts': 2, 'heuristics': 0.7991870295315516, 'presolve': 1, 'delta_start': 2509}\n",
      "file_path used:ProblemSets/Queue75\n",
      "Saved! Sleeping... ZzzZ Zz...\n",
      "Running QueueSize: 75, ProblemNumber: 57, hyperparams: {'symmetry_breaking': False, 'mip_focus': 1, 'cuts': 2, 'heuristics': 0.7991870295315516, 'presolve': 1, 'delta_start': 2509}\n",
      "file_path used:ProblemSets/Queue75\n",
      "Saved! Sleeping... ZzzZ Zz...\n",
      "Running QueueSize: 75, ProblemNumber: 58, hyperparams: {'symmetry_breaking': False, 'mip_focus': 1, 'cuts': 2, 'heuristics': 0.7991870295315516, 'presolve': 1, 'delta_start': 2509}\n",
      "file_path used:ProblemSets/Queue75\n",
      "Saved! Sleeping... ZzzZ Zz...\n",
      "Running QueueSize: 75, ProblemNumber: 59, hyperparams: {'symmetry_breaking': False, 'mip_focus': 1, 'cuts': 2, 'heuristics': 0.7991870295315516, 'presolve': 1, 'delta_start': 2509}\n",
      "file_path used:ProblemSets/Queue75\n",
      "Saved! Sleeping... ZzzZ Zz...\n",
      "Running QueueSize: 75, ProblemNumber: 60, hyperparams: {'symmetry_breaking': False, 'mip_focus': 1, 'cuts': 2, 'heuristics': 0.7991870295315516, 'presolve': 1, 'delta_start': 2509}\n",
      "file_path used:ProblemSets/Queue75\n",
      "Saved! Sleeping... ZzzZ Zz...\n",
      "Running QueueSize: 75, ProblemNumber: 61, hyperparams: {'symmetry_breaking': False, 'mip_focus': 1, 'cuts': 2, 'heuristics': 0.7991870295315516, 'presolve': 1, 'delta_start': 2509}\n",
      "file_path used:ProblemSets/Queue75\n",
      "Saved! Sleeping... ZzzZ Zz...\n",
      "Running QueueSize: 75, ProblemNumber: 62, hyperparams: {'symmetry_breaking': False, 'mip_focus': 1, 'cuts': 2, 'heuristics': 0.7991870295315516, 'presolve': 1, 'delta_start': 2509}\n",
      "file_path used:ProblemSets/Queue75\n",
      "Saved! Sleeping... ZzzZ Zz...\n",
      "Running QueueSize: 75, ProblemNumber: 63, hyperparams: {'symmetry_breaking': False, 'mip_focus': 1, 'cuts': 2, 'heuristics': 0.7991870295315516, 'presolve': 1, 'delta_start': 2509}\n",
      "file_path used:ProblemSets/Queue75\n",
      "Saved! Sleeping... ZzzZ Zz...\n",
      "Running QueueSize: 75, ProblemNumber: 64, hyperparams: {'symmetry_breaking': False, 'mip_focus': 1, 'cuts': 2, 'heuristics': 0.7991870295315516, 'presolve': 1, 'delta_start': 2509}\n",
      "file_path used:ProblemSets/Queue75\n",
      "Saved! Sleeping... ZzzZ Zz...\n",
      "Running QueueSize: 75, ProblemNumber: 65, hyperparams: {'symmetry_breaking': False, 'mip_focus': 1, 'cuts': 2, 'heuristics': 0.7991870295315516, 'presolve': 1, 'delta_start': 2509}\n",
      "file_path used:ProblemSets/Queue75\n",
      "Saved! Sleeping... ZzzZ Zz...\n",
      "Running QueueSize: 75, ProblemNumber: 66, hyperparams: {'symmetry_breaking': False, 'mip_focus': 1, 'cuts': 2, 'heuristics': 0.7991870295315516, 'presolve': 1, 'delta_start': 2509}\n",
      "file_path used:ProblemSets/Queue75\n",
      "Saved! Sleeping... ZzzZ Zz...\n",
      "Running QueueSize: 75, ProblemNumber: 67, hyperparams: {'symmetry_breaking': False, 'mip_focus': 1, 'cuts': 2, 'heuristics': 0.7991870295315516, 'presolve': 1, 'delta_start': 2509}\n",
      "file_path used:ProblemSets/Queue75\n",
      "Saved! Sleeping... ZzzZ Zz...\n",
      "Running QueueSize: 75, ProblemNumber: 68, hyperparams: {'symmetry_breaking': False, 'mip_focus': 1, 'cuts': 2, 'heuristics': 0.7991870295315516, 'presolve': 1, 'delta_start': 2509}\n",
      "file_path used:ProblemSets/Queue75\n",
      "Saved! Sleeping... ZzzZ Zz...\n",
      "Running QueueSize: 75, ProblemNumber: 69, hyperparams: {'symmetry_breaking': False, 'mip_focus': 1, 'cuts': 2, 'heuristics': 0.7991870295315516, 'presolve': 1, 'delta_start': 2509}\n",
      "file_path used:ProblemSets/Queue75\n",
      "Saved! Sleeping... ZzzZ Zz...\n",
      "Running QueueSize: 75, ProblemNumber: 70, hyperparams: {'symmetry_breaking': False, 'mip_focus': 1, 'cuts': 2, 'heuristics': 0.7991870295315516, 'presolve': 1, 'delta_start': 2509}\n",
      "file_path used:ProblemSets/Queue75\n",
      "Saved! Sleeping... ZzzZ Zz...\n",
      "Running QueueSize: 75, ProblemNumber: 71, hyperparams: {'symmetry_breaking': False, 'mip_focus': 1, 'cuts': 2, 'heuristics': 0.7991870295315516, 'presolve': 1, 'delta_start': 2509}\n",
      "file_path used:ProblemSets/Queue75\n",
      "Saved! Sleeping... ZzzZ Zz...\n",
      "Running QueueSize: 75, ProblemNumber: 72, hyperparams: {'symmetry_breaking': False, 'mip_focus': 1, 'cuts': 2, 'heuristics': 0.7991870295315516, 'presolve': 1, 'delta_start': 2509}\n",
      "file_path used:ProblemSets/Queue75\n",
      "Saved! Sleeping... ZzzZ Zz...\n",
      "Running QueueSize: 75, ProblemNumber: 73, hyperparams: {'symmetry_breaking': False, 'mip_focus': 1, 'cuts': 2, 'heuristics': 0.7991870295315516, 'presolve': 1, 'delta_start': 2509}\n",
      "file_path used:ProblemSets/Queue75\n",
      "Saved! Sleeping... ZzzZ Zz...\n",
      "Running QueueSize: 75, ProblemNumber: 74, hyperparams: {'symmetry_breaking': False, 'mip_focus': 1, 'cuts': 2, 'heuristics': 0.7991870295315516, 'presolve': 1, 'delta_start': 2509}\n",
      "file_path used:ProblemSets/Queue75\n",
      "Saved! Sleeping... ZzzZ Zz...\n",
      "Running QueueSize: 75, ProblemNumber: 75, hyperparams: {'symmetry_breaking': False, 'mip_focus': 1, 'cuts': 2, 'heuristics': 0.7991870295315516, 'presolve': 1, 'delta_start': 2509}\n",
      "file_path used:ProblemSets/Queue75\n",
      "Saved! Sleeping... ZzzZ Zz...\n",
      "Running QueueSize: 75, ProblemNumber: 76, hyperparams: {'symmetry_breaking': False, 'mip_focus': 1, 'cuts': 2, 'heuristics': 0.7991870295315516, 'presolve': 1, 'delta_start': 2509}\n",
      "file_path used:ProblemSets/Queue75\n",
      "Saved! Sleeping... ZzzZ Zz...\n",
      "Running QueueSize: 75, ProblemNumber: 77, hyperparams: {'symmetry_breaking': False, 'mip_focus': 1, 'cuts': 2, 'heuristics': 0.7991870295315516, 'presolve': 1, 'delta_start': 2509}\n",
      "file_path used:ProblemSets/Queue75\n",
      "Saved! Sleeping... ZzzZ Zz...\n",
      "Running QueueSize: 75, ProblemNumber: 78, hyperparams: {'symmetry_breaking': False, 'mip_focus': 1, 'cuts': 2, 'heuristics': 0.7991870295315516, 'presolve': 1, 'delta_start': 2509}\n",
      "file_path used:ProblemSets/Queue75\n",
      "Saved! Sleeping... ZzzZ Zz...\n",
      "Running QueueSize: 75, ProblemNumber: 79, hyperparams: {'symmetry_breaking': False, 'mip_focus': 1, 'cuts': 2, 'heuristics': 0.7991870295315516, 'presolve': 1, 'delta_start': 2509}\n",
      "file_path used:ProblemSets/Queue75\n",
      "Saved! Sleeping... ZzzZ Zz...\n",
      "Running QueueSize: 75, ProblemNumber: 80, hyperparams: {'symmetry_breaking': False, 'mip_focus': 1, 'cuts': 2, 'heuristics': 0.7991870295315516, 'presolve': 1, 'delta_start': 2509}\n",
      "file_path used:ProblemSets/Queue75\n",
      "Saved! Sleeping... ZzzZ Zz...\n",
      "Running QueueSize: 75, ProblemNumber: 81, hyperparams: {'symmetry_breaking': False, 'mip_focus': 1, 'cuts': 2, 'heuristics': 0.7991870295315516, 'presolve': 1, 'delta_start': 2509}\n",
      "file_path used:ProblemSets/Queue75\n",
      "Saved! Sleeping... ZzzZ Zz...\n",
      "Running QueueSize: 75, ProblemNumber: 82, hyperparams: {'symmetry_breaking': False, 'mip_focus': 1, 'cuts': 2, 'heuristics': 0.7991870295315516, 'presolve': 1, 'delta_start': 2509}\n",
      "file_path used:ProblemSets/Queue75\n",
      "Saved! Sleeping... ZzzZ Zz...\n",
      "Running QueueSize: 75, ProblemNumber: 83, hyperparams: {'symmetry_breaking': False, 'mip_focus': 1, 'cuts': 2, 'heuristics': 0.7991870295315516, 'presolve': 1, 'delta_start': 2509}\n",
      "file_path used:ProblemSets/Queue75\n",
      "Saved! Sleeping... ZzzZ Zz...\n",
      "Running QueueSize: 75, ProblemNumber: 84, hyperparams: {'symmetry_breaking': False, 'mip_focus': 1, 'cuts': 2, 'heuristics': 0.7991870295315516, 'presolve': 1, 'delta_start': 2509}\n",
      "file_path used:ProblemSets/Queue75\n",
      "Saved! Sleeping... ZzzZ Zz...\n",
      "Running QueueSize: 75, ProblemNumber: 85, hyperparams: {'symmetry_breaking': False, 'mip_focus': 1, 'cuts': 2, 'heuristics': 0.7991870295315516, 'presolve': 1, 'delta_start': 2509}\n",
      "file_path used:ProblemSets/Queue75\n",
      "Saved! Sleeping... ZzzZ Zz...\n",
      "Running QueueSize: 75, ProblemNumber: 86, hyperparams: {'symmetry_breaking': False, 'mip_focus': 1, 'cuts': 2, 'heuristics': 0.7991870295315516, 'presolve': 1, 'delta_start': 2509}\n",
      "file_path used:ProblemSets/Queue75\n",
      "Saved! Sleeping... ZzzZ Zz...\n",
      "Running QueueSize: 75, ProblemNumber: 87, hyperparams: {'symmetry_breaking': False, 'mip_focus': 1, 'cuts': 2, 'heuristics': 0.7991870295315516, 'presolve': 1, 'delta_start': 2509}\n",
      "file_path used:ProblemSets/Queue75\n",
      "Saved! Sleeping... ZzzZ Zz...\n",
      "Running QueueSize: 75, ProblemNumber: 88, hyperparams: {'symmetry_breaking': False, 'mip_focus': 1, 'cuts': 2, 'heuristics': 0.7991870295315516, 'presolve': 1, 'delta_start': 2509}\n",
      "file_path used:ProblemSets/Queue75\n",
      "Saved! Sleeping... ZzzZ Zz...\n",
      "Running QueueSize: 75, ProblemNumber: 89, hyperparams: {'symmetry_breaking': False, 'mip_focus': 1, 'cuts': 2, 'heuristics': 0.7991870295315516, 'presolve': 1, 'delta_start': 2509}\n",
      "file_path used:ProblemSets/Queue75\n",
      "Saved! Sleeping... ZzzZ Zz...\n",
      "Running QueueSize: 75, ProblemNumber: 90, hyperparams: {'symmetry_breaking': False, 'mip_focus': 1, 'cuts': 2, 'heuristics': 0.7991870295315516, 'presolve': 1, 'delta_start': 2509}\n",
      "file_path used:ProblemSets/Queue75\n",
      "Saved! Sleeping... ZzzZ Zz...\n",
      "Running QueueSize: 75, ProblemNumber: 91, hyperparams: {'symmetry_breaking': False, 'mip_focus': 1, 'cuts': 2, 'heuristics': 0.7991870295315516, 'presolve': 1, 'delta_start': 2509}\n",
      "file_path used:ProblemSets/Queue75\n",
      "Saved! Sleeping... ZzzZ Zz...\n",
      "Running QueueSize: 75, ProblemNumber: 92, hyperparams: {'symmetry_breaking': False, 'mip_focus': 1, 'cuts': 2, 'heuristics': 0.7991870295315516, 'presolve': 1, 'delta_start': 2509}\n",
      "file_path used:ProblemSets/Queue75\n",
      "Saved! Sleeping... ZzzZ Zz...\n",
      "Running QueueSize: 75, ProblemNumber: 93, hyperparams: {'symmetry_breaking': False, 'mip_focus': 1, 'cuts': 2, 'heuristics': 0.7991870295315516, 'presolve': 1, 'delta_start': 2509}\n",
      "file_path used:ProblemSets/Queue75\n",
      "Saved! Sleeping... ZzzZ Zz...\n",
      "Running QueueSize: 75, ProblemNumber: 94, hyperparams: {'symmetry_breaking': False, 'mip_focus': 1, 'cuts': 2, 'heuristics': 0.7991870295315516, 'presolve': 1, 'delta_start': 2509}\n",
      "file_path used:ProblemSets/Queue75\n",
      "Saved! Sleeping... ZzzZ Zz...\n",
      "Running QueueSize: 75, ProblemNumber: 95, hyperparams: {'symmetry_breaking': False, 'mip_focus': 1, 'cuts': 2, 'heuristics': 0.7991870295315516, 'presolve': 1, 'delta_start': 2509}\n",
      "file_path used:ProblemSets/Queue75\n",
      "Saved! Sleeping... ZzzZ Zz...\n",
      "Running QueueSize: 75, ProblemNumber: 96, hyperparams: {'symmetry_breaking': False, 'mip_focus': 1, 'cuts': 2, 'heuristics': 0.7991870295315516, 'presolve': 1, 'delta_start': 2509}\n",
      "file_path used:ProblemSets/Queue75\n",
      "Saved! Sleeping... ZzzZ Zz...\n",
      "Running QueueSize: 75, ProblemNumber: 97, hyperparams: {'symmetry_breaking': False, 'mip_focus': 1, 'cuts': 2, 'heuristics': 0.7991870295315516, 'presolve': 1, 'delta_start': 2509}\n",
      "file_path used:ProblemSets/Queue75\n",
      "Saved! Sleeping... ZzzZ Zz...\n",
      "Running QueueSize: 75, ProblemNumber: 98, hyperparams: {'symmetry_breaking': False, 'mip_focus': 1, 'cuts': 2, 'heuristics': 0.7991870295315516, 'presolve': 1, 'delta_start': 2509}\n",
      "file_path used:ProblemSets/Queue75\n",
      "Saved! Sleeping... ZzzZ Zz...\n",
      "Running QueueSize: 75, ProblemNumber: 99, hyperparams: {'symmetry_breaking': False, 'mip_focus': 1, 'cuts': 2, 'heuristics': 0.7991870295315516, 'presolve': 1, 'delta_start': 2509}\n",
      "file_path used:ProblemSets/Queue75\n",
      "Saved! Sleeping... ZzzZ Zz...\n",
      "Running QueueSize: 75, ProblemNumber: 100, hyperparams: {'symmetry_breaking': False, 'mip_focus': 1, 'cuts': 2, 'heuristics': 0.7991870295315516, 'presolve': 1, 'delta_start': 2509}\n",
      "file_path used:ProblemSets/Queue75\n",
      "Saved! Sleeping... ZzzZ Zz...\n",
      "Run completed. Results saved to run plan file.\n"
     ]
    }
   ],
   "source": [
    "## Already ran, do not run again\n",
    "\n",
    "# def run_VRPsolver_with_plan(run_plan_file, training, sleep_time=0.25):\n",
    "#     \"\"\"\n",
    "#     Execute solver based on the run plan and save results incrementally to the same file.\n",
    "    \n",
    "#     Args:\n",
    "#         run_plan_file (str): Path to the run plan file (source and destination).\n",
    "#         training (bool): Prefix for the loading of problem data (True is \"Training_\"; False is \"\")\n",
    "#         sleep_time (float): Time to sleep between runs for fault tolerance.\n",
    "#     \"\"\"\n",
    "#     # Load run plan\n",
    "#     with open(run_plan_file, \"rb\") as f:\n",
    "#         run_plan_df = pickle.load(f)\n",
    "\n",
    "#     # Ensure ObjectiveValue column exists\n",
    "#     if \"ObjectiveValue\" not in run_plan_df.columns:\n",
    "#         run_plan_df[\"ObjectiveValue\"] = None\n",
    "\n",
    "#     # Iterate through runs\n",
    "#     for idx, row in run_plan_df.iterrows():\n",
    "#         # Skip already completed runs\n",
    "#         if row[\"ObjectiveValue\"] is not None:\n",
    "#             continue\n",
    "        \n",
    "#         # Extract parameters\n",
    "#         queue_size = row[\"QueueSize\"]\n",
    "#         problem_number = row[\"ProblemNumber\"]\n",
    "#         hyperparams = row[\"Hyperparameters\"]\n",
    "\n",
    "#         print(f\"Running QueueSize: {queue_size}, ProblemNumber: {problem_number}, hyperparams: {hyperparams}\")\n",
    "        \n",
    "#         # Load problem data\n",
    "#         try:\n",
    "#             problem_df, cost_matrix, warm_start_transition_matrix, traditional_SPT_obj_value = load_problem_data(queue_size, problem_number, training=training)\n",
    "\n",
    "#             # Instantiate solver\n",
    "#             solver = VRPSolver(\n",
    "#                 cost_matrix=cost_matrix,\n",
    "#                 problem_df=problem_df,\n",
    "#                 problemset_num=queue_size,\n",
    "#                 problem_num=problem_number,\n",
    "#                 warm_start=warm_start_transition_matrix,\n",
    "#                 debug=False,\n",
    "#                 hyperparams={\n",
    "#                     **hyperparams,  # Unpack hyperparameters  (very important!)\n",
    "#                     \"num_threads\": 23,\n",
    "#                 }\n",
    "#             )\n",
    "\n",
    "#             # Solve problem\n",
    "#             solver.iterative_solving()\n",
    "#             solution = solver.get_solution()\n",
    "\n",
    "#             # Scoring\n",
    "#             optimization_algorithm_obj_value = solution[\"objective_value\"]\n",
    "#             if optimization_algorithm_obj_value is None:\n",
    "#                 improvement_relative_percent = -100  # Penalize infeasible solutions\n",
    "#             else:\n",
    "#                 O, T = optimization_algorithm_obj_value, traditional_SPT_obj_value\n",
    "#                 improvement_relative_percent = (T - O) / max(T, 1e-4) * 100  # Avoid divide by zero\n",
    "\n",
    "#             # Store result\n",
    "#             run_plan_df.at[idx, \"ObjectiveValue\"] = improvement_relative_percent\n",
    "\n",
    "#         except Exception as e:\n",
    "#             print(f\"Error on QueueSize: {queue_size}, ProblemNumber: {problem_number} -> {e}\")\n",
    "#             run_plan_df.at[idx, \"ObjectiveValue\"] = None  # Mark as incomplete\n",
    "            \n",
    "#         # Save progress after each iteration\n",
    "#         with open(run_plan_file, \"wb\") as f:\n",
    "#             pickle.dump(run_plan_df, f)\n",
    "\n",
    "#         # Sleep between iterations\n",
    "#         print(\"Saved! Sleeping... ZzzZ Zz...\")\n",
    "#         time.sleep(sleep_time)\n",
    "\n",
    "#     print(\"Run completed. Results saved to run plan file.\")\n",
    "\n",
    "# already ran\n",
    "# run_VRPsolver_with_plan(run_plan_file=\"holdout_test_plan_deterministic.pkl\", \n",
    "#                         training =  False) # Training is False"
   ]
  },
  {
   "cell_type": "markdown",
   "id": "5e2f00f8-7bb9-4c97-b352-cce1543d53ea",
   "metadata": {},
   "source": [
    "##### The above took around 36 hours to run"
   ]
  },
  {
   "cell_type": "markdown",
   "id": "ffa70d39-7f63-4d62-848d-6d60bd48bb3f",
   "metadata": {
    "jp-MarkdownHeadingCollapsed": true
   },
   "source": [
    "### Hyperparameter Tuning for Stochastic Optimization"
   ]
  },
  {
   "cell_type": "code",
   "execution_count": 119,
   "id": "025a404d-0424-4145-8f6d-424dde495cd1",
   "metadata": {
    "scrolled": true
   },
   "outputs": [
    {
     "name": "stderr",
     "output_type": "stream",
     "text": [
      "[I 2024-11-21 12:44:04,136] A new study created in memory with name: Queue25_Study\n"
     ]
    },
    {
     "name": "stdout",
     "output_type": "stream",
     "text": [
      "QueueSize: 25; ProblemNumber: 192\n",
      "file_path used:ProblemSets/Training_Queue25\n"
     ]
    },
    {
     "name": "stderr",
     "output_type": "stream",
     "text": [
      "[I 2024-11-21 12:46:14,006] Trial 0 finished with value: 16.24 and parameters: {'delta_start': 1819, 'mip_focus': 2, 'cuts': 3, 'heuristics': 0.8738974681730876, 'presolve': 0, 'nanmean': True}. Best is trial 0 with value: 16.24.\n"
     ]
    },
    {
     "name": "stdout",
     "output_type": "stream",
     "text": [
      "QueueSize: 25; ProblemNumber: 227\n",
      "file_path used:ProblemSets/Training_Queue25\n"
     ]
    },
    {
     "name": "stderr",
     "output_type": "stream",
     "text": [
      "[I 2024-11-21 12:48:07,500] Trial 1 finished with value: 29.398928783971435 and parameters: {'delta_start': 1628, 'mip_focus': 0, 'cuts': 2, 'heuristics': 0.9336883946983141, 'presolve': 2, 'nanmean': True}. Best is trial 1 with value: 29.398928783971435.\n"
     ]
    },
    {
     "name": "stdout",
     "output_type": "stream",
     "text": [
      "Study saved to optuna_studies_stochastic/Queue25_Study.pkl\n",
      "Sleeping zZz  zZz  Zzz\n",
      "QueueSize: 25; ProblemNumber: 177\n",
      "file_path used:ProblemSets/Training_Queue25\n"
     ]
    },
    {
     "name": "stderr",
     "output_type": "stream",
     "text": [
      "[I 2024-11-21 12:49:55,481] Trial 2 finished with value: 21.36020151133501 and parameters: {'delta_start': 1391, 'mip_focus': 2, 'cuts': 2, 'heuristics': 0.5474925738435963, 'presolve': 1, 'nanmean': True}. Best is trial 1 with value: 29.398928783971435.\n"
     ]
    },
    {
     "name": "stdout",
     "output_type": "stream",
     "text": [
      "QueueSize: 25; ProblemNumber: 99\n",
      "file_path used:ProblemSets/Training_Queue25\n"
     ]
    },
    {
     "name": "stderr",
     "output_type": "stream",
     "text": [
      "[I 2024-11-21 12:51:30,209] Trial 3 finished with value: 31.532066508313537 and parameters: {'delta_start': 782, 'mip_focus': 1, 'cuts': 3, 'heuristics': 0.8753944698296998, 'presolve': 1, 'nanmean': False}. Best is trial 3 with value: 31.532066508313537.\n"
     ]
    },
    {
     "name": "stdout",
     "output_type": "stream",
     "text": [
      "Study saved to optuna_studies_stochastic/Queue25_Study.pkl\n",
      "Sleeping zZz  zZz  Zzz\n"
     ]
    },
    {
     "name": "stderr",
     "output_type": "stream",
     "text": [
      "[I 2024-11-21 12:51:30,465] A new study created in memory with name: Queue75_Study\n"
     ]
    },
    {
     "name": "stdout",
     "output_type": "stream",
     "text": [
      "QueueSize: 75; ProblemNumber: 36\n",
      "file_path used:ProblemSets/Training_Queue75\n"
     ]
    },
    {
     "name": "stderr",
     "output_type": "stream",
     "text": [
      "[I 2024-11-21 12:55:22,596] Trial 0 finished with value: 6.075050709939148 and parameters: {'delta_start': 2613, 'mip_focus': 2, 'cuts': 3, 'heuristics': 0.5846659827426115, 'presolve': 1, 'nanmean': False}. Best is trial 0 with value: 6.075050709939148.\n"
     ]
    },
    {
     "name": "stdout",
     "output_type": "stream",
     "text": [
      "QueueSize: 75; ProblemNumber: 82\n",
      "file_path used:ProblemSets/Training_Queue75\n"
     ]
    },
    {
     "name": "stderr",
     "output_type": "stream",
     "text": [
      "[I 2024-11-21 12:59:50,765] Trial 1 finished with value: 11.962179963879741 and parameters: {'delta_start': 2960, 'mip_focus': 0, 'cuts': 3, 'heuristics': 0.8868043953257402, 'presolve': 1, 'nanmean': True}. Best is trial 1 with value: 11.962179963879741.\n"
     ]
    },
    {
     "name": "stdout",
     "output_type": "stream",
     "text": [
      "Study saved to optuna_studies_stochastic/Queue75_Study.pkl\n",
      "Sleeping zZz  zZz  Zzz\n",
      "QueueSize: 25; ProblemNumber: 96\n",
      "file_path used:ProblemSets/Training_Queue25\n"
     ]
    },
    {
     "name": "stderr",
     "output_type": "stream",
     "text": [
      "[I 2024-11-21 13:01:39,493] Trial 4 finished with value: 13.983779798476284 and parameters: {'delta_start': 2984, 'mip_focus': 2, 'cuts': 2, 'heuristics': 0.9693016421936371, 'presolve': 2, 'nanmean': True}. Best is trial 3 with value: 31.532066508313537.\n"
     ]
    },
    {
     "name": "stdout",
     "output_type": "stream",
     "text": [
      "QueueSize: 25; ProblemNumber: 152\n",
      "file_path used:ProblemSets/Training_Queue25\n"
     ]
    },
    {
     "name": "stderr",
     "output_type": "stream",
     "text": [
      "[I 2024-11-21 13:03:28,948] Trial 5 finished with value: 19.324131366016182 and parameters: {'delta_start': 1066, 'mip_focus': 3, 'cuts': 3, 'heuristics': 0.9890551071030305, 'presolve': 1, 'nanmean': False}. Best is trial 3 with value: 31.532066508313537.\n"
     ]
    },
    {
     "name": "stdout",
     "output_type": "stream",
     "text": [
      "Study saved to optuna_studies_stochastic/Queue25_Study.pkl\n",
      "Sleeping zZz  zZz  Zzz\n",
      "QueueSize: 25; ProblemNumber: 151\n",
      "file_path used:ProblemSets/Training_Queue25\n"
     ]
    },
    {
     "name": "stderr",
     "output_type": "stream",
     "text": [
      "[I 2024-11-21 13:05:05,320] Trial 6 finished with value: 21.367893705075147 and parameters: {'delta_start': 1053, 'mip_focus': 3, 'cuts': 3, 'heuristics': 0.9226518421457934, 'presolve': 0, 'nanmean': True}. Best is trial 3 with value: 31.532066508313537.\n"
     ]
    },
    {
     "name": "stdout",
     "output_type": "stream",
     "text": [
      "QueueSize: 25; ProblemNumber: 190\n",
      "file_path used:ProblemSets/Training_Queue25\n"
     ]
    },
    {
     "name": "stderr",
     "output_type": "stream",
     "text": [
      "[I 2024-11-21 13:06:48,524] Trial 7 finished with value: 26.117440841367223 and parameters: {'delta_start': 1576, 'mip_focus': 2, 'cuts': 3, 'heuristics': 0.9887290327728753, 'presolve': 0, 'nanmean': True}. Best is trial 3 with value: 31.532066508313537.\n"
     ]
    },
    {
     "name": "stdout",
     "output_type": "stream",
     "text": [
      "Study saved to optuna_studies_stochastic/Queue25_Study.pkl\n",
      "Sleeping zZz  zZz  Zzz\n",
      "QueueSize: 75; ProblemNumber: 96\n",
      "file_path used:ProblemSets/Training_Queue75\n"
     ]
    },
    {
     "name": "stderr",
     "output_type": "stream",
     "text": [
      "[I 2024-11-21 13:10:09,635] Trial 2 finished with value: 2.987326493663247 and parameters: {'delta_start': 2592, 'mip_focus': 3, 'cuts': 3, 'heuristics': 0.5287025555181301, 'presolve': 1, 'nanmean': True}. Best is trial 1 with value: 11.962179963879741.\n"
     ]
    },
    {
     "name": "stdout",
     "output_type": "stream",
     "text": [
      "QueueSize: 75; ProblemNumber: 37\n",
      "file_path used:ProblemSets/Training_Queue75\n"
     ]
    },
    {
     "name": "stderr",
     "output_type": "stream",
     "text": [
      "[I 2024-11-21 13:14:16,919] Trial 3 finished with value: 9.944804880410574 and parameters: {'delta_start': 2866, 'mip_focus': 2, 'cuts': 3, 'heuristics': 0.5614607964087481, 'presolve': 0, 'nanmean': False}. Best is trial 1 with value: 11.962179963879741.\n"
     ]
    },
    {
     "name": "stdout",
     "output_type": "stream",
     "text": [
      "Study saved to optuna_studies_stochastic/Queue75_Study.pkl\n",
      "Sleeping zZz  zZz  Zzz\n",
      "QueueSize: 25; ProblemNumber: 268\n",
      "file_path used:ProblemSets/Training_Queue25\n"
     ]
    },
    {
     "name": "stderr",
     "output_type": "stream",
     "text": [
      "[I 2024-11-21 13:15:55,972] Trial 8 finished with value: 15.583508036338225 and parameters: {'delta_start': 1486, 'mip_focus': 0, 'cuts': 3, 'heuristics': 0.6907730920994096, 'presolve': 1, 'nanmean': True}. Best is trial 3 with value: 31.532066508313537.\n"
     ]
    },
    {
     "name": "stdout",
     "output_type": "stream",
     "text": [
      "QueueSize: 25; ProblemNumber: 183\n",
      "file_path used:ProblemSets/Training_Queue25\n"
     ]
    },
    {
     "name": "stderr",
     "output_type": "stream",
     "text": [
      "[I 2024-11-21 13:17:23,009] Trial 9 finished with value: 4.032729398012858 and parameters: {'delta_start': 1240, 'mip_focus': 3, 'cuts': 3, 'heuristics': 0.6964356803518592, 'presolve': 1, 'nanmean': True}. Best is trial 3 with value: 31.532066508313537.\n"
     ]
    },
    {
     "name": "stdout",
     "output_type": "stream",
     "text": [
      "Study saved to optuna_studies_stochastic/Queue25_Study.pkl\n",
      "Sleeping zZz  zZz  Zzz\n",
      "QueueSize: 25; ProblemNumber: 13\n",
      "file_path used:ProblemSets/Training_Queue25\n"
     ]
    },
    {
     "name": "stderr",
     "output_type": "stream",
     "text": [
      "[I 2024-11-21 13:19:09,134] Trial 10 finished with value: 21.748586341887776 and parameters: {'delta_start': 2073, 'mip_focus': 0, 'cuts': 2, 'heuristics': 0.8095418478089621, 'presolve': 0, 'nanmean': False}. Best is trial 3 with value: 31.532066508313537.\n"
     ]
    },
    {
     "name": "stdout",
     "output_type": "stream",
     "text": [
      "QueueSize: 25; ProblemNumber: 279\n",
      "file_path used:ProblemSets/Training_Queue25\n"
     ]
    },
    {
     "name": "stderr",
     "output_type": "stream",
     "text": [
      "[I 2024-11-21 13:20:35,945] Trial 11 finished with value: 10.902948402948404 and parameters: {'delta_start': 1379, 'mip_focus': 1, 'cuts': 2, 'heuristics': 0.9004201737598241, 'presolve': 2, 'nanmean': True}. Best is trial 3 with value: 31.532066508313537.\n"
     ]
    },
    {
     "name": "stdout",
     "output_type": "stream",
     "text": [
      "Study saved to optuna_studies_stochastic/Queue25_Study.pkl\n",
      "Sleeping zZz  zZz  Zzz\n",
      "QueueSize: 75; ProblemNumber: 89\n",
      "file_path used:ProblemSets/Training_Queue75\n"
     ]
    },
    {
     "name": "stderr",
     "output_type": "stream",
     "text": [
      "[I 2024-11-21 13:25:17,239] Trial 4 finished with value: 4.847354928920997 and parameters: {'delta_start': 2632, 'mip_focus': 2, 'cuts': 2, 'heuristics': 0.7989241419109443, 'presolve': 1, 'nanmean': False}. Best is trial 1 with value: 11.962179963879741.\n"
     ]
    },
    {
     "name": "stdout",
     "output_type": "stream",
     "text": [
      "QueueSize: 75; ProblemNumber: 99\n",
      "file_path used:ProblemSets/Training_Queue75\n"
     ]
    },
    {
     "name": "stderr",
     "output_type": "stream",
     "text": [
      "[I 2024-11-21 13:29:51,021] Trial 5 finished with value: 11.976148484084991 and parameters: {'delta_start': 2761, 'mip_focus': 0, 'cuts': 2, 'heuristics': 0.752473713828059, 'presolve': 1, 'nanmean': False}. Best is trial 5 with value: 11.976148484084991.\n"
     ]
    },
    {
     "name": "stdout",
     "output_type": "stream",
     "text": [
      "Study saved to optuna_studies_stochastic/Queue75_Study.pkl\n",
      "Sleeping zZz  zZz  Zzz\n",
      "QueueSize: 25; ProblemNumber: 286\n",
      "file_path used:ProblemSets/Training_Queue25\n"
     ]
    },
    {
     "name": "stderr",
     "output_type": "stream",
     "text": [
      "[I 2024-11-21 13:31:08,528] Trial 12 finished with value: 26.38888888888889 and parameters: {'delta_start': 940, 'mip_focus': 1, 'cuts': 3, 'heuristics': 0.8234057135121631, 'presolve': 2, 'nanmean': False}. Best is trial 3 with value: 31.532066508313537.\n"
     ]
    },
    {
     "name": "stdout",
     "output_type": "stream",
     "text": [
      "QueueSize: 25; ProblemNumber: 273\n",
      "file_path used:ProblemSets/Training_Queue25\n"
     ]
    },
    {
     "name": "stderr",
     "output_type": "stream",
     "text": [
      "[I 2024-11-21 13:32:58,250] Trial 13 finished with value: 30.49932523616734 and parameters: {'delta_start': 1525, 'mip_focus': 0, 'cuts': 2, 'heuristics': 0.7879978224080582, 'presolve': 2, 'nanmean': False}. Best is trial 3 with value: 31.532066508313537.\n"
     ]
    },
    {
     "name": "stdout",
     "output_type": "stream",
     "text": [
      "Study saved to optuna_studies_stochastic/Queue25_Study.pkl\n",
      "Sleeping zZz  zZz  Zzz\n",
      "QueueSize: 25; ProblemNumber: 62\n",
      "file_path used:ProblemSets/Training_Queue25\n"
     ]
    },
    {
     "name": "stderr",
     "output_type": "stream",
     "text": [
      "[I 2024-11-21 13:34:37,747] Trial 14 finished with value: 4.440993788819876 and parameters: {'delta_start': 2004, 'mip_focus': 0, 'cuts': 2, 'heuristics': 0.7374865532578472, 'presolve': 2, 'nanmean': False}. Best is trial 3 with value: 31.532066508313537.\n"
     ]
    },
    {
     "name": "stdout",
     "output_type": "stream",
     "text": [
      "QueueSize: 25; ProblemNumber: 84\n",
      "file_path used:ProblemSets/Training_Queue25\n"
     ]
    },
    {
     "name": "stderr",
     "output_type": "stream",
     "text": [
      "[I 2024-11-21 13:36:50,933] Trial 15 finished with value: 23.184568835098336 and parameters: {'delta_start': 943, 'mip_focus': 0, 'cuts': 2, 'heuristics': 0.5992985664736901, 'presolve': 2, 'nanmean': False}. Best is trial 3 with value: 31.532066508313537.\n"
     ]
    },
    {
     "name": "stdout",
     "output_type": "stream",
     "text": [
      "Study saved to optuna_studies_stochastic/Queue25_Study.pkl\n",
      "Sleeping zZz  zZz  Zzz\n",
      "QueueSize: 75; ProblemNumber: 89\n",
      "file_path used:ProblemSets/Training_Queue75\n"
     ]
    },
    {
     "name": "stderr",
     "output_type": "stream",
     "text": [
      "[I 2024-11-21 13:41:31,343] Trial 6 finished with value: 9.403402470286647 and parameters: {'delta_start': 2992, 'mip_focus': 2, 'cuts': 2, 'heuristics': 0.5131626760409103, 'presolve': 0, 'nanmean': False}. Best is trial 5 with value: 11.976148484084991.\n"
     ]
    },
    {
     "name": "stdout",
     "output_type": "stream",
     "text": [
      "QueueSize: 75; ProblemNumber: 86\n",
      "file_path used:ProblemSets/Training_Queue75\n"
     ]
    },
    {
     "name": "stderr",
     "output_type": "stream",
     "text": [
      "[I 2024-11-21 13:45:48,248] Trial 7 finished with value: 16.188624210014584 and parameters: {'delta_start': 2757, 'mip_focus': 0, 'cuts': 2, 'heuristics': 0.5731719868957961, 'presolve': 1, 'nanmean': True}. Best is trial 7 with value: 16.188624210014584.\n"
     ]
    },
    {
     "name": "stdout",
     "output_type": "stream",
     "text": [
      "Study saved to optuna_studies_stochastic/Queue75_Study.pkl\n",
      "Sleeping zZz  zZz  Zzz\n",
      "QueueSize: 25; ProblemNumber: 187\n",
      "file_path used:ProblemSets/Training_Queue25\n"
     ]
    },
    {
     "name": "stderr",
     "output_type": "stream",
     "text": [
      "[I 2024-11-21 13:47:05,494] Trial 16 finished with value: 16.235032024505706 and parameters: {'delta_start': 1617, 'mip_focus': 0, 'cuts': 3, 'heuristics': 0.8498040251171374, 'presolve': 1, 'nanmean': False}. Best is trial 3 with value: 31.532066508313537.\n"
     ]
    },
    {
     "name": "stdout",
     "output_type": "stream",
     "text": [
      "QueueSize: 25; ProblemNumber: 19\n",
      "file_path used:ProblemSets/Training_Queue25\n"
     ]
    },
    {
     "name": "stderr",
     "output_type": "stream",
     "text": [
      "[I 2024-11-21 13:48:32,037] Trial 17 finished with value: 31.506080449017777 and parameters: {'delta_start': 1063, 'mip_focus': 1, 'cuts': 3, 'heuristics': 0.7543991733761026, 'presolve': 0, 'nanmean': False}. Best is trial 3 with value: 31.532066508313537.\n"
     ]
    },
    {
     "name": "stdout",
     "output_type": "stream",
     "text": [
      "Study saved to optuna_studies_stochastic/Queue25_Study.pkl\n",
      "Sleeping zZz  zZz  Zzz\n",
      "QueueSize: 25; ProblemNumber: 177\n",
      "file_path used:ProblemSets/Training_Queue25\n"
     ]
    },
    {
     "name": "stderr",
     "output_type": "stream",
     "text": [
      "[I 2024-11-21 13:50:20,770] Trial 18 finished with value: 21.68765743073048 and parameters: {'delta_start': 749, 'mip_focus': 1, 'cuts': 2, 'heuristics': 0.7521786111679918, 'presolve': 0, 'nanmean': False}. Best is trial 3 with value: 31.532066508313537.\n"
     ]
    },
    {
     "name": "stdout",
     "output_type": "stream",
     "text": [
      "QueueSize: 25; ProblemNumber: 100\n",
      "file_path used:ProblemSets/Training_Queue25\n"
     ]
    },
    {
     "name": "stderr",
     "output_type": "stream",
     "text": [
      "[I 2024-11-21 13:51:47,879] Trial 19 finished with value: 9.221169401432864 and parameters: {'delta_start': 1481, 'mip_focus': 1, 'cuts': 3, 'heuristics': 0.5868680583469619, 'presolve': 0, 'nanmean': False}. Best is trial 3 with value: 31.532066508313537.\n"
     ]
    },
    {
     "name": "stdout",
     "output_type": "stream",
     "text": [
      "Study saved to optuna_studies_stochastic/Queue25_Study.pkl\n",
      "Sleeping zZz  zZz  Zzz\n",
      "QueueSize: 75; ProblemNumber: 12\n",
      "file_path used:ProblemSets/Training_Queue75\n"
     ]
    },
    {
     "name": "stderr",
     "output_type": "stream",
     "text": [
      "[I 2024-11-21 13:55:23,124] Trial 8 finished with value: 9.345311854605535 and parameters: {'delta_start': 2849, 'mip_focus': 3, 'cuts': 2, 'heuristics': 0.9398266169787879, 'presolve': 1, 'nanmean': False}. Best is trial 7 with value: 16.188624210014584.\n"
     ]
    },
    {
     "name": "stdout",
     "output_type": "stream",
     "text": [
      "QueueSize: 75; ProblemNumber: 61\n",
      "file_path used:ProblemSets/Training_Queue75\n"
     ]
    },
    {
     "name": "stderr",
     "output_type": "stream",
     "text": [
      "[I 2024-11-21 13:59:50,276] Trial 9 finished with value: 8.120265151515152 and parameters: {'delta_start': 2844, 'mip_focus': 2, 'cuts': 3, 'heuristics': 0.7839824679554255, 'presolve': 1, 'nanmean': False}. Best is trial 7 with value: 16.188624210014584.\n"
     ]
    },
    {
     "name": "stdout",
     "output_type": "stream",
     "text": [
      "Study saved to optuna_studies_stochastic/Queue75_Study.pkl\n",
      "Sleeping zZz  zZz  Zzz\n",
      "QueueSize: 25; ProblemNumber: 233\n",
      "file_path used:ProblemSets/Training_Queue25\n"
     ]
    },
    {
     "name": "stderr",
     "output_type": "stream",
     "text": [
      "[I 2024-11-21 14:01:49,618] Trial 20 finished with value: 15.575136937366041 and parameters: {'delta_start': 803, 'mip_focus': 1, 'cuts': 3, 'heuristics': 0.9818162862856483, 'presolve': 1, 'nanmean': False}. Best is trial 3 with value: 31.532066508313537.\n"
     ]
    },
    {
     "name": "stdout",
     "output_type": "stream",
     "text": [
      "QueueSize: 25; ProblemNumber: 76\n",
      "file_path used:ProblemSets/Training_Queue25\n"
     ]
    },
    {
     "name": "stderr",
     "output_type": "stream",
     "text": [
      "[I 2024-11-21 14:03:47,227] Trial 21 finished with value: 15.10385158298044 and parameters: {'delta_start': 1442, 'mip_focus': 2, 'cuts': 3, 'heuristics': 0.7994067295203934, 'presolve': 0, 'nanmean': False}. Best is trial 3 with value: 31.532066508313537.\n"
     ]
    },
    {
     "name": "stdout",
     "output_type": "stream",
     "text": [
      "Study saved to optuna_studies_stochastic/Queue25_Study.pkl\n",
      "Sleeping zZz  zZz  Zzz\n",
      "QueueSize: 25; ProblemNumber: 265\n",
      "file_path used:ProblemSets/Training_Queue25\n"
     ]
    },
    {
     "name": "stderr",
     "output_type": "stream",
     "text": [
      "[I 2024-11-21 14:05:34,960] Trial 22 finished with value: 24.72001628996131 and parameters: {'delta_start': 1026, 'mip_focus': 0, 'cuts': 3, 'heuristics': 0.8706432142751868, 'presolve': 0, 'nanmean': True}. Best is trial 3 with value: 31.532066508313537.\n"
     ]
    },
    {
     "name": "stdout",
     "output_type": "stream",
     "text": [
      "QueueSize: 25; ProblemNumber: 284\n",
      "file_path used:ProblemSets/Training_Queue25\n"
     ]
    },
    {
     "name": "stderr",
     "output_type": "stream",
     "text": [
      "[I 2024-11-21 14:07:33,755] Trial 23 finished with value: 19.772256728778466 and parameters: {'delta_start': 657, 'mip_focus': 0, 'cuts': 3, 'heuristics': 0.7421860996613185, 'presolve': 0, 'nanmean': False}. Best is trial 3 with value: 31.532066508313537.\n"
     ]
    },
    {
     "name": "stdout",
     "output_type": "stream",
     "text": [
      "Study saved to optuna_studies_stochastic/Queue25_Study.pkl\n",
      "Sleeping zZz  zZz  Zzz\n",
      "QueueSize: 75; ProblemNumber: 78\n",
      "file_path used:ProblemSets/Training_Queue75\n"
     ]
    },
    {
     "name": "stderr",
     "output_type": "stream",
     "text": [
      "[I 2024-11-21 14:11:27,448] Trial 10 finished with value: 16.685757922871325 and parameters: {'delta_start': 2869, 'mip_focus': 0, 'cuts': 2, 'heuristics': 0.5065633083931623, 'presolve': 1, 'nanmean': True}. Best is trial 10 with value: 16.685757922871325.\n"
     ]
    },
    {
     "name": "stdout",
     "output_type": "stream",
     "text": [
      "QueueSize: 75; ProblemNumber: 95\n",
      "file_path used:ProblemSets/Training_Queue75\n"
     ]
    },
    {
     "name": "stderr",
     "output_type": "stream",
     "text": [
      "[I 2024-11-21 14:15:18,303] Trial 11 finished with value: 7.741868440195365 and parameters: {'delta_start': 2679, 'mip_focus': 0, 'cuts': 2, 'heuristics': 0.5738161022349613, 'presolve': 1, 'nanmean': True}. Best is trial 10 with value: 16.685757922871325.\n"
     ]
    },
    {
     "name": "stdout",
     "output_type": "stream",
     "text": [
      "Study saved to optuna_studies_stochastic/Queue75_Study.pkl\n",
      "Sleeping zZz  zZz  Zzz\n",
      "QueueSize: 25; ProblemNumber: 52\n",
      "file_path used:ProblemSets/Training_Queue25\n"
     ]
    },
    {
     "name": "stderr",
     "output_type": "stream",
     "text": [
      "[I 2024-11-21 14:16:33,841] Trial 24 finished with value: 20.393849473968167 and parameters: {'delta_start': 1301, 'mip_focus': 0, 'cuts': 2, 'heuristics': 0.8235858104789816, 'presolve': 2, 'nanmean': False}. Best is trial 3 with value: 31.532066508313537.\n"
     ]
    },
    {
     "name": "stdout",
     "output_type": "stream",
     "text": [
      "QueueSize: 25; ProblemNumber: 144\n",
      "file_path used:ProblemSets/Training_Queue25\n"
     ]
    },
    {
     "name": "stderr",
     "output_type": "stream",
     "text": [
      "[I 2024-11-21 14:17:51,635] Trial 25 finished with value: 26.810265811182397 and parameters: {'delta_start': 671, 'mip_focus': 2, 'cuts': 3, 'heuristics': 0.7079255632551731, 'presolve': 0, 'nanmean': False}. Best is trial 3 with value: 31.532066508313537.\n"
     ]
    },
    {
     "name": "stdout",
     "output_type": "stream",
     "text": [
      "Study saved to optuna_studies_stochastic/Queue25_Study.pkl\n",
      "Sleeping zZz  zZz  Zzz\n",
      "QueueSize: 25; ProblemNumber: 69\n",
      "file_path used:ProblemSets/Training_Queue25\n"
     ]
    },
    {
     "name": "stderr",
     "output_type": "stream",
     "text": [
      "[I 2024-11-21 14:19:44,097] Trial 26 finished with value: 12.225789192081326 and parameters: {'delta_start': 1806, 'mip_focus': 2, 'cuts': 3, 'heuristics': 0.6196795747976626, 'presolve': 2, 'nanmean': False}. Best is trial 3 with value: 31.532066508313537.\n"
     ]
    },
    {
     "name": "stdout",
     "output_type": "stream",
     "text": [
      "QueueSize: 25; ProblemNumber: 99\n",
      "file_path used:ProblemSets/Training_Queue25\n"
     ]
    },
    {
     "name": "stderr",
     "output_type": "stream",
     "text": [
      "[I 2024-11-21 14:21:22,657] Trial 27 finished with value: 31.13618368962787 and parameters: {'delta_start': 873, 'mip_focus': 2, 'cuts': 2, 'heuristics': 0.8612239153572329, 'presolve': 2, 'nanmean': False}. Best is trial 3 with value: 31.532066508313537.\n"
     ]
    },
    {
     "name": "stdout",
     "output_type": "stream",
     "text": [
      "Study saved to optuna_studies_stochastic/Queue25_Study.pkl\n",
      "Sleeping zZz  zZz  Zzz\n",
      "QueueSize: 75; ProblemNumber: 12\n",
      "file_path used:ProblemSets/Training_Queue75\n"
     ]
    },
    {
     "name": "stderr",
     "output_type": "stream",
     "text": [
      "[I 2024-11-21 14:24:56,085] Trial 12 finished with value: 12.876910367616686 and parameters: {'delta_start': 2953, 'mip_focus': 0, 'cuts': 2, 'heuristics': 0.6313738286078759, 'presolve': 0, 'nanmean': True}. Best is trial 10 with value: 16.685757922871325.\n"
     ]
    },
    {
     "name": "stdout",
     "output_type": "stream",
     "text": [
      "QueueSize: 75; ProblemNumber: 25\n",
      "file_path used:ProblemSets/Training_Queue75\n"
     ]
    },
    {
     "name": "stderr",
     "output_type": "stream",
     "text": [
      "[I 2024-11-21 14:29:23,833] Trial 13 finished with value: 16.834446327120503 and parameters: {'delta_start': 2997, 'mip_focus': 1, 'cuts': 2, 'heuristics': 0.5733197022381238, 'presolve': 2, 'nanmean': True}. Best is trial 13 with value: 16.834446327120503.\n"
     ]
    },
    {
     "name": "stdout",
     "output_type": "stream",
     "text": [
      "Study saved to optuna_studies_stochastic/Queue75_Study.pkl\n",
      "Sleeping zZz  zZz  Zzz\n",
      "QueueSize: 25; ProblemNumber: 53\n",
      "file_path used:ProblemSets/Training_Queue25\n"
     ]
    },
    {
     "name": "stderr",
     "output_type": "stream",
     "text": [
      "[I 2024-11-21 14:31:03,203] Trial 28 finished with value: 17.82828282828283 and parameters: {'delta_start': 723, 'mip_focus': 3, 'cuts': 2, 'heuristics': 0.8682543056319494, 'presolve': 2, 'nanmean': False}. Best is trial 3 with value: 31.532066508313537.\n"
     ]
    },
    {
     "name": "stdout",
     "output_type": "stream",
     "text": [
      "QueueSize: 25; ProblemNumber: 151\n",
      "file_path used:ProblemSets/Training_Queue25\n"
     ]
    },
    {
     "name": "stderr",
     "output_type": "stream",
     "text": [
      "[I 2024-11-21 14:32:39,474] Trial 29 finished with value: 24.722282727074713 and parameters: {'delta_start': 1870, 'mip_focus': 2, 'cuts': 2, 'heuristics': 0.9463537433428633, 'presolve': 2, 'nanmean': False}. Best is trial 3 with value: 31.532066508313537.\n"
     ]
    },
    {
     "name": "stdout",
     "output_type": "stream",
     "text": [
      "Study saved to optuna_studies_stochastic/Queue25_Study.pkl\n",
      "Sleeping zZz  zZz  Zzz\n",
      "QueueSize: 25; ProblemNumber: 144\n",
      "file_path used:ProblemSets/Training_Queue25\n"
     ]
    },
    {
     "name": "stderr",
     "output_type": "stream",
     "text": [
      "[I 2024-11-21 14:33:56,731] Trial 30 finished with value: 27.337305224564616 and parameters: {'delta_start': 1085, 'mip_focus': 2, 'cuts': 2, 'heuristics': 0.685818683609511, 'presolve': 2, 'nanmean': False}. Best is trial 3 with value: 31.532066508313537.\n"
     ]
    },
    {
     "name": "stdout",
     "output_type": "stream",
     "text": [
      "QueueSize: 25; ProblemNumber: 57\n",
      "file_path used:ProblemSets/Training_Queue25\n"
     ]
    },
    {
     "name": "stderr",
     "output_type": "stream",
     "text": [
      "[I 2024-11-21 14:35:55,218] Trial 31 finished with value: 19.129753038024305 and parameters: {'delta_start': 999, 'mip_focus': 1, 'cuts': 3, 'heuristics': 0.7769853067744596, 'presolve': 1, 'nanmean': False}. Best is trial 3 with value: 31.532066508313537.\n"
     ]
    },
    {
     "name": "stdout",
     "output_type": "stream",
     "text": [
      "Study saved to optuna_studies_stochastic/Queue25_Study.pkl\n",
      "Sleeping zZz  zZz  Zzz\n",
      "QueueSize: 75; ProblemNumber: 39\n",
      "file_path used:ProblemSets/Training_Queue75\n"
     ]
    },
    {
     "name": "stderr",
     "output_type": "stream",
     "text": [
      "[I 2024-11-21 14:40:22,442] Trial 14 finished with value: 3.4362102996590704 and parameters: {'delta_start': 2991, 'mip_focus': 1, 'cuts': 2, 'heuristics': 0.5243213691707445, 'presolve': 2, 'nanmean': True}. Best is trial 13 with value: 16.834446327120503.\n"
     ]
    },
    {
     "name": "stdout",
     "output_type": "stream",
     "text": [
      "QueueSize: 75; ProblemNumber: 53\n",
      "file_path used:ProblemSets/Training_Queue75\n"
     ]
    },
    {
     "name": "stderr",
     "output_type": "stream",
     "text": [
      "[I 2024-11-21 14:44:10,673] Trial 15 finished with value: 10.323561713271943 and parameters: {'delta_start': 2849, 'mip_focus': 1, 'cuts': 3, 'heuristics': 0.6918950130690416, 'presolve': 2, 'nanmean': True}. Best is trial 13 with value: 16.834446327120503.\n"
     ]
    },
    {
     "name": "stdout",
     "output_type": "stream",
     "text": [
      "Study saved to optuna_studies_stochastic/Queue75_Study.pkl\n",
      "Sleeping zZz  zZz  Zzz\n",
      "QueueSize: 25; ProblemNumber: 42\n",
      "file_path used:ProblemSets/Training_Queue25\n"
     ]
    },
    {
     "name": "stderr",
     "output_type": "stream",
     "text": [
      "[I 2024-11-21 14:46:00,065] Trial 32 finished with value: 13.285753499862752 and parameters: {'delta_start': 1181, 'mip_focus': 2, 'cuts': 2, 'heuristics': 0.8881528509714888, 'presolve': 1, 'nanmean': False}. Best is trial 3 with value: 31.532066508313537.\n"
     ]
    },
    {
     "name": "stdout",
     "output_type": "stream",
     "text": [
      "QueueSize: 25; ProblemNumber: 186\n",
      "file_path used:ProblemSets/Training_Queue25\n"
     ]
    },
    {
     "name": "stderr",
     "output_type": "stream",
     "text": [
      "[I 2024-11-21 14:47:49,105] Trial 33 finished with value: 26.648538409245408 and parameters: {'delta_start': 1074, 'mip_focus': 2, 'cuts': 2, 'heuristics': 0.8930487115659438, 'presolve': 2, 'nanmean': False}. Best is trial 3 with value: 31.532066508313537.\n"
     ]
    },
    {
     "name": "stdout",
     "output_type": "stream",
     "text": [
      "Study saved to optuna_studies_stochastic/Queue25_Study.pkl\n",
      "Sleeping zZz  zZz  Zzz\n",
      "QueueSize: 25; ProblemNumber: 223\n",
      "file_path used:ProblemSets/Training_Queue25\n"
     ]
    },
    {
     "name": "stderr",
     "output_type": "stream",
     "text": [
      "[I 2024-11-21 14:48:56,398] Trial 34 finished with value: 30.890445222611305 and parameters: {'delta_start': 668, 'mip_focus': 2, 'cuts': 2, 'heuristics': 0.8303559797483651, 'presolve': 2, 'nanmean': True}. Best is trial 3 with value: 31.532066508313537.\n"
     ]
    },
    {
     "name": "stdout",
     "output_type": "stream",
     "text": [
      "QueueSize: 25; ProblemNumber: 122\n",
      "file_path used:ProblemSets/Training_Queue25\n"
     ]
    },
    {
     "name": "stderr",
     "output_type": "stream",
     "text": [
      "[I 2024-11-21 14:50:43,492] Trial 35 finished with value: 22.40497888419649 and parameters: {'delta_start': 671, 'mip_focus': 2, 'cuts': 2, 'heuristics': 0.7779477624867022, 'presolve': 2, 'nanmean': True}. Best is trial 3 with value: 31.532066508313537.\n"
     ]
    },
    {
     "name": "stdout",
     "output_type": "stream",
     "text": [
      "Study saved to optuna_studies_stochastic/Queue25_Study.pkl\n",
      "Sleeping zZz  zZz  Zzz\n",
      "QueueSize: 75; ProblemNumber: 5\n",
      "file_path used:ProblemSets/Training_Queue75\n"
     ]
    },
    {
     "name": "stderr",
     "output_type": "stream",
     "text": [
      "[I 2024-11-21 14:55:50,750] Trial 16 finished with value: 2.987183368654758 and parameters: {'delta_start': 2830, 'mip_focus': 0, 'cuts': 3, 'heuristics': 0.5446253810758329, 'presolve': 2, 'nanmean': False}. Best is trial 13 with value: 16.834446327120503.\n"
     ]
    },
    {
     "name": "stdout",
     "output_type": "stream",
     "text": [
      "QueueSize: 75; ProblemNumber: 35\n",
      "file_path used:ProblemSets/Training_Queue75\n"
     ]
    },
    {
     "name": "stderr",
     "output_type": "stream",
     "text": [
      "[I 2024-11-21 15:00:07,713] Trial 17 finished with value: 11.976765627881246 and parameters: {'delta_start': 2859, 'mip_focus': 2, 'cuts': 2, 'heuristics': 0.5711214133132857, 'presolve': 1, 'nanmean': True}. Best is trial 13 with value: 16.834446327120503.\n"
     ]
    },
    {
     "name": "stdout",
     "output_type": "stream",
     "text": [
      "Study saved to optuna_studies_stochastic/Queue75_Study.pkl\n",
      "Sleeping zZz  zZz  Zzz\n",
      "QueueSize: 25; ProblemNumber: 215\n",
      "file_path used:ProblemSets/Training_Queue25\n"
     ]
    },
    {
     "name": "stderr",
     "output_type": "stream",
     "text": [
      "[I 2024-11-21 15:01:48,760] Trial 36 finished with value: 19.79410388394946 and parameters: {'delta_start': 875, 'mip_focus': 2, 'cuts': 2, 'heuristics': 0.9007063220789849, 'presolve': 2, 'nanmean': True}. Best is trial 3 with value: 31.532066508313537.\n"
     ]
    },
    {
     "name": "stdout",
     "output_type": "stream",
     "text": [
      "QueueSize: 25; ProblemNumber: 221\n",
      "file_path used:ProblemSets/Training_Queue25\n"
     ]
    },
    {
     "name": "stderr",
     "output_type": "stream",
     "text": [
      "[I 2024-11-21 15:03:19,951] Trial 37 finished with value: 12.708941363756965 and parameters: {'delta_start': 858, 'mip_focus': 3, 'cuts': 2, 'heuristics': 0.8601908777339671, 'presolve': 1, 'nanmean': True}. Best is trial 3 with value: 31.532066508313537.\n"
     ]
    },
    {
     "name": "stdout",
     "output_type": "stream",
     "text": [
      "Study saved to optuna_studies_stochastic/Queue25_Study.pkl\n",
      "Sleeping zZz  zZz  Zzz\n",
      "QueueSize: 25; ProblemNumber: 235\n",
      "file_path used:ProblemSets/Training_Queue25\n"
     ]
    },
    {
     "name": "stderr",
     "output_type": "stream",
     "text": [
      "[I 2024-11-21 15:05:08,900] Trial 38 finished with value: 12.017762975298362 and parameters: {'delta_start': 2955, 'mip_focus': 1, 'cuts': 3, 'heuristics': 0.5154877471807874, 'presolve': 2, 'nanmean': True}. Best is trial 3 with value: 31.532066508313537.\n"
     ]
    },
    {
     "name": "stdout",
     "output_type": "stream",
     "text": [
      "QueueSize: 25; ProblemNumber: 146\n",
      "file_path used:ProblemSets/Training_Queue25\n"
     ]
    },
    {
     "name": "stderr",
     "output_type": "stream",
     "text": [
      "[I 2024-11-21 15:06:26,577] Trial 39 finished with value: 36.571563310539965 and parameters: {'delta_start': 801, 'mip_focus': 1, 'cuts': 2, 'heuristics': 0.9723864473202408, 'presolve': 2, 'nanmean': False}. Best is trial 39 with value: 36.571563310539965.\n"
     ]
    },
    {
     "name": "stdout",
     "output_type": "stream",
     "text": [
      "Study saved to optuna_studies_stochastic/Queue25_Study.pkl\n",
      "Sleeping zZz  zZz  Zzz\n",
      "QueueSize: 75; ProblemNumber: 76\n",
      "file_path used:ProblemSets/Training_Queue75\n"
     ]
    },
    {
     "name": "stderr",
     "output_type": "stream",
     "text": [
      "[I 2024-11-21 15:10:20,518] Trial 18 finished with value: 10.678958993565734 and parameters: {'delta_start': 2956, 'mip_focus': 2, 'cuts': 2, 'heuristics': 0.7781052845129963, 'presolve': 2, 'nanmean': True}. Best is trial 13 with value: 16.834446327120503.\n"
     ]
    },
    {
     "name": "stdout",
     "output_type": "stream",
     "text": [
      "QueueSize: 75; ProblemNumber: 9\n",
      "file_path used:ProblemSets/Training_Queue75\n"
     ]
    },
    {
     "name": "stderr",
     "output_type": "stream",
     "text": [
      "[I 2024-11-21 15:14:30,489] Trial 19 finished with value: 18.969072164948454 and parameters: {'delta_start': 2992, 'mip_focus': 3, 'cuts': 3, 'heuristics': 0.6363496042203253, 'presolve': 2, 'nanmean': False}. Best is trial 19 with value: 18.969072164948454.\n"
     ]
    },
    {
     "name": "stdout",
     "output_type": "stream",
     "text": [
      "Study saved to optuna_studies_stochastic/Queue75_Study.pkl\n",
      "Sleeping zZz  zZz  Zzz\n",
      "QueueSize: 25; ProblemNumber: 74\n",
      "file_path used:ProblemSets/Training_Queue25\n"
     ]
    },
    {
     "name": "stderr",
     "output_type": "stream",
     "text": [
      "[I 2024-11-21 15:15:55,455] Trial 40 finished with value: 15.890885473046115 and parameters: {'delta_start': 973, 'mip_focus': 1, 'cuts': 2, 'heuristics': 0.9797153301205805, 'presolve': 2, 'nanmean': False}. Best is trial 39 with value: 36.571563310539965.\n"
     ]
    },
    {
     "name": "stdout",
     "output_type": "stream",
     "text": [
      "QueueSize: 25; ProblemNumber: 253\n",
      "file_path used:ProblemSets/Training_Queue25\n"
     ]
    },
    {
     "name": "stderr",
     "output_type": "stream",
     "text": [
      "[I 2024-11-21 15:17:32,195] Trial 41 finished with value: 49.72916302638477 and parameters: {'delta_start': 663, 'mip_focus': 1, 'cuts': 2, 'heuristics': 0.84794307257028, 'presolve': 2, 'nanmean': False}. Best is trial 41 with value: 49.72916302638477.\n"
     ]
    },
    {
     "name": "stdout",
     "output_type": "stream",
     "text": [
      "Study saved to optuna_studies_stochastic/Queue25_Study.pkl\n",
      "Sleeping zZz  zZz  Zzz\n",
      "QueueSize: 25; ProblemNumber: 230\n",
      "file_path used:ProblemSets/Training_Queue25\n"
     ]
    },
    {
     "name": "stderr",
     "output_type": "stream",
     "text": [
      "[I 2024-11-21 15:19:09,321] Trial 42 finished with value: 28.485324947589096 and parameters: {'delta_start': 974, 'mip_focus': 1, 'cuts': 2, 'heuristics': 0.8093182948050829, 'presolve': 2, 'nanmean': False}. Best is trial 41 with value: 49.72916302638477.\n"
     ]
    },
    {
     "name": "stdout",
     "output_type": "stream",
     "text": [
      "QueueSize: 25; ProblemNumber: 7\n",
      "file_path used:ProblemSets/Training_Queue25\n"
     ]
    },
    {
     "name": "stderr",
     "output_type": "stream",
     "text": [
      "[I 2024-11-21 15:20:24,791] Trial 43 finished with value: 10.250297973778308 and parameters: {'delta_start': 665, 'mip_focus': 0, 'cuts': 2, 'heuristics': 0.8597491848963844, 'presolve': 2, 'nanmean': False}. Best is trial 41 with value: 49.72916302638477.\n"
     ]
    },
    {
     "name": "stdout",
     "output_type": "stream",
     "text": [
      "Study saved to optuna_studies_stochastic/Queue25_Study.pkl\n",
      "Sleeping zZz  zZz  Zzz\n",
      "QueueSize: 75; ProblemNumber: 46\n",
      "file_path used:ProblemSets/Training_Queue75\n"
     ]
    },
    {
     "name": "stderr",
     "output_type": "stream",
     "text": [
      "[I 2024-11-21 15:24:05,058] Trial 20 finished with value: 14.475923515867454 and parameters: {'delta_start': 2908, 'mip_focus': 3, 'cuts': 3, 'heuristics': 0.5701942275567173, 'presolve': 2, 'nanmean': False}. Best is trial 19 with value: 18.969072164948454.\n"
     ]
    },
    {
     "name": "stdout",
     "output_type": "stream",
     "text": [
      "QueueSize: 75; ProblemNumber: 13\n",
      "file_path used:ProblemSets/Training_Queue75\n"
     ]
    },
    {
     "name": "stderr",
     "output_type": "stream",
     "text": [
      "[I 2024-11-21 15:28:53,907] Trial 21 finished with value: 9.985361773316603 and parameters: {'delta_start': 2978, 'mip_focus': 2, 'cuts': 3, 'heuristics': 0.6884150754346496, 'presolve': 2, 'nanmean': False}. Best is trial 19 with value: 18.969072164948454.\n"
     ]
    },
    {
     "name": "stdout",
     "output_type": "stream",
     "text": [
      "Study saved to optuna_studies_stochastic/Queue75_Study.pkl\n",
      "Sleeping zZz  zZz  Zzz\n",
      "QueueSize: 25; ProblemNumber: 168\n",
      "file_path used:ProblemSets/Training_Queue25\n"
     ]
    },
    {
     "name": "stderr",
     "output_type": "stream",
     "text": [
      "[I 2024-11-21 15:30:30,453] Trial 44 finished with value: 24.0542313579707 and parameters: {'delta_start': 841, 'mip_focus': 1, 'cuts': 3, 'heuristics': 0.8635252775961518, 'presolve': 1, 'nanmean': True}. Best is trial 41 with value: 49.72916302638477.\n"
     ]
    },
    {
     "name": "stdout",
     "output_type": "stream",
     "text": [
      "QueueSize: 25; ProblemNumber: 170\n",
      "file_path used:ProblemSets/Training_Queue25\n"
     ]
    },
    {
     "name": "stderr",
     "output_type": "stream",
     "text": [
      "[I 2024-11-21 15:32:08,154] Trial 45 finished with value: 19.778236204228982 and parameters: {'delta_start': 971, 'mip_focus': 1, 'cuts': 3, 'heuristics': 0.8923639056719814, 'presolve': 0, 'nanmean': False}. Best is trial 41 with value: 49.72916302638477.\n"
     ]
    },
    {
     "name": "stdout",
     "output_type": "stream",
     "text": [
      "Study saved to optuna_studies_stochastic/Queue25_Study.pkl\n",
      "Sleeping zZz  zZz  Zzz\n",
      "QueueSize: 25; ProblemNumber: 283\n",
      "file_path used:ProblemSets/Training_Queue25\n"
     ]
    },
    {
     "name": "stderr",
     "output_type": "stream",
     "text": [
      "[I 2024-11-21 15:33:56,036] Trial 46 finished with value: 19.390436153441932 and parameters: {'delta_start': 767, 'mip_focus': 1, 'cuts': 2, 'heuristics': 0.9719796406839342, 'presolve': 2, 'nanmean': False}. Best is trial 41 with value: 49.72916302638477.\n"
     ]
    },
    {
     "name": "stdout",
     "output_type": "stream",
     "text": [
      "QueueSize: 25; ProblemNumber: 122\n",
      "file_path used:ProblemSets/Training_Queue25\n"
     ]
    },
    {
     "name": "stderr",
     "output_type": "stream",
     "text": [
      "[I 2024-11-21 15:35:43,061] Trial 47 finished with value: 22.760613469659923 and parameters: {'delta_start': 2786, 'mip_focus': 3, 'cuts': 3, 'heuristics': 0.5196528522162909, 'presolve': 1, 'nanmean': True}. Best is trial 41 with value: 49.72916302638477.\n"
     ]
    },
    {
     "name": "stdout",
     "output_type": "stream",
     "text": [
      "Study saved to optuna_studies_stochastic/Queue25_Study.pkl\n",
      "Sleeping zZz  zZz  Zzz\n",
      "QueueSize: 75; ProblemNumber: 66\n",
      "file_path used:ProblemSets/Training_Queue75\n"
     ]
    },
    {
     "name": "stderr",
     "output_type": "stream",
     "text": [
      "[I 2024-11-21 15:39:44,186] Trial 22 finished with value: 14.80934355091866 and parameters: {'delta_start': 2952, 'mip_focus': 3, 'cuts': 3, 'heuristics': 0.6325589080258257, 'presolve': 2, 'nanmean': True}. Best is trial 19 with value: 18.969072164948454.\n"
     ]
    },
    {
     "name": "stdout",
     "output_type": "stream",
     "text": [
      "QueueSize: 75; ProblemNumber: 5\n",
      "file_path used:ProblemSets/Training_Queue75\n"
     ]
    },
    {
     "name": "stderr",
     "output_type": "stream",
     "text": [
      "[I 2024-11-21 15:44:54,108] Trial 23 finished with value: 2.987183368654758 and parameters: {'delta_start': 2990, 'mip_focus': 3, 'cuts': 2, 'heuristics': 0.6189945866806936, 'presolve': 2, 'nanmean': False}. Best is trial 19 with value: 18.969072164948454.\n"
     ]
    },
    {
     "name": "stdout",
     "output_type": "stream",
     "text": [
      "Study saved to optuna_studies_stochastic/Queue75_Study.pkl\n",
      "Sleeping zZz  zZz  Zzz\n",
      "QueueSize: 25; ProblemNumber: 29\n",
      "file_path used:ProblemSets/Training_Queue25\n"
     ]
    },
    {
     "name": "stderr",
     "output_type": "stream",
     "text": [
      "[I 2024-11-21 15:46:42,845] Trial 48 finished with value: 16.605890603085555 and parameters: {'delta_start': 653, 'mip_focus': 1, 'cuts': 2, 'heuristics': 0.9015253520139173, 'presolve': 1, 'nanmean': False}. Best is trial 41 with value: 49.72916302638477.\n"
     ]
    },
    {
     "name": "stdout",
     "output_type": "stream",
     "text": [
      "QueueSize: 25; ProblemNumber: 165\n",
      "file_path used:ProblemSets/Training_Queue25\n"
     ]
    },
    {
     "name": "stderr",
     "output_type": "stream",
     "text": [
      "[I 2024-11-21 15:48:21,810] Trial 49 finished with value: 17.253914988814316 and parameters: {'delta_start': 722, 'mip_focus': 0, 'cuts': 2, 'heuristics': 0.9297961671218352, 'presolve': 2, 'nanmean': True}. Best is trial 41 with value: 49.72916302638477.\n"
     ]
    },
    {
     "name": "stdout",
     "output_type": "stream",
     "text": [
      "Study saved to optuna_studies_stochastic/Queue25_Study.pkl\n",
      "Sleeping zZz  zZz  Zzz\n",
      "QueueSize: 25; ProblemNumber: 136\n",
      "file_path used:ProblemSets/Training_Queue25\n"
     ]
    },
    {
     "name": "stderr",
     "output_type": "stream",
     "text": [
      "[I 2024-11-21 15:50:20,557] Trial 50 finished with value: 13.437897414158542 and parameters: {'delta_start': 2492, 'mip_focus': 2, 'cuts': 2, 'heuristics': 0.5146485163761474, 'presolve': 1, 'nanmean': False}. Best is trial 41 with value: 49.72916302638477.\n"
     ]
    },
    {
     "name": "stdout",
     "output_type": "stream",
     "text": [
      "QueueSize: 25; ProblemNumber: 145\n",
      "file_path used:ProblemSets/Training_Queue25\n"
     ]
    },
    {
     "name": "stderr",
     "output_type": "stream",
     "text": [
      "[I 2024-11-21 15:51:38,332] Trial 51 finished with value: 23.44858156028369 and parameters: {'delta_start': 2995, 'mip_focus': 0, 'cuts': 2, 'heuristics': 0.7841382632363838, 'presolve': 0, 'nanmean': True}. Best is trial 41 with value: 49.72916302638477.\n"
     ]
    },
    {
     "name": "stdout",
     "output_type": "stream",
     "text": [
      "Study saved to optuna_studies_stochastic/Queue25_Study.pkl\n",
      "Sleeping zZz  zZz  Zzz\n",
      "QueueSize: 75; ProblemNumber: 71\n",
      "file_path used:ProblemSets/Training_Queue75\n"
     ]
    },
    {
     "name": "stderr",
     "output_type": "stream",
     "text": [
      "[I 2024-11-21 15:56:05,999] Trial 24 finished with value: 8.844733602954106 and parameters: {'delta_start': 2925, 'mip_focus': 1, 'cuts': 3, 'heuristics': 0.5682348266496406, 'presolve': 1, 'nanmean': True}. Best is trial 19 with value: 18.969072164948454.\n"
     ]
    },
    {
     "name": "stdout",
     "output_type": "stream",
     "text": [
      "QueueSize: 75; ProblemNumber: 89\n",
      "file_path used:ProblemSets/Training_Queue75\n"
     ]
    },
    {
     "name": "stderr",
     "output_type": "stream",
     "text": [
      "[I 2024-11-21 16:00:47,461] Trial 25 finished with value: 10.440456769983687 and parameters: {'delta_start': 2971, 'mip_focus': 0, 'cuts': 2, 'heuristics': 0.6357787888350077, 'presolve': 2, 'nanmean': False}. Best is trial 19 with value: 18.969072164948454.\n"
     ]
    },
    {
     "name": "stdout",
     "output_type": "stream",
     "text": [
      "Study saved to optuna_studies_stochastic/Queue75_Study.pkl\n",
      "Sleeping zZz  zZz  Zzz\n",
      "QueueSize: 25; ProblemNumber: 132\n",
      "file_path used:ProblemSets/Training_Queue25\n"
     ]
    },
    {
     "name": "stderr",
     "output_type": "stream",
     "text": [
      "[I 2024-11-21 16:02:44,799] Trial 52 finished with value: 1.9631031220435196 and parameters: {'delta_start': 1737, 'mip_focus': 3, 'cuts': 3, 'heuristics': 0.9245839099061561, 'presolve': 2, 'nanmean': True}. Best is trial 41 with value: 49.72916302638477.\n"
     ]
    },
    {
     "name": "stdout",
     "output_type": "stream",
     "text": [
      "QueueSize: 25; ProblemNumber: 292\n",
      "file_path used:ProblemSets/Training_Queue25\n"
     ]
    },
    {
     "name": "stderr",
     "output_type": "stream",
     "text": [
      "[I 2024-11-21 16:04:06,960] Trial 53 finished with value: 30.830370215436105 and parameters: {'delta_start': 687, 'mip_focus': 1, 'cuts': 2, 'heuristics': 0.7504086222127112, 'presolve': 1, 'nanmean': True}. Best is trial 41 with value: 49.72916302638477.\n"
     ]
    },
    {
     "name": "stdout",
     "output_type": "stream",
     "text": [
      "Study saved to optuna_studies_stochastic/Queue25_Study.pkl\n",
      "Sleeping zZz  zZz  Zzz\n",
      "QueueSize: 25; ProblemNumber: 70\n",
      "file_path used:ProblemSets/Training_Queue25\n"
     ]
    },
    {
     "name": "stderr",
     "output_type": "stream",
     "text": [
      "[I 2024-11-21 16:05:34,171] Trial 54 finished with value: 18.802919708029197 and parameters: {'delta_start': 1226, 'mip_focus': 1, 'cuts': 3, 'heuristics': 0.7405952085517502, 'presolve': 0, 'nanmean': False}. Best is trial 41 with value: 49.72916302638477.\n"
     ]
    },
    {
     "name": "stdout",
     "output_type": "stream",
     "text": [
      "QueueSize: 25; ProblemNumber: 252\n",
      "file_path used:ProblemSets/Training_Queue25\n"
     ]
    },
    {
     "name": "stderr",
     "output_type": "stream",
     "text": [
      "[I 2024-11-21 16:07:02,379] Trial 55 finished with value: 20.121072355145575 and parameters: {'delta_start': 771, 'mip_focus': 1, 'cuts': 2, 'heuristics': 0.8363486980725434, 'presolve': 2, 'nanmean': False}. Best is trial 41 with value: 49.72916302638477.\n"
     ]
    },
    {
     "name": "stdout",
     "output_type": "stream",
     "text": [
      "Study saved to optuna_studies_stochastic/Queue25_Study.pkl\n",
      "Sleeping zZz  zZz  Zzz\n",
      "QueueSize: 75; ProblemNumber: 31\n",
      "file_path used:ProblemSets/Training_Queue75\n"
     ]
    },
    {
     "name": "stderr",
     "output_type": "stream",
     "text": [
      "[I 2024-11-21 16:11:09,050] Trial 26 finished with value: 6.957165325191969 and parameters: {'delta_start': 2982, 'mip_focus': 0, 'cuts': 2, 'heuristics': 0.5233996692158929, 'presolve': 1, 'nanmean': True}. Best is trial 19 with value: 18.969072164948454.\n"
     ]
    },
    {
     "name": "stdout",
     "output_type": "stream",
     "text": [
      "QueueSize: 75; ProblemNumber: 19\n",
      "file_path used:ProblemSets/Training_Queue75\n"
     ]
    },
    {
     "name": "stderr",
     "output_type": "stream",
     "text": [
      "[I 2024-11-21 16:15:01,090] Trial 27 finished with value: 13.121066967220813 and parameters: {'delta_start': 2753, 'mip_focus': 1, 'cuts': 2, 'heuristics': 0.9391285603495381, 'presolve': 2, 'nanmean': True}. Best is trial 19 with value: 18.969072164948454.\n"
     ]
    },
    {
     "name": "stdout",
     "output_type": "stream",
     "text": [
      "Study saved to optuna_studies_stochastic/Queue75_Study.pkl\n",
      "Sleeping zZz  zZz  Zzz\n",
      "QueueSize: 25; ProblemNumber: 182\n",
      "file_path used:ProblemSets/Training_Queue25\n"
     ]
    },
    {
     "name": "stderr",
     "output_type": "stream",
     "text": [
      "[I 2024-11-21 16:16:27,529] Trial 56 finished with value: 7.259073842302878 and parameters: {'delta_start': 799, 'mip_focus': 2, 'cuts': 3, 'heuristics': 0.8751162550549955, 'presolve': 2, 'nanmean': False}. Best is trial 41 with value: 49.72916302638477.\n"
     ]
    },
    {
     "name": "stdout",
     "output_type": "stream",
     "text": [
      "QueueSize: 25; ProblemNumber: 167\n",
      "file_path used:ProblemSets/Training_Queue25\n"
     ]
    },
    {
     "name": "stderr",
     "output_type": "stream",
     "text": [
      "[I 2024-11-21 16:17:42,826] Trial 57 finished with value: 30.288784419073206 and parameters: {'delta_start': 1152, 'mip_focus': 3, 'cuts': 2, 'heuristics': 0.7740825910697863, 'presolve': 2, 'nanmean': True}. Best is trial 41 with value: 49.72916302638477.\n"
     ]
    },
    {
     "name": "stdout",
     "output_type": "stream",
     "text": [
      "Study saved to optuna_studies_stochastic/Queue25_Study.pkl\n",
      "Sleeping zZz  zZz  Zzz\n",
      "QueueSize: 25; ProblemNumber: 91\n",
      "file_path used:ProblemSets/Training_Queue25\n"
     ]
    },
    {
     "name": "stderr",
     "output_type": "stream",
     "text": [
      "[I 2024-11-21 16:19:26,524] Trial 58 finished with value: 13.354447083663235 and parameters: {'delta_start': 1959, 'mip_focus': 1, 'cuts': 3, 'heuristics': 0.5409166661166497, 'presolve': 0, 'nanmean': True}. Best is trial 41 with value: 49.72916302638477.\n"
     ]
    },
    {
     "name": "stdout",
     "output_type": "stream",
     "text": [
      "QueueSize: 25; ProblemNumber: 202\n",
      "file_path used:ProblemSets/Training_Queue25\n"
     ]
    },
    {
     "name": "stderr",
     "output_type": "stream",
     "text": [
      "[I 2024-11-21 16:21:11,109] Trial 59 finished with value: 34.29123400144893 and parameters: {'delta_start': 808, 'mip_focus': 1, 'cuts': 2, 'heuristics': 0.9592359143291778, 'presolve': 1, 'nanmean': True}. Best is trial 41 with value: 49.72916302638477.\n"
     ]
    },
    {
     "name": "stdout",
     "output_type": "stream",
     "text": [
      "Study saved to optuna_studies_stochastic/Queue25_Study.pkl\n",
      "Sleeping zZz  zZz  Zzz\n",
      "QueueSize: 75; ProblemNumber: 90\n",
      "file_path used:ProblemSets/Training_Queue75\n"
     ]
    },
    {
     "name": "stderr",
     "output_type": "stream",
     "text": [
      "[I 2024-11-21 16:25:08,008] Trial 28 finished with value: 6.83794466403162 and parameters: {'delta_start': 2970, 'mip_focus': 3, 'cuts': 3, 'heuristics': 0.857688318575631, 'presolve': 2, 'nanmean': False}. Best is trial 19 with value: 18.969072164948454.\n"
     ]
    },
    {
     "name": "stdout",
     "output_type": "stream",
     "text": [
      "QueueSize: 75; ProblemNumber: 19\n",
      "file_path used:ProblemSets/Training_Queue75\n"
     ]
    },
    {
     "name": "stderr",
     "output_type": "stream",
     "text": [
      "[I 2024-11-21 16:29:00,885] Trial 29 finished with value: 11.158072696534235 and parameters: {'delta_start': 2705, 'mip_focus': 3, 'cuts': 3, 'heuristics': 0.9608681457356683, 'presolve': 2, 'nanmean': True}. Best is trial 19 with value: 18.969072164948454.\n"
     ]
    },
    {
     "name": "stdout",
     "output_type": "stream",
     "text": [
      "Study saved to optuna_studies_stochastic/Queue75_Study.pkl\n",
      "Sleeping zZz  zZz  Zzz\n",
      "QueueSize: 25; ProblemNumber: 39\n",
      "file_path used:ProblemSets/Training_Queue25\n"
     ]
    },
    {
     "name": "stderr",
     "output_type": "stream",
     "text": [
      "[I 2024-11-21 16:30:35,799] Trial 60 finished with value: 26.360168640835173 and parameters: {'delta_start': 730, 'mip_focus': 1, 'cuts': 3, 'heuristics': 0.8882595965347955, 'presolve': 1, 'nanmean': False}. Best is trial 41 with value: 49.72916302638477.\n"
     ]
    },
    {
     "name": "stdout",
     "output_type": "stream",
     "text": [
      "QueueSize: 25; ProblemNumber: 126\n",
      "file_path used:ProblemSets/Training_Queue25\n"
     ]
    },
    {
     "name": "stderr",
     "output_type": "stream",
     "text": [
      "[I 2024-11-21 16:32:15,952] Trial 61 finished with value: 5.770839141343742 and parameters: {'delta_start': 1256, 'mip_focus': 1, 'cuts': 2, 'heuristics': 0.8955716486736159, 'presolve': 1, 'nanmean': True}. Best is trial 41 with value: 49.72916302638477.\n"
     ]
    },
    {
     "name": "stdout",
     "output_type": "stream",
     "text": [
      "Study saved to optuna_studies_stochastic/Queue25_Study.pkl\n",
      "Sleeping zZz  zZz  Zzz\n",
      "QueueSize: 25; ProblemNumber: 173\n",
      "file_path used:ProblemSets/Training_Queue25\n"
     ]
    },
    {
     "name": "stderr",
     "output_type": "stream",
     "text": [
      "[I 2024-11-21 16:33:56,782] Trial 62 finished with value: 24.70643494598403 and parameters: {'delta_start': 772, 'mip_focus': 2, 'cuts': 2, 'heuristics': 0.9419851196550841, 'presolve': 0, 'nanmean': True}. Best is trial 41 with value: 49.72916302638477.\n"
     ]
    },
    {
     "name": "stdout",
     "output_type": "stream",
     "text": [
      "QueueSize: 25; ProblemNumber: 141\n",
      "file_path used:ProblemSets/Training_Queue25\n"
     ]
    },
    {
     "name": "stderr",
     "output_type": "stream",
     "text": [
      "[I 2024-11-21 16:35:55,786] Trial 63 finished with value: 25.43694541543426 and parameters: {'delta_start': 1277, 'mip_focus': 1, 'cuts': 2, 'heuristics': 0.9764478087912905, 'presolve': 1, 'nanmean': True}. Best is trial 41 with value: 49.72916302638477.\n"
     ]
    },
    {
     "name": "stdout",
     "output_type": "stream",
     "text": [
      "Study saved to optuna_studies_stochastic/Queue25_Study.pkl\n",
      "Sleeping zZz  zZz  Zzz\n",
      "QueueSize: 75; ProblemNumber: 92\n",
      "file_path used:ProblemSets/Training_Queue75\n"
     ]
    },
    {
     "name": "stderr",
     "output_type": "stream",
     "text": [
      "[I 2024-11-21 16:40:00,229] Trial 30 finished with value: 6.440142236270249 and parameters: {'delta_start': 2868, 'mip_focus': 0, 'cuts': 2, 'heuristics': 0.6094594201120842, 'presolve': 2, 'nanmean': True}. Best is trial 19 with value: 18.969072164948454.\n"
     ]
    },
    {
     "name": "stdout",
     "output_type": "stream",
     "text": [
      "QueueSize: 75; ProblemNumber: 58\n",
      "file_path used:ProblemSets/Training_Queue75\n"
     ]
    },
    {
     "name": "stderr",
     "output_type": "stream",
     "text": [
      "[I 2024-11-21 16:44:47,271] Trial 31 finished with value: 13.684545261818954 and parameters: {'delta_start': 2571, 'mip_focus': 1, 'cuts': 2, 'heuristics': 0.7149532727046056, 'presolve': 0, 'nanmean': True}. Best is trial 19 with value: 18.969072164948454.\n"
     ]
    },
    {
     "name": "stdout",
     "output_type": "stream",
     "text": [
      "Study saved to optuna_studies_stochastic/Queue75_Study.pkl\n",
      "Sleeping zZz  zZz  Zzz\n",
      "QueueSize: 25; ProblemNumber: 148\n",
      "file_path used:ProblemSets/Training_Queue25\n"
     ]
    },
    {
     "name": "stderr",
     "output_type": "stream",
     "text": [
      "[I 2024-11-21 16:46:23,357] Trial 64 finished with value: 9.635974304068522 and parameters: {'delta_start': 819, 'mip_focus': 2, 'cuts': 2, 'heuristics': 0.9229939356822237, 'presolve': 1, 'nanmean': True}. Best is trial 41 with value: 49.72916302638477.\n"
     ]
    },
    {
     "name": "stdout",
     "output_type": "stream",
     "text": [
      "QueueSize: 25; ProblemNumber: 1\n",
      "file_path used:ProblemSets/Training_Queue25\n"
     ]
    },
    {
     "name": "stderr",
     "output_type": "stream",
     "text": [
      "[I 2024-11-21 16:47:50,779] Trial 65 finished with value: 43.36967294350843 and parameters: {'delta_start': 664, 'mip_focus': 2, 'cuts': 2, 'heuristics': 0.8362275593625024, 'presolve': 2, 'nanmean': False}. Best is trial 41 with value: 49.72916302638477.\n"
     ]
    },
    {
     "name": "stdout",
     "output_type": "stream",
     "text": [
      "Study saved to optuna_studies_stochastic/Queue25_Study.pkl\n",
      "Sleeping zZz  zZz  Zzz\n",
      "QueueSize: 25; ProblemNumber: 190\n",
      "file_path used:ProblemSets/Training_Queue25\n"
     ]
    },
    {
     "name": "stderr",
     "output_type": "stream",
     "text": [
      "[I 2024-11-21 16:49:35,771] Trial 66 finished with value: 24.386503067484664 and parameters: {'delta_start': 2909, 'mip_focus': 0, 'cuts': 3, 'heuristics': 0.5438503638607731, 'presolve': 0, 'nanmean': False}. Best is trial 41 with value: 49.72916302638477.\n"
     ]
    },
    {
     "name": "stdout",
     "output_type": "stream",
     "text": [
      "QueueSize: 25; ProblemNumber: 191\n",
      "file_path used:ProblemSets/Training_Queue25\n"
     ]
    },
    {
     "name": "stderr",
     "output_type": "stream",
     "text": [
      "[I 2024-11-21 16:51:13,502] Trial 67 finished with value: 19.349186483103882 and parameters: {'delta_start': 957, 'mip_focus': 2, 'cuts': 2, 'heuristics': 0.7908596171472944, 'presolve': 2, 'nanmean': False}. Best is trial 41 with value: 49.72916302638477.\n"
     ]
    },
    {
     "name": "stdout",
     "output_type": "stream",
     "text": [
      "Study saved to optuna_studies_stochastic/Queue25_Study.pkl\n",
      "Sleeping zZz  zZz  Zzz\n",
      "QueueSize: 75; ProblemNumber: 25\n",
      "file_path used:ProblemSets/Training_Queue75\n"
     ]
    },
    {
     "name": "stderr",
     "output_type": "stream",
     "text": [
      "[I 2024-11-21 16:55:45,112] Trial 32 finished with value: 14.910794378550781 and parameters: {'delta_start': 2853, 'mip_focus': 0, 'cuts': 2, 'heuristics': 0.581086980125127, 'presolve': 1, 'nanmean': True}. Best is trial 19 with value: 18.969072164948454.\n"
     ]
    },
    {
     "name": "stdout",
     "output_type": "stream",
     "text": [
      "QueueSize: 75; ProblemNumber: 56\n",
      "file_path used:ProblemSets/Training_Queue75\n"
     ]
    },
    {
     "name": "stderr",
     "output_type": "stream",
     "text": [
      "[I 2024-11-21 17:00:11,136] Trial 33 finished with value: 14.845961698584512 and parameters: {'delta_start': 2971, 'mip_focus': 1, 'cuts': 2, 'heuristics': 0.6837017796809178, 'presolve': 2, 'nanmean': True}. Best is trial 19 with value: 18.969072164948454.\n"
     ]
    },
    {
     "name": "stdout",
     "output_type": "stream",
     "text": [
      "Study saved to optuna_studies_stochastic/Queue75_Study.pkl\n",
      "Sleeping zZz  zZz  Zzz\n",
      "QueueSize: 25; ProblemNumber: 117\n",
      "file_path used:ProblemSets/Training_Queue25\n"
     ]
    },
    {
     "name": "stderr",
     "output_type": "stream",
     "text": [
      "[I 2024-11-21 17:01:37,229] Trial 68 finished with value: 13.210550250113688 and parameters: {'delta_start': 674, 'mip_focus': 2, 'cuts': 2, 'heuristics': 0.8228791179532354, 'presolve': 2, 'nanmean': False}. Best is trial 41 with value: 49.72916302638477.\n"
     ]
    },
    {
     "name": "stdout",
     "output_type": "stream",
     "text": [
      "QueueSize: 25; ProblemNumber: 134\n",
      "file_path used:ProblemSets/Training_Queue25\n"
     ]
    },
    {
     "name": "stderr",
     "output_type": "stream",
     "text": [
      "[I 2024-11-21 17:03:13,976] Trial 69 finished with value: 14.928848641655886 and parameters: {'delta_start': 683, 'mip_focus': 0, 'cuts': 2, 'heuristics': 0.9670472494584995, 'presolve': 0, 'nanmean': True}. Best is trial 41 with value: 49.72916302638477.\n"
     ]
    },
    {
     "name": "stdout",
     "output_type": "stream",
     "text": [
      "Study saved to optuna_studies_stochastic/Queue25_Study.pkl\n",
      "Sleeping zZz  zZz  Zzz\n",
      "QueueSize: 25; ProblemNumber: 58\n",
      "file_path used:ProblemSets/Training_Queue25\n"
     ]
    },
    {
     "name": "stderr",
     "output_type": "stream",
     "text": [
      "[I 2024-11-21 17:04:54,605] Trial 70 finished with value: 8.768844221105528 and parameters: {'delta_start': 821, 'mip_focus': 2, 'cuts': 2, 'heuristics': 0.9075422687878218, 'presolve': 2, 'nanmean': False}. Best is trial 41 with value: 49.72916302638477.\n"
     ]
    },
    {
     "name": "stdout",
     "output_type": "stream",
     "text": [
      "QueueSize: 25; ProblemNumber: 44\n",
      "file_path used:ProblemSets/Training_Queue25\n"
     ]
    },
    {
     "name": "stderr",
     "output_type": "stream",
     "text": [
      "[I 2024-11-21 17:06:32,462] Trial 71 finished with value: 23.23049001814882 and parameters: {'delta_start': 715, 'mip_focus': 1, 'cuts': 2, 'heuristics': 0.9365268879263556, 'presolve': 1, 'nanmean': True}. Best is trial 41 with value: 49.72916302638477.\n"
     ]
    },
    {
     "name": "stdout",
     "output_type": "stream",
     "text": [
      "Study saved to optuna_studies_stochastic/Queue25_Study.pkl\n",
      "Sleeping zZz  zZz  Zzz\n",
      "QueueSize: 75; ProblemNumber: 45\n",
      "file_path used:ProblemSets/Training_Queue75\n"
     ]
    },
    {
     "name": "stderr",
     "output_type": "stream",
     "text": [
      "[I 2024-11-21 17:11:20,757] Trial 34 finished with value: 11.252492640774856 and parameters: {'delta_start': 2997, 'mip_focus': 3, 'cuts': 3, 'heuristics': 0.6746437214787582, 'presolve': 1, 'nanmean': False}. Best is trial 19 with value: 18.969072164948454.\n"
     ]
    },
    {
     "name": "stdout",
     "output_type": "stream",
     "text": [
      "QueueSize: 75; ProblemNumber: 32\n",
      "file_path used:ProblemSets/Training_Queue75\n"
     ]
    },
    {
     "name": "stderr",
     "output_type": "stream",
     "text": [
      "[I 2024-11-21 17:15:45,971] Trial 35 finished with value: 5.385024840312278 and parameters: {'delta_start': 2785, 'mip_focus': 0, 'cuts': 2, 'heuristics': 0.5150863671175681, 'presolve': 0, 'nanmean': False}. Best is trial 19 with value: 18.969072164948454.\n"
     ]
    },
    {
     "name": "stdout",
     "output_type": "stream",
     "text": [
      "Study saved to optuna_studies_stochastic/Queue75_Study.pkl\n",
      "Sleeping zZz  zZz  Zzz\n",
      "QueueSize: 25; ProblemNumber: 173\n",
      "file_path used:ProblemSets/Training_Queue25\n"
     ]
    },
    {
     "name": "stderr",
     "output_type": "stream",
     "text": [
      "[I 2024-11-21 17:17:25,240] Trial 72 finished with value: 24.91780178487553 and parameters: {'delta_start': 793, 'mip_focus': 2, 'cuts': 2, 'heuristics': 0.8286687607620934, 'presolve': 2, 'nanmean': True}. Best is trial 41 with value: 49.72916302638477.\n"
     ]
    },
    {
     "name": "stdout",
     "output_type": "stream",
     "text": [
      "QueueSize: 25; ProblemNumber: 149\n",
      "file_path used:ProblemSets/Training_Queue25\n"
     ]
    },
    {
     "name": "stderr",
     "output_type": "stream",
     "text": [
      "[I 2024-11-21 17:18:45,513] Trial 73 finished with value: 19.14529914529915 and parameters: {'delta_start': 816, 'mip_focus': 2, 'cuts': 3, 'heuristics': 0.681629492304948, 'presolve': 2, 'nanmean': True}. Best is trial 41 with value: 49.72916302638477.\n"
     ]
    },
    {
     "name": "stdout",
     "output_type": "stream",
     "text": [
      "Study saved to optuna_studies_stochastic/Queue25_Study.pkl\n",
      "Sleeping zZz  zZz  Zzz\n",
      "QueueSize: 25; ProblemNumber: 80\n",
      "file_path used:ProblemSets/Training_Queue25\n"
     ]
    },
    {
     "name": "stderr",
     "output_type": "stream",
     "text": [
      "[I 2024-11-21 17:20:33,815] Trial 74 finished with value: 19.267337807606264 and parameters: {'delta_start': 704, 'mip_focus': 1, 'cuts': 2, 'heuristics': 0.8888542194183577, 'presolve': 2, 'nanmean': False}. Best is trial 41 with value: 49.72916302638477.\n"
     ]
    },
    {
     "name": "stdout",
     "output_type": "stream",
     "text": [
      "QueueSize: 25; ProblemNumber: 213\n",
      "file_path used:ProblemSets/Training_Queue25\n"
     ]
    },
    {
     "name": "stderr",
     "output_type": "stream",
     "text": [
      "[I 2024-11-21 17:22:26,256] Trial 75 finished with value: 31.25618199802176 and parameters: {'delta_start': 731, 'mip_focus': 1, 'cuts': 2, 'heuristics': 0.8329573582455743, 'presolve': 2, 'nanmean': True}. Best is trial 41 with value: 49.72916302638477.\n"
     ]
    },
    {
     "name": "stdout",
     "output_type": "stream",
     "text": [
      "Study saved to optuna_studies_stochastic/Queue25_Study.pkl\n",
      "Sleeping zZz  zZz  Zzz\n",
      "QueueSize: 75; ProblemNumber: 75\n",
      "file_path used:ProblemSets/Training_Queue75\n"
     ]
    },
    {
     "name": "stderr",
     "output_type": "stream",
     "text": [
      "[I 2024-11-21 17:26:14,516] Trial 36 finished with value: 3.8620568311779713 and parameters: {'delta_start': 2757, 'mip_focus': 0, 'cuts': 2, 'heuristics': 0.510590358481114, 'presolve': 1, 'nanmean': True}. Best is trial 19 with value: 18.969072164948454.\n"
     ]
    },
    {
     "name": "stdout",
     "output_type": "stream",
     "text": [
      "QueueSize: 75; ProblemNumber: 36\n",
      "file_path used:ProblemSets/Training_Queue75\n"
     ]
    },
    {
     "name": "stderr",
     "output_type": "stream",
     "text": [
      "[I 2024-11-21 17:30:05,102] Trial 37 finished with value: 9.969574036511156 and parameters: {'delta_start': 2904, 'mip_focus': 0, 'cuts': 2, 'heuristics': 0.5092549653060845, 'presolve': 1, 'nanmean': False}. Best is trial 19 with value: 18.969072164948454.\n"
     ]
    },
    {
     "name": "stdout",
     "output_type": "stream",
     "text": [
      "Study saved to optuna_studies_stochastic/Queue75_Study.pkl\n",
      "Sleeping zZz  zZz  Zzz\n",
      "QueueSize: 25; ProblemNumber: 227\n",
      "file_path used:ProblemSets/Training_Queue25\n"
     ]
    },
    {
     "name": "stderr",
     "output_type": "stream",
     "text": [
      "[I 2024-11-21 17:31:57,378] Trial 76 finished with value: 29.398928783971435 and parameters: {'delta_start': 2715, 'mip_focus': 3, 'cuts': 3, 'heuristics': 0.8348929321864982, 'presolve': 1, 'nanmean': False}. Best is trial 41 with value: 49.72916302638477.\n"
     ]
    },
    {
     "name": "stdout",
     "output_type": "stream",
     "text": [
      "QueueSize: 25; ProblemNumber: 147\n",
      "file_path used:ProblemSets/Training_Queue25\n"
     ]
    },
    {
     "name": "stderr",
     "output_type": "stream",
     "text": [
      "[I 2024-11-21 17:33:14,340] Trial 77 finished with value: 13.533627342888643 and parameters: {'delta_start': 2222, 'mip_focus': 3, 'cuts': 2, 'heuristics': 0.7370812661833819, 'presolve': 1, 'nanmean': False}. Best is trial 41 with value: 49.72916302638477.\n"
     ]
    },
    {
     "name": "stdout",
     "output_type": "stream",
     "text": [
      "Study saved to optuna_studies_stochastic/Queue25_Study.pkl\n",
      "Sleeping zZz  zZz  Zzz\n",
      "QueueSize: 25; ProblemNumber: 20\n",
      "file_path used:ProblemSets/Training_Queue25\n"
     ]
    },
    {
     "name": "stderr",
     "output_type": "stream",
     "text": [
      "[I 2024-11-21 17:35:01,017] Trial 78 finished with value: 14.430762583711385 and parameters: {'delta_start': 830, 'mip_focus': 1, 'cuts': 2, 'heuristics': 0.8973200172027286, 'presolve': 2, 'nanmean': True}. Best is trial 41 with value: 49.72916302638477.\n"
     ]
    },
    {
     "name": "stdout",
     "output_type": "stream",
     "text": [
      "QueueSize: 25; ProblemNumber: 47\n",
      "file_path used:ProblemSets/Training_Queue25\n"
     ]
    },
    {
     "name": "stderr",
     "output_type": "stream",
     "text": [
      "[I 2024-11-21 17:37:06,571] Trial 79 finished with value: 26.020719073735528 and parameters: {'delta_start': 966, 'mip_focus': 1, 'cuts': 2, 'heuristics': 0.7460847149996135, 'presolve': 2, 'nanmean': True}. Best is trial 41 with value: 49.72916302638477.\n"
     ]
    },
    {
     "name": "stdout",
     "output_type": "stream",
     "text": [
      "Study saved to optuna_studies_stochastic/Queue25_Study.pkl\n",
      "Sleeping zZz  zZz  Zzz\n",
      "QueueSize: 75; ProblemNumber: 49\n",
      "file_path used:ProblemSets/Training_Queue75\n"
     ]
    },
    {
     "name": "stderr",
     "output_type": "stream",
     "text": [
      "[I 2024-11-21 17:42:33,540] Trial 38 finished with value: 5.72736520854527 and parameters: {'delta_start': 2635, 'mip_focus': 0, 'cuts': 3, 'heuristics': 0.693022113000695, 'presolve': 1, 'nanmean': True}. Best is trial 19 with value: 18.969072164948454.\n"
     ]
    },
    {
     "name": "stdout",
     "output_type": "stream",
     "text": [
      "QueueSize: 75; ProblemNumber: 14\n",
      "file_path used:ProblemSets/Training_Queue75\n"
     ]
    },
    {
     "name": "stderr",
     "output_type": "stream",
     "text": [
      "[I 2024-11-21 17:46:14,512] Trial 39 finished with value: 19.897337741430313 and parameters: {'delta_start': 2619, 'mip_focus': 1, 'cuts': 3, 'heuristics': 0.9677167160301956, 'presolve': 0, 'nanmean': False}. Best is trial 39 with value: 19.897337741430313.\n"
     ]
    },
    {
     "name": "stdout",
     "output_type": "stream",
     "text": [
      "Study saved to optuna_studies_stochastic/Queue75_Study.pkl\n",
      "Sleeping zZz  zZz  Zzz\n",
      "QueueSize: 25; ProblemNumber: 143\n",
      "file_path used:ProblemSets/Training_Queue25\n"
     ]
    },
    {
     "name": "stderr",
     "output_type": "stream",
     "text": [
      "[I 2024-11-21 17:47:54,709] Trial 80 finished with value: 14.476243400944707 and parameters: {'delta_start': 2199, 'mip_focus': 1, 'cuts': 2, 'heuristics': 0.7304862453396611, 'presolve': 2, 'nanmean': True}. Best is trial 41 with value: 49.72916302638477.\n"
     ]
    },
    {
     "name": "stdout",
     "output_type": "stream",
     "text": [
      "QueueSize: 25; ProblemNumber: 1\n",
      "file_path used:ProblemSets/Training_Queue25\n"
     ]
    },
    {
     "name": "stderr",
     "output_type": "stream",
     "text": [
      "[I 2024-11-21 17:49:22,073] Trial 81 finished with value: 43.29038652130823 and parameters: {'delta_start': 1459, 'mip_focus': 0, 'cuts': 3, 'heuristics': 0.7413869136582041, 'presolve': 0, 'nanmean': False}. Best is trial 41 with value: 49.72916302638477.\n"
     ]
    },
    {
     "name": "stdout",
     "output_type": "stream",
     "text": [
      "Study saved to optuna_studies_stochastic/Queue25_Study.pkl\n",
      "Sleeping zZz  zZz  Zzz\n",
      "QueueSize: 25; ProblemNumber: 54\n",
      "file_path used:ProblemSets/Training_Queue25\n"
     ]
    },
    {
     "name": "stderr",
     "output_type": "stream",
     "text": [
      "[I 2024-11-21 17:51:11,440] Trial 82 finished with value: 5.992407809110629 and parameters: {'delta_start': 2048, 'mip_focus': 0, 'cuts': 3, 'heuristics': 0.670354371271309, 'presolve': 0, 'nanmean': False}. Best is trial 41 with value: 49.72916302638477.\n"
     ]
    },
    {
     "name": "stdout",
     "output_type": "stream",
     "text": [
      "QueueSize: 25; ProblemNumber: 259\n",
      "file_path used:ProblemSets/Training_Queue25\n"
     ]
    },
    {
     "name": "stderr",
     "output_type": "stream",
     "text": [
      "[I 2024-11-21 17:53:26,537] Trial 83 finished with value: 12.461402734891927 and parameters: {'delta_start': 1232, 'mip_focus': 0, 'cuts': 3, 'heuristics': 0.7027213619232872, 'presolve': 0, 'nanmean': False}. Best is trial 41 with value: 49.72916302638477.\n"
     ]
    },
    {
     "name": "stdout",
     "output_type": "stream",
     "text": [
      "Study saved to optuna_studies_stochastic/Queue25_Study.pkl\n",
      "Sleeping zZz  zZz  Zzz\n",
      "QueueSize: 75; ProblemNumber: 16\n",
      "file_path used:ProblemSets/Training_Queue75\n"
     ]
    },
    {
     "name": "stderr",
     "output_type": "stream",
     "text": [
      "[I 2024-11-21 17:57:30,178] Trial 40 finished with value: 1.5277631440311874 and parameters: {'delta_start': 2537, 'mip_focus': 1, 'cuts': 3, 'heuristics': 0.9518835688087736, 'presolve': 0, 'nanmean': False}. Best is trial 39 with value: 19.897337741430313.\n"
     ]
    },
    {
     "name": "stdout",
     "output_type": "stream",
     "text": [
      "QueueSize: 75; ProblemNumber: 87\n",
      "file_path used:ProblemSets/Training_Queue75\n"
     ]
    },
    {
     "name": "stderr",
     "output_type": "stream",
     "text": [
      "[I 2024-11-21 18:02:11,931] Trial 41 finished with value: 6.363474546101816 and parameters: {'delta_start': 2727, 'mip_focus': 1, 'cuts': 3, 'heuristics': 0.999327315134669, 'presolve': 0, 'nanmean': False}. Best is trial 39 with value: 19.897337741430313.\n"
     ]
    },
    {
     "name": "stdout",
     "output_type": "stream",
     "text": [
      "Study saved to optuna_studies_stochastic/Queue75_Study.pkl\n",
      "Sleeping zZz  zZz  Zzz\n",
      "QueueSize: 25; ProblemNumber: 12\n",
      "file_path used:ProblemSets/Training_Queue25\n"
     ]
    },
    {
     "name": "stderr",
     "output_type": "stream",
     "text": [
      "[I 2024-11-21 18:03:38,494] Trial 84 finished with value: 9.520143700282269 and parameters: {'delta_start': 1702, 'mip_focus': 0, 'cuts': 3, 'heuristics': 0.7944912051995543, 'presolve': 0, 'nanmean': False}. Best is trial 41 with value: 49.72916302638477.\n"
     ]
    },
    {
     "name": "stdout",
     "output_type": "stream",
     "text": [
      "QueueSize: 25; ProblemNumber: 224\n",
      "file_path used:ProblemSets/Training_Queue25\n"
     ]
    },
    {
     "name": "stderr",
     "output_type": "stream",
     "text": [
      "[I 2024-11-21 18:05:17,759] Trial 85 finished with value: 28.320983191758543 and parameters: {'delta_start': 2012, 'mip_focus': 3, 'cuts': 2, 'heuristics': 0.7552595204353308, 'presolve': 0, 'nanmean': True}. Best is trial 41 with value: 49.72916302638477.\n"
     ]
    },
    {
     "name": "stdout",
     "output_type": "stream",
     "text": [
      "Study saved to optuna_studies_stochastic/Queue25_Study.pkl\n",
      "Sleeping zZz  zZz  Zzz\n",
      "QueueSize: 25; ProblemNumber: 272\n",
      "file_path used:ProblemSets/Training_Queue25\n"
     ]
    },
    {
     "name": "stderr",
     "output_type": "stream",
     "text": [
      "[I 2024-11-21 18:07:16,831] Trial 86 finished with value: 24.507469149166486 and parameters: {'delta_start': 2540, 'mip_focus': 1, 'cuts': 3, 'heuristics': 0.9584499911344033, 'presolve': 2, 'nanmean': True}. Best is trial 41 with value: 49.72916302638477.\n"
     ]
    },
    {
     "name": "stdout",
     "output_type": "stream",
     "text": [
      "QueueSize: 25; ProblemNumber: 156\n",
      "file_path used:ProblemSets/Training_Queue25\n"
     ]
    },
    {
     "name": "stderr",
     "output_type": "stream",
     "text": [
      "[I 2024-11-21 18:09:07,505] Trial 87 finished with value: 23.603645711614863 and parameters: {'delta_start': 719, 'mip_focus': 1, 'cuts': 3, 'heuristics': 0.7673263552415615, 'presolve': 0, 'nanmean': False}. Best is trial 41 with value: 49.72916302638477.\n"
     ]
    },
    {
     "name": "stdout",
     "output_type": "stream",
     "text": [
      "Study saved to optuna_studies_stochastic/Queue25_Study.pkl\n",
      "Sleeping zZz  zZz  Zzz\n",
      "QueueSize: 75; ProblemNumber: 8\n",
      "file_path used:ProblemSets/Training_Queue75\n"
     ]
    },
    {
     "name": "stderr",
     "output_type": "stream",
     "text": [
      "[I 2024-11-21 18:14:11,996] Trial 42 finished with value: 15.546087498701027 and parameters: {'delta_start': 2648, 'mip_focus': 0, 'cuts': 3, 'heuristics': 0.9708975208851754, 'presolve': 1, 'nanmean': False}. Best is trial 39 with value: 19.897337741430313.\n"
     ]
    },
    {
     "name": "stdout",
     "output_type": "stream",
     "text": [
      "QueueSize: 75; ProblemNumber: 92\n",
      "file_path used:ProblemSets/Training_Queue75\n"
     ]
    },
    {
     "name": "stderr",
     "output_type": "stream",
     "text": [
      "[I 2024-11-21 18:18:16,614] Trial 43 finished with value: 6.1438166732516795 and parameters: {'delta_start': 2581, 'mip_focus': 1, 'cuts': 3, 'heuristics': 0.7516523646768598, 'presolve': 0, 'nanmean': False}. Best is trial 39 with value: 19.897337741430313.\n"
     ]
    },
    {
     "name": "stdout",
     "output_type": "stream",
     "text": [
      "Study saved to optuna_studies_stochastic/Queue75_Study.pkl\n",
      "Sleeping zZz  zZz  Zzz\n",
      "QueueSize: 25; ProblemNumber: 164\n",
      "file_path used:ProblemSets/Training_Queue25\n"
     ]
    },
    {
     "name": "stderr",
     "output_type": "stream",
     "text": [
      "[I 2024-11-21 18:20:21,363] Trial 88 finished with value: 24.913733609385783 and parameters: {'delta_start': 680, 'mip_focus': 1, 'cuts': 2, 'heuristics': 0.7305520387789821, 'presolve': 1, 'nanmean': False}. Best is trial 41 with value: 49.72916302638477.\n"
     ]
    },
    {
     "name": "stdout",
     "output_type": "stream",
     "text": [
      "QueueSize: 25; ProblemNumber: 90\n",
      "file_path used:ProblemSets/Training_Queue25\n"
     ]
    },
    {
     "name": "stderr",
     "output_type": "stream",
     "text": [
      "[I 2024-11-21 18:21:58,584] Trial 89 finished with value: 25.28216704288939 and parameters: {'delta_start': 1002, 'mip_focus': 0, 'cuts': 2, 'heuristics': 0.7941592846583119, 'presolve': 2, 'nanmean': True}. Best is trial 41 with value: 49.72916302638477.\n"
     ]
    },
    {
     "name": "stdout",
     "output_type": "stream",
     "text": [
      "Study saved to optuna_studies_stochastic/Queue25_Study.pkl\n",
      "Sleeping zZz  zZz  Zzz\n",
      "QueueSize: 25; ProblemNumber: 136\n",
      "file_path used:ProblemSets/Training_Queue25\n"
     ]
    },
    {
     "name": "stderr",
     "output_type": "stream",
     "text": [
      "[I 2024-11-21 18:24:06,995] Trial 90 finished with value: 13.437897414158542 and parameters: {'delta_start': 1354, 'mip_focus': 0, 'cuts': 2, 'heuristics': 0.7095069989108914, 'presolve': 0, 'nanmean': False}. Best is trial 41 with value: 49.72916302638477.\n"
     ]
    },
    {
     "name": "stdout",
     "output_type": "stream",
     "text": [
      "QueueSize: 25; ProblemNumber: 186\n",
      "file_path used:ProblemSets/Training_Queue25\n"
     ]
    },
    {
     "name": "stderr",
     "output_type": "stream",
     "text": [
      "[I 2024-11-21 18:25:56,601] Trial 91 finished with value: 26.648538409245408 and parameters: {'delta_start': 679, 'mip_focus': 3, 'cuts': 2, 'heuristics': 0.8408596645233029, 'presolve': 1, 'nanmean': False}. Best is trial 41 with value: 49.72916302638477.\n"
     ]
    },
    {
     "name": "stdout",
     "output_type": "stream",
     "text": [
      "Study saved to optuna_studies_stochastic/Queue25_Study.pkl\n",
      "Sleeping zZz  zZz  Zzz\n",
      "QueueSize: 75; ProblemNumber: 60\n",
      "file_path used:ProblemSets/Training_Queue75\n"
     ]
    },
    {
     "name": "stderr",
     "output_type": "stream",
     "text": [
      "[I 2024-11-21 18:30:13,154] Trial 44 finished with value: 6.952574363875284 and parameters: {'delta_start': 2734, 'mip_focus': 1, 'cuts': 2, 'heuristics': 0.9681019513935527, 'presolve': 0, 'nanmean': True}. Best is trial 39 with value: 19.897337741430313.\n"
     ]
    },
    {
     "name": "stdout",
     "output_type": "stream",
     "text": [
      "QueueSize: 75; ProblemNumber: 50\n",
      "file_path used:ProblemSets/Training_Queue75\n"
     ]
    },
    {
     "name": "stderr",
     "output_type": "stream",
     "text": [
      "[I 2024-11-21 18:34:34,507] Trial 45 finished with value: 10.549128030625274 and parameters: {'delta_start': 2560, 'mip_focus': 0, 'cuts': 3, 'heuristics': 0.9422024111790961, 'presolve': 0, 'nanmean': True}. Best is trial 39 with value: 19.897337741430313.\n"
     ]
    },
    {
     "name": "stdout",
     "output_type": "stream",
     "text": [
      "Study saved to optuna_studies_stochastic/Queue75_Study.pkl\n",
      "Sleeping zZz  zZz  Zzz\n",
      "QueueSize: 25; ProblemNumber: 28\n",
      "file_path used:ProblemSets/Training_Queue25\n"
     ]
    },
    {
     "name": "stderr",
     "output_type": "stream",
     "text": [
      "[I 2024-11-21 18:36:32,992] Trial 92 finished with value: 25.517241379310345 and parameters: {'delta_start': 674, 'mip_focus': 0, 'cuts': 3, 'heuristics': 0.9239655499351308, 'presolve': 1, 'nanmean': False}. Best is trial 41 with value: 49.72916302638477.\n"
     ]
    },
    {
     "name": "stdout",
     "output_type": "stream",
     "text": [
      "QueueSize: 25; ProblemNumber: 220\n",
      "file_path used:ProblemSets/Training_Queue25\n"
     ]
    },
    {
     "name": "stderr",
     "output_type": "stream",
     "text": [
      "[I 2024-11-21 18:38:10,175] Trial 93 finished with value: 14.23854725546843 and parameters: {'delta_start': 1401, 'mip_focus': 1, 'cuts': 2, 'heuristics': 0.9664408120613877, 'presolve': 2, 'nanmean': False}. Best is trial 41 with value: 49.72916302638477.\n"
     ]
    },
    {
     "name": "stdout",
     "output_type": "stream",
     "text": [
      "Study saved to optuna_studies_stochastic/Queue25_Study.pkl\n",
      "Sleeping zZz  zZz  Zzz\n",
      "QueueSize: 25; ProblemNumber: 41\n",
      "file_path used:ProblemSets/Training_Queue25\n"
     ]
    },
    {
     "name": "stderr",
     "output_type": "stream",
     "text": [
      "[I 2024-11-21 18:40:08,035] Trial 94 finished with value: 14.485981308411214 and parameters: {'delta_start': 660, 'mip_focus': 2, 'cuts': 2, 'heuristics': 0.904187792309327, 'presolve': 2, 'nanmean': True}. Best is trial 41 with value: 49.72916302638477.\n"
     ]
    },
    {
     "name": "stdout",
     "output_type": "stream",
     "text": [
      "QueueSize: 25; ProblemNumber: 228\n",
      "file_path used:ProblemSets/Training_Queue25\n"
     ]
    },
    {
     "name": "stderr",
     "output_type": "stream",
     "text": [
      "[I 2024-11-21 18:41:26,736] Trial 95 finished with value: 9.845820935893968 and parameters: {'delta_start': 756, 'mip_focus': 3, 'cuts': 2, 'heuristics': 0.5816314383804349, 'presolve': 0, 'nanmean': True}. Best is trial 41 with value: 49.72916302638477.\n"
     ]
    },
    {
     "name": "stdout",
     "output_type": "stream",
     "text": [
      "Study saved to optuna_studies_stochastic/Queue25_Study.pkl\n",
      "Sleeping zZz  zZz  Zzz\n",
      "QueueSize: 75; ProblemNumber: 64\n",
      "file_path used:ProblemSets/Training_Queue75\n"
     ]
    },
    {
     "name": "stderr",
     "output_type": "stream",
     "text": [
      "[I 2024-11-21 18:46:25,251] Trial 46 finished with value: 8.670352051207448 and parameters: {'delta_start': 2754, 'mip_focus': 1, 'cuts': 2, 'heuristics': 0.6906786488224812, 'presolve': 1, 'nanmean': True}. Best is trial 39 with value: 19.897337741430313.\n"
     ]
    },
    {
     "name": "stdout",
     "output_type": "stream",
     "text": [
      "QueueSize: 75; ProblemNumber: 27\n",
      "file_path used:ProblemSets/Training_Queue75\n"
     ]
    },
    {
     "name": "stderr",
     "output_type": "stream",
     "text": [
      "[I 2024-11-21 18:50:56,779] Trial 47 finished with value: 16.511606900912295 and parameters: {'delta_start': 2985, 'mip_focus': 3, 'cuts': 3, 'heuristics': 0.6669251537961459, 'presolve': 2, 'nanmean': False}. Best is trial 39 with value: 19.897337741430313.\n"
     ]
    },
    {
     "name": "stdout",
     "output_type": "stream",
     "text": [
      "Study saved to optuna_studies_stochastic/Queue75_Study.pkl\n",
      "Sleeping zZz  zZz  Zzz\n",
      "QueueSize: 25; ProblemNumber: 145\n",
      "file_path used:ProblemSets/Training_Queue25\n"
     ]
    },
    {
     "name": "stderr",
     "output_type": "stream",
     "text": [
      "[I 2024-11-21 18:52:16,902] Trial 96 finished with value: 23.847517730496453 and parameters: {'delta_start': 2853, 'mip_focus': 0, 'cuts': 2, 'heuristics': 0.8534427893066272, 'presolve': 1, 'nanmean': False}. Best is trial 41 with value: 49.72916302638477.\n"
     ]
    },
    {
     "name": "stdout",
     "output_type": "stream",
     "text": [
      "QueueSize: 25; ProblemNumber: 201\n",
      "file_path used:ProblemSets/Training_Queue25\n"
     ]
    },
    {
     "name": "stderr",
     "output_type": "stream",
     "text": [
      "[I 2024-11-21 18:53:52,799] Trial 97 finished with value: 21.985178531327197 and parameters: {'delta_start': 2983, 'mip_focus': 1, 'cuts': 3, 'heuristics': 0.6846582993450325, 'presolve': 0, 'nanmean': True}. Best is trial 41 with value: 49.72916302638477.\n"
     ]
    },
    {
     "name": "stdout",
     "output_type": "stream",
     "text": [
      "Study saved to optuna_studies_stochastic/Queue25_Study.pkl\n",
      "Sleeping zZz  zZz  Zzz\n",
      "QueueSize: 25; ProblemNumber: 212\n",
      "file_path used:ProblemSets/Training_Queue25\n"
     ]
    },
    {
     "name": "stderr",
     "output_type": "stream",
     "text": [
      "[I 2024-11-21 18:55:32,897] Trial 98 finished with value: 35.34831460674157 and parameters: {'delta_start': 1115, 'mip_focus': 2, 'cuts': 3, 'heuristics': 0.9098048685063586, 'presolve': 1, 'nanmean': False}. Best is trial 41 with value: 49.72916302638477.\n"
     ]
    },
    {
     "name": "stdout",
     "output_type": "stream",
     "text": [
      "QueueSize: 25; ProblemNumber: 220\n",
      "file_path used:ProblemSets/Training_Queue25\n"
     ]
    },
    {
     "name": "stderr",
     "output_type": "stream",
     "text": [
      "[I 2024-11-21 18:57:09,999] Trial 99 finished with value: 13.743293437886916 and parameters: {'delta_start': 807, 'mip_focus': 2, 'cuts': 3, 'heuristics': 0.8662583472067695, 'presolve': 1, 'nanmean': False}. Best is trial 41 with value: 49.72916302638477.\n"
     ]
    },
    {
     "name": "stdout",
     "output_type": "stream",
     "text": [
      "Study saved to optuna_studies_stochastic/Queue25_Study.pkl\n",
      "Sleeping zZz  zZz  Zzz\n",
      "QueueSize: 75; ProblemNumber: 29\n",
      "file_path used:ProblemSets/Training_Queue75\n"
     ]
    },
    {
     "name": "stderr",
     "output_type": "stream",
     "text": [
      "[I 2024-11-21 19:01:53,491] Trial 48 finished with value: 6.380346412159773 and parameters: {'delta_start': 2992, 'mip_focus': 3, 'cuts': 3, 'heuristics': 0.6960472794277396, 'presolve': 2, 'nanmean': False}. Best is trial 39 with value: 19.897337741430313.\n"
     ]
    },
    {
     "name": "stdout",
     "output_type": "stream",
     "text": [
      "QueueSize: 75; ProblemNumber: 13\n",
      "file_path used:ProblemSets/Training_Queue75\n"
     ]
    },
    {
     "name": "stderr",
     "output_type": "stream",
     "text": [
      "[I 2024-11-21 19:06:42,781] Trial 49 finished with value: 12.086992890004183 and parameters: {'delta_start': 2785, 'mip_focus': 3, 'cuts': 3, 'heuristics': 0.77502288483777, 'presolve': 0, 'nanmean': True}. Best is trial 39 with value: 19.897337741430313.\n"
     ]
    },
    {
     "name": "stdout",
     "output_type": "stream",
     "text": [
      "Study saved to optuna_studies_stochastic/Queue75_Study.pkl\n",
      "Sleeping zZz  zZz  Zzz\n",
      "QueueSize: 25; ProblemNumber: 46\n",
      "file_path used:ProblemSets/Training_Queue25\n"
     ]
    },
    {
     "name": "stderr",
     "output_type": "stream",
     "text": [
      "[I 2024-11-21 19:08:35,130] Trial 100 finished with value: 8.01591813530415 and parameters: {'delta_start': 1212, 'mip_focus': 2, 'cuts': 3, 'heuristics': 0.9073009183007212, 'presolve': 1, 'nanmean': False}. Best is trial 41 with value: 49.72916302638477.\n"
     ]
    },
    {
     "name": "stdout",
     "output_type": "stream",
     "text": [
      "QueueSize: 25; ProblemNumber: 35\n",
      "file_path used:ProblemSets/Training_Queue25\n"
     ]
    },
    {
     "name": "stderr",
     "output_type": "stream",
     "text": [
      "[I 2024-11-21 19:10:16,046] Trial 101 finished with value: 14.876632801161103 and parameters: {'delta_start': 830, 'mip_focus': 0, 'cuts': 2, 'heuristics': 0.9966150271019633, 'presolve': 2, 'nanmean': False}. Best is trial 41 with value: 49.72916302638477.\n"
     ]
    },
    {
     "name": "stdout",
     "output_type": "stream",
     "text": [
      "Study saved to optuna_studies_stochastic/Queue25_Study.pkl\n",
      "Sleeping zZz  zZz  Zzz\n",
      "QueueSize: 25; ProblemNumber: 253\n",
      "file_path used:ProblemSets/Training_Queue25\n"
     ]
    },
    {
     "name": "stderr",
     "output_type": "stream",
     "text": [
      "[I 2024-11-21 19:11:53,047] Trial 102 finished with value: 46.51406604927485 and parameters: {'delta_start': 1774, 'mip_focus': 3, 'cuts': 3, 'heuristics': 0.8678944201458589, 'presolve': 1, 'nanmean': False}. Best is trial 41 with value: 49.72916302638477.\n"
     ]
    },
    {
     "name": "stdout",
     "output_type": "stream",
     "text": [
      "QueueSize: 25; ProblemNumber: 82\n",
      "file_path used:ProblemSets/Training_Queue25\n"
     ]
    },
    {
     "name": "stderr",
     "output_type": "stream",
     "text": [
      "[I 2024-11-21 19:13:10,859] Trial 103 finished with value: 35.66824237215299 and parameters: {'delta_start': 1482, 'mip_focus': 3, 'cuts': 3, 'heuristics': 0.794136533126448, 'presolve': 1, 'nanmean': False}. Best is trial 41 with value: 49.72916302638477.\n"
     ]
    },
    {
     "name": "stdout",
     "output_type": "stream",
     "text": [
      "Study saved to optuna_studies_stochastic/Queue25_Study.pkl\n",
      "Sleeping zZz  zZz  Zzz\n",
      "QueueSize: 75; ProblemNumber: 69\n",
      "file_path used:ProblemSets/Training_Queue75\n"
     ]
    },
    {
     "name": "stderr",
     "output_type": "stream",
     "text": [
      "[I 2024-11-21 19:17:37,764] Trial 50 finished with value: 0.5009667779926172 and parameters: {'delta_start': 2989, 'mip_focus': 3, 'cuts': 3, 'heuristics': 0.5775821156721356, 'presolve': 2, 'nanmean': False}. Best is trial 39 with value: 19.897337741430313.\n"
     ]
    },
    {
     "name": "stdout",
     "output_type": "stream",
     "text": [
      "QueueSize: 75; ProblemNumber: 47\n",
      "file_path used:ProblemSets/Training_Queue75\n"
     ]
    },
    {
     "name": "stderr",
     "output_type": "stream",
     "text": [
      "[I 2024-11-21 19:22:18,823] Trial 51 finished with value: 7.7589681580008065 and parameters: {'delta_start': 2578, 'mip_focus': 2, 'cuts': 3, 'heuristics': 0.9939122025950382, 'presolve': 0, 'nanmean': False}. Best is trial 39 with value: 19.897337741430313.\n"
     ]
    },
    {
     "name": "stdout",
     "output_type": "stream",
     "text": [
      "Study saved to optuna_studies_stochastic/Queue75_Study.pkl\n",
      "Sleeping zZz  zZz  Zzz\n",
      "QueueSize: 25; ProblemNumber: 10\n",
      "file_path used:ProblemSets/Training_Queue25\n"
     ]
    },
    {
     "name": "stderr",
     "output_type": "stream",
     "text": [
      "[I 2024-11-21 19:23:37,802] Trial 104 finished with value: 28.54326396495071 and parameters: {'delta_start': 1365, 'mip_focus': 3, 'cuts': 3, 'heuristics': 0.7984929058216786, 'presolve': 1, 'nanmean': False}. Best is trial 41 with value: 49.72916302638477.\n"
     ]
    },
    {
     "name": "stdout",
     "output_type": "stream",
     "text": [
      "QueueSize: 25; ProblemNumber: 286\n",
      "file_path used:ProblemSets/Training_Queue25\n"
     ]
    },
    {
     "name": "stderr",
     "output_type": "stream",
     "text": [
      "[I 2024-11-21 19:24:54,796] Trial 105 finished with value: 26.38888888888889 and parameters: {'delta_start': 804, 'mip_focus': 0, 'cuts': 3, 'heuristics': 0.6955883020270472, 'presolve': 0, 'nanmean': True}. Best is trial 41 with value: 49.72916302638477.\n"
     ]
    },
    {
     "name": "stdout",
     "output_type": "stream",
     "text": [
      "Study saved to optuna_studies_stochastic/Queue25_Study.pkl\n",
      "Sleeping zZz  zZz  Zzz\n",
      "QueueSize: 25; ProblemNumber: 242\n",
      "file_path used:ProblemSets/Training_Queue25\n"
     ]
    },
    {
     "name": "stderr",
     "output_type": "stream",
     "text": [
      "[I 2024-11-21 19:26:21,421] Trial 106 finished with value: 25.024703557312257 and parameters: {'delta_start': 1934, 'mip_focus': 3, 'cuts': 3, 'heuristics': 0.8646413106919252, 'presolve': 0, 'nanmean': False}. Best is trial 41 with value: 49.72916302638477.\n"
     ]
    },
    {
     "name": "stdout",
     "output_type": "stream",
     "text": [
      "QueueSize: 25; ProblemNumber: 251\n",
      "file_path used:ProblemSets/Training_Queue25\n"
     ]
    },
    {
     "name": "stderr",
     "output_type": "stream",
     "text": [
      "[I 2024-11-21 19:28:21,643] Trial 107 finished with value: 27.35 and parameters: {'delta_start': 2032, 'mip_focus': 2, 'cuts': 3, 'heuristics': 0.7987894472754127, 'presolve': 1, 'nanmean': False}. Best is trial 41 with value: 49.72916302638477.\n"
     ]
    },
    {
     "name": "stdout",
     "output_type": "stream",
     "text": [
      "Study saved to optuna_studies_stochastic/Queue25_Study.pkl\n",
      "Sleeping zZz  zZz  Zzz\n",
      "QueueSize: 75; ProblemNumber: 5\n",
      "file_path used:ProblemSets/Training_Queue75\n"
     ]
    },
    {
     "name": "stderr",
     "output_type": "stream",
     "text": [
      "[I 2024-11-21 19:33:29,807] Trial 52 finished with value: 2.987183368654758 and parameters: {'delta_start': 2924, 'mip_focus': 0, 'cuts': 2, 'heuristics': 0.9812212155858162, 'presolve': 2, 'nanmean': False}. Best is trial 39 with value: 19.897337741430313.\n"
     ]
    },
    {
     "name": "stdout",
     "output_type": "stream",
     "text": [
      "QueueSize: 75; ProblemNumber: 33\n",
      "file_path used:ProblemSets/Training_Queue75\n"
     ]
    },
    {
     "name": "stderr",
     "output_type": "stream",
     "text": [
      "[I 2024-11-21 19:38:27,945] Trial 53 finished with value: 16.763835321553504 and parameters: {'delta_start': 2615, 'mip_focus': 1, 'cuts': 2, 'heuristics': 0.9309636032098014, 'presolve': 0, 'nanmean': False}. Best is trial 39 with value: 19.897337741430313.\n"
     ]
    },
    {
     "name": "stdout",
     "output_type": "stream",
     "text": [
      "Study saved to optuna_studies_stochastic/Queue75_Study.pkl\n",
      "Sleeping zZz  zZz  Zzz\n",
      "QueueSize: 25; ProblemNumber: 65\n",
      "file_path used:ProblemSets/Training_Queue25\n"
     ]
    },
    {
     "name": "stderr",
     "output_type": "stream",
     "text": [
      "[I 2024-11-21 19:39:44,517] Trial 108 finished with value: 19.17452830188679 and parameters: {'delta_start': 1221, 'mip_focus': 3, 'cuts': 3, 'heuristics': 0.9213360344316095, 'presolve': 1, 'nanmean': False}. Best is trial 41 with value: 49.72916302638477.\n"
     ]
    },
    {
     "name": "stdout",
     "output_type": "stream",
     "text": [
      "QueueSize: 25; ProblemNumber: 146\n",
      "file_path used:ProblemSets/Training_Queue25\n"
     ]
    },
    {
     "name": "stderr",
     "output_type": "stream",
     "text": [
      "[I 2024-11-21 19:41:02,375] Trial 109 finished with value: 36.71303937750531 and parameters: {'delta_start': 1265, 'mip_focus': 0, 'cuts': 3, 'heuristics': 0.7670656021979122, 'presolve': 1, 'nanmean': False}. Best is trial 41 with value: 49.72916302638477.\n"
     ]
    },
    {
     "name": "stdout",
     "output_type": "stream",
     "text": [
      "Study saved to optuna_studies_stochastic/Queue25_Study.pkl\n",
      "Sleeping zZz  zZz  Zzz\n",
      "QueueSize: 25; ProblemNumber: 224\n",
      "file_path used:ProblemSets/Training_Queue25\n"
     ]
    },
    {
     "name": "stderr",
     "output_type": "stream",
     "text": [
      "[I 2024-11-21 19:43:01,959] Trial 110 finished with value: 28.4655702150732 and parameters: {'delta_start': 2084, 'mip_focus': 3, 'cuts': 3, 'heuristics': 0.8194224614072435, 'presolve': 2, 'nanmean': False}. Best is trial 41 with value: 49.72916302638477.\n"
     ]
    },
    {
     "name": "stdout",
     "output_type": "stream",
     "text": [
      "QueueSize: 25; ProblemNumber: 239\n",
      "file_path used:ProblemSets/Training_Queue25\n"
     ]
    },
    {
     "name": "stderr",
     "output_type": "stream",
     "text": [
      "[I 2024-11-21 19:44:38,442] Trial 111 finished with value: 22.86723876829884 and parameters: {'delta_start': 2032, 'mip_focus': 3, 'cuts': 3, 'heuristics': 0.9497271321074989, 'presolve': 1, 'nanmean': False}. Best is trial 41 with value: 49.72916302638477.\n"
     ]
    },
    {
     "name": "stdout",
     "output_type": "stream",
     "text": [
      "Study saved to optuna_studies_stochastic/Queue25_Study.pkl\n",
      "Sleeping zZz  zZz  Zzz\n",
      "QueueSize: 75; ProblemNumber: 49\n",
      "file_path used:ProblemSets/Training_Queue75\n"
     ]
    },
    {
     "name": "stderr",
     "output_type": "stream",
     "text": [
      "[I 2024-11-21 19:50:05,450] Trial 54 finished with value: 5.310274669379451 and parameters: {'delta_start': 2659, 'mip_focus': 0, 'cuts': 2, 'heuristics': 0.9043370789237426, 'presolve': 0, 'nanmean': False}. Best is trial 39 with value: 19.897337741430313.\n"
     ]
    },
    {
     "name": "stdout",
     "output_type": "stream",
     "text": [
      "QueueSize: 75; ProblemNumber: 11\n",
      "file_path used:ProblemSets/Training_Queue75\n"
     ]
    },
    {
     "name": "stderr",
     "output_type": "stream",
     "text": [
      "[I 2024-11-21 19:54:12,097] Trial 55 finished with value: 7.149394894742195 and parameters: {'delta_start': 2550, 'mip_focus': 1, 'cuts': 2, 'heuristics': 0.9349081475215189, 'presolve': 1, 'nanmean': False}. Best is trial 39 with value: 19.897337741430313.\n"
     ]
    },
    {
     "name": "stdout",
     "output_type": "stream",
     "text": [
      "Study saved to optuna_studies_stochastic/Queue75_Study.pkl\n",
      "Sleeping zZz  zZz  Zzz\n",
      "QueueSize: 25; ProblemNumber: 282\n",
      "file_path used:ProblemSets/Training_Queue25\n"
     ]
    },
    {
     "name": "stderr",
     "output_type": "stream",
     "text": [
      "[I 2024-11-21 19:56:10,262] Trial 112 finished with value: 19.879669089997492 and parameters: {'delta_start': 1229, 'mip_focus': 0, 'cuts': 3, 'heuristics': 0.6369257445749873, 'presolve': 1, 'nanmean': False}. Best is trial 41 with value: 49.72916302638477.\n"
     ]
    },
    {
     "name": "stdout",
     "output_type": "stream",
     "text": [
      "QueueSize: 25; ProblemNumber: 63\n",
      "file_path used:ProblemSets/Training_Queue25\n"
     ]
    },
    {
     "name": "stderr",
     "output_type": "stream",
     "text": [
      "[I 2024-11-21 19:57:32,857] Trial 113 finished with value: 14.593378334940535 and parameters: {'delta_start': 1963, 'mip_focus': 2, 'cuts': 3, 'heuristics': 0.7165390284896929, 'presolve': 1, 'nanmean': True}. Best is trial 41 with value: 49.72916302638477.\n"
     ]
    },
    {
     "name": "stdout",
     "output_type": "stream",
     "text": [
      "Study saved to optuna_studies_stochastic/Queue25_Study.pkl\n",
      "Sleeping zZz  zZz  Zzz\n",
      "QueueSize: 25; ProblemNumber: 217\n",
      "file_path used:ProblemSets/Training_Queue25\n"
     ]
    },
    {
     "name": "stderr",
     "output_type": "stream",
     "text": [
      "[I 2024-11-21 19:59:25,430] Trial 114 finished with value: 20.46800112771356 and parameters: {'delta_start': 1563, 'mip_focus': 0, 'cuts': 3, 'heuristics': 0.7944971339288726, 'presolve': 1, 'nanmean': False}. Best is trial 41 with value: 49.72916302638477.\n"
     ]
    },
    {
     "name": "stdout",
     "output_type": "stream",
     "text": [
      "QueueSize: 25; ProblemNumber: 283\n",
      "file_path used:ProblemSets/Training_Queue25\n"
     ]
    },
    {
     "name": "stderr",
     "output_type": "stream",
     "text": [
      "[I 2024-11-21 20:01:13,167] Trial 115 finished with value: 18.681029952706254 and parameters: {'delta_start': 1219, 'mip_focus': 1, 'cuts': 3, 'heuristics': 0.9980409903129467, 'presolve': 2, 'nanmean': False}. Best is trial 41 with value: 49.72916302638477.\n"
     ]
    },
    {
     "name": "stdout",
     "output_type": "stream",
     "text": [
      "Study saved to optuna_studies_stochastic/Queue25_Study.pkl\n",
      "Sleeping zZz  zZz  Zzz\n",
      "QueueSize: 75; ProblemNumber: 49\n",
      "file_path used:ProblemSets/Training_Queue75\n"
     ]
    },
    {
     "name": "stderr",
     "output_type": "stream",
     "text": [
      "[I 2024-11-21 20:06:40,863] Trial 56 finished with value: 5.747711088504578 and parameters: {'delta_start': 2724, 'mip_focus': 2, 'cuts': 2, 'heuristics': 0.9085260494799093, 'presolve': 0, 'nanmean': False}. Best is trial 39 with value: 19.897337741430313.\n"
     ]
    },
    {
     "name": "stdout",
     "output_type": "stream",
     "text": [
      "QueueSize: 75; ProblemNumber: 77\n",
      "file_path used:ProblemSets/Training_Queue75\n"
     ]
    },
    {
     "name": "stderr",
     "output_type": "stream",
     "text": [
      "[I 2024-11-21 20:12:25,832] Trial 57 finished with value: 0.40816326530612246 and parameters: {'delta_start': 2587, 'mip_focus': 1, 'cuts': 2, 'heuristics': 0.9497321272273817, 'presolve': 0, 'nanmean': False}. Best is trial 39 with value: 19.897337741430313.\n"
     ]
    },
    {
     "name": "stdout",
     "output_type": "stream",
     "text": [
      "Study saved to optuna_studies_stochastic/Queue75_Study.pkl\n",
      "Sleeping zZz  zZz  Zzz\n",
      "QueueSize: 25; ProblemNumber: 98\n",
      "file_path used:ProblemSets/Training_Queue25\n"
     ]
    },
    {
     "name": "stderr",
     "output_type": "stream",
     "text": [
      "[I 2024-11-21 20:14:34,908] Trial 116 finished with value: 30.05598320503849 and parameters: {'delta_start': 1661, 'mip_focus': 3, 'cuts': 3, 'heuristics': 0.7660985200927772, 'presolve': 1, 'nanmean': False}. Best is trial 41 with value: 49.72916302638477.\n"
     ]
    },
    {
     "name": "stdout",
     "output_type": "stream",
     "text": [
      "QueueSize: 25; ProblemNumber: 105\n",
      "file_path used:ProblemSets/Training_Queue25\n"
     ]
    },
    {
     "name": "stderr",
     "output_type": "stream",
     "text": [
      "[I 2024-11-21 20:16:54,575] Trial 117 finished with value: 35.237622122868025 and parameters: {'delta_start': 1425, 'mip_focus': 1, 'cuts': 3, 'heuristics': 0.7458168204065407, 'presolve': 0, 'nanmean': True}. Best is trial 41 with value: 49.72916302638477.\n"
     ]
    },
    {
     "name": "stdout",
     "output_type": "stream",
     "text": [
      "Study saved to optuna_studies_stochastic/Queue25_Study.pkl\n",
      "Sleeping zZz  zZz  Zzz\n",
      "QueueSize: 25; ProblemNumber: 99\n",
      "file_path used:ProblemSets/Training_Queue25\n"
     ]
    },
    {
     "name": "stderr",
     "output_type": "stream",
     "text": [
      "[I 2024-11-21 20:18:39,208] Trial 118 finished with value: 31.532066508313537 and parameters: {'delta_start': 1585, 'mip_focus': 1, 'cuts': 3, 'heuristics': 0.7885090354524531, 'presolve': 0, 'nanmean': True}. Best is trial 41 with value: 49.72916302638477.\n"
     ]
    },
    {
     "name": "stdout",
     "output_type": "stream",
     "text": [
      "QueueSize: 25; ProblemNumber: 6\n",
      "file_path used:ProblemSets/Training_Queue25\n"
     ]
    },
    {
     "name": "stderr",
     "output_type": "stream",
     "text": [
      "[I 2024-11-21 20:20:17,480] Trial 119 finished with value: 30.460544034473468 and parameters: {'delta_start': 1522, 'mip_focus': 1, 'cuts': 3, 'heuristics': 0.7310987817294814, 'presolve': 0, 'nanmean': True}. Best is trial 41 with value: 49.72916302638477.\n"
     ]
    },
    {
     "name": "stdout",
     "output_type": "stream",
     "text": [
      "Study saved to optuna_studies_stochastic/Queue25_Study.pkl\n",
      "Sleeping zZz  zZz  Zzz\n",
      "QueueSize: 75; ProblemNumber: 92\n",
      "file_path used:ProblemSets/Training_Queue75\n"
     ]
    },
    {
     "name": "stderr",
     "output_type": "stream",
     "text": [
      "[I 2024-11-21 20:24:21,742] Trial 58 finished with value: 5.3141050967996835 and parameters: {'delta_start': 2719, 'mip_focus': 3, 'cuts': 2, 'heuristics': 0.5285708944142113, 'presolve': 2, 'nanmean': False}. Best is trial 39 with value: 19.897337741430313.\n"
     ]
    },
    {
     "name": "stdout",
     "output_type": "stream",
     "text": [
      "QueueSize: 75; ProblemNumber: 81\n",
      "file_path used:ProblemSets/Training_Queue75\n"
     ]
    },
    {
     "name": "stderr",
     "output_type": "stream",
     "text": [
      "[I 2024-11-21 20:28:53,073] Trial 59 finished with value: 5.906959056914691 and parameters: {'delta_start': 2937, 'mip_focus': 1, 'cuts': 2, 'heuristics': 0.5380516632061755, 'presolve': 2, 'nanmean': True}. Best is trial 39 with value: 19.897337741430313.\n"
     ]
    },
    {
     "name": "stdout",
     "output_type": "stream",
     "text": [
      "Study saved to optuna_studies_stochastic/Queue75_Study.pkl\n",
      "Sleeping zZz  zZz  Zzz\n",
      "QueueSize: 25; ProblemNumber: 197\n",
      "file_path used:ProblemSets/Training_Queue25\n"
     ]
    },
    {
     "name": "stderr",
     "output_type": "stream",
     "text": [
      "[I 2024-11-21 20:30:31,285] Trial 120 finished with value: 20.95364238410596 and parameters: {'delta_start': 1661, 'mip_focus': 1, 'cuts': 3, 'heuristics': 0.7668063652231301, 'presolve': 0, 'nanmean': True}. Best is trial 41 with value: 49.72916302638477.\n"
     ]
    },
    {
     "name": "stdout",
     "output_type": "stream",
     "text": [
      "QueueSize: 25; ProblemNumber: 133\n",
      "file_path used:ProblemSets/Training_Queue25\n"
     ]
    },
    {
     "name": "stderr",
     "output_type": "stream",
     "text": [
      "[I 2024-11-21 20:32:02,637] Trial 121 finished with value: 20.345224395857304 and parameters: {'delta_start': 1875, 'mip_focus': 1, 'cuts': 3, 'heuristics': 0.8666551859612807, 'presolve': 0, 'nanmean': True}. Best is trial 41 with value: 49.72916302638477.\n"
     ]
    },
    {
     "name": "stdout",
     "output_type": "stream",
     "text": [
      "Study saved to optuna_studies_stochastic/Queue25_Study.pkl\n",
      "Sleeping zZz  zZz  Zzz\n",
      "QueueSize: 25; ProblemNumber: 259\n",
      "file_path used:ProblemSets/Training_Queue25\n"
     ]
    },
    {
     "name": "stderr",
     "output_type": "stream",
     "text": [
      "[I 2024-11-21 20:34:18,995] Trial 122 finished with value: 15.32862814292016 and parameters: {'delta_start': 1287, 'mip_focus': 1, 'cuts': 3, 'heuristics': 0.7996772468461539, 'presolve': 0, 'nanmean': True}. Best is trial 41 with value: 49.72916302638477.\n"
     ]
    },
    {
     "name": "stdout",
     "output_type": "stream",
     "text": [
      "QueueSize: 25; ProblemNumber: 23\n",
      "file_path used:ProblemSets/Training_Queue25\n"
     ]
    },
    {
     "name": "stderr",
     "output_type": "stream",
     "text": [
      "[I 2024-11-21 20:35:34,333] Trial 123 finished with value: 25.28793189784677 and parameters: {'delta_start': 1010, 'mip_focus': 0, 'cuts': 3, 'heuristics': 0.8365083540253188, 'presolve': 0, 'nanmean': False}. Best is trial 41 with value: 49.72916302638477.\n"
     ]
    },
    {
     "name": "stdout",
     "output_type": "stream",
     "text": [
      "Study saved to optuna_studies_stochastic/Queue25_Study.pkl\n",
      "Sleeping zZz  zZz  Zzz\n",
      "QueueSize: 75; ProblemNumber: 53\n",
      "file_path used:ProblemSets/Training_Queue75\n"
     ]
    },
    {
     "name": "stderr",
     "output_type": "stream",
     "text": [
      "[I 2024-11-21 20:39:22,222] Trial 60 finished with value: 11.93714623637746 and parameters: {'delta_start': 2547, 'mip_focus': 2, 'cuts': 3, 'heuristics': 0.9084001299530566, 'presolve': 0, 'nanmean': True}. Best is trial 39 with value: 19.897337741430313.\n"
     ]
    },
    {
     "name": "stdout",
     "output_type": "stream",
     "text": [
      "QueueSize: 75; ProblemNumber: 37\n",
      "file_path used:ProblemSets/Training_Queue75\n"
     ]
    },
    {
     "name": "stderr",
     "output_type": "stream",
     "text": [
      "[I 2024-11-21 20:43:29,039] Trial 61 finished with value: 10.612956328072045 and parameters: {'delta_start': 2884, 'mip_focus': 1, 'cuts': 2, 'heuristics': 0.5314781055772647, 'presolve': 0, 'nanmean': True}. Best is trial 39 with value: 19.897337741430313.\n"
     ]
    },
    {
     "name": "stdout",
     "output_type": "stream",
     "text": [
      "Study saved to optuna_studies_stochastic/Queue75_Study.pkl\n",
      "Sleeping zZz  zZz  Zzz\n",
      "QueueSize: 25; ProblemNumber: 202\n",
      "file_path used:ProblemSets/Training_Queue25\n"
     ]
    },
    {
     "name": "stderr",
     "output_type": "stream",
     "text": [
      "[I 2024-11-21 20:45:06,931] Trial 124 finished with value: 34.04974643805844 and parameters: {'delta_start': 1376, 'mip_focus': 1, 'cuts': 3, 'heuristics': 0.7868112422580766, 'presolve': 0, 'nanmean': False}. Best is trial 41 with value: 49.72916302638477.\n"
     ]
    },
    {
     "name": "stdout",
     "output_type": "stream",
     "text": [
      "QueueSize: 25; ProblemNumber: 83\n",
      "file_path used:ProblemSets/Training_Queue25\n"
     ]
    },
    {
     "name": "stderr",
     "output_type": "stream",
     "text": [
      "[I 2024-11-21 20:46:23,582] Trial 125 finished with value: 36.299814164773906 and parameters: {'delta_start': 1018, 'mip_focus': 0, 'cuts': 3, 'heuristics': 0.7975204456537882, 'presolve': 1, 'nanmean': False}. Best is trial 41 with value: 49.72916302638477.\n"
     ]
    },
    {
     "name": "stdout",
     "output_type": "stream",
     "text": [
      "Study saved to optuna_studies_stochastic/Queue25_Study.pkl\n",
      "Sleeping zZz  zZz  Zzz\n",
      "QueueSize: 25; ProblemNumber: 145\n",
      "file_path used:ProblemSets/Training_Queue25\n"
     ]
    },
    {
     "name": "stderr",
     "output_type": "stream",
     "text": [
      "[I 2024-11-21 20:47:39,712] Trial 126 finished with value: 23.249113475177303 and parameters: {'delta_start': 1069, 'mip_focus': 0, 'cuts': 3, 'heuristics': 0.7786074280473524, 'presolve': 1, 'nanmean': False}. Best is trial 41 with value: 49.72916302638477.\n"
     ]
    },
    {
     "name": "stdout",
     "output_type": "stream",
     "text": [
      "QueueSize: 25; ProblemNumber: 85\n",
      "file_path used:ProblemSets/Training_Queue25\n"
     ]
    },
    {
     "name": "stderr",
     "output_type": "stream",
     "text": [
      "[I 2024-11-21 20:48:59,555] Trial 127 finished with value: 30.52220050265289 and parameters: {'delta_start': 1217, 'mip_focus': 1, 'cuts': 3, 'heuristics': 0.845661765412787, 'presolve': 1, 'nanmean': False}. Best is trial 41 with value: 49.72916302638477.\n"
     ]
    },
    {
     "name": "stdout",
     "output_type": "stream",
     "text": [
      "Study saved to optuna_studies_stochastic/Queue25_Study.pkl\n",
      "Sleeping zZz  zZz  Zzz\n",
      "QueueSize: 75; ProblemNumber: 78\n",
      "file_path used:ProblemSets/Training_Queue75\n"
     ]
    },
    {
     "name": "stderr",
     "output_type": "stream",
     "text": [
      "[I 2024-11-21 20:52:53,199] Trial 62 finished with value: 11.8938526155021 and parameters: {'delta_start': 2965, 'mip_focus': 3, 'cuts': 3, 'heuristics': 0.6785905609357619, 'presolve': 2, 'nanmean': False}. Best is trial 39 with value: 19.897337741430313.\n"
     ]
    },
    {
     "name": "stdout",
     "output_type": "stream",
     "text": [
      "QueueSize: 75; ProblemNumber: 73\n",
      "file_path used:ProblemSets/Training_Queue75\n"
     ]
    },
    {
     "name": "stderr",
     "output_type": "stream",
     "text": [
      "[I 2024-11-21 20:57:06,339] Trial 63 finished with value: 3.863386592273227 and parameters: {'delta_start': 2820, 'mip_focus': 3, 'cuts': 3, 'heuristics': 0.7032784758194097, 'presolve': 2, 'nanmean': False}. Best is trial 39 with value: 19.897337741430313.\n"
     ]
    },
    {
     "name": "stdout",
     "output_type": "stream",
     "text": [
      "Study saved to optuna_studies_stochastic/Queue75_Study.pkl\n",
      "Sleeping zZz  zZz  Zzz\n",
      "QueueSize: 25; ProblemNumber: 1\n",
      "file_path used:ProblemSets/Training_Queue25\n"
     ]
    },
    {
     "name": "stderr",
     "output_type": "stream",
     "text": [
      "[I 2024-11-21 20:58:33,788] Trial 128 finished with value: 43.36967294350843 and parameters: {'delta_start': 749, 'mip_focus': 0, 'cuts': 3, 'heuristics': 0.7797195015745, 'presolve': 1, 'nanmean': False}. Best is trial 41 with value: 49.72916302638477.\n"
     ]
    },
    {
     "name": "stdout",
     "output_type": "stream",
     "text": [
      "QueueSize: 25; ProblemNumber: 51\n",
      "file_path used:ProblemSets/Training_Queue25\n"
     ]
    },
    {
     "name": "stderr",
     "output_type": "stream",
     "text": [
      "[I 2024-11-21 21:00:41,534] Trial 129 finished with value: 8.228571428571428 and parameters: {'delta_start': 825, 'mip_focus': 0, 'cuts': 3, 'heuristics': 0.7904819910247425, 'presolve': 1, 'nanmean': False}. Best is trial 41 with value: 49.72916302638477.\n"
     ]
    },
    {
     "name": "stdout",
     "output_type": "stream",
     "text": [
      "Study saved to optuna_studies_stochastic/Queue25_Study.pkl\n",
      "Sleeping zZz  zZz  Zzz\n",
      "QueueSize: 25; ProblemNumber: 173\n",
      "file_path used:ProblemSets/Training_Queue25\n"
     ]
    },
    {
     "name": "stderr",
     "output_type": "stream",
     "text": [
      "[I 2024-11-21 21:02:20,090] Trial 130 finished with value: 25.12916862376703 and parameters: {'delta_start': 1419, 'mip_focus': 0, 'cuts': 3, 'heuristics': 0.7449274998815854, 'presolve': 1, 'nanmean': False}. Best is trial 41 with value: 49.72916302638477.\n"
     ]
    },
    {
     "name": "stdout",
     "output_type": "stream",
     "text": [
      "QueueSize: 25; ProblemNumber: 205\n",
      "file_path used:ProblemSets/Training_Queue25\n"
     ]
    },
    {
     "name": "stderr",
     "output_type": "stream",
     "text": [
      "[I 2024-11-21 21:04:07,137] Trial 131 finished with value: 11.091314031180401 and parameters: {'delta_start': 1283, 'mip_focus': 3, 'cuts': 3, 'heuristics': 0.8666805804755935, 'presolve': 1, 'nanmean': True}. Best is trial 41 with value: 49.72916302638477.\n"
     ]
    },
    {
     "name": "stdout",
     "output_type": "stream",
     "text": [
      "Study saved to optuna_studies_stochastic/Queue25_Study.pkl\n",
      "Sleeping zZz  zZz  Zzz\n",
      "QueueSize: 75; ProblemNumber: 4\n",
      "file_path used:ProblemSets/Training_Queue75\n"
     ]
    },
    {
     "name": "stderr",
     "output_type": "stream",
     "text": [
      "[I 2024-11-21 21:08:58,404] Trial 64 finished with value: 6.827309236947792 and parameters: {'delta_start': 2876, 'mip_focus': 0, 'cuts': 2, 'heuristics': 0.552953342364489, 'presolve': 1, 'nanmean': True}. Best is trial 39 with value: 19.897337741430313.\n"
     ]
    },
    {
     "name": "stdout",
     "output_type": "stream",
     "text": [
      "QueueSize: 75; ProblemNumber: 62\n",
      "file_path used:ProblemSets/Training_Queue75\n"
     ]
    },
    {
     "name": "stderr",
     "output_type": "stream",
     "text": [
      "[I 2024-11-21 21:13:31,651] Trial 65 finished with value: 7.6239739120656695 and parameters: {'delta_start': 2645, 'mip_focus': 0, 'cuts': 2, 'heuristics': 0.6035183775121588, 'presolve': 2, 'nanmean': True}. Best is trial 39 with value: 19.897337741430313.\n"
     ]
    },
    {
     "name": "stdout",
     "output_type": "stream",
     "text": [
      "Study saved to optuna_studies_stochastic/Queue75_Study.pkl\n",
      "Sleeping zZz  zZz  Zzz\n",
      "QueueSize: 25; ProblemNumber: 288\n",
      "file_path used:ProblemSets/Training_Queue25\n"
     ]
    },
    {
     "name": "stderr",
     "output_type": "stream",
     "text": [
      "[I 2024-11-21 21:15:29,258] Trial 132 finished with value: 23.485554520037276 and parameters: {'delta_start': 712, 'mip_focus': 0, 'cuts': 3, 'heuristics': 0.7835881502622223, 'presolve': 2, 'nanmean': False}. Best is trial 41 with value: 49.72916302638477.\n"
     ]
    },
    {
     "name": "stdout",
     "output_type": "stream",
     "text": [
      "QueueSize: 25; ProblemNumber: 34\n",
      "file_path used:ProblemSets/Training_Queue25\n"
     ]
    },
    {
     "name": "stderr",
     "output_type": "stream",
     "text": [
      "[I 2024-11-21 21:17:06,256] Trial 133 finished with value: 14.210380238689982 and parameters: {'delta_start': 1669, 'mip_focus': 1, 'cuts': 3, 'heuristics': 0.857664328744691, 'presolve': 0, 'nanmean': False}. Best is trial 41 with value: 49.72916302638477.\n"
     ]
    },
    {
     "name": "stdout",
     "output_type": "stream",
     "text": [
      "Study saved to optuna_studies_stochastic/Queue25_Study.pkl\n",
      "Sleeping zZz  zZz  Zzz\n",
      "QueueSize: 25; ProblemNumber: 95\n",
      "file_path used:ProblemSets/Training_Queue25\n"
     ]
    },
    {
     "name": "stderr",
     "output_type": "stream",
     "text": [
      "[I 2024-11-21 21:18:54,427] Trial 134 finished with value: 7.603464870067373 and parameters: {'delta_start': 1423, 'mip_focus': 3, 'cuts': 3, 'heuristics': 0.5274036461311489, 'presolve': 2, 'nanmean': True}. Best is trial 41 with value: 49.72916302638477.\n"
     ]
    },
    {
     "name": "stdout",
     "output_type": "stream",
     "text": [
      "QueueSize: 25; ProblemNumber: 72\n",
      "file_path used:ProblemSets/Training_Queue25\n"
     ]
    },
    {
     "name": "stderr",
     "output_type": "stream",
     "text": [
      "[I 2024-11-21 21:20:42,754] Trial 135 finished with value: 18.425568425568425 and parameters: {'delta_start': 1168, 'mip_focus': 0, 'cuts': 3, 'heuristics': 0.8352036425805366, 'presolve': 1, 'nanmean': False}. Best is trial 41 with value: 49.72916302638477.\n"
     ]
    },
    {
     "name": "stdout",
     "output_type": "stream",
     "text": [
      "Study saved to optuna_studies_stochastic/Queue25_Study.pkl\n",
      "Sleeping zZz  zZz  Zzz\n",
      "QueueSize: 75; ProblemNumber: 39\n",
      "file_path used:ProblemSets/Training_Queue75\n"
     ]
    },
    {
     "name": "stderr",
     "output_type": "stream",
     "text": [
      "[I 2024-11-21 21:25:09,736] Trial 66 finished with value: 4.8178718822896105 and parameters: {'delta_start': 2996, 'mip_focus': 2, 'cuts': 2, 'heuristics': 0.5764644234559285, 'presolve': 2, 'nanmean': True}. Best is trial 39 with value: 19.897337741430313.\n"
     ]
    },
    {
     "name": "stdout",
     "output_type": "stream",
     "text": [
      "QueueSize: 75; ProblemNumber: 26\n",
      "file_path used:ProblemSets/Training_Queue75\n"
     ]
    },
    {
     "name": "stderr",
     "output_type": "stream",
     "text": [
      "[I 2024-11-21 21:29:59,066] Trial 67 finished with value: 16.71953722709461 and parameters: {'delta_start': 2668, 'mip_focus': 0, 'cuts': 3, 'heuristics': 0.9004816924268423, 'presolve': 0, 'nanmean': False}. Best is trial 39 with value: 19.897337741430313.\n"
     ]
    },
    {
     "name": "stdout",
     "output_type": "stream",
     "text": [
      "Study saved to optuna_studies_stochastic/Queue75_Study.pkl\n",
      "Sleeping zZz  zZz  Zzz\n",
      "QueueSize: 25; ProblemNumber: 250\n",
      "file_path used:ProblemSets/Training_Queue25\n"
     ]
    },
    {
     "name": "stderr",
     "output_type": "stream",
     "text": [
      "[I 2024-11-21 21:31:35,491] Trial 136 finished with value: 22.878381168697086 and parameters: {'delta_start': 1023, 'mip_focus': 0, 'cuts': 3, 'heuristics': 0.7551308326488845, 'presolve': 1, 'nanmean': True}. Best is trial 41 with value: 49.72916302638477.\n"
     ]
    },
    {
     "name": "stdout",
     "output_type": "stream",
     "text": [
      "QueueSize: 25; ProblemNumber: 162\n",
      "file_path used:ProblemSets/Training_Queue25\n"
     ]
    },
    {
     "name": "stderr",
     "output_type": "stream",
     "text": [
      "[I 2024-11-21 21:33:41,396] Trial 137 finished with value: 20.736352094794753 and parameters: {'delta_start': 656, 'mip_focus': 1, 'cuts': 3, 'heuristics': 0.750517298364325, 'presolve': 1, 'nanmean': False}. Best is trial 41 with value: 49.72916302638477.\n"
     ]
    },
    {
     "name": "stdout",
     "output_type": "stream",
     "text": [
      "Study saved to optuna_studies_stochastic/Queue25_Study.pkl\n",
      "Sleeping zZz  zZz  Zzz\n",
      "QueueSize: 25; ProblemNumber: 118\n",
      "file_path used:ProblemSets/Training_Queue25\n"
     ]
    },
    {
     "name": "stderr",
     "output_type": "stream",
     "text": [
      "[I 2024-11-21 21:35:29,739] Trial 138 finished with value: 19.166289080199366 and parameters: {'delta_start': 648, 'mip_focus': 1, 'cuts': 2, 'heuristics': 0.914192442916463, 'presolve': 2, 'nanmean': False}. Best is trial 41 with value: 49.72916302638477.\n"
     ]
    },
    {
     "name": "stdout",
     "output_type": "stream",
     "text": [
      "QueueSize: 25; ProblemNumber: 259\n",
      "file_path used:ProblemSets/Training_Queue25\n"
     ]
    },
    {
     "name": "stderr",
     "output_type": "stream",
     "text": [
      "[I 2024-11-21 21:37:48,767] Trial 139 finished with value: 12.461402734891927 and parameters: {'delta_start': 1666, 'mip_focus': 3, 'cuts': 3, 'heuristics': 0.856671249787494, 'presolve': 1, 'nanmean': False}. Best is trial 41 with value: 49.72916302638477.\n"
     ]
    },
    {
     "name": "stdout",
     "output_type": "stream",
     "text": [
      "Study saved to optuna_studies_stochastic/Queue25_Study.pkl\n",
      "Sleeping zZz  zZz  Zzz\n",
      "QueueSize: 75; ProblemNumber: 50\n",
      "file_path used:ProblemSets/Training_Queue75\n"
     ]
    },
    {
     "name": "stderr",
     "output_type": "stream",
     "text": [
      "[I 2024-11-21 21:42:10,539] Trial 68 finished with value: 12.654189706507868 and parameters: {'delta_start': 2611, 'mip_focus': 0, 'cuts': 3, 'heuristics': 0.8927403719167062, 'presolve': 0, 'nanmean': False}. Best is trial 39 with value: 19.897337741430313.\n"
     ]
    },
    {
     "name": "stdout",
     "output_type": "stream",
     "text": [
      "QueueSize: 75; ProblemNumber: 12\n",
      "file_path used:ProblemSets/Training_Queue75\n"
     ]
    },
    {
     "name": "stderr",
     "output_type": "stream",
     "text": [
      "[I 2024-11-21 21:45:44,958] Trial 69 finished with value: 9.69640644361834 and parameters: {'delta_start': 2705, 'mip_focus': 0, 'cuts': 3, 'heuristics': 0.9586308182867074, 'presolve': 0, 'nanmean': False}. Best is trial 39 with value: 19.897337741430313.\n"
     ]
    },
    {
     "name": "stdout",
     "output_type": "stream",
     "text": [
      "Study saved to optuna_studies_stochastic/Queue75_Study.pkl\n",
      "Sleeping zZz  zZz  Zzz\n",
      "QueueSize: 25; ProblemNumber: 54\n",
      "file_path used:ProblemSets/Training_Queue25\n"
     ]
    },
    {
     "name": "stderr",
     "output_type": "stream",
     "text": [
      "[I 2024-11-21 21:47:41,206] Trial 140 finished with value: 3.226681127982647 and parameters: {'delta_start': 1582, 'mip_focus': 0, 'cuts': 2, 'heuristics': 0.6707366505284447, 'presolve': 0, 'nanmean': True}. Best is trial 41 with value: 49.72916302638477.\n"
     ]
    },
    {
     "name": "stdout",
     "output_type": "stream",
     "text": [
      "QueueSize: 25; ProblemNumber: 236\n",
      "file_path used:ProblemSets/Training_Queue25\n"
     ]
    },
    {
     "name": "stderr",
     "output_type": "stream",
     "text": [
      "[I 2024-11-21 21:49:40,260] Trial 141 finished with value: 25.134870034330554 and parameters: {'delta_start': 1427, 'mip_focus': 1, 'cuts': 3, 'heuristics': 0.7428058495337451, 'presolve': 0, 'nanmean': False}. Best is trial 41 with value: 49.72916302638477.\n"
     ]
    },
    {
     "name": "stdout",
     "output_type": "stream",
     "text": [
      "Study saved to optuna_studies_stochastic/Queue25_Study.pkl\n",
      "Sleeping zZz  zZz  Zzz\n",
      "QueueSize: 25; ProblemNumber: 222\n",
      "file_path used:ProblemSets/Training_Queue25\n"
     ]
    },
    {
     "name": "stderr",
     "output_type": "stream",
     "text": [
      "[I 2024-11-21 21:51:06,846] Trial 142 finished with value: 18.654353562005277 and parameters: {'delta_start': 1293, 'mip_focus': 2, 'cuts': 3, 'heuristics': 0.7054122360920604, 'presolve': 0, 'nanmean': True}. Best is trial 41 with value: 49.72916302638477.\n"
     ]
    },
    {
     "name": "stdout",
     "output_type": "stream",
     "text": [
      "QueueSize: 25; ProblemNumber: 251\n",
      "file_path used:ProblemSets/Training_Queue25\n"
     ]
    },
    {
     "name": "stderr",
     "output_type": "stream",
     "text": [
      "[I 2024-11-21 21:53:07,348] Trial 143 finished with value: 27.35 and parameters: {'delta_start': 659, 'mip_focus': 1, 'cuts': 2, 'heuristics': 0.7026803469195699, 'presolve': 2, 'nanmean': False}. Best is trial 41 with value: 49.72916302638477.\n"
     ]
    },
    {
     "name": "stdout",
     "output_type": "stream",
     "text": [
      "Study saved to optuna_studies_stochastic/Queue25_Study.pkl\n",
      "Sleeping zZz  zZz  Zzz\n",
      "QueueSize: 75; ProblemNumber: 57\n",
      "file_path used:ProblemSets/Training_Queue75\n"
     ]
    },
    {
     "name": "stderr",
     "output_type": "stream",
     "text": [
      "[I 2024-11-21 21:57:30,419] Trial 70 finished with value: 1.1429193425492545 and parameters: {'delta_start': 2762, 'mip_focus': 0, 'cuts': 3, 'heuristics': 0.7738519357371054, 'presolve': 0, 'nanmean': False}. Best is trial 39 with value: 19.897337741430313.\n"
     ]
    },
    {
     "name": "stdout",
     "output_type": "stream",
     "text": [
      "QueueSize: 75; ProblemNumber: 17\n",
      "file_path used:ProblemSets/Training_Queue75\n"
     ]
    },
    {
     "name": "stderr",
     "output_type": "stream",
     "text": [
      "[I 2024-11-21 22:02:13,919] Trial 71 finished with value: 9.820447050201539 and parameters: {'delta_start': 2663, 'mip_focus': 1, 'cuts': 3, 'heuristics': 0.8394567061122397, 'presolve': 0, 'nanmean': False}. Best is trial 39 with value: 19.897337741430313.\n"
     ]
    },
    {
     "name": "stdout",
     "output_type": "stream",
     "text": [
      "Study saved to optuna_studies_stochastic/Queue75_Study.pkl\n",
      "Sleeping zZz  zZz  Zzz\n",
      "QueueSize: 25; ProblemNumber: 112\n",
      "file_path used:ProblemSets/Training_Queue25\n"
     ]
    },
    {
     "name": "stderr",
     "output_type": "stream",
     "text": [
      "[I 2024-11-21 22:03:41,335] Trial 144 finished with value: 15.121016055595495 and parameters: {'delta_start': 2893, 'mip_focus': 3, 'cuts': 3, 'heuristics': 0.5616395931328221, 'presolve': 2, 'nanmean': False}. Best is trial 41 with value: 49.72916302638477.\n"
     ]
    },
    {
     "name": "stdout",
     "output_type": "stream",
     "text": [
      "QueueSize: 25; ProblemNumber: 255\n",
      "file_path used:ProblemSets/Training_Queue25\n"
     ]
    },
    {
     "name": "stderr",
     "output_type": "stream",
     "text": [
      "[I 2024-11-21 22:05:37,399] Trial 145 finished with value: 17.62997386000581 and parameters: {'delta_start': 713, 'mip_focus': 0, 'cuts': 3, 'heuristics': 0.7055511153448103, 'presolve': 1, 'nanmean': False}. Best is trial 41 with value: 49.72916302638477.\n"
     ]
    },
    {
     "name": "stdout",
     "output_type": "stream",
     "text": [
      "Study saved to optuna_studies_stochastic/Queue25_Study.pkl\n",
      "Sleeping zZz  zZz  Zzz\n",
      "QueueSize: 25; ProblemNumber: 207\n",
      "file_path used:ProblemSets/Training_Queue25\n"
     ]
    },
    {
     "name": "stderr",
     "output_type": "stream",
     "text": [
      "[I 2024-11-21 22:06:55,410] Trial 146 finished with value: 26.265895953757223 and parameters: {'delta_start': 1500, 'mip_focus': 2, 'cuts': 3, 'heuristics': 0.7208952081158186, 'presolve': 1, 'nanmean': False}. Best is trial 41 with value: 49.72916302638477.\n"
     ]
    },
    {
     "name": "stdout",
     "output_type": "stream",
     "text": [
      "QueueSize: 25; ProblemNumber: 229\n",
      "file_path used:ProblemSets/Training_Queue25\n"
     ]
    },
    {
     "name": "stderr",
     "output_type": "stream",
     "text": [
      "[I 2024-11-21 22:08:32,233] Trial 147 finished with value: 17.84221525600836 and parameters: {'delta_start': 1750, 'mip_focus': 0, 'cuts': 3, 'heuristics': 0.7531081224760007, 'presolve': 0, 'nanmean': False}. Best is trial 41 with value: 49.72916302638477.\n"
     ]
    },
    {
     "name": "stdout",
     "output_type": "stream",
     "text": [
      "Study saved to optuna_studies_stochastic/Queue25_Study.pkl\n",
      "Sleeping zZz  zZz  Zzz\n",
      "QueueSize: 75; ProblemNumber: 85\n",
      "file_path used:ProblemSets/Training_Queue75\n"
     ]
    },
    {
     "name": "stderr",
     "output_type": "stream",
     "text": [
      "[I 2024-11-21 22:13:06,568] Trial 72 finished with value: 3.429878048780488 and parameters: {'delta_start': 2667, 'mip_focus': 1, 'cuts': 2, 'heuristics': 0.9860916713943593, 'presolve': 0, 'nanmean': False}. Best is trial 39 with value: 19.897337741430313.\n"
     ]
    },
    {
     "name": "stdout",
     "output_type": "stream",
     "text": [
      "QueueSize: 75; ProblemNumber: 14\n",
      "file_path used:ProblemSets/Training_Queue75\n"
     ]
    },
    {
     "name": "stderr",
     "output_type": "stream",
     "text": [
      "[I 2024-11-21 22:16:50,997] Trial 73 finished with value: 19.810335827388204 and parameters: {'delta_start': 2957, 'mip_focus': 1, 'cuts': 2, 'heuristics': 0.7242407324722422, 'presolve': 0, 'nanmean': False}. Best is trial 39 with value: 19.897337741430313.\n"
     ]
    },
    {
     "name": "stdout",
     "output_type": "stream",
     "text": [
      "Study saved to optuna_studies_stochastic/Queue75_Study.pkl\n",
      "Sleeping zZz  zZz  Zzz\n",
      "QueueSize: 25; ProblemNumber: 66\n",
      "file_path used:ProblemSets/Training_Queue25\n"
     ]
    },
    {
     "name": "stderr",
     "output_type": "stream",
     "text": [
      "[I 2024-11-21 22:18:25,939] Trial 148 finished with value: 25.486604076024733 and parameters: {'delta_start': 1090, 'mip_focus': 2, 'cuts': 3, 'heuristics': 0.9164408561236298, 'presolve': 0, 'nanmean': False}. Best is trial 41 with value: 49.72916302638477.\n"
     ]
    },
    {
     "name": "stdout",
     "output_type": "stream",
     "text": [
      "QueueSize: 25; ProblemNumber: 75\n",
      "file_path used:ProblemSets/Training_Queue25\n"
     ]
    },
    {
     "name": "stderr",
     "output_type": "stream",
     "text": [
      "[I 2024-11-21 22:20:13,626] Trial 149 finished with value: 27.147428008860448 and parameters: {'delta_start': 985, 'mip_focus': 0, 'cuts': 2, 'heuristics': 0.9792618819737781, 'presolve': 1, 'nanmean': True}. Best is trial 41 with value: 49.72916302638477.\n"
     ]
    },
    {
     "name": "stdout",
     "output_type": "stream",
     "text": [
      "Study saved to optuna_studies_stochastic/Queue25_Study.pkl\n",
      "Sleeping zZz  zZz  Zzz\n",
      "QueueSize: 25; ProblemNumber: 103\n",
      "file_path used:ProblemSets/Training_Queue25\n"
     ]
    },
    {
     "name": "stderr",
     "output_type": "stream",
     "text": [
      "[I 2024-11-21 22:21:31,014] Trial 150 finished with value: 17.4934100167745 and parameters: {'delta_start': 1726, 'mip_focus': 1, 'cuts': 3, 'heuristics': 0.7821710337011628, 'presolve': 1, 'nanmean': True}. Best is trial 41 with value: 49.72916302638477.\n"
     ]
    },
    {
     "name": "stdout",
     "output_type": "stream",
     "text": [
      "QueueSize: 25; ProblemNumber: 192\n",
      "file_path used:ProblemSets/Training_Queue25\n"
     ]
    },
    {
     "name": "stderr",
     "output_type": "stream",
     "text": [
      "[I 2024-11-21 22:23:40,346] Trial 151 finished with value: 12.426666666666666 and parameters: {'delta_start': 721, 'mip_focus': 2, 'cuts': 2, 'heuristics': 0.9938685670623253, 'presolve': 1, 'nanmean': False}. Best is trial 41 with value: 49.72916302638477.\n"
     ]
    },
    {
     "name": "stdout",
     "output_type": "stream",
     "text": [
      "Study saved to optuna_studies_stochastic/Queue25_Study.pkl\n",
      "Sleeping zZz  zZz  Zzz\n",
      "QueueSize: 75; ProblemNumber: 98\n",
      "file_path used:ProblemSets/Training_Queue75\n"
     ]
    },
    {
     "name": "stderr",
     "output_type": "stream",
     "text": [
      "[I 2024-11-21 22:28:45,597] Trial 74 finished with value: 9.531090723751275 and parameters: {'delta_start': 2995, 'mip_focus': 1, 'cuts': 2, 'heuristics': 0.710183875493517, 'presolve': 0, 'nanmean': False}. Best is trial 39 with value: 19.897337741430313.\n"
     ]
    },
    {
     "name": "stdout",
     "output_type": "stream",
     "text": [
      "QueueSize: 75; ProblemNumber: 38\n",
      "file_path used:ProblemSets/Training_Queue75\n"
     ]
    },
    {
     "name": "stderr",
     "output_type": "stream",
     "text": [
      "[I 2024-11-21 22:32:04,049] Trial 75 finished with value: 10.064405324173464 and parameters: {'delta_start': 2880, 'mip_focus': 2, 'cuts': 2, 'heuristics': 0.6777893331606015, 'presolve': 0, 'nanmean': False}. Best is trial 39 with value: 19.897337741430313.\n"
     ]
    },
    {
     "name": "stdout",
     "output_type": "stream",
     "text": [
      "Study saved to optuna_studies_stochastic/Queue75_Study.pkl\n",
      "Sleeping zZz  zZz  Zzz\n",
      "QueueSize: 25; ProblemNumber: 98\n",
      "file_path used:ProblemSets/Training_Queue25\n"
     ]
    },
    {
     "name": "stderr",
     "output_type": "stream",
     "text": [
      "[I 2024-11-21 22:34:11,785] Trial 152 finished with value: 30.05598320503849 and parameters: {'delta_start': 1039, 'mip_focus': 0, 'cuts': 2, 'heuristics': 0.7969217962525482, 'presolve': 1, 'nanmean': False}. Best is trial 41 with value: 49.72916302638477.\n"
     ]
    },
    {
     "name": "stdout",
     "output_type": "stream",
     "text": [
      "QueueSize: 25; ProblemNumber: 286\n",
      "file_path used:ProblemSets/Training_Queue25\n"
     ]
    },
    {
     "name": "stderr",
     "output_type": "stream",
     "text": [
      "[I 2024-11-21 22:35:29,076] Trial 153 finished with value: 26.38888888888889 and parameters: {'delta_start': 1612, 'mip_focus': 0, 'cuts': 3, 'heuristics': 0.7288263647600667, 'presolve': 0, 'nanmean': True}. Best is trial 41 with value: 49.72916302638477.\n"
     ]
    },
    {
     "name": "stdout",
     "output_type": "stream",
     "text": [
      "Study saved to optuna_studies_stochastic/Queue25_Study.pkl\n",
      "Sleeping zZz  zZz  Zzz\n",
      "QueueSize: 25; ProblemNumber: 249\n",
      "file_path used:ProblemSets/Training_Queue25\n"
     ]
    },
    {
     "name": "stderr",
     "output_type": "stream",
     "text": [
      "[I 2024-11-21 22:37:39,441] Trial 154 finished with value: 17.497797356828194 and parameters: {'delta_start': 1424, 'mip_focus': 2, 'cuts': 3, 'heuristics': 0.7515682825946267, 'presolve': 0, 'nanmean': False}. Best is trial 41 with value: 49.72916302638477.\n"
     ]
    },
    {
     "name": "stdout",
     "output_type": "stream",
     "text": [
      "QueueSize: 25; ProblemNumber: 166\n",
      "file_path used:ProblemSets/Training_Queue25\n"
     ]
    },
    {
     "name": "stderr",
     "output_type": "stream",
     "text": [
      "[I 2024-11-21 22:39:40,349] Trial 155 finished with value: 23.63408521303258 and parameters: {'delta_start': 1677, 'mip_focus': 2, 'cuts': 3, 'heuristics': 0.9148833629516363, 'presolve': 1, 'nanmean': False}. Best is trial 41 with value: 49.72916302638477.\n"
     ]
    },
    {
     "name": "stdout",
     "output_type": "stream",
     "text": [
      "Study saved to optuna_studies_stochastic/Queue25_Study.pkl\n",
      "Sleeping zZz  zZz  Zzz\n",
      "QueueSize: 75; ProblemNumber: 97\n",
      "file_path used:ProblemSets/Training_Queue75\n"
     ]
    },
    {
     "name": "stderr",
     "output_type": "stream",
     "text": [
      "[I 2024-11-21 22:44:16,835] Trial 76 finished with value: 3.010930088678078 and parameters: {'delta_start': 2930, 'mip_focus': 0, 'cuts': 2, 'heuristics': 0.9960468388668013, 'presolve': 0, 'nanmean': False}. Best is trial 39 with value: 19.897337741430313.\n"
     ]
    },
    {
     "name": "stdout",
     "output_type": "stream",
     "text": [
      "QueueSize: 75; ProblemNumber: 88\n",
      "file_path used:ProblemSets/Training_Queue75\n"
     ]
    },
    {
     "name": "stderr",
     "output_type": "stream",
     "text": [
      "[I 2024-11-21 22:49:14,851] Trial 77 finished with value: 7.861954415428624 and parameters: {'delta_start': 2935, 'mip_focus': 2, 'cuts': 2, 'heuristics': 0.8186104805647804, 'presolve': 0, 'nanmean': False}. Best is trial 39 with value: 19.897337741430313.\n"
     ]
    },
    {
     "name": "stdout",
     "output_type": "stream",
     "text": [
      "Study saved to optuna_studies_stochastic/Queue75_Study.pkl\n",
      "Sleeping zZz  zZz  Zzz\n",
      "QueueSize: 25; ProblemNumber: 30\n",
      "file_path used:ProblemSets/Training_Queue25\n"
     ]
    },
    {
     "name": "stderr",
     "output_type": "stream",
     "text": [
      "[I 2024-11-21 22:51:13,070] Trial 156 finished with value: 23.08015989901115 and parameters: {'delta_start': 1130, 'mip_focus': 1, 'cuts': 3, 'heuristics': 0.7236753961665433, 'presolve': 0, 'nanmean': False}. Best is trial 41 with value: 49.72916302638477.\n"
     ]
    },
    {
     "name": "stdout",
     "output_type": "stream",
     "text": [
      "QueueSize: 25; ProblemNumber: 247\n",
      "file_path used:ProblemSets/Training_Queue25\n"
     ]
    },
    {
     "name": "stderr",
     "output_type": "stream",
     "text": [
      "[I 2024-11-21 22:52:57,771] Trial 157 finished with value: 24.207359407544548 and parameters: {'delta_start': 2805, 'mip_focus': 3, 'cuts': 2, 'heuristics': 0.6931579394936865, 'presolve': 2, 'nanmean': True}. Best is trial 41 with value: 49.72916302638477.\n"
     ]
    },
    {
     "name": "stdout",
     "output_type": "stream",
     "text": [
      "Study saved to optuna_studies_stochastic/Queue25_Study.pkl\n",
      "Sleeping zZz  zZz  Zzz\n",
      "QueueSize: 25; ProblemNumber: 106\n",
      "file_path used:ProblemSets/Training_Queue25\n"
     ]
    },
    {
     "name": "stderr",
     "output_type": "stream",
     "text": [
      "[I 2024-11-21 22:54:57,089] Trial 158 finished with value: 36.23766135155657 and parameters: {'delta_start': 654, 'mip_focus': 1, 'cuts': 3, 'heuristics': 0.883461524879963, 'presolve': 1, 'nanmean': False}. Best is trial 41 with value: 49.72916302638477.\n"
     ]
    },
    {
     "name": "stdout",
     "output_type": "stream",
     "text": [
      "QueueSize: 25; ProblemNumber: 51\n",
      "file_path used:ProblemSets/Training_Queue25\n"
     ]
    },
    {
     "name": "stderr",
     "output_type": "stream",
     "text": [
      "[I 2024-11-21 22:57:05,101] Trial 159 finished with value: 9.508571428571429 and parameters: {'delta_start': 710, 'mip_focus': 1, 'cuts': 2, 'heuristics': 0.9697106750590825, 'presolve': 1, 'nanmean': True}. Best is trial 41 with value: 49.72916302638477.\n"
     ]
    },
    {
     "name": "stdout",
     "output_type": "stream",
     "text": [
      "Study saved to optuna_studies_stochastic/Queue25_Study.pkl\n",
      "Sleeping zZz  zZz  Zzz\n",
      "QueueSize: 75; ProblemNumber: 81\n",
      "file_path used:ProblemSets/Training_Queue75\n"
     ]
    },
    {
     "name": "stderr",
     "output_type": "stream",
     "text": [
      "[I 2024-11-21 23:01:42,265] Trial 78 finished with value: 4.652047154265433 and parameters: {'delta_start': 2930, 'mip_focus': 1, 'cuts': 2, 'heuristics': 0.7723951720920683, 'presolve': 0, 'nanmean': False}. Best is trial 39 with value: 19.897337741430313.\n"
     ]
    },
    {
     "name": "stdout",
     "output_type": "stream",
     "text": [
      "QueueSize: 75; ProblemNumber: 5\n",
      "file_path used:ProblemSets/Training_Queue75\n"
     ]
    },
    {
     "name": "stderr",
     "output_type": "stream",
     "text": [
      "[I 2024-11-21 23:06:56,512] Trial 79 finished with value: 4.985366838227874 and parameters: {'delta_start': 2619, 'mip_focus': 1, 'cuts': 2, 'heuristics': 0.7612985633104119, 'presolve': 0, 'nanmean': False}. Best is trial 39 with value: 19.897337741430313.\n"
     ]
    },
    {
     "name": "stdout",
     "output_type": "stream",
     "text": [
      "Study saved to optuna_studies_stochastic/Queue75_Study.pkl\n",
      "Sleeping zZz  zZz  Zzz\n",
      "QueueSize: 25; ProblemNumber: 285\n",
      "file_path used:ProblemSets/Training_Queue25\n"
     ]
    },
    {
     "name": "stderr",
     "output_type": "stream",
     "text": [
      "[I 2024-11-21 23:08:45,370] Trial 160 finished with value: 11.274014155712841 and parameters: {'delta_start': 895, 'mip_focus': 0, 'cuts': 3, 'heuristics': 0.8756582058237635, 'presolve': 1, 'nanmean': False}. Best is trial 41 with value: 49.72916302638477.\n"
     ]
    },
    {
     "name": "stdout",
     "output_type": "stream",
     "text": [
      "QueueSize: 25; ProblemNumber: 138\n",
      "file_path used:ProblemSets/Training_Queue25\n"
     ]
    },
    {
     "name": "stderr",
     "output_type": "stream",
     "text": [
      "[I 2024-11-21 23:10:26,819] Trial 161 finished with value: 11.027447170269614 and parameters: {'delta_start': 909, 'mip_focus': 1, 'cuts': 3, 'heuristics': 0.9213947817764021, 'presolve': 1, 'nanmean': False}. Best is trial 41 with value: 49.72916302638477.\n"
     ]
    },
    {
     "name": "stdout",
     "output_type": "stream",
     "text": [
      "Study saved to optuna_studies_stochastic/Queue25_Study.pkl\n",
      "Sleeping zZz  zZz  Zzz\n",
      "QueueSize: 25; ProblemNumber: 184\n",
      "file_path used:ProblemSets/Training_Queue25\n"
     ]
    },
    {
     "name": "stderr",
     "output_type": "stream",
     "text": [
      "[I 2024-11-21 23:12:27,710] Trial 162 finished with value: 15.110401702580473 and parameters: {'delta_start': 966, 'mip_focus': 1, 'cuts': 3, 'heuristics': 0.902897419461692, 'presolve': 1, 'nanmean': False}. Best is trial 41 with value: 49.72916302638477.\n"
     ]
    },
    {
     "name": "stdout",
     "output_type": "stream",
     "text": [
      "QueueSize: 25; ProblemNumber: 273\n",
      "file_path used:ProblemSets/Training_Queue25\n"
     ]
    },
    {
     "name": "stderr",
     "output_type": "stream",
     "text": [
      "[I 2024-11-21 23:14:14,144] Trial 163 finished with value: 32.25371120107962 and parameters: {'delta_start': 2137, 'mip_focus': 3, 'cuts': 2, 'heuristics': 0.9650554975515665, 'presolve': 1, 'nanmean': True}. Best is trial 41 with value: 49.72916302638477.\n"
     ]
    },
    {
     "name": "stdout",
     "output_type": "stream",
     "text": [
      "Study saved to optuna_studies_stochastic/Queue25_Study.pkl\n",
      "Sleeping zZz  zZz  Zzz\n",
      "QueueSize: 75; ProblemNumber: 84\n",
      "file_path used:ProblemSets/Training_Queue75\n"
     ]
    },
    {
     "name": "stderr",
     "output_type": "stream",
     "text": [
      "[I 2024-11-21 23:17:57,436] Trial 80 finished with value: 5.411764705882352 and parameters: {'delta_start': 2601, 'mip_focus': 1, 'cuts': 3, 'heuristics': 0.9584126683857555, 'presolve': 0, 'nanmean': False}. Best is trial 39 with value: 19.897337741430313.\n"
     ]
    },
    {
     "name": "stdout",
     "output_type": "stream",
     "text": [
      "QueueSize: 75; ProblemNumber: 88\n",
      "file_path used:ProblemSets/Training_Queue75\n"
     ]
    },
    {
     "name": "stderr",
     "output_type": "stream",
     "text": [
      "[I 2024-11-21 23:22:53,149] Trial 81 finished with value: 9.439881886130848 and parameters: {'delta_start': 2769, 'mip_focus': 0, 'cuts': 3, 'heuristics': 0.5830414961721101, 'presolve': 1, 'nanmean': True}. Best is trial 39 with value: 19.897337741430313.\n"
     ]
    },
    {
     "name": "stdout",
     "output_type": "stream",
     "text": [
      "Study saved to optuna_studies_stochastic/Queue75_Study.pkl\n",
      "Sleeping zZz  zZz  Zzz\n",
      "QueueSize: 25; ProblemNumber: 69\n",
      "file_path used:ProblemSets/Training_Queue25\n"
     ]
    },
    {
     "name": "stderr",
     "output_type": "stream",
     "text": [
      "[I 2024-11-21 23:24:46,003] Trial 164 finished with value: 12.225789192081326 and parameters: {'delta_start': 2038, 'mip_focus': 3, 'cuts': 2, 'heuristics': 0.9733145144946829, 'presolve': 1, 'nanmean': True}. Best is trial 41 with value: 49.72916302638477.\n"
     ]
    },
    {
     "name": "stdout",
     "output_type": "stream",
     "text": [
      "QueueSize: 25; ProblemNumber: 34\n",
      "file_path used:ProblemSets/Training_Queue25\n"
     ]
    },
    {
     "name": "stderr",
     "output_type": "stream",
     "text": [
      "[I 2024-11-21 23:26:23,187] Trial 165 finished with value: 14.099361643075214 and parameters: {'delta_start': 1790, 'mip_focus': 3, 'cuts': 2, 'heuristics': 0.869791424017037, 'presolve': 1, 'nanmean': False}. Best is trial 41 with value: 49.72916302638477.\n"
     ]
    },
    {
     "name": "stdout",
     "output_type": "stream",
     "text": [
      "Study saved to optuna_studies_stochastic/Queue25_Study.pkl\n",
      "Sleeping zZz  zZz  Zzz\n",
      "QueueSize: 25; ProblemNumber: 262\n",
      "file_path used:ProblemSets/Training_Queue25\n"
     ]
    },
    {
     "name": "stderr",
     "output_type": "stream",
     "text": [
      "[I 2024-11-21 23:28:11,960] Trial 166 finished with value: 20.213433772755806 and parameters: {'delta_start': 2317, 'mip_focus': 3, 'cuts': 2, 'heuristics': 0.9292367987467391, 'presolve': 0, 'nanmean': True}. Best is trial 41 with value: 49.72916302638477.\n"
     ]
    },
    {
     "name": "stdout",
     "output_type": "stream",
     "text": [
      "QueueSize: 25; ProblemNumber: 53\n",
      "file_path used:ProblemSets/Training_Queue25\n"
     ]
    },
    {
     "name": "stderr",
     "output_type": "stream",
     "text": [
      "[I 2024-11-21 23:29:50,959] Trial 167 finished with value: 23.055555555555557 and parameters: {'delta_start': 2549, 'mip_focus': 3, 'cuts': 2, 'heuristics': 0.9813358267217556, 'presolve': 1, 'nanmean': True}. Best is trial 41 with value: 49.72916302638477.\n"
     ]
    },
    {
     "name": "stdout",
     "output_type": "stream",
     "text": [
      "Study saved to optuna_studies_stochastic/Queue25_Study.pkl\n",
      "Sleeping zZz  zZz  Zzz\n",
      "QueueSize: 75; ProblemNumber: 66\n",
      "file_path used:ProblemSets/Training_Queue75\n"
     ]
    },
    {
     "name": "stderr",
     "output_type": "stream",
     "text": [
      "[I 2024-11-21 23:33:54,699] Trial 82 finished with value: 15.41870556735297 and parameters: {'delta_start': 2747, 'mip_focus': 0, 'cuts': 2, 'heuristics': 0.5897551372358164, 'presolve': 0, 'nanmean': True}. Best is trial 39 with value: 19.897337741430313.\n"
     ]
    },
    {
     "name": "stdout",
     "output_type": "stream",
     "text": [
      "QueueSize: 75; ProblemNumber: 77\n",
      "file_path used:ProblemSets/Training_Queue75\n"
     ]
    },
    {
     "name": "stderr",
     "output_type": "stream",
     "text": [
      "[I 2024-11-21 23:39:42,043] Trial 83 finished with value: 5.316077650572424 and parameters: {'delta_start': 2903, 'mip_focus': 1, 'cuts': 2, 'heuristics': 0.6544018110009376, 'presolve': 1, 'nanmean': False}. Best is trial 39 with value: 19.897337741430313.\n"
     ]
    },
    {
     "name": "stdout",
     "output_type": "stream",
     "text": [
      "Study saved to optuna_studies_stochastic/Queue75_Study.pkl\n",
      "Sleeping zZz  zZz  Zzz\n",
      "QueueSize: 25; ProblemNumber: 126\n",
      "file_path used:ProblemSets/Training_Queue25\n"
     ]
    },
    {
     "name": "stderr",
     "output_type": "stream",
     "text": [
      "[I 2024-11-21 23:41:20,499] Trial 168 finished with value: 7.917479788123781 and parameters: {'delta_start': 2939, 'mip_focus': 0, 'cuts': 3, 'heuristics': 0.9887524993074511, 'presolve': 0, 'nanmean': False}. Best is trial 41 with value: 49.72916302638477.\n"
     ]
    },
    {
     "name": "stdout",
     "output_type": "stream",
     "text": [
      "QueueSize: 25; ProblemNumber: 235\n",
      "file_path used:ProblemSets/Training_Queue25\n"
     ]
    },
    {
     "name": "stderr",
     "output_type": "stream",
     "text": [
      "[I 2024-11-21 23:43:09,494] Trial 169 finished with value: 13.016930335831251 and parameters: {'delta_start': 2478, 'mip_focus': 3, 'cuts': 2, 'heuristics': 0.9056323643585104, 'presolve': 2, 'nanmean': True}. Best is trial 41 with value: 49.72916302638477.\n"
     ]
    },
    {
     "name": "stdout",
     "output_type": "stream",
     "text": [
      "Study saved to optuna_studies_stochastic/Queue25_Study.pkl\n",
      "Sleeping zZz  zZz  Zzz\n",
      "QueueSize: 25; ProblemNumber: 43\n",
      "file_path used:ProblemSets/Training_Queue25\n"
     ]
    },
    {
     "name": "stderr",
     "output_type": "stream",
     "text": [
      "[I 2024-11-21 23:45:09,230] Trial 170 finished with value: 19.734174363595404 and parameters: {'delta_start': 1244, 'mip_focus': 2, 'cuts': 3, 'heuristics': 0.8918277220716067, 'presolve': 0, 'nanmean': True}. Best is trial 41 with value: 49.72916302638477.\n"
     ]
    },
    {
     "name": "stdout",
     "output_type": "stream",
     "text": [
      "QueueSize: 25; ProblemNumber: 240\n",
      "file_path used:ProblemSets/Training_Queue25\n"
     ]
    },
    {
     "name": "stderr",
     "output_type": "stream",
     "text": [
      "[I 2024-11-21 23:47:09,426] Trial 171 finished with value: 24.92725509214355 and parameters: {'delta_start': 1158, 'mip_focus': 1, 'cuts': 3, 'heuristics': 0.8075386929001077, 'presolve': 0, 'nanmean': False}. Best is trial 41 with value: 49.72916302638477.\n"
     ]
    },
    {
     "name": "stdout",
     "output_type": "stream",
     "text": [
      "Study saved to optuna_studies_stochastic/Queue25_Study.pkl\n",
      "Sleeping zZz  zZz  Zzz\n",
      "QueueSize: 75; ProblemNumber: 75\n",
      "file_path used:ProblemSets/Training_Queue75\n"
     ]
    },
    {
     "name": "stderr",
     "output_type": "stream",
     "text": [
      "[I 2024-11-21 23:50:57,873] Trial 84 finished with value: 3.8620568311779713 and parameters: {'delta_start': 2936, 'mip_focus': 1, 'cuts': 3, 'heuristics': 0.6401086140251273, 'presolve': 0, 'nanmean': False}. Best is trial 39 with value: 19.897337741430313.\n"
     ]
    },
    {
     "name": "stdout",
     "output_type": "stream",
     "text": [
      "QueueSize: 75; ProblemNumber: 23\n",
      "file_path used:ProblemSets/Training_Queue75\n"
     ]
    },
    {
     "name": "stderr",
     "output_type": "stream",
     "text": [
      "[I 2024-11-21 23:55:04,947] Trial 85 finished with value: 9.63572267920094 and parameters: {'delta_start': 2569, 'mip_focus': 3, 'cuts': 2, 'heuristics': 0.8644016472668311, 'presolve': 2, 'nanmean': True}. Best is trial 39 with value: 19.897337741430313.\n"
     ]
    },
    {
     "name": "stdout",
     "output_type": "stream",
     "text": [
      "Study saved to optuna_studies_stochastic/Queue75_Study.pkl\n",
      "Sleeping zZz  zZz  Zzz\n",
      "QueueSize: 25; ProblemNumber: 183\n",
      "file_path used:ProblemSets/Training_Queue25\n"
     ]
    },
    {
     "name": "stderr",
     "output_type": "stream",
     "text": [
      "[I 2024-11-21 23:56:34,384] Trial 172 finished with value: 4.032729398012858 and parameters: {'delta_start': 1179, 'mip_focus': 3, 'cuts': 3, 'heuristics': 0.8069841866592526, 'presolve': 2, 'nanmean': False}. Best is trial 41 with value: 49.72916302638477.\n"
     ]
    },
    {
     "name": "stdout",
     "output_type": "stream",
     "text": [
      "QueueSize: 25; ProblemNumber: 95\n",
      "file_path used:ProblemSets/Training_Queue25\n"
     ]
    },
    {
     "name": "stderr",
     "output_type": "stream",
     "text": [
      "[I 2024-11-21 23:58:12,756] Trial 173 finished with value: -100.0 and parameters: {'delta_start': 684, 'mip_focus': 1, 'cuts': 3, 'heuristics': 0.8297774449182351, 'presolve': 1, 'nanmean': False}. Best is trial 41 with value: 49.72916302638477.\n"
     ]
    },
    {
     "name": "stdout",
     "output_type": "stream",
     "text": [
      "Study saved to optuna_studies_stochastic/Queue25_Study.pkl\n",
      "Sleeping zZz  zZz  Zzz\n",
      "QueueSize: 25; ProblemNumber: 8\n",
      "file_path used:ProblemSets/Training_Queue25\n"
     ]
    },
    {
     "name": "stderr",
     "output_type": "stream",
     "text": [
      "[I 2024-11-21 23:59:42,103] Trial 174 finished with value: 19.821772639691716 and parameters: {'delta_start': 1681, 'mip_focus': 3, 'cuts': 2, 'heuristics': 0.8766533113212727, 'presolve': 1, 'nanmean': True}. Best is trial 41 with value: 49.72916302638477.\n"
     ]
    },
    {
     "name": "stdout",
     "output_type": "stream",
     "text": [
      "QueueSize: 25; ProblemNumber: 184\n",
      "file_path used:ProblemSets/Training_Queue25\n"
     ]
    },
    {
     "name": "stderr",
     "output_type": "stream",
     "text": [
      "[I 2024-11-22 00:01:42,593] Trial 175 finished with value: 14.79116786379356 and parameters: {'delta_start': 1169, 'mip_focus': 0, 'cuts': 3, 'heuristics': 0.6718543807608474, 'presolve': 0, 'nanmean': False}. Best is trial 41 with value: 49.72916302638477.\n"
     ]
    },
    {
     "name": "stdout",
     "output_type": "stream",
     "text": [
      "Study saved to optuna_studies_stochastic/Queue25_Study.pkl\n",
      "Sleeping zZz  zZz  Zzz\n",
      "QueueSize: 75; ProblemNumber: 25\n",
      "file_path used:ProblemSets/Training_Queue75\n"
     ]
    },
    {
     "name": "stderr",
     "output_type": "stream",
     "text": [
      "[I 2024-11-22 00:06:14,700] Trial 86 finished with value: 13.684840027907905 and parameters: {'delta_start': 2928, 'mip_focus': 2, 'cuts': 3, 'heuristics': 0.586304757920889, 'presolve': 2, 'nanmean': False}. Best is trial 39 with value: 19.897337741430313.\n"
     ]
    },
    {
     "name": "stdout",
     "output_type": "stream",
     "text": [
      "QueueSize: 75; ProblemNumber: 67\n",
      "file_path used:ProblemSets/Training_Queue75\n"
     ]
    },
    {
     "name": "stderr",
     "output_type": "stream",
     "text": [
      "[I 2024-11-22 00:10:25,541] Trial 87 finished with value: 7.125709297250109 and parameters: {'delta_start': 2976, 'mip_focus': 2, 'cuts': 3, 'heuristics': 0.7169835361270185, 'presolve': 2, 'nanmean': True}. Best is trial 39 with value: 19.897337741430313.\n"
     ]
    },
    {
     "name": "stdout",
     "output_type": "stream",
     "text": [
      "Study saved to optuna_studies_stochastic/Queue75_Study.pkl\n",
      "Sleeping zZz  zZz  Zzz\n",
      "QueueSize: 25; ProblemNumber: 195\n",
      "file_path used:ProblemSets/Training_Queue25\n"
     ]
    },
    {
     "name": "stderr",
     "output_type": "stream",
     "text": [
      "[I 2024-11-22 00:12:02,873] Trial 176 finished with value: 19.88950276243094 and parameters: {'delta_start': 688, 'mip_focus': 3, 'cuts': 3, 'heuristics': 0.7136471452780753, 'presolve': 1, 'nanmean': False}. Best is trial 41 with value: 49.72916302638477.\n"
     ]
    },
    {
     "name": "stdout",
     "output_type": "stream",
     "text": [
      "QueueSize: 25; ProblemNumber: 155\n",
      "file_path used:ProblemSets/Training_Queue25\n"
     ]
    },
    {
     "name": "stderr",
     "output_type": "stream",
     "text": [
      "[I 2024-11-22 00:13:19,002] Trial 177 finished with value: 14.352746342809827 and parameters: {'delta_start': 1624, 'mip_focus': 0, 'cuts': 3, 'heuristics': 0.7389319880483683, 'presolve': 2, 'nanmean': False}. Best is trial 41 with value: 49.72916302638477.\n"
     ]
    },
    {
     "name": "stdout",
     "output_type": "stream",
     "text": [
      "Study saved to optuna_studies_stochastic/Queue25_Study.pkl\n",
      "Sleeping zZz  zZz  Zzz\n",
      "QueueSize: 25; ProblemNumber: 93\n",
      "file_path used:ProblemSets/Training_Queue25\n"
     ]
    },
    {
     "name": "stderr",
     "output_type": "stream",
     "text": [
      "[I 2024-11-22 00:15:06,956] Trial 178 finished with value: 12.724458204334365 and parameters: {'delta_start': 2184, 'mip_focus': 2, 'cuts': 2, 'heuristics': 0.8726356208369536, 'presolve': 1, 'nanmean': True}. Best is trial 41 with value: 49.72916302638477.\n"
     ]
    },
    {
     "name": "stdout",
     "output_type": "stream",
     "text": [
      "QueueSize: 25; ProblemNumber: 160\n",
      "file_path used:ProblemSets/Training_Queue25\n"
     ]
    },
    {
     "name": "stderr",
     "output_type": "stream",
     "text": [
      "[I 2024-11-22 00:16:45,227] Trial 179 finished with value: 25.71749238415905 and parameters: {'delta_start': 899, 'mip_focus': 1, 'cuts': 2, 'heuristics': 0.9787616447981461, 'presolve': 2, 'nanmean': False}. Best is trial 41 with value: 49.72916302638477.\n"
     ]
    },
    {
     "name": "stdout",
     "output_type": "stream",
     "text": [
      "Study saved to optuna_studies_stochastic/Queue25_Study.pkl\n",
      "Sleeping zZz  zZz  Zzz\n",
      "QueueSize: 75; ProblemNumber: 50\n",
      "file_path used:ProblemSets/Training_Queue75\n"
     ]
    },
    {
     "name": "stderr",
     "output_type": "stream",
     "text": [
      "[I 2024-11-22 00:21:09,751] Trial 88 finished with value: 14.738409187579753 and parameters: {'delta_start': 2785, 'mip_focus': 0, 'cuts': 2, 'heuristics': 0.6867876967002349, 'presolve': 1, 'nanmean': True}. Best is trial 39 with value: 19.897337741430313.\n"
     ]
    },
    {
     "name": "stdout",
     "output_type": "stream",
     "text": [
      "QueueSize: 75; ProblemNumber: 61\n",
      "file_path used:ProblemSets/Training_Queue75\n"
     ]
    },
    {
     "name": "stderr",
     "output_type": "stream",
     "text": [
      "[I 2024-11-22 00:25:39,633] Trial 89 finished with value: 5.622632575757576 and parameters: {'delta_start': 2910, 'mip_focus': 0, 'cuts': 3, 'heuristics': 0.5257117287112504, 'presolve': 2, 'nanmean': True}. Best is trial 39 with value: 19.897337741430313.\n"
     ]
    },
    {
     "name": "stdout",
     "output_type": "stream",
     "text": [
      "Study saved to optuna_studies_stochastic/Queue75_Study.pkl\n",
      "Sleeping zZz  zZz  Zzz\n",
      "QueueSize: 25; ProblemNumber: 122\n",
      "file_path used:ProblemSets/Training_Queue25\n"
     ]
    },
    {
     "name": "stderr",
     "output_type": "stream",
     "text": [
      "[I 2024-11-22 00:27:27,306] Trial 180 finished with value: 23.20515670148922 and parameters: {'delta_start': 1532, 'mip_focus': 1, 'cuts': 3, 'heuristics': 0.6463091570268075, 'presolve': 0, 'nanmean': True}. Best is trial 41 with value: 49.72916302638477.\n"
     ]
    },
    {
     "name": "stdout",
     "output_type": "stream",
     "text": [
      "QueueSize: 25; ProblemNumber: 51\n",
      "file_path used:ProblemSets/Training_Queue25\n"
     ]
    },
    {
     "name": "stderr",
     "output_type": "stream",
     "text": [
      "[I 2024-11-22 00:29:35,373] Trial 181 finished with value: 11.108571428571429 and parameters: {'delta_start': 1022, 'mip_focus': 1, 'cuts': 3, 'heuristics': 0.7356809618418819, 'presolve': 0, 'nanmean': True}. Best is trial 41 with value: 49.72916302638477.\n"
     ]
    },
    {
     "name": "stdout",
     "output_type": "stream",
     "text": [
      "Study saved to optuna_studies_stochastic/Queue25_Study.pkl\n",
      "Sleeping zZz  zZz  Zzz\n",
      "QueueSize: 25; ProblemNumber: 277\n",
      "file_path used:ProblemSets/Training_Queue25\n"
     ]
    },
    {
     "name": "stderr",
     "output_type": "stream",
     "text": [
      "[I 2024-11-22 00:30:53,753] Trial 182 finished with value: 18.84007029876977 and parameters: {'delta_start': 1817, 'mip_focus': 0, 'cuts': 2, 'heuristics': 0.5306019593356399, 'presolve': 2, 'nanmean': False}. Best is trial 41 with value: 49.72916302638477.\n"
     ]
    },
    {
     "name": "stdout",
     "output_type": "stream",
     "text": [
      "QueueSize: 25; ProblemNumber: 5\n",
      "file_path used:ProblemSets/Training_Queue25\n"
     ]
    },
    {
     "name": "stderr",
     "output_type": "stream",
     "text": [
      "[I 2024-11-22 00:32:31,163] Trial 183 finished with value: 17.56242065171392 and parameters: {'delta_start': 699, 'mip_focus': 1, 'cuts': 2, 'heuristics': 0.7857358295543618, 'presolve': 2, 'nanmean': True}. Best is trial 41 with value: 49.72916302638477.\n"
     ]
    },
    {
     "name": "stdout",
     "output_type": "stream",
     "text": [
      "Study saved to optuna_studies_stochastic/Queue25_Study.pkl\n",
      "Sleeping zZz  zZz  Zzz\n",
      "QueueSize: 75; ProblemNumber: 82\n",
      "file_path used:ProblemSets/Training_Queue75\n"
     ]
    },
    {
     "name": "stderr",
     "output_type": "stream",
     "text": [
      "[I 2024-11-22 00:36:59,422] Trial 90 finished with value: 10.931690215659193 and parameters: {'delta_start': 2961, 'mip_focus': 2, 'cuts': 3, 'heuristics': 0.9202718497844096, 'presolve': 1, 'nanmean': True}. Best is trial 39 with value: 19.897337741430313.\n"
     ]
    },
    {
     "name": "stdout",
     "output_type": "stream",
     "text": [
      "QueueSize: 75; ProblemNumber: 92\n",
      "file_path used:ProblemSets/Training_Queue75\n"
     ]
    },
    {
     "name": "stderr",
     "output_type": "stream",
     "text": [
      "[I 2024-11-22 00:41:07,989] Trial 91 finished with value: 5.748715922560253 and parameters: {'delta_start': 2614, 'mip_focus': 0, 'cuts': 3, 'heuristics': 0.9522858414373447, 'presolve': 2, 'nanmean': False}. Best is trial 39 with value: 19.897337741430313.\n"
     ]
    },
    {
     "name": "stdout",
     "output_type": "stream",
     "text": [
      "Study saved to optuna_studies_stochastic/Queue75_Study.pkl\n",
      "Sleeping zZz  zZz  Zzz\n",
      "QueueSize: 25; ProblemNumber: 170\n",
      "file_path used:ProblemSets/Training_Queue25\n"
     ]
    },
    {
     "name": "stderr",
     "output_type": "stream",
     "text": [
      "[I 2024-11-22 00:42:45,986] Trial 184 finished with value: 19.700876740587933 and parameters: {'delta_start': 755, 'mip_focus': 1, 'cuts': 3, 'heuristics': 0.9099077937854619, 'presolve': 2, 'nanmean': False}. Best is trial 41 with value: 49.72916302638477.\n"
     ]
    },
    {
     "name": "stdout",
     "output_type": "stream",
     "text": [
      "QueueSize: 25; ProblemNumber: 22\n",
      "file_path used:ProblemSets/Training_Queue25\n"
     ]
    },
    {
     "name": "stderr",
     "output_type": "stream",
     "text": [
      "[I 2024-11-22 00:44:56,928] Trial 185 finished with value: 7.611220296587458 and parameters: {'delta_start': 1589, 'mip_focus': 3, 'cuts': 3, 'heuristics': 0.8527595718158048, 'presolve': 1, 'nanmean': False}. Best is trial 41 with value: 49.72916302638477.\n"
     ]
    },
    {
     "name": "stdout",
     "output_type": "stream",
     "text": [
      "Study saved to optuna_studies_stochastic/Queue25_Study.pkl\n",
      "Sleeping zZz  zZz  Zzz\n",
      "QueueSize: 25; ProblemNumber: 1\n",
      "file_path used:ProblemSets/Training_Queue25\n"
     ]
    },
    {
     "name": "stderr",
     "output_type": "stream",
     "text": [
      "[I 2024-11-22 00:46:24,655] Trial 186 finished with value: 43.36967294350843 and parameters: {'delta_start': 818, 'mip_focus': 0, 'cuts': 3, 'heuristics': 0.7684551530323259, 'presolve': 1, 'nanmean': False}. Best is trial 41 with value: 49.72916302638477.\n"
     ]
    },
    {
     "name": "stdout",
     "output_type": "stream",
     "text": [
      "QueueSize: 25; ProblemNumber: 133\n",
      "file_path used:ProblemSets/Training_Queue25\n"
     ]
    },
    {
     "name": "stderr",
     "output_type": "stream",
     "text": [
      "[I 2024-11-22 00:47:49,534] Trial 187 finished with value: 20.552359033371694 and parameters: {'delta_start': 769, 'mip_focus': 0, 'cuts': 3, 'heuristics': 0.7994917205538208, 'presolve': 1, 'nanmean': False}. Best is trial 41 with value: 49.72916302638477.\n"
     ]
    },
    {
     "name": "stdout",
     "output_type": "stream",
     "text": [
      "Study saved to optuna_studies_stochastic/Queue25_Study.pkl\n",
      "Sleeping zZz  zZz  Zzz\n",
      "QueueSize: 75; ProblemNumber: 12\n",
      "file_path used:ProblemSets/Training_Queue75\n"
     ]
    },
    {
     "name": "stderr",
     "output_type": "stream",
     "text": [
      "[I 2024-11-22 00:51:26,867] Trial 92 finished with value: 10.749690210656754 and parameters: {'delta_start': 2582, 'mip_focus': 0, 'cuts': 3, 'heuristics': 0.9758568439066753, 'presolve': 1, 'nanmean': False}. Best is trial 39 with value: 19.897337741430313.\n"
     ]
    },
    {
     "name": "stdout",
     "output_type": "stream",
     "text": [
      "QueueSize: 75; ProblemNumber: 90\n",
      "file_path used:ProblemSets/Training_Queue75\n"
     ]
    },
    {
     "name": "stderr",
     "output_type": "stream",
     "text": [
      "[I 2024-11-22 00:55:24,888] Trial 93 finished with value: 8.102766798418973 and parameters: {'delta_start': 2691, 'mip_focus': 0, 'cuts': 3, 'heuristics': 0.9850314358415153, 'presolve': 1, 'nanmean': False}. Best is trial 39 with value: 19.897337741430313.\n"
     ]
    },
    {
     "name": "stdout",
     "output_type": "stream",
     "text": [
      "Study saved to optuna_studies_stochastic/Queue75_Study.pkl\n",
      "Sleeping zZz  zZz  Zzz\n",
      "QueueSize: 25; ProblemNumber: 46\n",
      "file_path used:ProblemSets/Training_Queue25\n"
     ]
    },
    {
     "name": "stderr",
     "output_type": "stream",
     "text": [
      "[I 2024-11-22 00:57:13,426] Trial 188 finished with value: 8.01591813530415 and parameters: {'delta_start': 958, 'mip_focus': 0, 'cuts': 3, 'heuristics': 0.7153851024538942, 'presolve': 1, 'nanmean': False}. Best is trial 41 with value: 49.72916302638477.\n"
     ]
    },
    {
     "name": "stdout",
     "output_type": "stream",
     "text": [
      "QueueSize: 25; ProblemNumber: 34\n",
      "file_path used:ProblemSets/Training_Queue25\n"
     ]
    },
    {
     "name": "stderr",
     "output_type": "stream",
     "text": [
      "[I 2024-11-22 00:58:51,000] Trial 189 finished with value: 14.210380238689982 and parameters: {'delta_start': 1469, 'mip_focus': 0, 'cuts': 3, 'heuristics': 0.7614821348570244, 'presolve': 1, 'nanmean': False}. Best is trial 41 with value: 49.72916302638477.\n"
     ]
    },
    {
     "name": "stdout",
     "output_type": "stream",
     "text": [
      "Study saved to optuna_studies_stochastic/Queue25_Study.pkl\n",
      "Sleeping zZz  zZz  Zzz\n",
      "QueueSize: 25; ProblemNumber: 78\n",
      "file_path used:ProblemSets/Training_Queue25\n"
     ]
    },
    {
     "name": "stderr",
     "output_type": "stream",
     "text": [
      "[I 2024-11-22 01:00:18,237] Trial 190 finished with value: 11.627218934911243 and parameters: {'delta_start': 1029, 'mip_focus': 1, 'cuts': 2, 'heuristics': 0.8581536808168568, 'presolve': 2, 'nanmean': False}. Best is trial 41 with value: 49.72916302638477.\n"
     ]
    },
    {
     "name": "stdout",
     "output_type": "stream",
     "text": [
      "QueueSize: 25; ProblemNumber: 218\n",
      "file_path used:ProblemSets/Training_Queue25\n"
     ]
    },
    {
     "name": "stderr",
     "output_type": "stream",
     "text": [
      "[I 2024-11-22 01:02:29,745] Trial 191 finished with value: 27.042110603754438 and parameters: {'delta_start': 2963, 'mip_focus': 2, 'cuts': 3, 'heuristics': 0.890273524709113, 'presolve': 1, 'nanmean': True}. Best is trial 41 with value: 49.72916302638477.\n"
     ]
    },
    {
     "name": "stdout",
     "output_type": "stream",
     "text": [
      "Study saved to optuna_studies_stochastic/Queue25_Study.pkl\n",
      "Sleeping zZz  zZz  Zzz\n",
      "QueueSize: 75; ProblemNumber: 45\n",
      "file_path used:ProblemSets/Training_Queue75\n"
     ]
    },
    {
     "name": "stderr",
     "output_type": "stream",
     "text": [
      "[I 2024-11-22 01:07:22,518] Trial 94 finished with value: 14.974836197891939 and parameters: {'delta_start': 2551, 'mip_focus': 2, 'cuts': 2, 'heuristics': 0.5055354036962569, 'presolve': 0, 'nanmean': True}. Best is trial 39 with value: 19.897337741430313.\n"
     ]
    },
    {
     "name": "stdout",
     "output_type": "stream",
     "text": [
      "QueueSize: 75; ProblemNumber: 27\n",
      "file_path used:ProblemSets/Training_Queue75\n"
     ]
    },
    {
     "name": "stderr",
     "output_type": "stream",
     "text": [
      "[I 2024-11-22 01:11:54,739] Trial 95 finished with value: 17.622617649715473 and parameters: {'delta_start': 2837, 'mip_focus': 1, 'cuts': 2, 'heuristics': 0.5164028755626995, 'presolve': 1, 'nanmean': True}. Best is trial 39 with value: 19.897337741430313.\n"
     ]
    },
    {
     "name": "stdout",
     "output_type": "stream",
     "text": [
      "Study saved to optuna_studies_stochastic/Queue75_Study.pkl\n",
      "Sleeping zZz  zZz  Zzz\n",
      "QueueSize: 25; ProblemNumber: 73\n",
      "file_path used:ProblemSets/Training_Queue25\n"
     ]
    },
    {
     "name": "stderr",
     "output_type": "stream",
     "text": [
      "[I 2024-11-22 01:13:54,130] Trial 192 finished with value: 11.941008563273073 and parameters: {'delta_start': 1013, 'mip_focus': 0, 'cuts': 3, 'heuristics': 0.7719681801608486, 'presolve': 1, 'nanmean': False}. Best is trial 41 with value: 49.72916302638477.\n"
     ]
    },
    {
     "name": "stdout",
     "output_type": "stream",
     "text": [
      "QueueSize: 25; ProblemNumber: 282\n",
      "file_path used:ProblemSets/Training_Queue25\n"
     ]
    },
    {
     "name": "stderr",
     "output_type": "stream",
     "text": [
      "[I 2024-11-22 01:15:53,166] Trial 193 finished with value: 20.58159939834545 and parameters: {'delta_start': 1083, 'mip_focus': 1, 'cuts': 3, 'heuristics': 0.9888351332187033, 'presolve': 1, 'nanmean': True}. Best is trial 41 with value: 49.72916302638477.\n"
     ]
    },
    {
     "name": "stdout",
     "output_type": "stream",
     "text": [
      "Study saved to optuna_studies_stochastic/Queue25_Study.pkl\n",
      "Sleeping zZz  zZz  Zzz\n",
      "QueueSize: 25; ProblemNumber: 249\n",
      "file_path used:ProblemSets/Training_Queue25\n"
     ]
    },
    {
     "name": "stderr",
     "output_type": "stream",
     "text": [
      "[I 2024-11-22 01:18:03,885] Trial 194 finished with value: 12.969162995594713 and parameters: {'delta_start': 1086, 'mip_focus': 1, 'cuts': 2, 'heuristics': 0.977542583014869, 'presolve': 2, 'nanmean': True}. Best is trial 41 with value: 49.72916302638477.\n"
     ]
    },
    {
     "name": "stdout",
     "output_type": "stream",
     "text": [
      "QueueSize: 25; ProblemNumber: 47\n",
      "file_path used:ProblemSets/Training_Queue25\n"
     ]
    },
    {
     "name": "stderr",
     "output_type": "stream",
     "text": [
      "[I 2024-11-22 01:20:07,920] Trial 195 finished with value: 25.736339630306727 and parameters: {'delta_start': 673, 'mip_focus': 2, 'cuts': 2, 'heuristics': 0.8413153887558272, 'presolve': 2, 'nanmean': False}. Best is trial 41 with value: 49.72916302638477.\n"
     ]
    },
    {
     "name": "stdout",
     "output_type": "stream",
     "text": [
      "Study saved to optuna_studies_stochastic/Queue25_Study.pkl\n",
      "Sleeping zZz  zZz  Zzz\n",
      "QueueSize: 75; ProblemNumber: 86\n",
      "file_path used:ProblemSets/Training_Queue75\n"
     ]
    },
    {
     "name": "stderr",
     "output_type": "stream",
     "text": [
      "[I 2024-11-22 01:24:28,350] Trial 96 finished with value: 16.13028682547399 and parameters: {'delta_start': 2792, 'mip_focus': 1, 'cuts': 2, 'heuristics': 0.5373782101570684, 'presolve': 1, 'nanmean': True}. Best is trial 39 with value: 19.897337741430313.\n"
     ]
    },
    {
     "name": "stdout",
     "output_type": "stream",
     "text": [
      "QueueSize: 75; ProblemNumber: 56\n",
      "file_path used:ProblemSets/Training_Queue75\n"
     ]
    },
    {
     "name": "stderr",
     "output_type": "stream",
     "text": [
      "[I 2024-11-22 01:28:55,545] Trial 97 finished with value: 13.397169025811822 and parameters: {'delta_start': 2862, 'mip_focus': 0, 'cuts': 2, 'heuristics': 0.5345576766486708, 'presolve': 1, 'nanmean': True}. Best is trial 39 with value: 19.897337741430313.\n"
     ]
    },
    {
     "name": "stdout",
     "output_type": "stream",
     "text": [
      "Study saved to optuna_studies_stochastic/Queue75_Study.pkl\n",
      "Sleeping zZz  zZz  Zzz\n",
      "QueueSize: 25; ProblemNumber: 107\n",
      "file_path used:ProblemSets/Training_Queue25\n"
     ]
    },
    {
     "name": "stderr",
     "output_type": "stream",
     "text": [
      "[I 2024-11-22 01:30:33,418] Trial 196 finished with value: 15.211709357030841 and parameters: {'delta_start': 697, 'mip_focus': 2, 'cuts': 3, 'heuristics': 0.9749758337035386, 'presolve': 1, 'nanmean': False}. Best is trial 41 with value: 49.72916302638477.\n"
     ]
    },
    {
     "name": "stdout",
     "output_type": "stream",
     "text": [
      "QueueSize: 25; ProblemNumber: 48\n",
      "file_path used:ProblemSets/Training_Queue25\n"
     ]
    },
    {
     "name": "stderr",
     "output_type": "stream",
     "text": [
      "[I 2024-11-22 01:32:13,768] Trial 197 finished with value: 34.382737884683415 and parameters: {'delta_start': 916, 'mip_focus': 0, 'cuts': 3, 'heuristics': 0.7515007904281488, 'presolve': 0, 'nanmean': False}. Best is trial 41 with value: 49.72916302638477.\n"
     ]
    },
    {
     "name": "stdout",
     "output_type": "stream",
     "text": [
      "Study saved to optuna_studies_stochastic/Queue25_Study.pkl\n",
      "Sleeping zZz  zZz  Zzz\n",
      "QueueSize: 25; ProblemNumber: 61\n",
      "file_path used:ProblemSets/Training_Queue25\n"
     ]
    },
    {
     "name": "stderr",
     "output_type": "stream",
     "text": [
      "[I 2024-11-22 01:34:12,386] Trial 198 finished with value: 30.330739299610894 and parameters: {'delta_start': 1161, 'mip_focus': 0, 'cuts': 3, 'heuristics': 0.7526940842059002, 'presolve': 0, 'nanmean': False}. Best is trial 41 with value: 49.72916302638477.\n"
     ]
    },
    {
     "name": "stdout",
     "output_type": "stream",
     "text": [
      "QueueSize: 25; ProblemNumber: 26\n",
      "file_path used:ProblemSets/Training_Queue25\n"
     ]
    },
    {
     "name": "stderr",
     "output_type": "stream",
     "text": [
      "[I 2024-11-22 01:35:49,902] Trial 199 finished with value: 26.517341040462426 and parameters: {'delta_start': 686, 'mip_focus': 0, 'cuts': 3, 'heuristics': 0.7758005786433665, 'presolve': 0, 'nanmean': False}. Best is trial 41 with value: 49.72916302638477.\n"
     ]
    },
    {
     "name": "stdout",
     "output_type": "stream",
     "text": [
      "Study saved to optuna_studies_stochastic/Queue25_Study.pkl\n",
      "Sleeping zZz  zZz  Zzz\n",
      "QueueSize: 75; ProblemNumber: 36\n",
      "file_path used:ProblemSets/Training_Queue75\n"
     ]
    },
    {
     "name": "stderr",
     "output_type": "stream",
     "text": [
      "[I 2024-11-22 01:39:43,579] Trial 98 finished with value: 5.9026369168357 and parameters: {'delta_start': 2748, 'mip_focus': 0, 'cuts': 3, 'heuristics': 0.820948254996872, 'presolve': 0, 'nanmean': True}. Best is trial 39 with value: 19.897337741430313.\n"
     ]
    },
    {
     "name": "stdout",
     "output_type": "stream",
     "text": [
      "QueueSize: 75; ProblemNumber: 1\n",
      "file_path used:ProblemSets/Training_Queue75\n"
     ]
    },
    {
     "name": "stderr",
     "output_type": "stream",
     "text": [
      "[I 2024-11-22 01:44:08,584] Trial 99 finished with value: 9.29881120290147 and parameters: {'delta_start': 2823, 'mip_focus': 2, 'cuts': 2, 'heuristics': 0.5047925077527354, 'presolve': 1, 'nanmean': False}. Best is trial 39 with value: 19.897337741430313.\n"
     ]
    },
    {
     "name": "stdout",
     "output_type": "stream",
     "text": [
      "Study saved to optuna_studies_stochastic/Queue75_Study.pkl\n",
      "Sleeping zZz  zZz  Zzz\n",
      "QueueSize: 25; ProblemNumber: 8\n",
      "file_path used:ProblemSets/Training_Queue25\n"
     ]
    },
    {
     "name": "stderr",
     "output_type": "stream",
     "text": [
      "[I 2024-11-22 01:45:36,699] Trial 200 finished with value: 19.07514450867052 and parameters: {'delta_start': 662, 'mip_focus': 1, 'cuts': 2, 'heuristics': 0.8492239895592036, 'presolve': 2, 'nanmean': False}. Best is trial 41 with value: 49.72916302638477.\n"
     ]
    },
    {
     "name": "stdout",
     "output_type": "stream",
     "text": [
      "QueueSize: 25; ProblemNumber: 113\n",
      "file_path used:ProblemSets/Training_Queue25\n"
     ]
    },
    {
     "name": "stderr",
     "output_type": "stream",
     "text": [
      "[I 2024-11-22 01:47:04,478] Trial 201 finished with value: 27.489733059548254 and parameters: {'delta_start': 1202, 'mip_focus': 1, 'cuts': 3, 'heuristics': 0.8125555896358158, 'presolve': 0, 'nanmean': False}. Best is trial 41 with value: 49.72916302638477.\n"
     ]
    },
    {
     "name": "stdout",
     "output_type": "stream",
     "text": [
      "Study saved to optuna_studies_stochastic/Queue25_Study.pkl\n",
      "Sleeping zZz  zZz  Zzz\n",
      "QueueSize: 25; ProblemNumber: 253\n",
      "file_path used:ProblemSets/Training_Queue25\n"
     ]
    },
    {
     "name": "stderr",
     "output_type": "stream",
     "text": [
      "[I 2024-11-22 01:48:41,485] Trial 202 finished with value: 49.72916302638477 and parameters: {'delta_start': 691, 'mip_focus': 1, 'cuts': 3, 'heuristics': 0.6633372904059895, 'presolve': 0, 'nanmean': False}. Best is trial 41 with value: 49.72916302638477.\n"
     ]
    },
    {
     "name": "stdout",
     "output_type": "stream",
     "text": [
      "QueueSize: 25; ProblemNumber: 180\n",
      "file_path used:ProblemSets/Training_Queue25\n"
     ]
    },
    {
     "name": "stderr",
     "output_type": "stream",
     "text": [
      "[I 2024-11-22 01:50:29,765] Trial 203 finished with value: 17.48340990301174 and parameters: {'delta_start': 1286, 'mip_focus': 1, 'cuts': 3, 'heuristics': 0.6396708964732604, 'presolve': 0, 'nanmean': False}. Best is trial 41 with value: 49.72916302638477.\n"
     ]
    },
    {
     "name": "stdout",
     "output_type": "stream",
     "text": [
      "Study saved to optuna_studies_stochastic/Queue25_Study.pkl\n",
      "Sleeping zZz  zZz  Zzz\n",
      "QueueSize: 75; ProblemNumber: 79\n",
      "file_path used:ProblemSets/Training_Queue75\n"
     ]
    },
    {
     "name": "stderr",
     "output_type": "stream",
     "text": [
      "[I 2024-11-22 01:55:06,358] Trial 100 finished with value: 16.85450299522794 and parameters: {'delta_start': 2899, 'mip_focus': 1, 'cuts': 2, 'heuristics': 0.5008961008208338, 'presolve': 1, 'nanmean': True}. Best is trial 39 with value: 19.897337741430313.\n"
     ]
    },
    {
     "name": "stdout",
     "output_type": "stream",
     "text": [
      "QueueSize: 75; ProblemNumber: 47\n",
      "file_path used:ProblemSets/Training_Queue75\n"
     ]
    },
    {
     "name": "stderr",
     "output_type": "stream",
     "text": [
      "[I 2024-11-22 01:59:45,267] Trial 101 finished with value: 9.925433293027005 and parameters: {'delta_start': 2682, 'mip_focus': 0, 'cuts': 2, 'heuristics': 0.5853947076171492, 'presolve': 1, 'nanmean': False}. Best is trial 39 with value: 19.897337741430313.\n"
     ]
    },
    {
     "name": "stdout",
     "output_type": "stream",
     "text": [
      "Study saved to optuna_studies_stochastic/Queue75_Study.pkl\n",
      "Sleeping zZz  zZz  Zzz\n",
      "QueueSize: 25; ProblemNumber: 127\n",
      "file_path used:ProblemSets/Training_Queue25\n"
     ]
    },
    {
     "name": "stderr",
     "output_type": "stream",
     "text": [
      "[I 2024-11-22 02:01:33,508] Trial 204 finished with value: 20.2504213821334 and parameters: {'delta_start': 701, 'mip_focus': 1, 'cuts': 3, 'heuristics': 0.620906339240467, 'presolve': 1, 'nanmean': False}. Best is trial 41 with value: 49.72916302638477.\n"
     ]
    },
    {
     "name": "stdout",
     "output_type": "stream",
     "text": [
      "QueueSize: 25; ProblemNumber: 56\n",
      "file_path used:ProblemSets/Training_Queue25\n"
     ]
    },
    {
     "name": "stderr",
     "output_type": "stream",
     "text": [
      "[I 2024-11-22 02:03:21,520] Trial 205 finished with value: 19.293756397134086 and parameters: {'delta_start': 659, 'mip_focus': 2, 'cuts': 3, 'heuristics': 0.6751627940192433, 'presolve': 0, 'nanmean': False}. Best is trial 41 with value: 49.72916302638477.\n"
     ]
    },
    {
     "name": "stdout",
     "output_type": "stream",
     "text": [
      "Study saved to optuna_studies_stochastic/Queue25_Study.pkl\n",
      "Sleeping zZz  zZz  Zzz\n",
      "QueueSize: 25; ProblemNumber: 214\n",
      "file_path used:ProblemSets/Training_Queue25\n"
     ]
    },
    {
     "name": "stderr",
     "output_type": "stream",
     "text": [
      "[I 2024-11-22 02:04:59,172] Trial 206 finished with value: 15.363068304244775 and parameters: {'delta_start': 976, 'mip_focus': 1, 'cuts': 3, 'heuristics': 0.6137863460886162, 'presolve': 0, 'nanmean': False}. Best is trial 41 with value: 49.72916302638477.\n"
     ]
    },
    {
     "name": "stdout",
     "output_type": "stream",
     "text": [
      "QueueSize: 25; ProblemNumber: 14\n",
      "file_path used:ProblemSets/Training_Queue25\n"
     ]
    },
    {
     "name": "stderr",
     "output_type": "stream",
     "text": [
      "[I 2024-11-22 02:06:21,676] Trial 207 finished with value: 20.125313283208023 and parameters: {'delta_start': 940, 'mip_focus': 1, 'cuts': 3, 'heuristics': 0.7291385996596443, 'presolve': 0, 'nanmean': False}. Best is trial 41 with value: 49.72916302638477.\n"
     ]
    },
    {
     "name": "stdout",
     "output_type": "stream",
     "text": [
      "Study saved to optuna_studies_stochastic/Queue25_Study.pkl\n",
      "Sleeping zZz  zZz  Zzz\n",
      "QueueSize: 75; ProblemNumber: 90\n",
      "file_path used:ProblemSets/Training_Queue75\n"
     ]
    },
    {
     "name": "stderr",
     "output_type": "stream",
     "text": [
      "[I 2024-11-22 02:10:17,691] Trial 102 finished with value: 6.047430830039525 and parameters: {'delta_start': 2884, 'mip_focus': 1, 'cuts': 2, 'heuristics': 0.5260848500637709, 'presolve': 1, 'nanmean': True}. Best is trial 39 with value: 19.897337741430313.\n"
     ]
    },
    {
     "name": "stdout",
     "output_type": "stream",
     "text": [
      "QueueSize: 75; ProblemNumber: 28\n",
      "file_path used:ProblemSets/Training_Queue75\n"
     ]
    },
    {
     "name": "stderr",
     "output_type": "stream",
     "text": [
      "[I 2024-11-22 02:14:03,805] Trial 103 finished with value: 14.613814222524669 and parameters: {'delta_start': 2563, 'mip_focus': 3, 'cuts': 3, 'heuristics': 0.6663881272766128, 'presolve': 2, 'nanmean': True}. Best is trial 39 with value: 19.897337741430313.\n"
     ]
    },
    {
     "name": "stdout",
     "output_type": "stream",
     "text": [
      "Study saved to optuna_studies_stochastic/Queue75_Study.pkl\n",
      "Sleeping zZz  zZz  Zzz\n",
      "QueueSize: 25; ProblemNumber: 78\n",
      "file_path used:ProblemSets/Training_Queue25\n"
     ]
    },
    {
     "name": "stderr",
     "output_type": "stream",
     "text": [
      "[I 2024-11-22 02:15:30,624] Trial 208 finished with value: 12.337278106508876 and parameters: {'delta_start': 2831, 'mip_focus': 2, 'cuts': 2, 'heuristics': 0.8727628404840904, 'presolve': 1, 'nanmean': False}. Best is trial 41 with value: 49.72916302638477.\n"
     ]
    },
    {
     "name": "stdout",
     "output_type": "stream",
     "text": [
      "QueueSize: 25; ProblemNumber: 216\n",
      "file_path used:ProblemSets/Training_Queue25\n"
     ]
    },
    {
     "name": "stderr",
     "output_type": "stream",
     "text": [
      "[I 2024-11-22 02:16:57,266] Trial 209 finished with value: 28.86188941234813 and parameters: {'delta_start': 1013, 'mip_focus': 1, 'cuts': 3, 'heuristics': 0.8271682171113638, 'presolve': 1, 'nanmean': False}. Best is trial 41 with value: 49.72916302638477.\n"
     ]
    },
    {
     "name": "stdout",
     "output_type": "stream",
     "text": [
      "Study saved to optuna_studies_stochastic/Queue25_Study.pkl\n",
      "Sleeping zZz  zZz  Zzz\n",
      "QueueSize: 25; ProblemNumber: 154\n",
      "file_path used:ProblemSets/Training_Queue25\n"
     ]
    },
    {
     "name": "stderr",
     "output_type": "stream",
     "text": [
      "[I 2024-11-22 02:18:35,334] Trial 210 finished with value: 32.57439134355275 and parameters: {'delta_start': 1510, 'mip_focus': 1, 'cuts': 3, 'heuristics': 0.824646298169354, 'presolve': 0, 'nanmean': True}. Best is trial 41 with value: 49.72916302638477.\n"
     ]
    },
    {
     "name": "stdout",
     "output_type": "stream",
     "text": [
      "QueueSize: 25; ProblemNumber: 14\n",
      "file_path used:ProblemSets/Training_Queue25\n"
     ]
    },
    {
     "name": "stderr",
     "output_type": "stream",
     "text": [
      "[I 2024-11-22 02:19:56,351] Trial 211 finished with value: 19.674185463659146 and parameters: {'delta_start': 812, 'mip_focus': 1, 'cuts': 2, 'heuristics': 0.6095049505939295, 'presolve': 0, 'nanmean': False}. Best is trial 41 with value: 49.72916302638477.\n"
     ]
    },
    {
     "name": "stdout",
     "output_type": "stream",
     "text": [
      "Study saved to optuna_studies_stochastic/Queue25_Study.pkl\n",
      "Sleeping zZz  zZz  Zzz\n",
      "QueueSize: 75; ProblemNumber: 59\n",
      "file_path used:ProblemSets/Training_Queue75\n"
     ]
    },
    {
     "name": "stderr",
     "output_type": "stream",
     "text": [
      "[I 2024-11-22 02:23:54,356] Trial 104 finished with value: 3.7894518272425253 and parameters: {'delta_start': 2969, 'mip_focus': 2, 'cuts': 2, 'heuristics': 0.5120756709022638, 'presolve': 1, 'nanmean': True}. Best is trial 39 with value: 19.897337741430313.\n"
     ]
    },
    {
     "name": "stdout",
     "output_type": "stream",
     "text": [
      "QueueSize: 75; ProblemNumber: 56\n",
      "file_path used:ProblemSets/Training_Queue75\n"
     ]
    },
    {
     "name": "stderr",
     "output_type": "stream",
     "text": [
      "[I 2024-11-22 02:28:22,107] Trial 105 finished with value: 17.09408825978351 and parameters: {'delta_start': 2946, 'mip_focus': 1, 'cuts': 2, 'heuristics': 0.6242859594835426, 'presolve': 1, 'nanmean': True}. Best is trial 39 with value: 19.897337741430313.\n"
     ]
    },
    {
     "name": "stdout",
     "output_type": "stream",
     "text": [
      "Study saved to optuna_studies_stochastic/Queue75_Study.pkl\n",
      "Sleeping zZz  zZz  Zzz\n",
      "QueueSize: 25; ProblemNumber: 7\n",
      "file_path used:ProblemSets/Training_Queue25\n"
     ]
    },
    {
     "name": "stderr",
     "output_type": "stream",
     "text": [
      "[I 2024-11-22 02:29:37,727] Trial 212 finished with value: 10.250297973778308 and parameters: {'delta_start': 1628, 'mip_focus': 1, 'cuts': 3, 'heuristics': 0.8274735163724967, 'presolve': 0, 'nanmean': True}. Best is trial 41 with value: 49.72916302638477.\n"
     ]
    },
    {
     "name": "stdout",
     "output_type": "stream",
     "text": [
      "QueueSize: 25; ProblemNumber: 3\n",
      "file_path used:ProblemSets/Training_Queue25\n"
     ]
    },
    {
     "name": "stderr",
     "output_type": "stream",
     "text": [
      "[I 2024-11-22 02:31:35,109] Trial 213 finished with value: 11.86856302108877 and parameters: {'delta_start': 1355, 'mip_focus': 1, 'cuts': 3, 'heuristics': 0.8548748080809241, 'presolve': 0, 'nanmean': True}. Best is trial 41 with value: 49.72916302638477.\n"
     ]
    },
    {
     "name": "stdout",
     "output_type": "stream",
     "text": [
      "Study saved to optuna_studies_stochastic/Queue25_Study.pkl\n",
      "Sleeping zZz  zZz  Zzz\n",
      "QueueSize: 25; ProblemNumber: 111\n",
      "file_path used:ProblemSets/Training_Queue25\n"
     ]
    },
    {
     "name": "stderr",
     "output_type": "stream",
     "text": [
      "[I 2024-11-22 02:33:07,732] Trial 214 finished with value: 16.78090886011678 and parameters: {'delta_start': 1773, 'mip_focus': 2, 'cuts': 3, 'heuristics': 0.7532222535272827, 'presolve': 0, 'nanmean': True}. Best is trial 41 with value: 49.72916302638477.\n"
     ]
    },
    {
     "name": "stdout",
     "output_type": "stream",
     "text": [
      "QueueSize: 25; ProblemNumber: 238\n",
      "file_path used:ProblemSets/Training_Queue25\n"
     ]
    },
    {
     "name": "stderr",
     "output_type": "stream",
     "text": [
      "[I 2024-11-22 02:34:33,958] Trial 215 finished with value: 33.549316054715625 and parameters: {'delta_start': 2167, 'mip_focus': 3, 'cuts': 3, 'heuristics': 0.8528261142081238, 'presolve': 1, 'nanmean': False}. Best is trial 41 with value: 49.72916302638477.\n"
     ]
    },
    {
     "name": "stdout",
     "output_type": "stream",
     "text": [
      "Study saved to optuna_studies_stochastic/Queue25_Study.pkl\n",
      "Sleeping zZz  zZz  Zzz\n",
      "QueueSize: 75; ProblemNumber: 18\n",
      "file_path used:ProblemSets/Training_Queue75\n"
     ]
    },
    {
     "name": "stderr",
     "output_type": "stream",
     "text": [
      "[I 2024-11-22 02:38:33,445] Trial 106 finished with value: 4.015428740975175 and parameters: {'delta_start': 2929, 'mip_focus': 1, 'cuts': 2, 'heuristics': 0.6355832059992812, 'presolve': 1, 'nanmean': True}. Best is trial 39 with value: 19.897337741430313.\n"
     ]
    },
    {
     "name": "stdout",
     "output_type": "stream",
     "text": [
      "QueueSize: 75; ProblemNumber: 38\n",
      "file_path used:ProblemSets/Training_Queue75\n"
     ]
    },
    {
     "name": "stderr",
     "output_type": "stream",
     "text": [
      "[I 2024-11-22 02:41:49,561] Trial 107 finished with value: 11.429798196650923 and parameters: {'delta_start': 2968, 'mip_focus': 1, 'cuts': 2, 'heuristics': 0.6112075311271126, 'presolve': 1, 'nanmean': True}. Best is trial 39 with value: 19.897337741430313.\n"
     ]
    },
    {
     "name": "stdout",
     "output_type": "stream",
     "text": [
      "Study saved to optuna_studies_stochastic/Queue75_Study.pkl\n",
      "Sleeping zZz  zZz  Zzz\n",
      "QueueSize: 25; ProblemNumber: 227\n",
      "file_path used:ProblemSets/Training_Queue25\n"
     ]
    },
    {
     "name": "stderr",
     "output_type": "stream",
     "text": [
      "[I 2024-11-22 02:43:40,781] Trial 216 finished with value: 28.36738742313033 and parameters: {'delta_start': 2034, 'mip_focus': 3, 'cuts': 3, 'heuristics': 0.8212839087122219, 'presolve': 1, 'nanmean': False}. Best is trial 41 with value: 49.72916302638477.\n"
     ]
    },
    {
     "name": "stdout",
     "output_type": "stream",
     "text": [
      "QueueSize: 25; ProblemNumber: 15\n",
      "file_path used:ProblemSets/Training_Queue25\n"
     ]
    },
    {
     "name": "stderr",
     "output_type": "stream",
     "text": [
      "[I 2024-11-22 02:45:06,453] Trial 217 finished with value: 13.886264878140942 and parameters: {'delta_start': 2204, 'mip_focus': 3, 'cuts': 3, 'heuristics': 0.7413877549883913, 'presolve': 1, 'nanmean': False}. Best is trial 41 with value: 49.72916302638477.\n"
     ]
    },
    {
     "name": "stdout",
     "output_type": "stream",
     "text": [
      "Study saved to optuna_studies_stochastic/Queue25_Study.pkl\n",
      "Sleeping zZz  zZz  Zzz\n",
      "QueueSize: 25; ProblemNumber: 192\n",
      "file_path used:ProblemSets/Training_Queue25\n"
     ]
    },
    {
     "name": "stderr",
     "output_type": "stream",
     "text": [
      "[I 2024-11-22 02:47:15,791] Trial 218 finished with value: 12.426666666666666 and parameters: {'delta_start': 741, 'mip_focus': 0, 'cuts': 3, 'heuristics': 0.8091698174877298, 'presolve': 1, 'nanmean': False}. Best is trial 41 with value: 49.72916302638477.\n"
     ]
    },
    {
     "name": "stdout",
     "output_type": "stream",
     "text": [
      "QueueSize: 25; ProblemNumber: 119\n",
      "file_path used:ProblemSets/Training_Queue25\n"
     ]
    },
    {
     "name": "stderr",
     "output_type": "stream",
     "text": [
      "[I 2024-11-22 02:49:01,760] Trial 219 finished with value: 15.896614821591948 and parameters: {'delta_start': 1613, 'mip_focus': 1, 'cuts': 3, 'heuristics': 0.7969712764489759, 'presolve': 0, 'nanmean': True}. Best is trial 41 with value: 49.72916302638477.\n"
     ]
    },
    {
     "name": "stdout",
     "output_type": "stream",
     "text": [
      "Study saved to optuna_studies_stochastic/Queue25_Study.pkl\n",
      "Sleeping zZz  zZz  Zzz\n",
      "QueueSize: 75; ProblemNumber: 28\n",
      "file_path used:ProblemSets/Training_Queue75\n"
     ]
    },
    {
     "name": "stderr",
     "output_type": "stream",
     "text": [
      "[I 2024-11-22 02:52:46,525] Trial 108 finished with value: 11.143246002041511 and parameters: {'delta_start': 2971, 'mip_focus': 2, 'cuts': 3, 'heuristics': 0.7879323679703221, 'presolve': 2, 'nanmean': False}. Best is trial 39 with value: 19.897337741430313.\n"
     ]
    },
    {
     "name": "stdout",
     "output_type": "stream",
     "text": [
      "QueueSize: 75; ProblemNumber: 74\n",
      "file_path used:ProblemSets/Training_Queue75\n"
     ]
    },
    {
     "name": "stderr",
     "output_type": "stream",
     "text": [
      "[I 2024-11-22 02:57:03,994] Trial 109 finished with value: 5.953062392673154 and parameters: {'delta_start': 2905, 'mip_focus': 1, 'cuts': 2, 'heuristics': 0.5030532809997507, 'presolve': 1, 'nanmean': True}. Best is trial 39 with value: 19.897337741430313.\n"
     ]
    },
    {
     "name": "stdout",
     "output_type": "stream",
     "text": [
      "Study saved to optuna_studies_stochastic/Queue75_Study.pkl\n",
      "Sleeping zZz  zZz  Zzz\n",
      "QueueSize: 25; ProblemNumber: 39\n",
      "file_path used:ProblemSets/Training_Queue25\n"
     ]
    },
    {
     "name": "stderr",
     "output_type": "stream",
     "text": [
      "[I 2024-11-22 02:58:30,579] Trial 220 finished with value: 27.102991367195344 and parameters: {'delta_start': 2197, 'mip_focus': 3, 'cuts': 3, 'heuristics': 0.8537608209328656, 'presolve': 1, 'nanmean': False}. Best is trial 41 with value: 49.72916302638477.\n"
     ]
    },
    {
     "name": "stdout",
     "output_type": "stream",
     "text": [
      "QueueSize: 25; ProblemNumber: 273\n",
      "file_path used:ProblemSets/Training_Queue25\n"
     ]
    },
    {
     "name": "stderr",
     "output_type": "stream",
     "text": [
      "[I 2024-11-22 03:00:18,242] Trial 221 finished with value: 32.25371120107962 and parameters: {'delta_start': 1663, 'mip_focus': 3, 'cuts': 2, 'heuristics': 0.5183910252484781, 'presolve': 1, 'nanmean': False}. Best is trial 41 with value: 49.72916302638477.\n"
     ]
    },
    {
     "name": "stdout",
     "output_type": "stream",
     "text": [
      "Study saved to optuna_studies_stochastic/Queue25_Study.pkl\n",
      "Sleeping zZz  zZz  Zzz\n",
      "QueueSize: 25; ProblemNumber: 231\n",
      "file_path used:ProblemSets/Training_Queue25\n"
     ]
    },
    {
     "name": "stderr",
     "output_type": "stream",
     "text": [
      "[I 2024-11-22 03:02:07,140] Trial 222 finished with value: 23.377148634984835 and parameters: {'delta_start': 1583, 'mip_focus': 3, 'cuts': 2, 'heuristics': 0.5806797634359064, 'presolve': 1, 'nanmean': False}. Best is trial 41 with value: 49.72916302638477.\n"
     ]
    },
    {
     "name": "stdout",
     "output_type": "stream",
     "text": [
      "QueueSize: 25; ProblemNumber: 86\n",
      "file_path used:ProblemSets/Training_Queue25\n"
     ]
    },
    {
     "name": "stderr",
     "output_type": "stream",
     "text": [
      "[I 2024-11-22 03:03:46,039] Trial 223 finished with value: 31.814291827128798 and parameters: {'delta_start': 2091, 'mip_focus': 3, 'cuts': 2, 'heuristics': 0.5523234674819001, 'presolve': 0, 'nanmean': False}. Best is trial 41 with value: 49.72916302638477.\n"
     ]
    },
    {
     "name": "stdout",
     "output_type": "stream",
     "text": [
      "Study saved to optuna_studies_stochastic/Queue25_Study.pkl\n",
      "Sleeping zZz  zZz  Zzz\n",
      "QueueSize: 75; ProblemNumber: 90\n",
      "file_path used:ProblemSets/Training_Queue75\n"
     ]
    },
    {
     "name": "stderr",
     "output_type": "stream",
     "text": [
      "[I 2024-11-22 03:07:41,930] Trial 110 finished with value: 7.944664031620554 and parameters: {'delta_start': 2998, 'mip_focus': 1, 'cuts': 2, 'heuristics': 0.861756542339373, 'presolve': 1, 'nanmean': False}. Best is trial 39 with value: 19.897337741430313.\n"
     ]
    },
    {
     "name": "stdout",
     "output_type": "stream",
     "text": [
      "QueueSize: 75; ProblemNumber: 44\n",
      "file_path used:ProblemSets/Training_Queue75\n"
     ]
    },
    {
     "name": "stderr",
     "output_type": "stream",
     "text": [
      "[I 2024-11-22 03:11:39,326] Trial 111 finished with value: 15.643406209443944 and parameters: {'delta_start': 2998, 'mip_focus': 0, 'cuts': 2, 'heuristics': 0.5588932724050643, 'presolve': 2, 'nanmean': True}. Best is trial 39 with value: 19.897337741430313.\n"
     ]
    },
    {
     "name": "stdout",
     "output_type": "stream",
     "text": [
      "Study saved to optuna_studies_stochastic/Queue75_Study.pkl\n",
      "Sleeping zZz  zZz  Zzz\n",
      "QueueSize: 25; ProblemNumber: 25\n",
      "file_path used:ProblemSets/Training_Queue25\n"
     ]
    },
    {
     "name": "stderr",
     "output_type": "stream",
     "text": [
      "[I 2024-11-22 03:13:16,049] Trial 224 finished with value: 21.250825809293108 and parameters: {'delta_start': 2522, 'mip_focus': 3, 'cuts': 2, 'heuristics': 0.549474932684719, 'presolve': 0, 'nanmean': False}. Best is trial 41 with value: 49.72916302638477.\n"
     ]
    },
    {
     "name": "stdout",
     "output_type": "stream",
     "text": [
      "QueueSize: 25; ProblemNumber: 145\n",
      "file_path used:ProblemSets/Training_Queue25\n"
     ]
    },
    {
     "name": "stderr",
     "output_type": "stream",
     "text": [
      "[I 2024-11-22 03:14:44,192] Trial 225 finished with value: 22.539893617021274 and parameters: {'delta_start': 1755, 'mip_focus': 3, 'cuts': 2, 'heuristics': 0.523513157094435, 'presolve': 0, 'nanmean': False}. Best is trial 41 with value: 49.72916302638477.\n"
     ]
    },
    {
     "name": "stdout",
     "output_type": "stream",
     "text": [
      "Study saved to optuna_studies_stochastic/Queue25_Study.pkl\n",
      "Sleeping zZz  zZz  Zzz\n",
      "QueueSize: 25; ProblemNumber: 13\n",
      "file_path used:ProblemSets/Training_Queue25\n"
     ]
    },
    {
     "name": "stderr",
     "output_type": "stream",
     "text": [
      "[I 2024-11-22 03:16:26,604] Trial 226 finished with value: 21.009134406263595 and parameters: {'delta_start': 2301, 'mip_focus': 2, 'cuts': 2, 'heuristics': 0.5929740191234554, 'presolve': 0, 'nanmean': False}. Best is trial 41 with value: 49.72916302638477.\n"
     ]
    },
    {
     "name": "stdout",
     "output_type": "stream",
     "text": [
      "QueueSize: 25; ProblemNumber: 212\n",
      "file_path used:ProblemSets/Training_Queue25\n"
     ]
    },
    {
     "name": "stderr",
     "output_type": "stream",
     "text": [
      "[I 2024-11-22 03:18:03,284] Trial 227 finished with value: 37.21348314606742 and parameters: {'delta_start': 2160, 'mip_focus': 3, 'cuts': 2, 'heuristics': 0.6060015138300722, 'presolve': 1, 'nanmean': False}. Best is trial 41 with value: 49.72916302638477.\n"
     ]
    },
    {
     "name": "stdout",
     "output_type": "stream",
     "text": [
      "Study saved to optuna_studies_stochastic/Queue25_Study.pkl\n",
      "Sleeping zZz  zZz  Zzz\n",
      "QueueSize: 75; ProblemNumber: 25\n",
      "file_path used:ProblemSets/Training_Queue75\n"
     ]
    },
    {
     "name": "stderr",
     "output_type": "stream",
     "text": [
      "[I 2024-11-22 03:22:33,730] Trial 112 finished with value: 14.542011362503738 and parameters: {'delta_start': 2648, 'mip_focus': 3, 'cuts': 2, 'heuristics': 0.983844458888705, 'presolve': 0, 'nanmean': True}. Best is trial 39 with value: 19.897337741430313.\n"
     ]
    },
    {
     "name": "stdout",
     "output_type": "stream",
     "text": [
      "QueueSize: 75; ProblemNumber: 68\n",
      "file_path used:ProblemSets/Training_Queue75\n"
     ]
    },
    {
     "name": "stderr",
     "output_type": "stream",
     "text": [
      "[I 2024-11-22 03:27:12,875] Trial 113 finished with value: 16.788856304985337 and parameters: {'delta_start': 2839, 'mip_focus': 0, 'cuts': 2, 'heuristics': 0.7577774658544086, 'presolve': 0, 'nanmean': False}. Best is trial 39 with value: 19.897337741430313.\n"
     ]
    },
    {
     "name": "stdout",
     "output_type": "stream",
     "text": [
      "Study saved to optuna_studies_stochastic/Queue75_Study.pkl\n",
      "Sleeping zZz  zZz  Zzz\n",
      "QueueSize: 25; ProblemNumber: 67\n",
      "file_path used:ProblemSets/Training_Queue25\n"
     ]
    },
    {
     "name": "stderr",
     "output_type": "stream",
     "text": [
      "[I 2024-11-22 03:29:01,399] Trial 228 finished with value: 22.77507053090536 and parameters: {'delta_start': 2369, 'mip_focus': 3, 'cuts': 2, 'heuristics': 0.5412257073331375, 'presolve': 1, 'nanmean': False}. Best is trial 41 with value: 49.72916302638477.\n"
     ]
    },
    {
     "name": "stdout",
     "output_type": "stream",
     "text": [
      "QueueSize: 25; ProblemNumber: 233\n",
      "file_path used:ProblemSets/Training_Queue25\n"
     ]
    },
    {
     "name": "stderr",
     "output_type": "stream",
     "text": [
      "[I 2024-11-22 03:31:00,525] Trial 229 finished with value: 15.575136937366041 and parameters: {'delta_start': 1887, 'mip_focus': 3, 'cuts': 2, 'heuristics': 0.5947315117129294, 'presolve': 1, 'nanmean': False}. Best is trial 41 with value: 49.72916302638477.\n"
     ]
    },
    {
     "name": "stdout",
     "output_type": "stream",
     "text": [
      "Study saved to optuna_studies_stochastic/Queue25_Study.pkl\n",
      "Sleeping zZz  zZz  Zzz\n",
      "QueueSize: 25; ProblemNumber: 109\n",
      "file_path used:ProblemSets/Training_Queue25\n"
     ]
    },
    {
     "name": "stderr",
     "output_type": "stream",
     "text": [
      "[I 2024-11-22 03:32:28,757] Trial 230 finished with value: 14.268983017763029 and parameters: {'delta_start': 2124, 'mip_focus': 3, 'cuts': 2, 'heuristics': 0.652835555821197, 'presolve': 1, 'nanmean': False}. Best is trial 41 with value: 49.72916302638477.\n"
     ]
    },
    {
     "name": "stdout",
     "output_type": "stream",
     "text": [
      "QueueSize: 25; ProblemNumber: 146\n",
      "file_path used:ProblemSets/Training_Queue25\n"
     ]
    },
    {
     "name": "stderr",
     "output_type": "stream",
     "text": [
      "[I 2024-11-22 03:33:46,354] Trial 231 finished with value: 36.71303937750531 and parameters: {'delta_start': 1298, 'mip_focus': 3, 'cuts': 2, 'heuristics': 0.5128978291597938, 'presolve': 1, 'nanmean': False}. Best is trial 41 with value: 49.72916302638477.\n"
     ]
    },
    {
     "name": "stdout",
     "output_type": "stream",
     "text": [
      "Study saved to optuna_studies_stochastic/Queue25_Study.pkl\n",
      "Sleeping zZz  zZz  Zzz\n",
      "QueueSize: 75; ProblemNumber: 86\n",
      "file_path used:ProblemSets/Training_Queue75\n"
     ]
    },
    {
     "name": "stderr",
     "output_type": "stream",
     "text": [
      "[I 2024-11-22 03:38:04,614] Trial 114 finished with value: 17.11229946524064 and parameters: {'delta_start': 2979, 'mip_focus': 0, 'cuts': 2, 'heuristics': 0.7386411211594494, 'presolve': 1, 'nanmean': True}. Best is trial 39 with value: 19.897337741430313.\n"
     ]
    },
    {
     "name": "stdout",
     "output_type": "stream",
     "text": [
      "QueueSize: 75; ProblemNumber: 34\n",
      "file_path used:ProblemSets/Training_Queue75\n"
     ]
    },
    {
     "name": "stderr",
     "output_type": "stream",
     "text": [
      "[I 2024-11-22 03:42:02,638] Trial 115 finished with value: 5.179423722821283 and parameters: {'delta_start': 2979, 'mip_focus': 0, 'cuts': 2, 'heuristics': 0.8467023924630475, 'presolve': 1, 'nanmean': True}. Best is trial 39 with value: 19.897337741430313.\n"
     ]
    },
    {
     "name": "stdout",
     "output_type": "stream",
     "text": [
      "Study saved to optuna_studies_stochastic/Queue75_Study.pkl\n",
      "Sleeping zZz  zZz  Zzz\n",
      "QueueSize: 25; ProblemNumber: 111\n",
      "file_path used:ProblemSets/Training_Queue25\n"
     ]
    },
    {
     "name": "stderr",
     "output_type": "stream",
     "text": [
      "[I 2024-11-22 03:43:30,867] Trial 232 finished with value: 16.425488702716425 and parameters: {'delta_start': 1070, 'mip_focus': 3, 'cuts': 2, 'heuristics': 0.608391356986791, 'presolve': 1, 'nanmean': False}. Best is trial 41 with value: 49.72916302638477.\n"
     ]
    },
    {
     "name": "stdout",
     "output_type": "stream",
     "text": [
      "QueueSize: 25; ProblemNumber: 264\n",
      "file_path used:ProblemSets/Training_Queue25\n"
     ]
    },
    {
     "name": "stderr",
     "output_type": "stream",
     "text": [
      "[I 2024-11-22 03:45:17,854] Trial 233 finished with value: 18.8212927756654 and parameters: {'delta_start': 2169, 'mip_focus': 2, 'cuts': 2, 'heuristics': 0.9508621081785588, 'presolve': 0, 'nanmean': False}. Best is trial 41 with value: 49.72916302638477.\n"
     ]
    },
    {
     "name": "stdout",
     "output_type": "stream",
     "text": [
      "Study saved to optuna_studies_stochastic/Queue25_Study.pkl\n",
      "Sleeping zZz  zZz  Zzz\n",
      "QueueSize: 25; ProblemNumber: 236\n",
      "file_path used:ProblemSets/Training_Queue25\n"
     ]
    },
    {
     "name": "stderr",
     "output_type": "stream",
     "text": [
      "[I 2024-11-22 03:47:09,167] Trial 234 finished with value: 24.767042667974497 and parameters: {'delta_start': 2116, 'mip_focus': 3, 'cuts': 2, 'heuristics': 0.5870085286601772, 'presolve': 2, 'nanmean': False}. Best is trial 41 with value: 49.72916302638477.\n"
     ]
    },
    {
     "name": "stdout",
     "output_type": "stream",
     "text": [
      "QueueSize: 25; ProblemNumber: 83\n",
      "file_path used:ProblemSets/Training_Queue25\n"
     ]
    },
    {
     "name": "stderr",
     "output_type": "stream",
     "text": [
      "[I 2024-11-22 03:48:25,257] Trial 235 finished with value: 36.38240759859591 and parameters: {'delta_start': 1228, 'mip_focus': 3, 'cuts': 2, 'heuristics': 0.5031013255316927, 'presolve': 1, 'nanmean': False}. Best is trial 41 with value: 49.72916302638477.\n"
     ]
    },
    {
     "name": "stdout",
     "output_type": "stream",
     "text": [
      "Study saved to optuna_studies_stochastic/Queue25_Study.pkl\n",
      "Sleeping zZz  zZz  Zzz\n",
      "QueueSize: 75; ProblemNumber: 42\n",
      "file_path used:ProblemSets/Training_Queue75\n"
     ]
    },
    {
     "name": "stderr",
     "output_type": "stream",
     "text": [
      "[I 2024-11-22 03:53:32,261] Trial 116 finished with value: 2.903015028470083 and parameters: {'delta_start': 2859, 'mip_focus': 0, 'cuts': 2, 'heuristics': 0.8101910538359954, 'presolve': 0, 'nanmean': False}. Best is trial 39 with value: 19.897337741430313.\n"
     ]
    },
    {
     "name": "stdout",
     "output_type": "stream",
     "text": [
      "QueueSize: 75; ProblemNumber: 41\n",
      "file_path used:ProblemSets/Training_Queue75\n"
     ]
    },
    {
     "name": "stderr",
     "output_type": "stream",
     "text": [
      "[I 2024-11-22 03:57:38,451] Trial 117 finished with value: 11.448576024221781 and parameters: {'delta_start': 2778, 'mip_focus': 0, 'cuts': 2, 'heuristics': 0.75606508163457, 'presolve': 0, 'nanmean': False}. Best is trial 39 with value: 19.897337741430313.\n"
     ]
    },
    {
     "name": "stdout",
     "output_type": "stream",
     "text": [
      "Study saved to optuna_studies_stochastic/Queue75_Study.pkl\n",
      "Sleeping zZz  zZz  Zzz\n",
      "QueueSize: 25; ProblemNumber: 101\n",
      "file_path used:ProblemSets/Training_Queue25\n"
     ]
    },
    {
     "name": "stderr",
     "output_type": "stream",
     "text": [
      "[I 2024-11-22 03:59:24,666] Trial 236 finished with value: 16.54261257908448 and parameters: {'delta_start': 1000, 'mip_focus': 3, 'cuts': 2, 'heuristics': 0.5125281937943382, 'presolve': 1, 'nanmean': False}. Best is trial 41 with value: 49.72916302638477.\n"
     ]
    },
    {
     "name": "stdout",
     "output_type": "stream",
     "text": [
      "QueueSize: 25; ProblemNumber: 6\n",
      "file_path used:ProblemSets/Training_Queue25\n"
     ]
    },
    {
     "name": "stderr",
     "output_type": "stream",
     "text": [
      "[I 2024-11-22 04:01:03,944] Trial 237 finished with value: 28.62914085645031 and parameters: {'delta_start': 1035, 'mip_focus': 2, 'cuts': 2, 'heuristics': 0.5334367211299359, 'presolve': 1, 'nanmean': False}. Best is trial 41 with value: 49.72916302638477.\n"
     ]
    },
    {
     "name": "stdout",
     "output_type": "stream",
     "text": [
      "Study saved to optuna_studies_stochastic/Queue25_Study.pkl\n",
      "Sleeping zZz  zZz  Zzz\n",
      "QueueSize: 25; ProblemNumber: 180\n",
      "file_path used:ProblemSets/Training_Queue25\n"
     ]
    },
    {
     "name": "stderr",
     "output_type": "stream",
     "text": [
      "[I 2024-11-22 04:02:52,328] Trial 238 finished with value: 15.645737621235325 and parameters: {'delta_start': 1314, 'mip_focus': 3, 'cuts': 2, 'heuristics': 0.5612515039267707, 'presolve': 1, 'nanmean': False}. Best is trial 41 with value: 49.72916302638477.\n"
     ]
    },
    {
     "name": "stdout",
     "output_type": "stream",
     "text": [
      "QueueSize: 25; ProblemNumber: 282\n",
      "file_path used:ProblemSets/Training_Queue25\n"
     ]
    },
    {
     "name": "stderr",
     "output_type": "stream",
     "text": [
      "[I 2024-11-22 04:04:43,859] Trial 239 finished with value: 20.882426673351716 and parameters: {'delta_start': 1055, 'mip_focus': 3, 'cuts': 2, 'heuristics': 0.503441919401539, 'presolve': 1, 'nanmean': False}. Best is trial 41 with value: 49.72916302638477.\n"
     ]
    },
    {
     "name": "stdout",
     "output_type": "stream",
     "text": [
      "Study saved to optuna_studies_stochastic/Queue25_Study.pkl\n",
      "Sleeping zZz  zZz  Zzz\n",
      "QueueSize: 75; ProblemNumber: 64\n",
      "file_path used:ProblemSets/Training_Queue75\n"
     ]
    },
    {
     "name": "stderr",
     "output_type": "stream",
     "text": [
      "[I 2024-11-22 04:09:41,304] Trial 118 finished with value: 6.885850063039473 and parameters: {'delta_start': 2617, 'mip_focus': 1, 'cuts': 3, 'heuristics': 0.6941794686404847, 'presolve': 2, 'nanmean': False}. Best is trial 39 with value: 19.897337741430313.\n"
     ]
    },
    {
     "name": "stdout",
     "output_type": "stream",
     "text": [
      "QueueSize: 75; ProblemNumber: 98\n",
      "file_path used:ProblemSets/Training_Queue75\n"
     ]
    },
    {
     "name": "stderr",
     "output_type": "stream",
     "text": [
      "[I 2024-11-22 04:14:45,511] Trial 119 finished with value: 9.887869520897045 and parameters: {'delta_start': 2946, 'mip_focus': 1, 'cuts': 2, 'heuristics': 0.8132170768797273, 'presolve': 1, 'nanmean': True}. Best is trial 39 with value: 19.897337741430313.\n"
     ]
    },
    {
     "name": "stdout",
     "output_type": "stream",
     "text": [
      "Study saved to optuna_studies_stochastic/Queue75_Study.pkl\n",
      "Sleeping zZz  zZz  Zzz\n",
      "QueueSize: 25; ProblemNumber: 229\n",
      "file_path used:ProblemSets/Training_Queue25\n"
     ]
    },
    {
     "name": "stderr",
     "output_type": "stream",
     "text": [
      "[I 2024-11-22 04:16:22,547] Trial 240 finished with value: 17.84221525600836 and parameters: {'delta_start': 1660, 'mip_focus': 2, 'cuts': 2, 'heuristics': 0.5433588334143583, 'presolve': 2, 'nanmean': False}. Best is trial 41 with value: 49.72916302638477.\n"
     ]
    },
    {
     "name": "stdout",
     "output_type": "stream",
     "text": [
      "QueueSize: 25; ProblemNumber: 289\n",
      "file_path used:ProblemSets/Training_Queue25\n"
     ]
    },
    {
     "name": "stderr",
     "output_type": "stream",
     "text": [
      "[I 2024-11-22 04:18:11,087] Trial 241 finished with value: 16.566806470940683 and parameters: {'delta_start': 1235, 'mip_focus': 3, 'cuts': 2, 'heuristics': 0.5735664376147657, 'presolve': 2, 'nanmean': False}. Best is trial 41 with value: 49.72916302638477.\n"
     ]
    },
    {
     "name": "stdout",
     "output_type": "stream",
     "text": [
      "Study saved to optuna_studies_stochastic/Queue25_Study.pkl\n",
      "Sleeping zZz  zZz  Zzz\n",
      "QueueSize: 25; ProblemNumber: 150\n",
      "file_path used:ProblemSets/Training_Queue25\n"
     ]
    },
    {
     "name": "stderr",
     "output_type": "stream",
     "text": [
      "[I 2024-11-22 04:19:38,647] Trial 242 finished with value: 18.46477884390358 and parameters: {'delta_start': 1464, 'mip_focus': 2, 'cuts': 2, 'heuristics': 0.5507058276051039, 'presolve': 0, 'nanmean': False}. Best is trial 41 with value: 49.72916302638477.\n"
     ]
    },
    {
     "name": "stdout",
     "output_type": "stream",
     "text": [
      "QueueSize: 25; ProblemNumber: 277\n",
      "file_path used:ProblemSets/Training_Queue25\n"
     ]
    },
    {
     "name": "stderr",
     "output_type": "stream",
     "text": [
      "[I 2024-11-22 04:20:57,016] Trial 243 finished with value: 18.34797891036907 and parameters: {'delta_start': 1604, 'mip_focus': 2, 'cuts': 2, 'heuristics': 0.5637740089831628, 'presolve': 1, 'nanmean': False}. Best is trial 41 with value: 49.72916302638477.\n"
     ]
    },
    {
     "name": "stdout",
     "output_type": "stream",
     "text": [
      "Study saved to optuna_studies_stochastic/Queue25_Study.pkl\n",
      "Sleeping zZz  zZz  Zzz\n",
      "QueueSize: 75; ProblemNumber: 70\n",
      "file_path used:ProblemSets/Training_Queue75\n"
     ]
    },
    {
     "name": "stderr",
     "output_type": "stream",
     "text": [
      "[I 2024-11-22 04:25:59,840] Trial 120 finished with value: 5.944055944055944 and parameters: {'delta_start': 2935, 'mip_focus': 0, 'cuts': 2, 'heuristics': 0.7134772676374078, 'presolve': 1, 'nanmean': True}. Best is trial 39 with value: 19.897337741430313.\n"
     ]
    },
    {
     "name": "stdout",
     "output_type": "stream",
     "text": [
      "QueueSize: 75; ProblemNumber: 70\n",
      "file_path used:ProblemSets/Training_Queue75\n"
     ]
    },
    {
     "name": "stderr",
     "output_type": "stream",
     "text": [
      "[I 2024-11-22 04:31:02,279] Trial 121 finished with value: 6.615006615006615 and parameters: {'delta_start': 2994, 'mip_focus': 0, 'cuts': 2, 'heuristics': 0.7522945651228993, 'presolve': 2, 'nanmean': True}. Best is trial 39 with value: 19.897337741430313.\n"
     ]
    },
    {
     "name": "stdout",
     "output_type": "stream",
     "text": [
      "Study saved to optuna_studies_stochastic/Queue75_Study.pkl\n",
      "Sleeping zZz  zZz  Zzz\n",
      "QueueSize: 25; ProblemNumber: 112\n",
      "file_path used:ProblemSets/Training_Queue25\n"
     ]
    },
    {
     "name": "stderr",
     "output_type": "stream",
     "text": [
      "[I 2024-11-22 04:32:29,536] Trial 244 finished with value: 15.121016055595495 and parameters: {'delta_start': 1496, 'mip_focus': 3, 'cuts': 3, 'heuristics': 0.5505918671427492, 'presolve': 1, 'nanmean': False}. Best is trial 41 with value: 49.72916302638477.\n"
     ]
    },
    {
     "name": "stdout",
     "output_type": "stream",
     "text": [
      "QueueSize: 25; ProblemNumber: 4\n",
      "file_path used:ProblemSets/Training_Queue25\n"
     ]
    },
    {
     "name": "stderr",
     "output_type": "stream",
     "text": [
      "[I 2024-11-22 04:34:20,960] Trial 245 finished with value: 23.350471293916026 and parameters: {'delta_start': 1707, 'mip_focus': 3, 'cuts': 2, 'heuristics': 0.530337820376423, 'presolve': 1, 'nanmean': False}. Best is trial 41 with value: 49.72916302638477.\n"
     ]
    },
    {
     "name": "stdout",
     "output_type": "stream",
     "text": [
      "Study saved to optuna_studies_stochastic/Queue25_Study.pkl\n",
      "Sleeping zZz  zZz  Zzz\n",
      "QueueSize: 25; ProblemNumber: 95\n",
      "file_path used:ProblemSets/Training_Queue25\n"
     ]
    },
    {
     "name": "stderr",
     "output_type": "stream",
     "text": [
      "[I 2024-11-22 04:36:09,229] Trial 246 finished with value: 5.510105871029836 and parameters: {'delta_start': 2107, 'mip_focus': 3, 'cuts': 3, 'heuristics': 0.585150619288991, 'presolve': 0, 'nanmean': False}. Best is trial 41 with value: 49.72916302638477.\n"
     ]
    },
    {
     "name": "stdout",
     "output_type": "stream",
     "text": [
      "QueueSize: 25; ProblemNumber: 152\n",
      "file_path used:ProblemSets/Training_Queue25\n"
     ]
    },
    {
     "name": "stderr",
     "output_type": "stream",
     "text": [
      "[I 2024-11-22 04:37:57,335] Trial 247 finished with value: 19.324131366016182 and parameters: {'delta_start': 1263, 'mip_focus': 3, 'cuts': 3, 'heuristics': 0.7180665297995737, 'presolve': 1, 'nanmean': False}. Best is trial 41 with value: 49.72916302638477.\n"
     ]
    },
    {
     "name": "stdout",
     "output_type": "stream",
     "text": [
      "Study saved to optuna_studies_stochastic/Queue25_Study.pkl\n",
      "Sleeping zZz  zZz  Zzz\n",
      "QueueSize: 75; ProblemNumber: 55\n",
      "file_path used:ProblemSets/Training_Queue75\n"
     ]
    },
    {
     "name": "stderr",
     "output_type": "stream",
     "text": [
      "[I 2024-11-22 04:42:47,657] Trial 122 finished with value: 0.0 and parameters: {'delta_start': 2986, 'mip_focus': 1, 'cuts': 3, 'heuristics': 0.7196494471885561, 'presolve': 0, 'nanmean': True}. Best is trial 39 with value: 19.897337741430313.\n"
     ]
    },
    {
     "name": "stdout",
     "output_type": "stream",
     "text": [
      "QueueSize: 75; ProblemNumber: 9\n",
      "file_path used:ProblemSets/Training_Queue75\n"
     ]
    },
    {
     "name": "stderr",
     "output_type": "stream",
     "text": [
      "[I 2024-11-22 04:46:57,430] Trial 123 finished with value: 17.692685321551302 and parameters: {'delta_start': 2992, 'mip_focus': 1, 'cuts': 2, 'heuristics': 0.5348123066191673, 'presolve': 2, 'nanmean': False}. Best is trial 39 with value: 19.897337741430313.\n"
     ]
    },
    {
     "name": "stdout",
     "output_type": "stream",
     "text": [
      "Study saved to optuna_studies_stochastic/Queue75_Study.pkl\n",
      "Sleeping zZz  zZz  Zzz\n",
      "QueueSize: 25; ProblemNumber: 247\n",
      "file_path used:ProblemSets/Training_Queue25\n"
     ]
    },
    {
     "name": "stderr",
     "output_type": "stream",
     "text": [
      "[I 2024-11-22 04:48:35,858] Trial 248 finished with value: 24.323073362647534 and parameters: {'delta_start': 2653, 'mip_focus': 2, 'cuts': 3, 'heuristics': 0.9787541670570284, 'presolve': 1, 'nanmean': False}. Best is trial 41 with value: 49.72916302638477.\n"
     ]
    },
    {
     "name": "stdout",
     "output_type": "stream",
     "text": [
      "QueueSize: 25; ProblemNumber: 243\n",
      "file_path used:ProblemSets/Training_Queue25\n"
     ]
    },
    {
     "name": "stderr",
     "output_type": "stream",
     "text": [
      "[I 2024-11-22 04:50:44,964] Trial 249 finished with value: 20.64253176696236 and parameters: {'delta_start': 2105, 'mip_focus': 3, 'cuts': 2, 'heuristics': 0.9618949987876133, 'presolve': 1, 'nanmean': True}. Best is trial 41 with value: 49.72916302638477.\n"
     ]
    },
    {
     "name": "stdout",
     "output_type": "stream",
     "text": [
      "Study saved to optuna_studies_stochastic/Queue25_Study.pkl\n",
      "Sleeping zZz  zZz  Zzz\n",
      "QueueSize: 25; ProblemNumber: 31\n",
      "file_path used:ProblemSets/Training_Queue25\n"
     ]
    },
    {
     "name": "stderr",
     "output_type": "stream",
     "text": [
      "[I 2024-11-22 04:52:34,169] Trial 250 finished with value: 28.977946407398626 and parameters: {'delta_start': 1677, 'mip_focus': 3, 'cuts': 2, 'heuristics': 0.5172648903379282, 'presolve': 1, 'nanmean': False}. Best is trial 41 with value: 49.72916302638477.\n"
     ]
    },
    {
     "name": "stdout",
     "output_type": "stream",
     "text": [
      "QueueSize: 25; ProblemNumber: 40\n",
      "file_path used:ProblemSets/Training_Queue25\n"
     ]
    },
    {
     "name": "stderr",
     "output_type": "stream",
     "text": [
      "[I 2024-11-22 04:54:01,373] Trial 251 finished with value: 20.30620467365028 and parameters: {'delta_start': 1552, 'mip_focus': 3, 'cuts': 2, 'heuristics': 0.6478939581907077, 'presolve': 0, 'nanmean': False}. Best is trial 41 with value: 49.72916302638477.\n"
     ]
    },
    {
     "name": "stdout",
     "output_type": "stream",
     "text": [
      "Study saved to optuna_studies_stochastic/Queue25_Study.pkl\n",
      "Sleeping zZz  zZz  Zzz\n",
      "QueueSize: 75; ProblemNumber: 36\n",
      "file_path used:ProblemSets/Training_Queue75\n"
     ]
    },
    {
     "name": "stderr",
     "output_type": "stream",
     "text": [
      "[I 2024-11-22 04:57:52,169] Trial 124 finished with value: 5.669371196754565 and parameters: {'delta_start': 2900, 'mip_focus': 1, 'cuts': 2, 'heuristics': 0.5655713210464816, 'presolve': 2, 'nanmean': False}. Best is trial 39 with value: 19.897337741430313.\n"
     ]
    },
    {
     "name": "stdout",
     "output_type": "stream",
     "text": [
      "QueueSize: 75; ProblemNumber: 24\n",
      "file_path used:ProblemSets/Training_Queue75\n"
     ]
    },
    {
     "name": "stderr",
     "output_type": "stream",
     "text": [
      "[I 2024-11-22 05:01:52,767] Trial 125 finished with value: 12.504733055660736 and parameters: {'delta_start': 2981, 'mip_focus': 2, 'cuts': 2, 'heuristics': 0.5876223862308371, 'presolve': 2, 'nanmean': False}. Best is trial 39 with value: 19.897337741430313.\n"
     ]
    },
    {
     "name": "stdout",
     "output_type": "stream",
     "text": [
      "Study saved to optuna_studies_stochastic/Queue75_Study.pkl\n",
      "Sleeping zZz  zZz  Zzz\n",
      "QueueSize: 25; ProblemNumber: 223\n",
      "file_path used:ProblemSets/Training_Queue25\n"
     ]
    },
    {
     "name": "stderr",
     "output_type": "stream",
     "text": [
      "[I 2024-11-22 05:03:01,722] Trial 252 finished with value: 30.890445222611305 and parameters: {'delta_start': 951, 'mip_focus': 0, 'cuts': 3, 'heuristics': 0.6502083696759802, 'presolve': 0, 'nanmean': False}. Best is trial 41 with value: 49.72916302638477.\n"
     ]
    },
    {
     "name": "stdout",
     "output_type": "stream",
     "text": [
      "QueueSize: 25; ProblemNumber: 6\n",
      "file_path used:ProblemSets/Training_Queue25\n"
     ]
    },
    {
     "name": "stderr",
     "output_type": "stream",
     "text": [
      "[I 2024-11-22 05:04:35,059] Trial 253 finished with value: 31.32238082413143 and parameters: {'delta_start': 1939, 'mip_focus': 3, 'cuts': 2, 'heuristics': 0.5401971743034816, 'presolve': 0, 'nanmean': False}. Best is trial 41 with value: 49.72916302638477.\n"
     ]
    },
    {
     "name": "stdout",
     "output_type": "stream",
     "text": [
      "Study saved to optuna_studies_stochastic/Queue25_Study.pkl\n",
      "Sleeping zZz  zZz  Zzz\n",
      "QueueSize: 25; ProblemNumber: 220\n",
      "file_path used:ProblemSets/Training_Queue25\n"
     ]
    },
    {
     "name": "stderr",
     "output_type": "stream",
     "text": [
      "[I 2024-11-22 05:06:12,419] Trial 254 finished with value: 13.598844407758975 and parameters: {'delta_start': 1213, 'mip_focus': 0, 'cuts': 3, 'heuristics': 0.8345781599772877, 'presolve': 0, 'nanmean': False}. Best is trial 41 with value: 49.72916302638477.\n"
     ]
    },
    {
     "name": "stdout",
     "output_type": "stream",
     "text": [
      "QueueSize: 25; ProblemNumber: 75\n",
      "file_path used:ProblemSets/Training_Queue25\n"
     ]
    },
    {
     "name": "stderr",
     "output_type": "stream",
     "text": [
      "[I 2024-11-22 05:07:59,858] Trial 255 finished with value: 27.147428008860448 and parameters: {'delta_start': 1385, 'mip_focus': 3, 'cuts': 2, 'heuristics': 0.5308978276276854, 'presolve': 1, 'nanmean': False}. Best is trial 41 with value: 49.72916302638477.\n"
     ]
    },
    {
     "name": "stdout",
     "output_type": "stream",
     "text": [
      "Study saved to optuna_studies_stochastic/Queue25_Study.pkl\n",
      "Sleeping zZz  zZz  Zzz\n",
      "QueueSize: 75; ProblemNumber: 4\n",
      "file_path used:ProblemSets/Training_Queue75\n"
     ]
    },
    {
     "name": "stderr",
     "output_type": "stream",
     "text": [
      "[I 2024-11-22 05:12:50,219] Trial 126 finished with value: 6.689615605278256 and parameters: {'delta_start': 2789, 'mip_focus': 2, 'cuts': 2, 'heuristics': 0.5142629994515341, 'presolve': 2, 'nanmean': True}. Best is trial 39 with value: 19.897337741430313.\n"
     ]
    },
    {
     "name": "stdout",
     "output_type": "stream",
     "text": [
      "QueueSize: 75; ProblemNumber: 79\n",
      "file_path used:ProblemSets/Training_Queue75\n"
     ]
    },
    {
     "name": "stderr",
     "output_type": "stream",
     "text": [
      "[I 2024-11-22 05:17:28,938] Trial 127 finished with value: 13.625748806985479 and parameters: {'delta_start': 2999, 'mip_focus': 1, 'cuts': 2, 'heuristics': 0.5314797846034227, 'presolve': 2, 'nanmean': False}. Best is trial 39 with value: 19.897337741430313.\n"
     ]
    },
    {
     "name": "stdout",
     "output_type": "stream",
     "text": [
      "Study saved to optuna_studies_stochastic/Queue75_Study.pkl\n",
      "Sleeping zZz  zZz  Zzz\n",
      "QueueSize: 25; ProblemNumber: 134\n",
      "file_path used:ProblemSets/Training_Queue25\n"
     ]
    },
    {
     "name": "stderr",
     "output_type": "stream",
     "text": [
      "[I 2024-11-22 05:19:06,164] Trial 256 finished with value: 14.928848641655886 and parameters: {'delta_start': 1253, 'mip_focus': 0, 'cuts': 3, 'heuristics': 0.8326068218814379, 'presolve': 2, 'nanmean': False}. Best is trial 41 with value: 49.72916302638477.\n"
     ]
    },
    {
     "name": "stdout",
     "output_type": "stream",
     "text": [
      "QueueSize: 25; ProblemNumber: 118\n",
      "file_path used:ProblemSets/Training_Queue25\n"
     ]
    },
    {
     "name": "stderr",
     "output_type": "stream",
     "text": [
      "[I 2024-11-22 05:20:55,001] Trial 257 finished with value: 19.27956502038967 and parameters: {'delta_start': 1698, 'mip_focus': 3, 'cuts': 2, 'heuristics': 0.5064346612411725, 'presolve': 2, 'nanmean': True}. Best is trial 41 with value: 49.72916302638477.\n"
     ]
    },
    {
     "name": "stdout",
     "output_type": "stream",
     "text": [
      "Study saved to optuna_studies_stochastic/Queue25_Study.pkl\n",
      "Sleeping zZz  zZz  Zzz\n",
      "QueueSize: 25; ProblemNumber: 94\n",
      "file_path used:ProblemSets/Training_Queue25\n"
     ]
    },
    {
     "name": "stderr",
     "output_type": "stream",
     "text": [
      "[I 2024-11-22 05:22:43,209] Trial 258 finished with value: 22.19546457957054 and parameters: {'delta_start': 1628, 'mip_focus': 3, 'cuts': 3, 'heuristics': 0.9301677428464066, 'presolve': 2, 'nanmean': False}. Best is trial 41 with value: 49.72916302638477.\n"
     ]
    },
    {
     "name": "stdout",
     "output_type": "stream",
     "text": [
      "QueueSize: 25; ProblemNumber: 62\n",
      "file_path used:ProblemSets/Training_Queue25\n"
     ]
    },
    {
     "name": "stderr",
     "output_type": "stream",
     "text": [
      "[I 2024-11-22 05:24:41,103] Trial 259 finished with value: 4.565217391304348 and parameters: {'delta_start': 1355, 'mip_focus': 2, 'cuts': 3, 'heuristics': 0.9018358391273038, 'presolve': 1, 'nanmean': False}. Best is trial 41 with value: 49.72916302638477.\n"
     ]
    },
    {
     "name": "stdout",
     "output_type": "stream",
     "text": [
      "Study saved to optuna_studies_stochastic/Queue25_Study.pkl\n",
      "Sleeping zZz  zZz  Zzz\n",
      "QueueSize: 75; ProblemNumber: 57\n",
      "file_path used:ProblemSets/Training_Queue75\n"
     ]
    },
    {
     "name": "stderr",
     "output_type": "stream",
     "text": [
      "[I 2024-11-22 05:29:03,577] Trial 128 finished with value: 2.079024708827691 and parameters: {'delta_start': 2962, 'mip_focus': 1, 'cuts': 2, 'heuristics': 0.5863639666870483, 'presolve': 2, 'nanmean': True}. Best is trial 39 with value: 19.897337741430313.\n"
     ]
    },
    {
     "name": "stdout",
     "output_type": "stream",
     "text": [
      "QueueSize: 75; ProblemNumber: 66\n",
      "file_path used:ProblemSets/Training_Queue75\n"
     ]
    },
    {
     "name": "stderr",
     "output_type": "stream",
     "text": [
      "[I 2024-11-22 05:33:04,454] Trial 129 finished with value: 16.545102021973964 and parameters: {'delta_start': 2847, 'mip_focus': 0, 'cuts': 2, 'heuristics': 0.6423444673548281, 'presolve': 0, 'nanmean': False}. Best is trial 39 with value: 19.897337741430313.\n"
     ]
    },
    {
     "name": "stdout",
     "output_type": "stream",
     "text": [
      "Study saved to optuna_studies_stochastic/Queue75_Study.pkl\n",
      "Sleeping zZz  zZz  Zzz\n",
      "QueueSize: 25; ProblemNumber: 203\n",
      "file_path used:ProblemSets/Training_Queue25\n"
     ]
    },
    {
     "name": "stderr",
     "output_type": "stream",
     "text": [
      "[I 2024-11-22 05:35:03,086] Trial 260 finished with value: 9.08235294117647 and parameters: {'delta_start': 2732, 'mip_focus': 0, 'cuts': 2, 'heuristics': 0.5649200428897421, 'presolve': 1, 'nanmean': True}. Best is trial 41 with value: 49.72916302638477.\n"
     ]
    },
    {
     "name": "stdout",
     "output_type": "stream",
     "text": [
      "QueueSize: 25; ProblemNumber: 26\n",
      "file_path used:ProblemSets/Training_Queue25\n"
     ]
    },
    {
     "name": "stderr",
     "output_type": "stream",
     "text": [
      "[I 2024-11-22 05:36:40,410] Trial 261 finished with value: 27.360308285163775 and parameters: {'delta_start': 1632, 'mip_focus': 0, 'cuts': 3, 'heuristics': 0.7526827866585505, 'presolve': 0, 'nanmean': False}. Best is trial 41 with value: 49.72916302638477.\n"
     ]
    },
    {
     "name": "stdout",
     "output_type": "stream",
     "text": [
      "Study saved to optuna_studies_stochastic/Queue25_Study.pkl\n",
      "Sleeping zZz  zZz  Zzz\n",
      "QueueSize: 25; ProblemNumber: 173\n",
      "file_path used:ProblemSets/Training_Queue25\n"
     ]
    },
    {
     "name": "stderr",
     "output_type": "stream",
     "text": [
      "[I 2024-11-22 05:38:19,829] Trial 262 finished with value: 24.70643494598403 and parameters: {'delta_start': 967, 'mip_focus': 2, 'cuts': 2, 'heuristics': 0.7793262093056197, 'presolve': 2, 'nanmean': False}. Best is trial 41 with value: 49.72916302638477.\n"
     ]
    },
    {
     "name": "stdout",
     "output_type": "stream",
     "text": [
      "QueueSize: 25; ProblemNumber: 133\n",
      "file_path used:ProblemSets/Training_Queue25\n"
     ]
    },
    {
     "name": "stderr",
     "output_type": "stream",
     "text": [
      "[I 2024-11-22 05:39:44,692] Trial 263 finished with value: 20.552359033371694 and parameters: {'delta_start': 876, 'mip_focus': 2, 'cuts': 2, 'heuristics': 0.9653790228846862, 'presolve': 2, 'nanmean': False}. Best is trial 41 with value: 49.72916302638477.\n"
     ]
    },
    {
     "name": "stdout",
     "output_type": "stream",
     "text": [
      "Study saved to optuna_studies_stochastic/Queue25_Study.pkl\n",
      "Sleeping zZz  zZz  Zzz\n",
      "QueueSize: 75; ProblemNumber: 70\n",
      "file_path used:ProblemSets/Training_Queue75\n"
     ]
    },
    {
     "name": "stderr",
     "output_type": "stream",
     "text": [
      "[I 2024-11-22 05:44:47,175] Trial 130 finished with value: 5.887355887355887 and parameters: {'delta_start': 2921, 'mip_focus': 0, 'cuts': 2, 'heuristics': 0.7562550966281016, 'presolve': 0, 'nanmean': False}. Best is trial 39 with value: 19.897337741430313.\n"
     ]
    },
    {
     "name": "stdout",
     "output_type": "stream",
     "text": [
      "QueueSize: 75; ProblemNumber: 26\n",
      "file_path used:ProblemSets/Training_Queue75\n"
     ]
    },
    {
     "name": "stderr",
     "output_type": "stream",
     "text": [
      "[I 2024-11-22 05:49:38,670] Trial 131 finished with value: 15.54394476581452 and parameters: {'delta_start': 2747, 'mip_focus': 0, 'cuts': 2, 'heuristics': 0.6044952907868136, 'presolve': 0, 'nanmean': False}. Best is trial 39 with value: 19.897337741430313.\n"
     ]
    },
    {
     "name": "stdout",
     "output_type": "stream",
     "text": [
      "Study saved to optuna_studies_stochastic/Queue75_Study.pkl\n",
      "Sleeping zZz  zZz  Zzz\n",
      "QueueSize: 25; ProblemNumber: 118\n",
      "file_path used:ProblemSets/Training_Queue25\n"
     ]
    },
    {
     "name": "stderr",
     "output_type": "stream",
     "text": [
      "[I 2024-11-22 05:51:37,238] Trial 264 finished with value: 15.15632079746262 and parameters: {'delta_start': 1949, 'mip_focus': 3, 'cuts': 3, 'heuristics': 0.9065979480522203, 'presolve': 1, 'nanmean': False}. Best is trial 41 with value: 49.72916302638477.\n"
     ]
    },
    {
     "name": "stdout",
     "output_type": "stream",
     "text": [
      "QueueSize: 25; ProblemNumber: 275\n",
      "file_path used:ProblemSets/Training_Queue25\n"
     ]
    },
    {
     "name": "stderr",
     "output_type": "stream",
     "text": [
      "[I 2024-11-22 05:53:33,520] Trial 265 finished with value: 18.595135258013183 and parameters: {'delta_start': 802, 'mip_focus': 3, 'cuts': 2, 'heuristics': 0.5317518029710601, 'presolve': 1, 'nanmean': True}. Best is trial 41 with value: 49.72916302638477.\n"
     ]
    },
    {
     "name": "stdout",
     "output_type": "stream",
     "text": [
      "Study saved to optuna_studies_stochastic/Queue25_Study.pkl\n",
      "Sleeping zZz  zZz  Zzz\n",
      "QueueSize: 25; ProblemNumber: 212\n",
      "file_path used:ProblemSets/Training_Queue25\n"
     ]
    },
    {
     "name": "stderr",
     "output_type": "stream",
     "text": [
      "[I 2024-11-22 05:55:18,961] Trial 266 finished with value: 36.89887640449438 and parameters: {'delta_start': 2485, 'mip_focus': 3, 'cuts': 2, 'heuristics': 0.5858867847856291, 'presolve': 0, 'nanmean': True}. Best is trial 41 with value: 49.72916302638477.\n"
     ]
    },
    {
     "name": "stdout",
     "output_type": "stream",
     "text": [
      "QueueSize: 25; ProblemNumber: 225\n",
      "file_path used:ProblemSets/Training_Queue25\n"
     ]
    },
    {
     "name": "stderr",
     "output_type": "stream",
     "text": [
      "[I 2024-11-22 05:57:10,306] Trial 267 finished with value: 29.942878201584673 and parameters: {'delta_start': 2813, 'mip_focus': 2, 'cuts': 2, 'heuristics': 0.6354029563005451, 'presolve': 0, 'nanmean': True}. Best is trial 41 with value: 49.72916302638477.\n"
     ]
    },
    {
     "name": "stdout",
     "output_type": "stream",
     "text": [
      "Study saved to optuna_studies_stochastic/Queue25_Study.pkl\n",
      "Sleeping zZz  zZz  Zzz\n",
      "QueueSize: 75; ProblemNumber: 20\n",
      "file_path used:ProblemSets/Training_Queue75\n"
     ]
    },
    {
     "name": "stderr",
     "output_type": "stream",
     "text": [
      "[I 2024-11-22 06:01:38,299] Trial 132 finished with value: 6.282626614158805 and parameters: {'delta_start': 2857, 'mip_focus': 0, 'cuts': 2, 'heuristics': 0.6347068526844005, 'presolve': 0, 'nanmean': False}. Best is trial 39 with value: 19.897337741430313.\n"
     ]
    },
    {
     "name": "stdout",
     "output_type": "stream",
     "text": [
      "QueueSize: 75; ProblemNumber: 12\n",
      "file_path used:ProblemSets/Training_Queue75\n"
     ]
    },
    {
     "name": "stderr",
     "output_type": "stream",
     "text": [
      "[I 2024-11-22 06:05:12,827] Trial 133 finished with value: 9.304006608839323 and parameters: {'delta_start': 2582, 'mip_focus': 2, 'cuts': 2, 'heuristics': 0.8958411576219372, 'presolve': 0, 'nanmean': False}. Best is trial 39 with value: 19.897337741430313.\n"
     ]
    },
    {
     "name": "stdout",
     "output_type": "stream",
     "text": [
      "Study saved to optuna_studies_stochastic/Queue75_Study.pkl\n",
      "Sleeping zZz  zZz  Zzz\n",
      "QueueSize: 25; ProblemNumber: 47\n",
      "file_path used:ProblemSets/Training_Queue25\n"
     ]
    },
    {
     "name": "stderr",
     "output_type": "stream",
     "text": [
      "[I 2024-11-22 06:07:20,276] Trial 268 finished with value: 25.736339630306727 and parameters: {'delta_start': 2133, 'mip_focus': 3, 'cuts': 2, 'heuristics': 0.5085016991019708, 'presolve': 0, 'nanmean': True}. Best is trial 41 with value: 49.72916302638477.\n"
     ]
    },
    {
     "name": "stdout",
     "output_type": "stream",
     "text": [
      "QueueSize: 25; ProblemNumber: 1\n",
      "file_path used:ProblemSets/Training_Queue25\n"
     ]
    },
    {
     "name": "stderr",
     "output_type": "stream",
     "text": [
      "[I 2024-11-22 06:08:47,694] Trial 269 finished with value: 43.36967294350843 and parameters: {'delta_start': 1348, 'mip_focus': 0, 'cuts': 3, 'heuristics': 0.7563919824960467, 'presolve': 1, 'nanmean': False}. Best is trial 41 with value: 49.72916302638477.\n"
     ]
    },
    {
     "name": "stdout",
     "output_type": "stream",
     "text": [
      "Study saved to optuna_studies_stochastic/Queue25_Study.pkl\n",
      "Sleeping zZz  zZz  Zzz\n",
      "QueueSize: 25; ProblemNumber: 90\n",
      "file_path used:ProblemSets/Training_Queue25\n"
     ]
    },
    {
     "name": "stderr",
     "output_type": "stream",
     "text": [
      "[I 2024-11-22 06:10:26,637] Trial 270 finished with value: 25.407574617506896 and parameters: {'delta_start': 1501, 'mip_focus': 0, 'cuts': 3, 'heuristics': 0.7809446973177537, 'presolve': 1, 'nanmean': False}. Best is trial 41 with value: 49.72916302638477.\n"
     ]
    },
    {
     "name": "stdout",
     "output_type": "stream",
     "text": [
      "QueueSize: 25; ProblemNumber: 142\n",
      "file_path used:ProblemSets/Training_Queue25\n"
     ]
    },
    {
     "name": "stderr",
     "output_type": "stream",
     "text": [
      "[I 2024-11-22 06:12:29,694] Trial 271 finished with value: 24.02088772845953 and parameters: {'delta_start': 2390, 'mip_focus': 3, 'cuts': 2, 'heuristics': 0.6827468366429508, 'presolve': 0, 'nanmean': True}. Best is trial 41 with value: 49.72916302638477.\n"
     ]
    },
    {
     "name": "stdout",
     "output_type": "stream",
     "text": [
      "Study saved to optuna_studies_stochastic/Queue25_Study.pkl\n",
      "Sleeping zZz  zZz  Zzz\n",
      "QueueSize: 75; ProblemNumber: 64\n",
      "file_path used:ProblemSets/Training_Queue75\n"
     ]
    },
    {
     "name": "stderr",
     "output_type": "stream",
     "text": [
      "[I 2024-11-22 06:17:27,892] Trial 134 finished with value: 8.272718456017845 and parameters: {'delta_start': 2983, 'mip_focus': 0, 'cuts': 2, 'heuristics': 0.6157934656153994, 'presolve': 0, 'nanmean': False}. Best is trial 39 with value: 19.897337741430313.\n"
     ]
    },
    {
     "name": "stdout",
     "output_type": "stream",
     "text": [
      "QueueSize: 75; ProblemNumber: 38\n",
      "file_path used:ProblemSets/Training_Queue75\n"
     ]
    },
    {
     "name": "stderr",
     "output_type": "stream",
     "text": [
      "[I 2024-11-22 06:20:43,409] Trial 135 finished with value: 11.215113782739374 and parameters: {'delta_start': 2939, 'mip_focus': 2, 'cuts': 2, 'heuristics': 0.6696629863190627, 'presolve': 0, 'nanmean': True}. Best is trial 39 with value: 19.897337741430313.\n"
     ]
    },
    {
     "name": "stdout",
     "output_type": "stream",
     "text": [
      "Study saved to optuna_studies_stochastic/Queue75_Study.pkl\n",
      "Sleeping zZz  zZz  Zzz\n",
      "QueueSize: 25; ProblemNumber: 293\n",
      "file_path used:ProblemSets/Training_Queue25\n"
     ]
    },
    {
     "name": "stderr",
     "output_type": "stream",
     "text": [
      "[I 2024-11-22 06:22:30,571] Trial 272 finished with value: 8.248025738520035 and parameters: {'delta_start': 2898, 'mip_focus': 3, 'cuts': 2, 'heuristics': 0.6245356053587897, 'presolve': 0, 'nanmean': True}. Best is trial 41 with value: 49.72916302638477.\n"
     ]
    },
    {
     "name": "stdout",
     "output_type": "stream",
     "text": [
      "QueueSize: 25; ProblemNumber: 139\n",
      "file_path used:ProblemSets/Training_Queue25\n"
     ]
    },
    {
     "name": "stderr",
     "output_type": "stream",
     "text": [
      "[I 2024-11-22 06:23:58,040] Trial 273 finished with value: 19.251685882097018 and parameters: {'delta_start': 941, 'mip_focus': 1, 'cuts': 2, 'heuristics': 0.8812484201312425, 'presolve': 0, 'nanmean': True}. Best is trial 41 with value: 49.72916302638477.\n"
     ]
    },
    {
     "name": "stdout",
     "output_type": "stream",
     "text": [
      "Study saved to optuna_studies_stochastic/Queue25_Study.pkl\n",
      "Sleeping zZz  zZz  Zzz\n",
      "QueueSize: 25; ProblemNumber: 259\n",
      "file_path used:ProblemSets/Training_Queue25\n"
     ]
    },
    {
     "name": "stderr",
     "output_type": "stream",
     "text": [
      "[I 2024-11-22 06:26:11,282] Trial 274 finished with value: 12.461402734891927 and parameters: {'delta_start': 916, 'mip_focus': 0, 'cuts': 3, 'heuristics': 0.7002383649204893, 'presolve': 1, 'nanmean': False}. Best is trial 41 with value: 49.72916302638477.\n"
     ]
    },
    {
     "name": "stdout",
     "output_type": "stream",
     "text": [
      "QueueSize: 25; ProblemNumber: 161\n",
      "file_path used:ProblemSets/Training_Queue25\n"
     ]
    },
    {
     "name": "stderr",
     "output_type": "stream",
     "text": [
      "[I 2024-11-22 06:27:55,982] Trial 275 finished with value: 10.928346101847678 and parameters: {'delta_start': 702, 'mip_focus': 1, 'cuts': 3, 'heuristics': 0.6484362770989113, 'presolve': 0, 'nanmean': False}. Best is trial 41 with value: 49.72916302638477.\n"
     ]
    },
    {
     "name": "stdout",
     "output_type": "stream",
     "text": [
      "Study saved to optuna_studies_stochastic/Queue25_Study.pkl\n",
      "Sleeping zZz  zZz  Zzz\n",
      "QueueSize: 75; ProblemNumber: 6\n",
      "file_path used:ProblemSets/Training_Queue75\n"
     ]
    },
    {
     "name": "stderr",
     "output_type": "stream",
     "text": [
      "[I 2024-11-22 06:31:53,139] Trial 136 finished with value: 5.472414563323654 and parameters: {'delta_start': 2866, 'mip_focus': 1, 'cuts': 2, 'heuristics': 0.6436641518617376, 'presolve': 0, 'nanmean': False}. Best is trial 39 with value: 19.897337741430313.\n"
     ]
    },
    {
     "name": "stdout",
     "output_type": "stream",
     "text": [
      "QueueSize: 75; ProblemNumber: 50\n",
      "file_path used:ProblemSets/Training_Queue75\n"
     ]
    },
    {
     "name": "stderr",
     "output_type": "stream",
     "text": [
      "[I 2024-11-22 06:36:15,580] Trial 137 finished with value: 13.387920034028072 and parameters: {'delta_start': 2641, 'mip_focus': 0, 'cuts': 3, 'heuristics': 0.8279509647819989, 'presolve': 0, 'nanmean': False}. Best is trial 39 with value: 19.897337741430313.\n"
     ]
    },
    {
     "name": "stdout",
     "output_type": "stream",
     "text": [
      "Study saved to optuna_studies_stochastic/Queue75_Study.pkl\n",
      "Sleeping zZz  zZz  Zzz\n",
      "QueueSize: 25; ProblemNumber: 10\n",
      "file_path used:ProblemSets/Training_Queue25\n"
     ]
    },
    {
     "name": "stderr",
     "output_type": "stream",
     "text": [
      "[I 2024-11-22 06:37:45,711] Trial 276 finished with value: 28.893756845564074 and parameters: {'delta_start': 1142, 'mip_focus': 0, 'cuts': 3, 'heuristics': 0.7816093319464692, 'presolve': 1, 'nanmean': False}. Best is trial 41 with value: 49.72916302638477.\n"
     ]
    },
    {
     "name": "stdout",
     "output_type": "stream",
     "text": [
      "QueueSize: 25; ProblemNumber: 261\n",
      "file_path used:ProblemSets/Training_Queue25\n"
     ]
    },
    {
     "name": "stderr",
     "output_type": "stream",
     "text": [
      "[I 2024-11-22 06:39:45,858] Trial 277 finished with value: 14.915040906230335 and parameters: {'delta_start': 1385, 'mip_focus': 3, 'cuts': 3, 'heuristics': 0.8423090954553061, 'presolve': 0, 'nanmean': False}. Best is trial 41 with value: 49.72916302638477.\n"
     ]
    },
    {
     "name": "stdout",
     "output_type": "stream",
     "text": [
      "Study saved to optuna_studies_stochastic/Queue25_Study.pkl\n",
      "Sleeping zZz  zZz  Zzz\n",
      "QueueSize: 25; ProblemNumber: 138\n",
      "file_path used:ProblemSets/Training_Queue25\n"
     ]
    },
    {
     "name": "stderr",
     "output_type": "stream",
     "text": [
      "[I 2024-11-22 06:41:24,671] Trial 278 finished with value: 10.85742045178528 and parameters: {'delta_start': 1349, 'mip_focus': 0, 'cuts': 3, 'heuristics': 0.723637872233756, 'presolve': 1, 'nanmean': False}. Best is trial 41 with value: 49.72916302638477.\n"
     ]
    },
    {
     "name": "stdout",
     "output_type": "stream",
     "text": [
      "QueueSize: 25; ProblemNumber: 172\n",
      "file_path used:ProblemSets/Training_Queue25\n"
     ]
    },
    {
     "name": "stderr",
     "output_type": "stream",
     "text": [
      "[I 2024-11-22 06:42:34,794] Trial 279 finished with value: 17.376407244248654 and parameters: {'delta_start': 2736, 'mip_focus': 3, 'cuts': 2, 'heuristics': 0.6788808294950397, 'presolve': 1, 'nanmean': False}. Best is trial 41 with value: 49.72916302638477.\n"
     ]
    },
    {
     "name": "stdout",
     "output_type": "stream",
     "text": [
      "Study saved to optuna_studies_stochastic/Queue25_Study.pkl\n",
      "Sleeping zZz  zZz  Zzz\n",
      "QueueSize: 75; ProblemNumber: 2\n",
      "file_path used:ProblemSets/Training_Queue75\n"
     ]
    },
    {
     "name": "stderr",
     "output_type": "stream",
     "text": [
      "[I 2024-11-22 06:46:23,727] Trial 138 finished with value: 10.054021608643456 and parameters: {'delta_start': 2943, 'mip_focus': 0, 'cuts': 2, 'heuristics': 0.5335079563106473, 'presolve': 2, 'nanmean': False}. Best is trial 39 with value: 19.897337741430313.\n"
     ]
    },
    {
     "name": "stdout",
     "output_type": "stream",
     "text": [
      "QueueSize: 75; ProblemNumber: 13\n",
      "file_path used:ProblemSets/Training_Queue75\n"
     ]
    },
    {
     "name": "stderr",
     "output_type": "stream",
     "text": [
      "[I 2024-11-22 06:51:14,596] Trial 139 finished with value: 11.951066499372647 and parameters: {'delta_start': 2884, 'mip_focus': 0, 'cuts': 2, 'heuristics': 0.5127864218583127, 'presolve': 0, 'nanmean': True}. Best is trial 39 with value: 19.897337741430313.\n"
     ]
    },
    {
     "name": "stdout",
     "output_type": "stream",
     "text": [
      "Study saved to optuna_studies_stochastic/Queue75_Study.pkl\n",
      "Sleeping zZz  zZz  Zzz\n",
      "QueueSize: 25; ProblemNumber: 168\n",
      "file_path used:ProblemSets/Training_Queue25\n"
     ]
    },
    {
     "name": "stderr",
     "output_type": "stream",
     "text": [
      "[I 2024-11-22 06:52:46,140] Trial 280 finished with value: 24.251038705445 and parameters: {'delta_start': 2134, 'mip_focus': 1, 'cuts': 3, 'heuristics': 0.6875721448826287, 'presolve': 1, 'nanmean': False}. Best is trial 41 with value: 49.72916302638477.\n"
     ]
    },
    {
     "name": "stdout",
     "output_type": "stream",
     "text": [
      "QueueSize: 25; ProblemNumber: 130\n",
      "file_path used:ProblemSets/Training_Queue25\n"
     ]
    },
    {
     "name": "stderr",
     "output_type": "stream",
     "text": [
      "[I 2024-11-22 06:54:26,460] Trial 281 finished with value: 31.820580474934033 and parameters: {'delta_start': 985, 'mip_focus': 1, 'cuts': 3, 'heuristics': 0.731381534807081, 'presolve': 2, 'nanmean': False}. Best is trial 41 with value: 49.72916302638477.\n"
     ]
    },
    {
     "name": "stdout",
     "output_type": "stream",
     "text": [
      "Study saved to optuna_studies_stochastic/Queue25_Study.pkl\n",
      "Sleeping zZz  zZz  Zzz\n",
      "QueueSize: 25; ProblemNumber: 84\n",
      "file_path used:ProblemSets/Training_Queue25\n"
     ]
    },
    {
     "name": "stderr",
     "output_type": "stream",
     "text": [
      "[I 2024-11-22 06:56:46,444] Trial 282 finished with value: 23.184568835098336 and parameters: {'delta_start': 2296, 'mip_focus': 0, 'cuts': 3, 'heuristics': 0.716986627391486, 'presolve': 2, 'nanmean': True}. Best is trial 41 with value: 49.72916302638477.\n"
     ]
    },
    {
     "name": "stdout",
     "output_type": "stream",
     "text": [
      "QueueSize: 25; ProblemNumber: 101\n",
      "file_path used:ProblemSets/Training_Queue25\n"
     ]
    },
    {
     "name": "stderr",
     "output_type": "stream",
     "text": [
      "[I 2024-11-22 06:58:33,060] Trial 283 finished with value: 16.04019352437663 and parameters: {'delta_start': 862, 'mip_focus': 0, 'cuts': 3, 'heuristics': 0.7525722921928821, 'presolve': 0, 'nanmean': False}. Best is trial 41 with value: 49.72916302638477.\n"
     ]
    },
    {
     "name": "stdout",
     "output_type": "stream",
     "text": [
      "Study saved to optuna_studies_stochastic/Queue25_Study.pkl\n",
      "Sleeping zZz  zZz  Zzz\n",
      "QueueSize: 75; ProblemNumber: 73\n",
      "file_path used:ProblemSets/Training_Queue75\n"
     ]
    },
    {
     "name": "stderr",
     "output_type": "stream",
     "text": [
      "[I 2024-11-22 07:02:46,994] Trial 140 finished with value: 4.311437991377124 and parameters: {'delta_start': 2957, 'mip_focus': 0, 'cuts': 2, 'heuristics': 0.8011792050446471, 'presolve': 0, 'nanmean': True}. Best is trial 39 with value: 19.897337741430313.\n"
     ]
    },
    {
     "name": "stdout",
     "output_type": "stream",
     "text": [
      "QueueSize: 75; ProblemNumber: 17\n",
      "file_path used:ProblemSets/Training_Queue75\n"
     ]
    },
    {
     "name": "stderr",
     "output_type": "stream",
     "text": [
      "[I 2024-11-22 07:07:28,537] Trial 141 finished with value: 9.811652620007337 and parameters: {'delta_start': 2772, 'mip_focus': 2, 'cuts': 3, 'heuristics': 0.5018178621657856, 'presolve': 0, 'nanmean': True}. Best is trial 39 with value: 19.897337741430313.\n"
     ]
    },
    {
     "name": "stdout",
     "output_type": "stream",
     "text": [
      "Study saved to optuna_studies_stochastic/Queue75_Study.pkl\n",
      "Sleeping zZz  zZz  Zzz\n",
      "QueueSize: 25; ProblemNumber: 265\n",
      "file_path used:ProblemSets/Training_Queue25\n"
     ]
    },
    {
     "name": "stderr",
     "output_type": "stream",
     "text": [
      "[I 2024-11-22 07:09:08,445] Trial 284 finished with value: 24.72001628996131 and parameters: {'delta_start': 726, 'mip_focus': 0, 'cuts': 3, 'heuristics': 0.8307186923137446, 'presolve': 1, 'nanmean': False}. Best is trial 41 with value: 49.72916302638477.\n"
     ]
    },
    {
     "name": "stdout",
     "output_type": "stream",
     "text": [
      "QueueSize: 25; ProblemNumber: 38\n",
      "file_path used:ProblemSets/Training_Queue25\n"
     ]
    },
    {
     "name": "stderr",
     "output_type": "stream",
     "text": [
      "[I 2024-11-22 07:11:10,021] Trial 285 finished with value: 19.840862422997947 and parameters: {'delta_start': 2282, 'mip_focus': 3, 'cuts': 2, 'heuristics': 0.5152875151976373, 'presolve': 1, 'nanmean': True}. Best is trial 41 with value: 49.72916302638477.\n"
     ]
    },
    {
     "name": "stdout",
     "output_type": "stream",
     "text": [
      "Study saved to optuna_studies_stochastic/Queue25_Study.pkl\n",
      "Sleeping zZz  zZz  Zzz\n",
      "QueueSize: 25; ProblemNumber: 94\n",
      "file_path used:ProblemSets/Training_Queue25\n"
     ]
    },
    {
     "name": "stderr",
     "output_type": "stream",
     "text": [
      "[I 2024-11-22 07:12:57,889] Trial 286 finished with value: 23.018262091109772 and parameters: {'delta_start': 1708, 'mip_focus': 1, 'cuts': 3, 'heuristics': 0.7928177179784062, 'presolve': 0, 'nanmean': False}. Best is trial 41 with value: 49.72916302638477.\n"
     ]
    },
    {
     "name": "stdout",
     "output_type": "stream",
     "text": [
      "QueueSize: 25; ProblemNumber: 95\n",
      "file_path used:ProblemSets/Training_Queue25\n"
     ]
    },
    {
     "name": "stderr",
     "output_type": "stream",
     "text": [
      "[I 2024-11-22 07:14:45,794] Trial 287 finished with value: 7.603464870067373 and parameters: {'delta_start': 1825, 'mip_focus': 3, 'cuts': 3, 'heuristics': 0.9516256766365006, 'presolve': 1, 'nanmean': True}. Best is trial 41 with value: 49.72916302638477.\n"
     ]
    },
    {
     "name": "stdout",
     "output_type": "stream",
     "text": [
      "Study saved to optuna_studies_stochastic/Queue25_Study.pkl\n",
      "Sleeping zZz  zZz  Zzz\n",
      "QueueSize: 75; ProblemNumber: 49\n",
      "file_path used:ProblemSets/Training_Queue75\n"
     ]
    },
    {
     "name": "stderr",
     "output_type": "stream",
     "text": [
      "[I 2024-11-22 07:20:13,553] Trial 142 finished with value: 5.696846388606307 and parameters: {'delta_start': 2933, 'mip_focus': 3, 'cuts': 3, 'heuristics': 0.6320809465993088, 'presolve': 2, 'nanmean': False}. Best is trial 39 with value: 19.897337741430313.\n"
     ]
    },
    {
     "name": "stdout",
     "output_type": "stream",
     "text": [
      "QueueSize: 75; ProblemNumber: 69\n",
      "file_path used:ProblemSets/Training_Queue75\n"
     ]
    },
    {
     "name": "stderr",
     "output_type": "stream",
     "text": [
      "[I 2024-11-22 07:24:40,592] Trial 143 finished with value: 4.394445420987871 and parameters: {'delta_start': 2990, 'mip_focus': 3, 'cuts': 3, 'heuristics': 0.6528533021224112, 'presolve': 2, 'nanmean': False}. Best is trial 39 with value: 19.897337741430313.\n"
     ]
    },
    {
     "name": "stdout",
     "output_type": "stream",
     "text": [
      "Study saved to optuna_studies_stochastic/Queue75_Study.pkl\n",
      "Sleeping zZz  zZz  Zzz\n",
      "QueueSize: 25; ProblemNumber: 236\n",
      "file_path used:ProblemSets/Training_Queue25\n"
     ]
    },
    {
     "name": "stderr",
     "output_type": "stream",
     "text": [
      "[I 2024-11-22 07:26:34,597] Trial 288 finished with value: 24.889651790093183 and parameters: {'delta_start': 1625, 'mip_focus': 3, 'cuts': 3, 'heuristics': 0.8110817149359946, 'presolve': 1, 'nanmean': False}. Best is trial 41 with value: 49.72916302638477.\n"
     ]
    },
    {
     "name": "stdout",
     "output_type": "stream",
     "text": [
      "QueueSize: 25; ProblemNumber: 137\n",
      "file_path used:ProblemSets/Training_Queue25\n"
     ]
    },
    {
     "name": "stderr",
     "output_type": "stream",
     "text": [
      "[I 2024-11-22 07:28:10,173] Trial 289 finished with value: 20.54766734279919 and parameters: {'delta_start': 703, 'mip_focus': 0, 'cuts': 2, 'heuristics': 0.8396484725738025, 'presolve': 1, 'nanmean': True}. Best is trial 41 with value: 49.72916302638477.\n"
     ]
    },
    {
     "name": "stdout",
     "output_type": "stream",
     "text": [
      "Study saved to optuna_studies_stochastic/Queue25_Study.pkl\n",
      "Sleeping zZz  zZz  Zzz\n",
      "QueueSize: 25; ProblemNumber: 76\n",
      "file_path used:ProblemSets/Training_Queue25\n"
     ]
    },
    {
     "name": "stderr",
     "output_type": "stream",
     "text": [
      "[I 2024-11-22 07:30:08,033] Trial 290 finished with value: 15.043355515224842 and parameters: {'delta_start': 943, 'mip_focus': 2, 'cuts': 2, 'heuristics': 0.7987141219164612, 'presolve': 1, 'nanmean': False}. Best is trial 41 with value: 49.72916302638477.\n"
     ]
    },
    {
     "name": "stdout",
     "output_type": "stream",
     "text": [
      "QueueSize: 25; ProblemNumber: 35\n",
      "file_path used:ProblemSets/Training_Queue25\n"
     ]
    },
    {
     "name": "stderr",
     "output_type": "stream",
     "text": [
      "[I 2024-11-22 07:31:48,955] Trial 291 finished with value: 14.876632801161103 and parameters: {'delta_start': 918, 'mip_focus': 3, 'cuts': 3, 'heuristics': 0.8483107166103154, 'presolve': 1, 'nanmean': False}. Best is trial 41 with value: 49.72916302638477.\n"
     ]
    },
    {
     "name": "stdout",
     "output_type": "stream",
     "text": [
      "Study saved to optuna_studies_stochastic/Queue25_Study.pkl\n",
      "Sleeping zZz  zZz  Zzz\n",
      "QueueSize: 75; ProblemNumber: 1\n",
      "file_path used:ProblemSets/Training_Queue75\n"
     ]
    },
    {
     "name": "stderr",
     "output_type": "stream",
     "text": [
      "[I 2024-11-22 07:36:12,446] Trial 144 finished with value: 11.454765262945799 and parameters: {'delta_start': 2807, 'mip_focus': 1, 'cuts': 2, 'heuristics': 0.5026839519600681, 'presolve': 1, 'nanmean': True}. Best is trial 39 with value: 19.897337741430313.\n"
     ]
    },
    {
     "name": "stdout",
     "output_type": "stream",
     "text": [
      "QueueSize: 75; ProblemNumber: 40\n",
      "file_path used:ProblemSets/Training_Queue75\n"
     ]
    },
    {
     "name": "stderr",
     "output_type": "stream",
     "text": [
      "[I 2024-11-22 07:41:10,659] Trial 145 finished with value: 8.601521357519017 and parameters: {'delta_start': 2514, 'mip_focus': 2, 'cuts': 2, 'heuristics': 0.6682334501458268, 'presolve': 1, 'nanmean': False}. Best is trial 39 with value: 19.897337741430313.\n"
     ]
    },
    {
     "name": "stdout",
     "output_type": "stream",
     "text": [
      "Study saved to optuna_studies_stochastic/Queue75_Study.pkl\n",
      "Sleeping zZz  zZz  Zzz\n",
      "QueueSize: 25; ProblemNumber: 60\n",
      "file_path used:ProblemSets/Training_Queue25\n"
     ]
    },
    {
     "name": "stderr",
     "output_type": "stream",
     "text": [
      "[I 2024-11-22 07:42:49,231] Trial 292 finished with value: 29.735034347399413 and parameters: {'delta_start': 1092, 'mip_focus': 0, 'cuts': 2, 'heuristics': 0.9305200268458647, 'presolve': 1, 'nanmean': False}. Best is trial 41 with value: 49.72916302638477.\n"
     ]
    },
    {
     "name": "stdout",
     "output_type": "stream",
     "text": [
      "QueueSize: 25; ProblemNumber: 267\n",
      "file_path used:ProblemSets/Training_Queue25\n"
     ]
    },
    {
     "name": "stderr",
     "output_type": "stream",
     "text": [
      "[I 2024-11-22 07:44:27,685] Trial 293 finished with value: 24.982439709669865 and parameters: {'delta_start': 1792, 'mip_focus': 0, 'cuts': 3, 'heuristics': 0.9517447755525725, 'presolve': 0, 'nanmean': True}. Best is trial 41 with value: 49.72916302638477.\n"
     ]
    },
    {
     "name": "stdout",
     "output_type": "stream",
     "text": [
      "Study saved to optuna_studies_stochastic/Queue25_Study.pkl\n",
      "Sleeping zZz  zZz  Zzz\n",
      "QueueSize: 25; ProblemNumber: 229\n",
      "file_path used:ProblemSets/Training_Queue25\n"
     ]
    },
    {
     "name": "stderr",
     "output_type": "stream",
     "text": [
      "[I 2024-11-22 07:46:04,569] Trial 294 finished with value: 17.84221525600836 and parameters: {'delta_start': 1072, 'mip_focus': 1, 'cuts': 2, 'heuristics': 0.9327252609317792, 'presolve': 1, 'nanmean': True}. Best is trial 41 with value: 49.72916302638477.\n"
     ]
    },
    {
     "name": "stdout",
     "output_type": "stream",
     "text": [
      "QueueSize: 25; ProblemNumber: 270\n",
      "file_path used:ProblemSets/Training_Queue25\n"
     ]
    },
    {
     "name": "stderr",
     "output_type": "stream",
     "text": [
      "[I 2024-11-22 07:48:01,859] Trial 295 finished with value: 30.089437819420784 and parameters: {'delta_start': 2218, 'mip_focus': 3, 'cuts': 3, 'heuristics': 0.5490311784881674, 'presolve': 0, 'nanmean': True}. Best is trial 41 with value: 49.72916302638477.\n"
     ]
    },
    {
     "name": "stdout",
     "output_type": "stream",
     "text": [
      "Study saved to optuna_studies_stochastic/Queue25_Study.pkl\n",
      "Sleeping zZz  zZz  Zzz\n",
      "QueueSize: 75; ProblemNumber: 60\n",
      "file_path used:ProblemSets/Training_Queue75\n"
     ]
    },
    {
     "name": "stderr",
     "output_type": "stream",
     "text": [
      "[I 2024-11-22 07:52:19,708] Trial 146 finished with value: 7.52598255883407 and parameters: {'delta_start': 2529, 'mip_focus': 1, 'cuts': 2, 'heuristics': 0.8965958938604197, 'presolve': 0, 'nanmean': False}. Best is trial 39 with value: 19.897337741430313.\n"
     ]
    },
    {
     "name": "stdout",
     "output_type": "stream",
     "text": [
      "QueueSize: 75; ProblemNumber: 30\n",
      "file_path used:ProblemSets/Training_Queue75\n"
     ]
    },
    {
     "name": "stderr",
     "output_type": "stream",
     "text": [
      "[I 2024-11-22 07:56:28,618] Trial 147 finished with value: 2.691297824456114 and parameters: {'delta_start': 2801, 'mip_focus': 0, 'cuts': 2, 'heuristics': 0.7057003825530043, 'presolve': 1, 'nanmean': False}. Best is trial 39 with value: 19.897337741430313.\n"
     ]
    },
    {
     "name": "stdout",
     "output_type": "stream",
     "text": [
      "Study saved to optuna_studies_stochastic/Queue75_Study.pkl\n",
      "Sleeping zZz  zZz  Zzz\n",
      "QueueSize: 25; ProblemNumber: 291\n",
      "file_path used:ProblemSets/Training_Queue25\n"
     ]
    },
    {
     "name": "stderr",
     "output_type": "stream",
     "text": [
      "[I 2024-11-22 07:58:18,893] Trial 296 finished with value: 41.27327127659575 and parameters: {'delta_start': 1031, 'mip_focus': 0, 'cuts': 3, 'heuristics': 0.8159598249670338, 'presolve': 1, 'nanmean': False}. Best is trial 41 with value: 49.72916302638477.\n"
     ]
    },
    {
     "name": "stdout",
     "output_type": "stream",
     "text": [
      "QueueSize: 25; ProblemNumber: 213\n",
      "file_path used:ProblemSets/Training_Queue25\n"
     ]
    },
    {
     "name": "stderr",
     "output_type": "stream",
     "text": [
      "[I 2024-11-22 08:00:10,282] Trial 297 finished with value: 30.702274975272008 and parameters: {'delta_start': 945, 'mip_focus': 0, 'cuts': 3, 'heuristics': 0.7593054360461906, 'presolve': 1, 'nanmean': False}. Best is trial 41 with value: 49.72916302638477.\n"
     ]
    },
    {
     "name": "stdout",
     "output_type": "stream",
     "text": [
      "Study saved to optuna_studies_stochastic/Queue25_Study.pkl\n",
      "Sleeping zZz  zZz  Zzz\n",
      "QueueSize: 25; ProblemNumber: 165\n",
      "file_path used:ProblemSets/Training_Queue25\n"
     ]
    },
    {
     "name": "stderr",
     "output_type": "stream",
     "text": [
      "[I 2024-11-22 08:01:50,200] Trial 298 finished with value: 17.225950782997764 and parameters: {'delta_start': 1334, 'mip_focus': 0, 'cuts': 3, 'heuristics': 0.9301263056469803, 'presolve': 1, 'nanmean': False}. Best is trial 41 with value: 49.72916302638477.\n"
     ]
    },
    {
     "name": "stdout",
     "output_type": "stream",
     "text": [
      "QueueSize: 25; ProblemNumber: 5\n",
      "file_path used:ProblemSets/Training_Queue25\n"
     ]
    },
    {
     "name": "stderr",
     "output_type": "stream",
     "text": [
      "[I 2024-11-22 08:03:27,487] Trial 299 finished with value: 14.93863732543377 and parameters: {'delta_start': 737, 'mip_focus': 0, 'cuts': 2, 'heuristics': 0.8159368248122414, 'presolve': 2, 'nanmean': False}. Best is trial 41 with value: 49.72916302638477.\n"
     ]
    },
    {
     "name": "stdout",
     "output_type": "stream",
     "text": [
      "Study saved to optuna_studies_stochastic/Queue25_Study.pkl\n",
      "Sleeping zZz  zZz  Zzz\n",
      "QueueSize: 75; ProblemNumber: 83\n",
      "file_path used:ProblemSets/Training_Queue75\n"
     ]
    },
    {
     "name": "stderr",
     "output_type": "stream",
     "text": [
      "[I 2024-11-22 08:07:40,648] Trial 148 finished with value: 7.421875 and parameters: {'delta_start': 2628, 'mip_focus': 1, 'cuts': 3, 'heuristics': 0.9892630266672373, 'presolve': 0, 'nanmean': False}. Best is trial 39 with value: 19.897337741430313.\n"
     ]
    },
    {
     "name": "stdout",
     "output_type": "stream",
     "text": [
      "QueueSize: 75; ProblemNumber: 78\n",
      "file_path used:ProblemSets/Training_Queue75\n"
     ]
    },
    {
     "name": "stderr",
     "output_type": "stream",
     "text": [
      "[I 2024-11-22 08:11:34,724] Trial 149 finished with value: 13.239786177930506 and parameters: {'delta_start': 2779, 'mip_focus': 0, 'cuts': 2, 'heuristics': 0.5047766321137152, 'presolve': 2, 'nanmean': True}. Best is trial 39 with value: 19.897337741430313.\n"
     ]
    },
    {
     "name": "stdout",
     "output_type": "stream",
     "text": [
      "Study saved to optuna_studies_stochastic/Queue75_Study.pkl\n",
      "Sleeping zZz  zZz  Zzz\n",
      "QueueSize: 25; ProblemNumber: 62\n",
      "file_path used:ProblemSets/Training_Queue25\n"
     ]
    },
    {
     "name": "stderr",
     "output_type": "stream",
     "text": [
      "[I 2024-11-22 08:13:30,210] Trial 300 finished with value: 3.881987577639751 and parameters: {'delta_start': 700, 'mip_focus': 1, 'cuts': 2, 'heuristics': 0.9543340011602451, 'presolve': 2, 'nanmean': False}. Best is trial 41 with value: 49.72916302638477.\n"
     ]
    },
    {
     "name": "stdout",
     "output_type": "stream",
     "text": [
      "QueueSize: 25; ProblemNumber: 132\n",
      "file_path used:ProblemSets/Training_Queue25\n"
     ]
    },
    {
     "name": "stderr",
     "output_type": "stream",
     "text": [
      "[I 2024-11-22 08:15:29,603] Trial 301 finished with value: 3.074739829706717 and parameters: {'delta_start': 2641, 'mip_focus': 3, 'cuts': 2, 'heuristics': 0.5018553855965586, 'presolve': 0, 'nanmean': True}. Best is trial 41 with value: 49.72916302638477.\n"
     ]
    },
    {
     "name": "stdout",
     "output_type": "stream",
     "text": [
      "Study saved to optuna_studies_stochastic/Queue25_Study.pkl\n",
      "Sleeping zZz  zZz  Zzz\n",
      "QueueSize: 25; ProblemNumber: 89\n",
      "file_path used:ProblemSets/Training_Queue25\n"
     ]
    },
    {
     "name": "stderr",
     "output_type": "stream",
     "text": [
      "[I 2024-11-22 08:17:27,510] Trial 302 finished with value: 9.416243654822335 and parameters: {'delta_start': 1143, 'mip_focus': 0, 'cuts': 3, 'heuristics': 0.8205497563507684, 'presolve': 1, 'nanmean': False}. Best is trial 41 with value: 49.72916302638477.\n"
     ]
    },
    {
     "name": "stdout",
     "output_type": "stream",
     "text": [
      "QueueSize: 25; ProblemNumber: 237\n",
      "file_path used:ProblemSets/Training_Queue25\n"
     ]
    },
    {
     "name": "stderr",
     "output_type": "stream",
     "text": [
      "[I 2024-11-22 08:19:10,956] Trial 303 finished with value: 41.47618216716105 and parameters: {'delta_start': 1490, 'mip_focus': 0, 'cuts': 3, 'heuristics': 0.6954872209601228, 'presolve': 0, 'nanmean': False}. Best is trial 41 with value: 49.72916302638477.\n"
     ]
    },
    {
     "name": "stdout",
     "output_type": "stream",
     "text": [
      "Study saved to optuna_studies_stochastic/Queue25_Study.pkl\n",
      "Sleeping zZz  zZz  Zzz\n",
      "QueueSize: 75; ProblemNumber: 42\n",
      "file_path used:ProblemSets/Training_Queue75\n"
     ]
    },
    {
     "name": "stderr",
     "output_type": "stream",
     "text": [
      "[I 2024-11-22 08:24:17,775] Trial 150 finished with value: 3.5750956781480445 and parameters: {'delta_start': 2498, 'mip_focus': 0, 'cuts': 2, 'heuristics': 0.5245883232867163, 'presolve': 2, 'nanmean': False}. Best is trial 39 with value: 19.897337741430313.\n"
     ]
    },
    {
     "name": "stdout",
     "output_type": "stream",
     "text": [
      "QueueSize: 75; ProblemNumber: 89\n",
      "file_path used:ProblemSets/Training_Queue75\n"
     ]
    },
    {
     "name": "stderr",
     "output_type": "stream",
     "text": [
      "[I 2024-11-22 08:28:58,882] Trial 151 finished with value: 9.787928221859707 and parameters: {'delta_start': 2813, 'mip_focus': 0, 'cuts': 2, 'heuristics': 0.5449970617556049, 'presolve': 1, 'nanmean': True}. Best is trial 39 with value: 19.897337741430313.\n"
     ]
    },
    {
     "name": "stdout",
     "output_type": "stream",
     "text": [
      "Study saved to optuna_studies_stochastic/Queue75_Study.pkl\n",
      "Sleeping zZz  zZz  Zzz\n",
      "QueueSize: 25; ProblemNumber: 296\n",
      "file_path used:ProblemSets/Training_Queue25\n"
     ]
    },
    {
     "name": "stderr",
     "output_type": "stream",
     "text": [
      "[I 2024-11-22 08:31:07,480] Trial 304 finished with value: 25.091328590655642 and parameters: {'delta_start': 692, 'mip_focus': 1, 'cuts': 3, 'heuristics': 0.8512977103538318, 'presolve': 1, 'nanmean': False}. Best is trial 41 with value: 49.72916302638477.\n"
     ]
    },
    {
     "name": "stdout",
     "output_type": "stream",
     "text": [
      "QueueSize: 25; ProblemNumber: 295\n",
      "file_path used:ProblemSets/Training_Queue25\n"
     ]
    },
    {
     "name": "stderr",
     "output_type": "stream",
     "text": [
      "[I 2024-11-22 08:32:33,698] Trial 305 finished with value: 23.765615704937538 and parameters: {'delta_start': 716, 'mip_focus': 2, 'cuts': 2, 'heuristics': 0.8446971927904084, 'presolve': 2, 'nanmean': False}. Best is trial 41 with value: 49.72916302638477.\n"
     ]
    },
    {
     "name": "stdout",
     "output_type": "stream",
     "text": [
      "Study saved to optuna_studies_stochastic/Queue25_Study.pkl\n",
      "Sleeping zZz  zZz  Zzz\n",
      "QueueSize: 25; ProblemNumber: 104\n",
      "file_path used:ProblemSets/Training_Queue25\n"
     ]
    },
    {
     "name": "stderr",
     "output_type": "stream",
     "text": [
      "[I 2024-11-22 08:34:22,406] Trial 306 finished with value: 23.233794610342315 and parameters: {'delta_start': 1489, 'mip_focus': 0, 'cuts': 3, 'heuristics': 0.6807994408082183, 'presolve': 1, 'nanmean': False}. Best is trial 41 with value: 49.72916302638477.\n"
     ]
    },
    {
     "name": "stdout",
     "output_type": "stream",
     "text": [
      "QueueSize: 25; ProblemNumber: 14\n",
      "file_path used:ProblemSets/Training_Queue25\n"
     ]
    },
    {
     "name": "stderr",
     "output_type": "stream",
     "text": [
      "[I 2024-11-22 08:35:47,978] Trial 307 finished with value: 19.674185463659146 and parameters: {'delta_start': 1398, 'mip_focus': 0, 'cuts': 3, 'heuristics': 0.6926085861386716, 'presolve': 0, 'nanmean': False}. Best is trial 41 with value: 49.72916302638477.\n"
     ]
    },
    {
     "name": "stdout",
     "output_type": "stream",
     "text": [
      "Study saved to optuna_studies_stochastic/Queue25_Study.pkl\n",
      "Sleeping zZz  zZz  Zzz\n",
      "QueueSize: 75; ProblemNumber: 32\n",
      "file_path used:ProblemSets/Training_Queue75\n"
     ]
    },
    {
     "name": "stderr",
     "output_type": "stream",
     "text": [
      "[I 2024-11-22 08:40:15,623] Trial 152 finished with value: 5.136621717530163 and parameters: {'delta_start': 2802, 'mip_focus': 1, 'cuts': 2, 'heuristics': 0.7725802590217166, 'presolve': 0, 'nanmean': False}. Best is trial 39 with value: 19.897337741430313.\n"
     ]
    },
    {
     "name": "stdout",
     "output_type": "stream",
     "text": [
      "QueueSize: 75; ProblemNumber: 51\n",
      "file_path used:ProblemSets/Training_Queue75\n"
     ]
    },
    {
     "name": "stderr",
     "output_type": "stream",
     "text": [
      "[I 2024-11-22 08:44:22,279] Trial 153 finished with value: 11.234492929643446 and parameters: {'delta_start': 2745, 'mip_focus': 0, 'cuts': 2, 'heuristics': 0.5884510915355502, 'presolve': 1, 'nanmean': True}. Best is trial 39 with value: 19.897337741430313.\n"
     ]
    },
    {
     "name": "stdout",
     "output_type": "stream",
     "text": [
      "Study saved to optuna_studies_stochastic/Queue75_Study.pkl\n",
      "Sleeping zZz  zZz  Zzz\n",
      "QueueSize: 25; ProblemNumber: 125\n",
      "file_path used:ProblemSets/Training_Queue25\n"
     ]
    },
    {
     "name": "stderr",
     "output_type": "stream",
     "text": [
      "[I 2024-11-22 08:46:21,832] Trial 308 finished with value: 24.335286164939163 and parameters: {'delta_start': 1866, 'mip_focus': 0, 'cuts': 3, 'heuristics': 0.6810158348401314, 'presolve': 0, 'nanmean': False}. Best is trial 41 with value: 49.72916302638477.\n"
     ]
    },
    {
     "name": "stdout",
     "output_type": "stream",
     "text": [
      "QueueSize: 25; ProblemNumber: 23\n",
      "file_path used:ProblemSets/Training_Queue25\n"
     ]
    },
    {
     "name": "stderr",
     "output_type": "stream",
     "text": [
      "[I 2024-11-22 08:47:37,347] Trial 309 finished with value: 25.28793189784677 and parameters: {'delta_start': 2468, 'mip_focus': 3, 'cuts': 2, 'heuristics': 0.6090427098306664, 'presolve': 0, 'nanmean': True}. Best is trial 41 with value: 49.72916302638477.\n"
     ]
    },
    {
     "name": "stdout",
     "output_type": "stream",
     "text": [
      "Study saved to optuna_studies_stochastic/Queue25_Study.pkl\n",
      "Sleeping zZz  zZz  Zzz\n",
      "QueueSize: 25; ProblemNumber: 63\n",
      "file_path used:ProblemSets/Training_Queue25\n"
     ]
    },
    {
     "name": "stderr",
     "output_type": "stream",
     "text": [
      "[I 2024-11-22 08:49:15,560] Trial 310 finished with value: 13.082610093217614 and parameters: {'delta_start': 1344, 'mip_focus': 0, 'cuts': 3, 'heuristics': 0.8341980605540045, 'presolve': 1, 'nanmean': False}. Best is trial 41 with value: 49.72916302638477.\n"
     ]
    },
    {
     "name": "stdout",
     "output_type": "stream",
     "text": [
      "QueueSize: 25; ProblemNumber: 143\n",
      "file_path used:ProblemSets/Training_Queue25\n"
     ]
    },
    {
     "name": "stderr",
     "output_type": "stream",
     "text": [
      "[I 2024-11-22 08:51:04,895] Trial 311 finished with value: 14.476243400944707 and parameters: {'delta_start': 2517, 'mip_focus': 3, 'cuts': 3, 'heuristics': 0.9357158573322131, 'presolve': 2, 'nanmean': False}. Best is trial 41 with value: 49.72916302638477.\n"
     ]
    },
    {
     "name": "stdout",
     "output_type": "stream",
     "text": [
      "Study saved to optuna_studies_stochastic/Queue25_Study.pkl\n",
      "Sleeping zZz  zZz  Zzz\n",
      "QueueSize: 75; ProblemNumber: 97\n",
      "file_path used:ProblemSets/Training_Queue75\n"
     ]
    },
    {
     "name": "stderr",
     "output_type": "stream",
     "text": [
      "[I 2024-11-22 08:55:39,142] Trial 154 finished with value: 2.7118993606929265 and parameters: {'delta_start': 2973, 'mip_focus': 3, 'cuts': 3, 'heuristics': 0.7352873382070149, 'presolve': 2, 'nanmean': False}. Best is trial 39 with value: 19.897337741430313.\n"
     ]
    },
    {
     "name": "stdout",
     "output_type": "stream",
     "text": [
      "QueueSize: 75; ProblemNumber: 25\n",
      "file_path used:ProblemSets/Training_Queue75\n"
     ]
    },
    {
     "name": "stderr",
     "output_type": "stream",
     "text": [
      "[I 2024-11-22 09:00:08,670] Trial 155 finished with value: 13.844313764576896 and parameters: {'delta_start': 2980, 'mip_focus': 1, 'cuts': 2, 'heuristics': 0.7087719679937641, 'presolve': 2, 'nanmean': False}. Best is trial 39 with value: 19.897337741430313.\n"
     ]
    },
    {
     "name": "stdout",
     "output_type": "stream",
     "text": [
      "Study saved to optuna_studies_stochastic/Queue75_Study.pkl\n",
      "Sleeping zZz  zZz  Zzz\n",
      "QueueSize: 25; ProblemNumber: 145\n",
      "file_path used:ProblemSets/Training_Queue25\n"
     ]
    },
    {
     "name": "stderr",
     "output_type": "stream",
     "text": [
      "[I 2024-11-22 09:01:25,153] Trial 312 finished with value: 23.359929078014186 and parameters: {'delta_start': 1102, 'mip_focus': 3, 'cuts': 2, 'heuristics': 0.5093108480508453, 'presolve': 0, 'nanmean': False}. Best is trial 41 with value: 49.72916302638477.\n"
     ]
    },
    {
     "name": "stdout",
     "output_type": "stream",
     "text": [
      "QueueSize: 25; ProblemNumber: 225\n",
      "file_path used:ProblemSets/Training_Queue25\n"
     ]
    },
    {
     "name": "stderr",
     "output_type": "stream",
     "text": [
      "[I 2024-11-22 09:03:14,539] Trial 313 finished with value: 28.708310300350103 and parameters: {'delta_start': 2020, 'mip_focus': 2, 'cuts': 2, 'heuristics': 0.6402999278058198, 'presolve': 0, 'nanmean': True}. Best is trial 41 with value: 49.72916302638477.\n"
     ]
    },
    {
     "name": "stdout",
     "output_type": "stream",
     "text": [
      "Study saved to optuna_studies_stochastic/Queue25_Study.pkl\n",
      "Sleeping zZz  zZz  Zzz\n",
      "QueueSize: 25; ProblemNumber: 104\n",
      "file_path used:ProblemSets/Training_Queue25\n"
     ]
    },
    {
     "name": "stderr",
     "output_type": "stream",
     "text": [
      "[I 2024-11-22 09:05:02,994] Trial 314 finished with value: 23.233794610342315 and parameters: {'delta_start': 759, 'mip_focus': 0, 'cuts': 3, 'heuristics': 0.7793916593098094, 'presolve': 1, 'nanmean': False}. Best is trial 41 with value: 49.72916302638477.\n"
     ]
    },
    {
     "name": "stdout",
     "output_type": "stream",
     "text": [
      "QueueSize: 25; ProblemNumber: 104\n",
      "file_path used:ProblemSets/Training_Queue25\n"
     ]
    },
    {
     "name": "stderr",
     "output_type": "stream",
     "text": [
      "[I 2024-11-22 09:06:51,440] Trial 315 finished with value: 23.233794610342315 and parameters: {'delta_start': 1773, 'mip_focus': 0, 'cuts': 3, 'heuristics': 0.5427740412885901, 'presolve': 0, 'nanmean': False}. Best is trial 41 with value: 49.72916302638477.\n"
     ]
    },
    {
     "name": "stdout",
     "output_type": "stream",
     "text": [
      "Study saved to optuna_studies_stochastic/Queue25_Study.pkl\n",
      "Sleeping zZz  zZz  Zzz\n",
      "QueueSize: 75; ProblemNumber: 51\n",
      "file_path used:ProblemSets/Training_Queue75\n"
     ]
    },
    {
     "name": "stderr",
     "output_type": "stream",
     "text": [
      "[I 2024-11-22 09:10:58,462] Trial 156 finished with value: 11.434024464301205 and parameters: {'delta_start': 2590, 'mip_focus': 0, 'cuts': 2, 'heuristics': 0.5262985581212334, 'presolve': 1, 'nanmean': True}. Best is trial 39 with value: 19.897337741430313.\n"
     ]
    },
    {
     "name": "stdout",
     "output_type": "stream",
     "text": [
      "QueueSize: 75; ProblemNumber: 39\n",
      "file_path used:ProblemSets/Training_Queue75\n"
     ]
    },
    {
     "name": "stderr",
     "output_type": "stream",
     "text": [
      "[I 2024-11-22 09:15:26,302] Trial 157 finished with value: 4.351336802440337 and parameters: {'delta_start': 2565, 'mip_focus': 0, 'cuts': 2, 'heuristics': 0.8718379918562409, 'presolve': 2, 'nanmean': True}. Best is trial 39 with value: 19.897337741430313.\n"
     ]
    },
    {
     "name": "stdout",
     "output_type": "stream",
     "text": [
      "Study saved to optuna_studies_stochastic/Queue75_Study.pkl\n",
      "Sleeping zZz  zZz  Zzz\n",
      "QueueSize: 25; ProblemNumber: 198\n",
      "file_path used:ProblemSets/Training_Queue25\n"
     ]
    },
    {
     "name": "stderr",
     "output_type": "stream",
     "text": [
      "[I 2024-11-22 09:17:14,293] Trial 316 finished with value: 15.477311240820937 and parameters: {'delta_start': 2017, 'mip_focus': 3, 'cuts': 3, 'heuristics': 0.8561715461248659, 'presolve': 1, 'nanmean': False}. Best is trial 41 with value: 49.72916302638477.\n"
     ]
    },
    {
     "name": "stdout",
     "output_type": "stream",
     "text": [
      "QueueSize: 25; ProblemNumber: 134\n",
      "file_path used:ProblemSets/Training_Queue25\n"
     ]
    },
    {
     "name": "stderr",
     "output_type": "stream",
     "text": [
      "[I 2024-11-22 09:18:51,146] Trial 317 finished with value: 14.928848641655886 and parameters: {'delta_start': 1179, 'mip_focus': 1, 'cuts': 3, 'heuristics': 0.7618443435705159, 'presolve': 1, 'nanmean': False}. Best is trial 41 with value: 49.72916302638477.\n"
     ]
    },
    {
     "name": "stdout",
     "output_type": "stream",
     "text": [
      "Study saved to optuna_studies_stochastic/Queue25_Study.pkl\n",
      "Sleeping zZz  zZz  Zzz\n",
      "QueueSize: 25; ProblemNumber: 67\n",
      "file_path used:ProblemSets/Training_Queue25\n"
     ]
    },
    {
     "name": "stderr",
     "output_type": "stream",
     "text": [
      "[I 2024-11-22 09:20:39,612] Trial 318 finished with value: 21.697871249038215 and parameters: {'delta_start': 1439, 'mip_focus': 2, 'cuts': 3, 'heuristics': 0.8143810241148637, 'presolve': 1, 'nanmean': False}. Best is trial 41 with value: 49.72916302638477.\n"
     ]
    },
    {
     "name": "stdout",
     "output_type": "stream",
     "text": [
      "QueueSize: 25; ProblemNumber: 179\n",
      "file_path used:ProblemSets/Training_Queue25\n"
     ]
    },
    {
     "name": "stderr",
     "output_type": "stream",
     "text": [
      "[I 2024-11-22 09:22:16,674] Trial 319 finished with value: 14.537540805223067 and parameters: {'delta_start': 1510, 'mip_focus': 0, 'cuts': 3, 'heuristics': 0.6918012508589508, 'presolve': 0, 'nanmean': False}. Best is trial 41 with value: 49.72916302638477.\n"
     ]
    },
    {
     "name": "stdout",
     "output_type": "stream",
     "text": [
      "Study saved to optuna_studies_stochastic/Queue25_Study.pkl\n",
      "Sleeping zZz  zZz  Zzz\n",
      "QueueSize: 75; ProblemNumber: 72\n",
      "file_path used:ProblemSets/Training_Queue75\n"
     ]
    },
    {
     "name": "stderr",
     "output_type": "stream",
     "text": [
      "[I 2024-11-22 09:26:48,763] Trial 158 finished with value: 16.63975782038345 and parameters: {'delta_start': 2963, 'mip_focus': 1, 'cuts': 2, 'heuristics': 0.5178549911508835, 'presolve': 1, 'nanmean': False}. Best is trial 39 with value: 19.897337741430313.\n"
     ]
    },
    {
     "name": "stdout",
     "output_type": "stream",
     "text": [
      "QueueSize: 75; ProblemNumber: 42\n",
      "file_path used:ProblemSets/Training_Queue75\n"
     ]
    },
    {
     "name": "stderr",
     "output_type": "stream",
     "text": [
      "[I 2024-11-22 09:31:56,201] Trial 159 finished with value: 6.823485484924857 and parameters: {'delta_start': 2541, 'mip_focus': 0, 'cuts': 2, 'heuristics': 0.9528854615444192, 'presolve': 0, 'nanmean': True}. Best is trial 39 with value: 19.897337741430313.\n"
     ]
    },
    {
     "name": "stdout",
     "output_type": "stream",
     "text": [
      "Study saved to optuna_studies_stochastic/Queue75_Study.pkl\n",
      "Sleeping zZz  zZz  Zzz\n",
      "QueueSize: 25; ProblemNumber: 15\n",
      "file_path used:ProblemSets/Training_Queue25\n"
     ]
    },
    {
     "name": "stderr",
     "output_type": "stream",
     "text": [
      "[I 2024-11-22 09:33:22,113] Trial 320 finished with value: 13.13054978273191 and parameters: {'delta_start': 1245, 'mip_focus': 0, 'cuts': 3, 'heuristics': 0.7666386440551387, 'presolve': 0, 'nanmean': False}. Best is trial 41 with value: 49.72916302638477.\n"
     ]
    },
    {
     "name": "stdout",
     "output_type": "stream",
     "text": [
      "QueueSize: 25; ProblemNumber: 111\n",
      "file_path used:ProblemSets/Training_Queue25\n"
     ]
    },
    {
     "name": "stderr",
     "output_type": "stream",
     "text": [
      "[I 2024-11-22 09:34:49,558] Trial 321 finished with value: 16.78090886011678 and parameters: {'delta_start': 1013, 'mip_focus': 0, 'cuts': 3, 'heuristics': 0.5451958548033409, 'presolve': 1, 'nanmean': True}. Best is trial 41 with value: 49.72916302638477.\n"
     ]
    },
    {
     "name": "stdout",
     "output_type": "stream",
     "text": [
      "Study saved to optuna_studies_stochastic/Queue25_Study.pkl\n",
      "Sleeping zZz  zZz  Zzz\n",
      "QueueSize: 25; ProblemNumber: 157\n",
      "file_path used:ProblemSets/Training_Queue25\n"
     ]
    },
    {
     "name": "stderr",
     "output_type": "stream",
     "text": [
      "[I 2024-11-22 09:36:27,859] Trial 322 finished with value: 4.649196956889265 and parameters: {'delta_start': 694, 'mip_focus': 1, 'cuts': 3, 'heuristics': 0.9278286006569567, 'presolve': 0, 'nanmean': False}. Best is trial 41 with value: 49.72916302638477.\n"
     ]
    },
    {
     "name": "stdout",
     "output_type": "stream",
     "text": [
      "QueueSize: 25; ProblemNumber: 289\n",
      "file_path used:ProblemSets/Training_Queue25\n"
     ]
    },
    {
     "name": "stderr",
     "output_type": "stream",
     "text": [
      "[I 2024-11-22 09:38:07,432] Trial 323 finished with value: 20.940683043738765 and parameters: {'delta_start': 1211, 'mip_focus': 0, 'cuts': 3, 'heuristics': 0.7477884939447353, 'presolve': 1, 'nanmean': False}. Best is trial 41 with value: 49.72916302638477.\n"
     ]
    },
    {
     "name": "stdout",
     "output_type": "stream",
     "text": [
      "Study saved to optuna_studies_stochastic/Queue25_Study.pkl\n",
      "Sleeping zZz  zZz  Zzz\n",
      "QueueSize: 75; ProblemNumber: 94\n",
      "file_path used:ProblemSets/Training_Queue75\n"
     ]
    },
    {
     "name": "stderr",
     "output_type": "stream",
     "text": [
      "[I 2024-11-22 09:41:51,977] Trial 160 finished with value: 12.602711585866885 and parameters: {'delta_start': 2921, 'mip_focus': 1, 'cuts': 2, 'heuristics': 0.5593413646655164, 'presolve': 1, 'nanmean': False}. Best is trial 39 with value: 19.897337741430313.\n"
     ]
    },
    {
     "name": "stdout",
     "output_type": "stream",
     "text": [
      "QueueSize: 75; ProblemNumber: 27\n",
      "file_path used:ProblemSets/Training_Queue75\n"
     ]
    },
    {
     "name": "stderr",
     "output_type": "stream",
     "text": [
      "[I 2024-11-22 09:46:23,375] Trial 161 finished with value: 17.767139373137024 and parameters: {'delta_start': 2975, 'mip_focus': 1, 'cuts': 2, 'heuristics': 0.5493483190388864, 'presolve': 1, 'nanmean': False}. Best is trial 39 with value: 19.897337741430313.\n"
     ]
    },
    {
     "name": "stdout",
     "output_type": "stream",
     "text": [
      "Study saved to optuna_studies_stochastic/Queue75_Study.pkl\n",
      "Sleeping zZz  zZz  Zzz\n",
      "QueueSize: 25; ProblemNumber: 157\n",
      "file_path used:ProblemSets/Training_Queue25\n"
     ]
    },
    {
     "name": "stderr",
     "output_type": "stream",
     "text": [
      "[I 2024-11-22 09:48:00,690] Trial 324 finished with value: 4.930966469428008 and parameters: {'delta_start': 2556, 'mip_focus': 2, 'cuts': 3, 'heuristics': 0.8117140254031149, 'presolve': 1, 'nanmean': False}. Best is trial 41 with value: 49.72916302638477.\n"
     ]
    },
    {
     "name": "stdout",
     "output_type": "stream",
     "text": [
      "QueueSize: 25; ProblemNumber: 38\n",
      "file_path used:ProblemSets/Training_Queue25\n"
     ]
    },
    {
     "name": "stderr",
     "output_type": "stream",
     "text": [
      "[I 2024-11-22 09:50:03,866] Trial 325 finished with value: 19.917864476386036 and parameters: {'delta_start': 663, 'mip_focus': 1, 'cuts': 3, 'heuristics': 0.6827352908379412, 'presolve': 0, 'nanmean': False}. Best is trial 41 with value: 49.72916302638477.\n"
     ]
    },
    {
     "name": "stdout",
     "output_type": "stream",
     "text": [
      "Study saved to optuna_studies_stochastic/Queue25_Study.pkl\n",
      "Sleeping zZz  zZz  Zzz\n",
      "QueueSize: 25; ProblemNumber: 97\n",
      "file_path used:ProblemSets/Training_Queue25\n"
     ]
    },
    {
     "name": "stderr",
     "output_type": "stream",
     "text": [
      "[I 2024-11-22 09:51:39,635] Trial 326 finished with value: 11.62423969362469 and parameters: {'delta_start': 649, 'mip_focus': 2, 'cuts': 2, 'heuristics': 0.9366898690969139, 'presolve': 1, 'nanmean': True}. Best is trial 41 with value: 49.72916302638477.\n"
     ]
    },
    {
     "name": "stdout",
     "output_type": "stream",
     "text": [
      "QueueSize: 25; ProblemNumber: 289\n",
      "file_path used:ProblemSets/Training_Queue25\n"
     ]
    },
    {
     "name": "stderr",
     "output_type": "stream",
     "text": [
      "[I 2024-11-22 09:53:20,532] Trial 327 finished with value: 20.880766926303178 and parameters: {'delta_start': 943, 'mip_focus': 0, 'cuts': 2, 'heuristics': 0.7929673963500086, 'presolve': 0, 'nanmean': False}. Best is trial 41 with value: 49.72916302638477.\n"
     ]
    },
    {
     "name": "stdout",
     "output_type": "stream",
     "text": [
      "Study saved to optuna_studies_stochastic/Queue25_Study.pkl\n",
      "Sleeping zZz  zZz  Zzz\n",
      "QueueSize: 75; ProblemNumber: 68\n",
      "file_path used:ProblemSets/Training_Queue75\n"
     ]
    },
    {
     "name": "stderr",
     "output_type": "stream",
     "text": [
      "[I 2024-11-22 09:58:02,030] Trial 162 finished with value: 18.310117302052788 and parameters: {'delta_start': 2989, 'mip_focus': 1, 'cuts': 2, 'heuristics': 0.5629022812766953, 'presolve': 1, 'nanmean': False}. Best is trial 39 with value: 19.897337741430313.\n"
     ]
    },
    {
     "name": "stdout",
     "output_type": "stream",
     "text": [
      "QueueSize: 75; ProblemNumber: 86\n",
      "file_path used:ProblemSets/Training_Queue75\n"
     ]
    },
    {
     "name": "stderr",
     "output_type": "stream",
     "text": [
      "[I 2024-11-22 10:02:19,965] Trial 163 finished with value: 14.885755955274671 and parameters: {'delta_start': 2937, 'mip_focus': 1, 'cuts': 2, 'heuristics': 0.5265413581617878, 'presolve': 1, 'nanmean': False}. Best is trial 39 with value: 19.897337741430313.\n"
     ]
    },
    {
     "name": "stdout",
     "output_type": "stream",
     "text": [
      "Study saved to optuna_studies_stochastic/Queue75_Study.pkl\n",
      "Sleeping zZz  zZz  Zzz\n",
      "QueueSize: 25; ProblemNumber: 10\n",
      "file_path used:ProblemSets/Training_Queue25\n"
     ]
    },
    {
     "name": "stderr",
     "output_type": "stream",
     "text": [
      "[I 2024-11-22 10:03:55,477] Trial 328 finished with value: 28.893756845564074 and parameters: {'delta_start': 2560, 'mip_focus': 3, 'cuts': 3, 'heuristics': 0.796522766188632, 'presolve': 0, 'nanmean': False}. Best is trial 41 with value: 49.72916302638477.\n"
     ]
    },
    {
     "name": "stdout",
     "output_type": "stream",
     "text": [
      "QueueSize: 25; ProblemNumber: 5\n",
      "file_path used:ProblemSets/Training_Queue25\n"
     ]
    },
    {
     "name": "stderr",
     "output_type": "stream",
     "text": [
      "[I 2024-11-22 10:05:32,847] Trial 329 finished with value: 16.864155734236142 and parameters: {'delta_start': 975, 'mip_focus': 0, 'cuts': 3, 'heuristics': 0.7838444670417218, 'presolve': 2, 'nanmean': True}. Best is trial 41 with value: 49.72916302638477.\n"
     ]
    },
    {
     "name": "stdout",
     "output_type": "stream",
     "text": [
      "Study saved to optuna_studies_stochastic/Queue25_Study.pkl\n",
      "Sleeping zZz  zZz  Zzz\n",
      "QueueSize: 25; ProblemNumber: 123\n",
      "file_path used:ProblemSets/Training_Queue25\n"
     ]
    },
    {
     "name": "stderr",
     "output_type": "stream",
     "text": [
      "[I 2024-11-22 10:07:26,524] Trial 330 finished with value: 18.43215083105929 and parameters: {'delta_start': 2613, 'mip_focus': 3, 'cuts': 3, 'heuristics': 0.87525126067504, 'presolve': 1, 'nanmean': False}. Best is trial 41 with value: 49.72916302638477.\n"
     ]
    },
    {
     "name": "stdout",
     "output_type": "stream",
     "text": [
      "QueueSize: 25; ProblemNumber: 118\n",
      "file_path used:ProblemSets/Training_Queue25\n"
     ]
    },
    {
     "name": "stderr",
     "output_type": "stream",
     "text": [
      "[I 2024-11-22 10:09:14,641] Trial 331 finished with value: 19.098323516085184 and parameters: {'delta_start': 1277, 'mip_focus': 1, 'cuts': 2, 'heuristics': 0.9987183230184682, 'presolve': 1, 'nanmean': False}. Best is trial 41 with value: 49.72916302638477.\n"
     ]
    },
    {
     "name": "stdout",
     "output_type": "stream",
     "text": [
      "Study saved to optuna_studies_stochastic/Queue25_Study.pkl\n",
      "Sleeping zZz  zZz  Zzz\n",
      "QueueSize: 75; ProblemNumber: 38\n",
      "file_path used:ProblemSets/Training_Queue75\n"
     ]
    },
    {
     "name": "stderr",
     "output_type": "stream",
     "text": [
      "[I 2024-11-22 10:12:29,971] Trial 164 finished with value: 10.158866466294548 and parameters: {'delta_start': 2989, 'mip_focus': 0, 'cuts': 3, 'heuristics': 0.530634220770728, 'presolve': 1, 'nanmean': False}. Best is trial 39 with value: 19.897337741430313.\n"
     ]
    },
    {
     "name": "stdout",
     "output_type": "stream",
     "text": [
      "QueueSize: 75; ProblemNumber: 13\n",
      "file_path used:ProblemSets/Training_Queue75\n"
     ]
    },
    {
     "name": "stderr",
     "output_type": "stream",
     "text": [
      "[I 2024-11-22 10:17:20,705] Trial 165 finished with value: 11.982434127979925 and parameters: {'delta_start': 2935, 'mip_focus': 2, 'cuts': 2, 'heuristics': 0.6553847324904135, 'presolve': 1, 'nanmean': False}. Best is trial 39 with value: 19.897337741430313.\n"
     ]
    },
    {
     "name": "stdout",
     "output_type": "stream",
     "text": [
      "Study saved to optuna_studies_stochastic/Queue75_Study.pkl\n",
      "Sleeping zZz  zZz  Zzz\n",
      "QueueSize: 25; ProblemNumber: 159\n",
      "file_path used:ProblemSets/Training_Queue25\n"
     ]
    },
    {
     "name": "stderr",
     "output_type": "stream",
     "text": [
      "[I 2024-11-22 10:19:09,201] Trial 332 finished with value: 18.864774624373958 and parameters: {'delta_start': 1456, 'mip_focus': 0, 'cuts': 3, 'heuristics': 0.7851802682571238, 'presolve': 0, 'nanmean': False}. Best is trial 41 with value: 49.72916302638477.\n"
     ]
    },
    {
     "name": "stdout",
     "output_type": "stream",
     "text": [
      "QueueSize: 25; ProblemNumber: 228\n",
      "file_path used:ProblemSets/Training_Queue25\n"
     ]
    },
    {
     "name": "stderr",
     "output_type": "stream",
     "text": [
      "[I 2024-11-22 10:20:26,566] Trial 333 finished with value: 11.17121990803354 and parameters: {'delta_start': 1266, 'mip_focus': 1, 'cuts': 3, 'heuristics': 0.6866219869576378, 'presolve': 1, 'nanmean': True}. Best is trial 41 with value: 49.72916302638477.\n"
     ]
    },
    {
     "name": "stdout",
     "output_type": "stream",
     "text": [
      "Study saved to optuna_studies_stochastic/Queue25_Study.pkl\n",
      "Sleeping zZz  zZz  Zzz\n",
      "QueueSize: 25; ProblemNumber: 216\n",
      "file_path used:ProblemSets/Training_Queue25\n"
     ]
    },
    {
     "name": "stderr",
     "output_type": "stream",
     "text": [
      "[I 2024-11-22 10:21:53,171] Trial 334 finished with value: 29.65534341681131 and parameters: {'delta_start': 895, 'mip_focus': 1, 'cuts': 2, 'heuristics': 0.9975920849498101, 'presolve': 1, 'nanmean': True}. Best is trial 41 with value: 49.72916302638477.\n"
     ]
    },
    {
     "name": "stdout",
     "output_type": "stream",
     "text": [
      "QueueSize: 25; ProblemNumber: 184\n",
      "file_path used:ProblemSets/Training_Queue25\n"
     ]
    },
    {
     "name": "stderr",
     "output_type": "stream",
     "text": [
      "[I 2024-11-22 10:23:53,358] Trial 335 finished with value: 13.115190210162279 and parameters: {'delta_start': 757, 'mip_focus': 1, 'cuts': 2, 'heuristics': 0.8112543834434408, 'presolve': 2, 'nanmean': False}. Best is trial 41 with value: 49.72916302638477.\n"
     ]
    },
    {
     "name": "stdout",
     "output_type": "stream",
     "text": [
      "Study saved to optuna_studies_stochastic/Queue25_Study.pkl\n",
      "Sleeping zZz  zZz  Zzz\n",
      "QueueSize: 75; ProblemNumber: 15\n",
      "file_path used:ProblemSets/Training_Queue75\n"
     ]
    },
    {
     "name": "stderr",
     "output_type": "stream",
     "text": [
      "[I 2024-11-22 10:28:18,032] Trial 166 finished with value: 23.037740217642973 and parameters: {'delta_start': 2952, 'mip_focus': 1, 'cuts': 2, 'heuristics': 0.5851062188632922, 'presolve': 1, 'nanmean': False}. Best is trial 166 with value: 23.037740217642973.\n"
     ]
    },
    {
     "name": "stdout",
     "output_type": "stream",
     "text": [
      "QueueSize: 75; ProblemNumber: 29\n",
      "file_path used:ProblemSets/Training_Queue75\n"
     ]
    },
    {
     "name": "stderr",
     "output_type": "stream",
     "text": [
      "[I 2024-11-22 10:33:01,500] Trial 167 finished with value: 6.380346412159773 and parameters: {'delta_start': 2965, 'mip_focus': 0, 'cuts': 2, 'heuristics': 0.6089975646972218, 'presolve': 1, 'nanmean': False}. Best is trial 166 with value: 23.037740217642973.\n"
     ]
    },
    {
     "name": "stdout",
     "output_type": "stream",
     "text": [
      "Study saved to optuna_studies_stochastic/Queue75_Study.pkl\n",
      "Sleeping zZz  zZz  Zzz\n",
      "QueueSize: 25; ProblemNumber: 136\n",
      "file_path used:ProblemSets/Training_Queue25\n"
     ]
    },
    {
     "name": "stderr",
     "output_type": "stream",
     "text": [
      "[I 2024-11-22 10:35:09,976] Trial 336 finished with value: 12.378126324713861 and parameters: {'delta_start': 1471, 'mip_focus': 1, 'cuts': 2, 'heuristics': 0.8828884278658289, 'presolve': 0, 'nanmean': False}. Best is trial 41 with value: 49.72916302638477.\n"
     ]
    },
    {
     "name": "stdout",
     "output_type": "stream",
     "text": [
      "QueueSize: 25; ProblemNumber: 261\n",
      "file_path used:ProblemSets/Training_Queue25\n"
     ]
    },
    {
     "name": "stderr",
     "output_type": "stream",
     "text": [
      "[I 2024-11-22 10:37:09,511] Trial 337 finished with value: 15.072372561359346 and parameters: {'delta_start': 1418, 'mip_focus': 2, 'cuts': 3, 'heuristics': 0.9662455914940002, 'presolve': 1, 'nanmean': False}. Best is trial 41 with value: 49.72916302638477.\n"
     ]
    },
    {
     "name": "stdout",
     "output_type": "stream",
     "text": [
      "Study saved to optuna_studies_stochastic/Queue25_Study.pkl\n",
      "Sleeping zZz  zZz  Zzz\n",
      "QueueSize: 25; ProblemNumber: 157\n",
      "file_path used:ProblemSets/Training_Queue25\n"
     ]
    },
    {
     "name": "stderr",
     "output_type": "stream",
     "text": [
      "[I 2024-11-22 10:38:55,868] Trial 338 finished with value: 4.649196956889265 and parameters: {'delta_start': 663, 'mip_focus': 3, 'cuts': 2, 'heuristics': 0.7379769618268337, 'presolve': 2, 'nanmean': False}. Best is trial 41 with value: 49.72916302638477.\n"
     ]
    },
    {
     "name": "stdout",
     "output_type": "stream",
     "text": [
      "QueueSize: 25; ProblemNumber: 47\n",
      "file_path used:ProblemSets/Training_Queue25\n"
     ]
    },
    {
     "name": "stderr",
     "output_type": "stream",
     "text": [
      "[I 2024-11-22 10:40:59,558] Trial 339 finished with value: 26.020719073735528 and parameters: {'delta_start': 650, 'mip_focus': 0, 'cuts': 3, 'heuristics': 0.7365056948694088, 'presolve': 1, 'nanmean': False}. Best is trial 41 with value: 49.72916302638477.\n"
     ]
    },
    {
     "name": "stdout",
     "output_type": "stream",
     "text": [
      "Study saved to optuna_studies_stochastic/Queue25_Study.pkl\n",
      "Sleeping zZz  zZz  Zzz\n",
      "QueueSize: 75; ProblemNumber: 68\n",
      "file_path used:ProblemSets/Training_Queue75\n"
     ]
    },
    {
     "name": "stderr",
     "output_type": "stream",
     "text": [
      "[I 2024-11-22 10:45:40,089] Trial 168 finished with value: 16.101539589442815 and parameters: {'delta_start': 2985, 'mip_focus': 1, 'cuts': 2, 'heuristics': 0.5193741706701854, 'presolve': 1, 'nanmean': False}. Best is trial 166 with value: 23.037740217642973.\n"
     ]
    },
    {
     "name": "stdout",
     "output_type": "stream",
     "text": [
      "QueueSize: 75; ProblemNumber: 76\n",
      "file_path used:ProblemSets/Training_Queue75\n"
     ]
    },
    {
     "name": "stderr",
     "output_type": "stream",
     "text": [
      "[I 2024-11-22 10:49:33,168] Trial 169 finished with value: 13.521559588975318 and parameters: {'delta_start': 2934, 'mip_focus': 1, 'cuts': 2, 'heuristics': 0.5831728109121235, 'presolve': 1, 'nanmean': False}. Best is trial 166 with value: 23.037740217642973.\n"
     ]
    },
    {
     "name": "stdout",
     "output_type": "stream",
     "text": [
      "Study saved to optuna_studies_stochastic/Queue75_Study.pkl\n",
      "Sleeping zZz  zZz  Zzz\n",
      "QueueSize: 25; ProblemNumber: 173\n",
      "file_path used:ProblemSets/Training_Queue25\n"
     ]
    },
    {
     "name": "stderr",
     "output_type": "stream",
     "text": [
      "[I 2024-11-22 10:51:12,487] Trial 340 finished with value: 24.70643494598403 and parameters: {'delta_start': 1139, 'mip_focus': 0, 'cuts': 3, 'heuristics': 0.6670233693361088, 'presolve': 2, 'nanmean': False}. Best is trial 41 with value: 49.72916302638477.\n"
     ]
    },
    {
     "name": "stdout",
     "output_type": "stream",
     "text": [
      "QueueSize: 25; ProblemNumber: 130\n",
      "file_path used:ProblemSets/Training_Queue25\n"
     ]
    },
    {
     "name": "stderr",
     "output_type": "stream",
     "text": [
      "[I 2024-11-22 10:52:49,998] Trial 341 finished with value: 31.820580474934033 and parameters: {'delta_start': 881, 'mip_focus': 1, 'cuts': 2, 'heuristics': 0.8855603182010212, 'presolve': 2, 'nanmean': False}. Best is trial 41 with value: 49.72916302638477.\n"
     ]
    },
    {
     "name": "stdout",
     "output_type": "stream",
     "text": [
      "Study saved to optuna_studies_stochastic/Queue25_Study.pkl\n",
      "Sleeping zZz  zZz  Zzz\n",
      "QueueSize: 25; ProblemNumber: 95\n",
      "file_path used:ProblemSets/Training_Queue25\n"
     ]
    },
    {
     "name": "stderr",
     "output_type": "stream",
     "text": [
      "[I 2024-11-22 10:54:29,345] Trial 342 finished with value: 4.716073147256978 and parameters: {'delta_start': 1116, 'mip_focus': 3, 'cuts': 2, 'heuristics': 0.5084844923760511, 'presolve': 1, 'nanmean': False}. Best is trial 41 with value: 49.72916302638477.\n"
     ]
    },
    {
     "name": "stdout",
     "output_type": "stream",
     "text": [
      "QueueSize: 25; ProblemNumber: 115\n",
      "file_path used:ProblemSets/Training_Queue25\n"
     ]
    },
    {
     "name": "stderr",
     "output_type": "stream",
     "text": [
      "[I 2024-11-22 10:56:30,004] Trial 343 finished with value: 15.059033192247718 and parameters: {'delta_start': 1696, 'mip_focus': 3, 'cuts': 3, 'heuristics': 0.7423908325450068, 'presolve': 1, 'nanmean': False}. Best is trial 41 with value: 49.72916302638477.\n"
     ]
    },
    {
     "name": "stdout",
     "output_type": "stream",
     "text": [
      "Study saved to optuna_studies_stochastic/Queue25_Study.pkl\n",
      "Sleeping zZz  zZz  Zzz\n",
      "QueueSize: 75; ProblemNumber: 36\n",
      "file_path used:ProblemSets/Training_Queue75\n"
     ]
    },
    {
     "name": "stderr",
     "output_type": "stream",
     "text": [
      "[I 2024-11-22 11:00:22,962] Trial 170 finished with value: 9.878296146044626 and parameters: {'delta_start': 2991, 'mip_focus': 1, 'cuts': 2, 'heuristics': 0.6615050729153639, 'presolve': 1, 'nanmean': False}. Best is trial 166 with value: 23.037740217642973.\n"
     ]
    },
    {
     "name": "stdout",
     "output_type": "stream",
     "text": [
      "QueueSize: 75; ProblemNumber: 36\n",
      "file_path used:ProblemSets/Training_Queue75\n"
     ]
    },
    {
     "name": "stderr",
     "output_type": "stream",
     "text": [
      "[I 2024-11-22 11:04:14,804] Trial 171 finished with value: 6.348884381338743 and parameters: {'delta_start': 2996, 'mip_focus': 0, 'cuts': 2, 'heuristics': 0.6792406086499136, 'presolve': 1, 'nanmean': True}. Best is trial 166 with value: 23.037740217642973.\n"
     ]
    },
    {
     "name": "stdout",
     "output_type": "stream",
     "text": [
      "Study saved to optuna_studies_stochastic/Queue75_Study.pkl\n",
      "Sleeping zZz  zZz  Zzz\n",
      "QueueSize: 25; ProblemNumber: 282\n",
      "file_path used:ProblemSets/Training_Queue25\n"
     ]
    },
    {
     "name": "stderr",
     "output_type": "stream",
     "text": [
      "[I 2024-11-22 11:06:13,680] Trial 344 finished with value: 20.882426673351716 and parameters: {'delta_start': 713, 'mip_focus': 0, 'cuts': 3, 'heuristics': 0.8898026052086424, 'presolve': 2, 'nanmean': False}. Best is trial 41 with value: 49.72916302638477.\n"
     ]
    },
    {
     "name": "stdout",
     "output_type": "stream",
     "text": [
      "QueueSize: 25; ProblemNumber: 299\n",
      "file_path used:ProblemSets/Training_Queue25\n"
     ]
    },
    {
     "name": "stderr",
     "output_type": "stream",
     "text": [
      "[I 2024-11-22 11:06:24,949] Trial 345 finished with value: -100.0 and parameters: {'delta_start': 756, 'mip_focus': 0, 'cuts': 3, 'heuristics': 0.7400817272725696, 'presolve': 0, 'nanmean': False}. Best is trial 41 with value: 49.72916302638477.\n"
     ]
    },
    {
     "name": "stdout",
     "output_type": "stream",
     "text": [
      "Study saved to optuna_studies_stochastic/Queue25_Study.pkl\n",
      "Sleeping zZz  zZz  Zzz\n",
      "QueueSize: 25; ProblemNumber: 283\n",
      "file_path used:ProblemSets/Training_Queue25\n"
     ]
    },
    {
     "name": "stderr",
     "output_type": "stream",
     "text": [
      "[I 2024-11-22 11:07:56,931] Trial 346 finished with value: 19.390436153441932 and parameters: {'delta_start': 1071, 'mip_focus': 0, 'cuts': 3, 'heuristics': 0.7421455907652, 'presolve': 1, 'nanmean': False}. Best is trial 41 with value: 49.72916302638477.\n"
     ]
    },
    {
     "name": "stdout",
     "output_type": "stream",
     "text": [
      "QueueSize: 25; ProblemNumber: 69\n",
      "file_path used:ProblemSets/Training_Queue25\n"
     ]
    },
    {
     "name": "stderr",
     "output_type": "stream",
     "text": [
      "[I 2024-11-22 11:09:55,196] Trial 347 finished with value: 11.717495987158909 and parameters: {'delta_start': 684, 'mip_focus': 1, 'cuts': 3, 'heuristics': 0.5545321374987454, 'presolve': 0, 'nanmean': False}. Best is trial 41 with value: 49.72916302638477.\n"
     ]
    },
    {
     "name": "stdout",
     "output_type": "stream",
     "text": [
      "Study saved to optuna_studies_stochastic/Queue25_Study.pkl\n",
      "Sleeping zZz  zZz  Zzz\n",
      "QueueSize: 75; ProblemNumber: 20\n",
      "file_path used:ProblemSets/Training_Queue75\n"
     ]
    },
    {
     "name": "stderr",
     "output_type": "stream",
     "text": [
      "[I 2024-11-22 11:14:25,858] Trial 172 finished with value: 7.207619745397931 and parameters: {'delta_start': 2978, 'mip_focus': 1, 'cuts': 2, 'heuristics': 0.5359221513204228, 'presolve': 2, 'nanmean': False}. Best is trial 166 with value: 23.037740217642973.\n"
     ]
    },
    {
     "name": "stdout",
     "output_type": "stream",
     "text": [
      "QueueSize: 75; ProblemNumber: 11\n",
      "file_path used:ProblemSets/Training_Queue75\n"
     ]
    },
    {
     "name": "stderr",
     "output_type": "stream",
     "text": [
      "[I 2024-11-22 11:18:37,163] Trial 173 finished with value: 10.159666429370487 and parameters: {'delta_start': 2990, 'mip_focus': 1, 'cuts': 2, 'heuristics': 0.508355761975121, 'presolve': 1, 'nanmean': False}. Best is trial 166 with value: 23.037740217642973.\n"
     ]
    },
    {
     "name": "stdout",
     "output_type": "stream",
     "text": [
      "Study saved to optuna_studies_stochastic/Queue75_Study.pkl\n",
      "Sleeping zZz  zZz  Zzz\n",
      "QueueSize: 25; ProblemNumber: 254\n",
      "file_path used:ProblemSets/Training_Queue25\n"
     ]
    },
    {
     "name": "stderr",
     "output_type": "stream",
     "text": [
      "[I 2024-11-22 11:20:39,335] Trial 348 finished with value: 15.696310513968864 and parameters: {'delta_start': 1766, 'mip_focus': 0, 'cuts': 2, 'heuristics': 0.579848438155343, 'presolve': 0, 'nanmean': False}. Best is trial 41 with value: 49.72916302638477.\n"
     ]
    },
    {
     "name": "stdout",
     "output_type": "stream",
     "text": [
      "QueueSize: 25; ProblemNumber: 38\n",
      "file_path used:ProblemSets/Training_Queue25\n"
     ]
    },
    {
     "name": "stderr",
     "output_type": "stream",
     "text": [
      "[I 2024-11-22 11:22:43,543] Trial 349 finished with value: 19.635523613963038 and parameters: {'delta_start': 2229, 'mip_focus': 0, 'cuts': 3, 'heuristics': 0.6842107607588851, 'presolve': 0, 'nanmean': True}. Best is trial 41 with value: 49.72916302638477.\n"
     ]
    },
    {
     "name": "stdout",
     "output_type": "stream",
     "text": [
      "Study saved to optuna_studies_stochastic/Queue25_Study.pkl\n",
      "Sleeping zZz  zZz  Zzz\n",
      "QueueSize: 25; ProblemNumber: 134\n",
      "file_path used:ProblemSets/Training_Queue25\n"
     ]
    },
    {
     "name": "stderr",
     "output_type": "stream",
     "text": [
      "[I 2024-11-22 11:24:21,137] Trial 350 finished with value: 14.514877102199225 and parameters: {'delta_start': 2406, 'mip_focus': 2, 'cuts': 2, 'heuristics': 0.6445978635933286, 'presolve': 1, 'nanmean': False}. Best is trial 41 with value: 49.72916302638477.\n"
     ]
    },
    {
     "name": "stdout",
     "output_type": "stream",
     "text": [
      "QueueSize: 25; ProblemNumber: 200\n",
      "file_path used:ProblemSets/Training_Queue25\n"
     ]
    },
    {
     "name": "stderr",
     "output_type": "stream",
     "text": [
      "[I 2024-11-22 11:26:30,595] Trial 351 finished with value: 15.528478322470955 and parameters: {'delta_start': 2188, 'mip_focus': 3, 'cuts': 2, 'heuristics': 0.5939962010151018, 'presolve': 1, 'nanmean': False}. Best is trial 41 with value: 49.72916302638477.\n"
     ]
    },
    {
     "name": "stdout",
     "output_type": "stream",
     "text": [
      "Study saved to optuna_studies_stochastic/Queue25_Study.pkl\n",
      "Sleeping zZz  zZz  Zzz\n",
      "QueueSize: 75; ProblemNumber: 23\n",
      "file_path used:ProblemSets/Training_Queue75\n"
     ]
    },
    {
     "name": "stderr",
     "output_type": "stream",
     "text": [
      "[I 2024-11-22 11:30:39,244] Trial 174 finished with value: 7.2737955346650995 and parameters: {'delta_start': 2976, 'mip_focus': 2, 'cuts': 2, 'heuristics': 0.5753607261202984, 'presolve': 1, 'nanmean': False}. Best is trial 166 with value: 23.037740217642973.\n"
     ]
    },
    {
     "name": "stdout",
     "output_type": "stream",
     "text": [
      "QueueSize: 75; ProblemNumber: 47\n",
      "file_path used:ProblemSets/Training_Queue75\n"
     ]
    },
    {
     "name": "stderr",
     "output_type": "stream",
     "text": [
      "[I 2024-11-22 11:35:27,271] Trial 175 finished with value: 7.910116888351471 and parameters: {'delta_start': 2888, 'mip_focus': 1, 'cuts': 2, 'heuristics': 0.5652735745520283, 'presolve': 1, 'nanmean': True}. Best is trial 166 with value: 23.037740217642973.\n"
     ]
    },
    {
     "name": "stdout",
     "output_type": "stream",
     "text": [
      "Study saved to optuna_studies_stochastic/Queue75_Study.pkl\n",
      "Sleeping zZz  zZz  Zzz\n",
      "QueueSize: 25; ProblemNumber: 218\n",
      "file_path used:ProblemSets/Training_Queue25\n"
     ]
    },
    {
     "name": "stderr",
     "output_type": "stream",
     "text": [
      "[I 2024-11-22 11:37:39,568] Trial 352 finished with value: 27.042110603754438 and parameters: {'delta_start': 1885, 'mip_focus': 1, 'cuts': 3, 'heuristics': 0.9086112073663555, 'presolve': 2, 'nanmean': False}. Best is trial 41 with value: 49.72916302638477.\n"
     ]
    },
    {
     "name": "stdout",
     "output_type": "stream",
     "text": [
      "QueueSize: 25; ProblemNumber: 141\n",
      "file_path used:ProblemSets/Training_Queue25\n"
     ]
    },
    {
     "name": "stderr",
     "output_type": "stream",
     "text": [
      "[I 2024-11-22 11:39:39,482] Trial 353 finished with value: 25.114278031728958 and parameters: {'delta_start': 1371, 'mip_focus': 3, 'cuts': 3, 'heuristics': 0.8613880715780062, 'presolve': 1, 'nanmean': False}. Best is trial 41 with value: 49.72916302638477.\n"
     ]
    },
    {
     "name": "stdout",
     "output_type": "stream",
     "text": [
      "Study saved to optuna_studies_stochastic/Queue25_Study.pkl\n",
      "Sleeping zZz  zZz  Zzz\n",
      "QueueSize: 25; ProblemNumber: 104\n",
      "file_path used:ProblemSets/Training_Queue25\n"
     ]
    },
    {
     "name": "stderr",
     "output_type": "stream",
     "text": [
      "[I 2024-11-22 11:41:28,364] Trial 354 finished with value: 23.233794610342315 and parameters: {'delta_start': 1158, 'mip_focus': 1, 'cuts': 2, 'heuristics': 0.9676153070589241, 'presolve': 2, 'nanmean': False}. Best is trial 41 with value: 49.72916302638477.\n"
     ]
    },
    {
     "name": "stdout",
     "output_type": "stream",
     "text": [
      "QueueSize: 25; ProblemNumber: 210\n",
      "file_path used:ProblemSets/Training_Queue25\n"
     ]
    },
    {
     "name": "stderr",
     "output_type": "stream",
     "text": [
      "[I 2024-11-22 11:43:06,681] Trial 355 finished with value: 27.176984330850246 and parameters: {'delta_start': 2580, 'mip_focus': 3, 'cuts': 2, 'heuristics': 0.6273767589204943, 'presolve': 1, 'nanmean': True}. Best is trial 41 with value: 49.72916302638477.\n"
     ]
    },
    {
     "name": "stdout",
     "output_type": "stream",
     "text": [
      "Study saved to optuna_studies_stochastic/Queue25_Study.pkl\n",
      "Sleeping zZz  zZz  Zzz\n",
      "QueueSize: 75; ProblemNumber: 89\n",
      "file_path used:ProblemSets/Training_Queue75\n"
     ]
    },
    {
     "name": "stderr",
     "output_type": "stream",
     "text": [
      "[I 2024-11-22 11:47:53,923] Trial 176 finished with value: 8.308086693078536 and parameters: {'delta_start': 2996, 'mip_focus': 1, 'cuts': 2, 'heuristics': 0.5057413769285533, 'presolve': 2, 'nanmean': True}. Best is trial 166 with value: 23.037740217642973.\n"
     ]
    },
    {
     "name": "stdout",
     "output_type": "stream",
     "text": [
      "QueueSize: 75; ProblemNumber: 97\n",
      "file_path used:ProblemSets/Training_Queue75\n"
     ]
    },
    {
     "name": "stderr",
     "output_type": "stream",
     "text": [
      "[I 2024-11-22 11:52:32,366] Trial 177 finished with value: 3.010930088678078 and parameters: {'delta_start': 2829, 'mip_focus': 0, 'cuts': 2, 'heuristics': 0.6810868688927124, 'presolve': 0, 'nanmean': False}. Best is trial 166 with value: 23.037740217642973.\n"
     ]
    },
    {
     "name": "stdout",
     "output_type": "stream",
     "text": [
      "Study saved to optuna_studies_stochastic/Queue75_Study.pkl\n",
      "Sleeping zZz  zZz  Zzz\n",
      "QueueSize: 25; ProblemNumber: 111\n",
      "file_path used:ProblemSets/Training_Queue25\n"
     ]
    },
    {
     "name": "stderr",
     "output_type": "stream",
     "text": [
      "[I 2024-11-22 11:53:59,386] Trial 356 finished with value: 16.78090886011678 and parameters: {'delta_start': 1453, 'mip_focus': 1, 'cuts': 3, 'heuristics': 0.7558656484258046, 'presolve': 1, 'nanmean': False}. Best is trial 41 with value: 49.72916302638477.\n"
     ]
    },
    {
     "name": "stdout",
     "output_type": "stream",
     "text": [
      "QueueSize: 25; ProblemNumber: 104\n",
      "file_path used:ProblemSets/Training_Queue25\n"
     ]
    },
    {
     "name": "stderr",
     "output_type": "stream",
     "text": [
      "[I 2024-11-22 11:55:47,981] Trial 357 finished with value: 23.233794610342315 and parameters: {'delta_start': 1575, 'mip_focus': 1, 'cuts': 3, 'heuristics': 0.6948278884751146, 'presolve': 0, 'nanmean': False}. Best is trial 41 with value: 49.72916302638477.\n"
     ]
    },
    {
     "name": "stdout",
     "output_type": "stream",
     "text": [
      "Study saved to optuna_studies_stochastic/Queue25_Study.pkl\n",
      "Sleeping zZz  zZz  Zzz\n",
      "QueueSize: 25; ProblemNumber: 171\n",
      "file_path used:ProblemSets/Training_Queue25\n"
     ]
    },
    {
     "name": "stderr",
     "output_type": "stream",
     "text": [
      "[I 2024-11-22 11:57:26,378] Trial 358 finished with value: 17.144495412844037 and parameters: {'delta_start': 947, 'mip_focus': 2, 'cuts': 3, 'heuristics': 0.9015198415612539, 'presolve': 1, 'nanmean': False}. Best is trial 41 with value: 49.72916302638477.\n"
     ]
    },
    {
     "name": "stdout",
     "output_type": "stream",
     "text": [
      "QueueSize: 25; ProblemNumber: 133\n",
      "file_path used:ProblemSets/Training_Queue25\n"
     ]
    },
    {
     "name": "stderr",
     "output_type": "stream",
     "text": [
      "[I 2024-11-22 11:58:54,147] Trial 359 finished with value: 20.851553509781358 and parameters: {'delta_start': 854, 'mip_focus': 0, 'cuts': 3, 'heuristics': 0.9172558612115778, 'presolve': 1, 'nanmean': False}. Best is trial 41 with value: 49.72916302638477.\n"
     ]
    },
    {
     "name": "stdout",
     "output_type": "stream",
     "text": [
      "Study saved to optuna_studies_stochastic/Queue25_Study.pkl\n",
      "Sleeping zZz  zZz  Zzz\n",
      "QueueSize: 75; ProblemNumber: 37\n",
      "file_path used:ProblemSets/Training_Queue75\n"
     ]
    },
    {
     "name": "stderr",
     "output_type": "stream",
     "text": [
      "[I 2024-11-22 12:03:00,899] Trial 178 finished with value: 10.642006391013847 and parameters: {'delta_start': 2972, 'mip_focus': 1, 'cuts': 2, 'heuristics': 0.579338549800114, 'presolve': 1, 'nanmean': True}. Best is trial 166 with value: 23.037740217642973.\n"
     ]
    },
    {
     "name": "stdout",
     "output_type": "stream",
     "text": [
      "QueueSize: 75; ProblemNumber: 72\n",
      "file_path used:ProblemSets/Training_Queue75\n"
     ]
    },
    {
     "name": "stderr",
     "output_type": "stream",
     "text": [
      "[I 2024-11-22 12:07:30,898] Trial 179 finished with value: 16.81130171543895 and parameters: {'delta_start': 2670, 'mip_focus': 0, 'cuts': 3, 'heuristics': 0.8903813952997719, 'presolve': 0, 'nanmean': False}. Best is trial 166 with value: 23.037740217642973.\n"
     ]
    },
    {
     "name": "stdout",
     "output_type": "stream",
     "text": [
      "Study saved to optuna_studies_stochastic/Queue75_Study.pkl\n",
      "Sleeping zZz  zZz  Zzz\n",
      "QueueSize: 25; ProblemNumber: 127\n",
      "file_path used:ProblemSets/Training_Queue25\n"
     ]
    },
    {
     "name": "stderr",
     "output_type": "stream",
     "text": [
      "[I 2024-11-22 12:09:09,665] Trial 360 finished with value: 20.2504213821334 and parameters: {'delta_start': 941, 'mip_focus': 0, 'cuts': 3, 'heuristics': 0.8460547067326403, 'presolve': 1, 'nanmean': False}. Best is trial 41 with value: 49.72916302638477.\n"
     ]
    },
    {
     "name": "stdout",
     "output_type": "stream",
     "text": [
      "QueueSize: 25; ProblemNumber: 106\n",
      "file_path used:ProblemSets/Training_Queue25\n"
     ]
    },
    {
     "name": "stderr",
     "output_type": "stream",
     "text": [
      "[I 2024-11-22 12:11:08,571] Trial 361 finished with value: 35.51632498101747 and parameters: {'delta_start': 1257, 'mip_focus': 0, 'cuts': 3, 'heuristics': 0.9057732264070186, 'presolve': 1, 'nanmean': True}. Best is trial 41 with value: 49.72916302638477.\n"
     ]
    },
    {
     "name": "stdout",
     "output_type": "stream",
     "text": [
      "Study saved to optuna_studies_stochastic/Queue25_Study.pkl\n",
      "Sleeping zZz  zZz  Zzz\n",
      "QueueSize: 25; ProblemNumber: 92\n",
      "file_path used:ProblemSets/Training_Queue25\n"
     ]
    },
    {
     "name": "stderr",
     "output_type": "stream",
     "text": [
      "[I 2024-11-22 12:12:39,369] Trial 362 finished with value: 4.366499642090194 and parameters: {'delta_start': 1613, 'mip_focus': 2, 'cuts': 2, 'heuristics': 0.556766900027025, 'presolve': 1, 'nanmean': True}. Best is trial 41 with value: 49.72916302638477.\n"
     ]
    },
    {
     "name": "stdout",
     "output_type": "stream",
     "text": [
      "QueueSize: 25; ProblemNumber: 287\n",
      "file_path used:ProblemSets/Training_Queue25\n"
     ]
    },
    {
     "name": "stderr",
     "output_type": "stream",
     "text": [
      "[I 2024-11-22 12:14:18,612] Trial 363 finished with value: 22.18473218051455 and parameters: {'delta_start': 1405, 'mip_focus': 3, 'cuts': 2, 'heuristics': 0.5027738851619739, 'presolve': 1, 'nanmean': False}. Best is trial 41 with value: 49.72916302638477.\n"
     ]
    },
    {
     "name": "stdout",
     "output_type": "stream",
     "text": [
      "Study saved to optuna_studies_stochastic/Queue25_Study.pkl\n",
      "Sleeping zZz  zZz  Zzz\n",
      "QueueSize: 75; ProblemNumber: 9\n",
      "file_path used:ProblemSets/Training_Queue75\n"
     ]
    },
    {
     "name": "stderr",
     "output_type": "stream",
     "text": [
      "[I 2024-11-22 12:18:30,051] Trial 180 finished with value: 19.646539027982328 and parameters: {'delta_start': 2636, 'mip_focus': 2, 'cuts': 3, 'heuristics': 0.8944657893140182, 'presolve': 2, 'nanmean': False}. Best is trial 166 with value: 23.037740217642973.\n"
     ]
    },
    {
     "name": "stdout",
     "output_type": "stream",
     "text": [
      "QueueSize: 75; ProblemNumber: 51\n",
      "file_path used:ProblemSets/Training_Queue75\n"
     ]
    },
    {
     "name": "stderr",
     "output_type": "stream",
     "text": [
      "[I 2024-11-22 12:22:37,100] Trial 181 finished with value: 11.598854862496747 and parameters: {'delta_start': 2767, 'mip_focus': 2, 'cuts': 3, 'heuristics': 0.9595246447526445, 'presolve': 2, 'nanmean': False}. Best is trial 166 with value: 23.037740217642973.\n"
     ]
    },
    {
     "name": "stdout",
     "output_type": "stream",
     "text": [
      "Study saved to optuna_studies_stochastic/Queue75_Study.pkl\n",
      "Sleeping zZz  zZz  Zzz\n",
      "QueueSize: 25; ProblemNumber: 29\n",
      "file_path used:ProblemSets/Training_Queue25\n"
     ]
    },
    {
     "name": "stderr",
     "output_type": "stream",
     "text": [
      "[I 2024-11-22 12:24:26,206] Trial 364 finished with value: 10.2945301542777 and parameters: {'delta_start': 1204, 'mip_focus': 3, 'cuts': 2, 'heuristics': 0.8519647343657065, 'presolve': 2, 'nanmean': False}. Best is trial 41 with value: 49.72916302638477.\n"
     ]
    },
    {
     "name": "stdout",
     "output_type": "stream",
     "text": [
      "QueueSize: 25; ProblemNumber: 296\n",
      "file_path used:ProblemSets/Training_Queue25\n"
     ]
    },
    {
     "name": "stderr",
     "output_type": "stream",
     "text": [
      "[I 2024-11-22 12:26:34,608] Trial 365 finished with value: 25.245145164391463 and parameters: {'delta_start': 1194, 'mip_focus': 1, 'cuts': 2, 'heuristics': 0.5265144631782324, 'presolve': 2, 'nanmean': True}. Best is trial 41 with value: 49.72916302638477.\n"
     ]
    },
    {
     "name": "stdout",
     "output_type": "stream",
     "text": [
      "Study saved to optuna_studies_stochastic/Queue25_Study.pkl\n",
      "Sleeping zZz  zZz  Zzz\n",
      "QueueSize: 25; ProblemNumber: 297\n",
      "file_path used:ProblemSets/Training_Queue25\n"
     ]
    },
    {
     "name": "stderr",
     "output_type": "stream",
     "text": [
      "[I 2024-11-22 12:28:02,037] Trial 366 finished with value: 21.876633559853634 and parameters: {'delta_start': 1147, 'mip_focus': 0, 'cuts': 3, 'heuristics': 0.8545747607776144, 'presolve': 1, 'nanmean': True}. Best is trial 41 with value: 49.72916302638477.\n"
     ]
    },
    {
     "name": "stdout",
     "output_type": "stream",
     "text": [
      "QueueSize: 25; ProblemNumber: 214\n",
      "file_path used:ProblemSets/Training_Queue25\n"
     ]
    },
    {
     "name": "stderr",
     "output_type": "stream",
     "text": [
      "[I 2024-11-22 12:29:39,374] Trial 367 finished with value: 13.682396035337213 and parameters: {'delta_start': 1413, 'mip_focus': 0, 'cuts': 3, 'heuristics': 0.8626179526597458, 'presolve': 2, 'nanmean': True}. Best is trial 41 with value: 49.72916302638477.\n"
     ]
    },
    {
     "name": "stdout",
     "output_type": "stream",
     "text": [
      "Study saved to optuna_studies_stochastic/Queue25_Study.pkl\n",
      "Sleeping zZz  zZz  Zzz\n",
      "QueueSize: 75; ProblemNumber: 11\n",
      "file_path used:ProblemSets/Training_Queue75\n"
     ]
    },
    {
     "name": "stderr",
     "output_type": "stream",
     "text": [
      "[I 2024-11-22 12:33:45,383] Trial 182 finished with value: 8.054510322383809 and parameters: {'delta_start': 2580, 'mip_focus': 2, 'cuts': 3, 'heuristics': 0.9167844681989668, 'presolve': 2, 'nanmean': False}. Best is trial 166 with value: 23.037740217642973.\n"
     ]
    },
    {
     "name": "stdout",
     "output_type": "stream",
     "text": [
      "QueueSize: 75; ProblemNumber: 23\n",
      "file_path used:ProblemSets/Training_Queue75\n"
     ]
    },
    {
     "name": "stderr",
     "output_type": "stream",
     "text": [
      "[I 2024-11-22 12:37:52,376] Trial 183 finished with value: 12.98472385428907 and parameters: {'delta_start': 2720, 'mip_focus': 0, 'cuts': 3, 'heuristics': 0.87413593855897, 'presolve': 0, 'nanmean': False}. Best is trial 166 with value: 23.037740217642973.\n"
     ]
    },
    {
     "name": "stdout",
     "output_type": "stream",
     "text": [
      "Study saved to optuna_studies_stochastic/Queue75_Study.pkl\n",
      "Sleeping zZz  zZz  Zzz\n",
      "QueueSize: 25; ProblemNumber: 257\n",
      "file_path used:ProblemSets/Training_Queue25\n"
     ]
    },
    {
     "name": "stderr",
     "output_type": "stream",
     "text": [
      "[W 2024-11-22 12:38:27,831] Trial 368 failed with parameters: {'delta_start': 1276, 'mip_focus': 0, 'cuts': 3, 'heuristics': 0.8438167010332456, 'presolve': 1, 'nanmean': False} because of the following error: KeyboardInterrupt().\n",
      "Traceback (most recent call last):\n",
      "  File \"/home/jblitz/miniconda3/envs/MathOpt/lib/python3.10/site-packages/optuna/study/_optimize.py\", line 197, in _run_trial\n",
      "    value_or_values = func(trial)\n",
      "  File \"/tmp/ipykernel_593762/1789636899.py\", line 284, in <lambda>\n",
      "    lambda trial: optuna_objective_stochastic(queue_size)(trial),\n",
      "  File \"/tmp/ipykernel_593762/1789636899.py\", line 184, in objective\n",
      "    solver.stochastic_iterative_solving()\n",
      "  File \"/tmp/ipykernel_593762/3146046974.py\", line 468, in stochastic_iterative_solving\n",
      "    self.solve()\n",
      "  File \"/tmp/ipykernel_593762/17195182.py\", line 322, in solve\n",
      "    self.result = solver.solve(\n",
      "  File \"/home/jblitz/miniconda3/envs/MathOpt/lib/python3.10/site-packages/pyomo/opt/base/solvers.py\", line 579, in solve\n",
      "    _status = self._apply_solver()\n",
      "  File \"/home/jblitz/miniconda3/envs/MathOpt/lib/python3.10/site-packages/pyomo/opt/solver/shellcmd.py\", line 255, in _apply_solver\n",
      "    self._rc, self._log = self._execute_command(self._command)\n",
      "  File \"/home/jblitz/miniconda3/envs/MathOpt/lib/python3.10/site-packages/pyomo/opt/solver/shellcmd.py\", line 323, in _execute_command\n",
      "    results = subprocess.run(\n",
      "  File \"/home/jblitz/miniconda3/envs/MathOpt/lib/python3.10/subprocess.py\", line 503, in run\n",
      "    stdout, stderr = process.communicate(input, timeout=timeout)\n",
      "  File \"/home/jblitz/miniconda3/envs/MathOpt/lib/python3.10/subprocess.py\", line 1141, in communicate\n",
      "    self.wait()\n",
      "  File \"/home/jblitz/miniconda3/envs/MathOpt/lib/python3.10/subprocess.py\", line 1204, in wait\n",
      "    return self._wait(timeout=timeout)\n",
      "  File \"/home/jblitz/miniconda3/envs/MathOpt/lib/python3.10/subprocess.py\", line 1938, in _wait\n",
      "    (pid, sts) = self._try_wait(0)\n",
      "  File \"/home/jblitz/miniconda3/envs/MathOpt/lib/python3.10/subprocess.py\", line 1896, in _try_wait\n",
      "    (pid, sts) = os.waitpid(self.pid, wait_flags)\n",
      "KeyboardInterrupt\n",
      "[W 2024-11-22 12:38:27,832] Trial 368 failed with value None.\n"
     ]
    },
    {
     "name": "stdout",
     "output_type": "stream",
     "text": [
      "[INFO] Interrupted by user. Exiting.\n"
     ]
    }
   ],
   "source": [
    "# stochastic hyperparameter search\n",
    "if __name__ == \"__main__\":\n",
    "    run_combined_AFK_cycle(\n",
    "        study_func=parallel_study_stochastic,  # Replace with your actual study function\n",
    "        queue_sizes=[25, 25, 75],   # List of QueueSizes to cycle through (balancing out the 25's to be more than 75)\n",
    "        n_trials=2,                 # Number of trials per run\n",
    "        folder=\"optuna_studies_stochastic\",    # Folder to save study results\n",
    "        retry_delay=7,             # Wait 14 seconds on failure\n",
    "        run_delay=0.25                 # Wait 0.25 seconds between successful runs\n",
    "    )"
   ]
  },
  {
   "cell_type": "markdown",
   "id": "36299969-97b4-41d9-aca3-008b2a67bb87",
   "metadata": {},
   "source": [
    "#### Validations for Stochastic Optimization\n",
    "\n",
    "- Just like with deterministic optimization, create the run plan (with a learning adjustment on the `delta_start_min_by_queue_size`)"
   ]
  },
  {
   "cell_type": "code",
   "execution_count": 122,
   "id": "7f2fedad-d13c-40be-a7b9-411ec893152f",
   "metadata": {},
   "outputs": [
    {
     "data": {
      "text/plain": [
       "{25: array([204, 267, 153,  10, 234, 227, 197, 110,   6, 176]),\n",
       " 75: array([ 3, 34, 68, 97, 51, 84, 89, 77, 66, 41])}"
      ]
     },
     "execution_count": 122,
     "metadata": {},
     "output_type": "execute_result"
    }
   ],
   "source": [
    "validation_samples"
   ]
  },
  {
   "cell_type": "code",
   "execution_count": 12,
   "id": "381ac06b-c09e-40e7-8c00-2e54e342f07e",
   "metadata": {},
   "outputs": [
    {
     "name": "stdout",
     "output_type": "stream",
     "text": [
      "Table for Top 3 Best Params for Stochastic Optimization Validation\n"
     ]
    },
    {
     "data": {
      "text/html": [
       "<div>\n",
       "<style scoped>\n",
       "    .dataframe tbody tr th:only-of-type {\n",
       "        vertical-align: middle;\n",
       "    }\n",
       "\n",
       "    .dataframe tbody tr th {\n",
       "        vertical-align: top;\n",
       "    }\n",
       "\n",
       "    .dataframe thead th {\n",
       "        text-align: right;\n",
       "    }\n",
       "</style>\n",
       "<table border=\"1\" class=\"dataframe\">\n",
       "  <thead>\n",
       "    <tr style=\"text-align: right;\">\n",
       "      <th></th>\n",
       "      <th>StudyName</th>\n",
       "      <th>QueueSize</th>\n",
       "      <th>TrialNumber</th>\n",
       "      <th>DeltaStart</th>\n",
       "      <th>ObjectiveValue</th>\n",
       "      <th>Hyperparameters</th>\n",
       "      <th>DeltaStart_adjusted</th>\n",
       "    </tr>\n",
       "  </thead>\n",
       "  <tbody>\n",
       "    <tr>\n",
       "      <th>102</th>\n",
       "      <td>Queue25_Study</td>\n",
       "      <td>25</td>\n",
       "      <td>102</td>\n",
       "      <td>1774</td>\n",
       "      <td>46.514066</td>\n",
       "      <td>{'mip_focus': 3, 'cuts': 3, 'heuristics': 0.86...</td>\n",
       "      <td>818</td>\n",
       "    </tr>\n",
       "    <tr>\n",
       "      <th>186</th>\n",
       "      <td>Queue25_Study</td>\n",
       "      <td>25</td>\n",
       "      <td>186</td>\n",
       "      <td>818</td>\n",
       "      <td>43.369673</td>\n",
       "      <td>{'mip_focus': 0, 'cuts': 3, 'heuristics': 0.76...</td>\n",
       "      <td>818</td>\n",
       "    </tr>\n",
       "    <tr>\n",
       "      <th>269</th>\n",
       "      <td>Queue25_Study</td>\n",
       "      <td>25</td>\n",
       "      <td>269</td>\n",
       "      <td>1348</td>\n",
       "      <td>43.369673</td>\n",
       "      <td>{'mip_focus': 0, 'cuts': 3, 'heuristics': 0.75...</td>\n",
       "      <td>818</td>\n",
       "    </tr>\n",
       "    <tr>\n",
       "      <th>534</th>\n",
       "      <td>Queue75_Study</td>\n",
       "      <td>75</td>\n",
       "      <td>166</td>\n",
       "      <td>2952</td>\n",
       "      <td>23.037740</td>\n",
       "      <td>{'mip_focus': 1, 'cuts': 2, 'heuristics': 0.58...</td>\n",
       "      <td>2619</td>\n",
       "    </tr>\n",
       "    <tr>\n",
       "      <th>407</th>\n",
       "      <td>Queue75_Study</td>\n",
       "      <td>75</td>\n",
       "      <td>39</td>\n",
       "      <td>2619</td>\n",
       "      <td>19.897338</td>\n",
       "      <td>{'mip_focus': 1, 'cuts': 3, 'heuristics': 0.96...</td>\n",
       "      <td>2619</td>\n",
       "    </tr>\n",
       "    <tr>\n",
       "      <th>441</th>\n",
       "      <td>Queue75_Study</td>\n",
       "      <td>75</td>\n",
       "      <td>73</td>\n",
       "      <td>2957</td>\n",
       "      <td>19.810336</td>\n",
       "      <td>{'mip_focus': 1, 'cuts': 2, 'heuristics': 0.72...</td>\n",
       "      <td>2619</td>\n",
       "    </tr>\n",
       "  </tbody>\n",
       "</table>\n",
       "</div>"
      ],
      "text/plain": [
       "         StudyName  QueueSize  TrialNumber  DeltaStart  ObjectiveValue  \\\n",
       "102  Queue25_Study         25          102        1774       46.514066   \n",
       "186  Queue25_Study         25          186         818       43.369673   \n",
       "269  Queue25_Study         25          269        1348       43.369673   \n",
       "534  Queue75_Study         75          166        2952       23.037740   \n",
       "407  Queue75_Study         75           39        2619       19.897338   \n",
       "441  Queue75_Study         75           73        2957       19.810336   \n",
       "\n",
       "                                       Hyperparameters  DeltaStart_adjusted  \n",
       "102  {'mip_focus': 3, 'cuts': 3, 'heuristics': 0.86...                  818  \n",
       "186  {'mip_focus': 0, 'cuts': 3, 'heuristics': 0.76...                  818  \n",
       "269  {'mip_focus': 0, 'cuts': 3, 'heuristics': 0.75...                  818  \n",
       "534  {'mip_focus': 1, 'cuts': 2, 'heuristics': 0.58...                 2619  \n",
       "407  {'mip_focus': 1, 'cuts': 3, 'heuristics': 0.96...                 2619  \n",
       "441  {'mip_focus': 1, 'cuts': 2, 'heuristics': 0.72...                 2619  "
      ]
     },
     "metadata": {},
     "output_type": "display_data"
    }
   ],
   "source": [
    "## Run once only\n",
    "import pandas as pd\n",
    "import pickle\n",
    "import os\n",
    "\n",
    "# Define minimum delta_start for each queue size\n",
    "delta_start_min_by_queue_size = {\n",
    "    25: 756, # adjusted based on results from Optuna\n",
    "    75: 2495\n",
    "}\n",
    "\n",
    "# Load studies function\n",
    "def load_study(folder, name):\n",
    "    with open(os.path.join(folder, f\"{name}.pkl\"), \"rb\") as f:\n",
    "        return pickle.load(f)\n",
    "\n",
    "# Load studies\n",
    "folder_path = \"optuna_studies_stochastic\"\n",
    "study_names = [\"Queue25_Study\", \"Queue75_Study\"]\n",
    "studies = {name: load_study(folder_path, name) for name in study_names}\n",
    "\n",
    "# Extract trial data into a Pandas DataFrame\n",
    "all_trials_data = []\n",
    "for study_name, study in studies.items():\n",
    "    queue_size = int(study_name.split(\"Queue\")[1].split(\"_\")[0])\n",
    "    delta_start_min = delta_start_min_by_queue_size.get(queue_size, 0)\n",
    "\n",
    "    for trial in study.get_trials(deepcopy=False, states=[optuna.trial.TrialState.COMPLETE]):\n",
    "        # Exclude 'delta_start' from the hyperparameters\n",
    "        hyperparameters = {k: v for k, v in trial.params.items() if k != \"delta_start\"}\n",
    "        all_trials_data.append({\n",
    "            \"StudyName\": study_name,\n",
    "            \"QueueSize\": queue_size,\n",
    "            \"TrialNumber\": trial.number,\n",
    "            \"DeltaStart\": trial.params.get(\"delta_start\", 0),\n",
    "            \"ObjectiveValue\": trial.values[0] if trial.values else None,\n",
    "            \"Hyperparameters\": hyperparameters  # Store hyperparameters as a dict\n",
    "        })\n",
    "\n",
    "# Convert to DataFrame\n",
    "trials_df = pd.DataFrame(all_trials_data)\n",
    "\n",
    "# Filter by delta_start_min and valid ObjectiveValue\n",
    "filtered_trials_df = trials_df[\n",
    "    (trials_df[\"DeltaStart\"] > trials_df[\"QueueSize\"].map(delta_start_min_by_queue_size))\n",
    "]\n",
    "\n",
    "# Sort and group by queue size\n",
    "sorted_trials_df = (\n",
    "    filtered_trials_df.sort_values(by=[\"QueueSize\", \"ObjectiveValue\"], ascending=[True, False])\n",
    ")\n",
    "\n",
    "# Select top 3 rows per StudyName (Stochastic)\n",
    "print(f\"Table for Top 3 Best Params for Stochastic Optimization Validation\")\n",
    "top_3_per_study = sorted_trials_df.groupby(\"StudyName\").head(3).copy()\n",
    "min_delta_start_per_queue = top_3_per_study.groupby(\"QueueSize\")[\"DeltaStart\"].transform(\"min\") # per row\n",
    "top_3_per_study[\"DeltaStart_adjusted\"] = min_delta_start_per_queue\n",
    "top_3_per_study[\"Hyperparameters\"] = top_3_per_study.apply(\n",
    "    lambda row: {**row[\"Hyperparameters\"], \"delta_start\": row[\"DeltaStart_adjusted\"]}, axis=1\n",
    ")\n",
    "\n",
    "display(top_3_per_study)\n"
   ]
  },
  {
   "cell_type": "code",
   "execution_count": null,
   "id": "dfc6622d-4e7c-4aa3-bc1b-aedc1b274deb",
   "metadata": {},
   "outputs": [],
   "source": []
  },
  {
   "cell_type": "code",
   "execution_count": 125,
   "id": "41dcc434-e675-4cbb-9316-7eb80faa7987",
   "metadata": {},
   "outputs": [
    {
     "data": {
      "text/html": [
       "<div>\n",
       "<style scoped>\n",
       "    .dataframe tbody tr th:only-of-type {\n",
       "        vertical-align: middle;\n",
       "    }\n",
       "\n",
       "    .dataframe tbody tr th {\n",
       "        vertical-align: top;\n",
       "    }\n",
       "\n",
       "    .dataframe thead th {\n",
       "        text-align: right;\n",
       "    }\n",
       "</style>\n",
       "<table border=\"1\" class=\"dataframe\">\n",
       "  <thead>\n",
       "    <tr style=\"text-align: right;\">\n",
       "      <th></th>\n",
       "      <th>QueueSize</th>\n",
       "      <th>ProblemNumber</th>\n",
       "      <th>Hyperparameters</th>\n",
       "      <th>ObjectiveValue</th>\n",
       "    </tr>\n",
       "  </thead>\n",
       "  <tbody>\n",
       "    <tr>\n",
       "      <th>0</th>\n",
       "      <td>25</td>\n",
       "      <td>204</td>\n",
       "      <td>{'mip_focus': 3, 'cuts': 3, 'heuristics': 0.86...</td>\n",
       "      <td>None</td>\n",
       "    </tr>\n",
       "    <tr>\n",
       "      <th>1</th>\n",
       "      <td>25</td>\n",
       "      <td>204</td>\n",
       "      <td>{'mip_focus': 0, 'cuts': 3, 'heuristics': 0.76...</td>\n",
       "      <td>None</td>\n",
       "    </tr>\n",
       "    <tr>\n",
       "      <th>2</th>\n",
       "      <td>25</td>\n",
       "      <td>204</td>\n",
       "      <td>{'mip_focus': 0, 'cuts': 3, 'heuristics': 0.75...</td>\n",
       "      <td>None</td>\n",
       "    </tr>\n",
       "    <tr>\n",
       "      <th>3</th>\n",
       "      <td>25</td>\n",
       "      <td>267</td>\n",
       "      <td>{'mip_focus': 3, 'cuts': 3, 'heuristics': 0.86...</td>\n",
       "      <td>None</td>\n",
       "    </tr>\n",
       "    <tr>\n",
       "      <th>4</th>\n",
       "      <td>25</td>\n",
       "      <td>267</td>\n",
       "      <td>{'mip_focus': 0, 'cuts': 3, 'heuristics': 0.76...</td>\n",
       "      <td>None</td>\n",
       "    </tr>\n",
       "    <tr>\n",
       "      <th>5</th>\n",
       "      <td>25</td>\n",
       "      <td>267</td>\n",
       "      <td>{'mip_focus': 0, 'cuts': 3, 'heuristics': 0.75...</td>\n",
       "      <td>None</td>\n",
       "    </tr>\n",
       "    <tr>\n",
       "      <th>6</th>\n",
       "      <td>25</td>\n",
       "      <td>153</td>\n",
       "      <td>{'mip_focus': 3, 'cuts': 3, 'heuristics': 0.86...</td>\n",
       "      <td>None</td>\n",
       "    </tr>\n",
       "    <tr>\n",
       "      <th>7</th>\n",
       "      <td>25</td>\n",
       "      <td>153</td>\n",
       "      <td>{'mip_focus': 0, 'cuts': 3, 'heuristics': 0.76...</td>\n",
       "      <td>None</td>\n",
       "    </tr>\n",
       "    <tr>\n",
       "      <th>8</th>\n",
       "      <td>25</td>\n",
       "      <td>153</td>\n",
       "      <td>{'mip_focus': 0, 'cuts': 3, 'heuristics': 0.75...</td>\n",
       "      <td>None</td>\n",
       "    </tr>\n",
       "    <tr>\n",
       "      <th>9</th>\n",
       "      <td>25</td>\n",
       "      <td>10</td>\n",
       "      <td>{'mip_focus': 3, 'cuts': 3, 'heuristics': 0.86...</td>\n",
       "      <td>None</td>\n",
       "    </tr>\n",
       "    <tr>\n",
       "      <th>10</th>\n",
       "      <td>25</td>\n",
       "      <td>10</td>\n",
       "      <td>{'mip_focus': 0, 'cuts': 3, 'heuristics': 0.76...</td>\n",
       "      <td>None</td>\n",
       "    </tr>\n",
       "    <tr>\n",
       "      <th>11</th>\n",
       "      <td>25</td>\n",
       "      <td>10</td>\n",
       "      <td>{'mip_focus': 0, 'cuts': 3, 'heuristics': 0.75...</td>\n",
       "      <td>None</td>\n",
       "    </tr>\n",
       "    <tr>\n",
       "      <th>12</th>\n",
       "      <td>25</td>\n",
       "      <td>234</td>\n",
       "      <td>{'mip_focus': 3, 'cuts': 3, 'heuristics': 0.86...</td>\n",
       "      <td>None</td>\n",
       "    </tr>\n",
       "    <tr>\n",
       "      <th>13</th>\n",
       "      <td>25</td>\n",
       "      <td>234</td>\n",
       "      <td>{'mip_focus': 0, 'cuts': 3, 'heuristics': 0.76...</td>\n",
       "      <td>None</td>\n",
       "    </tr>\n",
       "    <tr>\n",
       "      <th>14</th>\n",
       "      <td>25</td>\n",
       "      <td>234</td>\n",
       "      <td>{'mip_focus': 0, 'cuts': 3, 'heuristics': 0.75...</td>\n",
       "      <td>None</td>\n",
       "    </tr>\n",
       "    <tr>\n",
       "      <th>15</th>\n",
       "      <td>25</td>\n",
       "      <td>227</td>\n",
       "      <td>{'mip_focus': 3, 'cuts': 3, 'heuristics': 0.86...</td>\n",
       "      <td>None</td>\n",
       "    </tr>\n",
       "    <tr>\n",
       "      <th>16</th>\n",
       "      <td>25</td>\n",
       "      <td>227</td>\n",
       "      <td>{'mip_focus': 0, 'cuts': 3, 'heuristics': 0.76...</td>\n",
       "      <td>None</td>\n",
       "    </tr>\n",
       "    <tr>\n",
       "      <th>17</th>\n",
       "      <td>25</td>\n",
       "      <td>227</td>\n",
       "      <td>{'mip_focus': 0, 'cuts': 3, 'heuristics': 0.75...</td>\n",
       "      <td>None</td>\n",
       "    </tr>\n",
       "    <tr>\n",
       "      <th>18</th>\n",
       "      <td>25</td>\n",
       "      <td>197</td>\n",
       "      <td>{'mip_focus': 3, 'cuts': 3, 'heuristics': 0.86...</td>\n",
       "      <td>None</td>\n",
       "    </tr>\n",
       "    <tr>\n",
       "      <th>19</th>\n",
       "      <td>25</td>\n",
       "      <td>197</td>\n",
       "      <td>{'mip_focus': 0, 'cuts': 3, 'heuristics': 0.76...</td>\n",
       "      <td>None</td>\n",
       "    </tr>\n",
       "    <tr>\n",
       "      <th>20</th>\n",
       "      <td>25</td>\n",
       "      <td>197</td>\n",
       "      <td>{'mip_focus': 0, 'cuts': 3, 'heuristics': 0.75...</td>\n",
       "      <td>None</td>\n",
       "    </tr>\n",
       "    <tr>\n",
       "      <th>21</th>\n",
       "      <td>25</td>\n",
       "      <td>110</td>\n",
       "      <td>{'mip_focus': 3, 'cuts': 3, 'heuristics': 0.86...</td>\n",
       "      <td>None</td>\n",
       "    </tr>\n",
       "    <tr>\n",
       "      <th>22</th>\n",
       "      <td>25</td>\n",
       "      <td>110</td>\n",
       "      <td>{'mip_focus': 0, 'cuts': 3, 'heuristics': 0.76...</td>\n",
       "      <td>None</td>\n",
       "    </tr>\n",
       "    <tr>\n",
       "      <th>23</th>\n",
       "      <td>25</td>\n",
       "      <td>110</td>\n",
       "      <td>{'mip_focus': 0, 'cuts': 3, 'heuristics': 0.75...</td>\n",
       "      <td>None</td>\n",
       "    </tr>\n",
       "    <tr>\n",
       "      <th>24</th>\n",
       "      <td>25</td>\n",
       "      <td>6</td>\n",
       "      <td>{'mip_focus': 3, 'cuts': 3, 'heuristics': 0.86...</td>\n",
       "      <td>None</td>\n",
       "    </tr>\n",
       "    <tr>\n",
       "      <th>25</th>\n",
       "      <td>25</td>\n",
       "      <td>6</td>\n",
       "      <td>{'mip_focus': 0, 'cuts': 3, 'heuristics': 0.76...</td>\n",
       "      <td>None</td>\n",
       "    </tr>\n",
       "    <tr>\n",
       "      <th>26</th>\n",
       "      <td>25</td>\n",
       "      <td>6</td>\n",
       "      <td>{'mip_focus': 0, 'cuts': 3, 'heuristics': 0.75...</td>\n",
       "      <td>None</td>\n",
       "    </tr>\n",
       "    <tr>\n",
       "      <th>27</th>\n",
       "      <td>25</td>\n",
       "      <td>176</td>\n",
       "      <td>{'mip_focus': 3, 'cuts': 3, 'heuristics': 0.86...</td>\n",
       "      <td>None</td>\n",
       "    </tr>\n",
       "    <tr>\n",
       "      <th>28</th>\n",
       "      <td>25</td>\n",
       "      <td>176</td>\n",
       "      <td>{'mip_focus': 0, 'cuts': 3, 'heuristics': 0.76...</td>\n",
       "      <td>None</td>\n",
       "    </tr>\n",
       "    <tr>\n",
       "      <th>29</th>\n",
       "      <td>25</td>\n",
       "      <td>176</td>\n",
       "      <td>{'mip_focus': 0, 'cuts': 3, 'heuristics': 0.75...</td>\n",
       "      <td>None</td>\n",
       "    </tr>\n",
       "    <tr>\n",
       "      <th>30</th>\n",
       "      <td>75</td>\n",
       "      <td>3</td>\n",
       "      <td>{'mip_focus': 1, 'cuts': 2, 'heuristics': 0.58...</td>\n",
       "      <td>None</td>\n",
       "    </tr>\n",
       "    <tr>\n",
       "      <th>31</th>\n",
       "      <td>75</td>\n",
       "      <td>3</td>\n",
       "      <td>{'mip_focus': 1, 'cuts': 3, 'heuristics': 0.96...</td>\n",
       "      <td>None</td>\n",
       "    </tr>\n",
       "    <tr>\n",
       "      <th>32</th>\n",
       "      <td>75</td>\n",
       "      <td>3</td>\n",
       "      <td>{'mip_focus': 1, 'cuts': 2, 'heuristics': 0.72...</td>\n",
       "      <td>None</td>\n",
       "    </tr>\n",
       "    <tr>\n",
       "      <th>33</th>\n",
       "      <td>75</td>\n",
       "      <td>34</td>\n",
       "      <td>{'mip_focus': 1, 'cuts': 2, 'heuristics': 0.58...</td>\n",
       "      <td>None</td>\n",
       "    </tr>\n",
       "    <tr>\n",
       "      <th>34</th>\n",
       "      <td>75</td>\n",
       "      <td>34</td>\n",
       "      <td>{'mip_focus': 1, 'cuts': 3, 'heuristics': 0.96...</td>\n",
       "      <td>None</td>\n",
       "    </tr>\n",
       "    <tr>\n",
       "      <th>35</th>\n",
       "      <td>75</td>\n",
       "      <td>34</td>\n",
       "      <td>{'mip_focus': 1, 'cuts': 2, 'heuristics': 0.72...</td>\n",
       "      <td>None</td>\n",
       "    </tr>\n",
       "    <tr>\n",
       "      <th>36</th>\n",
       "      <td>75</td>\n",
       "      <td>68</td>\n",
       "      <td>{'mip_focus': 1, 'cuts': 2, 'heuristics': 0.58...</td>\n",
       "      <td>None</td>\n",
       "    </tr>\n",
       "    <tr>\n",
       "      <th>37</th>\n",
       "      <td>75</td>\n",
       "      <td>68</td>\n",
       "      <td>{'mip_focus': 1, 'cuts': 3, 'heuristics': 0.96...</td>\n",
       "      <td>None</td>\n",
       "    </tr>\n",
       "    <tr>\n",
       "      <th>38</th>\n",
       "      <td>75</td>\n",
       "      <td>68</td>\n",
       "      <td>{'mip_focus': 1, 'cuts': 2, 'heuristics': 0.72...</td>\n",
       "      <td>None</td>\n",
       "    </tr>\n",
       "    <tr>\n",
       "      <th>39</th>\n",
       "      <td>75</td>\n",
       "      <td>97</td>\n",
       "      <td>{'mip_focus': 1, 'cuts': 2, 'heuristics': 0.58...</td>\n",
       "      <td>None</td>\n",
       "    </tr>\n",
       "    <tr>\n",
       "      <th>40</th>\n",
       "      <td>75</td>\n",
       "      <td>97</td>\n",
       "      <td>{'mip_focus': 1, 'cuts': 3, 'heuristics': 0.96...</td>\n",
       "      <td>None</td>\n",
       "    </tr>\n",
       "    <tr>\n",
       "      <th>41</th>\n",
       "      <td>75</td>\n",
       "      <td>97</td>\n",
       "      <td>{'mip_focus': 1, 'cuts': 2, 'heuristics': 0.72...</td>\n",
       "      <td>None</td>\n",
       "    </tr>\n",
       "    <tr>\n",
       "      <th>42</th>\n",
       "      <td>75</td>\n",
       "      <td>51</td>\n",
       "      <td>{'mip_focus': 1, 'cuts': 2, 'heuristics': 0.58...</td>\n",
       "      <td>None</td>\n",
       "    </tr>\n",
       "    <tr>\n",
       "      <th>43</th>\n",
       "      <td>75</td>\n",
       "      <td>51</td>\n",
       "      <td>{'mip_focus': 1, 'cuts': 3, 'heuristics': 0.96...</td>\n",
       "      <td>None</td>\n",
       "    </tr>\n",
       "    <tr>\n",
       "      <th>44</th>\n",
       "      <td>75</td>\n",
       "      <td>51</td>\n",
       "      <td>{'mip_focus': 1, 'cuts': 2, 'heuristics': 0.72...</td>\n",
       "      <td>None</td>\n",
       "    </tr>\n",
       "    <tr>\n",
       "      <th>45</th>\n",
       "      <td>75</td>\n",
       "      <td>84</td>\n",
       "      <td>{'mip_focus': 1, 'cuts': 2, 'heuristics': 0.58...</td>\n",
       "      <td>None</td>\n",
       "    </tr>\n",
       "    <tr>\n",
       "      <th>46</th>\n",
       "      <td>75</td>\n",
       "      <td>84</td>\n",
       "      <td>{'mip_focus': 1, 'cuts': 3, 'heuristics': 0.96...</td>\n",
       "      <td>None</td>\n",
       "    </tr>\n",
       "    <tr>\n",
       "      <th>47</th>\n",
       "      <td>75</td>\n",
       "      <td>84</td>\n",
       "      <td>{'mip_focus': 1, 'cuts': 2, 'heuristics': 0.72...</td>\n",
       "      <td>None</td>\n",
       "    </tr>\n",
       "    <tr>\n",
       "      <th>48</th>\n",
       "      <td>75</td>\n",
       "      <td>89</td>\n",
       "      <td>{'mip_focus': 1, 'cuts': 2, 'heuristics': 0.58...</td>\n",
       "      <td>None</td>\n",
       "    </tr>\n",
       "    <tr>\n",
       "      <th>49</th>\n",
       "      <td>75</td>\n",
       "      <td>89</td>\n",
       "      <td>{'mip_focus': 1, 'cuts': 3, 'heuristics': 0.96...</td>\n",
       "      <td>None</td>\n",
       "    </tr>\n",
       "    <tr>\n",
       "      <th>50</th>\n",
       "      <td>75</td>\n",
       "      <td>89</td>\n",
       "      <td>{'mip_focus': 1, 'cuts': 2, 'heuristics': 0.72...</td>\n",
       "      <td>None</td>\n",
       "    </tr>\n",
       "    <tr>\n",
       "      <th>51</th>\n",
       "      <td>75</td>\n",
       "      <td>77</td>\n",
       "      <td>{'mip_focus': 1, 'cuts': 2, 'heuristics': 0.58...</td>\n",
       "      <td>None</td>\n",
       "    </tr>\n",
       "    <tr>\n",
       "      <th>52</th>\n",
       "      <td>75</td>\n",
       "      <td>77</td>\n",
       "      <td>{'mip_focus': 1, 'cuts': 3, 'heuristics': 0.96...</td>\n",
       "      <td>None</td>\n",
       "    </tr>\n",
       "    <tr>\n",
       "      <th>53</th>\n",
       "      <td>75</td>\n",
       "      <td>77</td>\n",
       "      <td>{'mip_focus': 1, 'cuts': 2, 'heuristics': 0.72...</td>\n",
       "      <td>None</td>\n",
       "    </tr>\n",
       "    <tr>\n",
       "      <th>54</th>\n",
       "      <td>75</td>\n",
       "      <td>66</td>\n",
       "      <td>{'mip_focus': 1, 'cuts': 2, 'heuristics': 0.58...</td>\n",
       "      <td>None</td>\n",
       "    </tr>\n",
       "    <tr>\n",
       "      <th>55</th>\n",
       "      <td>75</td>\n",
       "      <td>66</td>\n",
       "      <td>{'mip_focus': 1, 'cuts': 3, 'heuristics': 0.96...</td>\n",
       "      <td>None</td>\n",
       "    </tr>\n",
       "    <tr>\n",
       "      <th>56</th>\n",
       "      <td>75</td>\n",
       "      <td>66</td>\n",
       "      <td>{'mip_focus': 1, 'cuts': 2, 'heuristics': 0.72...</td>\n",
       "      <td>None</td>\n",
       "    </tr>\n",
       "    <tr>\n",
       "      <th>57</th>\n",
       "      <td>75</td>\n",
       "      <td>41</td>\n",
       "      <td>{'mip_focus': 1, 'cuts': 2, 'heuristics': 0.58...</td>\n",
       "      <td>None</td>\n",
       "    </tr>\n",
       "    <tr>\n",
       "      <th>58</th>\n",
       "      <td>75</td>\n",
       "      <td>41</td>\n",
       "      <td>{'mip_focus': 1, 'cuts': 3, 'heuristics': 0.96...</td>\n",
       "      <td>None</td>\n",
       "    </tr>\n",
       "    <tr>\n",
       "      <th>59</th>\n",
       "      <td>75</td>\n",
       "      <td>41</td>\n",
       "      <td>{'mip_focus': 1, 'cuts': 2, 'heuristics': 0.72...</td>\n",
       "      <td>None</td>\n",
       "    </tr>\n",
       "  </tbody>\n",
       "</table>\n",
       "</div>"
      ],
      "text/plain": [
       "    QueueSize  ProblemNumber  \\\n",
       "0          25            204   \n",
       "1          25            204   \n",
       "2          25            204   \n",
       "3          25            267   \n",
       "4          25            267   \n",
       "5          25            267   \n",
       "6          25            153   \n",
       "7          25            153   \n",
       "8          25            153   \n",
       "9          25             10   \n",
       "10         25             10   \n",
       "11         25             10   \n",
       "12         25            234   \n",
       "13         25            234   \n",
       "14         25            234   \n",
       "15         25            227   \n",
       "16         25            227   \n",
       "17         25            227   \n",
       "18         25            197   \n",
       "19         25            197   \n",
       "20         25            197   \n",
       "21         25            110   \n",
       "22         25            110   \n",
       "23         25            110   \n",
       "24         25              6   \n",
       "25         25              6   \n",
       "26         25              6   \n",
       "27         25            176   \n",
       "28         25            176   \n",
       "29         25            176   \n",
       "30         75              3   \n",
       "31         75              3   \n",
       "32         75              3   \n",
       "33         75             34   \n",
       "34         75             34   \n",
       "35         75             34   \n",
       "36         75             68   \n",
       "37         75             68   \n",
       "38         75             68   \n",
       "39         75             97   \n",
       "40         75             97   \n",
       "41         75             97   \n",
       "42         75             51   \n",
       "43         75             51   \n",
       "44         75             51   \n",
       "45         75             84   \n",
       "46         75             84   \n",
       "47         75             84   \n",
       "48         75             89   \n",
       "49         75             89   \n",
       "50         75             89   \n",
       "51         75             77   \n",
       "52         75             77   \n",
       "53         75             77   \n",
       "54         75             66   \n",
       "55         75             66   \n",
       "56         75             66   \n",
       "57         75             41   \n",
       "58         75             41   \n",
       "59         75             41   \n",
       "\n",
       "                                      Hyperparameters ObjectiveValue  \n",
       "0   {'mip_focus': 3, 'cuts': 3, 'heuristics': 0.86...           None  \n",
       "1   {'mip_focus': 0, 'cuts': 3, 'heuristics': 0.76...           None  \n",
       "2   {'mip_focus': 0, 'cuts': 3, 'heuristics': 0.75...           None  \n",
       "3   {'mip_focus': 3, 'cuts': 3, 'heuristics': 0.86...           None  \n",
       "4   {'mip_focus': 0, 'cuts': 3, 'heuristics': 0.76...           None  \n",
       "5   {'mip_focus': 0, 'cuts': 3, 'heuristics': 0.75...           None  \n",
       "6   {'mip_focus': 3, 'cuts': 3, 'heuristics': 0.86...           None  \n",
       "7   {'mip_focus': 0, 'cuts': 3, 'heuristics': 0.76...           None  \n",
       "8   {'mip_focus': 0, 'cuts': 3, 'heuristics': 0.75...           None  \n",
       "9   {'mip_focus': 3, 'cuts': 3, 'heuristics': 0.86...           None  \n",
       "10  {'mip_focus': 0, 'cuts': 3, 'heuristics': 0.76...           None  \n",
       "11  {'mip_focus': 0, 'cuts': 3, 'heuristics': 0.75...           None  \n",
       "12  {'mip_focus': 3, 'cuts': 3, 'heuristics': 0.86...           None  \n",
       "13  {'mip_focus': 0, 'cuts': 3, 'heuristics': 0.76...           None  \n",
       "14  {'mip_focus': 0, 'cuts': 3, 'heuristics': 0.75...           None  \n",
       "15  {'mip_focus': 3, 'cuts': 3, 'heuristics': 0.86...           None  \n",
       "16  {'mip_focus': 0, 'cuts': 3, 'heuristics': 0.76...           None  \n",
       "17  {'mip_focus': 0, 'cuts': 3, 'heuristics': 0.75...           None  \n",
       "18  {'mip_focus': 3, 'cuts': 3, 'heuristics': 0.86...           None  \n",
       "19  {'mip_focus': 0, 'cuts': 3, 'heuristics': 0.76...           None  \n",
       "20  {'mip_focus': 0, 'cuts': 3, 'heuristics': 0.75...           None  \n",
       "21  {'mip_focus': 3, 'cuts': 3, 'heuristics': 0.86...           None  \n",
       "22  {'mip_focus': 0, 'cuts': 3, 'heuristics': 0.76...           None  \n",
       "23  {'mip_focus': 0, 'cuts': 3, 'heuristics': 0.75...           None  \n",
       "24  {'mip_focus': 3, 'cuts': 3, 'heuristics': 0.86...           None  \n",
       "25  {'mip_focus': 0, 'cuts': 3, 'heuristics': 0.76...           None  \n",
       "26  {'mip_focus': 0, 'cuts': 3, 'heuristics': 0.75...           None  \n",
       "27  {'mip_focus': 3, 'cuts': 3, 'heuristics': 0.86...           None  \n",
       "28  {'mip_focus': 0, 'cuts': 3, 'heuristics': 0.76...           None  \n",
       "29  {'mip_focus': 0, 'cuts': 3, 'heuristics': 0.75...           None  \n",
       "30  {'mip_focus': 1, 'cuts': 2, 'heuristics': 0.58...           None  \n",
       "31  {'mip_focus': 1, 'cuts': 3, 'heuristics': 0.96...           None  \n",
       "32  {'mip_focus': 1, 'cuts': 2, 'heuristics': 0.72...           None  \n",
       "33  {'mip_focus': 1, 'cuts': 2, 'heuristics': 0.58...           None  \n",
       "34  {'mip_focus': 1, 'cuts': 3, 'heuristics': 0.96...           None  \n",
       "35  {'mip_focus': 1, 'cuts': 2, 'heuristics': 0.72...           None  \n",
       "36  {'mip_focus': 1, 'cuts': 2, 'heuristics': 0.58...           None  \n",
       "37  {'mip_focus': 1, 'cuts': 3, 'heuristics': 0.96...           None  \n",
       "38  {'mip_focus': 1, 'cuts': 2, 'heuristics': 0.72...           None  \n",
       "39  {'mip_focus': 1, 'cuts': 2, 'heuristics': 0.58...           None  \n",
       "40  {'mip_focus': 1, 'cuts': 3, 'heuristics': 0.96...           None  \n",
       "41  {'mip_focus': 1, 'cuts': 2, 'heuristics': 0.72...           None  \n",
       "42  {'mip_focus': 1, 'cuts': 2, 'heuristics': 0.58...           None  \n",
       "43  {'mip_focus': 1, 'cuts': 3, 'heuristics': 0.96...           None  \n",
       "44  {'mip_focus': 1, 'cuts': 2, 'heuristics': 0.72...           None  \n",
       "45  {'mip_focus': 1, 'cuts': 2, 'heuristics': 0.58...           None  \n",
       "46  {'mip_focus': 1, 'cuts': 3, 'heuristics': 0.96...           None  \n",
       "47  {'mip_focus': 1, 'cuts': 2, 'heuristics': 0.72...           None  \n",
       "48  {'mip_focus': 1, 'cuts': 2, 'heuristics': 0.58...           None  \n",
       "49  {'mip_focus': 1, 'cuts': 3, 'heuristics': 0.96...           None  \n",
       "50  {'mip_focus': 1, 'cuts': 2, 'heuristics': 0.72...           None  \n",
       "51  {'mip_focus': 1, 'cuts': 2, 'heuristics': 0.58...           None  \n",
       "52  {'mip_focus': 1, 'cuts': 3, 'heuristics': 0.96...           None  \n",
       "53  {'mip_focus': 1, 'cuts': 2, 'heuristics': 0.72...           None  \n",
       "54  {'mip_focus': 1, 'cuts': 2, 'heuristics': 0.58...           None  \n",
       "55  {'mip_focus': 1, 'cuts': 3, 'heuristics': 0.96...           None  \n",
       "56  {'mip_focus': 1, 'cuts': 2, 'heuristics': 0.72...           None  \n",
       "57  {'mip_focus': 1, 'cuts': 2, 'heuristics': 0.58...           None  \n",
       "58  {'mip_focus': 1, 'cuts': 3, 'heuristics': 0.96...           None  \n",
       "59  {'mip_focus': 1, 'cuts': 2, 'heuristics': 0.72...           None  "
      ]
     },
     "metadata": {},
     "output_type": "display_data"
    }
   ],
   "source": [
    "### ONLY RUN ONCE!!! Do not overwrite\n",
    "### run plan for stochastic (recycling the top_3_per_study for stochastic)\n",
    "import pandas as pd\n",
    "import itertools\n",
    "import pickle\n",
    "\n",
    "# Generate run plan data\n",
    "run_plan_data = []\n",
    "\n",
    "# Iterate over queue sizes and problems\n",
    "for queue_size, problems in validation_samples.items():\n",
    "    # Filter top hyperparameters\n",
    "    top_3_hyperparams = top_3_per_study[top_3_per_study[\"QueueSize\"] == queue_size][\"Hyperparameters\"] # uses same variables\n",
    "    \n",
    "    # Combine problems and hyperparameters\n",
    "    for problem_number, hyperparams in itertools.product(problems, top_3_hyperparams):\n",
    "        run_plan_data.append({\n",
    "            \"QueueSize\": queue_size,  # Add queue size\n",
    "            \"ProblemNumber\": problem_number,  # Add problem number\n",
    "            \"Hyperparameters\": hyperparams,  # Add hyperparameter set\n",
    "            \"ObjectiveValue\": None  # Placeholder for results\n",
    "        })\n",
    "\n",
    "# Convert to DataFrame\n",
    "run_plan_df = pd.DataFrame(run_plan_data)\n",
    "\n",
    "# Save run plan\n",
    "run_plan_file = \"validation_run_plan_stochastic.pkl\" # ensure it doesn't save over deterministic\n",
    "\n",
    "# with open(run_plan_file, \"wb\") as f: ## Commented out so it doesn't overwrite!!!!!!!!!!!\n",
    "#     pickle.dump(run_plan_df, f)\n",
    "\n",
    "# Display the run plan|\n",
    "display(run_plan_df)\n"
   ]
  },
  {
   "cell_type": "code",
   "execution_count": 131,
   "id": "9846a9c9-cd25-4259-996f-d196013e20ae",
   "metadata": {
    "scrolled": true
   },
   "outputs": [
    {
     "name": "stdout",
     "output_type": "stream",
     "text": [
      "Running QueueSize: 25, ProblemNumber: 204, hyperparams: {'mip_focus': 3, 'cuts': 3, 'heuristics': 0.8678944201458589, 'presolve': 1, 'nanmean': False, 'delta_start': 818}\n",
      "file_path used:ProblemSets/Training_Queue25\n",
      "Saved! Sleeping... ZzzZ Zz...\n",
      "Running QueueSize: 25, ProblemNumber: 204, hyperparams: {'mip_focus': 0, 'cuts': 3, 'heuristics': 0.7684551530323259, 'presolve': 1, 'nanmean': False, 'delta_start': 818}\n",
      "file_path used:ProblemSets/Training_Queue25\n",
      "Saved! Sleeping... ZzzZ Zz...\n",
      "Running QueueSize: 25, ProblemNumber: 204, hyperparams: {'mip_focus': 0, 'cuts': 3, 'heuristics': 0.7563919824960467, 'presolve': 1, 'nanmean': False, 'delta_start': 818}\n",
      "file_path used:ProblemSets/Training_Queue25\n",
      "Saved! Sleeping... ZzzZ Zz...\n",
      "Running QueueSize: 25, ProblemNumber: 267, hyperparams: {'mip_focus': 3, 'cuts': 3, 'heuristics': 0.8678944201458589, 'presolve': 1, 'nanmean': False, 'delta_start': 818}\n",
      "file_path used:ProblemSets/Training_Queue25\n",
      "Saved! Sleeping... ZzzZ Zz...\n",
      "Running QueueSize: 25, ProblemNumber: 267, hyperparams: {'mip_focus': 0, 'cuts': 3, 'heuristics': 0.7684551530323259, 'presolve': 1, 'nanmean': False, 'delta_start': 818}\n",
      "file_path used:ProblemSets/Training_Queue25\n",
      "Saved! Sleeping... ZzzZ Zz...\n",
      "Running QueueSize: 25, ProblemNumber: 267, hyperparams: {'mip_focus': 0, 'cuts': 3, 'heuristics': 0.7563919824960467, 'presolve': 1, 'nanmean': False, 'delta_start': 818}\n",
      "file_path used:ProblemSets/Training_Queue25\n",
      "Saved! Sleeping... ZzzZ Zz...\n",
      "Running QueueSize: 25, ProblemNumber: 153, hyperparams: {'mip_focus': 3, 'cuts': 3, 'heuristics': 0.8678944201458589, 'presolve': 1, 'nanmean': False, 'delta_start': 818}\n",
      "file_path used:ProblemSets/Training_Queue25\n",
      "Saved! Sleeping... ZzzZ Zz...\n",
      "Running QueueSize: 25, ProblemNumber: 153, hyperparams: {'mip_focus': 0, 'cuts': 3, 'heuristics': 0.7684551530323259, 'presolve': 1, 'nanmean': False, 'delta_start': 818}\n",
      "file_path used:ProblemSets/Training_Queue25\n",
      "Saved! Sleeping... ZzzZ Zz...\n",
      "Running QueueSize: 25, ProblemNumber: 153, hyperparams: {'mip_focus': 0, 'cuts': 3, 'heuristics': 0.7563919824960467, 'presolve': 1, 'nanmean': False, 'delta_start': 818}\n",
      "file_path used:ProblemSets/Training_Queue25\n",
      "Saved! Sleeping... ZzzZ Zz...\n",
      "Running QueueSize: 25, ProblemNumber: 10, hyperparams: {'mip_focus': 3, 'cuts': 3, 'heuristics': 0.8678944201458589, 'presolve': 1, 'nanmean': False, 'delta_start': 818}\n",
      "file_path used:ProblemSets/Training_Queue25\n",
      "Saved! Sleeping... ZzzZ Zz...\n",
      "Running QueueSize: 25, ProblemNumber: 10, hyperparams: {'mip_focus': 0, 'cuts': 3, 'heuristics': 0.7684551530323259, 'presolve': 1, 'nanmean': False, 'delta_start': 818}\n",
      "file_path used:ProblemSets/Training_Queue25\n",
      "Saved! Sleeping... ZzzZ Zz...\n",
      "Running QueueSize: 25, ProblemNumber: 10, hyperparams: {'mip_focus': 0, 'cuts': 3, 'heuristics': 0.7563919824960467, 'presolve': 1, 'nanmean': False, 'delta_start': 818}\n",
      "file_path used:ProblemSets/Training_Queue25\n",
      "Saved! Sleeping... ZzzZ Zz...\n",
      "Running QueueSize: 25, ProblemNumber: 234, hyperparams: {'mip_focus': 3, 'cuts': 3, 'heuristics': 0.8678944201458589, 'presolve': 1, 'nanmean': False, 'delta_start': 818}\n",
      "file_path used:ProblemSets/Training_Queue25\n",
      "Saved! Sleeping... ZzzZ Zz...\n",
      "Running QueueSize: 25, ProblemNumber: 234, hyperparams: {'mip_focus': 0, 'cuts': 3, 'heuristics': 0.7684551530323259, 'presolve': 1, 'nanmean': False, 'delta_start': 818}\n",
      "file_path used:ProblemSets/Training_Queue25\n",
      "Saved! Sleeping... ZzzZ Zz...\n",
      "Running QueueSize: 25, ProblemNumber: 234, hyperparams: {'mip_focus': 0, 'cuts': 3, 'heuristics': 0.7563919824960467, 'presolve': 1, 'nanmean': False, 'delta_start': 818}\n",
      "file_path used:ProblemSets/Training_Queue25\n",
      "Saved! Sleeping... ZzzZ Zz...\n",
      "Running QueueSize: 25, ProblemNumber: 227, hyperparams: {'mip_focus': 3, 'cuts': 3, 'heuristics': 0.8678944201458589, 'presolve': 1, 'nanmean': False, 'delta_start': 818}\n",
      "file_path used:ProblemSets/Training_Queue25\n",
      "Saved! Sleeping... ZzzZ Zz...\n",
      "Running QueueSize: 25, ProblemNumber: 227, hyperparams: {'mip_focus': 0, 'cuts': 3, 'heuristics': 0.7684551530323259, 'presolve': 1, 'nanmean': False, 'delta_start': 818}\n",
      "file_path used:ProblemSets/Training_Queue25\n",
      "Saved! Sleeping... ZzzZ Zz...\n",
      "Running QueueSize: 25, ProblemNumber: 227, hyperparams: {'mip_focus': 0, 'cuts': 3, 'heuristics': 0.7563919824960467, 'presolve': 1, 'nanmean': False, 'delta_start': 818}\n",
      "file_path used:ProblemSets/Training_Queue25\n",
      "Saved! Sleeping... ZzzZ Zz...\n",
      "Running QueueSize: 25, ProblemNumber: 197, hyperparams: {'mip_focus': 3, 'cuts': 3, 'heuristics': 0.8678944201458589, 'presolve': 1, 'nanmean': False, 'delta_start': 818}\n",
      "file_path used:ProblemSets/Training_Queue25\n",
      "Saved! Sleeping... ZzzZ Zz...\n",
      "Running QueueSize: 25, ProblemNumber: 197, hyperparams: {'mip_focus': 0, 'cuts': 3, 'heuristics': 0.7684551530323259, 'presolve': 1, 'nanmean': False, 'delta_start': 818}\n",
      "file_path used:ProblemSets/Training_Queue25\n",
      "Saved! Sleeping... ZzzZ Zz...\n",
      "Running QueueSize: 25, ProblemNumber: 197, hyperparams: {'mip_focus': 0, 'cuts': 3, 'heuristics': 0.7563919824960467, 'presolve': 1, 'nanmean': False, 'delta_start': 818}\n",
      "file_path used:ProblemSets/Training_Queue25\n",
      "Saved! Sleeping... ZzzZ Zz...\n",
      "Running QueueSize: 25, ProblemNumber: 110, hyperparams: {'mip_focus': 3, 'cuts': 3, 'heuristics': 0.8678944201458589, 'presolve': 1, 'nanmean': False, 'delta_start': 818}\n",
      "file_path used:ProblemSets/Training_Queue25\n",
      "Saved! Sleeping... ZzzZ Zz...\n",
      "Running QueueSize: 25, ProblemNumber: 110, hyperparams: {'mip_focus': 0, 'cuts': 3, 'heuristics': 0.7684551530323259, 'presolve': 1, 'nanmean': False, 'delta_start': 818}\n",
      "file_path used:ProblemSets/Training_Queue25\n",
      "Saved! Sleeping... ZzzZ Zz...\n",
      "Running QueueSize: 25, ProblemNumber: 110, hyperparams: {'mip_focus': 0, 'cuts': 3, 'heuristics': 0.7563919824960467, 'presolve': 1, 'nanmean': False, 'delta_start': 818}\n",
      "file_path used:ProblemSets/Training_Queue25\n",
      "Saved! Sleeping... ZzzZ Zz...\n",
      "Running QueueSize: 25, ProblemNumber: 6, hyperparams: {'mip_focus': 3, 'cuts': 3, 'heuristics': 0.8678944201458589, 'presolve': 1, 'nanmean': False, 'delta_start': 818}\n",
      "file_path used:ProblemSets/Training_Queue25\n",
      "Saved! Sleeping... ZzzZ Zz...\n",
      "Running QueueSize: 25, ProblemNumber: 6, hyperparams: {'mip_focus': 0, 'cuts': 3, 'heuristics': 0.7684551530323259, 'presolve': 1, 'nanmean': False, 'delta_start': 818}\n",
      "file_path used:ProblemSets/Training_Queue25\n",
      "Saved! Sleeping... ZzzZ Zz...\n",
      "Running QueueSize: 25, ProblemNumber: 6, hyperparams: {'mip_focus': 0, 'cuts': 3, 'heuristics': 0.7563919824960467, 'presolve': 1, 'nanmean': False, 'delta_start': 818}\n",
      "file_path used:ProblemSets/Training_Queue25\n",
      "Saved! Sleeping... ZzzZ Zz...\n",
      "Running QueueSize: 25, ProblemNumber: 176, hyperparams: {'mip_focus': 3, 'cuts': 3, 'heuristics': 0.8678944201458589, 'presolve': 1, 'nanmean': False, 'delta_start': 818}\n",
      "file_path used:ProblemSets/Training_Queue25\n",
      "Saved! Sleeping... ZzzZ Zz...\n",
      "Running QueueSize: 25, ProblemNumber: 176, hyperparams: {'mip_focus': 0, 'cuts': 3, 'heuristics': 0.7684551530323259, 'presolve': 1, 'nanmean': False, 'delta_start': 818}\n",
      "file_path used:ProblemSets/Training_Queue25\n",
      "Saved! Sleeping... ZzzZ Zz...\n",
      "Running QueueSize: 25, ProblemNumber: 176, hyperparams: {'mip_focus': 0, 'cuts': 3, 'heuristics': 0.7563919824960467, 'presolve': 1, 'nanmean': False, 'delta_start': 818}\n",
      "file_path used:ProblemSets/Training_Queue25\n",
      "Saved! Sleeping... ZzzZ Zz...\n",
      "Running QueueSize: 75, ProblemNumber: 3, hyperparams: {'mip_focus': 1, 'cuts': 2, 'heuristics': 0.5851062188632922, 'presolve': 1, 'nanmean': False, 'delta_start': 2619}\n",
      "file_path used:ProblemSets/Training_Queue75\n",
      "Saved! Sleeping... ZzzZ Zz...\n",
      "Running QueueSize: 75, ProblemNumber: 3, hyperparams: {'mip_focus': 1, 'cuts': 3, 'heuristics': 0.9677167160301956, 'presolve': 0, 'nanmean': False, 'delta_start': 2619}\n",
      "file_path used:ProblemSets/Training_Queue75\n",
      "Saved! Sleeping... ZzzZ Zz...\n",
      "Running QueueSize: 75, ProblemNumber: 3, hyperparams: {'mip_focus': 1, 'cuts': 2, 'heuristics': 0.7242407324722422, 'presolve': 0, 'nanmean': False, 'delta_start': 2619}\n",
      "file_path used:ProblemSets/Training_Queue75\n",
      "Saved! Sleeping... ZzzZ Zz...\n",
      "Running QueueSize: 75, ProblemNumber: 34, hyperparams: {'mip_focus': 1, 'cuts': 2, 'heuristics': 0.5851062188632922, 'presolve': 1, 'nanmean': False, 'delta_start': 2619}\n",
      "file_path used:ProblemSets/Training_Queue75\n",
      "Saved! Sleeping... ZzzZ Zz...\n",
      "Running QueueSize: 75, ProblemNumber: 34, hyperparams: {'mip_focus': 1, 'cuts': 3, 'heuristics': 0.9677167160301956, 'presolve': 0, 'nanmean': False, 'delta_start': 2619}\n",
      "file_path used:ProblemSets/Training_Queue75\n",
      "Saved! Sleeping... ZzzZ Zz...\n",
      "Running QueueSize: 75, ProblemNumber: 34, hyperparams: {'mip_focus': 1, 'cuts': 2, 'heuristics': 0.7242407324722422, 'presolve': 0, 'nanmean': False, 'delta_start': 2619}\n",
      "file_path used:ProblemSets/Training_Queue75\n",
      "Saved! Sleeping... ZzzZ Zz...\n",
      "Running QueueSize: 75, ProblemNumber: 68, hyperparams: {'mip_focus': 1, 'cuts': 2, 'heuristics': 0.5851062188632922, 'presolve': 1, 'nanmean': False, 'delta_start': 2619}\n",
      "file_path used:ProblemSets/Training_Queue75\n",
      "Saved! Sleeping... ZzzZ Zz...\n",
      "Running QueueSize: 75, ProblemNumber: 68, hyperparams: {'mip_focus': 1, 'cuts': 3, 'heuristics': 0.9677167160301956, 'presolve': 0, 'nanmean': False, 'delta_start': 2619}\n",
      "file_path used:ProblemSets/Training_Queue75\n",
      "Saved! Sleeping... ZzzZ Zz...\n",
      "Running QueueSize: 75, ProblemNumber: 68, hyperparams: {'mip_focus': 1, 'cuts': 2, 'heuristics': 0.7242407324722422, 'presolve': 0, 'nanmean': False, 'delta_start': 2619}\n",
      "file_path used:ProblemSets/Training_Queue75\n",
      "Saved! Sleeping... ZzzZ Zz...\n",
      "Running QueueSize: 75, ProblemNumber: 97, hyperparams: {'mip_focus': 1, 'cuts': 2, 'heuristics': 0.5851062188632922, 'presolve': 1, 'nanmean': False, 'delta_start': 2619}\n",
      "file_path used:ProblemSets/Training_Queue75\n",
      "Saved! Sleeping... ZzzZ Zz...\n",
      "Running QueueSize: 75, ProblemNumber: 97, hyperparams: {'mip_focus': 1, 'cuts': 3, 'heuristics': 0.9677167160301956, 'presolve': 0, 'nanmean': False, 'delta_start': 2619}\n",
      "file_path used:ProblemSets/Training_Queue75\n",
      "Saved! Sleeping... ZzzZ Zz...\n",
      "Running QueueSize: 75, ProblemNumber: 97, hyperparams: {'mip_focus': 1, 'cuts': 2, 'heuristics': 0.7242407324722422, 'presolve': 0, 'nanmean': False, 'delta_start': 2619}\n",
      "file_path used:ProblemSets/Training_Queue75\n",
      "Saved! Sleeping... ZzzZ Zz...\n",
      "Running QueueSize: 75, ProblemNumber: 51, hyperparams: {'mip_focus': 1, 'cuts': 2, 'heuristics': 0.5851062188632922, 'presolve': 1, 'nanmean': False, 'delta_start': 2619}\n",
      "file_path used:ProblemSets/Training_Queue75\n",
      "Saved! Sleeping... ZzzZ Zz...\n",
      "Running QueueSize: 75, ProblemNumber: 51, hyperparams: {'mip_focus': 1, 'cuts': 3, 'heuristics': 0.9677167160301956, 'presolve': 0, 'nanmean': False, 'delta_start': 2619}\n",
      "file_path used:ProblemSets/Training_Queue75\n",
      "Saved! Sleeping... ZzzZ Zz...\n",
      "Running QueueSize: 75, ProblemNumber: 51, hyperparams: {'mip_focus': 1, 'cuts': 2, 'heuristics': 0.7242407324722422, 'presolve': 0, 'nanmean': False, 'delta_start': 2619}\n",
      "file_path used:ProblemSets/Training_Queue75\n",
      "Saved! Sleeping... ZzzZ Zz...\n",
      "Running QueueSize: 75, ProblemNumber: 84, hyperparams: {'mip_focus': 1, 'cuts': 2, 'heuristics': 0.5851062188632922, 'presolve': 1, 'nanmean': False, 'delta_start': 2619}\n",
      "file_path used:ProblemSets/Training_Queue75\n",
      "Saved! Sleeping... ZzzZ Zz...\n",
      "Running QueueSize: 75, ProblemNumber: 84, hyperparams: {'mip_focus': 1, 'cuts': 3, 'heuristics': 0.9677167160301956, 'presolve': 0, 'nanmean': False, 'delta_start': 2619}\n",
      "file_path used:ProblemSets/Training_Queue75\n",
      "Saved! Sleeping... ZzzZ Zz...\n",
      "Running QueueSize: 75, ProblemNumber: 84, hyperparams: {'mip_focus': 1, 'cuts': 2, 'heuristics': 0.7242407324722422, 'presolve': 0, 'nanmean': False, 'delta_start': 2619}\n",
      "file_path used:ProblemSets/Training_Queue75\n",
      "Saved! Sleeping... ZzzZ Zz...\n",
      "Running QueueSize: 75, ProblemNumber: 89, hyperparams: {'mip_focus': 1, 'cuts': 2, 'heuristics': 0.5851062188632922, 'presolve': 1, 'nanmean': False, 'delta_start': 2619}\n",
      "file_path used:ProblemSets/Training_Queue75\n",
      "Saved! Sleeping... ZzzZ Zz...\n",
      "Running QueueSize: 75, ProblemNumber: 89, hyperparams: {'mip_focus': 1, 'cuts': 3, 'heuristics': 0.9677167160301956, 'presolve': 0, 'nanmean': False, 'delta_start': 2619}\n",
      "file_path used:ProblemSets/Training_Queue75\n",
      "Saved! Sleeping... ZzzZ Zz...\n",
      "Running QueueSize: 75, ProblemNumber: 89, hyperparams: {'mip_focus': 1, 'cuts': 2, 'heuristics': 0.7242407324722422, 'presolve': 0, 'nanmean': False, 'delta_start': 2619}\n",
      "file_path used:ProblemSets/Training_Queue75\n",
      "Saved! Sleeping... ZzzZ Zz...\n",
      "Running QueueSize: 75, ProblemNumber: 77, hyperparams: {'mip_focus': 1, 'cuts': 2, 'heuristics': 0.5851062188632922, 'presolve': 1, 'nanmean': False, 'delta_start': 2619}\n",
      "file_path used:ProblemSets/Training_Queue75\n",
      "Saved! Sleeping... ZzzZ Zz...\n",
      "Running QueueSize: 75, ProblemNumber: 77, hyperparams: {'mip_focus': 1, 'cuts': 3, 'heuristics': 0.9677167160301956, 'presolve': 0, 'nanmean': False, 'delta_start': 2619}\n",
      "file_path used:ProblemSets/Training_Queue75\n",
      "Saved! Sleeping... ZzzZ Zz...\n",
      "Running QueueSize: 75, ProblemNumber: 77, hyperparams: {'mip_focus': 1, 'cuts': 2, 'heuristics': 0.7242407324722422, 'presolve': 0, 'nanmean': False, 'delta_start': 2619}\n",
      "file_path used:ProblemSets/Training_Queue75\n",
      "Saved! Sleeping... ZzzZ Zz...\n",
      "Running QueueSize: 75, ProblemNumber: 66, hyperparams: {'mip_focus': 1, 'cuts': 2, 'heuristics': 0.5851062188632922, 'presolve': 1, 'nanmean': False, 'delta_start': 2619}\n",
      "file_path used:ProblemSets/Training_Queue75\n",
      "Saved! Sleeping... ZzzZ Zz...\n",
      "Running QueueSize: 75, ProblemNumber: 66, hyperparams: {'mip_focus': 1, 'cuts': 3, 'heuristics': 0.9677167160301956, 'presolve': 0, 'nanmean': False, 'delta_start': 2619}\n",
      "file_path used:ProblemSets/Training_Queue75\n",
      "Saved! Sleeping... ZzzZ Zz...\n",
      "Running QueueSize: 75, ProblemNumber: 66, hyperparams: {'mip_focus': 1, 'cuts': 2, 'heuristics': 0.7242407324722422, 'presolve': 0, 'nanmean': False, 'delta_start': 2619}\n",
      "file_path used:ProblemSets/Training_Queue75\n",
      "Saved! Sleeping... ZzzZ Zz...\n",
      "Running QueueSize: 75, ProblemNumber: 41, hyperparams: {'mip_focus': 1, 'cuts': 2, 'heuristics': 0.5851062188632922, 'presolve': 1, 'nanmean': False, 'delta_start': 2619}\n",
      "file_path used:ProblemSets/Training_Queue75\n",
      "Saved! Sleeping... ZzzZ Zz...\n",
      "Running QueueSize: 75, ProblemNumber: 41, hyperparams: {'mip_focus': 1, 'cuts': 3, 'heuristics': 0.9677167160301956, 'presolve': 0, 'nanmean': False, 'delta_start': 2619}\n",
      "file_path used:ProblemSets/Training_Queue75\n",
      "Saved! Sleeping... ZzzZ Zz...\n",
      "Running QueueSize: 75, ProblemNumber: 41, hyperparams: {'mip_focus': 1, 'cuts': 2, 'heuristics': 0.7242407324722422, 'presolve': 0, 'nanmean': False, 'delta_start': 2619}\n",
      "file_path used:ProblemSets/Training_Queue75\n",
      "Saved! Sleeping... ZzzZ Zz...\n",
      "Run completed. Results saved to run plan file.\n"
     ]
    }
   ],
   "source": [
    "import pandas as pd\n",
    "import pickle\n",
    "import os\n",
    "import time\n",
    "\n",
    "def run_VRPsolver_with_plan(run_plan_file, sleep_time=0.25):\n",
    "    \"\"\"\n",
    "    Execute solver based on the run plan and save results incrementally to the same file.\n",
    "    \n",
    "    Args:\n",
    "        run_plan_file (str): Path to the run plan file (source and destination).\n",
    "        sleep_time (float): Time to sleep between runs for fault tolerance.\n",
    "    \"\"\"\n",
    "    # Load run plan\n",
    "    with open(run_plan_file, \"rb\") as f:\n",
    "        run_plan_df = pickle.load(f)\n",
    "\n",
    "    # Ensure ObjectiveValue column exists\n",
    "    if \"ObjectiveValue\" not in run_plan_df.columns:\n",
    "        run_plan_df[\"ObjectiveValue\"] = None\n",
    "\n",
    "    # Iterate through runs\n",
    "    for idx, row in run_plan_df.iterrows():\n",
    "        # Skip already completed runs\n",
    "        if row[\"ObjectiveValue\"] is not None:\n",
    "            continue\n",
    "        \n",
    "        # Extract parameters\n",
    "        queue_size = row[\"QueueSize\"]\n",
    "        problem_number = row[\"ProblemNumber\"]\n",
    "        hyperparams = row[\"Hyperparameters\"]\n",
    "\n",
    "        print(f\"Running QueueSize: {queue_size}, ProblemNumber: {problem_number}, hyperparams: {hyperparams}\")\n",
    "        \n",
    "        # Load problem data\n",
    "        try:\n",
    "            problem_df, cost_matrix, warm_start_transition_matrix, traditional_SPT_obj_value = load_problem_data(queue_size, problem_number, training=True) # using training data still\n",
    "\n",
    "            # Instantiate solver\n",
    "            solver = StochasticVRPSolver(\n",
    "                cost_matrix=cost_matrix,\n",
    "                problem_df=problem_df,\n",
    "                problemset_num=queue_size,\n",
    "                problem_num=problem_number,\n",
    "                warm_start=warm_start_transition_matrix,\n",
    "                debug=False,\n",
    "                stochastic_parameters={\n",
    "                    \"nanmean\": hyperparams.get(\"nanmean\"),  # Dynamically retrieve nanmean\n",
    "                },\n",
    "                hyperparams={\n",
    "                    **hyperparams,  # unpack hyperparameters\n",
    "                    \"time_limit\": 10, # seconds\n",
    "                    \"symmetry_breaking\": False, # based on learnings from deterministic optimization\n",
    "                    \"num_threads\": 23,\n",
    "                }\n",
    "            )\n",
    "    \n",
    "            # Solve problem\n",
    "            solver.stochastic_iterative_solving() # critically needs to use the stochastic solving features\n",
    "            solution = solver.get_solution() # answers always result in deterministic solves, because next job is null\n",
    "\n",
    "            # Scoring\n",
    "            optimization_algorithm_obj_value = solution[\"objective_value\"]\n",
    "            if optimization_algorithm_obj_value is None:\n",
    "                improvement_relative_percent = -100  # Penalize infeasible solutions\n",
    "            else:\n",
    "                O, T = optimization_algorithm_obj_value, traditional_SPT_obj_value\n",
    "                improvement_relative_percent = (T - O) / max(T, 1e-4) * 100  # Avoid divide by zero\n",
    "\n",
    "            # Store result\n",
    "            run_plan_df.at[idx, \"ObjectiveValue\"] = improvement_relative_percent\n",
    "\n",
    "        except Exception as e:\n",
    "            print(f\"Error on QueueSize: {queue_size}, ProblemNumber: {problem_number} -> {e}\")\n",
    "            run_plan_df.at[idx, \"ObjectiveValue\"] = None  # Mark as incomplete\n",
    "            \n",
    "        # Save progress after each iteration\n",
    "        with open(run_plan_file, \"wb\") as f:\n",
    "            pickle.dump(run_plan_df, f)\n",
    "\n",
    "        # Sleep between iterations\n",
    "        print(\"Saved! Sleeping... ZzzZ Zz...\")\n",
    "        time.sleep(sleep_time)\n",
    "\n",
    "    print(\"Run completed. Results saved to run plan file.\")\n",
    "\n",
    "# RUN ONLY ONCE!\n",
    "run_VRPsolver_with_plan(run_plan_file=\"validation_run_plan_stochastic.pkl\")\n"
   ]
  },
  {
   "cell_type": "markdown",
   "id": "158e5803-30f8-425f-8ccc-1fab82def3ba",
   "metadata": {
    "jp-MarkdownHeadingCollapsed": true
   },
   "source": [
    "### Hold-out Testing for Stochastic Optimization"
   ]
  },
  {
   "cell_type": "code",
   "execution_count": 133,
   "id": "5b5117b0-f658-4af1-ac58-fed44d4a2b85",
   "metadata": {},
   "outputs": [
    {
     "data": {
      "text/html": [
       "<div>\n",
       "<style scoped>\n",
       "    .dataframe tbody tr th:only-of-type {\n",
       "        vertical-align: middle;\n",
       "    }\n",
       "\n",
       "    .dataframe tbody tr th {\n",
       "        vertical-align: top;\n",
       "    }\n",
       "\n",
       "    .dataframe thead th {\n",
       "        text-align: right;\n",
       "    }\n",
       "</style>\n",
       "<table border=\"1\" class=\"dataframe\">\n",
       "  <thead>\n",
       "    <tr style=\"text-align: right;\">\n",
       "      <th></th>\n",
       "      <th>QueueSize</th>\n",
       "      <th>ProblemNumber</th>\n",
       "      <th>Hyperparameters</th>\n",
       "      <th>ObjectiveValue</th>\n",
       "    </tr>\n",
       "  </thead>\n",
       "  <tbody>\n",
       "    <tr>\n",
       "      <th>0</th>\n",
       "      <td>25</td>\n",
       "      <td>1</td>\n",
       "      <td>{'mip_focus': 0, 'cuts': 3, 'heuristics': 0.76...</td>\n",
       "      <td>None</td>\n",
       "    </tr>\n",
       "    <tr>\n",
       "      <th>1</th>\n",
       "      <td>25</td>\n",
       "      <td>2</td>\n",
       "      <td>{'mip_focus': 0, 'cuts': 3, 'heuristics': 0.76...</td>\n",
       "      <td>None</td>\n",
       "    </tr>\n",
       "    <tr>\n",
       "      <th>2</th>\n",
       "      <td>25</td>\n",
       "      <td>3</td>\n",
       "      <td>{'mip_focus': 0, 'cuts': 3, 'heuristics': 0.76...</td>\n",
       "      <td>None</td>\n",
       "    </tr>\n",
       "    <tr>\n",
       "      <th>3</th>\n",
       "      <td>25</td>\n",
       "      <td>4</td>\n",
       "      <td>{'mip_focus': 0, 'cuts': 3, 'heuristics': 0.76...</td>\n",
       "      <td>None</td>\n",
       "    </tr>\n",
       "    <tr>\n",
       "      <th>4</th>\n",
       "      <td>25</td>\n",
       "      <td>5</td>\n",
       "      <td>{'mip_focus': 0, 'cuts': 3, 'heuristics': 0.76...</td>\n",
       "      <td>None</td>\n",
       "    </tr>\n",
       "    <tr>\n",
       "      <th>...</th>\n",
       "      <td>...</td>\n",
       "      <td>...</td>\n",
       "      <td>...</td>\n",
       "      <td>...</td>\n",
       "    </tr>\n",
       "    <tr>\n",
       "      <th>395</th>\n",
       "      <td>75</td>\n",
       "      <td>96</td>\n",
       "      <td>{'mip_focus': 1, 'cuts': 2, 'heuristics': 0.58...</td>\n",
       "      <td>None</td>\n",
       "    </tr>\n",
       "    <tr>\n",
       "      <th>396</th>\n",
       "      <td>75</td>\n",
       "      <td>97</td>\n",
       "      <td>{'mip_focus': 1, 'cuts': 2, 'heuristics': 0.58...</td>\n",
       "      <td>None</td>\n",
       "    </tr>\n",
       "    <tr>\n",
       "      <th>397</th>\n",
       "      <td>75</td>\n",
       "      <td>98</td>\n",
       "      <td>{'mip_focus': 1, 'cuts': 2, 'heuristics': 0.58...</td>\n",
       "      <td>None</td>\n",
       "    </tr>\n",
       "    <tr>\n",
       "      <th>398</th>\n",
       "      <td>75</td>\n",
       "      <td>99</td>\n",
       "      <td>{'mip_focus': 1, 'cuts': 2, 'heuristics': 0.58...</td>\n",
       "      <td>None</td>\n",
       "    </tr>\n",
       "    <tr>\n",
       "      <th>399</th>\n",
       "      <td>75</td>\n",
       "      <td>100</td>\n",
       "      <td>{'mip_focus': 1, 'cuts': 2, 'heuristics': 0.58...</td>\n",
       "      <td>None</td>\n",
       "    </tr>\n",
       "  </tbody>\n",
       "</table>\n",
       "<p>400 rows × 4 columns</p>\n",
       "</div>"
      ],
      "text/plain": [
       "     QueueSize  ProblemNumber  \\\n",
       "0           25              1   \n",
       "1           25              2   \n",
       "2           25              3   \n",
       "3           25              4   \n",
       "4           25              5   \n",
       "..         ...            ...   \n",
       "395         75             96   \n",
       "396         75             97   \n",
       "397         75             98   \n",
       "398         75             99   \n",
       "399         75            100   \n",
       "\n",
       "                                       Hyperparameters ObjectiveValue  \n",
       "0    {'mip_focus': 0, 'cuts': 3, 'heuristics': 0.76...           None  \n",
       "1    {'mip_focus': 0, 'cuts': 3, 'heuristics': 0.76...           None  \n",
       "2    {'mip_focus': 0, 'cuts': 3, 'heuristics': 0.76...           None  \n",
       "3    {'mip_focus': 0, 'cuts': 3, 'heuristics': 0.76...           None  \n",
       "4    {'mip_focus': 0, 'cuts': 3, 'heuristics': 0.76...           None  \n",
       "..                                                 ...            ...  \n",
       "395  {'mip_focus': 1, 'cuts': 2, 'heuristics': 0.58...           None  \n",
       "396  {'mip_focus': 1, 'cuts': 2, 'heuristics': 0.58...           None  \n",
       "397  {'mip_focus': 1, 'cuts': 2, 'heuristics': 0.58...           None  \n",
       "398  {'mip_focus': 1, 'cuts': 2, 'heuristics': 0.58...           None  \n",
       "399  {'mip_focus': 1, 'cuts': 2, 'heuristics': 0.58...           None  \n",
       "\n",
       "[400 rows x 4 columns]"
      ]
     },
     "metadata": {},
     "output_type": "display_data"
    }
   ],
   "source": [
    "### ADAPT FOR STOCHASTIC OPTIMIZATION (runs only once to initiate)\n",
    "\n",
    "import pandas as pd\n",
    "\n",
    "# Define the range for QueueSize and ProblemNumber\n",
    "QUEUE_PROBLEM_RANGE = {\n",
    "    25: (1, 300),\n",
    "    75: (1, 100)\n",
    "}\n",
    "\n",
    "# Define the hyperparameter sets\n",
    "BEST_PARAMS = {  # change to the newest best per queue size\n",
    "    25: {'mip_focus': 0, 'cuts': 3, 'heuristics': 0.7684551530323259, 'presolve': 1, 'nanmean': False, 'delta_start': 818},\n",
    "    75: {'mip_focus': 1, 'cuts': 2, 'heuristics': 0.5851062188632922, 'presolve': 1, 'nanmean': False, 'delta_start': 2619}\n",
    "}\n",
    "\n",
    "# Generate all combinations\n",
    "run_plan_data = []\n",
    "for queue_size, (start, end) in QUEUE_PROBLEM_RANGE.items():\n",
    "    for problem_number in range(start, end + 1):\n",
    "        run_plan_data.append({\n",
    "            \"QueueSize\": queue_size,\n",
    "            \"ProblemNumber\": problem_number,\n",
    "            \"Hyperparameters\": BEST_PARAMS[queue_size],  # Assign hyperparameters based on QueueSize\n",
    "            \"ObjectiveValue\": None  # Placeholder for objective value (percent improvement to Traditional_SPT objective values)\n",
    "        })\n",
    "\n",
    "# Convert to DataFrame\n",
    "holdout_test_plan_stochastic = pd.DataFrame(run_plan_data)\n",
    "\n",
    "# Display the first few rows of the DataFrame for preview\n",
    "display(holdout_test_plan_stochastic)\n",
    "\n",
    "#holdout_test_plan_stochastic.to_pickle(f\"holdout_test_plan_stochastic.pkl\") ### commented out, do not overwrite\n"
   ]
  },
  {
   "cell_type": "code",
   "execution_count": 11,
   "id": "09ff9613-73d4-436c-9f46-083ef8b61fa3",
   "metadata": {
    "scrolled": true
   },
   "outputs": [
    {
     "name": "stdout",
     "output_type": "stream",
     "text": [
      "Running QueueSize: 75, ProblemNumber: 45, hyperparams: {'mip_focus': 1, 'cuts': 2, 'heuristics': 0.5851062188632922, 'presolve': 1, 'nanmean': False, 'delta_start': 2619}\n",
      "file_path used:ProblemSets/Queue75\n",
      "Saved! Sleeping... ZzzZ Zz...\n",
      "Running QueueSize: 75, ProblemNumber: 46, hyperparams: {'mip_focus': 1, 'cuts': 2, 'heuristics': 0.5851062188632922, 'presolve': 1, 'nanmean': False, 'delta_start': 2619}\n",
      "file_path used:ProblemSets/Queue75\n",
      "Saved! Sleeping... ZzzZ Zz...\n",
      "Running QueueSize: 75, ProblemNumber: 47, hyperparams: {'mip_focus': 1, 'cuts': 2, 'heuristics': 0.5851062188632922, 'presolve': 1, 'nanmean': False, 'delta_start': 2619}\n",
      "file_path used:ProblemSets/Queue75\n",
      "Saved! Sleeping... ZzzZ Zz...\n",
      "Running QueueSize: 75, ProblemNumber: 48, hyperparams: {'mip_focus': 1, 'cuts': 2, 'heuristics': 0.5851062188632922, 'presolve': 1, 'nanmean': False, 'delta_start': 2619}\n",
      "file_path used:ProblemSets/Queue75\n",
      "Saved! Sleeping... ZzzZ Zz...\n",
      "Running QueueSize: 75, ProblemNumber: 49, hyperparams: {'mip_focus': 1, 'cuts': 2, 'heuristics': 0.5851062188632922, 'presolve': 1, 'nanmean': False, 'delta_start': 2619}\n",
      "file_path used:ProblemSets/Queue75\n",
      "Saved! Sleeping... ZzzZ Zz...\n",
      "Running QueueSize: 75, ProblemNumber: 50, hyperparams: {'mip_focus': 1, 'cuts': 2, 'heuristics': 0.5851062188632922, 'presolve': 1, 'nanmean': False, 'delta_start': 2619}\n",
      "file_path used:ProblemSets/Queue75\n",
      "Saved! Sleeping... ZzzZ Zz...\n",
      "Running QueueSize: 75, ProblemNumber: 51, hyperparams: {'mip_focus': 1, 'cuts': 2, 'heuristics': 0.5851062188632922, 'presolve': 1, 'nanmean': False, 'delta_start': 2619}\n",
      "file_path used:ProblemSets/Queue75\n",
      "Saved! Sleeping... ZzzZ Zz...\n",
      "Running QueueSize: 75, ProblemNumber: 52, hyperparams: {'mip_focus': 1, 'cuts': 2, 'heuristics': 0.5851062188632922, 'presolve': 1, 'nanmean': False, 'delta_start': 2619}\n",
      "file_path used:ProblemSets/Queue75\n",
      "Saved! Sleeping... ZzzZ Zz...\n",
      "Running QueueSize: 75, ProblemNumber: 53, hyperparams: {'mip_focus': 1, 'cuts': 2, 'heuristics': 0.5851062188632922, 'presolve': 1, 'nanmean': False, 'delta_start': 2619}\n",
      "file_path used:ProblemSets/Queue75\n",
      "Saved! Sleeping... ZzzZ Zz...\n",
      "Running QueueSize: 75, ProblemNumber: 54, hyperparams: {'mip_focus': 1, 'cuts': 2, 'heuristics': 0.5851062188632922, 'presolve': 1, 'nanmean': False, 'delta_start': 2619}\n",
      "file_path used:ProblemSets/Queue75\n",
      "Saved! Sleeping... ZzzZ Zz...\n",
      "Running QueueSize: 75, ProblemNumber: 55, hyperparams: {'mip_focus': 1, 'cuts': 2, 'heuristics': 0.5851062188632922, 'presolve': 1, 'nanmean': False, 'delta_start': 2619}\n",
      "file_path used:ProblemSets/Queue75\n",
      "Saved! Sleeping... ZzzZ Zz...\n",
      "Running QueueSize: 75, ProblemNumber: 56, hyperparams: {'mip_focus': 1, 'cuts': 2, 'heuristics': 0.5851062188632922, 'presolve': 1, 'nanmean': False, 'delta_start': 2619}\n",
      "file_path used:ProblemSets/Queue75\n",
      "Saved! Sleeping... ZzzZ Zz...\n",
      "Running QueueSize: 75, ProblemNumber: 57, hyperparams: {'mip_focus': 1, 'cuts': 2, 'heuristics': 0.5851062188632922, 'presolve': 1, 'nanmean': False, 'delta_start': 2619}\n",
      "file_path used:ProblemSets/Queue75\n",
      "Saved! Sleeping... ZzzZ Zz...\n",
      "Running QueueSize: 75, ProblemNumber: 58, hyperparams: {'mip_focus': 1, 'cuts': 2, 'heuristics': 0.5851062188632922, 'presolve': 1, 'nanmean': False, 'delta_start': 2619}\n",
      "file_path used:ProblemSets/Queue75\n",
      "Saved! Sleeping... ZzzZ Zz...\n",
      "Running QueueSize: 75, ProblemNumber: 59, hyperparams: {'mip_focus': 1, 'cuts': 2, 'heuristics': 0.5851062188632922, 'presolve': 1, 'nanmean': False, 'delta_start': 2619}\n",
      "file_path used:ProblemSets/Queue75\n",
      "Saved! Sleeping... ZzzZ Zz...\n",
      "Running QueueSize: 75, ProblemNumber: 60, hyperparams: {'mip_focus': 1, 'cuts': 2, 'heuristics': 0.5851062188632922, 'presolve': 1, 'nanmean': False, 'delta_start': 2619}\n",
      "file_path used:ProblemSets/Queue75\n",
      "Saved! Sleeping... ZzzZ Zz...\n",
      "Running QueueSize: 75, ProblemNumber: 61, hyperparams: {'mip_focus': 1, 'cuts': 2, 'heuristics': 0.5851062188632922, 'presolve': 1, 'nanmean': False, 'delta_start': 2619}\n",
      "file_path used:ProblemSets/Queue75\n",
      "Saved! Sleeping... ZzzZ Zz...\n",
      "Running QueueSize: 75, ProblemNumber: 62, hyperparams: {'mip_focus': 1, 'cuts': 2, 'heuristics': 0.5851062188632922, 'presolve': 1, 'nanmean': False, 'delta_start': 2619}\n",
      "file_path used:ProblemSets/Queue75\n",
      "Saved! Sleeping... ZzzZ Zz...\n",
      "Running QueueSize: 75, ProblemNumber: 63, hyperparams: {'mip_focus': 1, 'cuts': 2, 'heuristics': 0.5851062188632922, 'presolve': 1, 'nanmean': False, 'delta_start': 2619}\n",
      "file_path used:ProblemSets/Queue75\n",
      "Saved! Sleeping... ZzzZ Zz...\n",
      "Running QueueSize: 75, ProblemNumber: 64, hyperparams: {'mip_focus': 1, 'cuts': 2, 'heuristics': 0.5851062188632922, 'presolve': 1, 'nanmean': False, 'delta_start': 2619}\n",
      "file_path used:ProblemSets/Queue75\n",
      "Saved! Sleeping... ZzzZ Zz...\n",
      "Running QueueSize: 75, ProblemNumber: 65, hyperparams: {'mip_focus': 1, 'cuts': 2, 'heuristics': 0.5851062188632922, 'presolve': 1, 'nanmean': False, 'delta_start': 2619}\n",
      "file_path used:ProblemSets/Queue75\n",
      "Saved! Sleeping... ZzzZ Zz...\n",
      "Running QueueSize: 75, ProblemNumber: 66, hyperparams: {'mip_focus': 1, 'cuts': 2, 'heuristics': 0.5851062188632922, 'presolve': 1, 'nanmean': False, 'delta_start': 2619}\n",
      "file_path used:ProblemSets/Queue75\n",
      "Saved! Sleeping... ZzzZ Zz...\n",
      "Running QueueSize: 75, ProblemNumber: 67, hyperparams: {'mip_focus': 1, 'cuts': 2, 'heuristics': 0.5851062188632922, 'presolve': 1, 'nanmean': False, 'delta_start': 2619}\n",
      "file_path used:ProblemSets/Queue75\n",
      "Saved! Sleeping... ZzzZ Zz...\n",
      "Running QueueSize: 75, ProblemNumber: 68, hyperparams: {'mip_focus': 1, 'cuts': 2, 'heuristics': 0.5851062188632922, 'presolve': 1, 'nanmean': False, 'delta_start': 2619}\n",
      "file_path used:ProblemSets/Queue75\n",
      "Saved! Sleeping... ZzzZ Zz...\n",
      "Running QueueSize: 75, ProblemNumber: 69, hyperparams: {'mip_focus': 1, 'cuts': 2, 'heuristics': 0.5851062188632922, 'presolve': 1, 'nanmean': False, 'delta_start': 2619}\n",
      "file_path used:ProblemSets/Queue75\n",
      "Saved! Sleeping... ZzzZ Zz...\n",
      "Running QueueSize: 75, ProblemNumber: 70, hyperparams: {'mip_focus': 1, 'cuts': 2, 'heuristics': 0.5851062188632922, 'presolve': 1, 'nanmean': False, 'delta_start': 2619}\n",
      "file_path used:ProblemSets/Queue75\n",
      "Saved! Sleeping... ZzzZ Zz...\n",
      "Running QueueSize: 75, ProblemNumber: 71, hyperparams: {'mip_focus': 1, 'cuts': 2, 'heuristics': 0.5851062188632922, 'presolve': 1, 'nanmean': False, 'delta_start': 2619}\n",
      "file_path used:ProblemSets/Queue75\n",
      "Saved! Sleeping... ZzzZ Zz...\n",
      "Running QueueSize: 75, ProblemNumber: 72, hyperparams: {'mip_focus': 1, 'cuts': 2, 'heuristics': 0.5851062188632922, 'presolve': 1, 'nanmean': False, 'delta_start': 2619}\n",
      "file_path used:ProblemSets/Queue75\n",
      "Saved! Sleeping... ZzzZ Zz...\n",
      "Running QueueSize: 75, ProblemNumber: 73, hyperparams: {'mip_focus': 1, 'cuts': 2, 'heuristics': 0.5851062188632922, 'presolve': 1, 'nanmean': False, 'delta_start': 2619}\n",
      "file_path used:ProblemSets/Queue75\n",
      "Saved! Sleeping... ZzzZ Zz...\n",
      "Running QueueSize: 75, ProblemNumber: 74, hyperparams: {'mip_focus': 1, 'cuts': 2, 'heuristics': 0.5851062188632922, 'presolve': 1, 'nanmean': False, 'delta_start': 2619}\n",
      "file_path used:ProblemSets/Queue75\n",
      "Saved! Sleeping... ZzzZ Zz...\n",
      "Running QueueSize: 75, ProblemNumber: 75, hyperparams: {'mip_focus': 1, 'cuts': 2, 'heuristics': 0.5851062188632922, 'presolve': 1, 'nanmean': False, 'delta_start': 2619}\n",
      "file_path used:ProblemSets/Queue75\n",
      "Saved! Sleeping... ZzzZ Zz...\n",
      "Running QueueSize: 75, ProblemNumber: 76, hyperparams: {'mip_focus': 1, 'cuts': 2, 'heuristics': 0.5851062188632922, 'presolve': 1, 'nanmean': False, 'delta_start': 2619}\n",
      "file_path used:ProblemSets/Queue75\n",
      "Saved! Sleeping... ZzzZ Zz...\n",
      "Running QueueSize: 75, ProblemNumber: 77, hyperparams: {'mip_focus': 1, 'cuts': 2, 'heuristics': 0.5851062188632922, 'presolve': 1, 'nanmean': False, 'delta_start': 2619}\n",
      "file_path used:ProblemSets/Queue75\n",
      "Saved! Sleeping... ZzzZ Zz...\n",
      "Running QueueSize: 75, ProblemNumber: 78, hyperparams: {'mip_focus': 1, 'cuts': 2, 'heuristics': 0.5851062188632922, 'presolve': 1, 'nanmean': False, 'delta_start': 2619}\n",
      "file_path used:ProblemSets/Queue75\n",
      "Saved! Sleeping... ZzzZ Zz...\n",
      "Running QueueSize: 75, ProblemNumber: 79, hyperparams: {'mip_focus': 1, 'cuts': 2, 'heuristics': 0.5851062188632922, 'presolve': 1, 'nanmean': False, 'delta_start': 2619}\n",
      "file_path used:ProblemSets/Queue75\n",
      "Saved! Sleeping... ZzzZ Zz...\n",
      "Running QueueSize: 75, ProblemNumber: 80, hyperparams: {'mip_focus': 1, 'cuts': 2, 'heuristics': 0.5851062188632922, 'presolve': 1, 'nanmean': False, 'delta_start': 2619}\n",
      "file_path used:ProblemSets/Queue75\n",
      "Saved! Sleeping... ZzzZ Zz...\n",
      "Running QueueSize: 75, ProblemNumber: 81, hyperparams: {'mip_focus': 1, 'cuts': 2, 'heuristics': 0.5851062188632922, 'presolve': 1, 'nanmean': False, 'delta_start': 2619}\n",
      "file_path used:ProblemSets/Queue75\n",
      "Saved! Sleeping... ZzzZ Zz...\n",
      "Running QueueSize: 75, ProblemNumber: 82, hyperparams: {'mip_focus': 1, 'cuts': 2, 'heuristics': 0.5851062188632922, 'presolve': 1, 'nanmean': False, 'delta_start': 2619}\n",
      "file_path used:ProblemSets/Queue75\n",
      "Saved! Sleeping... ZzzZ Zz...\n",
      "Running QueueSize: 75, ProblemNumber: 83, hyperparams: {'mip_focus': 1, 'cuts': 2, 'heuristics': 0.5851062188632922, 'presolve': 1, 'nanmean': False, 'delta_start': 2619}\n",
      "file_path used:ProblemSets/Queue75\n",
      "Saved! Sleeping... ZzzZ Zz...\n",
      "Running QueueSize: 75, ProblemNumber: 84, hyperparams: {'mip_focus': 1, 'cuts': 2, 'heuristics': 0.5851062188632922, 'presolve': 1, 'nanmean': False, 'delta_start': 2619}\n",
      "file_path used:ProblemSets/Queue75\n",
      "Saved! Sleeping... ZzzZ Zz...\n",
      "Running QueueSize: 75, ProblemNumber: 85, hyperparams: {'mip_focus': 1, 'cuts': 2, 'heuristics': 0.5851062188632922, 'presolve': 1, 'nanmean': False, 'delta_start': 2619}\n",
      "file_path used:ProblemSets/Queue75\n",
      "Saved! Sleeping... ZzzZ Zz...\n",
      "Running QueueSize: 75, ProblemNumber: 86, hyperparams: {'mip_focus': 1, 'cuts': 2, 'heuristics': 0.5851062188632922, 'presolve': 1, 'nanmean': False, 'delta_start': 2619}\n",
      "file_path used:ProblemSets/Queue75\n",
      "Saved! Sleeping... ZzzZ Zz...\n",
      "Running QueueSize: 75, ProblemNumber: 87, hyperparams: {'mip_focus': 1, 'cuts': 2, 'heuristics': 0.5851062188632922, 'presolve': 1, 'nanmean': False, 'delta_start': 2619}\n",
      "file_path used:ProblemSets/Queue75\n",
      "Saved! Sleeping... ZzzZ Zz...\n",
      "Running QueueSize: 75, ProblemNumber: 88, hyperparams: {'mip_focus': 1, 'cuts': 2, 'heuristics': 0.5851062188632922, 'presolve': 1, 'nanmean': False, 'delta_start': 2619}\n",
      "file_path used:ProblemSets/Queue75\n",
      "Saved! Sleeping... ZzzZ Zz...\n",
      "Running QueueSize: 75, ProblemNumber: 89, hyperparams: {'mip_focus': 1, 'cuts': 2, 'heuristics': 0.5851062188632922, 'presolve': 1, 'nanmean': False, 'delta_start': 2619}\n",
      "file_path used:ProblemSets/Queue75\n",
      "Saved! Sleeping... ZzzZ Zz...\n",
      "Running QueueSize: 75, ProblemNumber: 90, hyperparams: {'mip_focus': 1, 'cuts': 2, 'heuristics': 0.5851062188632922, 'presolve': 1, 'nanmean': False, 'delta_start': 2619}\n",
      "file_path used:ProblemSets/Queue75\n",
      "Saved! Sleeping... ZzzZ Zz...\n",
      "Running QueueSize: 75, ProblemNumber: 91, hyperparams: {'mip_focus': 1, 'cuts': 2, 'heuristics': 0.5851062188632922, 'presolve': 1, 'nanmean': False, 'delta_start': 2619}\n",
      "file_path used:ProblemSets/Queue75\n",
      "Saved! Sleeping... ZzzZ Zz...\n",
      "Running QueueSize: 75, ProblemNumber: 92, hyperparams: {'mip_focus': 1, 'cuts': 2, 'heuristics': 0.5851062188632922, 'presolve': 1, 'nanmean': False, 'delta_start': 2619}\n",
      "file_path used:ProblemSets/Queue75\n",
      "Saved! Sleeping... ZzzZ Zz...\n",
      "Running QueueSize: 75, ProblemNumber: 93, hyperparams: {'mip_focus': 1, 'cuts': 2, 'heuristics': 0.5851062188632922, 'presolve': 1, 'nanmean': False, 'delta_start': 2619}\n",
      "file_path used:ProblemSets/Queue75\n",
      "Saved! Sleeping... ZzzZ Zz...\n",
      "Running QueueSize: 75, ProblemNumber: 94, hyperparams: {'mip_focus': 1, 'cuts': 2, 'heuristics': 0.5851062188632922, 'presolve': 1, 'nanmean': False, 'delta_start': 2619}\n",
      "file_path used:ProblemSets/Queue75\n",
      "Saved! Sleeping... ZzzZ Zz...\n",
      "Running QueueSize: 75, ProblemNumber: 95, hyperparams: {'mip_focus': 1, 'cuts': 2, 'heuristics': 0.5851062188632922, 'presolve': 1, 'nanmean': False, 'delta_start': 2619}\n",
      "file_path used:ProblemSets/Queue75\n",
      "Saved! Sleeping... ZzzZ Zz...\n",
      "Running QueueSize: 75, ProblemNumber: 96, hyperparams: {'mip_focus': 1, 'cuts': 2, 'heuristics': 0.5851062188632922, 'presolve': 1, 'nanmean': False, 'delta_start': 2619}\n",
      "file_path used:ProblemSets/Queue75\n",
      "Saved! Sleeping... ZzzZ Zz...\n",
      "Running QueueSize: 75, ProblemNumber: 97, hyperparams: {'mip_focus': 1, 'cuts': 2, 'heuristics': 0.5851062188632922, 'presolve': 1, 'nanmean': False, 'delta_start': 2619}\n",
      "file_path used:ProblemSets/Queue75\n",
      "Saved! Sleeping... ZzzZ Zz...\n",
      "Running QueueSize: 75, ProblemNumber: 98, hyperparams: {'mip_focus': 1, 'cuts': 2, 'heuristics': 0.5851062188632922, 'presolve': 1, 'nanmean': False, 'delta_start': 2619}\n",
      "file_path used:ProblemSets/Queue75\n",
      "Saved! Sleeping... ZzzZ Zz...\n",
      "Running QueueSize: 75, ProblemNumber: 99, hyperparams: {'mip_focus': 1, 'cuts': 2, 'heuristics': 0.5851062188632922, 'presolve': 1, 'nanmean': False, 'delta_start': 2619}\n",
      "file_path used:ProblemSets/Queue75\n",
      "Saved! Sleeping... ZzzZ Zz...\n",
      "Running QueueSize: 75, ProblemNumber: 100, hyperparams: {'mip_focus': 1, 'cuts': 2, 'heuristics': 0.5851062188632922, 'presolve': 1, 'nanmean': False, 'delta_start': 2619}\n",
      "file_path used:ProblemSets/Queue75\n",
      "Saved! Sleeping... ZzzZ Zz...\n",
      "Run completed. Results saved to run plan file.\n"
     ]
    }
   ],
   "source": [
    "# adapt for STOCHASTIC OPTIMIZATION!!\n",
    "\n",
    "import pandas as pd\n",
    "import pickle\n",
    "import os\n",
    "import time\n",
    "\n",
    "def run_VRPsolver_with_plan(run_plan_file, training, sleep_time=0.25):\n",
    "    \"\"\"\n",
    "    Execute solver based on the run plan and save results incrementally to the same file.\n",
    "    \n",
    "    Args:\n",
    "        run_plan_file (str): Path to the run plan file (source and destination).\n",
    "        training (bool): Prefix for the loading of problem data (True is \"Training_\"; False is \"\")\n",
    "        sleep_time (float): Time to sleep between runs for fault tolerance.\n",
    "    \"\"\"\n",
    "    # Load run plan\n",
    "    with open(run_plan_file, \"rb\") as f:\n",
    "        run_plan_df = pickle.load(f)\n",
    "\n",
    "    # Ensure ObjectiveValue column exists\n",
    "    if \"ObjectiveValue\" not in run_plan_df.columns:\n",
    "        run_plan_df[\"ObjectiveValue\"] = None\n",
    "\n",
    "    # Iterate through runs\n",
    "    for idx, row in run_plan_df.iterrows():\n",
    "        # Skip already completed runs\n",
    "        if row[\"ObjectiveValue\"] is not None:\n",
    "            continue\n",
    "        \n",
    "        # Extract parameters\n",
    "        queue_size = row[\"QueueSize\"]\n",
    "        problem_number = row[\"ProblemNumber\"]\n",
    "        hyperparams = row[\"Hyperparameters\"]\n",
    "\n",
    "        print(f\"Running QueueSize: {queue_size}, ProblemNumber: {problem_number}, hyperparams: {hyperparams}\")\n",
    "        \n",
    "        # Load problem data\n",
    "        try:\n",
    "            problem_df, cost_matrix, warm_start_transition_matrix, traditional_SPT_obj_value = load_problem_data(queue_size, problem_number, training=training)\n",
    "\n",
    "            # Instantiate solver\n",
    "            solver = StochasticVRPSolver(\n",
    "                cost_matrix=cost_matrix,\n",
    "                problem_df=problem_df,\n",
    "                problemset_num=queue_size,\n",
    "                problem_num=problem_number,\n",
    "                warm_start=warm_start_transition_matrix,\n",
    "                debug=False,\n",
    "                stochastic_parameters={\n",
    "                    \"nanmean\": hyperparams.get(\"nanmean\"),  # Dynamically retrieve nanmean\n",
    "                },\n",
    "                hyperparams={\n",
    "                    **hyperparams,  # unpack hyperparameters\n",
    "                    \"time_limit\": 10, # seconds\n",
    "                    \"symmetry_breaking\": False, # based on learnings from deterministic optimization\n",
    "                    \"num_threads\": 23,\n",
    "                }\n",
    "            )\n",
    "\n",
    "            # Solve problem\n",
    "            solver.stochastic_iterative_solving() # critically needs to use the stochastic solving features\n",
    "            solution = solver.get_solution() # answers always result in deterministic solves, because next job is null\n",
    "\n",
    "            # Scoring\n",
    "            optimization_algorithm_obj_value = solution[\"objective_value\"]\n",
    "            if optimization_algorithm_obj_value is None:\n",
    "                improvement_relative_percent = -100  # Penalize infeasible solutions\n",
    "            else:\n",
    "                O, T = optimization_algorithm_obj_value, traditional_SPT_obj_value\n",
    "                improvement_relative_percent = (T - O) / max(T, 1e-4) * 100  # Avoid divide by zero\n",
    "\n",
    "            # Store result\n",
    "            run_plan_df.at[idx, \"ObjectiveValue\"] = improvement_relative_percent\n",
    "\n",
    "        except Exception as e:\n",
    "            print(f\"Error on QueueSize: {queue_size}, ProblemNumber: {problem_number} -> {e}\")\n",
    "            run_plan_df.at[idx, \"ObjectiveValue\"] = None  # Mark as incomplete\n",
    "            \n",
    "        # Save progress after each iteration\n",
    "        with open(run_plan_file, \"wb\") as f:\n",
    "            pickle.dump(run_plan_df, f)\n",
    "\n",
    "        # Sleep between iterations\n",
    "        print(\"Saved! Sleeping... ZzzZ Zz...\")\n",
    "        time.sleep(sleep_time)\n",
    "\n",
    "    print(\"Run completed. Results saved to run plan file.\")\n",
    "\n",
    "run_VRPsolver_with_plan(run_plan_file=\"holdout_test_plan_stochastic.pkl\",  ## CAREFUL HERE\n",
    "                        training =  False) # Training is False"
   ]
  },
  {
   "cell_type": "markdown",
   "id": "a89ff34e-ac1d-4536-9a3f-86a9b0ff8ed5",
   "metadata": {},
   "source": [
    "##### The above took 36 hours to evaluate"
   ]
  },
  {
   "cell_type": "code",
   "execution_count": null,
   "id": "da7047d0-f8de-46ea-b390-2f580f3a3967",
   "metadata": {},
   "outputs": [],
   "source": []
  },
  {
   "cell_type": "code",
   "execution_count": null,
   "id": "e4cac89d-3d7d-4cf2-bfb1-b790dc710e12",
   "metadata": {},
   "outputs": [],
   "source": []
  },
  {
   "cell_type": "code",
   "execution_count": null,
   "id": "3377a584-a823-4673-ace1-ac0c32ec59a1",
   "metadata": {},
   "outputs": [],
   "source": []
  },
  {
   "cell_type": "code",
   "execution_count": null,
   "id": "4fe67424-a355-4093-ab2f-f08ae2440b1f",
   "metadata": {},
   "outputs": [],
   "source": []
  },
  {
   "cell_type": "code",
   "execution_count": null,
   "id": "06d79cd0-1e3d-4c21-925f-03ff8110817a",
   "metadata": {},
   "outputs": [],
   "source": []
  },
  {
   "cell_type": "code",
   "execution_count": null,
   "id": "c9284aef-7a02-438d-aeb7-27ca19a9d9cd",
   "metadata": {},
   "outputs": [],
   "source": []
  },
  {
   "cell_type": "code",
   "execution_count": null,
   "id": "ae1440c7-bcda-403f-b7aa-dec0c19b8c4c",
   "metadata": {},
   "outputs": [],
   "source": []
  },
  {
   "cell_type": "code",
   "execution_count": null,
   "id": "10bb7064-72fb-4a6d-88ee-295f0509d96a",
   "metadata": {},
   "outputs": [],
   "source": []
  },
  {
   "cell_type": "markdown",
   "id": "996c9d2b-a82c-4130-8a09-62bdbae4e146",
   "metadata": {
    "jp-MarkdownHeadingCollapsed": true
   },
   "source": [
    "## Debugging capability with porting MILP model\n",
    "- To debug and ensure proper porting of the math optimization model, I would export the decision matrices and test them to see how they compared to an Excel Solverstudio version. This served as my baseline checker and helped with additions to debugging constraints."
   ]
  },
  {
   "cell_type": "code",
   "execution_count": 67,
   "id": "86d5886e-b8f6-42f0-a5d6-40434caaf3d7",
   "metadata": {},
   "outputs": [
    {
     "data": {
      "text/plain": [
       "[None, None]"
      ]
     },
     "execution_count": 67,
     "metadata": {},
     "output_type": "execute_result"
    }
   ],
   "source": [
    "# Lambda function to save each k slice to CSV (for testing out in Excel model)\n",
    "save_decision_slices = lambda decisions: [\n",
    "    # Loop over k to slice decisions array\n",
    "    pd.DataFrame(decisions[:, :, k])  # Convert kth slice to DataFrame\n",
    "    .to_csv(f'decision_xij{k + 1}.csv', index=False)  # Save DataFrame to CSV\n",
    "    for k in range(decisions.shape[2])  # Loop over k dimension\n",
    "]\n",
    "\n",
    "\n",
    "\n",
    "save_decision_slices(solution['decision_matrix'])\n"
   ]
  },
  {
   "cell_type": "code",
   "execution_count": 189,
   "id": "3b582aac-1222-4f5f-8be7-5cf7815d5ed9",
   "metadata": {},
   "outputs": [],
   "source": [
    "def export_cost_matrices_to_csv_with_ab(cost_matrix, a, b, filename='output.csv'):\n",
    "    \"\"\"\n",
    "    Exports 3D cost matrices and 1D vectors a and b to a CSV file.\n",
    "    \n",
    "    Parameters:\n",
    "    - cost_matrix (np.array): A 3D numpy array with dimensions (N, N, k) representing cost matrices.\n",
    "    - a (np.array): A 1D numpy array representing vector a.\n",
    "    - b (np.array): A 1D numpy array representing vector b.\n",
    "    - filename (str): Output CSV file name.\n",
    "    \"\"\"\n",
    "\n",
    "    # Ensure dimensions for a and b are consistent\n",
    "    assert a.shape[0] == b.shape[0], \"Arrays 'a' and 'b' must have the same length.\"\n",
    "\n",
    "    # Open the CSV file to write\n",
    "    with open(filename, 'w') as file:\n",
    "        \n",
    "        # Iterate through each k dimension (cost matrix slice)\n",
    "        for k in range(cost_matrix.shape[2]):\n",
    "            # Write the label for each cost matrix slice\n",
    "            file.write(f\"k={k}\\n\")\n",
    "            \n",
    "            # Write each row of the cost matrix slice for the current k\n",
    "            np.savetxt(file, cost_matrix[:, :, k], fmt='%d', delimiter=',')\n",
    "            file.write(\"\\n\")  # Separate slices with a newline\n",
    "\n",
    "        # Write labels for a and b\n",
    "        file.write(\"a,b\\n\")\n",
    "\n",
    "        # Concatenate a and b horizontally and write them to the file\n",
    "        ab_combined = np.column_stack((a, b))\n",
    "        np.savetxt(file, ab_combined, fmt='%d', delimiter=',')\n",
    "        print(\"Saved file\")"
   ]
  },
  {
   "cell_type": "code",
   "execution_count": 190,
   "id": "cdd20aa0-19fb-4097-a13f-4815515f260a",
   "metadata": {},
   "outputs": [
    {
     "name": "stdout",
     "output_type": "stream",
     "text": [
      "Saved file\n"
     ]
    }
   ],
   "source": [
    "export_cost_matrices_to_csv_with_ab(cost_matrix, a, b)"
   ]
  }
 ],
 "metadata": {
  "kernelspec": {
   "display_name": "Python 3 (ipykernel)",
   "language": "python",
   "name": "python3"
  },
  "language_info": {
   "codemirror_mode": {
    "name": "ipython",
    "version": 3
   },
   "file_extension": ".py",
   "mimetype": "text/x-python",
   "name": "python",
   "nbconvert_exporter": "python",
   "pygments_lexer": "ipython3",
   "version": "3.10.2"
  }
 },
 "nbformat": 4,
 "nbformat_minor": 5
}
